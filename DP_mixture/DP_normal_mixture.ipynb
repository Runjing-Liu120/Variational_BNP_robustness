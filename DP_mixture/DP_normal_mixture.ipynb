{
 "cells": [
  {
   "cell_type": "markdown",
   "metadata": {},
   "source": [
    "## Variational inference in Dirichlet Process Normal Mixture"
   ]
  },
  {
   "cell_type": "code",
   "execution_count": 1,
   "metadata": {
    "collapsed": false
   },
   "outputs": [],
   "source": [
    "import autograd\n",
    "import autograd.numpy as np\n",
    "import autograd.scipy as sp\n",
    "from autograd.scipy import special\n",
    "from autograd import grad, hessian, hessian_vector_product, hessian, jacobian\n",
    "\n",
    "import sys\n",
    "sys.path.append('../../LinearResponseVariationalBayes.py')\n",
    "\n",
    "from VariationalBayes.ParameterDictionary import ModelParamsDict\n",
    "from VariationalBayes.Parameters import ScalarParam, VectorParam, ArrayParam\n",
    "from VariationalBayes.MultinomialParams import SimplexParam\n",
    "from VariationalBayes.DirichletParams import DirichletParamArray\n",
    "from VariationalBayes.MatrixParameters import PosDefMatrixParam, PosDefMatrixParamVector\n",
    "from VariationalBayes.SparseObjectives import SparseObjective, Objective\n",
    "\n",
    "import DP_normal_mixture_lib as dp\n",
    "import DP_normal_mixture_opt_lib as dp_opt\n",
    "\n",
    "from copy import deepcopy\n",
    "\n",
    "from scipy import optimize\n",
    "\n",
    "import time\n",
    "\n",
    "import matplotlib.pyplot as plt\n",
    "%matplotlib inline  \n"
   ]
  },
  {
   "cell_type": "markdown",
   "metadata": {
    "collapsed": true
   },
   "source": [
    "# Generate Data"
   ]
  },
  {
   "cell_type": "code",
   "execution_count": 2,
   "metadata": {
    "collapsed": false,
    "scrolled": true
   },
   "outputs": [],
   "source": [
    "np.random.seed(3143)\n",
    "# np.random.seed(54325)\n",
    "\n",
    "# data parameters\n",
    "num_obs = 1000 # number of observations \n",
    "x_dim = 2 # dimension of observations\n",
    "k_true = 5 # true number of clusters\n",
    "\n",
    "info_x = 0.3 * np.eye(x_dim) \n",
    "\n",
    "x, true_mu, true_z, true_pi = dp.draw_data(info_x, x_dim, k_true, num_obs)\n",
    "\n",
    "\n",
    "# prior parameters\n",
    "alpha = 2.0 # DP parameter\n",
    "prior_mu = np.mean(x, axis = 0)\n",
    "prior_info = 0.1 * np.eye(x_dim)\n",
    "\n",
    "# variational truncation \n",
    "k_approx = 10 \n",
    "\n"
   ]
  },
  {
   "cell_type": "code",
   "execution_count": 3,
   "metadata": {
    "collapsed": false,
    "scrolled": true
   },
   "outputs": [
    {
     "name": "stdout",
     "output_type": "stream",
     "text": [
      "observed mixture proportions: \n",
      " [ 0.204  0.201  0.175  0.208  0.212]\n",
      "true mixture proportions: \n",
      " [ 0.2  0.2  0.2  0.2  0.2]\n"
     ]
    },
    {
     "data": {
      "image/png": "[encoded data removed]",
      "text/plain": [
       "<matplotlib.figure.Figure at 0x7fa2938bf860>"
      ]
     },
     "metadata": {},
     "output_type": "display_data"
    }
   ],
   "source": [
    "# visualize the data\n",
    "plt.plot(x[:,0], x[:,1], 'k.')\n",
    "for k in range(k_true):\n",
    "    plt.plot(true_mu[k, 0], true_mu[k, 1], 'ro')\n",
    "    \n",
    "print('observed mixture proportions: \\n', np.mean(true_z, axis = 0))\n",
    "print('true mixture proportions: \\n', true_pi)"
   ]
  },
  {
   "cell_type": "markdown",
   "metadata": {},
   "source": [
    "## Set up VB model"
   ]
  },
  {
   "cell_type": "code",
   "execution_count": 4,
   "metadata": {
    "collapsed": false
   },
   "outputs": [],
   "source": [
    "global_params = ModelParamsDict('global')\n",
    "global_params.push_param(\n",
    "    PosDefMatrixParamVector(name='info', length=k_approx, matrix_size=x_dim)) # variational variances\n",
    "global_params.push_param(\n",
    "    ArrayParam(name='mu', shape=(k_approx, x_dim))) # variational means\n",
    "global_params.push_param(\n",
    "    DirichletParamArray(name='v_sticks', shape=(k_approx - 1, 2))) # note the shape k_approx - 1 ...\n",
    "                                                                   # the last stick is always 1 in our approximation\n",
    "local_params = ModelParamsDict('local')\n",
    "local_params.push_param(\n",
    "    SimplexParam(name='e_z', shape=(num_obs, k_approx)))\n",
    "\n",
    "vb_params = ModelParamsDict('vb_params model')\n",
    "vb_params.push_param(global_params)\n",
    "vb_params.push_param(local_params)\n"
   ]
  },
  {
   "cell_type": "code",
   "execution_count": 5,
   "metadata": {
    "collapsed": false
   },
   "outputs": [],
   "source": [
    "prior_params = ModelParamsDict('prior_params')\n",
    "prior_params.push_param(VectorParam(name='prior_mu', size=x_dim, val=prior_mu))\n",
    "prior_params.push_param(PosDefMatrixParam(name='prior_info', size=x_dim, val=prior_info))\n",
    "prior_params.push_param(ScalarParam(name='alpha', val=alpha))\n",
    "prior_params.push_param(PosDefMatrixParam(name='info_x', size=x_dim, val=info_x))"
   ]
  },
  {
   "cell_type": "code",
   "execution_count": 6,
   "metadata": {
    "collapsed": false
   },
   "outputs": [],
   "source": [
    "model = dp.DPNormalMixture(x, vb_params, prior_params)"
   ]
  },
  {
   "cell_type": "markdown",
   "metadata": {},
   "source": [
    "## Initialize"
   ]
  },
  {
   "cell_type": "code",
   "execution_count": 7,
   "metadata": {
    "collapsed": false
   },
   "outputs": [],
   "source": [
    "## initialize VB params\n",
    "\n",
    "true_init = False\n",
    "\n",
    "if true_init: \n",
    "    true_tau = np.zeros(np.shape(vb_params['global']['v_sticks'].alpha.get()))\n",
    "    true_tau[:,0] = true_v[:-1] * 100\n",
    "    true_tau[:,1] = (1 - true_v[:-1]) * 100\n",
    "    vb_params['global']['v_sticks'].alpha.set(true_tau)\n",
    "\n",
    "    # vb_params['global']['mu'].set(true_mu)\n",
    "    mu_size = vb_params['global']['mu'].free_size()\n",
    "    vb_params['global']['mu'].set_free(np.random.random(mu_size))\n",
    "    \n",
    "    true_z_fudged = dp.soft_thresh(true_z, 1 - 10**(-8), 10**(-8))\n",
    "    vb_params['local']['e_z'].set(true_z_fudged)\n",
    "    # z_size = vb_params['local']['e_z'].free_size()\n",
    "    # vb_params['local']['e_z'].set_free(np.random.random(z_size))\n",
    "else: \n",
    "    vb_params.set_free(np.random.random(vb_params.free_size()))\n",
    "    \n",
    "init_free_params = vb_params.get_free()\n",
    "global_init_free_params = vb_params['global'].get_free()"
   ]
  },
  {
   "cell_type": "markdown",
   "metadata": {},
   "source": [
    "## Run CAVI "
   ]
  },
  {
   "cell_type": "code",
   "execution_count": 8,
   "metadata": {
    "collapsed": false,
    "scrolled": false
   },
   "outputs": [
    {
     "name": "stdout",
     "output_type": "stream",
     "text": [
      "CAVI terminated successfully :)\n",
      "iterations ran:  629\n",
      "elbo:  -44695.5287601\n"
     ]
    },
    {
     "data": {
      "image/png": "[encoded data removed]",
      "text/plain": [
       "<matplotlib.figure.Figure at 0x7fa2914ff7b8>"
      ]
     },
     "metadata": {},
     "output_type": "display_data"
    }
   ],
   "source": [
    "dp_opt.run_cavi(model, init_free_params, max_iter = 1000, tol = 1e-5, disp = False)\n",
    "cavi_results = deepcopy(model)\n",
    "print('elbo: ', cavi_results.get_kl())\n"
   ]
  },
  {
   "cell_type": "markdown",
   "metadata": {},
   "source": [
    "### examine results of CAVI"
   ]
  },
  {
   "cell_type": "code",
   "execution_count": 9,
   "metadata": {
    "collapsed": false
   },
   "outputs": [
    {
     "data": {
      "image/png": "[encoded data removed]",
      "text/plain": [
       "<matplotlib.figure.Figure at 0x7fa291453588>"
      ]
     },
     "metadata": {},
     "output_type": "display_data"
    },
    {
     "data": {
      "image/png": "[encoded data removed]",
      "text/plain": [
       "<matplotlib.figure.Figure at 0x7fa291493400>"
      ]
     },
     "metadata": {},
     "output_type": "display_data"
    }
   ],
   "source": [
    "# plot posterior predictive\n",
    "e_z = cavi_results.vb_params['local']['e_z'].get()\n",
    "mu = cavi_results.vb_params['global']['mu'].get()\n",
    "pred_x = np.dot(e_z, mu)\n",
    "for col in range(x_dim):\n",
    "    plt.clf()\n",
    "    plt.plot(pred_x[:, col], x[:, col], 'ko')\n",
    "    diag = np.linspace(np.min(pred_x[:,col]),np.max(pred_x[:,col]))\n",
    "    plt.plot(diag, diag)\n",
    "    plt.title('Posterior predictive, column' + str(col))\n",
    "    plt.xlabel('predicted X')\n",
    "    plt.ylabel('true X')\n",
    "    plt.show()\n"
   ]
  },
  {
   "cell_type": "code",
   "execution_count": 10,
   "metadata": {
    "collapsed": false,
    "scrolled": true
   },
   "outputs": [
    {
     "name": "stdout",
     "output_type": "stream",
     "text": [
      "true_proportions [ 0.2  0.2  0.2  0.2  0.2]\n",
      "estimated proportions:  [ 0.00103921  0.19411039  0.02098208  0.03772041  0.00103388  0.20613063\n",
      "  0.0010304   0.21145813  0.20225867  0.12423618] \n",
      "\n",
      "true number of clusters:  5\n",
      "number of \"posterior clusters\" (ie. no. clusters w/ siginifcant weights):  5\n",
      "recall variational truncation:  10\n"
     ]
    }
   ],
   "source": [
    "# lets look at the estimated mixture proportions\n",
    "\n",
    "tau = cavi_results.vb_params['global']['v_sticks'].alpha.get() \n",
    "post_stick_length = tau[:,0] / np.sum(tau, axis = 1) # mean posterior stick lengths\n",
    "\n",
    "# compute mixture proportions using mean posterior stick lengths\n",
    "post_pi = np.ones(k_approx)\n",
    "stick_remain = np.ones(k_approx - 1)\n",
    "for i in range(k_approx - 1):\n",
    "    post_pi[i] = stick_remain[i - 1] * post_stick_length[i]\n",
    "    stick_remain[i] = stick_remain[i - 1] * (1 - post_stick_length[i])\n",
    "post_pi[-1] = stick_remain[-1]\n",
    "assert(np.abs(np.sum(post_pi) - 1.) < 10**(-10))\n",
    "\n",
    "print('true_proportions', true_pi)\n",
    "print('estimated proportions: ', post_pi, '\\n')\n",
    "\n",
    "heavy_clusters = post_pi > 1 / k_approx # clusters with significant weights \n",
    "\n",
    "print('true number of clusters: ', k_true)\n",
    "print('number of \"posterior clusters\" (ie. no. clusters w/ siginifcant weights): ', np.sum(post_pi > 1 / k_approx))\n",
    "print('recall variational truncation: ', k_approx)"
   ]
  },
  {
   "cell_type": "code",
   "execution_count": 11,
   "metadata": {
    "collapsed": false
   },
   "outputs": [
    {
     "name": "stdout",
     "output_type": "stream",
     "text": [
      "true means: \n",
      "[[ 0  0]\n",
      " [ 5  5]\n",
      " [10 10]\n",
      " [15 15]\n",
      " [20 20]] \n",
      "\n",
      "relevant posterior means (ie. posterior means for clusters with significant weights): \n",
      "[[  4.92424825e+00   5.10055368e+00]\n",
      " [  1.49641772e+01   1.49151451e+01]\n",
      " [  1.99869378e+01   1.99373862e+01]\n",
      " [  6.56068591e-02  -1.16303037e-02]\n",
      " [  9.85546129e+00   9.58329301e+00]]\n"
     ]
    }
   ],
   "source": [
    "# lets look at posterior means\n",
    "print('true means: ')\n",
    "print(true_mu, '\\n')\n",
    "\n",
    "print('relevant posterior means (ie. posterior means for clusters with significant weights): ')\n",
    "print(cavi_results.vb_params['global']['mu'].get()[heavy_clusters, :])"
   ]
  },
  {
   "cell_type": "markdown",
   "metadata": {},
   "source": [
    "## Newton Optimization"
   ]
  },
  {
   "cell_type": "code",
   "execution_count": null,
   "metadata": {
    "collapsed": false
   },
   "outputs": [],
   "source": [
    "kl_obj = Objective(model.vb_params['global'], model.kl_optimize_z)"
   ]
  },
  {
   "cell_type": "code",
   "execution_count": null,
   "metadata": {
    "collapsed": false,
    "scrolled": false
   },
   "outputs": [],
   "source": [
    "def minimize_kl(kl_obj, init_x, maxiter = 50, gtol = 1e-6, disp = True):\n",
    "    vb_opt = optimize.minimize(\n",
    "        kl_obj.fun_free,\n",
    "        x0=init_x,\n",
    "        jac=kl_obj.fun_free_grad,\n",
    "        hessp=kl_obj.fun_free_hvp,\n",
    "        method='trust-ncg', options={'maxiter': maxiter, 'gtol': gtol, 'disp': disp})\n",
    "\n",
    "    print('done :o')\n",
    "    return vb_opt\n",
    "\n",
    "newton_tr_init = cavi_results.vb_params['global'].get_free() # initialize with result from CAVI\n",
    "newton_tr_opt = minimize_kl(kl_obj, newton_tr_init) # run Newton"
   ]
  },
  {
   "cell_type": "code",
   "execution_count": null,
   "metadata": {
    "collapsed": true
   },
   "outputs": [],
   "source": [
    "model.vb_params['global'].set_free(newton_tr_opt.x)\n",
    "model.set_optimal_z()\n",
    "\n",
    "newton_results = deepcopy(model)"
   ]
  },
  {
   "cell_type": "code",
   "execution_count": null,
   "metadata": {
    "collapsed": false
   },
   "outputs": [],
   "source": [
    "# checking the optima\n",
    "\n",
    "print('minimizing function value', newton_results.get_kl())\n",
    "\n",
    "# check that the gradient is close to 0\n",
    "kl_grad = kl_obj.fun_free_grad(newton_tr_opt.x)\n",
    "# print(kl_grad)\n",
    "print('L_inf norm of gradient: ', np.max(np.abs(kl_grad)))\n",
    "\n",
    "t0 = time.time()\n",
    "kl_hessian = kl_obj.fun_free_hessian(newton_tr_opt.x)\n",
    "hessian_time = time.time() - t0\n",
    "\n",
    "hessian_evals = np.linalg.eigvals(kl_hessian)\n",
    "\n",
    "print('time to compute Hessian (sec): ', hessian_time)\n",
    "# print('eigenvalues: \\n', hessian_evals)\n",
    "print('Hessian eigenvalues all positive: ', np.all(hessian_evals > 0))\n",
    "print('distance (l2) to minimizer of quadratic approx. : ', np.linalg.norm(-np.linalg.solve(kl_hessian, kl_grad)))"
   ]
  },
  {
   "cell_type": "code",
   "execution_count": null,
   "metadata": {
    "collapsed": false,
    "scrolled": false
   },
   "outputs": [],
   "source": [
    "# plot posterior predictive\n",
    "e_z = newton_results.vb_params['local']['e_z'].get()\n",
    "mu = newton_results.vb_params['global']['mu'].get()\n",
    "pred_x = np.dot(e_z, mu)\n",
    "for col in range(x_dim):\n",
    "    plt.clf()\n",
    "    plt.plot(pred_x[:, col], x[:, col], 'ko')\n",
    "    diag = np.linspace(np.min(pred_x[:,col]),np.max(pred_x[:,col]))\n",
    "    plt.plot(diag, diag)\n",
    "    plt.title('Posterior predictive, column' + str(col))\n",
    "    plt.xlabel('predicted X')\n",
    "    plt.ylabel('true X')\n",
    "    plt.show()\n"
   ]
  },
  {
   "cell_type": "code",
   "execution_count": null,
   "metadata": {
    "collapsed": false
   },
   "outputs": [],
   "source": [
    "# compare CAVI with Newton_tr\n",
    "print(cavi_results.vb_params['global']['mu'].get())\n",
    "print(newton_results.vb_params['global']['mu'].get())\n",
    "\n",
    "print('l1 difference between means: ', \\\n",
    "      np.sum(np.abs(cavi_results.vb_params['global']['mu'].get() - newton_results.vb_params['global']['mu'].get())))"
   ]
  },
  {
   "cell_type": "code",
   "execution_count": null,
   "metadata": {
    "collapsed": false
   },
   "outputs": [],
   "source": [
    "print('l1 difference (normalized) between all params: ', \\\n",
    "      np.mean(np.abs(cavi_results.vb_params.get_free() - newton_results.vb_params.get_free())))"
   ]
  },
  {
   "cell_type": "markdown",
   "metadata": {},
   "source": [
    "## Parametric sensitivity analysis\n",
    "In particular, we are interested in the sensitivity of the posterior stick lengths to our choice of DP parameter $\\alpha$"
   ]
  },
  {
   "cell_type": "code",
   "execution_count": 19,
   "metadata": {
    "collapsed": false
   },
   "outputs": [],
   "source": [
    "class DPNormalMixtureLRVB(object): \n",
    "    def __init__(self, model): \n",
    "        self.model = deepcopy(model)\n",
    "        self.alpha = model.alpha\n",
    "        \n",
    "        self.get_moment_jac = autograd.jacobian(self.get_interesting_moments)        \n",
    "        self.get_kl_hessian = autograd.hessian(self.kl, argnum = 0)\n",
    "        \n",
    "        self.get_kl_jac = autograd.jacobian(self.kl, argnum = 0)\n",
    "        self.get_alpha_jac = autograd.jacobian(self.get_kl_jac, argnum = 1)\n",
    "        \n",
    "    def get_interesting_moments(self, global_free_params):\n",
    "        self.model.vb_params['global'].set_free(global_free_params)  \n",
    "        \n",
    "        # returning average of the v_sticks\n",
    "        return self.model.vb_params['global']['v_sticks'].e()[:,0]\n",
    "    \n",
    "    def kl(self, global_free_params, alpha):\n",
    "        self.model.vb_params['global'].set_free(global_free_params)\n",
    "        self.model.alpha = alpha\n",
    "        \n",
    "        return self.model.kl_optimize_z()\n",
    "    \n",
    "    def get_alpha_sensitivity(self, optimal_global_free_params): \n",
    "        moment_jac = self.get_moment_jac(optimal_global_free_params)\n",
    "        kl_hessian = self.get_kl_hessian(optimal_global_free_params, self.alpha)\n",
    "        \n",
    "        sensitivity_operator = np.linalg.solve(kl_hessian, moment_jac.T)\n",
    "                                               \n",
    "        alpha_jac = self.get_alpha_jac(optimal_global_free_params, self.alpha)\n",
    "\n",
    "        return np.dot(sensitivity_operator.T, -1 * alpha_jac)\n",
    "\n"
   ]
  },
  {
   "cell_type": "code",
   "execution_count": 20,
   "metadata": {
    "collapsed": false
   },
   "outputs": [],
   "source": [
    "lrvb_obj = DPNormalMixtureLRVB(model)"
   ]
  },
  {
   "cell_type": "code",
   "execution_count": 21,
   "metadata": {
    "collapsed": false
   },
   "outputs": [
    {
     "name": "stdout",
     "output_type": "stream",
     "text": [
      "sensitivity of mean stick lengths to alpha: \n",
      "predicted_sensitivity: \n",
      " [ -7.35405809e-07  -2.76615861e-04  -1.31532840e-06  -1.31492733e-06\n",
      "  -1.31452640e-06  -4.14611753e-04  -2.69326467e-06  -6.95906424e-04\n",
      "  -1.65291999e-03]\n"
     ]
    }
   ],
   "source": [
    "print('sensitivity of mean stick lengths to alpha: ')\n",
    "predicted_sensitivity = lrvb_obj.get_alpha_sensitivity(newton_tr_opt.x)\n",
    "\n",
    "print('predicted_sensitivity: \\n', predicted_sensitivity)"
   ]
  },
  {
   "cell_type": "markdown",
   "metadata": {},
   "source": [
    "### Lets check this sensitivity by perturbing alpha"
   ]
  },
  {
   "cell_type": "code",
   "execution_count": 22,
   "metadata": {
    "collapsed": false,
    "scrolled": false
   },
   "outputs": [
    {
     "name": "stdout",
     "output_type": "stream",
     "text": [
      "Optimization terminated successfully.\n",
      "         Current function value: -44424.189004\n",
      "         Iterations: 9\n",
      "         Function evaluations: 10\n",
      "         Gradient evaluations: 10\n",
      "         Hessian evaluations: 0\n",
      "done\n"
     ]
    }
   ],
   "source": [
    "epsilon = 100 # how much we will perturb alpha\n",
    "\n",
    "model_perturbed = deepcopy(model)\n",
    "model_perturbed.alpha = alpha + epsilon # perturb dp parameter\n",
    "\n",
    "# define new objective\n",
    "kl_obj_perturbed = Objective(model_perturbed.vb_params['global'], model_perturbed.kl_optimize_z)\n",
    "\n",
    "# find new optima\n",
    "newton_tr_opt_perturbed = minimize_kl(kl_obj_perturbed, newton_tr_opt.x, gtol = 10**(-6))\n"
   ]
  },
  {
   "cell_type": "code",
   "execution_count": 23,
   "metadata": {
    "collapsed": false,
    "scrolled": true
   },
   "outputs": [
    {
     "name": "stdout",
     "output_type": "stream",
     "text": [
      "L_inf norm of gradient:  2.09446719685e-07\n",
      "time to compute Hessian (sec):  7.807542562484741\n",
      "Hessian evals all positive:  True\n",
      "distance (l2) to minimizer of quadratic approx. :  1.1448196477e-06\n"
     ]
    }
   ],
   "source": [
    "# checking the optima\n",
    "\n",
    "# check that the gradient is close to 0\n",
    "kl_grad = kl_obj_perturbed.fun_free_grad(newton_tr_opt_perturbed.x)\n",
    "# print(kl_grad)\n",
    "print('L_inf norm of gradient: ', np.max(np.abs(kl_grad)))\n",
    "\n",
    "t0 = time.time()\n",
    "kl_hessian = kl_obj_perturbed.fun_free_hessian(newton_tr_opt_perturbed.x)\n",
    "hessian_time = time.time() - t0\n",
    "\n",
    "hessian_evals = np.linalg.eigvals(kl_hessian)\n",
    "\n",
    "print('time to compute Hessian (sec): ', hessian_time)\n",
    "# print('eigenvalues: \\n', hessian_evals)\n",
    "print('Hessian evals all positive: ', np.all(hessian_evals > 0))\n",
    "print('distance (l2) to minimizer of quadratic approx. : ', np.linalg.norm(-np.linalg.solve(kl_hessian, kl_grad)))"
   ]
  },
  {
   "cell_type": "code",
   "execution_count": 24,
   "metadata": {
    "collapsed": false
   },
   "outputs": [
    {
     "name": "stdout",
     "output_type": "stream",
     "text": [
      "predicted_sensitivity: \n",
      " [ -7.35405809e-07  -2.76615861e-04  -1.31532840e-06  -1.31492733e-06\n",
      "  -1.31452640e-06  -4.14611753e-04  -2.69326467e-06  -6.95906424e-04\n",
      "  -1.65291999e-03]\n",
      "true sensitivity: \n",
      " [ -7.10024556e-07  -2.32625035e-04  -1.18628961e-06  -1.18601897e-06\n",
      "  -1.18574702e-06  -3.49248473e-04  -2.26807583e-06  -5.69865820e-04\n",
      "  -1.24149849e-03]\n"
     ]
    }
   ],
   "source": [
    "# check new means\n",
    "model_perturbed.vb_params['global'].set_free(newton_tr_opt_perturbed.x) \n",
    "\n",
    "perturbed_mean = model_perturbed.vb_params['global']['v_sticks'].e()[:,0]\n",
    "old_mean = model.vb_params['global']['v_sticks'].e()[:,0]\n",
    "\n",
    "print('predicted_sensitivity: \\n', predicted_sensitivity)\n",
    "print('true sensitivity: \\n', (perturbed_mean - old_mean) / epsilon)"
   ]
  },
  {
   "cell_type": "markdown",
   "metadata": {},
   "source": [
    "### Let us check the linearity of the perturbation in alpha"
   ]
  },
  {
   "cell_type": "code",
   "execution_count": 26,
   "metadata": {
    "collapsed": false,
    "scrolled": false
   },
   "outputs": [
    {
     "name": "stdout",
     "output_type": "stream",
     "text": [
      "0.5\n",
      "done\n",
      "true sensitivity: \n",
      " [ -7.35496580e-07  -2.77497295e-04  -1.31736154e-06  -1.31691700e-06\n",
      "  -1.31657689e-06  -4.15901383e-04  -2.70114699e-06  -6.98372912e-04\n",
      "  -1.66153896e-03]\n",
      "1.0\n",
      "done\n",
      "true sensitivity: \n",
      " [ -7.35469114e-07  -2.77202306e-04  -1.31666763e-06  -1.31620614e-06\n",
      "  -1.31590175e-06  -4.15469814e-04  -2.69853536e-06  -6.97547916e-04\n",
      "  -1.65865416e-03]\n",
      "1.5\n",
      "done\n",
      "true sensitivity: \n",
      " [ -7.35675563e-07  -2.76909088e-04  -1.31637756e-06  -1.31585922e-06\n",
      "  -1.31564637e-06  -4.15040384e-04  -2.69667080e-06  -6.96725635e-04\n",
      "  -1.65578130e-03]\n",
      "2.0\n",
      "done\n",
      "true sensitivity: \n",
      " [ nan  nan  nan  nan  nan  nan  nan  nan  nan]\n",
      "2.5\n"
     ]
    },
    {
     "name": "stderr",
     "output_type": "stream",
     "text": [
      "/home/runjing_liu/anaconda3/lib/python3.6/site-packages/ipykernel/__main__.py:23: RuntimeWarning: invalid value encountered in true_divide\n"
     ]
    },
    {
     "name": "stdout",
     "output_type": "stream",
     "text": [
      "done\n",
      "true sensitivity: \n",
      " [ -7.35611448e-07  -2.76324901e-04  -1.31517397e-06  -1.31488757e-06\n",
      "  -1.31427544e-06  -4.14185921e-04  -2.69142995e-06  -6.95090481e-04\n",
      "  -1.65007037e-03]\n",
      "3.0\n",
      "done\n",
      "true sensitivity: \n",
      " [ -7.35334026e-07  -2.76033817e-04  -1.31399565e-06  -1.31365314e-06\n",
      "  -1.31315419e-06  -4.13759747e-04  -2.68804182e-06  -6.94275716e-04\n",
      "  -1.64723272e-03]\n",
      "3.5\n",
      "done\n",
      "true sensitivity: \n",
      " [ -7.35299340e-07  -2.75744304e-04  -1.31329838e-06  -1.31293627e-06\n",
      "  -1.31246956e-06  -4.13335706e-04  -2.68542792e-06  -6.93464171e-04\n",
      "  -1.64440646e-03]\n",
      "4.0\n",
      "done\n",
      "true sensitivity: \n",
      " [ -7.35262494e-07  -2.75455895e-04  -1.31260806e-06  -1.31223900e-06\n",
      "  -1.31179343e-06  -4.12913206e-04  -2.68284264e-06  -6.92655311e-04\n",
      "  -1.64159169e-03]\n",
      "4.5\n",
      "done\n",
      "true sensitivity: \n",
      " [ -7.35223701e-07  -2.75168552e-04  -1.31192138e-06  -1.31154756e-06\n",
      "  -1.31111284e-06  -4.12492186e-04  -2.68025583e-06  -6.91849079e-04\n",
      "  -1.63878828e-03]\n",
      "5.0\n",
      "done\n",
      "true sensitivity: \n",
      " [ -7.35183174e-07  -2.74882266e-04  -1.31123602e-06  -1.31085932e-06\n",
      "  -1.31043216e-06  -4.12072625e-04  -2.67767501e-06  -6.91045453e-04\n",
      "  -1.63599616e-03]\n",
      "5.5\n",
      "done\n",
      "true sensitivity: \n",
      " [ -7.35141016e-07  -2.74597026e-04  -1.31055154e-06  -1.31017306e-06\n",
      "  -1.30975153e-06  -4.11654509e-04  -2.67510031e-06  -6.90244413e-04\n",
      "  -1.63321524e-03]\n",
      "6.0\n",
      "done\n",
      "true sensitivity: \n",
      " [ -7.35097263e-07  -2.74312824e-04  -1.30986769e-06  -1.30948811e-06\n",
      "  -1.30907101e-06  -4.11237823e-04  -2.67253178e-06  -6.89445938e-04\n",
      "  -1.63044546e-03]\n",
      "6.5\n",
      "done\n",
      "true sensitivity: \n",
      " [ -7.35051973e-07  -2.74029648e-04  -1.30918437e-06  -1.30880413e-06\n",
      "  -1.30839063e-06  -4.10822555e-04  -2.66996938e-06  -6.88650012e-04\n",
      "  -1.62768671e-03]\n",
      "7.0\n",
      "done\n",
      "true sensitivity: \n",
      " [ -7.35005143e-07  -2.73747492e-04  -1.30850145e-06  -1.30812086e-06\n",
      "  -1.30771044e-06  -4.10408693e-04  -2.66741310e-06  -6.87856614e-04\n",
      "  -1.62493892e-03]\n",
      "7.5\n",
      "done\n",
      "true sensitivity: \n",
      " [ -7.34957988e-07  -2.73466348e-04  -1.30782249e-06  -1.30744155e-06\n",
      "  -1.30703234e-06  -4.09996231e-04  -2.66487162e-06  -6.87065731e-04\n",
      "  -1.62220205e-03]\n",
      "8.0\n",
      "done\n",
      "true sensitivity: \n",
      " [ -7.34908310e-07  -2.73186205e-04  -1.30714044e-06  -1.30675956e-06\n",
      "  -1.30635273e-06  -4.09585149e-04  -2.66232787e-06  -6.86277343e-04\n",
      "  -1.61947596e-03]\n",
      "8.5\n",
      "done\n",
      "true sensitivity: \n",
      " [ -7.34856366e-07  -2.72907055e-04  -1.30645514e-06  -1.30607506e-06\n",
      "  -1.30567138e-06  -4.09175438e-04  -2.65978123e-06  -6.85491429e-04\n",
      "  -1.61676062e-03]\n",
      "9.0\n",
      "done\n",
      "true sensitivity: \n",
      " [ -7.34803638e-07  -2.72628892e-04  -1.30577347e-06  -1.30539391e-06\n",
      "  -1.30499143e-06  -4.08767093e-04  -2.65725058e-06  -6.84707979e-04\n",
      "  -1.61405594e-03]\n",
      "9.5\n",
      "done\n",
      "true sensitivity: \n",
      " [ -7.34749466e-07  -2.72351707e-04  -1.30509229e-06  -1.30471305e-06\n",
      "  -1.30431242e-06  -4.08360100e-04  -2.65472504e-06  -6.83926973e-04\n",
      "  -1.61136184e-03]\n"
     ]
    }
   ],
   "source": [
    "alphas_new = np.arange(0.5, 10, 0.5) # the range with which we will evaluate alpha\n",
    "\n",
    "\n",
    "opt_perturbed = deepcopy(newton_tr_opt)\n",
    "\n",
    "perturbed_means = np.zeros((len(alphas_new), k_approx - 1))\n",
    "\n",
    "for i in range(len(alphas_new)): \n",
    "    print(alphas_new[i])\n",
    "    model_perturbed = deepcopy(model)\n",
    "    model_perturbed.alpha  = alphas_new[i] # perturb dp parameter\n",
    "\n",
    "    # define new objective\n",
    "    kl_obj_perturbed = Objective(model_perturbed.vb_params['global'], model_perturbed.kl_optimize_z)\n",
    "\n",
    "    # find new optima\n",
    "    opt_perturbed = minimize_kl(kl_obj_perturbed, newton_tr_opt.x, gtol = 10**(-6), disp = False)\n",
    "    \n",
    "    # check new means\n",
    "    model_perturbed.vb_params['global'].set_free(opt_perturbed.x) \n",
    "\n",
    "    perturbed_means[i, :] = model_perturbed.vb_params['global']['v_sticks'].e()[:,0]\n",
    "    print('true sensitivity: \\n', (perturbed_means[i, :] - old_mean) / (alphas_new[i] - alpha))\n",
    "    "
   ]
  },
  {
   "cell_type": "code",
   "execution_count": 27,
   "metadata": {
    "collapsed": false
   },
   "outputs": [
    {
     "ename": "SyntaxError",
     "evalue": "invalid syntax (<ipython-input-27-166728a3f254>, line 1)",
     "output_type": "error",
     "traceback": [
      "\u001b[0;36m  File \u001b[0;32m\"<ipython-input-27-166728a3f254>\"\u001b[0;36m, line \u001b[0;32m1\u001b[0m\n\u001b[0;31m    predicted_sensitivity:\u001b[0m\n\u001b[0m                           ^\u001b[0m\n\u001b[0;31mSyntaxError\u001b[0m\u001b[0;31m:\u001b[0m invalid syntax\n"
     ]
    }
   ],
   "source": [
    "predicted_sensitivity: \n",
    " [ -7.35405810e-07  -2.76615861e-04  -1.31532840e-06  -1.31492733e-06\n",
    "  -1.31452640e-06  -4.14611752e-04  -2.69326467e-06  -6.95906422e-04\n",
    "  -1.65291999e-03]"
   ]
  },
  {
   "cell_type": "code",
   "execution_count": 28,
   "metadata": {
    "collapsed": false
   },
   "outputs": [
    {
     "data": {
      "text/plain": [
       "<matplotlib.text.Text at 0x7fd357e68198>"
      ]
     },
     "execution_count": 28,
     "metadata": {},
     "output_type": "execute_result"
    },
    {
     "data": {
      "image/png": "[encoded data removed]",
      "text/plain": [
       "<matplotlib.figure.Figure at 0x7fd357e85630>"
      ]
     },
     "metadata": {},
     "output_type": "display_data"
    }
   ],
   "source": [
    "k = 2 # choose your stick\n",
    "\n",
    "# plot posterior v_sticks against alpha\n",
    "plt.plot(alphas_new, perturbed_means[:, k], 'ko')\n",
    "\n",
    "# plot the LRVB approximation\n",
    "x_axis = np.linspace(np.min(alphas_new), np.max(alphas_new), 100)\n",
    "plt.plot(x_axis, predicted_sensitivity[k] * (x_axis - alpha) + old_mean[k])\n",
    "plt.xlabel('alpha')\n",
    "plt.ylabel('posterior stick length')"
   ]
  },
  {
   "cell_type": "code",
   "execution_count": null,
   "metadata": {
    "collapsed": true
   },
   "outputs": [],
   "source": []
  }
 ],
 "metadata": {
  "kernelspec": {
   "display_name": "Python 3",
   "language": "python",
   "name": "python3"
  },
  "language_info": {
   "codemirror_mode": {
    "name": "ipython",
    "version": 3
   },
   "file_extension": ".py",
   "mimetype": "text/x-python",
   "name": "python",
   "nbconvert_exporter": "python",
   "pygments_lexer": "ipython3",
   "version": "3.6.0"
  }
 },
 "nbformat": 4,
 "nbformat_minor": 2
}
