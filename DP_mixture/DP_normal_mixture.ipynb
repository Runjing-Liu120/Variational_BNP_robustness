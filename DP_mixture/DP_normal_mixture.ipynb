{
 "cells": [
  {
   "cell_type": "markdown",
   "metadata": {},
   "source": [
    "## Variational inference in Dirichlet Process Normal Mixture"
   ]
  },
  {
   "cell_type": "code",
   "execution_count": 1,
   "metadata": {
    "collapsed": false
   },
   "outputs": [],
   "source": [
    "import autograd\n",
    "import autograd.numpy as np\n",
    "import autograd.scipy as sp\n",
    "from autograd.scipy import special\n",
    "from autograd import grad, hessian, hessian_vector_product, hessian, jacobian\n",
    "\n",
    "import sys\n",
    "sys.path.append('../../LinearResponseVariationalBayes.py')\n",
    "\n",
    "from VariationalBayes.ParameterDictionary import ModelParamsDict\n",
    "from VariationalBayes.Parameters import ScalarParam, VectorParam, ArrayParam\n",
    "from VariationalBayes.MultinomialParams import SimplexParam\n",
    "from VariationalBayes.DirichletParams import DirichletParamArray\n",
    "from VariationalBayes.MatrixParameters import PosDefMatrixParam, PosDefMatrixParamVector\n",
    "from VariationalBayes.SparseObjectives import SparseObjective, Objective\n",
    "\n",
    "import DP_normal_mixture_lib as dp\n",
    "import DP_normal_mixture_opt_lib as dp_opt\n",
    "\n",
    "from copy import deepcopy\n",
    "\n",
    "from scipy import optimize\n",
    "\n",
    "import time\n",
    "\n",
    "import matplotlib.pyplot as plt\n",
    "%matplotlib inline  \n"
   ]
  },
  {
   "cell_type": "markdown",
   "metadata": {
    "collapsed": true
   },
   "source": [
    "# Generate Data"
   ]
  },
  {
   "cell_type": "code",
   "execution_count": 2,
   "metadata": {
    "collapsed": false,
    "scrolled": true
   },
   "outputs": [],
   "source": [
    "np.random.seed(3143)\n",
    "\n",
    "# data parameters\n",
    "num_obs = 1000 # number of observations \n",
    "x_dim = 2 # dimension of observations\n",
    "k_true = 5 # true number of clusters\n",
    "\n",
    "info_x = 0.3 * np.eye(x_dim) \n",
    "\n",
    "x, true_mu, true_z, true_pi = dp.draw_data(info_x, x_dim, k_true, num_obs)\n",
    "\n",
    "\n",
    "# prior parameters\n",
    "alpha = 2.0 # DP parameter\n",
    "prior_mu = np.mean(x, axis = 0)\n",
    "prior_info = 0.1 * np.eye(x_dim)\n",
    "\n",
    "# variational truncation \n",
    "k_approx = 10 \n",
    "\n"
   ]
  },
  {
   "cell_type": "code",
   "execution_count": 3,
   "metadata": {
    "collapsed": false,
    "scrolled": true
   },
   "outputs": [
    {
     "name": "stdout",
     "output_type": "stream",
     "text": [
      "observed mixture proportions: \n",
      " [ 0.204  0.201  0.175  0.208  0.212]\n",
      "true mixture proportions: \n",
      " [ 0.2  0.2  0.2  0.2  0.2]\n"
     ]
    },
    {
     "data": {
      "image/png": "[encoded data removed]",
      "text/plain": [
       "<matplotlib.figure.Figure at 0x7ff2a7879860>"
      ]
     },
     "metadata": {},
     "output_type": "display_data"
    }
   ],
   "source": [
    "# visualize the data\n",
    "plt.plot(x[:,0], x[:,1], 'k.')\n",
    "for k in range(k_true):\n",
    "    plt.plot(true_mu[k, 0], true_mu[k, 1], 'ro')\n",
    "    \n",
    "print('observed mixture proportions: \\n', np.mean(true_z, axis = 0))\n",
    "print('true mixture proportions: \\n', true_pi)"
   ]
  },
  {
   "cell_type": "markdown",
   "metadata": {},
   "source": [
    "## Set up VB model"
   ]
  },
  {
   "cell_type": "code",
   "execution_count": 4,
   "metadata": {
    "collapsed": false
   },
   "outputs": [],
   "source": [
    "global_params = ModelParamsDict('global')\n",
    "global_params.push_param(\n",
    "    PosDefMatrixParamVector(name='info', length=k_approx, matrix_size=x_dim)) # variational variances\n",
    "global_params.push_param(\n",
    "    ArrayParam(name='mu', shape=(k_approx, x_dim))) # variational means\n",
    "global_params.push_param(\n",
    "    DirichletParamArray(name='v_sticks', shape=(k_approx - 1, 2))) # note the shape k_approx - 1 ...\n",
    "                                                                   # the last stick is always 1 in our approximation\n",
    "local_params = ModelParamsDict('local')\n",
    "local_params.push_param(\n",
    "    SimplexParam(name='e_z', shape=(num_obs, k_approx)))\n",
    "\n",
    "vb_params = ModelParamsDict('vb_params model')\n",
    "vb_params.push_param(global_params)\n",
    "vb_params.push_param(local_params)\n"
   ]
  },
  {
   "cell_type": "code",
   "execution_count": 5,
   "metadata": {
    "collapsed": false
   },
   "outputs": [],
   "source": [
    "prior_params = ModelParamsDict('prior_params')\n",
    "prior_params.push_param(VectorParam(name='prior_mu', size=x_dim, val=prior_mu))\n",
    "prior_params.push_param(PosDefMatrixParam(name='prior_info', size=x_dim, val=prior_info))\n",
    "prior_params.push_param(ScalarParam(name='alpha', val=alpha))\n",
    "prior_params.push_param(PosDefMatrixParam(name='info_x', size=x_dim, val=info_x))"
   ]
  },
  {
   "cell_type": "code",
   "execution_count": 6,
   "metadata": {
    "collapsed": false
   },
   "outputs": [],
   "source": [
    "model = dp.DPNormalMixture(x, vb_params, prior_params)"
   ]
  },
  {
   "cell_type": "markdown",
   "metadata": {},
   "source": [
    "## Initialize"
   ]
  },
  {
   "cell_type": "code",
   "execution_count": 7,
   "metadata": {
    "collapsed": false
   },
   "outputs": [],
   "source": [
    "## initialize VB params\n",
    "\n",
    "true_init = False\n",
    "\n",
    "if true_init: \n",
    "    true_tau = np.zeros(np.shape(vb_params['global']['v_sticks'].alpha.get()))\n",
    "    true_tau[:,0] = true_v[:-1] * 100\n",
    "    true_tau[:,1] = (1 - true_v[:-1]) * 100\n",
    "    vb_params['global']['v_sticks'].alpha.set(true_tau)\n",
    "\n",
    "    # vb_params['global']['mu'].set(true_mu)\n",
    "    mu_size = vb_params['global']['mu'].free_size()\n",
    "    vb_params['global']['mu'].set_free(np.random.random(mu_size))\n",
    "    \n",
    "    true_z_fudged = dp.soft_thresh(true_z, 1 - 10**(-8), 10**(-8))\n",
    "    vb_params['local']['e_z'].set(true_z_fudged)\n",
    "    # z_size = vb_params['local']['e_z'].free_size()\n",
    "    # vb_params['local']['e_z'].set_free(np.random.random(z_size))\n",
    "else: \n",
    "    vb_params.set_free(np.random.random(vb_params.free_size()))\n",
    "    \n",
    "init_free_params = vb_params.get_free()\n",
    "global_init_free_params = vb_params['global'].get_free()"
   ]
  },
  {
   "cell_type": "markdown",
   "metadata": {},
   "source": [
    "## Run CAVI "
   ]
  },
  {
   "cell_type": "code",
   "execution_count": 8,
   "metadata": {
    "collapsed": false,
    "scrolled": true
   },
   "outputs": [
    {
     "name": "stdout",
     "output_type": "stream",
     "text": [
      "CAVI terminated successfully :)\n",
      "iterations ran:  629\n"
     ]
    },
    {
     "data": {
      "image/png": "[encoded data removed]",
      "text/plain": [
       "<matplotlib.figure.Figure at 0x7ff2d85e2dd8>"
      ]
     },
     "metadata": {},
     "output_type": "display_data"
    }
   ],
   "source": [
    "dp_opt.run_cavi(model, init_free_params, max_iter = 1000, tol = 1e-5, disp = False)\n",
    "cavi_results = deepcopy(model)"
   ]
  },
  {
   "cell_type": "markdown",
   "metadata": {},
   "source": [
    "### examine results of CAVI"
   ]
  },
  {
   "cell_type": "code",
   "execution_count": 9,
   "metadata": {
    "collapsed": false
   },
   "outputs": [
    {
     "data": {
      "image/png": "[encoded data removed]",
      "text/plain": [
       "<matplotlib.figure.Figure at 0x7ff2a5526c50>"
      ]
     },
     "metadata": {},
     "output_type": "display_data"
    },
    {
     "data": {
      "image/png": "[encoded data removed]",
      "text/plain": [
       "<matplotlib.figure.Figure at 0x7ff2a5408b00>"
      ]
     },
     "metadata": {},
     "output_type": "display_data"
    }
   ],
   "source": [
    "# plot posterior predictive\n",
    "e_z = cavi_results.vb_params['local']['e_z'].get()\n",
    "mu = cavi_results.vb_params['global']['mu'].get()\n",
    "pred_x = np.dot(e_z, mu)\n",
    "for col in range(x_dim):\n",
    "    plt.clf()\n",
    "    plt.plot(pred_x[:, col], x[:, col], 'ko')\n",
    "    diag = np.linspace(np.min(pred_x[:,col]),np.max(pred_x[:,col]))\n",
    "    plt.plot(diag, diag)\n",
    "    plt.title('Posterior predictive, column' + str(col))\n",
    "    plt.xlabel('predicted X')\n",
    "    plt.ylabel('true X')\n",
    "    plt.show()\n"
   ]
  },
  {
   "cell_type": "code",
   "execution_count": 10,
   "metadata": {
    "collapsed": false,
    "scrolled": true
   },
   "outputs": [
    {
     "name": "stdout",
     "output_type": "stream",
     "text": [
      "true_proportions [ 0.2  0.2  0.2  0.2  0.2]\n",
      "estimated proportions:  [ 0.00103921  0.19411039  0.02098208  0.03772041  0.00103388  0.20613063\n",
      "  0.0010304   0.21145813  0.20225867  0.12423618] \n",
      "\n",
      "true number of clusters:  5\n",
      "number of \"posterior clusters\" (ie. no. clusters w/ siginifcant weights):  5\n",
      "recall variational truncation:  10\n"
     ]
    }
   ],
   "source": [
    "# lets look at the estimated mixture proportions\n",
    "\n",
    "tau = cavi_results.vb_params['global']['v_sticks'].alpha.get() \n",
    "post_stick_length = tau[:,0] / np.sum(tau, axis = 1) # mean posterior stick lengths\n",
    "\n",
    "# compute mixture proportions using mean posterior stick lengths\n",
    "post_pi = np.ones(k_approx)\n",
    "stick_remain = np.ones(k_approx - 1)\n",
    "for i in range(k_approx - 1):\n",
    "    post_pi[i] = stick_remain[i - 1] * post_stick_length[i]\n",
    "    stick_remain[i] = stick_remain[i - 1] * (1 - post_stick_length[i])\n",
    "post_pi[-1] = stick_remain[-1]\n",
    "assert(np.abs(np.sum(post_pi) - 1.) < 10**(-10))\n",
    "\n",
    "print('true_proportions', true_pi)\n",
    "print('estimated proportions: ', post_pi, '\\n')\n",
    "\n",
    "heavy_clusters = post_pi > 1 / k_approx # clusters with significant weights \n",
    "\n",
    "print('true number of clusters: ', k_true)\n",
    "print('number of \"posterior clusters\" (ie. no. clusters w/ siginifcant weights): ', np.sum(post_pi > 1 / k_approx))\n",
    "print('recall variational truncation: ', k_approx)"
   ]
  },
  {
   "cell_type": "code",
   "execution_count": 11,
   "metadata": {
    "collapsed": false
   },
   "outputs": [
    {
     "name": "stdout",
     "output_type": "stream",
     "text": [
      "true means: \n",
      "[[ 0  0]\n",
      " [ 5  5]\n",
      " [10 10]\n",
      " [15 15]\n",
      " [20 20]] \n",
      "\n",
      "relevant posterior means (ie. posterior means for clusters with significant weights): \n",
      "[[  4.92424825e+00   5.10055368e+00]\n",
      " [  1.49641772e+01   1.49151451e+01]\n",
      " [  1.99869378e+01   1.99373862e+01]\n",
      " [  6.56068591e-02  -1.16303037e-02]\n",
      " [  9.85546129e+00   9.58329301e+00]]\n"
     ]
    }
   ],
   "source": [
    "# lets look at posterior means\n",
    "print('true means: ')\n",
    "print(true_mu, '\\n')\n",
    "\n",
    "print('relevant posterior means (ie. posterior means for clusters with significant weights): ')\n",
    "print(cavi_results.vb_params['global']['mu'].get()[heavy_clusters, :])"
   ]
  },
  {
   "cell_type": "markdown",
   "metadata": {},
   "source": [
    "## Newton Optimization"
   ]
  },
  {
   "cell_type": "code",
   "execution_count": 12,
   "metadata": {
    "collapsed": false
   },
   "outputs": [],
   "source": [
    "kl_obj = Objective(model.vb_params['global'], model.kl_optimize_z)"
   ]
  },
  {
   "cell_type": "code",
   "execution_count": 13,
   "metadata": {
    "collapsed": false,
    "scrolled": false
   },
   "outputs": [
    {
     "name": "stdout",
     "output_type": "stream",
     "text": [
      "Warning: A bad approximation caused failure to predict improvement.\n",
      "         Current function value: -44593.213510\n",
      "         Iterations: 5\n",
      "         Function evaluations: 7\n",
      "         Gradient evaluations: 6\n",
      "         Hessian evaluations: 6\n",
      "done\n"
     ]
    }
   ],
   "source": [
    "def minimize_kl(kl_obj, init_x, maxiter = 50, gtol = 1e-8, disp = True):\n",
    "    vb_opt = optimize.minimize(\n",
    "        kl_obj.fun_free,\n",
    "        x0=init_x,\n",
    "        jac=kl_obj.fun_free_grad,\n",
    "        hess=kl_obj.fun_free_hessian,\n",
    "        method='trust-ncg', options={'maxiter': maxiter, 'gtol': gtol, 'disp': disp})\n",
    "\n",
    "    print('done')\n",
    "    return vb_opt\n",
    "\n",
    "newton_tr_init = cavi_results.vb_params['global'].get_free() # initialize with result from CAVI\n",
    "newton_tr_opt = minimize_kl(kl_obj, newton_tr_init) # run Newton"
   ]
  },
  {
   "cell_type": "code",
   "execution_count": 14,
   "metadata": {
    "collapsed": false
   },
   "outputs": [],
   "source": [
    "model.vb_params['global'].set_free(newton_tr_opt.x)\n",
    "model.set_optimal_z()\n",
    "\n",
    "newton_results = deepcopy(model)"
   ]
  },
  {
   "cell_type": "code",
   "execution_count": 15,
   "metadata": {
    "collapsed": false,
    "scrolled": false
   },
   "outputs": [
    {
     "data": {
      "image/png": "[encoded data removed]",
      "text/plain": [
       "<matplotlib.figure.Figure at 0x7ff2a54385c0>"
      ]
     },
     "metadata": {},
     "output_type": "display_data"
    },
    {
     "data": {
      "image/png": "[encoded data removed]",
      "text/plain": [
       "<matplotlib.figure.Figure at 0x7ff2a539b6a0>"
      ]
     },
     "metadata": {},
     "output_type": "display_data"
    }
   ],
   "source": [
    "# plot posterior predictive\n",
    "e_z = newton_results.vb_params['local']['e_z'].get()\n",
    "mu = newton_results.vb_params['global']['mu'].get()\n",
    "pred_x = np.dot(e_z, mu)\n",
    "for col in range(x_dim):\n",
    "    plt.clf()\n",
    "    plt.plot(pred_x[:, col], x[:, col], 'ko')\n",
    "    diag = np.linspace(np.min(pred_x[:,col]),np.max(pred_x[:,col]))\n",
    "    plt.plot(diag, diag)\n",
    "    plt.title('Posterior predictive, column' + str(col))\n",
    "    plt.xlabel('predicted X')\n",
    "    plt.ylabel('true X')\n",
    "    plt.show()\n"
   ]
  },
  {
   "cell_type": "code",
   "execution_count": 16,
   "metadata": {
    "collapsed": false
   },
   "outputs": [
    {
     "name": "stdout",
     "output_type": "stream",
     "text": [
      "[[  1.01031033e+01   1.01278452e+01]\n",
      " [  4.92424825e+00   5.10055368e+00]\n",
      " [  7.30974527e+00   8.99240720e+00]\n",
      " [  1.09446142e+01   1.16327411e+01]\n",
      " [  1.01031044e+01   1.01278389e+01]\n",
      " [  1.49641772e+01   1.49151451e+01]\n",
      " [  1.01031051e+01   1.01278348e+01]\n",
      " [  1.99869378e+01   1.99373862e+01]\n",
      " [  6.56068591e-02  -1.16303037e-02]\n",
      " [  9.85546129e+00   9.58329301e+00]]\n",
      "[[  1.01031295e+01   1.01279526e+01]\n",
      " [  4.92489570e+00   5.10059584e+00]\n",
      " [  7.31584369e+00   8.98171788e+00]\n",
      " [  1.09780920e+01   1.16852484e+01]\n",
      " [  1.01031304e+01   1.01279454e+01]\n",
      " [  1.49639807e+01   1.49148974e+01]\n",
      " [  1.01031310e+01   1.01279408e+01]\n",
      " [  1.99868923e+01   1.99373443e+01]\n",
      " [  6.56454250e-02  -1.15687330e-02]\n",
      " [  9.86836629e+00   9.60723030e+00]]\n",
      "l1 difference between means:  0.14133444081\n"
     ]
    }
   ],
   "source": [
    "# compare CAVI with Newton_tr\n",
    "print(cavi_results.vb_params['global']['mu'].get())\n",
    "print(newton_results.vb_params['global']['mu'].get())\n",
    "\n",
    "print('l1 difference between means: ', \\\n",
    "      np.sum(np.abs(cavi_results.vb_params['global']['mu'].get() - newton_results.vb_params['global']['mu'].get())))"
   ]
  },
  {
   "cell_type": "code",
   "execution_count": 17,
   "metadata": {
    "collapsed": false
   },
   "outputs": [
    {
     "name": "stdout",
     "output_type": "stream",
     "text": [
      "l1 difference (normalized) between all params:  0.029331787085\n"
     ]
    }
   ],
   "source": [
    "print('l1 difference (normalized) between all params: ', \\\n",
    "      np.mean(np.abs(cavi_results.vb_params.get_free() - newton_results.vb_params.get_free())))"
   ]
  },
  {
   "cell_type": "code",
   "execution_count": 25,
   "metadata": {
    "collapsed": false
   },
   "outputs": [
    {
     "name": "stdout",
     "output_type": "stream",
     "text": [
      "L_inf norm of gradient:  1.24918348638e-07 \n",
      "\n",
      "time to compute hessian (sec):  9.786979913711548\n",
      "eigenvalues: \n",
      " [  2.82873896e+02   2.64608357e+02   2.41709823e+02   1.32453188e+02\n",
      "   6.29413937e+01   5.99170744e+01   5.83628090e+01   5.70819941e+01\n",
      "   5.48366515e+01   5.18043443e+01   4.10751949e+01   3.51327347e+01\n",
      "   2.91942406e+01   1.96164231e+01   4.80279473e+00   4.57623555e+00\n",
      "   3.17248519e+00   2.39168097e+00   2.38872642e+00   2.39072798e+00\n",
      "   1.66274624e+00   1.23484795e+00   1.31646606e+00   1.31372648e+00\n",
      "   1.30915344e+00   6.13262046e-01   3.62169485e-01   3.26732871e-01\n",
      "   1.42897462e-01   1.11310427e-01   2.70288780e-01   2.70456762e-01\n",
      "   2.70537312e-01   2.50643253e-01   2.50464046e-01   2.50310677e-01\n",
      "   2.50354953e-01   1.00951584e-01   1.00944363e-01   1.00939681e-01\n",
      "   9.97939316e-02   9.97956863e-02   9.97968332e-02   2.00384302e+00\n",
      "   1.99862914e+00   1.99891386e+00   1.99966588e+00   2.00000006e+00\n",
      "   2.00000004e+00   1.99999998e+00   2.00000000e+00   2.00000002e+00\n",
      "   2.00000001e+00   2.00000000e+00   2.00000000e+00   2.00000000e+00\n",
      "   2.00000000e+00   2.00000000e+00   8.87331176e+00   1.71616555e-02\n",
      "   1.61403601e-01   9.47690449e-02   8.88089177e+00   1.60760613e-02\n",
      "   8.88580897e+00   1.56108722e-02   1.62738048e-02   2.63612617e-02]\n",
      "all positive:  True\n"
     ]
    }
   ],
   "source": [
    "# checking the optima\n",
    "\n",
    "# check that the gradient is close to 0\n",
    "kl_grad = kl_obj.fun_free_grad(newton_tr_opt.x)\n",
    "# print(kl_grad)\n",
    "print('L_inf norm of gradient: ', np.max(np.abs(kl_grad)), '\\n')\n",
    "\n",
    "t0 = time.time()\n",
    "kl_hessian = kl_obj.fun_free_hessian(newton_tr_opt.x)\n",
    "hessian_time = time.time() - t0\n",
    "\n",
    "hessian_evals = np.linalg.eigvals(kl_hessian)\n",
    "\n",
    "print('time to compute hessian (sec): ', hessian_time)\n",
    "print('eigenvalues: \\n', hessian_evals)\n",
    "print('all positive: ', np.all(hessian_evals > 0))"
   ]
  },
  {
   "cell_type": "markdown",
   "metadata": {},
   "source": [
    "## Parametric sensitivity analysis\n",
    "In particular, we are interested in the sensitivity of the posterior stick lengths to our choice of DP parameter $\\alpha$"
   ]
  },
  {
   "cell_type": "code",
   "execution_count": 19,
   "metadata": {
    "collapsed": false
   },
   "outputs": [],
   "source": [
    "class DPNormalMixtureLRVB(object): \n",
    "    def __init__(self, model): \n",
    "        self.model = deepcopy(model)\n",
    "        self.alpha = model.alpha\n",
    "        \n",
    "        self.get_moment_jac = autograd.jacobian(self.get_interesting_moments)        \n",
    "        self.get_kl_hessian = autograd.hessian(self.kl, argnum = 0)\n",
    "        \n",
    "        self.get_kl_jac = autograd.jacobian(self.kl, argnum = 0)\n",
    "        self.get_alpha_jac = autograd.jacobian(self.get_kl_jac, argnum = 1)\n",
    "        \n",
    "    def get_interesting_moments(self, global_free_params):\n",
    "        self.model.vb_params['global'].set_free(global_free_params)  \n",
    "        \n",
    "        # returning average of the v_sticks\n",
    "        return self.model.vb_params['global']['v_sticks'].e()[:,0]\n",
    "    \n",
    "    def kl(self, global_free_params, alpha):\n",
    "        self.model.vb_params['global'].set_free(global_free_params)\n",
    "        self.model.alpha = alpha\n",
    "        \n",
    "        return self.model.kl_optimize_z()\n",
    "    \n",
    "    def get_alpha_sensitivity(self, optimal_global_free_params): \n",
    "        moment_jac = self.get_moment_jac(optimal_global_free_params)\n",
    "        kl_hessian = self.get_kl_hessian(optimal_global_free_params, self.alpha)\n",
    "        \n",
    "        sensitivity_operator = np.linalg.solve(kl_hessian, moment_jac.T)\n",
    "                                               \n",
    "        alpha_jac = self.get_alpha_jac(optimal_global_free_params, self.alpha)\n",
    "\n",
    "        return np.dot(sensitivity_operator.T, -1 * alpha_jac)\n",
    "\n"
   ]
  },
  {
   "cell_type": "code",
   "execution_count": 20,
   "metadata": {
    "collapsed": false
   },
   "outputs": [],
   "source": [
    "lrvb_obj = DPNormalMixtureLRVB(model)"
   ]
  },
  {
   "cell_type": "code",
   "execution_count": 21,
   "metadata": {
    "collapsed": false
   },
   "outputs": [
    {
     "name": "stdout",
     "output_type": "stream",
     "text": [
      "sensitivity of mean stick lengths to alpha: \n",
      "predicted_sensitivity: \n",
      " [ -1.48227290e-06   8.47541362e-04  -6.96248187e-03  -2.41424230e-02\n",
      "  -4.52759352e-05  -9.27493430e-03  -8.66367092e-05  -1.76071201e-02\n",
      "  -4.50220781e-02]\n"
     ]
    }
   ],
   "source": [
    "print('sensitivity of mean stick lengths to alpha: ')\n",
    "predicted_sensitivity = lrvb_obj.get_alpha_sensitivity(newton_tr_opt.x)\n",
    "\n",
    "print('predicted_sensitivity: \\n', predicted_sensitivity)"
   ]
  },
  {
   "cell_type": "markdown",
   "metadata": {},
   "source": [
    "### Lets check this sensitivity by perturbing alpha"
   ]
  },
  {
   "cell_type": "code",
   "execution_count": 22,
   "metadata": {
    "collapsed": false,
    "scrolled": false
   },
   "outputs": [
    {
     "name": "stdout",
     "output_type": "stream",
     "text": [
      "Warning: A bad approximation caused failure to predict improvement.\n",
      "         Current function value: -44593.192779\n",
      "         Iterations: 3\n",
      "         Function evaluations: 5\n",
      "         Gradient evaluations: 4\n",
      "         Hessian evaluations: 4\n",
      "done\n"
     ]
    }
   ],
   "source": [
    "epsilon = 0.01 # how much we will perturb alpha\n",
    "\n",
    "model_perturbed = deepcopy(model)\n",
    "model_perturbed.alpha = alpha + epsilon # perturb dp parameter\n",
    "\n",
    "# define new objective\n",
    "kl_obj_perturbed = Objective(model_perturbed.vb_params['global'], model_perturbed.kl_optimize_z)\n",
    "\n",
    "# find new optima\n",
    "newton_tr_opt_perturbed = minimize_kl(kl_obj_perturbed, newton_tr_opt.x)\n"
   ]
  },
  {
   "cell_type": "code",
   "execution_count": 24,
   "metadata": {
    "collapsed": false
   },
   "outputs": [
    {
     "name": "stdout",
     "output_type": "stream",
     "text": [
      "L_inf norm of gradient:  3.95482994252e-08 \n",
      "\n",
      "time to compute hessian (sec):  8.842075109481812\n",
      "eigenvalues all positive:  True\n"
     ]
    }
   ],
   "source": [
    "# check new optima\n",
    "\n",
    "# check that the gradient is close to 0\n",
    "kl_grad = kl_obj_perturbed.fun_free_grad(newton_tr_opt_perturbed.x)\n",
    "# print(kl_grad)\n",
    "print('L_inf norm of gradient: ', np.max(np.abs(kl_grad)), '\\n')\n",
    "\n",
    "t0 = time.time()\n",
    "kl_hessian = kl_obj_perturbed.fun_free_hessian(newton_tr_opt_perturbed.x)\n",
    "hessian_time = time.time() - t0\n",
    "\n",
    "hessian_evals = np.linalg.eigvals(kl_hessian)\n",
    "\n",
    "print('time to compute hessian (sec): ', hessian_time)\n",
    "# print('eigenvalues: ', hessian_evals)\n",
    "print('eigenvalues all positive: ', np.all(hessian_evals > 0))"
   ]
  },
  {
   "cell_type": "code",
   "execution_count": 23,
   "metadata": {
    "collapsed": false
   },
   "outputs": [
    {
     "name": "stdout",
     "output_type": "stream",
     "text": [
      "predicted_sensitivity: \n",
      " [ -1.48227290e-06   8.47541362e-04  -6.96248187e-03  -2.41424230e-02\n",
      "  -4.52759352e-05  -9.27493430e-03  -8.66367092e-05  -1.76071201e-02\n",
      "  -4.50220781e-02]\n",
      "true sensitivity: \n",
      " [ -1.48551982e-06   8.40499131e-04  -6.91101054e-03  -2.38496055e-02\n",
      "  -4.47755774e-05  -9.16428190e-03  -8.56381382e-05  -1.74039386e-02\n",
      "  -4.44904443e-02]\n"
     ]
    }
   ],
   "source": [
    "# check new means\n",
    "model_perturbed.vb_params['global'].set_free(newton_tr_opt_perturbed.x) \n",
    "\n",
    "perturbed_mean = model_perturbed.vb_params['global']['v_sticks'].e()[:,0]\n",
    "old_mean = model.vb_params['global']['v_sticks'].e()[:,0]\n",
    "\n",
    "print('predicted_sensitivity: \\n', predicted_sensitivity)\n",
    "print('true sensitivity: \\n', (perturbed_mean - old_mean) / epsilon)"
   ]
  }
 ],
 "metadata": {
  "kernelspec": {
   "display_name": "Python 3",
   "language": "python",
   "name": "python3"
  },
  "language_info": {
   "codemirror_mode": {
    "name": "ipython",
    "version": 3
   },
   "file_extension": ".py",
   "mimetype": "text/x-python",
   "name": "python",
   "nbconvert_exporter": "python",
   "pygments_lexer": "ipython3",
   "version": "3.6.0"
  }
 },
 "nbformat": 4,
 "nbformat_minor": 2
}
