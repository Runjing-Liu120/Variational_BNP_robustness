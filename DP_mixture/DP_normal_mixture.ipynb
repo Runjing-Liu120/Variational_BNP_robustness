{
 "cells": [
  {
   "cell_type": "markdown",
   "metadata": {},
   "source": [
    "## Variational inference in Dirichlet Process Normal Mixture"
   ]
  },
  {
   "cell_type": "code",
   "execution_count": 1,
   "metadata": {
    "collapsed": false
   },
   "outputs": [],
   "source": [
    "import autograd.numpy as np\n",
    "import autograd.scipy as sp\n",
    "from autograd.scipy import special\n",
    "from autograd import grad, hessian, hessian_vector_product, hessian, jacobian\n",
    "\n",
    "import sys\n",
    "sys.path.append('../../LinearResponseVariationalBayes.py')\n",
    "\n",
    "from VariationalBayes.ParameterDictionary import ModelParamsDict\n",
    "from VariationalBayes.Parameters import ScalarParam, VectorParam, ArrayParam\n",
    "from VariationalBayes.MultinomialParams import SimplexParam\n",
    "from VariationalBayes.DirichletParams import DirichletParamArray\n",
    "from VariationalBayes.MatrixParameters import PosDefMatrixParam, PosDefMatrixParamVector\n",
    "from VariationalBayes.SparseObjectives import SparseObjective, Objective\n",
    "\n",
    "import DP_normal_mixture_lib as dp\n",
    "\n",
    "from copy import deepcopy\n",
    "\n",
    "from scipy import optimize\n",
    "\n",
    "import time\n",
    "\n",
    "import matplotlib.pyplot as plt\n",
    "%matplotlib inline  \n"
   ]
  },
  {
   "cell_type": "markdown",
   "metadata": {
    "collapsed": true
   },
   "source": [
    "# Generate Data"
   ]
  },
  {
   "cell_type": "code",
   "execution_count": 2,
   "metadata": {
    "collapsed": false,
    "scrolled": true
   },
   "outputs": [],
   "source": [
    "np.random.seed(414341)\n",
    "\n",
    "# DP parameters\n",
    "x_dim = 2\n",
    "k_approx = 5\n",
    "num_obs = 1000\n",
    "\n",
    "# prior parameters\n",
    "alpha = 1.2 # DP parameter\n",
    "prior_mu = np.zeros(x_dim)\n",
    "prior_info = 1.0 * np.eye(x_dim)\n",
    "\n",
    "info_x = 1.0 * np.eye(x_dim)\n",
    "\n",
    "x, true_mu, true_z, true_z_ind, true_v, true_pi = \\\n",
    "            dp.draw_data(alpha, prior_mu, prior_info, info_x, x_dim, k_approx, num_obs)"
   ]
  },
  {
   "cell_type": "code",
   "execution_count": 3,
   "metadata": {
    "collapsed": false,
    "scrolled": true
   },
   "outputs": [
    {
     "name": "stdout",
     "output_type": "stream",
     "text": [
      "observed mixture proportions: \n",
      " [ 0.071  0.144  0.348  0.046  0.391]\n",
      "true mixture proportions: \n",
      " [ 0.06972666  0.14855883  0.3397329   0.05271501  0.38926659]\n"
     ]
    },
    {
     "data": {
      "image/png": "[encoded data removed]",
      "text/plain": [
       "<matplotlib.figure.Figure at 0x7ff45552a898>"
      ]
     },
     "metadata": {},
     "output_type": "display_data"
    }
   ],
   "source": [
    "# visualize the data\n",
    "plt.plot(x[:,0], x[:,1], 'k.')\n",
    "for k in range(k_approx):\n",
    "    plt.plot(true_mu[k, 0], true_mu[k, 1], 'ro')\n",
    "    \n",
    "print('observed mixture proportions: \\n', np.mean(true_z, axis = 0))\n",
    "print('true mixture proportions: \\n', true_pi)"
   ]
  },
  {
   "cell_type": "markdown",
   "metadata": {},
   "source": [
    "## Set up VB model"
   ]
  },
  {
   "cell_type": "code",
   "execution_count": 4,
   "metadata": {
    "collapsed": false
   },
   "outputs": [],
   "source": [
    "global_params = ModelParamsDict('global')\n",
    "global_params.push_param(\n",
    "    PosDefMatrixParamVector(name='info', length=k_approx, matrix_size=x_dim)) # variational variances\n",
    "global_params.push_param(\n",
    "    ArrayParam(name='mu', shape=(k_approx, x_dim))) # variational means\n",
    "global_params.push_param(\n",
    "    DirichletParamArray(name='v_sticks', shape=(k_approx - 1, 2))) # note the shape k_approx - 1 ...\n",
    "                                                                   # the last stick is always 1 in our approximation\n",
    "local_params = ModelParamsDict('local')\n",
    "local_params.push_param(\n",
    "    SimplexParam(name='e_z', shape=(num_obs, k_approx)))\n",
    "\n",
    "vb_params = ModelParamsDict('vb_params model')\n",
    "vb_params.push_param(global_params)\n",
    "vb_params.push_param(local_params)\n"
   ]
  },
  {
   "cell_type": "code",
   "execution_count": 5,
   "metadata": {
    "collapsed": false
   },
   "outputs": [],
   "source": [
    "prior_params = ModelParamsDict('prior_params')\n",
    "prior_params.push_param(VectorParam(name='prior_mu', size=x_dim, val=prior_mu))\n",
    "prior_params.push_param(PosDefMatrixParam(name='prior_info', size=x_dim, val=prior_info))\n",
    "prior_params.push_param(ScalarParam(name='alpha', val=alpha))\n",
    "prior_params.push_param(PosDefMatrixParam(name='info_x', size=x_dim, val=info_x))"
   ]
  },
  {
   "cell_type": "code",
   "execution_count": 6,
   "metadata": {
    "collapsed": true
   },
   "outputs": [],
   "source": [
    "model = dp.DPNormalMixture(x, vb_params, prior_params)"
   ]
  },
  {
   "cell_type": "markdown",
   "metadata": {},
   "source": [
    "## Initialize"
   ]
  },
  {
   "cell_type": "code",
   "execution_count": 7,
   "metadata": {
    "collapsed": false
   },
   "outputs": [],
   "source": [
    "## initialize VB params\n",
    "\n",
    "true_init = True\n",
    "\n",
    "if true_init: \n",
    "    true_tau = np.zeros(np.shape(vb_params['global']['v_sticks'].alpha.get()))\n",
    "    true_tau[:,0] = true_v[:-1] * 100\n",
    "    true_tau[:,1] = (1 - true_v[:-1]) * 100\n",
    "    vb_params['global']['v_sticks'].alpha.set(true_tau)\n",
    "\n",
    "    # vb_params['global']['mu'].set(true_mu)\n",
    "    mu_size = vb_params['global']['mu'].free_size()\n",
    "    vb_params['global']['mu'].set_free(np.random.random(mu_size))\n",
    "    \n",
    "    true_z_fudged = dp.soft_thresh(true_z, 1 - 10**(-8), 10**(-8))\n",
    "    vb_params['local']['e_z'].set(true_z_fudged)\n",
    "    \n",
    "else: \n",
    "    vb_params.set_free(np.random.random(vb_params.free_size()))\n",
    "    \n",
    "init_par_vec = vb_params.get_free()\n",
    "global_init_par_vec = vb_params['global'].get_free()"
   ]
  },
  {
   "cell_type": "markdown",
   "metadata": {},
   "source": [
    "## Run CAVI "
   ]
  },
  {
   "cell_type": "code",
   "execution_count": 8,
   "metadata": {
    "collapsed": false
   },
   "outputs": [
    {
     "name": "stdout",
     "output_type": "stream",
     "text": [
      "[[  2.51053782e-01   7.39777307e-04]\n",
      " [  7.63700741e-01   5.97759458e-01]\n",
      " [  1.02695060e-01   3.40096960e-01]\n",
      " [  6.42636994e-01   3.26807581e-01]\n",
      " [  9.23665506e-01   2.48542020e-01]]\n"
     ]
    }
   ],
   "source": [
    "print(vb_params['global']['mu'].get())"
   ]
  },
  {
   "cell_type": "code",
   "execution_count": 12,
   "metadata": {
    "collapsed": false
   },
   "outputs": [],
   "source": [
    "def run_cavi(model, init_par_vec, max_iter = 100, tol = 1e-8, disp = True): \n",
    "    \n",
    "    x = model.x\n",
    "    prior_mu, prior_info, info_x, alpha = dp.get_prior_params(model.prior_params)\n",
    "    \n",
    "    # initialize\n",
    "    model.vb_params.set_free(init_par_vec)\n",
    "    model.get_kl(verbose = True)\n",
    "       \n",
    "    kl = np.zeros(max_iter)\n",
    "    diff = -10\n",
    "    \n",
    "    for i in range(max_iter): \n",
    "        \n",
    "        # tau update\n",
    "        e_z = model.vb_params['local']['e_z'].get()\n",
    "        \n",
    "        tau_new = dp.tau_update(e_z, alpha)\n",
    "        model.vb_params['global']['v_sticks'].alpha.set(tau_new)\n",
    "        model.get_kl(verbose = True)\n",
    "        \n",
    "        # mu update\n",
    "        mu_new, info_new = dp.mu_update(x, e_z, prior_mu, prior_info, info_x)\n",
    "        model.vb_params['global']['mu'].set(mu_new)\n",
    "        # model.vb_params['global']['info'].set(info_new)  \n",
    "        model.get_kl(verbose = True)        \n",
    "            \n",
    "        # z update\n",
    "        e_log_v = model.vb_params['global']['v_sticks'].e_log()[:,0] # E[log v]\n",
    "        e_log_1mv = model.vb_params['global']['v_sticks'].e_log()[:,1] # E[log 1 - v]\n",
    "        mu = model.vb_params['global']['mu'].get()\n",
    "        info = model.vb_params['global']['info'].get()\n",
    "              \n",
    "        e_z_new = dp.z_update(mu, info, x, info_x, e_log_v, e_log_1mv)\n",
    "        model.vb_params['local']['e_z'].set(e_z_new)\n",
    "        model.get_kl(verbose = True)\n",
    "        \n",
    "        # evaluate elbo\n",
    "        kl[i] = model.get_kl()\n",
    "        \n",
    "        if i > 0:\n",
    "            diff = kl[i] - kl[i-1]\n",
    "\n",
    "        if disp:\n",
    "            print('iteration: ', i, 'kl: ', kl[i])\n",
    "\n",
    "        if np.isnan(kl[i]):\n",
    "            print('NAN ELBO.')\n",
    "            break\n",
    "\n",
    "        #if (i > 0) & (diff > 0):\n",
    "        #    print('kl increased!  Difference: ', diff)\n",
    "        #    break\n",
    "        \n",
    "        #if (np.abs(diff) < tol) & (i < max_iter): \n",
    "        #    print('CAVI terminated successfully :)')\n",
    "        #    break\n",
    "            \n",
    "    if i == max_iter - 1: \n",
    "        print('max iteration reached')"
   ]
  },
  {
   "cell_type": "code",
   "execution_count": 13,
   "metadata": {
    "collapsed": false
   },
   "outputs": [
    {
     "name": "stdout",
     "output_type": "stream",
     "text": [
      "kl:\t -994.997539523\n",
      "kl:\t -1005.37493585\n",
      "kl:\t -48590.5516465\n",
      "kl:\t -48590.7702886\n",
      "iteration:  0 kl:  -48590.7702886\n",
      "kl:\t -48590.7705357\n",
      "kl:\t -48590.7735421\n",
      "kl:\t -48590.7736579\n",
      "iteration:  1 kl:  -48590.7736579\n",
      "kl:\t -48590.7736583\n",
      "kl:\t -48590.7736621\n",
      "kl:\t -48590.7736623\n",
      "iteration:  2 kl:  -48590.7736623\n",
      "kl:\t -48590.7736623\n",
      "kl:\t -48590.7736623\n",
      "kl:\t -48590.7736623\n",
      "iteration:  3 kl:  -48590.7736623\n",
      "kl:\t -48590.7736623\n",
      "kl:\t -48590.7736623\n",
      "kl:\t -48590.7736623\n",
      "iteration:  4 kl:  -48590.7736623\n",
      "max iteration reached\n"
     ]
    }
   ],
   "source": [
    "run_cavi(model, init_par_vec, max_iter = 5, tol = 1e-8, disp = True)"
   ]
  },
  {
   "cell_type": "code",
   "execution_count": 15,
   "metadata": {
    "collapsed": false
   },
   "outputs": [
    {
     "data": {
      "text/plain": [
       "array([[[ 1.,  0.],\n",
       "        [ 0.,  1.]],\n",
       "\n",
       "       [[ 1.,  0.],\n",
       "        [ 0.,  1.]],\n",
       "\n",
       "       [[ 1.,  0.],\n",
       "        [ 0.,  1.]],\n",
       "\n",
       "       [[ 1.,  0.],\n",
       "        [ 0.,  1.]],\n",
       "\n",
       "       [[ 1.,  0.],\n",
       "        [ 0.,  1.]]])"
      ]
     },
     "execution_count": 15,
     "metadata": {},
     "output_type": "execute_result"
    }
   ],
   "source": [
    "model.vb_params['global']['info'].get()"
   ]
  },
  {
   "cell_type": "code",
   "execution_count": 14,
   "metadata": {
    "collapsed": false
   },
   "outputs": [
    {
     "name": "stdout",
     "output_type": "stream",
     "text": [
      "[[ -9.88388082  -9.70441612]\n",
      " [ -4.95284835  -5.03901386]\n",
      " [  0.08170132  -0.03412863]\n",
      " [  4.70951996   4.76401724]\n",
      " [ 10.01173032  10.02858648]]\n"
     ]
    }
   ],
   "source": [
    "print(model.vb_params['global']['mu'].get())"
   ]
  },
  {
   "cell_type": "code",
   "execution_count": 15,
   "metadata": {
    "collapsed": false
   },
   "outputs": [
    {
     "name": "stdout",
     "output_type": "stream",
     "text": [
      "permutation:  [0 1 2 3 4]\n",
      "true Z (permuted) \n",
      " [[ 1.  0.  0.  0.  0.]\n",
      " [ 0.  1.  0.  0.  0.]\n",
      " [ 0.  1.  0.  0.  0.]\n",
      " [ 0.  0.  0.  0.  1.]\n",
      " [ 0.  0.  0.  0.  1.]\n",
      " [ 1.  0.  0.  0.  0.]\n",
      " [ 0.  1.  0.  0.  0.]\n",
      " [ 0.  0.  0.  0.  1.]\n",
      " [ 0.  0.  0.  0.  1.]\n",
      " [ 0.  0.  1.  0.  0.]]\n",
      "e_z (rounded) \n",
      " [[ 1.  0.  0.  0.  0.]\n",
      " [ 0.  1.  0.  0.  0.]\n",
      " [ 0.  1.  0.  0.  0.]\n",
      " [ 0.  0.  0.  0.  1.]\n",
      " [ 0.  0.  0.  0.  1.]\n",
      " [ 1.  0.  0.  0.  0.]\n",
      " [ 0.  1.  0.  0.  0.]\n",
      " [ 0.  0.  0.  0.  1.]\n",
      " [ 0.  0.  0.  0.  1.]\n",
      " [ 0.  0.  1.  0.  0.]]\n",
      "l1 error (after permutation):  [6.0417083890278785e-05, 6.2611503507947779e-05, 3.654002308091172e-05, 4.6611961876857472e-05, 1.2266358413529688e-05]\n",
      "\n",
      "\n",
      "true A (permuted): \n",
      " [[-10. -10.]\n",
      " [ -5.  -5.]\n",
      " [  0.   0.]\n",
      " [  5.   5.]\n",
      " [ 10.  10.]]\n",
      "poster mean A: \n",
      " [[ -9.8879121   -9.7072583 ]\n",
      " [ -4.95423038  -5.04080769]\n",
      " [  0.08196861  -0.03402603]\n",
      " [  4.71059197   4.76663436]\n",
      " [ 10.01180339  10.02863241]]\n"
     ]
    },
    {
     "data": {
      "image/png": "[encoded data removed]",
      "text/plain": [
       "<matplotlib.figure.Figure at 0x7f81441d9fd0>"
      ]
     },
     "metadata": {},
     "output_type": "display_data"
    },
    {
     "data": {
      "image/png": "[encoded data removed]",
      "text/plain": [
       "<matplotlib.figure.Figure at 0x7f814437b160>"
      ]
     },
     "metadata": {},
     "output_type": "display_data"
    },
    {
     "name": "stdout",
     "output_type": "stream",
     "text": [
      "true stick lengths [ 0.06972666  0.15969374  0.43459972  0.1192697   1.        ]\n",
      "variational stick lengths:  [ 0.07190095  0.15565872  0.44335965  0.10701221]\n"
     ]
    }
   ],
   "source": [
    "mu = model.vb_params['global']['mu'].get()\n",
    "e_z = model.vb_params['local']['e_z'].get()\n",
    "tau = model.vb_params['global']['v_sticks'].alpha.get()\n",
    "dp.display_results(x, true_z, true_mu, e_z, mu, true_v, tau, manual_perm = None)"
   ]
  },
  {
   "cell_type": "code",
   "execution_count": 16,
   "metadata": {
    "collapsed": false
   },
   "outputs": [
    {
     "name": "stdout",
     "output_type": "stream",
     "text": [
      "[[ 1.  0.  0.  0.  0.]\n",
      " [ 1.  0.  0.  0.  0.]\n",
      " [ 1.  0.  0.  0.  0.]\n",
      " ..., \n",
      " [ 0.  0.  0.  1.  0.]\n",
      " [ 1.  0.  0.  0.  0.]\n",
      " [ 0.  0.  0.  1.  0.]]\n"
     ]
    }
   ],
   "source": [
    "model.set_optimal_z()\n",
    "e_z = model.vb_params['local']['e_z'].get()\n",
    "print(np.round(e_z))"
   ]
  },
  {
   "cell_type": "markdown",
   "metadata": {},
   "source": [
    "## Newton Optimization"
   ]
  },
  {
   "cell_type": "code",
   "execution_count": 25,
   "metadata": {
    "collapsed": false
   },
   "outputs": [],
   "source": [
    "kl_obj = Objective(model.vb_params['global'], model.kl_optimize_z)"
   ]
  },
  {
   "cell_type": "code",
   "execution_count": 26,
   "metadata": {
    "collapsed": false,
    "scrolled": false
   },
   "outputs": [
    {
     "name": "stdout",
     "output_type": "stream",
     "text": [
      "Warning: Maximum number of iterations has been exceeded.\n",
      "         Current function value: -49862.232657\n",
      "         Iterations: 50\n",
      "         Function evaluations: 51\n",
      "         Gradient evaluations: 45\n",
      "         Hessian evaluations: 44\n",
      "done\n",
      "-49862.2326573\n"
     ]
    }
   ],
   "source": [
    "def minimize_kl(kl_obj, init_x):\n",
    "    vb_opt = optimize.minimize(\n",
    "        kl_obj.fun_free,\n",
    "        x0=init_x,\n",
    "        jac=kl_obj.fun_free_grad,\n",
    "        hess=kl_obj.fun_free_hessian,\n",
    "        method='trust-ncg', options={'maxiter': 50, 'gtol': 1e-8, 'disp': True})\n",
    "\n",
    "    print('done')\n",
    "    return vb_opt\n",
    "\n",
    "vb_opt = minimize_kl(kl_obj, global_init_par_vec)\n",
    "print(kl_obj.fun_free(vb_opt.x))"
   ]
  },
  {
   "cell_type": "code",
   "execution_count": 27,
   "metadata": {
    "collapsed": false
   },
   "outputs": [],
   "source": [
    "model.vb_params['global'].set_free(vb_opt.x)"
   ]
  },
  {
   "cell_type": "code",
   "execution_count": 28,
   "metadata": {
    "collapsed": false,
    "scrolled": false
   },
   "outputs": [
    {
     "ename": "TypeError",
     "evalue": "display_results() missing 2 required positional arguments: 'true_v' and 'tau'",
     "output_type": "error",
     "traceback": [
      "\u001b[0;31m---------------------------------------------------------------------------\u001b[0m",
      "\u001b[0;31mTypeError\u001b[0m                                 Traceback (most recent call last)",
      "\u001b[0;32m<ipython-input-28-7fd3c22d5b5e>\u001b[0m in \u001b[0;36m<module>\u001b[0;34m()\u001b[0m\n\u001b[1;32m      2\u001b[0m \u001b[0mmodel\u001b[0m\u001b[0;34m.\u001b[0m\u001b[0mset_optimal_z\u001b[0m\u001b[0;34m(\u001b[0m\u001b[0;34m)\u001b[0m\u001b[0;34m\u001b[0m\u001b[0m\n\u001b[1;32m      3\u001b[0m \u001b[0me_z\u001b[0m \u001b[0;34m=\u001b[0m \u001b[0mmodel\u001b[0m\u001b[0;34m.\u001b[0m\u001b[0mvb_params\u001b[0m\u001b[0;34m[\u001b[0m\u001b[0;34m'local'\u001b[0m\u001b[0;34m]\u001b[0m\u001b[0;34m[\u001b[0m\u001b[0;34m'e_z'\u001b[0m\u001b[0;34m]\u001b[0m\u001b[0;34m.\u001b[0m\u001b[0mget\u001b[0m\u001b[0;34m(\u001b[0m\u001b[0;34m)\u001b[0m\u001b[0;34m\u001b[0m\u001b[0m\n\u001b[0;32m----> 4\u001b[0;31m \u001b[0mdp\u001b[0m\u001b[0;34m.\u001b[0m\u001b[0mdisplay_results\u001b[0m\u001b[0;34m(\u001b[0m\u001b[0mx\u001b[0m\u001b[0;34m,\u001b[0m \u001b[0mtrue_z\u001b[0m\u001b[0;34m,\u001b[0m \u001b[0mtrue_mu\u001b[0m\u001b[0;34m,\u001b[0m \u001b[0me_z\u001b[0m\u001b[0;34m,\u001b[0m \u001b[0mmu\u001b[0m\u001b[0;34m,\u001b[0m \u001b[0mmanual_perm\u001b[0m \u001b[0;34m=\u001b[0m \u001b[0;32mNone\u001b[0m\u001b[0;34m)\u001b[0m\u001b[0;34m\u001b[0m\u001b[0m\n\u001b[0m",
      "\u001b[0;31mTypeError\u001b[0m: display_results() missing 2 required positional arguments: 'true_v' and 'tau'"
     ]
    }
   ],
   "source": [
    "mu = model.vb_params['global']['mu'].get()\n",
    "model.set_optimal_z()\n",
    "e_z = model.vb_params['local']['e_z'].get()\n",
    "dp.display_results(x, true_z, true_mu, e_z, mu, manual_perm = None)"
   ]
  },
  {
   "cell_type": "code",
   "execution_count": 13,
   "metadata": {
    "collapsed": false
   },
   "outputs": [
    {
     "data": {
      "text/plain": [
       "array([[  3.92459043e+03,   3.93119813e+03],\n",
       "       [ -1.42691684e+03,  -1.42802797e+03],\n",
       "       [  2.21420211e+02,   2.23979301e+02],\n",
       "       [  2.10572804e-04,   6.31267876e-04],\n",
       "       [  2.48420648e+01,  -1.39977262e+01]])"
      ]
     },
     "execution_count": 13,
     "metadata": {},
     "output_type": "execute_result"
    }
   ],
   "source": [
    "np.dot(prior_mu, prior_info) + np.dot(e_z.T, np.dot(x, info_x))"
   ]
  },
  {
   "cell_type": "code",
   "execution_count": 22,
   "metadata": {
    "collapsed": false
   },
   "outputs": [
    {
     "data": {
      "text/plain": [
       "array([[  3.92559043e+03,   3.93219813e+03],\n",
       "       [ -1.42591684e+03,  -1.42702797e+03],\n",
       "       [  2.22420211e+02,   2.24979301e+02],\n",
       "       [  1.00021057e+00,   1.00063127e+00],\n",
       "       [  2.58420648e+01,  -1.29977262e+01]])"
      ]
     },
     "execution_count": 22,
     "metadata": {},
     "output_type": "execute_result"
    }
   ],
   "source": [
    " np.dot(e_z.T, np.dot(x, info_x))"
   ]
  },
  {
   "cell_type": "code",
   "execution_count": 25,
   "metadata": {
    "collapsed": false
   },
   "outputs": [
    {
     "data": {
      "text/plain": [
       "array([[  3.92459043e+03,   3.93119813e+03],\n",
       "       [ -1.42691684e+03,  -1.42802797e+03],\n",
       "       [  2.21420211e+02,   2.23979301e+02],\n",
       "       [  2.10572804e-04,   6.31267876e-04],\n",
       "       [  2.48420648e+01,  -1.39977262e+01]])"
      ]
     },
     "execution_count": 25,
     "metadata": {},
     "output_type": "execute_result"
    }
   ],
   "source": [
    "np.dot(e_z.T, np.dot(x, info_x))"
   ]
  },
  {
   "cell_type": "code",
   "execution_count": 27,
   "metadata": {
    "collapsed": false
   },
   "outputs": [
    {
     "data": {
      "text/plain": [
       "214.1255354365253"
      ]
     },
     "execution_count": 27,
     "metadata": {},
     "output_type": "execute_result"
    }
   ],
   "source": [
    "np.sum(e_z, axis = 0)[1]"
   ]
  },
  {
   "cell_type": "code",
   "execution_count": 28,
   "metadata": {
    "collapsed": true
   },
   "outputs": [],
   "source": [
    "info_update = np.array([prior_info + np.sum(e_z[:, i]) * info_x \\\n",
    "                            for i in range(k_approx)])"
   ]
  },
  {
   "cell_type": "code",
   "execution_count": 29,
   "metadata": {
    "collapsed": false
   },
   "outputs": [
    {
     "data": {
      "text/plain": [
       "array([[[ 391.99924641,    0.        ],\n",
       "        [   0.        ,  391.99924641]],\n",
       "\n",
       "       [[ 215.12553544,    0.        ],\n",
       "        [   0.        ,  215.12553544]],\n",
       "\n",
       "       [[  47.01574032,    0.        ],\n",
       "        [   0.        ,   47.01574032]],\n",
       "\n",
       "       [[   1.63235751,    0.        ],\n",
       "        [   0.        ,    1.63235751]],\n",
       "\n",
       "       [[ 349.22712063,    0.        ],\n",
       "        [   0.        ,  349.22712063]]])"
      ]
     },
     "execution_count": 29,
     "metadata": {},
     "output_type": "execute_result"
    }
   ],
   "source": [
    "info_update"
   ]
  },
  {
   "cell_type": "code",
   "execution_count": 30,
   "metadata": {
    "collapsed": true
   },
   "outputs": [],
   "source": [
    "sum_e_z = np.sum(e_z, axis = 0)"
   ]
  },
  {
   "cell_type": "code",
   "execution_count": 31,
   "metadata": {
    "collapsed": false
   },
   "outputs": [
    {
     "data": {
      "text/plain": [
       "array([ 390.99924641,  214.12553544,   46.01574032,    0.63235751,\n",
       "        348.22712063])"
      ]
     },
     "execution_count": 31,
     "metadata": {},
     "output_type": "execute_result"
    }
   ],
   "source": [
    "sum_e_z"
   ]
  },
  {
   "cell_type": "code",
   "execution_count": 35,
   "metadata": {
    "collapsed": false
   },
   "outputs": [],
   "source": [
    "cm = np.cumsum(sum_e_z)"
   ]
  },
  {
   "cell_type": "code",
   "execution_count": 41,
   "metadata": {
    "collapsed": false
   },
   "outputs": [
    {
     "data": {
      "text/plain": [
       "array([   0.        ,  390.99924641,  605.12478185,  651.14052216,\n",
       "        651.77287967])"
      ]
     },
     "execution_count": 41,
     "metadata": {},
     "output_type": "execute_result"
    }
   ],
   "source": [
    "np.concatenate(([0.0], cm[:-1]))"
   ]
  },
  {
   "cell_type": "code",
   "execution_count": null,
   "metadata": {
    "collapsed": true
   },
   "outputs": [],
   "source": []
  }
 ],
 "metadata": {
  "kernelspec": {
   "display_name": "Python 3",
   "language": "python",
   "name": "python3"
  },
  "language_info": {
   "codemirror_mode": {
    "name": "ipython",
    "version": 3
   },
   "file_extension": ".py",
   "mimetype": "text/x-python",
   "name": "python",
   "nbconvert_exporter": "python",
   "pygments_lexer": "ipython3",
   "version": "3.6.0"
  }
 },
 "nbformat": 4,
 "nbformat_minor": 2
}
