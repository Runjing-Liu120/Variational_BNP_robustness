{
 "cells": [
  {
   "cell_type": "markdown",
   "metadata": {},
   "source": [
    "## Variational inference in Dirichlet Process Normal Mixture"
   ]
  },
  {
   "cell_type": "code",
   "execution_count": 9,
   "metadata": {
    "collapsed": false
   },
   "outputs": [],
   "source": [
    "import autograd\n",
    "import autograd.numpy as np\n",
    "import autograd.scipy as sp\n",
    "from autograd.scipy import special\n",
    "from autograd import grad, hessian, hessian_vector_product, hessian, jacobian\n",
    "\n",
    "import sys\n",
    "sys.path.append('../../LinearResponseVariationalBayes.py')\n",
    "\n",
    "from VariationalBayes.ParameterDictionary import ModelParamsDict\n",
    "from VariationalBayes.Parameters import ScalarParam, VectorParam, ArrayParam\n",
    "from VariationalBayes.MultinomialParams import SimplexParam\n",
    "from VariationalBayes.DirichletParams import DirichletParamArray\n",
    "from VariationalBayes.WishartParams import WishartParam\n",
    "from VariationalBayes.MatrixParameters import PosDefMatrixParam, PosDefMatrixParamVector\n",
    "from VariationalBayes.SparseObjectives import SparseObjective, Objective\n",
    "\n",
    "import DP_normal_mixture_lib as dp\n",
    "import DP_normal_mixture_opt_lib as dp_opt\n",
    "import DP_lrvb as lrvb\n",
    "\n",
    "from copy import deepcopy\n",
    "\n",
    "import scipy as osp\n",
    "from scipy import optimize\n",
    "\n",
    "import time\n",
    "\n",
    "import matplotlib.pyplot as plt\n",
    "%matplotlib inline  \n"
   ]
  },
  {
   "cell_type": "markdown",
   "metadata": {
    "collapsed": true
   },
   "source": [
    "# Generate Data"
   ]
  },
  {
   "cell_type": "code",
   "execution_count": 10,
   "metadata": {
    "collapsed": false,
    "scrolled": true
   },
   "outputs": [],
   "source": [
    "np.random.seed(52432)\n",
    "# np.random.seed(54325)\n",
    "\n",
    "# data parameters\n",
    "num_obs = 1000 # number of observations \n",
    "x_dim = 2 # dimension of observations\n",
    "k_true = 2 # true number of clusters\n",
    "\n",
    "true_info_x = 0.1 * np.eye(x_dim) \n",
    "\n",
    "x, true_mu, true_z, true_pi = dp.draw_data(true_info_x, x_dim, k_true, num_obs)\n",
    "\n",
    "\n",
    "# prior parameters\n",
    "alpha = 2.0 # DP parameter\n",
    "prior_mu = np.mean(x, axis = 0)\n",
    "prior_wishart_dof = x_dim\n",
    "prior_wishart_scale = true_info_x / prior_wishart_dof\n",
    "kappa = 0.001\n",
    "\n",
    "# variational truncation \n",
    "k_approx = 10\n",
    "\n"
   ]
  },
  {
   "cell_type": "code",
   "execution_count": 11,
   "metadata": {
    "collapsed": false,
    "scrolled": true
   },
   "outputs": [
    {
     "name": "stdout",
     "output_type": "stream",
     "text": [
      "observed mixture proportions: \n",
      " [ 0.514  0.486]\n",
      "true mixture proportions: \n",
      " [ 0.5  0.5]\n"
     ]
    },
    {
     "data": {
      "image/png": "[encoded data removed]",
      "text/plain": [
       "<matplotlib.figure.Figure at 0x7faf12f08eb8>"
      ]
     },
     "metadata": {},
     "output_type": "display_data"
    }
   ],
   "source": [
    "# visualize the data\n",
    "plt.plot(x[:,0], x[:,1], 'k.')\n",
    "for k in range(k_true):\n",
    "    plt.plot(true_mu[k, 0], true_mu[k, 1], 'ro')\n",
    "    \n",
    "print('observed mixture proportions: \\n', np.mean(true_z, axis = 0))\n",
    "print('true mixture proportions: \\n', true_pi)"
   ]
  },
  {
   "cell_type": "markdown",
   "metadata": {},
   "source": [
    "# Set up VB model and initialize"
   ]
  },
  {
   "cell_type": "code",
   "execution_count": 12,
   "metadata": {
    "collapsed": false
   },
   "outputs": [],
   "source": [
    "# global parameters\n",
    "global_params = ModelParamsDict('global')\n",
    "\n",
    "# variational MVN parameters\n",
    "global_params.push_param(\n",
    "    PosDefMatrixParamVector(name='info_mu', length=k_approx, matrix_size=x_dim)) # variational variances\n",
    "global_params.push_param(\n",
    "    ArrayParam(name='mu', shape=(k_approx, x_dim))) # variational means\n",
    "\n",
    "# variational beta parameters\n",
    "global_params.push_param(\n",
    "    DirichletParamArray(name='v_sticks', shape=(k_approx - 1, 2))) # note the shape k_approx - 1 ...\n",
    "                                                                   # the last stick is always 1 in our approximation\n",
    "\n",
    "# variational wishart parameters\n",
    "global_params.push_param(\n",
    "    WishartParam(name = 'wishart', size = x_dim))\n",
    "    \n",
    "    \n",
    "# variational wishart parameters\n",
    "# global_params.push_param(\n",
    "#     PosDefMatrixParam(name='inv_wishart_scale', size = x_dim))\n",
    "# global_params.push_param(\n",
    "#     ScalarParam(name='wishart_dof', lb = x_dim - 1))\n"
   ]
  },
  {
   "cell_type": "code",
   "execution_count": 13,
   "metadata": {
    "collapsed": false
   },
   "outputs": [],
   "source": [
    "# local indicators\n",
    "local_params = ModelParamsDict('local')\n",
    "local_params.push_param(\n",
    "    SimplexParam(name='e_z', shape=(num_obs, k_approx)))\n",
    "\n",
    "vb_params = ModelParamsDict('vb_params model')\n",
    "vb_params.push_param(global_params)\n",
    "vb_params.push_param(local_params)"
   ]
  },
  {
   "cell_type": "code",
   "execution_count": 14,
   "metadata": {
    "collapsed": false
   },
   "outputs": [],
   "source": [
    "# prior paramters\n",
    "prior_params = ModelParamsDict('prior_params')\n",
    "\n",
    "# prior mean\n",
    "prior_params.push_param(VectorParam(name='prior_mu', size=x_dim, val=prior_mu))\n",
    "\n",
    "# prior wishart parameters\n",
    "prior_params.push_param(WishartParam(name = 'prior wishart', size = x_dim))\n",
    "prior_params['prior wishart'].params['v'].set(prior_wishart_scale)\n",
    "prior_params['prior wishart'].params['df'].set(prior_wishart_dof)\n",
    "\n",
    "\n",
    "prior_params.push_param(ScalarParam(name='kappa', val = kappa))\n",
    "\n",
    "# dp paramter\n",
    "prior_params.push_param(ScalarParam(name='alpha', val=alpha))\n"
   ]
  },
  {
   "cell_type": "code",
   "execution_count": 15,
   "metadata": {
    "collapsed": false
   },
   "outputs": [],
   "source": [
    "## initialize VB params\n",
    "\n",
    "vb_params.set_free(np.random.random(vb_params.free_size()))\n",
    "\n",
    "#vb_params['global']['inv_wishart_scale'].set(np.linalg.inv(true_info_x / x_dim))\n",
    "#vb_params['global']['wishart_dof'].set(np.array([x_dim]))\n",
    "\n",
    "# vb_params['global']['mu'].set(true_mu)\n",
    "\n",
    "init_free_params = vb_params.get_free()\n",
    "global_init_free_params = vb_params['global'].get_free()\n",
    "\n",
    "model = dp.DPNormalMixture(x, vb_params, prior_params)"
   ]
  },
  {
   "cell_type": "markdown",
   "metadata": {},
   "source": [
    "# Run CAVI "
   ]
  },
  {
   "cell_type": "code",
   "execution_count": 8,
   "metadata": {
    "collapsed": false,
    "scrolled": true
   },
   "outputs": [
    {
     "name": "stdout",
     "output_type": "stream",
     "text": [
      "CAVI terminated successfully :)\n",
      "iterations ran:  1634\n",
      "kl:  [ 3790.0023927]\n"
     ]
    },
    {
     "data": {
      "image/png": "[encoded data removed]",
      "text/plain": [
       "<matplotlib.figure.Figure at 0x7faf4492e5c0>"
      ]
     },
     "metadata": {},
     "output_type": "display_data"
    }
   ],
   "source": [
    "dp_opt.run_cavi(model, init_free_params, max_iter = 2000, tol = 1e-8, disp = False)\n",
    "cavi_results = deepcopy(model)\n",
    "print('kl: ', cavi_results.get_kl())\n"
   ]
  },
  {
   "cell_type": "markdown",
   "metadata": {},
   "source": [
    "### examine results of CAVI"
   ]
  },
  {
   "cell_type": "code",
   "execution_count": 35,
   "metadata": {
    "collapsed": false
   },
   "outputs": [
    {
     "data": {
      "image/png": "[encoded data removed]",
      "text/plain": [
       "<matplotlib.figure.Figure at 0x7fcf82aea5f8>"
      ]
     },
     "metadata": {},
     "output_type": "display_data"
    },
    {
     "data": {
      "image/png": "[encoded data removed]",
      "text/plain": [
       "<matplotlib.figure.Figure at 0x7fcf82aea668>"
      ]
     },
     "metadata": {},
     "output_type": "display_data"
    }
   ],
   "source": [
    "# plot posterior predictive\n",
    "e_z = cavi_results.vb_params['local']['e_z'].get()\n",
    "mu = cavi_results.vb_params['global']['mu'].get()\n",
    "pred_x = np.dot(e_z, mu)\n",
    "for col in range(x_dim):\n",
    "    plt.clf()\n",
    "    plt.plot(pred_x[:, col], x[:, col], 'ko')\n",
    "    diag = np.linspace(np.min(pred_x[:,col]),np.max(pred_x[:,col]))\n",
    "    plt.plot(diag, diag)\n",
    "    plt.title('Posterior predictive, column' + str(col))\n",
    "    plt.xlabel('predicted X')\n",
    "    plt.ylabel('true X')\n",
    "    plt.show()\n"
   ]
  },
  {
   "cell_type": "code",
   "execution_count": 36,
   "metadata": {
    "collapsed": false,
    "scrolled": false
   },
   "outputs": [
    {
     "name": "stdout",
     "output_type": "stream",
     "text": [
      "true_proportions [ 0.5  0.5]\n",
      "estimated proportions:  [  3.59378955e-01   4.83841883e-01   1.54800804e-01   6.59452661e-04\n",
      "   4.39635107e-04   2.93090071e-04   1.95393381e-04   1.30262254e-04\n",
      "   8.68415027e-05   1.73683005e-04]\n",
      "significant proportions [ 0.35937896  0.48384188  0.1548008 ] \n",
      "\n",
      "true number of clusters:  2\n",
      "number of \"posterior clusters\" (ie. no. clusters w/ siginifcant weights):  3\n",
      "recall variational truncation:  10\n"
     ]
    }
   ],
   "source": [
    "# lets look at the estimated mixture proportions\n",
    "\n",
    "tau = cavi_results.vb_params['global']['v_sticks'].alpha.get() \n",
    "post_stick_length = tau[:,0] / np.sum(tau, axis = 1) # mean posterior stick lengths\n",
    "\n",
    "# compute mixture proportions using mean posterior stick lengths\n",
    "post_pi = np.ones(k_approx)\n",
    "stick_remain = np.ones(k_approx - 1)\n",
    "for i in range(k_approx - 1):\n",
    "    post_pi[i] = stick_remain[i - 1] * post_stick_length[i]\n",
    "    stick_remain[i] = stick_remain[i - 1] * (1 - post_stick_length[i])\n",
    "post_pi[-1] = stick_remain[-1]\n",
    "assert(np.abs(np.sum(post_pi) - 1.) < 10**(-10))\n",
    "\n",
    "\n",
    "heavy_clusters = post_pi > 1 / 100 # k_approx # clusters with significant weights \n",
    "\n",
    "print('true_proportions', true_pi)\n",
    "print('estimated proportions: ', post_pi)\n",
    "print('significant proportions', post_pi[heavy_clusters], '\\n')\n",
    "\n",
    "print('true number of clusters: ', k_true)\n",
    "print('number of \"posterior clusters\" (ie. no. clusters w/ siginifcant weights): ', np.sum(post_pi > 1 / k_approx))\n",
    "print('recall variational truncation: ', k_approx)\n",
    "\n"
   ]
  },
  {
   "cell_type": "code",
   "execution_count": 37,
   "metadata": {
    "collapsed": false
   },
   "outputs": [
    {
     "name": "stdout",
     "output_type": "stream",
     "text": [
      "true means: \n",
      "[[0 0]\n",
      " [5 5]] \n",
      "\n",
      "relevant posterior means (ie. posterior means for clusters with significant weights): \n",
      "[[ 1.10073553 -1.12680605]\n",
      " [ 4.871117    5.16491909]\n",
      " [-1.68552985  1.57528819]]\n"
     ]
    }
   ],
   "source": [
    "# lets look at posterior means\n",
    "print('true means: ')\n",
    "print(true_mu, '\\n')\n",
    "\n",
    "print('relevant posterior means (ie. posterior means for clusters with significant weights): ')\n",
    "post_mean = cavi_results.vb_params['global']['mu'].get()[heavy_clusters, :]\n",
    "print(post_mean)"
   ]
  },
  {
   "cell_type": "code",
   "execution_count": 38,
   "metadata": {
    "collapsed": false,
    "scrolled": true
   },
   "outputs": [
    {
     "name": "stdout",
     "output_type": "stream",
     "text": [
      "here, black are data points. red are the true means. blue are the posterior means\n",
      "blue circles are two std deviations\n"
     ]
    },
    {
     "data": {
      "image/png": "[encoded data removed]",
      "text/plain": [
       "<matplotlib.figure.Figure at 0x7fcf82c84b38>"
      ]
     },
     "metadata": {},
     "output_type": "display_data"
    }
   ],
   "source": [
    "# visualize the data\n",
    "from matplotlib.patches import Ellipse\n",
    "\n",
    "fig = plt.figure(0)\n",
    "ax = fig.add_subplot(111, aspect='equal')\n",
    "\n",
    "e_cov_x = np.linalg.inv(cavi_results.vb_params['global']['wishart'].params['v'].get()) / \\\n",
    "                cavi_results.vb_params['global']['wishart'].params['df'].get()\n",
    "\n",
    "lambda_, v = np.linalg.eig(e_cov_x)\n",
    "lambda_ = np.sqrt(lambda_)\n",
    "\n",
    "for i in range(np.shape(post_mean)[0]): \n",
    "    ell = Ellipse(xy=(post_mean[i, 0], post_mean[i, 1]),\n",
    "                      width=lambda_[0]*2*2, height=lambda_[1]*2*2,\n",
    "                      angle=np.rad2deg(np.arccos(v[0, 0])))\n",
    "    ell.set_edgecolor('blue')\n",
    "    ell.set_facecolor('none')\n",
    "    ax.add_artist(ell)\n",
    "    \n",
    "plt.scatter(x[:,0], x[:,1], c = 'black', marker = '.')\n",
    "\n",
    "for k in range(k_true):\n",
    "    plt.scatter(true_mu[k, 0], true_mu[k, 1], c = 'red')\n",
    "\n",
    "for k in range(np.shape(post_mean)[0]):\n",
    "    plt.scatter(post_mean[k, 0], post_mean[k, 1], c = 'blue', marker = '^')\n",
    "    \n",
    "\n",
    "print('here, black are data points. red are the true means. blue are the posterior means')\n",
    "print('blue circles are two std deviations')"
   ]
  },
  {
   "cell_type": "markdown",
   "metadata": {},
   "source": [
    "# Newton Optimization"
   ]
  },
  {
   "cell_type": "code",
   "execution_count": 39,
   "metadata": {
    "collapsed": false
   },
   "outputs": [],
   "source": [
    "kl_obj = Objective(model.vb_params['global'], model.kl_optimize_z)"
   ]
  },
  {
   "cell_type": "code",
   "execution_count": 40,
   "metadata": {
    "collapsed": false,
    "scrolled": false
   },
   "outputs": [
    {
     "name": "stdout",
     "output_type": "stream",
     "text": [
      "Optimization terminated successfully.\n",
      "         Current function value: 3789.986776\n",
      "         Iterations: 13\n",
      "         Function evaluations: 14\n",
      "         Gradient evaluations: 14\n",
      "         Hessian evaluations: 0\n",
      "done :o\n"
     ]
    }
   ],
   "source": [
    "def minimize_kl(kl_obj, init_x, maxiter = 50, gtol = 1e-6, disp = True):\n",
    "    vb_opt = optimize.minimize(\n",
    "        kl_obj.fun_free,\n",
    "        x0=init_x,\n",
    "        jac=kl_obj.fun_free_grad,\n",
    "        hessp=kl_obj.fun_free_hvp,\n",
    "        method='trust-ncg', options={'maxiter': maxiter, 'gtol': gtol, 'disp': disp})\n",
    "\n",
    "    print('done :o')\n",
    "    return vb_opt\n",
    "\n",
    "newton_tr_init = cavi_results.vb_params['global'].get_free() # initialize with result from CAVI\n",
    "newton_tr_opt = minimize_kl(kl_obj, newton_tr_init) # run Newton"
   ]
  },
  {
   "cell_type": "code",
   "execution_count": 41,
   "metadata": {
    "collapsed": true
   },
   "outputs": [],
   "source": [
    "model.vb_params['global'].set_free(newton_tr_opt.x)\n",
    "model.set_optimal_z()\n",
    "\n",
    "newton_results = deepcopy(model)"
   ]
  },
  {
   "cell_type": "code",
   "execution_count": 42,
   "metadata": {
    "collapsed": false
   },
   "outputs": [
    {
     "name": "stdout",
     "output_type": "stream",
     "text": [
      "minimizing function value 3789.98677628\n",
      "L_inf norm of gradient:  8.49384813505e-07\n",
      "time to compute Hessian (sec):  11.032517671585083\n",
      "Hessian eigenvalues all positive:  True\n",
      "distance (l2) to minimizer of quadratic approx. :  5.56941688247e-07\n"
     ]
    }
   ],
   "source": [
    "# checking the optima\n",
    "\n",
    "print('minimizing function value', newton_results.get_kl())\n",
    "\n",
    "# check that the gradient is close to 0\n",
    "kl_grad = kl_obj.fun_free_grad(newton_tr_opt.x)\n",
    "# print(kl_grad)\n",
    "print('L_inf norm of gradient: ', np.max(np.abs(kl_grad)))\n",
    "\n",
    "t0 = time.time()\n",
    "kl_hessian = kl_obj.fun_free_hessian(newton_tr_opt.x)\n",
    "hessian_time = time.time() - t0\n",
    "\n",
    "hessian_evals = np.linalg.eigvals(kl_hessian)\n",
    "\n",
    "print('time to compute Hessian (sec): ', hessian_time)\n",
    "# print('eigenvalues: \\n', hessian_evals)\n",
    "print('Hessian eigenvalues all positive: ', np.all(hessian_evals > 0))\n",
    "print('distance (l2) to minimizer of quadratic approx. : ', np.linalg.norm(-np.linalg.solve(kl_hessian, kl_grad)))"
   ]
  },
  {
   "cell_type": "code",
   "execution_count": 43,
   "metadata": {
    "collapsed": false,
    "scrolled": false
   },
   "outputs": [
    {
     "data": {
      "image/png": "[encoded data removed]",
      "text/plain": [
       "<matplotlib.figure.Figure at 0x7fcf82c68eb8>"
      ]
     },
     "metadata": {},
     "output_type": "display_data"
    },
    {
     "data": {
      "image/png": "[encoded data removed]",
      "text/plain": [
       "<matplotlib.figure.Figure at 0x7fcf82aea320>"
      ]
     },
     "metadata": {},
     "output_type": "display_data"
    }
   ],
   "source": [
    "# plot posterior predictive\n",
    "e_z = newton_results.vb_params['local']['e_z'].get()\n",
    "mu = newton_results.vb_params['global']['mu'].get()\n",
    "pred_x = np.dot(e_z, mu)\n",
    "for col in range(x_dim):\n",
    "    plt.clf()\n",
    "    plt.plot(pred_x[:, col], x[:, col], 'ko')\n",
    "    diag = np.linspace(np.min(pred_x[:,col]),np.max(pred_x[:,col]))\n",
    "    plt.plot(diag, diag)\n",
    "    plt.title('Posterior predictive, column' + str(col))\n",
    "    plt.xlabel('predicted X')\n",
    "    plt.ylabel('true X')\n",
    "    plt.show()\n"
   ]
  },
  {
   "cell_type": "code",
   "execution_count": 44,
   "metadata": {
    "collapsed": false,
    "scrolled": false
   },
   "outputs": [
    {
     "name": "stdout",
     "output_type": "stream",
     "text": [
      "[[ 1.10073553 -1.12680605]\n",
      " [ 4.871117    5.16491909]\n",
      " [-1.68552985  1.57528819]\n",
      " [ 2.49630269  2.34514556]\n",
      " [ 2.49630269  2.34514556]\n",
      " [ 2.49630269  2.34514556]\n",
      " [ 2.49630269  2.34514556]\n",
      " [ 2.49630269  2.34514556]\n",
      " [ 2.49630269  2.34514556]\n",
      " [ 2.49630269  2.34514556]]\n",
      "[[ 1.05130482 -1.05754116]\n",
      " [ 4.85864979  5.15490171]\n",
      " [-1.74966231  1.58719412]\n",
      " [ 2.49630269  2.34514556]\n",
      " [ 2.49630269  2.34514556]\n",
      " [ 2.49630269  2.34514556]\n",
      " [ 2.49630269  2.34514556]\n",
      " [ 2.49630269  2.34514556]\n",
      " [ 2.49630269  2.34514556]\n",
      " [ 2.49630269  2.34514556]]\n",
      "l1 difference (normalized) between means:  0.0108609291387\n"
     ]
    }
   ],
   "source": [
    "# compare CAVI with Newton_tr\n",
    "print(cavi_results.vb_params['global']['mu'].get())\n",
    "print(newton_results.vb_params['global']['mu'].get())\n",
    "\n",
    "print('l1 difference (normalized) between means: ', \\\n",
    "      np.mean(np.abs(cavi_results.vb_params['global']['mu'].get() \\\n",
    "                     - newton_results.vb_params['global']['mu'].get())))"
   ]
  },
  {
   "cell_type": "code",
   "execution_count": 48,
   "metadata": {
    "collapsed": false,
    "scrolled": true
   },
   "outputs": [
    {
     "name": "stdout",
     "output_type": "stream",
     "text": [
      "l1 difference (normalized) between all params:  0.00686976408475\n"
     ]
    }
   ],
   "source": [
    "print('l1 difference (normalized) between all params: ', \\\n",
    "      np.mean(np.abs(cavi_results.vb_params.get_vector() - newton_results.vb_params.get_vector())))"
   ]
  },
  {
   "cell_type": "markdown",
   "metadata": {},
   "source": [
    "# Parametric sensitivity analysis"
   ]
  },
  {
   "cell_type": "markdown",
   "metadata": {},
   "source": [
    "In particular, we are interested in how posterior quantities depend on our choice of DP parameter $\\alpha$. "
   ]
  },
  {
   "cell_type": "markdown",
   "metadata": {},
   "source": [
    "As a first step, lets manually perturb $\\alpha$ and re-optimize. We will then compare these perturbed results with the sensitivity predicted by LRVB. "
   ]
  },
  {
   "cell_type": "code",
   "execution_count": 49,
   "metadata": {
    "collapsed": false,
    "scrolled": false
   },
   "outputs": [
    {
     "name": "stdout",
     "output_type": "stream",
     "text": [
      "Optimization terminated successfully.\n",
      "         Current function value: 3790.925948\n",
      "         Iterations: 7\n",
      "         Function evaluations: 8\n",
      "         Gradient evaluations: 8\n",
      "         Hessian evaluations: 0\n",
      "done :o\n"
     ]
    }
   ],
   "source": [
    "epsilon = 0.1 # how much we will perturb alpha\n",
    "\n",
    "model_perturbed = deepcopy(newton_results)\n",
    "model_perturbed.alpha = alpha + epsilon # perturb dp parameter\n",
    "\n",
    "# define new objective\n",
    "kl_obj_perturbed = Objective(model_perturbed.vb_params['global'], model_perturbed.kl_optimize_z)\n",
    "\n",
    "# find new optima\n",
    "newton_tr_opt_perturbed = minimize_kl(kl_obj_perturbed, newton_tr_opt.x, gtol = 10**(-6))\n",
    "\n",
    "model_perturbed.vb_params['global'].set_free(newton_tr_opt_perturbed.x) \n",
    "model_perturbed.set_optimal_z()"
   ]
  },
  {
   "cell_type": "code",
   "execution_count": 53,
   "metadata": {
    "collapsed": false
   },
   "outputs": [
    {
     "data": {
      "text/plain": [
       "array([[ 0.36889588,  0.63110412],\n",
       "       [ 0.76816648,  0.23183352],\n",
       "       [ 0.98581047,  0.01418953],\n",
       "       [ 0.32258065,  0.67741935],\n",
       "       [ 0.32258065,  0.67741935],\n",
       "       [ 0.32258065,  0.67741935],\n",
       "       [ 0.32258065,  0.67741935],\n",
       "       [ 0.32258065,  0.67741935],\n",
       "       [ 0.32258065,  0.67741935]])"
      ]
     },
     "execution_count": 53,
     "metadata": {},
     "output_type": "execute_result"
    }
   ],
   "source": [
    "model_perturbed.vb_params['global']['v_sticks'].e()"
   ]
  },
  {
   "cell_type": "code",
   "execution_count": 50,
   "metadata": {
    "collapsed": false,
    "scrolled": true
   },
   "outputs": [
    {
     "name": "stdout",
     "output_type": "stream",
     "text": [
      "L_inf norm of gradient:  8.64748673435e-08\n",
      "time to compute Hessian (sec):  10.227798700332642\n",
      "Hessian evals all positive:  True\n",
      "distance (l2) to minimizer of quadratic approx. :  1.42108532944e-06\n"
     ]
    }
   ],
   "source": [
    "# checking the optima\n",
    "\n",
    "# check that the gradient is close to 0\n",
    "kl_grad = kl_obj_perturbed.fun_free_grad(newton_tr_opt_perturbed.x)\n",
    "# print(kl_grad)\n",
    "print('L_inf norm of gradient: ', np.max(np.abs(kl_grad)))\n",
    "\n",
    "t0 = time.time()\n",
    "kl_hessian = kl_obj_perturbed.fun_free_hessian(newton_tr_opt_perturbed.x)\n",
    "hessian_time = time.time() - t0\n",
    "\n",
    "hessian_evals = np.linalg.eigvals(kl_hessian)\n",
    "\n",
    "print('time to compute Hessian (sec): ', hessian_time)\n",
    "# print('eigenvalues: \\n', hessian_evals)\n",
    "print('Hessian evals all positive: ', np.all(hessian_evals > 0))\n",
    "print('distance (l2) to minimizer of quadratic approx. : ', np.linalg.norm(-np.linalg.solve(kl_hessian, kl_grad)))"
   ]
  },
  {
   "cell_type": "markdown",
   "metadata": {},
   "source": [
    "Now, lets do LRVB and get predicted sensitivities for various posterior quantities"
   ]
  },
  {
   "cell_type": "markdown",
   "metadata": {},
   "source": [
    "### V_stick sensitivity"
   ]
  },
  {
   "cell_type": "markdown",
   "metadata": {},
   "source": [
    "As a first pass, we look at the sensitivity of the posterior stick lengths to our choice of DP parameter $\\alpha$"
   ]
  },
  {
   "cell_type": "code",
   "execution_count": 51,
   "metadata": {
    "collapsed": false,
    "scrolled": false
   },
   "outputs": [
    {
     "name": "stdout",
     "output_type": "stream",
     "text": [
      "evaluating hessian ...\n",
      "ok\n",
      "LRVB predicted_sensitivity: \n",
      " [-0.00108594 -0.00217342 -0.00660245 -0.11111111 -0.11111111 -0.11111111\n",
      " -0.11111111 -0.11111111 -0.11111111]\n",
      "true sensitivity: \n",
      " [-0.00108359 -0.0021699  -0.00659476 -0.10752688 -0.10752688 -0.10752688\n",
      " -0.10752688 -0.10752688 -0.10752688]\n"
     ]
    }
   ],
   "source": [
    "def get_v_sticks(model, global_free_params): \n",
    "    model.vb_params['global'].set_free(global_free_params)  \n",
    "    model.set_optimal_z()\n",
    "\n",
    "    return model.vb_params['global']['v_sticks'].e()[:,0]\n",
    "\n",
    "# compute LRVB sensitivity\n",
    "alpha_sensitivity = lrvb.DPAlphaSensitivity(model, newton_tr_opt.x)\n",
    "lrvb_sens_v_sticks = alpha_sensitivity.get_param_sensitivity(lambda x : get_v_sticks(model, x))\n",
    "\n",
    "print('LRVB predicted_sensitivity: \\n', lrvb_sens_v_sticks)\n",
    "\n",
    "# true senstivity\n",
    "perturbed_mean = model_perturbed.vb_params['global']['v_sticks'].e()[:,0]\n",
    "old_mean = newton_results.vb_params['global']['v_sticks'].e()[:,0]\n",
    "\n",
    "print('true sensitivity: \\n', (perturbed_mean - old_mean) / epsilon)"
   ]
  },
  {
   "cell_type": "markdown",
   "metadata": {},
   "source": [
    "### Cluster mean sensitivity"
   ]
  },
  {
   "cell_type": "markdown",
   "metadata": {},
   "source": [
    "We can also check the sensitivity of posterior means to $\\alpha$. "
   ]
  },
  {
   "cell_type": "code",
   "execution_count": 54,
   "metadata": {
    "collapsed": false
   },
   "outputs": [
    {
     "name": "stdout",
     "output_type": "stream",
     "text": [
      "LRVB predicted_sensitivity: \n",
      " [  3.15809493e-03  -4.04949565e-03   4.64264347e-04   1.05428559e-04\n",
      "   6.87434683e-03  -1.80681021e-03  -9.02211282e-20   1.26385798e-19\n",
      "  -9.02211282e-20   1.26385798e-19  -9.02211282e-20   1.26385798e-19\n",
      "  -9.02211282e-20   1.26385798e-19  -9.02211282e-20   1.26385798e-19\n",
      "  -9.02211282e-20   1.26385798e-19  -9.02211282e-20   1.26385798e-19]\n",
      "true sensitivity: \n",
      " [ 0.00314781 -0.00403676  0.00046326  0.00010521  0.00685227 -0.00180184\n",
      "  0.          0.          0.          0.          0.          0.          0.\n",
      "  0.          0.          0.          0.          0.          0.          0.        ]\n"
     ]
    }
   ],
   "source": [
    "def get_cluster_means(model, global_free_params): \n",
    "    model.vb_params['global'].set_free(global_free_params)  \n",
    "    model.set_optimal_z()\n",
    "    \n",
    "    return model.vb_params['global']['mu'].get_vector()\n",
    "\n",
    "# compute LRVB sensitivity\n",
    "lrvb_sens_means = alpha_sensitivity.get_param_sensitivity(lambda x : get_cluster_means(model, x))\n",
    "\n",
    "print('LRVB predicted_sensitivity: \\n', lrvb_sens_means)\n",
    "\n",
    "# true senstivity\n",
    "perturbed_mean = model_perturbed.vb_params['global']['mu'].get_vector()\n",
    "old_mean = newton_results.vb_params['global']['mu'].get_vector()\n",
    "\n",
    "print('true sensitivity: \\n', (perturbed_mean - old_mean) / epsilon)"
   ]
  },
  {
   "cell_type": "markdown",
   "metadata": {},
   "source": [
    "### Co-clustering sensitivity"
   ]
  },
  {
   "cell_type": "markdown",
   "metadata": {},
   "source": [
    "Since this is a clustering problem, we can check other moments too: like co-clustering. In particular, for two data points indexed by $n_1$ and $n_2$, we can check the sensitivty of $E[z_{n_1} \\cdot z_{n_2}]$, the indicator that $x_{n_1}$ and $x_{n_2}$ belong to the same cluster."
   ]
  },
  {
   "cell_type": "code",
   "execution_count": 55,
   "metadata": {
    "collapsed": true
   },
   "outputs": [],
   "source": [
    "def get_co_clustering(model, global_free_params, n1, n2): \n",
    "    model.vb_params['global'].set_free(global_free_params)  \n",
    "    model.set_optimal_z()\n",
    "\n",
    "    e_z1 = model.vb_params['local']['e_z'].get()[n1, :]\n",
    "    e_z2 = model.vb_params['local']['e_z'].get()[n2, :]\n",
    "    \n",
    "    return np.dot(e_z1, e_z2)"
   ]
  },
  {
   "cell_type": "code",
   "execution_count": 56,
   "metadata": {
    "collapsed": false
   },
   "outputs": [
    {
     "name": "stdout",
     "output_type": "stream",
     "text": [
      "cluster of first data point:  [ 1.  0.  0.  0.  0.  0.  0.  0.  0.  0.]\n",
      "cluster of second data point:  [ 0.  1.  0.  0.  0.  0.  0.  0.  0.  0.]\n",
      "cluster mean of first data point:  [ 1.10073553 -1.12680605]\n",
      "cluster mean of first data point:  [ 4.871117    5.16491909]\n",
      "\n",
      "here, black are data points. red are the true means. \n",
      "blue are the posterior means. yellow are the chosen data points. \n"
     ]
    },
    {
     "data": {
      "image/png": "[encoded data removed]",
      "text/plain": [
       "<matplotlib.figure.Figure at 0x7fcf82c8b780>"
      ]
     },
     "metadata": {},
     "output_type": "display_data"
    }
   ],
   "source": [
    "# choose two data points\n",
    "n1 = 0\n",
    "n2 = 1\n",
    "\n",
    "cluster1 = np.round(model.vb_params['local']['e_z'].get()[n1, :])\n",
    "cluster2 = np.round(model.vb_params['local']['e_z'].get()[n2, :])\n",
    "\n",
    "print('cluster of first data point: ', cluster1)\n",
    "print('cluster of second data point: ', cluster2)\n",
    "print('cluster mean of first data point: ', np.dot(cluster1, cavi_results.vb_params['global']['mu'].get()))\n",
    "print('cluster mean of first data point: ', np.dot(cluster2, cavi_results.vb_params['global']['mu'].get()))\n",
    "\n",
    "# visualize the data\n",
    "plt.plot(x[:,0], x[:,1], 'k.')\n",
    "for k in range(k_true):\n",
    "    plt.plot(true_mu[k, 0], true_mu[k, 1], 'ro')\n",
    "\n",
    "for k in range(np.shape(post_mean)[0]):\n",
    "    plt.plot(post_mean[k, 0], post_mean[k, 1], 'b^')\n",
    "    \n",
    "plt.plot(x[n1, 0], x[n1, 0], 'yo')\n",
    "plt.plot(x[n2, 0], x[n2, 0], 'yo')\n",
    "\n",
    "print('\\nhere, black are data points. red are the true means. ')\n",
    "print('blue are the posterior means. yellow are the chosen data points. ')"
   ]
  },
  {
   "cell_type": "code",
   "execution_count": 57,
   "metadata": {
    "collapsed": false
   },
   "outputs": [
    {
     "name": "stdout",
     "output_type": "stream",
     "text": [
      "predicted_sensitivity: \n",
      " -0.000326516514747\n",
      "true_sensitivty: \n",
      " -0.000325481742835\n"
     ]
    }
   ],
   "source": [
    "lrvb_sens_co_cluster = alpha_sensitivity.get_param_sensitivity(\\\n",
    "                                        lambda x: get_co_clustering(model, x, n1, n2))\n",
    "\n",
    "print('predicted_sensitivity: \\n', lrvb_sens_co_cluster)\n",
    "co_clustering = np.dot(newton_results.vb_params['local']['e_z'].get()[n1, :], \\\n",
    "    newton_results.vb_params['local']['e_z'].get()[n2, :])\n",
    "    \n",
    "co_clustering_pert = np.dot(model_perturbed.vb_params['local']['e_z'].get()[n1, :], \\\n",
    "    model_perturbed.vb_params['local']['e_z'].get()[n2, :])\n",
    "\n",
    "print('true_sensitivty: \\n', (co_clustering_pert - co_clustering)/ epsilon)\n"
   ]
  },
  {
   "cell_type": "code",
   "execution_count": 58,
   "metadata": {
    "collapsed": false
   },
   "outputs": [
    {
     "name": "stdout",
     "output_type": "stream",
     "text": [
      "cluster of first data point:  [ 1.  0.  0.  0.  0.  0.  0.  0.  0.  0.]\n",
      "cluster of second data point:  [ 1.  0.  0.  0.  0.  0.  0.  0.  0.  0.]\n",
      "cluster mean of first data point:  [ 1.10073553 -1.12680605]\n",
      "cluster mean of first data point:  [ 1.10073553 -1.12680605]\n",
      "\n",
      "here, black are data points. red are the true means. \n",
      "blue are the posterior means. yellow are the chosen data points. \n"
     ]
    },
    {
     "data": {
      "image/png": "[encoded data removed]",
      "text/plain": [
       "<matplotlib.figure.Figure at 0x7fcf82d6c518>"
      ]
     },
     "metadata": {},
     "output_type": "display_data"
    }
   ],
   "source": [
    "# choose two data points\n",
    "n1 = 0\n",
    "n2 = 2\n",
    "\n",
    "cluster1 = np.round(model.vb_params['local']['e_z'].get()[n1, :])\n",
    "cluster2 = np.round(model.vb_params['local']['e_z'].get()[n2, :])\n",
    "\n",
    "print('cluster of first data point: ', cluster1)\n",
    "print('cluster of second data point: ', cluster2)\n",
    "print('cluster mean of first data point: ', np.dot(cluster1, cavi_results.vb_params['global']['mu'].get()))\n",
    "print('cluster mean of first data point: ', np.dot(cluster2, cavi_results.vb_params['global']['mu'].get()))\n",
    "\n",
    "# visualize the data\n",
    "plt.plot(x[:,0], x[:,1], 'k.')\n",
    "for k in range(k_true):\n",
    "    plt.plot(true_mu[k, 0], true_mu[k, 1], 'ro')\n",
    "\n",
    "for k in range(np.shape(post_mean)[0]):\n",
    "    plt.plot(post_mean[k, 0], post_mean[k, 1], 'b^')\n",
    "    \n",
    "plt.plot(x[n1, 0], x[n1, 0], 'yo')\n",
    "plt.plot(x[n2, 0], x[n2, 0], 'yo')\n",
    "\n",
    "print('\\nhere, black are data points. red are the true means. ')\n",
    "print('blue are the posterior means. yellow are the chosen data points. ')\n"
   ]
  },
  {
   "cell_type": "code",
   "execution_count": 59,
   "metadata": {
    "collapsed": false,
    "scrolled": false
   },
   "outputs": [
    {
     "name": "stdout",
     "output_type": "stream",
     "text": [
      "predicted_sensitivity: \n",
      " -0.00131239212985\n",
      "true_sensitivty: \n",
      " -0.00130848734629\n"
     ]
    }
   ],
   "source": [
    "lrvb_sens_co_cluster = alpha_sensitivity.get_param_sensitivity(\\\n",
    "                                        lambda x: get_co_clustering(model, x, n1, n2))\n",
    "\n",
    "print('predicted_sensitivity: \\n', lrvb_sens_co_cluster)\n",
    "\n",
    "co_clustering = np.dot(newton_results.vb_params['local']['e_z'].get()[n1, :], \\\n",
    "    newton_results.vb_params['local']['e_z'].get()[n2, :])\n",
    "    \n",
    "co_clustering_pert = np.dot(model_perturbed.vb_params['local']['e_z'].get()[n1, :], \\\n",
    "    model_perturbed.vb_params['local']['e_z'].get()[n2, :])\n",
    "\n",
    "print('true_sensitivty: \\n', (co_clustering_pert - co_clustering)/ epsilon)"
   ]
  },
  {
   "cell_type": "markdown",
   "metadata": {},
   "source": [
    "so we see that the co-clustering of two data points which are close is more sensitive to alpha than two data points that are far away"
   ]
  },
  {
   "cell_type": "markdown",
   "metadata": {},
   "source": [
    "## Let us check the linearity of the perturbation in alpha"
   ]
  },
  {
   "cell_type": "code",
   "execution_count": 66,
   "metadata": {
    "collapsed": false,
    "scrolled": false
   },
   "outputs": [
    {
     "name": "stdout",
     "output_type": "stream",
     "text": [
      "-1.0\n",
      "done :o\n",
      "0.0\n"
     ]
    },
    {
     "name": "stderr",
     "output_type": "stream",
     "text": [
      "/home/runjing_liu/anaconda3/lib/python3.6/site-packages/autograd/core.py:84: RuntimeWarning: divide by zero encountered in log\n",
      "  result_value = self.fun(*argvals, **kwargs)\n"
     ]
    },
    {
     "name": "stdout",
     "output_type": "stream",
     "text": [
      "done :o\n",
      "1.0\n",
      "done :o\n",
      "2.0\n",
      "done :o\n",
      "3.0\n",
      "done :o\n",
      "4.0\n",
      "done :o\n",
      "5.0\n",
      "done :o\n",
      "6.0\n",
      "done :o\n",
      "7.0\n",
      "done :o\n",
      "8.0\n",
      "done :o\n",
      "9.0\n",
      "done :o\n"
     ]
    }
   ],
   "source": [
    "epsilons = np.arange(-1.0, 10, 1.0) # the range for which we will perturb alpha\n",
    "\n",
    "results = np.zeros((len(epsilons), model.vb_params.free_size()))\n",
    "\n",
    "for i in range(len(epsilons)): \n",
    "    print(epsilons[i])\n",
    "    model_perturbed = deepcopy(newton_results)\n",
    "    model_perturbed.alpha  = alpha + epsilons[i] # perturb dp parameter\n",
    "\n",
    "    # define new objective\n",
    "    kl_obj_perturbed = Objective(model_perturbed.vb_params['global'], model_perturbed.kl_optimize_z)\n",
    "\n",
    "    # find new optima\n",
    "    opt_perturbed = minimize_kl(kl_obj_perturbed, newton_tr_opt.x, gtol = 10**(-6), disp = False)\n",
    "    \n",
    "    # set to optima\n",
    "    model_perturbed.vb_params['global'].set_free(opt_perturbed.x) \n",
    "    model_perturbed.set_optimal_z()\n",
    "    \n",
    "    results[i, :] = model_perturbed.vb_params.get_free()    "
   ]
  },
  {
   "cell_type": "code",
   "execution_count": 67,
   "metadata": {
    "collapsed": false
   },
   "outputs": [],
   "source": [
    "k_stick = 1\n",
    "\n",
    "perturbed_v_sticks = np.zeros(len(epsilons))\n",
    "perturbed_co_clusters = np.zeros(len(epsilons))\n",
    "\n",
    "for i in range(len(epsilons)): \n",
    "    model.vb_params.set_free(results[i,:])\n",
    "    perturbed_v_sticks[i] = model.vb_params['global']['v_sticks'].e()[k_stick, 0]\n",
    "    \n",
    "    perturbed_co_clusters[i] = np.dot(model.vb_params['local']['e_z'].get()[n1, :], \\\n",
    "                                model.vb_params['local']['e_z'].get()[n2, :])\n"
   ]
  },
  {
   "cell_type": "code",
   "execution_count": 68,
   "metadata": {
    "collapsed": false
   },
   "outputs": [
    {
     "data": {
      "text/plain": [
       "<matplotlib.text.Text at 0x7fcf82c996a0>"
      ]
     },
     "execution_count": 68,
     "metadata": {},
     "output_type": "execute_result"
    },
    {
     "data": {
      "image/png": "[encoded data removed]",
      "text/plain": [
       "<matplotlib.figure.Figure at 0x7fcf82e8c2b0>"
      ]
     },
     "metadata": {},
     "output_type": "display_data"
    }
   ],
   "source": [
    "plt.plot(alpha + epsilons[1:], perturbed_v_sticks[1:], 'ko')\n",
    "# plot the LRVB approximation\n",
    "x_axis = np.linspace(alpha + epsilons[0], alpha + epsilons[-1], 100)\n",
    "\n",
    "old_mean = newton_results.vb_params['global']['v_sticks'].e()[k_stick, 0]\n",
    "plt.plot(x_axis, lrvb_sens_v_sticks[k_stick] * (x_axis - alpha) + old_mean)\n",
    "plt.xlabel('alpha')\n",
    "plt.ylabel('posterior stick length')"
   ]
  },
  {
   "cell_type": "code",
   "execution_count": 69,
   "metadata": {
    "collapsed": false
   },
   "outputs": [
    {
     "data": {
      "text/plain": [
       "<matplotlib.text.Text at 0x7fcf82810e80>"
      ]
     },
     "execution_count": 69,
     "metadata": {},
     "output_type": "execute_result"
    },
    {
     "data": {
      "image/png": "[encoded data removed]",
      "text/plain": [
       "<matplotlib.figure.Figure at 0x7fcf8294f4a8>"
      ]
     },
     "metadata": {},
     "output_type": "display_data"
    }
   ],
   "source": [
    "plt.plot(alpha + epsilons[1:], perturbed_co_clusters[1:], 'ko')\n",
    "\n",
    "# plot the LRVB approximation\n",
    "x_axis = np.linspace(alpha + epsilons[0], alpha + epsilons[-1], 100)\n",
    "\n",
    "old_co_cluster = np.dot(newton_results.vb_params['local']['e_z'].get()[n1, :], \\\n",
    "                                newton_results.vb_params['local']['e_z'].get()[n2, :])\n",
    "plt.plot(x_axis, lrvb_sens_co_cluster * (x_axis - alpha) + old_co_cluster)\n",
    "plt.xlabel('alpha')\n",
    "plt.ylabel('posterior co-clusters')"
   ]
  },
  {
   "cell_type": "code",
   "execution_count": null,
   "metadata": {
    "collapsed": true
   },
   "outputs": [],
   "source": []
  },
  {
   "cell_type": "code",
   "execution_count": null,
   "metadata": {
    "collapsed": true
   },
   "outputs": [],
   "source": []
  },
  {
   "cell_type": "code",
   "execution_count": null,
   "metadata": {
    "collapsed": true
   },
   "outputs": [],
   "source": []
  },
  {
   "cell_type": "code",
   "execution_count": null,
   "metadata": {
    "collapsed": true
   },
   "outputs": [],
   "source": []
  }
 ],
 "metadata": {
  "kernelspec": {
   "display_name": "Python 3",
   "language": "python",
   "name": "python3"
  },
  "language_info": {
   "codemirror_mode": {
    "name": "ipython",
    "version": 3
   },
   "file_extension": ".py",
   "mimetype": "text/x-python",
   "name": "python",
   "nbconvert_exporter": "python",
   "pygments_lexer": "ipython3",
   "version": "3.6.0"
  }
 },
 "nbformat": 4,
 "nbformat_minor": 2
}
