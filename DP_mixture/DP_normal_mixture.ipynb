{
 "cells": [
  {
   "cell_type": "markdown",
   "metadata": {},
   "source": [
    "## Variational inference in Dirichlet Process Normal Mixture"
   ]
  },
  {
   "cell_type": "code",
   "execution_count": 3,
   "metadata": {
    "collapsed": false
   },
   "outputs": [],
   "source": [
    "import autograd\n",
    "import autograd.numpy as np\n",
    "import autograd.scipy as sp\n",
    "from autograd.scipy import special\n",
    "from autograd import grad, hessian, hessian_vector_product, hessian, jacobian\n",
    "\n",
    "import sys\n",
    "sys.path.append('../../LinearResponseVariationalBayes.py')\n",
    "\n",
    "from VariationalBayes.ParameterDictionary import ModelParamsDict\n",
    "from VariationalBayes.Parameters import ScalarParam, VectorParam, ArrayParam\n",
    "from VariationalBayes.MultinomialParams import SimplexParam\n",
    "from VariationalBayes.DirichletParams import DirichletParamArray\n",
    "from VariationalBayes.MatrixParameters import PosDefMatrixParam, PosDefMatrixParamVector\n",
    "from VariationalBayes.SparseObjectives import SparseObjective, Objective\n",
    "\n",
    "import DP_normal_mixture_lib as dp\n",
    "import DP_normal_mixture_opt_lib as dp_opt\n",
    "import DP_lrvb as lrvb\n",
    "\n",
    "from copy import deepcopy\n",
    "\n",
    "from scipy import optimize\n",
    "\n",
    "import time\n",
    "\n",
    "import matplotlib.pyplot as plt\n",
    "%matplotlib inline  \n"
   ]
  },
  {
   "cell_type": "markdown",
   "metadata": {
    "collapsed": true
   },
   "source": [
    "# Generate Data"
   ]
  },
  {
   "cell_type": "code",
   "execution_count": 36,
   "metadata": {
    "collapsed": false,
    "scrolled": true
   },
   "outputs": [],
   "source": [
    "np.random.seed(52432)\n",
    "# np.random.seed(54325)\n",
    "\n",
    "# data parameters\n",
    "num_obs = 1000 # number of observations \n",
    "x_dim = 2 # dimension of observations\n",
    "k_true = 2 # true number of clusters\n",
    "\n",
    "info_x = 0.1 * np.eye(x_dim) \n",
    "\n",
    "x, true_mu, true_z, true_pi = dp.draw_data(info_x, x_dim, k_true, num_obs)\n",
    "\n",
    "\n",
    "# prior parameters\n",
    "alpha = 1.0 # DP parameter\n",
    "prior_mu = np.mean(x, axis = 0)\n",
    "prior_info = 0.1 * np.eye(x_dim)\n",
    "\n",
    "# variational truncation \n",
    "k_approx = 100\n",
    "\n"
   ]
  },
  {
   "cell_type": "code",
   "execution_count": 37,
   "metadata": {
    "collapsed": false,
    "scrolled": true
   },
   "outputs": [
    {
     "name": "stdout",
     "output_type": "stream",
     "text": [
      "observed mixture proportions: \n",
      " [ 0.514  0.486]\n",
      "true mixture proportions: \n",
      " [ 0.5  0.5]\n"
     ]
    },
    {
     "data": {
      "image/png": "[encoded data removed]",
      "text/plain": [
       "<matplotlib.figure.Figure at 0x7fe3e79b3048>"
      ]
     },
     "metadata": {},
     "output_type": "display_data"
    }
   ],
   "source": [
    "# visualize the data\n",
    "plt.plot(x[:,0], x[:,1], 'k.')\n",
    "for k in range(k_true):\n",
    "    plt.plot(true_mu[k, 0], true_mu[k, 1], 'ro')\n",
    "    \n",
    "print('observed mixture proportions: \\n', np.mean(true_z, axis = 0))\n",
    "print('true mixture proportions: \\n', true_pi)"
   ]
  },
  {
   "cell_type": "markdown",
   "metadata": {},
   "source": [
    "# Set up VB model"
   ]
  },
  {
   "cell_type": "code",
   "execution_count": 23,
   "metadata": {
    "collapsed": false
   },
   "outputs": [],
   "source": [
    "global_params = ModelParamsDict('global')\n",
    "global_params.push_param(\n",
    "    PosDefMatrixParamVector(name='info', length=k_approx, matrix_size=x_dim)) # variational variances\n",
    "global_params.push_param(\n",
    "    ArrayParam(name='mu', shape=(k_approx, x_dim))) # variational means\n",
    "global_params.push_param(\n",
    "    DirichletParamArray(name='v_sticks', shape=(k_approx - 1, 2))) # note the shape k_approx - 1 ...\n",
    "                                                                   # the last stick is always 1 in our approximation\n",
    "local_params = ModelParamsDict('local')\n",
    "local_params.push_param(\n",
    "    SimplexParam(name='e_z', shape=(num_obs, k_approx)))\n",
    "\n",
    "vb_params = ModelParamsDict('vb_params model')\n",
    "vb_params.push_param(global_params)\n",
    "vb_params.push_param(local_params)\n"
   ]
  },
  {
   "cell_type": "code",
   "execution_count": 24,
   "metadata": {
    "collapsed": false
   },
   "outputs": [],
   "source": [
    "prior_params = ModelParamsDict('prior_params')\n",
    "prior_params.push_param(VectorParam(name='prior_mu', size=x_dim, val=prior_mu))\n",
    "prior_params.push_param(PosDefMatrixParam(name='prior_info', size=x_dim, val=prior_info))\n",
    "prior_params.push_param(ScalarParam(name='alpha', val=alpha))\n",
    "prior_params.push_param(PosDefMatrixParam(name='info_x', size=x_dim, val=info_x))"
   ]
  },
  {
   "cell_type": "code",
   "execution_count": 25,
   "metadata": {
    "collapsed": false
   },
   "outputs": [],
   "source": [
    "model = dp.DPNormalMixture(x, vb_params, prior_params)"
   ]
  },
  {
   "cell_type": "markdown",
   "metadata": {},
   "source": [
    "# Initialize"
   ]
  },
  {
   "cell_type": "code",
   "execution_count": 26,
   "metadata": {
    "collapsed": false
   },
   "outputs": [],
   "source": [
    "## initialize VB params\n",
    "\n",
    "true_init = False\n",
    "\n",
    "if true_init: \n",
    "    true_tau = np.zeros(np.shape(vb_params['global']['v_sticks'].alpha.get()))\n",
    "    true_tau[:,0] = true_v[:-1] * 100\n",
    "    true_tau[:,1] = (1 - true_v[:-1]) * 100\n",
    "    vb_params['global']['v_sticks'].alpha.set(true_tau)\n",
    "\n",
    "    # vb_params['global']['mu'].set(true_mu)\n",
    "    mu_size = vb_params['global']['mu'].free_size()\n",
    "    vb_params['global']['mu'].set_free(np.random.random(mu_size))\n",
    "    \n",
    "    true_z_fudged = dp.soft_thresh(true_z, 1 - 10**(-8), 10**(-8))\n",
    "    vb_params['local']['e_z'].set(true_z_fudged)\n",
    "    # z_size = vb_params['local']['e_z'].free_size()\n",
    "    # vb_params['local']['e_z'].set_free(np.random.random(z_size))\n",
    "else: \n",
    "    vb_params.set_free(np.random.random(vb_params.free_size()))\n",
    "    \n",
    "init_free_params = vb_params.get_free()\n",
    "global_init_free_params = vb_params['global'].get_free()"
   ]
  },
  {
   "cell_type": "markdown",
   "metadata": {},
   "source": [
    "# Run CAVI "
   ]
  },
  {
   "cell_type": "code",
   "execution_count": 27,
   "metadata": {
    "collapsed": false,
    "scrolled": false
   },
   "outputs": [
    {
     "name": "stdout",
     "output_type": "stream",
     "text": [
      "max iteration reached\n",
      "elbo:  -332.06560276\n"
     ]
    },
    {
     "data": {
      "image/png": "[encoded data removed]",
      "text/plain": [
       "<matplotlib.figure.Figure at 0x7fe3e7e89ba8>"
      ]
     },
     "metadata": {},
     "output_type": "display_data"
    }
   ],
   "source": [
    "dp_opt.run_cavi(model, init_free_params, max_iter = 1000, tol = 1e-5, disp = False)\n",
    "cavi_results = deepcopy(model)\n",
    "print('elbo: ', cavi_results.get_kl())\n"
   ]
  },
  {
   "cell_type": "markdown",
   "metadata": {},
   "source": [
    "### examine results of CAVI"
   ]
  },
  {
   "cell_type": "code",
   "execution_count": 28,
   "metadata": {
    "collapsed": false
   },
   "outputs": [
    {
     "data": {
      "image/png": "[encoded data removed]",
      "text/plain": [
       "<matplotlib.figure.Figure at 0x7fe3e7e40d30>"
      ]
     },
     "metadata": {},
     "output_type": "display_data"
    },
    {
     "data": {
      "image/png": "[encoded data removed]",
      "text/plain": [
       "<matplotlib.figure.Figure at 0x7fe3e7ce8438>"
      ]
     },
     "metadata": {},
     "output_type": "display_data"
    }
   ],
   "source": [
    "# plot posterior predictive\n",
    "e_z = cavi_results.vb_params['local']['e_z'].get()\n",
    "mu = cavi_results.vb_params['global']['mu'].get()\n",
    "pred_x = np.dot(e_z, mu)\n",
    "for col in range(x_dim):\n",
    "    plt.clf()\n",
    "    plt.plot(pred_x[:, col], x[:, col], 'ko')\n",
    "    diag = np.linspace(np.min(pred_x[:,col]),np.max(pred_x[:,col]))\n",
    "    plt.plot(diag, diag)\n",
    "    plt.title('Posterior predictive, column' + str(col))\n",
    "    plt.xlabel('predicted X')\n",
    "    plt.ylabel('true X')\n",
    "    plt.show()\n"
   ]
  },
  {
   "cell_type": "code",
   "execution_count": 29,
   "metadata": {
    "collapsed": false,
    "scrolled": false
   },
   "outputs": [
    {
     "name": "stdout",
     "output_type": "stream",
     "text": [
      "true_proportions [ 1.]\n",
      "estimated proportions:  [  9.98003992e-04   2.02924719e-01   7.95081516e-01   4.97880444e-04\n",
      "   2.48940222e-04   1.24470111e-04   6.22350555e-05   3.11175278e-05\n",
      "   1.55587639e-05   7.77938194e-06   3.88969097e-06   1.94484548e-06\n",
      "   9.72422742e-07   4.86211371e-07   2.43105686e-07   1.21552843e-07\n",
      "   6.07764214e-08   3.03882107e-08   1.51941053e-08   7.59705267e-09\n",
      "   3.79852634e-09   1.89926317e-09   9.49631584e-10   4.74815792e-10\n",
      "   2.37407896e-10   1.18703948e-10   5.93519740e-11   2.96759870e-11\n",
      "   1.48379935e-11   7.41899675e-12   3.70949838e-12   1.85474919e-12\n",
      "   9.27374594e-13   4.63687297e-13   2.31843649e-13   1.15921824e-13\n",
      "   5.79609121e-14   2.89804561e-14   1.44902280e-14   7.24511402e-15\n",
      "   3.62255701e-15   1.81127850e-15   9.05639252e-16   4.52819626e-16\n",
      "   2.26409813e-16   1.13204906e-16   5.66024532e-17   2.83012266e-17\n",
      "   1.41506133e-17   7.07530666e-18   3.53765333e-18   1.76882666e-18\n",
      "   8.84413332e-19   4.42206666e-19   2.21103333e-19   1.10551667e-19\n",
      "   5.52758333e-20   2.76379166e-20   1.38189583e-20   6.90947916e-21\n",
      "   3.45473958e-21   1.72736979e-21   8.63684895e-22   4.31842447e-22\n",
      "   2.15921224e-22   1.07960612e-22   5.39803059e-23   2.69901530e-23\n",
      "   1.34950765e-23   6.74753824e-24   3.37376912e-24   1.68688456e-24\n",
      "   8.43442280e-25   4.21721140e-25   2.10860570e-25   1.05430285e-25\n",
      "   5.27151425e-26   2.63575712e-26   1.31787856e-26   6.58939281e-27\n",
      "   3.29469641e-27   1.64734820e-27   8.23674101e-28   4.11837051e-28\n",
      "   2.05918525e-28   1.02959263e-28   5.14796313e-29   2.57398157e-29\n",
      "   1.28699078e-29   6.43495392e-30   3.21747696e-30   1.60873848e-30\n",
      "   8.04369240e-31   4.02184620e-31   2.01092310e-31   1.00546155e-31\n",
      "   5.02730775e-32   2.51365387e-32   1.25682694e-32   1.25682694e-32] \n",
      "\n",
      "true number of clusters:  1\n",
      "number of \"posterior clusters\" (ie. no. clusters w/ siginifcant weights):  2\n",
      "recall variational truncation:  100\n",
      "[ 0.20292472  0.79508152]\n"
     ]
    }
   ],
   "source": [
    "# lets look at the estimated mixture proportions\n",
    "\n",
    "tau = cavi_results.vb_params['global']['v_sticks'].alpha.get() \n",
    "post_stick_length = tau[:,0] / np.sum(tau, axis = 1) # mean posterior stick lengths\n",
    "\n",
    "# compute mixture proportions using mean posterior stick lengths\n",
    "post_pi = np.ones(k_approx)\n",
    "stick_remain = np.ones(k_approx - 1)\n",
    "for i in range(k_approx - 1):\n",
    "    post_pi[i] = stick_remain[i - 1] * post_stick_length[i]\n",
    "    stick_remain[i] = stick_remain[i - 1] * (1 - post_stick_length[i])\n",
    "post_pi[-1] = stick_remain[-1]\n",
    "assert(np.abs(np.sum(post_pi) - 1.) < 10**(-10))\n",
    "\n",
    "print('true_proportions', true_pi)\n",
    "print('estimated proportions: ', post_pi, '\\n')\n",
    "\n",
    "heavy_clusters = post_pi > 1 / k_approx # clusters with significant weights \n",
    "\n",
    "print('true number of clusters: ', k_true)\n",
    "print('number of \"posterior clusters\" (ie. no. clusters w/ siginifcant weights): ', np.sum(post_pi > 1 / k_approx))\n",
    "print('recall variational truncation: ', k_approx)\n",
    "\n",
    "print(post_pi[heavy_clusters])"
   ]
  },
  {
   "cell_type": "code",
   "execution_count": 30,
   "metadata": {
    "collapsed": false
   },
   "outputs": [
    {
     "name": "stdout",
     "output_type": "stream",
     "text": [
      "true means: \n",
      "[[0 0]] \n",
      "\n",
      "relevant posterior means (ie. posterior means for clusters with significant weights): \n",
      "[[-0.83883019  0.10836493]\n",
      " [ 0.2393387  -0.0611711 ]]\n"
     ]
    }
   ],
   "source": [
    "# lets look at posterior means\n",
    "print('true means: ')\n",
    "print(true_mu, '\\n')\n",
    "\n",
    "print('relevant posterior means (ie. posterior means for clusters with significant weights): ')\n",
    "post_mean = cavi_results.vb_params['global']['mu'].get()[heavy_clusters, :]\n",
    "print(post_mean)"
   ]
  },
  {
   "cell_type": "code",
   "execution_count": 31,
   "metadata": {
    "collapsed": false
   },
   "outputs": [
    {
     "name": "stdout",
     "output_type": "stream",
     "text": [
      "here, black are data points. red are the true means. blue are the posterior means\n"
     ]
    },
    {
     "data": {
      "text/plain": [
       "\"post_info = cavi_results.vb_params['global']['info'].get()[heavy_clusters]\\ntheta = np.linspace(0, 2 * np.pi, 100)\\nunit_circ = np.array([np.cos(theta), np.sin(theta)])\\n\\nfor k in range(np.shape(post_mean)[0]):\\n    plt.plot()\""
      ]
     },
     "execution_count": 31,
     "metadata": {},
     "output_type": "execute_result"
    },
    {
     "data": {
      "image/png": "[encoded data removed]",
      "text/plain": [
       "<matplotlib.figure.Figure at 0x7fe3e7f1ccc0>"
      ]
     },
     "metadata": {},
     "output_type": "display_data"
    }
   ],
   "source": [
    "# visualize the data\n",
    "plt.plot(x[:,0], x[:,1], 'k.')\n",
    "for k in range(k_true):\n",
    "    plt.plot(true_mu[k, 0], true_mu[k, 1], 'ro')\n",
    "\n",
    "for k in range(np.shape(post_mean)[0]):\n",
    "    plt.plot(post_mean[k, 0], post_mean[k, 1], 'b^')\n",
    "    \n",
    "\n",
    "print('here, black are data points. red are the true means. blue are the posterior means')\n",
    "\n",
    "\n",
    "\"\"\"post_info = cavi_results.vb_params['global']['info'].get()[heavy_clusters]\n",
    "theta = np.linspace(0, 2 * np.pi, 100)\n",
    "unit_circ = np.array([np.cos(theta), np.sin(theta)])\n",
    "\n",
    "for k in range(np.shape(post_mean)[0]):\n",
    "    plt.plot()\"\"\""
   ]
  },
  {
   "cell_type": "markdown",
   "metadata": {},
   "source": [
    "# Newton Optimization"
   ]
  },
  {
   "cell_type": "code",
   "execution_count": 14,
   "metadata": {
    "collapsed": true
   },
   "outputs": [],
   "source": [
    "kl_obj = Objective(model.vb_params['global'], model.kl_optimize_z)"
   ]
  },
  {
   "cell_type": "code",
   "execution_count": 15,
   "metadata": {
    "collapsed": false,
    "scrolled": false
   },
   "outputs": [
    {
     "name": "stdout",
     "output_type": "stream",
     "text": [
      "Optimization terminated successfully.\n",
      "         Current function value: -186.202558\n",
      "         Iterations: 10\n",
      "         Function evaluations: 11\n",
      "         Gradient evaluations: 11\n",
      "         Hessian evaluations: 0\n",
      "done :o\n"
     ]
    }
   ],
   "source": [
    "def minimize_kl(kl_obj, init_x, maxiter = 50, gtol = 1e-6, disp = True):\n",
    "    vb_opt = optimize.minimize(\n",
    "        kl_obj.fun_free,\n",
    "        x0=init_x,\n",
    "        jac=kl_obj.fun_free_grad,\n",
    "        hessp=kl_obj.fun_free_hvp,\n",
    "        method='trust-ncg', options={'maxiter': maxiter, 'gtol': gtol, 'disp': disp})\n",
    "\n",
    "    print('done :o')\n",
    "    return vb_opt\n",
    "\n",
    "newton_tr_init = cavi_results.vb_params['global'].get_free() # initialize with result from CAVI\n",
    "newton_tr_opt = minimize_kl(kl_obj, newton_tr_init) # run Newton"
   ]
  },
  {
   "cell_type": "code",
   "execution_count": 16,
   "metadata": {
    "collapsed": true
   },
   "outputs": [],
   "source": [
    "model.vb_params['global'].set_free(newton_tr_opt.x)\n",
    "model.set_optimal_z()\n",
    "\n",
    "newton_results = deepcopy(model)"
   ]
  },
  {
   "cell_type": "code",
   "execution_count": 24,
   "metadata": {
    "collapsed": false
   },
   "outputs": [
    {
     "name": "stdout",
     "output_type": "stream",
     "text": [
      "minimizing function value -1146.99409105\n",
      "L_inf norm of gradient:  1.24835419622e-09\n",
      "time to compute Hessian (sec):  8.294189691543579\n",
      "Hessian eigenvalues all positive:  True\n",
      "distance (l2) to minimizer of quadratic approx. :  1.30916027199e-08\n"
     ]
    }
   ],
   "source": [
    "# checking the optima\n",
    "\n",
    "print('minimizing function value', newton_results.get_kl())\n",
    "\n",
    "# check that the gradient is close to 0\n",
    "kl_grad = kl_obj.fun_free_grad(newton_tr_opt.x)\n",
    "# print(kl_grad)\n",
    "print('L_inf norm of gradient: ', np.max(np.abs(kl_grad)))\n",
    "\n",
    "t0 = time.time()\n",
    "kl_hessian = kl_obj.fun_free_hessian(newton_tr_opt.x)\n",
    "hessian_time = time.time() - t0\n",
    "\n",
    "hessian_evals = np.linalg.eigvals(kl_hessian)\n",
    "\n",
    "print('time to compute Hessian (sec): ', hessian_time)\n",
    "# print('eigenvalues: \\n', hessian_evals)\n",
    "print('Hessian eigenvalues all positive: ', np.all(hessian_evals > 0))\n",
    "print('distance (l2) to minimizer of quadratic approx. : ', np.linalg.norm(-np.linalg.solve(kl_hessian, kl_grad)))"
   ]
  },
  {
   "cell_type": "code",
   "execution_count": 25,
   "metadata": {
    "collapsed": false,
    "scrolled": false
   },
   "outputs": [
    {
     "data": {
      "image/png": "[encoded data removed]",
      "text/plain": [
       "<matplotlib.figure.Figure at 0x7fd398fc92e8>"
      ]
     },
     "metadata": {},
     "output_type": "display_data"
    },
    {
     "data": {
      "image/png": "[encoded data removed]",
      "text/plain": [
       "<matplotlib.figure.Figure at 0x7fd398fc1588>"
      ]
     },
     "metadata": {},
     "output_type": "display_data"
    }
   ],
   "source": [
    "# plot posterior predictive\n",
    "e_z = newton_results.vb_params['local']['e_z'].get()\n",
    "mu = newton_results.vb_params['global']['mu'].get()\n",
    "pred_x = np.dot(e_z, mu)\n",
    "for col in range(x_dim):\n",
    "    plt.clf()\n",
    "    plt.plot(pred_x[:, col], x[:, col], 'ko')\n",
    "    diag = np.linspace(np.min(pred_x[:,col]),np.max(pred_x[:,col]))\n",
    "    plt.plot(diag, diag)\n",
    "    plt.title('Posterior predictive, column' + str(col))\n",
    "    plt.xlabel('predicted X')\n",
    "    plt.ylabel('true X')\n",
    "    plt.show()\n"
   ]
  },
  {
   "cell_type": "code",
   "execution_count": 26,
   "metadata": {
    "collapsed": false,
    "scrolled": false
   },
   "outputs": [
    {
     "name": "stdout",
     "output_type": "stream",
     "text": [
      "[[  2.92019425  -2.97300045]\n",
      " [ 10.20556893  11.37493211]\n",
      " [ 23.34675977  19.84349585]\n",
      " [ -7.6282461    5.99694731]\n",
      " [ 10.00355164   9.52330963]\n",
      " [ 10.00408795   9.52492508]\n",
      " [ 10.00434089   9.52568569]\n",
      " [ 10.00447662   9.52609351]\n",
      " [ 10.00455382   9.52632537]\n",
      " [ 10.00434488   9.52569769]]\n",
      "[[  2.92218962  -2.90214867]\n",
      " [ 10.24209191  11.42310312]\n",
      " [ 23.3874361   19.8534184 ]\n",
      " [ -7.66358537   6.0318989 ]\n",
      " [ 10.00355796   9.52329064]\n",
      " [ 10.00409114   9.524915  ]\n",
      " [ 10.00434267   9.52567996]\n",
      " [ 10.00447765   9.52609015]\n",
      " [ 10.00455444   9.52632337]\n",
      " [ 10.00434663   9.52569203]]\n",
      "l1 difference (normalized) between means:  0.0139245699047\n"
     ]
    }
   ],
   "source": [
    "# compare CAVI with Newton_tr\n",
    "print(cavi_results.vb_params['global']['mu'].get())\n",
    "print(newton_results.vb_params['global']['mu'].get())\n",
    "\n",
    "print('l1 difference (normalized) between means: ', \\\n",
    "      np.mean(np.abs(cavi_results.vb_params['global']['mu'].get() \\\n",
    "                     - newton_results.vb_params['global']['mu'].get())))"
   ]
  },
  {
   "cell_type": "code",
   "execution_count": 27,
   "metadata": {
    "collapsed": false
   },
   "outputs": [
    {
     "name": "stdout",
     "output_type": "stream",
     "text": [
      "l1 difference (normalized) between all params:  0.0243558421181\n"
     ]
    }
   ],
   "source": [
    "print('l1 difference (normalized) between all params: ', \\\n",
    "      np.mean(np.abs(cavi_results.vb_params.get_free() - newton_results.vb_params.get_free())))"
   ]
  },
  {
   "cell_type": "markdown",
   "metadata": {},
   "source": [
    "# Parametric sensitivity analysis"
   ]
  },
  {
   "cell_type": "markdown",
   "metadata": {},
   "source": [
    "In particular, we are interested in how posterior quantities depend on our choice of DP parameter $\\alpha$. "
   ]
  },
  {
   "cell_type": "markdown",
   "metadata": {},
   "source": [
    "As a first step, lets manually perturb $\\alpha$ and re-optimize. We will then compare these perturbed results with the sensitivity predicted by LRVB. "
   ]
  },
  {
   "cell_type": "code",
   "execution_count": 28,
   "metadata": {
    "collapsed": false,
    "scrolled": false
   },
   "outputs": [
    {
     "name": "stdout",
     "output_type": "stream",
     "text": [
      "Optimization terminated successfully.\n",
      "         Current function value: -1146.133990\n",
      "         Iterations: 5\n",
      "         Function evaluations: 6\n",
      "         Gradient evaluations: 6\n",
      "         Hessian evaluations: 0\n",
      "done :o\n"
     ]
    }
   ],
   "source": [
    "epsilon = 0.1 # how much we will perturb alpha\n",
    "\n",
    "model_perturbed = deepcopy(newton_results)\n",
    "model_perturbed.alpha = alpha + epsilon # perturb dp parameter\n",
    "\n",
    "# define new objective\n",
    "kl_obj_perturbed = Objective(model_perturbed.vb_params['global'], model_perturbed.kl_optimize_z)\n",
    "\n",
    "# find new optima\n",
    "newton_tr_opt_perturbed = minimize_kl(kl_obj_perturbed, newton_tr_opt.x, gtol = 10**(-6))\n",
    "\n",
    "model_perturbed.vb_params['global'].set_free(newton_tr_opt_perturbed.x) \n",
    "model_perturbed.set_optimal_z()"
   ]
  },
  {
   "cell_type": "code",
   "execution_count": 29,
   "metadata": {
    "collapsed": false,
    "scrolled": true
   },
   "outputs": [
    {
     "name": "stdout",
     "output_type": "stream",
     "text": [
      "L_inf norm of gradient:  6.22884392295e-09\n",
      "time to compute Hessian (sec):  8.271716117858887\n",
      "Hessian evals all positive:  True\n",
      "distance (l2) to minimizer of quadratic approx. :  1.23329498149e-07\n"
     ]
    }
   ],
   "source": [
    "# checking the optima\n",
    "\n",
    "# check that the gradient is close to 0\n",
    "kl_grad = kl_obj_perturbed.fun_free_grad(newton_tr_opt_perturbed.x)\n",
    "# print(kl_grad)\n",
    "print('L_inf norm of gradient: ', np.max(np.abs(kl_grad)))\n",
    "\n",
    "t0 = time.time()\n",
    "kl_hessian = kl_obj_perturbed.fun_free_hessian(newton_tr_opt_perturbed.x)\n",
    "hessian_time = time.time() - t0\n",
    "\n",
    "hessian_evals = np.linalg.eigvals(kl_hessian)\n",
    "\n",
    "print('time to compute Hessian (sec): ', hessian_time)\n",
    "# print('eigenvalues: \\n', hessian_evals)\n",
    "print('Hessian evals all positive: ', np.all(hessian_evals > 0))\n",
    "print('distance (l2) to minimizer of quadratic approx. : ', np.linalg.norm(-np.linalg.solve(kl_hessian, kl_grad)))"
   ]
  },
  {
   "cell_type": "markdown",
   "metadata": {},
   "source": [
    "Now, lets do LRVB and get predicted sensitivities for various posterior quantities"
   ]
  },
  {
   "cell_type": "markdown",
   "metadata": {},
   "source": [
    "### V_stick sensitivity"
   ]
  },
  {
   "cell_type": "markdown",
   "metadata": {},
   "source": [
    "As a first pass, we look at the sensitivity of the posterior stick lengths to our choice of DP parameter $\\alpha$"
   ]
  },
  {
   "cell_type": "code",
   "execution_count": 30,
   "metadata": {
    "collapsed": false,
    "scrolled": false
   },
   "outputs": [
    {
     "name": "stdout",
     "output_type": "stream",
     "text": [
      "evaluating hessian ...\n",
      "ok\n",
      "LRVB predicted_sensitivity: \n",
      " [-0.00081895 -0.00196564 -0.00609625 -0.0205415  -0.11551671 -0.1143885\n",
      " -0.1145883  -0.11493551 -0.11525006]\n",
      "true sensitivity: \n",
      " [-0.00082048 -0.00197796 -0.00612227 -0.02060138 -0.11228763 -0.11110991\n",
      " -0.11127146 -0.11159321 -0.11189005]\n"
     ]
    }
   ],
   "source": [
    "def get_v_sticks(model, global_free_params): \n",
    "    model.vb_params['global'].set_free(global_free_params)  \n",
    "    model.set_optimal_z()\n",
    "\n",
    "    return model.vb_params['global']['v_sticks'].e()[:,0]\n",
    "\n",
    "# compute LRVB sensitivity\n",
    "alpha_sensitivity = lrvb.DPAlphaSensitivity(model, newton_tr_opt.x)\n",
    "lrvb_sens_v_sticks = alpha_sensitivity.get_param_sensitivity(lambda x : get_v_sticks(model, x))\n",
    "\n",
    "print('LRVB predicted_sensitivity: \\n', lrvb_sens_v_sticks)\n",
    "\n",
    "# true senstivity\n",
    "perturbed_mean = model_perturbed.vb_params['global']['v_sticks'].e()[:,0]\n",
    "old_mean = newton_results.vb_params['global']['v_sticks'].e()[:,0]\n",
    "\n",
    "print('true sensitivity: \\n', (perturbed_mean - old_mean) / epsilon)"
   ]
  },
  {
   "cell_type": "markdown",
   "metadata": {},
   "source": [
    "### Cluster mean sensitivity"
   ]
  },
  {
   "cell_type": "markdown",
   "metadata": {},
   "source": [
    "We can also check the sensitivity of posterior means to $\\alpha$. "
   ]
  },
  {
   "cell_type": "code",
   "execution_count": 31,
   "metadata": {
    "collapsed": false
   },
   "outputs": [
    {
     "name": "stdout",
     "output_type": "stream",
     "text": [
      "LRVB predicted_sensitivity: \n",
      " [ 0.01441689 -0.01540194  0.00373209  0.00059403 -0.00085641  0.00143144\n",
      "  0.04290452 -0.01894364 -0.00045116 -0.00132199 -0.0003786  -0.00112403\n",
      " -0.00029012 -0.00086607 -0.0002145  -0.0006424  -0.00015493 -0.00046501\n",
      " -0.00067912 -0.00204864]\n",
      "true sensitivity: \n",
      " [ 0.01445155 -0.01544039  0.00375053  0.00062419 -0.00085809  0.00143382\n",
      "  0.0430225  -0.01898449 -0.00044339 -0.00129496 -0.00037596 -0.00111366\n",
      " -0.00029091 -0.00086687 -0.00021727 -0.00064967 -0.00015861 -0.00047537\n",
      " -0.00072897 -0.00219623]\n"
     ]
    }
   ],
   "source": [
    "def get_cluster_means(model, global_free_params): \n",
    "    model.vb_params['global'].set_free(global_free_params)  \n",
    "    model.set_optimal_z()\n",
    "    \n",
    "    return model.vb_params['global']['mu'].get_vector()\n",
    "\n",
    "# compute LRVB sensitivity\n",
    "lrvb_sens_means = alpha_sensitivity.get_param_sensitivity(lambda x : get_cluster_means(model, x))\n",
    "\n",
    "print('LRVB predicted_sensitivity: \\n', lrvb_sens_means)\n",
    "\n",
    "# true senstivity\n",
    "perturbed_mean = model_perturbed.vb_params['global']['mu'].get_vector()\n",
    "old_mean = newton_results.vb_params['global']['mu'].get_vector()\n",
    "\n",
    "print('true sensitivity: \\n', (perturbed_mean - old_mean) / epsilon)"
   ]
  },
  {
   "cell_type": "markdown",
   "metadata": {},
   "source": [
    "### Co-clustering sensitivity"
   ]
  },
  {
   "cell_type": "markdown",
   "metadata": {},
   "source": [
    "Since this is a clustering problem, we can check other moments too: like co-clustering. In particular, for two data points indexed by $n_1$ and $n_2$, we can check the sensitivty of $E[z_{n_1} \\cdot z_{n_2}]$, the indicator that $x_{n_1}$ and $x_{n_2}$ belong to the same cluster."
   ]
  },
  {
   "cell_type": "code",
   "execution_count": 32,
   "metadata": {
    "collapsed": true
   },
   "outputs": [],
   "source": [
    "def get_co_clustering(model, global_free_params, n1, n2): \n",
    "    model.vb_params['global'].set_free(global_free_params)  \n",
    "    model.set_optimal_z()\n",
    "\n",
    "    e_z1 = model.vb_params['local']['e_z'].get()[n1, :]\n",
    "    e_z2 = model.vb_params['local']['e_z'].get()[n2, :]\n",
    "    \n",
    "    return np.dot(e_z1, e_z2)"
   ]
  },
  {
   "cell_type": "code",
   "execution_count": 33,
   "metadata": {
    "collapsed": false
   },
   "outputs": [
    {
     "name": "stdout",
     "output_type": "stream",
     "text": [
      "cluster of first data point:  [ 0.  1.  0.  0.  0.  0.  0.  0.  0.  0.]\n",
      "cluster of second data point:  [ 0.  1.  0.  0.  0.  0.  0.  0.  0.  0.]\n",
      "cluster mean of first data point:  [ 10.20556893  11.37493211]\n",
      "cluster mean of first data point:  [ 10.20556893  11.37493211]\n",
      "\n",
      "here, black are data points. red are the true means. \n",
      "blue are the posterior means. yellow are the chosen data points. \n"
     ]
    },
    {
     "data": {
      "image/png": "[encoded data removed]",
      "text/plain": [
       "<matplotlib.figure.Figure at 0x7fd398e73828>"
      ]
     },
     "metadata": {},
     "output_type": "display_data"
    }
   ],
   "source": [
    "# choose two data points\n",
    "n1 = 0\n",
    "n2 = 1\n",
    "\n",
    "cluster1 = np.round(model.vb_params['local']['e_z'].get()[n1, :])\n",
    "cluster2 = np.round(model.vb_params['local']['e_z'].get()[n2, :])\n",
    "\n",
    "print('cluster of first data point: ', cluster1)\n",
    "print('cluster of second data point: ', cluster2)\n",
    "print('cluster mean of first data point: ', np.dot(cluster1, cavi_results.vb_params['global']['mu'].get()))\n",
    "print('cluster mean of first data point: ', np.dot(cluster2, cavi_results.vb_params['global']['mu'].get()))\n",
    "\n",
    "# visualize the data\n",
    "plt.plot(x[:,0], x[:,1], 'k.')\n",
    "for k in range(k_true):\n",
    "    plt.plot(true_mu[k, 0], true_mu[k, 1], 'ro')\n",
    "\n",
    "for k in range(np.shape(post_mean)[0]):\n",
    "    plt.plot(post_mean[k, 0], post_mean[k, 1], 'b^')\n",
    "    \n",
    "plt.plot(x[n1, 0], x[n1, 0], 'yo')\n",
    "plt.plot(x[n2, 0], x[n2, 0], 'yo')\n",
    "\n",
    "print('\\nhere, black are data points. red are the true means. ')\n",
    "print('blue are the posterior means. yellow are the chosen data points. ')"
   ]
  },
  {
   "cell_type": "code",
   "execution_count": 34,
   "metadata": {
    "collapsed": false
   },
   "outputs": [
    {
     "name": "stdout",
     "output_type": "stream",
     "text": [
      "predicted_sensitivity: \n",
      " -0.0004605964149\n",
      "true_sensitivty: \n",
      " -0.000472675343959\n"
     ]
    }
   ],
   "source": [
    "lrvb_sens_co_cluster = alpha_sensitivity.get_param_sensitivity(\\\n",
    "                                        lambda x: get_co_clustering(model, x, n1, n2))\n",
    "\n",
    "print('predicted_sensitivity: \\n', lrvb_sens_co_cluster)\n",
    "co_clustering = np.dot(newton_results.vb_params['local']['e_z'].get()[n1, :], \\\n",
    "    newton_results.vb_params['local']['e_z'].get()[n2, :])\n",
    "    \n",
    "co_clustering_pert = np.dot(model_perturbed.vb_params['local']['e_z'].get()[n1, :], \\\n",
    "    model_perturbed.vb_params['local']['e_z'].get()[n2, :])\n",
    "\n",
    "print('true_sensitivty: \\n', (co_clustering_pert - co_clustering)/ epsilon)\n"
   ]
  },
  {
   "cell_type": "code",
   "execution_count": 35,
   "metadata": {
    "collapsed": false
   },
   "outputs": [
    {
     "name": "stdout",
     "output_type": "stream",
     "text": [
      "cluster of first data point:  [ 0.  1.  0.  0.  0.  0.  0.  0.  0.  0.]\n",
      "cluster of second data point:  [ 1.  0.  0.  0.  0.  0.  0.  0.  0.  0.]\n",
      "cluster mean of first data point:  [ 10.20556893  11.37493211]\n",
      "cluster mean of first data point:  [ 2.92019425 -2.97300045]\n",
      "\n",
      "here, black are data points. red are the true means. \n",
      "blue are the posterior means. yellow are the chosen data points. \n"
     ]
    },
    {
     "data": {
      "image/png": "[encoded data removed]",
      "text/plain": [
       "<matplotlib.figure.Figure at 0x7fd398cf37f0>"
      ]
     },
     "metadata": {},
     "output_type": "display_data"
    }
   ],
   "source": [
    "# choose two data points\n",
    "n1 = 0\n",
    "n2 = 2\n",
    "\n",
    "cluster1 = np.round(model.vb_params['local']['e_z'].get()[n1, :])\n",
    "cluster2 = np.round(model.vb_params['local']['e_z'].get()[n2, :])\n",
    "\n",
    "print('cluster of first data point: ', cluster1)\n",
    "print('cluster of second data point: ', cluster2)\n",
    "print('cluster mean of first data point: ', np.dot(cluster1, cavi_results.vb_params['global']['mu'].get()))\n",
    "print('cluster mean of first data point: ', np.dot(cluster2, cavi_results.vb_params['global']['mu'].get()))\n",
    "\n",
    "# visualize the data\n",
    "plt.plot(x[:,0], x[:,1], 'k.')\n",
    "for k in range(k_true):\n",
    "    plt.plot(true_mu[k, 0], true_mu[k, 1], 'ro')\n",
    "\n",
    "for k in range(np.shape(post_mean)[0]):\n",
    "    plt.plot(post_mean[k, 0], post_mean[k, 1], 'b^')\n",
    "    \n",
    "plt.plot(x[n1, 0], x[n1, 0], 'yo')\n",
    "plt.plot(x[n2, 0], x[n2, 0], 'yo')\n",
    "\n",
    "print('\\nhere, black are data points. red are the true means. ')\n",
    "print('blue are the posterior means. yellow are the chosen data points. ')\n"
   ]
  },
  {
   "cell_type": "code",
   "execution_count": 36,
   "metadata": {
    "collapsed": false,
    "scrolled": false
   },
   "outputs": [
    {
     "name": "stdout",
     "output_type": "stream",
     "text": [
      "predicted_sensitivity: \n",
      " -0.000874695455609\n",
      "true_sensitivty: \n",
      " -0.000878062319803\n"
     ]
    }
   ],
   "source": [
    "lrvb_sens_co_cluster = alpha_sensitivity.get_param_sensitivity(\\\n",
    "                                        lambda x: get_co_clustering(model, x, n1, n2))\n",
    "\n",
    "print('predicted_sensitivity: \\n', lrvb_sens_co_cluster)\n",
    "\n",
    "co_clustering = np.dot(newton_results.vb_params['local']['e_z'].get()[n1, :], \\\n",
    "    newton_results.vb_params['local']['e_z'].get()[n2, :])\n",
    "    \n",
    "co_clustering_pert = np.dot(model_perturbed.vb_params['local']['e_z'].get()[n1, :], \\\n",
    "    model_perturbed.vb_params['local']['e_z'].get()[n2, :])\n",
    "\n",
    "print('true_sensitivty: \\n', (co_clustering_pert - co_clustering)/ epsilon)"
   ]
  },
  {
   "cell_type": "markdown",
   "metadata": {},
   "source": [
    "so we see that the co-clustering of two data points which are close is more sensitive to alpha than two data points that are far away"
   ]
  },
  {
   "cell_type": "markdown",
   "metadata": {},
   "source": [
    "## Let us check the linearity of the perturbation in alpha"
   ]
  },
  {
   "cell_type": "code",
   "execution_count": 37,
   "metadata": {
    "collapsed": false,
    "scrolled": false
   },
   "outputs": [
    {
     "name": "stdout",
     "output_type": "stream",
     "text": [
      "-2.0\n",
      "done :o\n",
      "-1.8\n"
     ]
    },
    {
     "name": "stderr",
     "output_type": "stream",
     "text": [
      "/home/runjing_liu/anaconda3/lib/python3.6/site-packages/autograd/core.py:84: RuntimeWarning: divide by zero encountered in log\n",
      "  result_value = self.fun(*argvals, **kwargs)\n"
     ]
    },
    {
     "name": "stdout",
     "output_type": "stream",
     "text": [
      "done :o\n",
      "-1.6\n",
      "done :o\n",
      "-1.4\n",
      "done :o\n",
      "-1.2\n",
      "done :o\n",
      "-1.0\n",
      "done :o\n",
      "-0.8\n",
      "done :o\n",
      "-0.6\n",
      "done :o\n",
      "-0.4\n",
      "done :o\n",
      "-0.2\n",
      "done :o\n",
      "-4.4408920985e-16\n",
      "done :o\n",
      "0.2\n",
      "done :o\n",
      "0.4\n",
      "done :o\n",
      "0.6\n",
      "done :o\n",
      "0.8\n",
      "done :o\n",
      "1.0\n",
      "done :o\n",
      "1.2\n",
      "done :o\n",
      "1.4\n",
      "done :o\n",
      "1.6\n",
      "done :o\n",
      "1.8\n",
      "done :o\n",
      "2.0\n",
      "done :o\n"
     ]
    }
   ],
   "source": [
    "epsilons = np.arange(-2.0, 2.2, 0.2) # the range for which we will perturb alpha\n",
    "\n",
    "results = np.zeros((len(epsilons), model.vb_params.free_size()))\n",
    "\n",
    "for i in range(len(epsilons)): \n",
    "    print(epsilons[i])\n",
    "    model_perturbed = deepcopy(newton_results)\n",
    "    model_perturbed.alpha  = alpha + epsilons[i] # perturb dp parameter\n",
    "\n",
    "    # define new objective\n",
    "    kl_obj_perturbed = Objective(model_perturbed.vb_params['global'], model_perturbed.kl_optimize_z)\n",
    "\n",
    "    # find new optima\n",
    "    opt_perturbed = minimize_kl(kl_obj_perturbed, newton_tr_opt.x, gtol = 10**(-6), disp = False)\n",
    "    \n",
    "    # set to optima\n",
    "    model_perturbed.vb_params['global'].set_free(opt_perturbed.x) \n",
    "    model_perturbed.set_optimal_z()\n",
    "    \n",
    "    results[i, :] = model_perturbed.vb_params.get_free()    "
   ]
  },
  {
   "cell_type": "code",
   "execution_count": 38,
   "metadata": {
    "collapsed": false
   },
   "outputs": [],
   "source": [
    "k_stick = 1\n",
    "\n",
    "perturbed_v_sticks = np.zeros(len(epsilons))\n",
    "perturbed_co_clusters = np.zeros(len(epsilons))\n",
    "\n",
    "for i in range(len(epsilons)): \n",
    "    model.vb_params.set_free(results[i,:])\n",
    "    perturbed_v_sticks[i] = model.vb_params['global']['v_sticks'].e()[k_stick, 0]\n",
    "    \n",
    "    perturbed_co_clusters[i] = np.dot(model.vb_params['local']['e_z'].get()[n1, :], \\\n",
    "                                model.vb_params['local']['e_z'].get()[n2, :])\n"
   ]
  },
  {
   "cell_type": "code",
   "execution_count": 39,
   "metadata": {
    "collapsed": false
   },
   "outputs": [
    {
     "data": {
      "text/plain": [
       "<matplotlib.text.Text at 0x7fd398dd3128>"
      ]
     },
     "execution_count": 39,
     "metadata": {},
     "output_type": "execute_result"
    },
    {
     "data": {
      "image/png": "[encoded data removed]",
      "text/plain": [
       "<matplotlib.figure.Figure at 0x7fd3991224a8>"
      ]
     },
     "metadata": {},
     "output_type": "display_data"
    }
   ],
   "source": [
    "plt.plot(alpha + epsilons, perturbed_v_sticks, 'ko')\n",
    "# plot the LRVB approximation\n",
    "x_axis = np.linspace(alpha + epsilons[0], alpha + epsilons[-1], 100)\n",
    "\n",
    "old_mean = newton_results.vb_params['global']['v_sticks'].e()[k_stick, 0]\n",
    "plt.plot(x_axis, lrvb_sens_v_sticks[k_stick] * (x_axis - alpha) + old_mean)\n",
    "plt.xlabel('alpha')\n",
    "plt.ylabel('posterior stick length')"
   ]
  },
  {
   "cell_type": "code",
   "execution_count": 40,
   "metadata": {
    "collapsed": false
   },
   "outputs": [
    {
     "data": {
      "text/plain": [
       "<matplotlib.text.Text at 0x7fd398f08be0>"
      ]
     },
     "execution_count": 40,
     "metadata": {},
     "output_type": "execute_result"
    },
    {
     "data": {
      "image/png": "[encoded data removed]",
      "text/plain": [
       "<matplotlib.figure.Figure at 0x7fd398dd3438>"
      ]
     },
     "metadata": {},
     "output_type": "display_data"
    }
   ],
   "source": [
    "plt.plot(alpha + epsilons, perturbed_co_clusters, 'ko')\n",
    "\n",
    "# plot the LRVB approximation\n",
    "x_axis = np.linspace(alpha + epsilons[0], alpha + epsilons[-1], 100)\n",
    "\n",
    "old_co_cluster = np.dot(newton_results.vb_params['local']['e_z'].get()[n1, :], \\\n",
    "                                newton_results.vb_params['local']['e_z'].get()[n2, :])\n",
    "plt.plot(x_axis, lrvb_sens_co_cluster * (x_axis - alpha) + old_co_cluster)\n",
    "plt.xlabel('alpha')\n",
    "plt.ylabel('posterior co-clusters')"
   ]
  },
  {
   "cell_type": "code",
   "execution_count": null,
   "metadata": {
    "collapsed": true
   },
   "outputs": [],
   "source": []
  },
  {
   "cell_type": "code",
   "execution_count": null,
   "metadata": {
    "collapsed": true
   },
   "outputs": [],
   "source": []
  },
  {
   "cell_type": "code",
   "execution_count": null,
   "metadata": {
    "collapsed": true
   },
   "outputs": [],
   "source": []
  },
  {
   "cell_type": "code",
   "execution_count": null,
   "metadata": {
    "collapsed": true
   },
   "outputs": [],
   "source": []
  }
 ],
 "metadata": {
  "kernelspec": {
   "display_name": "Python 3",
   "language": "python",
   "name": "python3"
  },
  "language_info": {
   "codemirror_mode": {
    "name": "ipython",
    "version": 3
   },
   "file_extension": ".py",
   "mimetype": "text/x-python",
   "name": "python",
   "nbconvert_exporter": "python",
   "pygments_lexer": "ipython3",
   "version": "3.6.0"
  }
 },
 "nbformat": 4,
 "nbformat_minor": 2
}
