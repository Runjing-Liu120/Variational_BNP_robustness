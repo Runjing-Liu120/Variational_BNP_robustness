{
 "cells": [
  {
   "cell_type": "markdown",
   "metadata": {},
   "source": [
    "## Variational inference in Dirichlet Process Normal Mixture"
   ]
  },
  {
   "cell_type": "code",
   "execution_count": 13,
   "metadata": {
    "collapsed": false
   },
   "outputs": [],
   "source": [
    "import autograd\n",
    "import autograd.numpy as np\n",
    "import autograd.scipy as sp\n",
    "from autograd.scipy import special\n",
    "from autograd import grad, hessian, hessian_vector_product, hessian, jacobian\n",
    "\n",
    "import sys\n",
    "sys.path.append('../../LinearResponseVariationalBayes.py')\n",
    "\n",
    "from VariationalBayes.ParameterDictionary import ModelParamsDict\n",
    "from VariationalBayes.Parameters import ScalarParam, VectorParam, ArrayParam\n",
    "from VariationalBayes.MultinomialParams import SimplexParam\n",
    "from VariationalBayes.DirichletParams import DirichletParamArray\n",
    "from VariationalBayes.MatrixParameters import PosDefMatrixParam, PosDefMatrixParamVector\n",
    "from VariationalBayes.SparseObjectives import SparseObjective, Objective\n",
    "\n",
    "import DP_normal_mixture_lib as dp\n",
    "import DP_normal_mixture_opt_lib as dp_opt\n",
    "import DP_lrvb as lrvb\n",
    "\n",
    "from copy import deepcopy\n",
    "\n",
    "import scipy as osp\n",
    "from scipy import optimize\n",
    "\n",
    "import time\n",
    "\n",
    "import matplotlib.pyplot as plt\n",
    "%matplotlib inline  \n"
   ]
  },
  {
   "cell_type": "markdown",
   "metadata": {
    "collapsed": true
   },
   "source": [
    "# Generate Data"
   ]
  },
  {
   "cell_type": "code",
   "execution_count": 14,
   "metadata": {
    "collapsed": false,
    "scrolled": true
   },
   "outputs": [],
   "source": [
    "np.random.seed(52432)\n",
    "# np.random.seed(54325)\n",
    "\n",
    "# data parameters\n",
    "num_obs = 1000 # number of observations \n",
    "x_dim = 2 # dimension of observations\n",
    "k_true = 2 # true number of clusters\n",
    "\n",
    "true_info_x = 0.1 * np.eye(x_dim) \n",
    "\n",
    "x, true_mu, true_z, true_pi = dp.draw_data(true_info_x, x_dim, k_true, num_obs)\n",
    "\n",
    "\n",
    "# prior parameters\n",
    "alpha = 10 # DP parameter\n",
    "prior_mu = np.mean(x, axis = 0)\n",
    "prior_wishart_dof = x_dim\n",
    "prior_inv_wishart_scale = np.linalg.inv(true_info_x / prior_wishart_dof)\n",
    "kappa = 0.001\n",
    "\n",
    "# variational truncation \n",
    "k_approx = 20\n",
    "\n"
   ]
  },
  {
   "cell_type": "code",
   "execution_count": 15,
   "metadata": {
    "collapsed": false,
    "scrolled": true
   },
   "outputs": [
    {
     "name": "stdout",
     "output_type": "stream",
     "text": [
      "observed mixture proportions: \n",
      " [ 0.514  0.486]\n",
      "true mixture proportions: \n",
      " [ 0.5  0.5]\n"
     ]
    },
    {
     "data": {
      "image/png": "[encoded data removed]",
      "text/plain": [
       "<matplotlib.figure.Figure at 0x7fa008c5b780>"
      ]
     },
     "metadata": {},
     "output_type": "display_data"
    }
   ],
   "source": [
    "# visualize the data\n",
    "plt.plot(x[:,0], x[:,1], 'k.')\n",
    "for k in range(k_true):\n",
    "    plt.plot(true_mu[k, 0], true_mu[k, 1], 'ro')\n",
    "    \n",
    "print('observed mixture proportions: \\n', np.mean(true_z, axis = 0))\n",
    "print('true mixture proportions: \\n', true_pi)"
   ]
  },
  {
   "cell_type": "markdown",
   "metadata": {},
   "source": [
    "# Set up VB model and initialize"
   ]
  },
  {
   "cell_type": "code",
   "execution_count": 4,
   "metadata": {
    "collapsed": true
   },
   "outputs": [],
   "source": [
    "# global parameters\n",
    "global_params = ModelParamsDict('global')\n",
    "\n",
    "# variational MVN parameters\n",
    "global_params.push_param(\n",
    "    PosDefMatrixParamVector(name='info_mu', length=k_approx, matrix_size=x_dim)) # variational variances\n",
    "global_params.push_param(\n",
    "    ArrayParam(name='mu', shape=(k_approx, x_dim))) # variational means\n",
    "\n",
    "# variational beta parameters\n",
    "global_params.push_param(\n",
    "    DirichletParamArray(name='v_sticks', shape=(k_approx - 1, 2))) # note the shape k_approx - 1 ...\n",
    "                                                                   # the last stick is always 1 in our approximation\n",
    "# variational wishart parameters\n",
    "global_params.push_param(\n",
    "    PosDefMatrixParam(name='inv_wishart_scale', size = x_dim))\n",
    "global_params.push_param(\n",
    "    ScalarParam(name='wishart_dof', lb = x_dim - 1))"
   ]
  },
  {
   "cell_type": "code",
   "execution_count": 5,
   "metadata": {
    "collapsed": false
   },
   "outputs": [],
   "source": [
    "# local indicators\n",
    "local_params = ModelParamsDict('local')\n",
    "local_params.push_param(\n",
    "    SimplexParam(name='e_z', shape=(num_obs, k_approx)))\n",
    "\n",
    "vb_params = ModelParamsDict('vb_params model')\n",
    "vb_params.push_param(global_params)\n",
    "vb_params.push_param(local_params)"
   ]
  },
  {
   "cell_type": "code",
   "execution_count": 6,
   "metadata": {
    "collapsed": false
   },
   "outputs": [],
   "source": [
    "# prior paramters\n",
    "prior_params = ModelParamsDict('prior_params')\n",
    "\n",
    "# prior mean\n",
    "prior_params.push_param(VectorParam(name='prior_mu', size=x_dim, val=prior_mu))\n",
    "\n",
    "# prior wishart parameters\n",
    "prior_params.push_param(PosDefMatrixParam(name='inv_wishart_scale', size=x_dim, val=prior_inv_wishart_scale))\n",
    "prior_params.push_param(ScalarParam(name='wishart_dof', lb = x_dim - 1, val = prior_wishart_dof))\n",
    "prior_params.push_param(ScalarParam(name='kappa', val = kappa))\n",
    "\n",
    "# dp paramter\n",
    "prior_params.push_param(ScalarParam(name='alpha', val=alpha))\n"
   ]
  },
  {
   "cell_type": "code",
   "execution_count": 7,
   "metadata": {
    "collapsed": false
   },
   "outputs": [],
   "source": [
    "## initialize VB params\n",
    "\n",
    "vb_params.set_free(np.random.random(vb_params.free_size()))\n",
    "\n",
    "#vb_params['global']['inv_wishart_scale'].set(np.linalg.inv(true_info_x / x_dim))\n",
    "#vb_params['global']['wishart_dof'].set(np.array([x_dim]))\n",
    "\n",
    "# vb_params['global']['mu'].set(true_mu)\n",
    "\n",
    "init_free_params = vb_params.get_free()\n",
    "global_init_free_params = vb_params['global'].get_free()\n",
    "\n",
    "model = dp.DPNormalMixture(x, vb_params, prior_params)"
   ]
  },
  {
   "cell_type": "markdown",
   "metadata": {},
   "source": [
    "# Run CAVI "
   ]
  },
  {
   "cell_type": "code",
   "execution_count": 8,
   "metadata": {
    "collapsed": false,
    "scrolled": true
   },
   "outputs": [
    {
     "name": "stdout",
     "output_type": "stream",
     "text": [
      "CAVI terminated successfully :)\n",
      "iterations ran:  1930\n",
      "elbo:  3806.81100686\n"
     ]
    },
    {
     "data": {
      "image/png": "[encoded data removed]",
      "text/plain": [
       "<matplotlib.figure.Figure at 0x7fa008d2e7b8>"
      ]
     },
     "metadata": {},
     "output_type": "display_data"
    }
   ],
   "source": [
    "dp_opt.run_cavi(model, init_free_params, max_iter = 2000, tol = 1e-8, disp = False)\n",
    "cavi_results = deepcopy(model)\n",
    "print('elbo: ', cavi_results.get_kl())\n"
   ]
  },
  {
   "cell_type": "markdown",
   "metadata": {},
   "source": [
    "### examine results of CAVI"
   ]
  },
  {
   "cell_type": "code",
   "execution_count": 9,
   "metadata": {
    "collapsed": false
   },
   "outputs": [
    {
     "data": {
      "image/png": "[encoded data removed]",
      "text/plain": [
       "<matplotlib.figure.Figure at 0x7fa008c3d8d0>"
      ]
     },
     "metadata": {},
     "output_type": "display_data"
    },
    {
     "data": {
      "image/png": "[encoded data removed]",
      "text/plain": [
       "<matplotlib.figure.Figure at 0x7fa008cc9080>"
      ]
     },
     "metadata": {},
     "output_type": "display_data"
    }
   ],
   "source": [
    "# plot posterior predictive\n",
    "e_z = cavi_results.vb_params['local']['e_z'].get()\n",
    "mu = cavi_results.vb_params['global']['mu'].get()\n",
    "pred_x = np.dot(e_z, mu)\n",
    "for col in range(x_dim):\n",
    "    plt.clf()\n",
    "    plt.plot(pred_x[:, col], x[:, col], 'ko')\n",
    "    diag = np.linspace(np.min(pred_x[:,col]),np.max(pred_x[:,col]))\n",
    "    plt.plot(diag, diag)\n",
    "    plt.title('Posterior predictive, column' + str(col))\n",
    "    plt.xlabel('predicted X')\n",
    "    plt.ylabel('true X')\n",
    "    plt.show()\n"
   ]
  },
  {
   "cell_type": "code",
   "execution_count": 10,
   "metadata": {
    "collapsed": false,
    "scrolled": false
   },
   "outputs": [
    {
     "name": "stdout",
     "output_type": "stream",
     "text": [
      "true_proportions [ 0.5  0.5]\n",
      "estimated proportions:  [  2.43439216e-01   4.72970864e-01   2.73745928e-01   8.94908410e-04\n",
      "   8.13553100e-04   7.39593727e-04   6.72357934e-04   6.11234485e-04\n",
      "   5.55667714e-04   5.05152467e-04   4.59229516e-04   4.17481378e-04\n",
      "   3.79528525e-04   3.45025932e-04   3.13659938e-04   2.85145399e-04\n",
      "   2.59223090e-04   2.35657354e-04   2.14233958e-04   2.14233958e-03]\n",
      "significant proportions [ 0.24343922  0.47297086  0.27374593] \n",
      "\n",
      "true number of clusters:  2\n",
      "number of \"posterior clusters\" (ie. no. clusters w/ siginifcant weights):  3\n",
      "recall variational truncation:  20\n"
     ]
    }
   ],
   "source": [
    "# lets look at the estimated mixture proportions\n",
    "\n",
    "tau = cavi_results.vb_params['global']['v_sticks'].alpha.get() \n",
    "post_stick_length = tau[:,0] / np.sum(tau, axis = 1) # mean posterior stick lengths\n",
    "\n",
    "# compute mixture proportions using mean posterior stick lengths\n",
    "post_pi = np.ones(k_approx)\n",
    "stick_remain = np.ones(k_approx - 1)\n",
    "for i in range(k_approx - 1):\n",
    "    post_pi[i] = stick_remain[i - 1] * post_stick_length[i]\n",
    "    stick_remain[i] = stick_remain[i - 1] * (1 - post_stick_length[i])\n",
    "post_pi[-1] = stick_remain[-1]\n",
    "assert(np.abs(np.sum(post_pi) - 1.) < 10**(-10))\n",
    "\n",
    "\n",
    "heavy_clusters = post_pi > 1 / 100 # k_approx # clusters with significant weights \n",
    "\n",
    "print('true_proportions', true_pi)\n",
    "print('estimated proportions: ', post_pi)\n",
    "print('significant proportions', post_pi[heavy_clusters], '\\n')\n",
    "\n",
    "print('true number of clusters: ', k_true)\n",
    "print('number of \"posterior clusters\" (ie. no. clusters w/ siginifcant weights): ', np.sum(post_pi > 1 / k_approx))\n",
    "print('recall variational truncation: ', k_approx)\n",
    "\n"
   ]
  },
  {
   "cell_type": "code",
   "execution_count": 11,
   "metadata": {
    "collapsed": false
   },
   "outputs": [
    {
     "name": "stdout",
     "output_type": "stream",
     "text": [
      "true means: \n",
      "[[0 0]\n",
      " [5 5]] \n",
      "\n",
      "relevant posterior means (ie. posterior means for clusters with significant weights): \n",
      "[[-0.96935028  1.25023132]\n",
      " [ 4.94349967  5.18052289]\n",
      " [ 1.34223224 -1.5755222 ]]\n"
     ]
    }
   ],
   "source": [
    "# lets look at posterior means\n",
    "print('true means: ')\n",
    "print(true_mu, '\\n')\n",
    "\n",
    "print('relevant posterior means (ie. posterior means for clusters with significant weights): ')\n",
    "post_mean = cavi_results.vb_params['global']['mu'].get()[heavy_clusters, :]\n",
    "print(post_mean)"
   ]
  },
  {
   "cell_type": "code",
   "execution_count": 12,
   "metadata": {
    "collapsed": false
   },
   "outputs": [
    {
     "name": "stdout",
     "output_type": "stream",
     "text": [
      "here, black are data points. red are the true means. blue are the posterior means\n",
      "blue circles are two std deviations\n"
     ]
    },
    {
     "data": {
      "image/png": "[encoded data removed]",
      "text/plain": [
       "<matplotlib.figure.Figure at 0x7fa008cc9b38>"
      ]
     },
     "metadata": {},
     "output_type": "display_data"
    }
   ],
   "source": [
    "# visualize the data\n",
    "from matplotlib.patches import Ellipse\n",
    "\n",
    "fig = plt.figure(0)\n",
    "ax = fig.add_subplot(111, aspect='equal')\n",
    "\n",
    "e_cov_x = cavi_results.vb_params['global']['inv_wishart_scale'].get() / \\\n",
    "                cavi_results.vb_params['global']['wishart_dof'].get()\n",
    "\n",
    "lambda_, v = np.linalg.eig(e_cov_x)\n",
    "lambda_ = np.sqrt(lambda_)\n",
    "\n",
    "for i in range(np.shape(post_mean)[0]): \n",
    "    ell = Ellipse(xy=(post_mean[i, 0], post_mean[i, 1]),\n",
    "                      width=lambda_[0]*2*2, height=lambda_[1]*2*2,\n",
    "                      angle=np.rad2deg(np.arccos(v[0, 0])))\n",
    "    ell.set_edgecolor('blue')\n",
    "    ell.set_facecolor('none')\n",
    "    ax.add_artist(ell)\n",
    "    \n",
    "plt.scatter(x[:,0], x[:,1], c = 'black', marker = '.')\n",
    "\n",
    "for k in range(k_true):\n",
    "    plt.scatter(true_mu[k, 0], true_mu[k, 1], c = 'red')\n",
    "\n",
    "for k in range(np.shape(post_mean)[0]):\n",
    "    plt.scatter(post_mean[k, 0], post_mean[k, 1], c = 'blue', marker = '^')\n",
    "    \n",
    "\n",
    "print('here, black are data points. red are the true means. blue are the posterior means')\n",
    "print('blue circles are two std deviations')"
   ]
  },
  {
   "cell_type": "markdown",
   "metadata": {},
   "source": [
    "# Newton Optimization"
   ]
  },
  {
   "cell_type": "code",
   "execution_count": 44,
   "metadata": {
    "collapsed": false
   },
   "outputs": [],
   "source": [
    "kl_obj = Objective(model.vb_params['global'], model.kl_optimize_z)"
   ]
  },
  {
   "cell_type": "code",
   "execution_count": 45,
   "metadata": {
    "collapsed": false,
    "scrolled": false
   },
   "outputs": [
    {
     "ename": "KeyboardInterrupt",
     "evalue": "",
     "output_type": "error",
     "traceback": [
      "\u001b[0;31m---------------------------------------------------------------------------\u001b[0m",
      "\u001b[0;31mKeyboardInterrupt\u001b[0m                         Traceback (most recent call last)",
      "\u001b[0;32m<ipython-input-45-a0567929be34>\u001b[0m in \u001b[0;36m<module>\u001b[0;34m()\u001b[0m\n\u001b[1;32m     11\u001b[0m \u001b[0;34m\u001b[0m\u001b[0m\n\u001b[1;32m     12\u001b[0m \u001b[0mnewton_tr_init\u001b[0m \u001b[0;34m=\u001b[0m \u001b[0mcavi_results\u001b[0m\u001b[0;34m.\u001b[0m\u001b[0mvb_params\u001b[0m\u001b[0;34m[\u001b[0m\u001b[0;34m'global'\u001b[0m\u001b[0;34m]\u001b[0m\u001b[0;34m.\u001b[0m\u001b[0mget_free\u001b[0m\u001b[0;34m(\u001b[0m\u001b[0;34m)\u001b[0m \u001b[0;31m# initialize with result from CAVI\u001b[0m\u001b[0;34m\u001b[0m\u001b[0m\n\u001b[0;32m---> 13\u001b[0;31m \u001b[0mnewton_tr_opt\u001b[0m \u001b[0;34m=\u001b[0m \u001b[0mminimize_kl\u001b[0m\u001b[0;34m(\u001b[0m\u001b[0mkl_obj\u001b[0m\u001b[0;34m,\u001b[0m \u001b[0mnewton_tr_init\u001b[0m\u001b[0;34m)\u001b[0m \u001b[0;31m# run Newton\u001b[0m\u001b[0;34m\u001b[0m\u001b[0m\n\u001b[0m",
      "\u001b[0;32m<ipython-input-45-a0567929be34>\u001b[0m in \u001b[0;36mminimize_kl\u001b[0;34m(kl_obj, init_x, maxiter, gtol, disp)\u001b[0m\n\u001b[1;32m      5\u001b[0m         \u001b[0mjac\u001b[0m\u001b[0;34m=\u001b[0m\u001b[0mkl_obj\u001b[0m\u001b[0;34m.\u001b[0m\u001b[0mfun_free_grad\u001b[0m\u001b[0;34m,\u001b[0m\u001b[0;34m\u001b[0m\u001b[0m\n\u001b[1;32m      6\u001b[0m         \u001b[0mhessp\u001b[0m\u001b[0;34m=\u001b[0m\u001b[0mkl_obj\u001b[0m\u001b[0;34m.\u001b[0m\u001b[0mfun_free_hvp\u001b[0m\u001b[0;34m,\u001b[0m\u001b[0;34m\u001b[0m\u001b[0m\n\u001b[0;32m----> 7\u001b[0;31m         method='trust-ncg', options={'maxiter': maxiter, 'gtol': gtol, 'disp': disp})\n\u001b[0m\u001b[1;32m      8\u001b[0m \u001b[0;34m\u001b[0m\u001b[0m\n\u001b[1;32m      9\u001b[0m     \u001b[0mprint\u001b[0m\u001b[0;34m(\u001b[0m\u001b[0;34m'done :o'\u001b[0m\u001b[0;34m)\u001b[0m\u001b[0;34m\u001b[0m\u001b[0m\n",
      "\u001b[0;32m/home/runjing_liu/anaconda3/lib/python3.6/site-packages/scipy/optimize/_minimize.py\u001b[0m in \u001b[0;36mminimize\u001b[0;34m(fun, x0, args, method, jac, hess, hessp, bounds, constraints, tol, callback, options)\u001b[0m\n\u001b[1;32m    462\u001b[0m     \u001b[0;32melif\u001b[0m \u001b[0mmeth\u001b[0m \u001b[0;34m==\u001b[0m \u001b[0;34m'trust-ncg'\u001b[0m\u001b[0;34m:\u001b[0m\u001b[0;34m\u001b[0m\u001b[0m\n\u001b[1;32m    463\u001b[0m         return _minimize_trust_ncg(fun, x0, args, jac, hess, hessp,\n\u001b[0;32m--> 464\u001b[0;31m                                    callback=callback, **options)\n\u001b[0m\u001b[1;32m    465\u001b[0m     \u001b[0;32melse\u001b[0m\u001b[0;34m:\u001b[0m\u001b[0;34m\u001b[0m\u001b[0m\n\u001b[1;32m    466\u001b[0m         \u001b[0;32mraise\u001b[0m \u001b[0mValueError\u001b[0m\u001b[0;34m(\u001b[0m\u001b[0;34m'Unknown solver %s'\u001b[0m \u001b[0;34m%\u001b[0m \u001b[0mmethod\u001b[0m\u001b[0;34m)\u001b[0m\u001b[0;34m\u001b[0m\u001b[0m\n",
      "\u001b[0;32m/home/runjing_liu/anaconda3/lib/python3.6/site-packages/scipy/optimize/_trustregion_ncg.py\u001b[0m in \u001b[0;36m_minimize_trust_ncg\u001b[0;34m(fun, x0, args, jac, hess, hessp, **trust_region_options)\u001b[0m\n\u001b[1;32m     39\u001b[0m     return _minimize_trust_region(fun, x0, args=args, jac=jac, hess=hess,\n\u001b[1;32m     40\u001b[0m                                   \u001b[0mhessp\u001b[0m\u001b[0;34m=\u001b[0m\u001b[0mhessp\u001b[0m\u001b[0;34m,\u001b[0m \u001b[0msubproblem\u001b[0m\u001b[0;34m=\u001b[0m\u001b[0mCGSteihaugSubproblem\u001b[0m\u001b[0;34m,\u001b[0m\u001b[0;34m\u001b[0m\u001b[0m\n\u001b[0;32m---> 41\u001b[0;31m                                   **trust_region_options)\n\u001b[0m\u001b[1;32m     42\u001b[0m \u001b[0;34m\u001b[0m\u001b[0m\n\u001b[1;32m     43\u001b[0m \u001b[0;34m\u001b[0m\u001b[0m\n",
      "\u001b[0;32m/home/runjing_liu/anaconda3/lib/python3.6/site-packages/scipy/optimize/_trustregion.py\u001b[0m in \u001b[0;36m_minimize_trust_region\u001b[0;34m(fun, x0, args, jac, hess, hessp, subproblem, initial_trust_radius, max_trust_radius, eta, gtol, maxiter, disp, return_all, callback, **unknown_options)\u001b[0m\n\u001b[1;32m    172\u001b[0m         \u001b[0;31m# has reached the trust region boundary or not.\u001b[0m\u001b[0;34m\u001b[0m\u001b[0;34m\u001b[0m\u001b[0m\n\u001b[1;32m    173\u001b[0m         \u001b[0;32mtry\u001b[0m\u001b[0;34m:\u001b[0m\u001b[0;34m\u001b[0m\u001b[0m\n\u001b[0;32m--> 174\u001b[0;31m             \u001b[0mp\u001b[0m\u001b[0;34m,\u001b[0m \u001b[0mhits_boundary\u001b[0m \u001b[0;34m=\u001b[0m \u001b[0mm\u001b[0m\u001b[0;34m.\u001b[0m\u001b[0msolve\u001b[0m\u001b[0;34m(\u001b[0m\u001b[0mtrust_radius\u001b[0m\u001b[0;34m)\u001b[0m\u001b[0;34m\u001b[0m\u001b[0m\n\u001b[0m\u001b[1;32m    175\u001b[0m         \u001b[0;32mexcept\u001b[0m \u001b[0mnp\u001b[0m\u001b[0;34m.\u001b[0m\u001b[0mlinalg\u001b[0m\u001b[0;34m.\u001b[0m\u001b[0mlinalg\u001b[0m\u001b[0;34m.\u001b[0m\u001b[0mLinAlgError\u001b[0m \u001b[0;32mas\u001b[0m \u001b[0me\u001b[0m\u001b[0;34m:\u001b[0m\u001b[0;34m\u001b[0m\u001b[0m\n\u001b[1;32m    176\u001b[0m             \u001b[0mwarnflag\u001b[0m \u001b[0;34m=\u001b[0m \u001b[0;36m3\u001b[0m\u001b[0;34m\u001b[0m\u001b[0m\n",
      "\u001b[0;32m/home/runjing_liu/anaconda3/lib/python3.6/site-packages/scipy/optimize/_trustregion_ncg.py\u001b[0m in \u001b[0;36msolve\u001b[0;34m(self, trust_radius)\u001b[0m\n\u001b[1;32m     89\u001b[0m \u001b[0;34m\u001b[0m\u001b[0m\n\u001b[1;32m     90\u001b[0m             \u001b[0;31m# do an iteration\u001b[0m\u001b[0;34m\u001b[0m\u001b[0;34m\u001b[0m\u001b[0m\n\u001b[0;32m---> 91\u001b[0;31m             \u001b[0mBd\u001b[0m \u001b[0;34m=\u001b[0m \u001b[0mself\u001b[0m\u001b[0;34m.\u001b[0m\u001b[0mhessp\u001b[0m\u001b[0;34m(\u001b[0m\u001b[0md\u001b[0m\u001b[0;34m)\u001b[0m\u001b[0;34m\u001b[0m\u001b[0m\n\u001b[0m\u001b[1;32m     92\u001b[0m             \u001b[0mdBd\u001b[0m \u001b[0;34m=\u001b[0m \u001b[0mnp\u001b[0m\u001b[0;34m.\u001b[0m\u001b[0mdot\u001b[0m\u001b[0;34m(\u001b[0m\u001b[0md\u001b[0m\u001b[0;34m,\u001b[0m \u001b[0mBd\u001b[0m\u001b[0;34m)\u001b[0m\u001b[0;34m\u001b[0m\u001b[0m\n\u001b[1;32m     93\u001b[0m             \u001b[0;32mif\u001b[0m \u001b[0mdBd\u001b[0m \u001b[0;34m<=\u001b[0m \u001b[0;36m0\u001b[0m\u001b[0;34m:\u001b[0m\u001b[0;34m\u001b[0m\u001b[0m\n",
      "\u001b[0;32m/home/runjing_liu/anaconda3/lib/python3.6/site-packages/scipy/optimize/_trustregion.py\u001b[0m in \u001b[0;36mhessp\u001b[0;34m(self, p)\u001b[0m\n\u001b[1;32m     61\u001b[0m     \u001b[0;32mdef\u001b[0m \u001b[0mhessp\u001b[0m\u001b[0;34m(\u001b[0m\u001b[0mself\u001b[0m\u001b[0;34m,\u001b[0m \u001b[0mp\u001b[0m\u001b[0;34m)\u001b[0m\u001b[0;34m:\u001b[0m\u001b[0;34m\u001b[0m\u001b[0m\n\u001b[1;32m     62\u001b[0m         \u001b[0;32mif\u001b[0m \u001b[0mself\u001b[0m\u001b[0;34m.\u001b[0m\u001b[0m_hessp\u001b[0m \u001b[0;32mis\u001b[0m \u001b[0;32mnot\u001b[0m \u001b[0;32mNone\u001b[0m\u001b[0;34m:\u001b[0m\u001b[0;34m\u001b[0m\u001b[0m\n\u001b[0;32m---> 63\u001b[0;31m             \u001b[0;32mreturn\u001b[0m \u001b[0mself\u001b[0m\u001b[0;34m.\u001b[0m\u001b[0m_hessp\u001b[0m\u001b[0;34m(\u001b[0m\u001b[0mself\u001b[0m\u001b[0;34m.\u001b[0m\u001b[0m_x\u001b[0m\u001b[0;34m,\u001b[0m \u001b[0mp\u001b[0m\u001b[0;34m)\u001b[0m\u001b[0;34m\u001b[0m\u001b[0m\n\u001b[0m\u001b[1;32m     64\u001b[0m         \u001b[0;32melse\u001b[0m\u001b[0;34m:\u001b[0m\u001b[0;34m\u001b[0m\u001b[0m\n\u001b[1;32m     65\u001b[0m             \u001b[0;32mreturn\u001b[0m \u001b[0mnp\u001b[0m\u001b[0;34m.\u001b[0m\u001b[0mdot\u001b[0m\u001b[0;34m(\u001b[0m\u001b[0mself\u001b[0m\u001b[0;34m.\u001b[0m\u001b[0mhess\u001b[0m\u001b[0;34m,\u001b[0m \u001b[0mp\u001b[0m\u001b[0;34m)\u001b[0m\u001b[0;34m\u001b[0m\u001b[0m\n",
      "\u001b[0;32m/home/runjing_liu/anaconda3/lib/python3.6/site-packages/scipy/optimize/optimize.py\u001b[0m in \u001b[0;36mfunction_wrapper\u001b[0;34m(*wrapper_args)\u001b[0m\n\u001b[1;32m    290\u001b[0m     \u001b[0;32mdef\u001b[0m \u001b[0mfunction_wrapper\u001b[0m\u001b[0;34m(\u001b[0m\u001b[0;34m*\u001b[0m\u001b[0mwrapper_args\u001b[0m\u001b[0;34m)\u001b[0m\u001b[0;34m:\u001b[0m\u001b[0;34m\u001b[0m\u001b[0m\n\u001b[1;32m    291\u001b[0m         \u001b[0mncalls\u001b[0m\u001b[0;34m[\u001b[0m\u001b[0;36m0\u001b[0m\u001b[0;34m]\u001b[0m \u001b[0;34m+=\u001b[0m \u001b[0;36m1\u001b[0m\u001b[0;34m\u001b[0m\u001b[0m\n\u001b[0;32m--> 292\u001b[0;31m         \u001b[0;32mreturn\u001b[0m \u001b[0mfunction\u001b[0m\u001b[0;34m(\u001b[0m\u001b[0;34m*\u001b[0m\u001b[0;34m(\u001b[0m\u001b[0mwrapper_args\u001b[0m \u001b[0;34m+\u001b[0m \u001b[0margs\u001b[0m\u001b[0;34m)\u001b[0m\u001b[0;34m)\u001b[0m\u001b[0;34m\u001b[0m\u001b[0m\n\u001b[0m\u001b[1;32m    293\u001b[0m \u001b[0;34m\u001b[0m\u001b[0m\n\u001b[1;32m    294\u001b[0m     \u001b[0;32mreturn\u001b[0m \u001b[0mncalls\u001b[0m\u001b[0;34m,\u001b[0m \u001b[0mfunction_wrapper\u001b[0m\u001b[0;34m\u001b[0m\u001b[0m\n",
      "\u001b[0;32m/home/runjing_liu/anaconda3/lib/python3.6/site-packages/autograd/errors.py\u001b[0m in \u001b[0;36mwrapped\u001b[0;34m(*args, **kwargs)\u001b[0m\n\u001b[1;32m     46\u001b[0m   \u001b[0;34m@\u001b[0m\u001b[0mwraps\u001b[0m\u001b[0;34m(\u001b[0m\u001b[0mfun\u001b[0m\u001b[0;34m)\u001b[0m\u001b[0;34m\u001b[0m\u001b[0m\n\u001b[1;32m     47\u001b[0m   \u001b[0;32mdef\u001b[0m \u001b[0mwrapped\u001b[0m\u001b[0;34m(\u001b[0m\u001b[0;34m*\u001b[0m\u001b[0margs\u001b[0m\u001b[0;34m,\u001b[0m \u001b[0;34m**\u001b[0m\u001b[0mkwargs\u001b[0m\u001b[0;34m)\u001b[0m\u001b[0;34m:\u001b[0m\u001b[0;34m\u001b[0m\u001b[0m\n\u001b[0;32m---> 48\u001b[0;31m     \u001b[0;32mtry\u001b[0m\u001b[0;34m:\u001b[0m \u001b[0;32mreturn\u001b[0m \u001b[0mfun\u001b[0m\u001b[0;34m(\u001b[0m\u001b[0;34m*\u001b[0m\u001b[0margs\u001b[0m\u001b[0;34m,\u001b[0m \u001b[0;34m**\u001b[0m\u001b[0mkwargs\u001b[0m\u001b[0;34m)\u001b[0m\u001b[0;34m\u001b[0m\u001b[0m\n\u001b[0m\u001b[1;32m     49\u001b[0m     \u001b[0;32mexcept\u001b[0m \u001b[0mException\u001b[0m \u001b[0;32mas\u001b[0m \u001b[0me\u001b[0m\u001b[0;34m:\u001b[0m \u001b[0madd_extra_error_message\u001b[0m\u001b[0;34m(\u001b[0m\u001b[0me\u001b[0m\u001b[0;34m)\u001b[0m\u001b[0;34m\u001b[0m\u001b[0m\n\u001b[1;32m     50\u001b[0m   \u001b[0;32mreturn\u001b[0m \u001b[0mwrapped\u001b[0m\u001b[0;34m\u001b[0m\u001b[0m\n",
      "\u001b[0;32m/home/runjing_liu/anaconda3/lib/python3.6/site-packages/autograd/convenience_wrappers.py\u001b[0m in \u001b[0;36mgradfun\u001b[0;34m(*args, **kwargs)\u001b[0m\n\u001b[1;32m     24\u001b[0m         \u001b[0margs\u001b[0m\u001b[0;34m[\u001b[0m\u001b[0margnum\u001b[0m\u001b[0;34m]\u001b[0m \u001b[0;34m=\u001b[0m \u001b[0msafe_type\u001b[0m\u001b[0;34m(\u001b[0m\u001b[0margs\u001b[0m\u001b[0;34m[\u001b[0m\u001b[0margnum\u001b[0m\u001b[0;34m]\u001b[0m\u001b[0;34m)\u001b[0m\u001b[0;34m\u001b[0m\u001b[0m\n\u001b[1;32m     25\u001b[0m         \u001b[0mvjp\u001b[0m\u001b[0;34m,\u001b[0m \u001b[0mans\u001b[0m \u001b[0;34m=\u001b[0m \u001b[0mmake_vjp\u001b[0m\u001b[0;34m(\u001b[0m\u001b[0mfun\u001b[0m\u001b[0;34m,\u001b[0m \u001b[0margnum\u001b[0m\u001b[0;34m)\u001b[0m\u001b[0;34m(\u001b[0m\u001b[0;34m*\u001b[0m\u001b[0margs\u001b[0m\u001b[0;34m,\u001b[0m \u001b[0;34m**\u001b[0m\u001b[0mkwargs\u001b[0m\u001b[0;34m)\u001b[0m\u001b[0;34m\u001b[0m\u001b[0m\n\u001b[0;32m---> 26\u001b[0;31m         \u001b[0;32mreturn\u001b[0m \u001b[0mvjp\u001b[0m\u001b[0;34m(\u001b[0m\u001b[0mvspace\u001b[0m\u001b[0;34m(\u001b[0m\u001b[0mgetval\u001b[0m\u001b[0;34m(\u001b[0m\u001b[0mans\u001b[0m\u001b[0;34m)\u001b[0m\u001b[0;34m)\u001b[0m\u001b[0;34m.\u001b[0m\u001b[0mones\u001b[0m\u001b[0;34m(\u001b[0m\u001b[0;34m)\u001b[0m\u001b[0;34m)\u001b[0m\u001b[0;34m\u001b[0m\u001b[0m\n\u001b[0m\u001b[1;32m     27\u001b[0m \u001b[0;34m\u001b[0m\u001b[0m\n\u001b[1;32m     28\u001b[0m     \u001b[0;32mreturn\u001b[0m \u001b[0mgradfun\u001b[0m\u001b[0;34m\u001b[0m\u001b[0m\n",
      "\u001b[0;32m/home/runjing_liu/anaconda3/lib/python3.6/site-packages/autograd/core.py\u001b[0m in \u001b[0;36mvjp\u001b[0;34m(g)\u001b[0m\n\u001b[1;32m     17\u001b[0m             \u001b[0;32mdef\u001b[0m \u001b[0mvjp\u001b[0m\u001b[0;34m(\u001b[0m\u001b[0mg\u001b[0m\u001b[0;34m)\u001b[0m\u001b[0;34m:\u001b[0m \u001b[0;32mreturn\u001b[0m \u001b[0mstart_node\u001b[0m\u001b[0;34m.\u001b[0m\u001b[0mvspace\u001b[0m\u001b[0;34m.\u001b[0m\u001b[0mzeros\u001b[0m\u001b[0;34m(\u001b[0m\u001b[0;34m)\u001b[0m\u001b[0;34m\u001b[0m\u001b[0m\n\u001b[1;32m     18\u001b[0m         \u001b[0;32melse\u001b[0m\u001b[0;34m:\u001b[0m\u001b[0;34m\u001b[0m\u001b[0m\n\u001b[0;32m---> 19\u001b[0;31m             \u001b[0;32mdef\u001b[0m \u001b[0mvjp\u001b[0m\u001b[0;34m(\u001b[0m\u001b[0mg\u001b[0m\u001b[0;34m)\u001b[0m\u001b[0;34m:\u001b[0m \u001b[0;32mreturn\u001b[0m \u001b[0mbackward_pass\u001b[0m\u001b[0;34m(\u001b[0m\u001b[0mg\u001b[0m\u001b[0;34m,\u001b[0m \u001b[0mend_node\u001b[0m\u001b[0;34m,\u001b[0m \u001b[0mstart_node\u001b[0m\u001b[0;34m)\u001b[0m\u001b[0;34m\u001b[0m\u001b[0m\n\u001b[0m\u001b[1;32m     20\u001b[0m         \u001b[0;32mreturn\u001b[0m \u001b[0mvjp\u001b[0m\u001b[0;34m,\u001b[0m \u001b[0mend_node\u001b[0m\u001b[0;34m\u001b[0m\u001b[0m\n\u001b[1;32m     21\u001b[0m     \u001b[0;32mreturn\u001b[0m \u001b[0mvjp_maker\u001b[0m\u001b[0;34m\u001b[0m\u001b[0m\n",
      "\u001b[0;32m/home/runjing_liu/anaconda3/lib/python3.6/site-packages/autograd/core.py\u001b[0m in \u001b[0;36mbackward_pass\u001b[0;34m(g, end_node, start_node)\u001b[0m\n\u001b[1;32m     41\u001b[0m                                    parent.vspace, node.vspace, args, kwargs)\n\u001b[1;32m     42\u001b[0m             \u001b[0massert_vspace_match\u001b[0m\u001b[0;34m(\u001b[0m\u001b[0moutgrad\u001b[0m\u001b[0;34m,\u001b[0m \u001b[0mparent\u001b[0m\u001b[0;34m.\u001b[0m\u001b[0mvspace\u001b[0m\u001b[0;34m,\u001b[0m \u001b[0mfunction\u001b[0m\u001b[0;34m)\u001b[0m\u001b[0;34m\u001b[0m\u001b[0m\n\u001b[0;32m---> 43\u001b[0;31m             \u001b[0moutgrads\u001b[0m\u001b[0;34m[\u001b[0m\u001b[0mparent\u001b[0m\u001b[0;34m]\u001b[0m \u001b[0;34m=\u001b[0m \u001b[0madd_outgrads\u001b[0m\u001b[0;34m(\u001b[0m\u001b[0mparent\u001b[0m\u001b[0;34m.\u001b[0m\u001b[0mvspace\u001b[0m\u001b[0;34m,\u001b[0m \u001b[0moutgrads\u001b[0m\u001b[0;34m.\u001b[0m\u001b[0mget\u001b[0m\u001b[0;34m(\u001b[0m\u001b[0mparent\u001b[0m\u001b[0;34m)\u001b[0m\u001b[0;34m,\u001b[0m \u001b[0moutgrad\u001b[0m\u001b[0;34m)\u001b[0m\u001b[0;34m\u001b[0m\u001b[0m\n\u001b[0m\u001b[1;32m     44\u001b[0m     \u001b[0;32mreturn\u001b[0m \u001b[0mcur_outgrad\u001b[0m\u001b[0;34m[\u001b[0m\u001b[0;36m0\u001b[0m\u001b[0;34m]\u001b[0m\u001b[0;34m\u001b[0m\u001b[0m\n\u001b[1;32m     45\u001b[0m \u001b[0;34m\u001b[0m\u001b[0m\n",
      "\u001b[0;32m/home/runjing_liu/anaconda3/lib/python3.6/site-packages/autograd/core.py\u001b[0m in \u001b[0;36madd_outgrads\u001b[0;34m(vspace, prev_g_flagged, g)\u001b[0m\n\u001b[1;32m     55\u001b[0m             \u001b[0;32mreturn\u001b[0m \u001b[0mprimitive_mut_add\u001b[0m\u001b[0;34m(\u001b[0m\u001b[0mvspace\u001b[0m\u001b[0;34m,\u001b[0m \u001b[0mprev_g\u001b[0m\u001b[0;34m,\u001b[0m \u001b[0mg\u001b[0m\u001b[0;34m)\u001b[0m\u001b[0;34m,\u001b[0m \u001b[0;32mTrue\u001b[0m\u001b[0;34m\u001b[0m\u001b[0m\n\u001b[1;32m     56\u001b[0m         \u001b[0;32melse\u001b[0m\u001b[0;34m:\u001b[0m\u001b[0;34m\u001b[0m\u001b[0m\n\u001b[0;32m---> 57\u001b[0;31m             \u001b[0mprev_g_mutable\u001b[0m \u001b[0;34m=\u001b[0m \u001b[0mprimitive_mut_add\u001b[0m\u001b[0;34m(\u001b[0m\u001b[0mvspace\u001b[0m\u001b[0;34m,\u001b[0m \u001b[0;32mNone\u001b[0m\u001b[0;34m,\u001b[0m \u001b[0mprev_g\u001b[0m\u001b[0;34m)\u001b[0m\u001b[0;34m\u001b[0m\u001b[0m\n\u001b[0m\u001b[1;32m     58\u001b[0m             \u001b[0;32mreturn\u001b[0m \u001b[0mprimitive_mut_add\u001b[0m\u001b[0;34m(\u001b[0m\u001b[0mvspace\u001b[0m\u001b[0;34m,\u001b[0m \u001b[0mprev_g_mutable\u001b[0m\u001b[0;34m,\u001b[0m \u001b[0mg\u001b[0m\u001b[0;34m)\u001b[0m\u001b[0;34m,\u001b[0m \u001b[0;32mTrue\u001b[0m\u001b[0;34m\u001b[0m\u001b[0m\n\u001b[1;32m     59\u001b[0m \u001b[0;34m\u001b[0m\u001b[0m\n",
      "\u001b[0;32m/home/runjing_liu/anaconda3/lib/python3.6/site-packages/autograd/core.py\u001b[0m in \u001b[0;36m__call__\u001b[0;34m(self, *args, **kwargs)\u001b[0m\n\u001b[1;32m     82\u001b[0m                 \u001b[0mprogenitors\u001b[0m\u001b[0;34m.\u001b[0m\u001b[0mupdate\u001b[0m\u001b[0;34m(\u001b[0m\u001b[0marg\u001b[0m\u001b[0;34m.\u001b[0m\u001b[0mprogenitors\u001b[0m \u001b[0;34m&\u001b[0m \u001b[0mactive_progenitors\u001b[0m\u001b[0;34m)\u001b[0m\u001b[0;34m\u001b[0m\u001b[0m\n\u001b[1;32m     83\u001b[0m \u001b[0;34m\u001b[0m\u001b[0m\n\u001b[0;32m---> 84\u001b[0;31m         \u001b[0mresult_value\u001b[0m \u001b[0;34m=\u001b[0m \u001b[0mself\u001b[0m\u001b[0;34m.\u001b[0m\u001b[0mfun\u001b[0m\u001b[0;34m(\u001b[0m\u001b[0;34m*\u001b[0m\u001b[0margvals\u001b[0m\u001b[0;34m,\u001b[0m \u001b[0;34m**\u001b[0m\u001b[0mkwargs\u001b[0m\u001b[0;34m)\u001b[0m\u001b[0;34m\u001b[0m\u001b[0m\n\u001b[0m\u001b[1;32m     85\u001b[0m         \u001b[0;32mif\u001b[0m \u001b[0mprogenitors\u001b[0m\u001b[0;34m:\u001b[0m\u001b[0;34m\u001b[0m\u001b[0m\n\u001b[1;32m     86\u001b[0m             \u001b[0;32mreturn\u001b[0m \u001b[0mnew_node\u001b[0m\u001b[0;34m(\u001b[0m\u001b[0mresult_value\u001b[0m\u001b[0;34m,\u001b[0m \u001b[0;34m(\u001b[0m\u001b[0mself\u001b[0m\u001b[0;34m,\u001b[0m \u001b[0margs\u001b[0m\u001b[0;34m,\u001b[0m \u001b[0mkwargs\u001b[0m\u001b[0;34m,\u001b[0m \u001b[0mparents\u001b[0m\u001b[0;34m)\u001b[0m\u001b[0;34m,\u001b[0m \u001b[0mprogenitors\u001b[0m\u001b[0;34m)\u001b[0m\u001b[0;34m\u001b[0m\u001b[0m\n",
      "\u001b[0;32m/home/runjing_liu/anaconda3/lib/python3.6/site-packages/autograd/core.py\u001b[0m in \u001b[0;36mprimitive_mut_add\u001b[0;34m(vspace, x_prev, x_new)\u001b[0m\n\u001b[1;32m    134\u001b[0m \u001b[0;32mdef\u001b[0m \u001b[0mprimitive_mut_add\u001b[0m\u001b[0;34m(\u001b[0m\u001b[0mvspace\u001b[0m\u001b[0;34m,\u001b[0m \u001b[0mx_prev\u001b[0m\u001b[0;34m,\u001b[0m \u001b[0mx_new\u001b[0m\u001b[0;34m)\u001b[0m\u001b[0;34m:\u001b[0m\u001b[0;34m\u001b[0m\u001b[0m\n\u001b[1;32m    135\u001b[0m     \u001b[0;32mif\u001b[0m \u001b[0mx_prev\u001b[0m \u001b[0;32mis\u001b[0m \u001b[0;32mNone\u001b[0m\u001b[0;34m:\u001b[0m\u001b[0;34m\u001b[0m\u001b[0m\n\u001b[0;32m--> 136\u001b[0;31m         \u001b[0mx_prev\u001b[0m \u001b[0;34m=\u001b[0m \u001b[0mvspace\u001b[0m\u001b[0;34m.\u001b[0m\u001b[0mzeros\u001b[0m\u001b[0;34m(\u001b[0m\u001b[0;34m)\u001b[0m\u001b[0;34m\u001b[0m\u001b[0m\n\u001b[0m\u001b[1;32m    137\u001b[0m     \u001b[0;32mif\u001b[0m \u001b[0mtype\u001b[0m\u001b[0;34m(\u001b[0m\u001b[0mx_new\u001b[0m\u001b[0;34m)\u001b[0m \u001b[0;34m==\u001b[0m \u001b[0mSparseObject\u001b[0m\u001b[0;34m:\u001b[0m\u001b[0;34m\u001b[0m\u001b[0m\n\u001b[1;32m    138\u001b[0m         \u001b[0;32mreturn\u001b[0m \u001b[0mx_new\u001b[0m\u001b[0;34m.\u001b[0m\u001b[0mmut_add\u001b[0m\u001b[0;34m(\u001b[0m\u001b[0mx_prev\u001b[0m\u001b[0;34m)\u001b[0m\u001b[0;34m\u001b[0m\u001b[0m\n",
      "\u001b[0;32m/home/runjing_liu/anaconda3/lib/python3.6/site-packages/autograd/numpy/numpy_extra.py\u001b[0m in \u001b[0;36mzeros\u001b[0;34m(self)\u001b[0m\n\u001b[1;32m     76\u001b[0m \u001b[0;34m\u001b[0m\u001b[0m\n\u001b[1;32m     77\u001b[0m     \u001b[0;32mdef\u001b[0m \u001b[0mzeros\u001b[0m\u001b[0;34m(\u001b[0m\u001b[0mself\u001b[0m\u001b[0;34m)\u001b[0m\u001b[0;34m:\u001b[0m\u001b[0;34m\u001b[0m\u001b[0m\n\u001b[0;32m---> 78\u001b[0;31m         \u001b[0;32mreturn\u001b[0m \u001b[0mnp\u001b[0m\u001b[0;34m.\u001b[0m\u001b[0mzeros\u001b[0m\u001b[0;34m(\u001b[0m\u001b[0mself\u001b[0m\u001b[0;34m.\u001b[0m\u001b[0mshape\u001b[0m\u001b[0;34m,\u001b[0m \u001b[0mdtype\u001b[0m\u001b[0;34m=\u001b[0m\u001b[0mself\u001b[0m\u001b[0;34m.\u001b[0m\u001b[0mdtype\u001b[0m\u001b[0;34m)\u001b[0m\u001b[0;34m\u001b[0m\u001b[0m\n\u001b[0m\u001b[1;32m     79\u001b[0m \u001b[0;34m\u001b[0m\u001b[0m\n\u001b[1;32m     80\u001b[0m     \u001b[0;32mdef\u001b[0m \u001b[0mones\u001b[0m\u001b[0;34m(\u001b[0m\u001b[0mself\u001b[0m\u001b[0;34m)\u001b[0m\u001b[0;34m:\u001b[0m\u001b[0;34m\u001b[0m\u001b[0m\n",
      "\u001b[0;31mKeyboardInterrupt\u001b[0m: "
     ]
    }
   ],
   "source": [
    "def minimize_kl(kl_obj, init_x, maxiter = 50, gtol = 1e-6, disp = True):\n",
    "    vb_opt = optimize.minimize(\n",
    "        kl_obj.fun_free,\n",
    "        x0=init_x,\n",
    "        jac=kl_obj.fun_free_grad,\n",
    "        hessp=kl_obj.fun_free_hvp,\n",
    "        method='trust-ncg', options={'maxiter': maxiter, 'gtol': gtol, 'disp': disp})\n",
    "\n",
    "    print('done :o')\n",
    "    return vb_opt\n",
    "\n",
    "newton_tr_init = cavi_results.vb_params['global'].get_free() # initialize with result from CAVI\n",
    "newton_tr_opt = minimize_kl(kl_obj, newton_tr_init) # run Newton"
   ]
  },
  {
   "cell_type": "code",
   "execution_count": null,
   "metadata": {
    "collapsed": true
   },
   "outputs": [],
   "source": [
    "model.vb_params['global'].set_free(newton_tr_opt.x)\n",
    "model.set_optimal_z()\n",
    "\n",
    "newton_results = deepcopy(model)"
   ]
  },
  {
   "cell_type": "code",
   "execution_count": 27,
   "metadata": {
    "collapsed": false
   },
   "outputs": [
    {
     "name": "stdout",
     "output_type": "stream",
     "text": [
      "minimizing function value 4595.32562298\n",
      "L_inf norm of gradient:  1.18091470194e-07\n",
      "time to compute Hessian (sec):  11.031761407852173\n",
      "Hessian eigenvalues all positive:  True\n",
      "distance (l2) to minimizer of quadratic approx. :  0.000128640917645\n"
     ]
    }
   ],
   "source": [
    "# checking the optima\n",
    "\n",
    "print('minimizing function value', newton_results.get_kl())\n",
    "\n",
    "# check that the gradient is close to 0\n",
    "kl_grad = kl_obj.fun_free_grad(newton_tr_opt.x)\n",
    "# print(kl_grad)\n",
    "print('L_inf norm of gradient: ', np.max(np.abs(kl_grad)))\n",
    "\n",
    "t0 = time.time()\n",
    "kl_hessian = kl_obj.fun_free_hessian(newton_tr_opt.x)\n",
    "hessian_time = time.time() - t0\n",
    "\n",
    "hessian_evals = np.linalg.eigvals(kl_hessian)\n",
    "\n",
    "print('time to compute Hessian (sec): ', hessian_time)\n",
    "# print('eigenvalues: \\n', hessian_evals)\n",
    "print('Hessian eigenvalues all positive: ', np.all(hessian_evals > 0))\n",
    "print('distance (l2) to minimizer of quadratic approx. : ', np.linalg.norm(-np.linalg.solve(kl_hessian, kl_grad)))"
   ]
  },
  {
   "cell_type": "code",
   "execution_count": 28,
   "metadata": {
    "collapsed": false,
    "scrolled": false
   },
   "outputs": [
    {
     "data": {
      "image/png": "[encoded data removed]",
      "text/plain": [
       "<matplotlib.figure.Figure at 0x7fe6720c3b70>"
      ]
     },
     "metadata": {},
     "output_type": "display_data"
    },
    {
     "data": {
      "image/png": "[encoded data removed]",
      "text/plain": [
       "<matplotlib.figure.Figure at 0x7fe67203afd0>"
      ]
     },
     "metadata": {},
     "output_type": "display_data"
    }
   ],
   "source": [
    "# plot posterior predictive\n",
    "e_z = newton_results.vb_params['local']['e_z'].get()\n",
    "mu = newton_results.vb_params['global']['mu'].get()\n",
    "pred_x = np.dot(e_z, mu)\n",
    "for col in range(x_dim):\n",
    "    plt.clf()\n",
    "    plt.plot(pred_x[:, col], x[:, col], 'ko')\n",
    "    diag = np.linspace(np.min(pred_x[:,col]),np.max(pred_x[:,col]))\n",
    "    plt.plot(diag, diag)\n",
    "    plt.title('Posterior predictive, column' + str(col))\n",
    "    plt.xlabel('predicted X')\n",
    "    plt.ylabel('true X')\n",
    "    plt.show()\n"
   ]
  },
  {
   "cell_type": "code",
   "execution_count": 29,
   "metadata": {
    "collapsed": false,
    "scrolled": false
   },
   "outputs": [
    {
     "name": "stdout",
     "output_type": "stream",
     "text": [
      "[[ 9.86130269  9.71014556]\n",
      " [ 9.86130269  9.71014556]\n",
      " [ 9.86130269  9.71014556]\n",
      " [ 9.86130269  9.71014556]\n",
      " [ 9.86130269  9.71014556]\n",
      " [ 9.86130269  9.71014556]\n",
      " [ 9.86130269  9.71014556]\n",
      " [ 9.86130269  9.71014556]\n",
      " [ 9.86130269  9.71014556]\n",
      " [ 9.86130269  9.71014556]]\n",
      "[[ 9.86130269  9.71014556]\n",
      " [ 9.86130269  9.71014556]\n",
      " [ 9.86130269  9.71014556]\n",
      " [ 9.86130269  9.71014556]\n",
      " [ 9.86130269  9.71014556]\n",
      " [ 9.86130269  9.71014556]\n",
      " [ 9.86130269  9.71014556]\n",
      " [ 9.86130269  9.71014556]\n",
      " [ 9.86130269  9.71014556]\n",
      " [ 9.86130269  9.71014556]]\n",
      "l1 difference (normalized) between means:  1.98063787593e-14\n"
     ]
    }
   ],
   "source": [
    "# compare CAVI with Newton_tr\n",
    "print(cavi_results.vb_params['global']['mu'].get())\n",
    "print(newton_results.vb_params['global']['mu'].get())\n",
    "\n",
    "print('l1 difference (normalized) between means: ', \\\n",
    "      np.mean(np.abs(cavi_results.vb_params['global']['mu'].get() \\\n",
    "                     - newton_results.vb_params['global']['mu'].get())))"
   ]
  },
  {
   "cell_type": "code",
   "execution_count": 30,
   "metadata": {
    "collapsed": false
   },
   "outputs": [
    {
     "name": "stdout",
     "output_type": "stream",
     "text": [
      "l1 difference (normalized) between all params:  nan\n"
     ]
    },
    {
     "name": "stderr",
     "output_type": "stream",
     "text": [
      "/home/runjing_liu/anaconda3/lib/python3.6/site-packages/autograd/core.py:84: RuntimeWarning: divide by zero encountered in log\n",
      "  result_value = self.fun(*argvals, **kwargs)\n",
      "../../LinearResponseVariationalBayes.py/VariationalBayes/MultinomialParams.py:19: RuntimeWarning: invalid value encountered in subtract\n",
      "  np.expand_dims(np.log(simplex_mat[:, 0]), axis=1)\n",
      "/home/runjing_liu/anaconda3/lib/python3.6/site-packages/ipykernel/__main__.py:1: RuntimeWarning: invalid value encountered in subtract\n",
      "  if __name__ == '__main__':\n"
     ]
    }
   ],
   "source": [
    "print('l1 difference (normalized) between all params: ', \\\n",
    "      np.mean(np.abs(cavi_results.vb_params.get_free() - newton_results.vb_params.get_free())))"
   ]
  },
  {
   "cell_type": "code",
   "execution_count": 35,
   "metadata": {
    "collapsed": false
   },
   "outputs": [
    {
     "data": {
      "text/plain": [
       "array([[ 0.,  0.,  0., ...,  0.,  0.,  1.],\n",
       "       [ 0.,  0.,  0., ...,  0.,  0.,  1.],\n",
       "       [ 0.,  0.,  0., ...,  0.,  0.,  1.],\n",
       "       ..., \n",
       "       [ 0.,  0.,  0., ...,  0.,  0.,  1.],\n",
       "       [ 0.,  0.,  0., ...,  0.,  0.,  1.],\n",
       "       [ 0.,  0.,  0., ...,  0.,  0.,  1.]])"
      ]
     },
     "execution_count": 35,
     "metadata": {},
     "output_type": "execute_result"
    }
   ],
   "source": [
    "cavi_results.vb_params['local']['e_z'].get()"
   ]
  },
  {
   "cell_type": "markdown",
   "metadata": {},
   "source": [
    "# Parametric sensitivity analysis"
   ]
  },
  {
   "cell_type": "markdown",
   "metadata": {},
   "source": [
    "In particular, we are interested in how posterior quantities depend on our choice of DP parameter $\\alpha$. "
   ]
  },
  {
   "cell_type": "markdown",
   "metadata": {},
   "source": [
    "As a first step, lets manually perturb $\\alpha$ and re-optimize. We will then compare these perturbed results with the sensitivity predicted by LRVB. "
   ]
  },
  {
   "cell_type": "code",
   "execution_count": 36,
   "metadata": {
    "collapsed": false,
    "scrolled": false
   },
   "outputs": [
    {
     "name": "stdout",
     "output_type": "stream",
     "text": [
      "Optimization terminated successfully.\n",
      "         Current function value: -13635.169817\n",
      "         Iterations: 4\n",
      "         Function evaluations: 5\n",
      "         Gradient evaluations: 5\n",
      "         Hessian evaluations: 0\n",
      "done :o\n"
     ]
    }
   ],
   "source": [
    "epsilon = 0.1 # how much we will perturb alpha\n",
    "\n",
    "model_perturbed = deepcopy(newton_results)\n",
    "model_perturbed.alpha = alpha + epsilon # perturb dp parameter\n",
    "\n",
    "# define new objective\n",
    "kl_obj_perturbed = Objective(model_perturbed.vb_params['global'], model_perturbed.kl_optimize_z)\n",
    "\n",
    "# find new optima\n",
    "newton_tr_opt_perturbed = minimize_kl(kl_obj_perturbed, newton_tr_opt.x, gtol = 10**(-6))\n",
    "\n",
    "model_perturbed.vb_params['global'].set_free(newton_tr_opt_perturbed.x) \n",
    "model_perturbed.set_optimal_z()"
   ]
  },
  {
   "cell_type": "code",
   "execution_count": 37,
   "metadata": {
    "collapsed": false,
    "scrolled": true
   },
   "outputs": [
    {
     "name": "stdout",
     "output_type": "stream",
     "text": [
      "L_inf norm of gradient:  7.62760119665e-08\n",
      "time to compute Hessian (sec):  7.941573858261108\n",
      "Hessian evals all positive:  True\n",
      "distance (l2) to minimizer of quadratic approx. :  1.55700284611e-07\n"
     ]
    }
   ],
   "source": [
    "# checking the optima\n",
    "\n",
    "# check that the gradient is close to 0\n",
    "kl_grad = kl_obj_perturbed.fun_free_grad(newton_tr_opt_perturbed.x)\n",
    "# print(kl_grad)\n",
    "print('L_inf norm of gradient: ', np.max(np.abs(kl_grad)))\n",
    "\n",
    "t0 = time.time()\n",
    "kl_hessian = kl_obj_perturbed.fun_free_hessian(newton_tr_opt_perturbed.x)\n",
    "hessian_time = time.time() - t0\n",
    "\n",
    "hessian_evals = np.linalg.eigvals(kl_hessian)\n",
    "\n",
    "print('time to compute Hessian (sec): ', hessian_time)\n",
    "# print('eigenvalues: \\n', hessian_evals)\n",
    "print('Hessian evals all positive: ', np.all(hessian_evals > 0))\n",
    "print('distance (l2) to minimizer of quadratic approx. : ', np.linalg.norm(-np.linalg.solve(kl_hessian, kl_grad)))"
   ]
  },
  {
   "cell_type": "markdown",
   "metadata": {},
   "source": [
    "Now, lets do LRVB and get predicted sensitivities for various posterior quantities"
   ]
  },
  {
   "cell_type": "markdown",
   "metadata": {},
   "source": [
    "### V_stick sensitivity"
   ]
  },
  {
   "cell_type": "markdown",
   "metadata": {},
   "source": [
    "As a first pass, we look at the sensitivity of the posterior stick lengths to our choice of DP parameter $\\alpha$"
   ]
  },
  {
   "cell_type": "code",
   "execution_count": 38,
   "metadata": {
    "collapsed": false,
    "scrolled": false
   },
   "outputs": [
    {
     "name": "stdout",
     "output_type": "stream",
     "text": [
      "evaluating hessian ...\n",
      "ok\n",
      "LRVB predicted_sensitivity: \n",
      " [ -1.49707824e-06  -5.03476243e-03  -4.08566285e-03  -3.19402697e-05\n",
      "  -3.18416536e-05  -4.65618842e-03  -7.60811088e-05  -1.49225458e-02\n",
      "  -4.55048837e-04]\n",
      "true sensitivity: \n",
      " [ -1.47097280e-06  -4.97965824e-03  -4.04683765e-03  -3.15728225e-05\n",
      "  -3.14765146e-05  -4.58120371e-03  -7.50256251e-05  -1.47115625e-02\n",
      "  -4.47209133e-04]\n"
     ]
    }
   ],
   "source": [
    "def get_v_sticks(model, global_free_params): \n",
    "    model.vb_params['global'].set_free(global_free_params)  \n",
    "    model.set_optimal_z()\n",
    "\n",
    "    return model.vb_params['global']['v_sticks'].e()[:,0]\n",
    "\n",
    "# compute LRVB sensitivity\n",
    "alpha_sensitivity = lrvb.DPAlphaSensitivity(model, newton_tr_opt.x)\n",
    "lrvb_sens_v_sticks = alpha_sensitivity.get_param_sensitivity(lambda x : get_v_sticks(model, x))\n",
    "\n",
    "print('LRVB predicted_sensitivity: \\n', lrvb_sens_v_sticks)\n",
    "\n",
    "# true senstivity\n",
    "perturbed_mean = model_perturbed.vb_params['global']['v_sticks'].e()[:,0]\n",
    "old_mean = newton_results.vb_params['global']['v_sticks'].e()[:,0]\n",
    "\n",
    "print('true sensitivity: \\n', (perturbed_mean - old_mean) / epsilon)"
   ]
  },
  {
   "cell_type": "markdown",
   "metadata": {},
   "source": [
    "### Cluster mean sensitivity"
   ]
  },
  {
   "cell_type": "markdown",
   "metadata": {},
   "source": [
    "We can also check the sensitivity of posterior means to $\\alpha$. "
   ]
  },
  {
   "cell_type": "code",
   "execution_count": 39,
   "metadata": {
    "collapsed": false
   },
   "outputs": [
    {
     "name": "stdout",
     "output_type": "stream",
     "text": [
      "LRVB predicted_sensitivity: \n",
      " [ 0.00104077  0.00186593 -0.17297215 -0.17399693 -0.0704796  -0.06494648\n",
      "  0.00102417  0.00183575  0.00101746  0.00182342  0.00411982  0.01203614\n",
      "  0.00100105  0.00179303 -0.00980224 -0.01828409  0.00097228  0.00173667\n",
      " -0.07331101 -0.10800736]\n",
      "true sensitivity: \n",
      " [ 0.00099039  0.00181267 -0.17108269 -0.17227077 -0.06957938 -0.06405339\n",
      "  0.00097463  0.00178338  0.00096826  0.00177143  0.00391039  0.01169296\n",
      "  0.00095271  0.00174197 -0.00963051 -0.01801077  0.00092557  0.00168745\n",
      " -0.07294961 -0.10681881]\n"
     ]
    }
   ],
   "source": [
    "def get_cluster_means(model, global_free_params): \n",
    "    model.vb_params['global'].set_free(global_free_params)  \n",
    "    model.set_optimal_z()\n",
    "    \n",
    "    return model.vb_params['global']['mu'].get_vector()\n",
    "\n",
    "# compute LRVB sensitivity\n",
    "lrvb_sens_means = alpha_sensitivity.get_param_sensitivity(lambda x : get_cluster_means(model, x))\n",
    "\n",
    "print('LRVB predicted_sensitivity: \\n', lrvb_sens_means)\n",
    "\n",
    "# true senstivity\n",
    "perturbed_mean = model_perturbed.vb_params['global']['mu'].get_vector()\n",
    "old_mean = newton_results.vb_params['global']['mu'].get_vector()\n",
    "\n",
    "print('true sensitivity: \\n', (perturbed_mean - old_mean) / epsilon)"
   ]
  },
  {
   "cell_type": "markdown",
   "metadata": {},
   "source": [
    "### Co-clustering sensitivity"
   ]
  },
  {
   "cell_type": "markdown",
   "metadata": {},
   "source": [
    "Since this is a clustering problem, we can check other moments too: like co-clustering. In particular, for two data points indexed by $n_1$ and $n_2$, we can check the sensitivty of $E[z_{n_1} \\cdot z_{n_2}]$, the indicator that $x_{n_1}$ and $x_{n_2}$ belong to the same cluster."
   ]
  },
  {
   "cell_type": "code",
   "execution_count": 40,
   "metadata": {
    "collapsed": true
   },
   "outputs": [],
   "source": [
    "def get_co_clustering(model, global_free_params, n1, n2): \n",
    "    model.vb_params['global'].set_free(global_free_params)  \n",
    "    model.set_optimal_z()\n",
    "\n",
    "    e_z1 = model.vb_params['local']['e_z'].get()[n1, :]\n",
    "    e_z2 = model.vb_params['local']['e_z'].get()[n2, :]\n",
    "    \n",
    "    return np.dot(e_z1, e_z2)"
   ]
  },
  {
   "cell_type": "code",
   "execution_count": 41,
   "metadata": {
    "collapsed": false
   },
   "outputs": [
    {
     "name": "stdout",
     "output_type": "stream",
     "text": [
      "cluster of first data point:  [ 0.  1.  0.  0.  0.  0.  0.  0.  0.  0.]\n",
      "cluster of second data point:  [ 0.  1.  0.  0.  0.  0.  0.  0.  0.  0.]\n",
      "cluster mean of first data point:  [ 10.49176502  10.38408124]\n",
      "cluster mean of first data point:  [ 10.49176502  10.38408124]\n",
      "\n",
      "here, black are data points. red are the true means. \n",
      "blue are the posterior means. yellow are the chosen data points. \n"
     ]
    },
    {
     "data": {
      "image/png": "[encoded data removed]",
      "text/plain": [
       "<matplotlib.figure.Figure at 0x7fb965b64ef0>"
      ]
     },
     "metadata": {},
     "output_type": "display_data"
    }
   ],
   "source": [
    "# choose two data points\n",
    "n1 = 0\n",
    "n2 = 1\n",
    "\n",
    "cluster1 = np.round(model.vb_params['local']['e_z'].get()[n1, :])\n",
    "cluster2 = np.round(model.vb_params['local']['e_z'].get()[n2, :])\n",
    "\n",
    "print('cluster of first data point: ', cluster1)\n",
    "print('cluster of second data point: ', cluster2)\n",
    "print('cluster mean of first data point: ', np.dot(cluster1, cavi_results.vb_params['global']['mu'].get()))\n",
    "print('cluster mean of first data point: ', np.dot(cluster2, cavi_results.vb_params['global']['mu'].get()))\n",
    "\n",
    "# visualize the data\n",
    "plt.plot(x[:,0], x[:,1], 'k.')\n",
    "for k in range(k_true):\n",
    "    plt.plot(true_mu[k, 0], true_mu[k, 1], 'ro')\n",
    "\n",
    "for k in range(np.shape(post_mean)[0]):\n",
    "    plt.plot(post_mean[k, 0], post_mean[k, 1], 'b^')\n",
    "    \n",
    "plt.plot(x[n1, 0], x[n1, 0], 'yo')\n",
    "plt.plot(x[n2, 0], x[n2, 0], 'yo')\n",
    "\n",
    "print('\\nhere, black are data points. red are the true means. ')\n",
    "print('blue are the posterior means. yellow are the chosen data points. ')"
   ]
  },
  {
   "cell_type": "code",
   "execution_count": 42,
   "metadata": {
    "collapsed": false
   },
   "outputs": [
    {
     "name": "stdout",
     "output_type": "stream",
     "text": [
      "predicted_sensitivity: \n",
      " 0.00533096320507\n",
      "true_sensitivty: \n",
      " 0.00512655668071\n"
     ]
    }
   ],
   "source": [
    "lrvb_sens_co_cluster = alpha_sensitivity.get_param_sensitivity(\\\n",
    "                                        lambda x: get_co_clustering(model, x, n1, n2))\n",
    "\n",
    "print('predicted_sensitivity: \\n', lrvb_sens_co_cluster)\n",
    "co_clustering = np.dot(newton_results.vb_params['local']['e_z'].get()[n1, :], \\\n",
    "    newton_results.vb_params['local']['e_z'].get()[n2, :])\n",
    "    \n",
    "co_clustering_pert = np.dot(model_perturbed.vb_params['local']['e_z'].get()[n1, :], \\\n",
    "    model_perturbed.vb_params['local']['e_z'].get()[n2, :])\n",
    "\n",
    "print('true_sensitivty: \\n', (co_clustering_pert - co_clustering)/ epsilon)\n"
   ]
  },
  {
   "cell_type": "code",
   "execution_count": 43,
   "metadata": {
    "collapsed": false
   },
   "outputs": [
    {
     "name": "stdout",
     "output_type": "stream",
     "text": [
      "cluster of first data point:  [ 0.  1.  0.  0.  0.  0.  0.  0.  0.  0.]\n",
      "cluster of second data point:  [ 0.  0.  0.  0.  0.  0.  0.  1.  0.  0.]\n",
      "cluster mean of first data point:  [ 10.49176502  10.38408124]\n",
      "cluster mean of first data point:  [ 0.5757472  -0.32584084]\n",
      "\n",
      "here, black are data points. red are the true means. \n",
      "blue are the posterior means. yellow are the chosen data points. \n"
     ]
    },
    {
     "data": {
      "image/png": "[encoded data removed]",
      "text/plain": [
       "<matplotlib.figure.Figure at 0x7fb965e305c0>"
      ]
     },
     "metadata": {},
     "output_type": "display_data"
    }
   ],
   "source": [
    "# choose two data points\n",
    "n1 = 0\n",
    "n2 = 2\n",
    "\n",
    "cluster1 = np.round(model.vb_params['local']['e_z'].get()[n1, :])\n",
    "cluster2 = np.round(model.vb_params['local']['e_z'].get()[n2, :])\n",
    "\n",
    "print('cluster of first data point: ', cluster1)\n",
    "print('cluster of second data point: ', cluster2)\n",
    "print('cluster mean of first data point: ', np.dot(cluster1, cavi_results.vb_params['global']['mu'].get()))\n",
    "print('cluster mean of first data point: ', np.dot(cluster2, cavi_results.vb_params['global']['mu'].get()))\n",
    "\n",
    "# visualize the data\n",
    "plt.plot(x[:,0], x[:,1], 'k.')\n",
    "for k in range(k_true):\n",
    "    plt.plot(true_mu[k, 0], true_mu[k, 1], 'ro')\n",
    "\n",
    "for k in range(np.shape(post_mean)[0]):\n",
    "    plt.plot(post_mean[k, 0], post_mean[k, 1], 'b^')\n",
    "    \n",
    "plt.plot(x[n1, 0], x[n1, 0], 'yo')\n",
    "plt.plot(x[n2, 0], x[n2, 0], 'yo')\n",
    "\n",
    "print('\\nhere, black are data points. red are the true means. ')\n",
    "print('blue are the posterior means. yellow are the chosen data points. ')\n"
   ]
  },
  {
   "cell_type": "code",
   "execution_count": 44,
   "metadata": {
    "collapsed": false,
    "scrolled": false
   },
   "outputs": [
    {
     "name": "stdout",
     "output_type": "stream",
     "text": [
      "predicted_sensitivity: \n",
      " -1.28145553898e-05\n",
      "true_sensitivty: \n",
      " -1.25428330873e-05\n"
     ]
    }
   ],
   "source": [
    "lrvb_sens_co_cluster = alpha_sensitivity.get_param_sensitivity(\\\n",
    "                                        lambda x: get_co_clustering(model, x, n1, n2))\n",
    "\n",
    "print('predicted_sensitivity: \\n', lrvb_sens_co_cluster)\n",
    "\n",
    "co_clustering = np.dot(newton_results.vb_params['local']['e_z'].get()[n1, :], \\\n",
    "    newton_results.vb_params['local']['e_z'].get()[n2, :])\n",
    "    \n",
    "co_clustering_pert = np.dot(model_perturbed.vb_params['local']['e_z'].get()[n1, :], \\\n",
    "    model_perturbed.vb_params['local']['e_z'].get()[n2, :])\n",
    "\n",
    "print('true_sensitivty: \\n', (co_clustering_pert - co_clustering)/ epsilon)"
   ]
  },
  {
   "cell_type": "markdown",
   "metadata": {},
   "source": [
    "so we see that the co-clustering of two data points which are close is more sensitive to alpha than two data points that are far away"
   ]
  },
  {
   "cell_type": "markdown",
   "metadata": {},
   "source": [
    "## Let us check the linearity of the perturbation in alpha"
   ]
  },
  {
   "cell_type": "code",
   "execution_count": 45,
   "metadata": {
    "collapsed": false,
    "scrolled": false
   },
   "outputs": [
    {
     "name": "stdout",
     "output_type": "stream",
     "text": [
      "-2.0\n",
      "done :o\n",
      "-1.8\n",
      "done :o\n",
      "-1.6\n",
      "done :o\n",
      "-1.4\n",
      "done :o\n",
      "-1.2\n",
      "done :o\n",
      "-1.0\n",
      "done :o\n",
      "-0.8\n",
      "done :o\n",
      "-0.6\n",
      "done :o\n",
      "-0.4\n",
      "done :o\n",
      "-0.2\n",
      "done :o\n",
      "-4.4408920985e-16\n",
      "done :o\n",
      "0.2\n",
      "done :o\n",
      "0.4\n",
      "done :o\n",
      "0.6\n",
      "done :o\n",
      "0.8\n",
      "done :o\n",
      "1.0\n",
      "done :o\n",
      "1.2\n",
      "done :o\n",
      "1.4\n",
      "done :o\n",
      "1.6\n",
      "done :o\n",
      "1.8\n",
      "done :o\n",
      "2.0\n",
      "done :o\n"
     ]
    }
   ],
   "source": [
    "epsilons = np.arange(-2.0, 2.2, 0.2) # the range for which we will perturb alpha\n",
    "\n",
    "results = np.zeros((len(epsilons), model.vb_params.free_size()))\n",
    "\n",
    "for i in range(len(epsilons)): \n",
    "    print(epsilons[i])\n",
    "    model_perturbed = deepcopy(newton_results)\n",
    "    model_perturbed.alpha  = alpha + epsilons[i] # perturb dp parameter\n",
    "\n",
    "    # define new objective\n",
    "    kl_obj_perturbed = Objective(model_perturbed.vb_params['global'], model_perturbed.kl_optimize_z)\n",
    "\n",
    "    # find new optima\n",
    "    opt_perturbed = minimize_kl(kl_obj_perturbed, newton_tr_opt.x, gtol = 10**(-6), disp = False)\n",
    "    \n",
    "    # set to optima\n",
    "    model_perturbed.vb_params['global'].set_free(opt_perturbed.x) \n",
    "    model_perturbed.set_optimal_z()\n",
    "    \n",
    "    results[i, :] = model_perturbed.vb_params.get_free()    "
   ]
  },
  {
   "cell_type": "code",
   "execution_count": 46,
   "metadata": {
    "collapsed": false
   },
   "outputs": [],
   "source": [
    "k_stick = 1\n",
    "\n",
    "perturbed_v_sticks = np.zeros(len(epsilons))\n",
    "perturbed_co_clusters = np.zeros(len(epsilons))\n",
    "\n",
    "for i in range(len(epsilons)): \n",
    "    model.vb_params.set_free(results[i,:])\n",
    "    perturbed_v_sticks[i] = model.vb_params['global']['v_sticks'].e()[k_stick, 0]\n",
    "    \n",
    "    perturbed_co_clusters[i] = np.dot(model.vb_params['local']['e_z'].get()[n1, :], \\\n",
    "                                model.vb_params['local']['e_z'].get()[n2, :])\n"
   ]
  },
  {
   "cell_type": "code",
   "execution_count": 47,
   "metadata": {
    "collapsed": false
   },
   "outputs": [
    {
     "data": {
      "text/plain": [
       "<matplotlib.text.Text at 0x7fb96976c0b8>"
      ]
     },
     "execution_count": 47,
     "metadata": {},
     "output_type": "execute_result"
    },
    {
     "data": {
      "image/png": "[encoded data removed]",
      "text/plain": [
       "<matplotlib.figure.Figure at 0x7fb965a5d0f0>"
      ]
     },
     "metadata": {},
     "output_type": "display_data"
    }
   ],
   "source": [
    "plt.plot(alpha + epsilons, perturbed_v_sticks, 'ko')\n",
    "# plot the LRVB approximation\n",
    "x_axis = np.linspace(alpha + epsilons[0], alpha + epsilons[-1], 100)\n",
    "\n",
    "old_mean = newton_results.vb_params['global']['v_sticks'].e()[k_stick, 0]\n",
    "plt.plot(x_axis, lrvb_sens_v_sticks[k_stick] * (x_axis - alpha) + old_mean)\n",
    "plt.xlabel('alpha')\n",
    "plt.ylabel('posterior stick length')"
   ]
  },
  {
   "cell_type": "code",
   "execution_count": 48,
   "metadata": {
    "collapsed": false
   },
   "outputs": [
    {
     "data": {
      "text/plain": [
       "<matplotlib.text.Text at 0x7fb965c0b198>"
      ]
     },
     "execution_count": 48,
     "metadata": {},
     "output_type": "execute_result"
    },
    {
     "data": {
      "image/png": "[encoded data removed]",
      "text/plain": [
       "<matplotlib.figure.Figure at 0x7fb965c047b8>"
      ]
     },
     "metadata": {},
     "output_type": "display_data"
    }
   ],
   "source": [
    "plt.plot(alpha + epsilons, perturbed_co_clusters, 'ko')\n",
    "\n",
    "# plot the LRVB approximation\n",
    "x_axis = np.linspace(alpha + epsilons[0], alpha + epsilons[-1], 100)\n",
    "\n",
    "old_co_cluster = np.dot(newton_results.vb_params['local']['e_z'].get()[n1, :], \\\n",
    "                                newton_results.vb_params['local']['e_z'].get()[n2, :])\n",
    "plt.plot(x_axis, lrvb_sens_co_cluster * (x_axis - alpha) + old_co_cluster)\n",
    "plt.xlabel('alpha')\n",
    "plt.ylabel('posterior co-clusters')"
   ]
  },
  {
   "cell_type": "code",
   "execution_count": null,
   "metadata": {
    "collapsed": true
   },
   "outputs": [],
   "source": []
  },
  {
   "cell_type": "code",
   "execution_count": null,
   "metadata": {
    "collapsed": true
   },
   "outputs": [],
   "source": []
  },
  {
   "cell_type": "code",
   "execution_count": null,
   "metadata": {
    "collapsed": true
   },
   "outputs": [],
   "source": []
  },
  {
   "cell_type": "code",
   "execution_count": null,
   "metadata": {
    "collapsed": true
   },
   "outputs": [],
   "source": []
  }
 ],
 "metadata": {
  "kernelspec": {
   "display_name": "Python 3",
   "language": "python",
   "name": "python3"
  },
  "language_info": {
   "codemirror_mode": {
    "name": "ipython",
    "version": 3
   },
   "file_extension": ".py",
   "mimetype": "text/x-python",
   "name": "python",
   "nbconvert_exporter": "python",
   "pygments_lexer": "ipython3",
   "version": "3.6.0"
  }
 },
 "nbformat": 4,
 "nbformat_minor": 2
}
