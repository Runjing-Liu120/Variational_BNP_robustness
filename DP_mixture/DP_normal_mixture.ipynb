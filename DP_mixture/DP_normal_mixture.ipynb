{
 "cells": [
  {
   "cell_type": "markdown",
   "metadata": {},
   "source": [
    "## Variational inference in Dirichlet Process Normal Mixture"
   ]
  },
  {
   "cell_type": "code",
   "execution_count": 1,
   "metadata": {
    "collapsed": false
   },
   "outputs": [],
   "source": [
    "import autograd\n",
    "import autograd.numpy as np\n",
    "import autograd.scipy as sp\n",
    "from autograd.scipy import special\n",
    "from autograd import grad, hessian, hessian_vector_product, hessian, jacobian\n",
    "\n",
    "import sys\n",
    "sys.path.append('../../LinearResponseVariationalBayes.py')\n",
    "\n",
    "from VariationalBayes.ParameterDictionary import ModelParamsDict\n",
    "from VariationalBayes.Parameters import ScalarParam, VectorParam, ArrayParam\n",
    "from VariationalBayes.MultinomialParams import SimplexParam\n",
    "from VariationalBayes.DirichletParams import DirichletParamArray\n",
    "from VariationalBayes.MatrixParameters import PosDefMatrixParam, PosDefMatrixParamVector\n",
    "from VariationalBayes.SparseObjectives import SparseObjective, Objective\n",
    "\n",
    "import DP_normal_mixture_lib as dp\n",
    "import DP_normal_mixture_opt_lib as dp_opt\n",
    "\n",
    "from copy import deepcopy\n",
    "\n",
    "from scipy import optimize\n",
    "\n",
    "import time\n",
    "\n",
    "import matplotlib.pyplot as plt\n",
    "%matplotlib inline  \n"
   ]
  },
  {
   "cell_type": "markdown",
   "metadata": {
    "collapsed": true
   },
   "source": [
    "# Generate Data"
   ]
  },
  {
   "cell_type": "code",
   "execution_count": 2,
   "metadata": {
    "collapsed": false,
    "scrolled": true
   },
   "outputs": [],
   "source": [
    "np.random.seed(3143)\n",
    "# np.random.seed(54325)\n",
    "\n",
    "# data parameters\n",
    "num_obs = 1000 # number of observations \n",
    "x_dim = 2 # dimension of observations\n",
    "k_true = 5 # true number of clusters\n",
    "\n",
    "info_x = 0.3 * np.eye(x_dim) \n",
    "\n",
    "x, true_mu, true_z, true_pi = dp.draw_data(info_x, x_dim, k_true, num_obs)\n",
    "\n",
    "\n",
    "# prior parameters\n",
    "alpha = 2.0 # DP parameter\n",
    "prior_mu = np.mean(x, axis = 0)\n",
    "prior_info = 0.1 * np.eye(x_dim)\n",
    "\n",
    "# variational truncation \n",
    "k_approx = 10 \n",
    "\n"
   ]
  },
  {
   "cell_type": "code",
   "execution_count": 3,
   "metadata": {
    "collapsed": false,
    "scrolled": true
   },
   "outputs": [
    {
     "name": "stdout",
     "output_type": "stream",
     "text": [
      "observed mixture proportions: \n",
      " [ 0.204  0.201  0.175  0.208  0.212]\n",
      "true mixture proportions: \n",
      " [ 0.2  0.2  0.2  0.2  0.2]\n"
     ]
    },
    {
     "data": {
      "image/png": "[encoded data removed]",
      "text/plain": [
       "<matplotlib.figure.Figure at 0x7f99cdb52748>"
      ]
     },
     "metadata": {},
     "output_type": "display_data"
    }
   ],
   "source": [
    "# visualize the data\n",
    "plt.plot(x[:,0], x[:,1], 'k.')\n",
    "for k in range(k_true):\n",
    "    plt.plot(true_mu[k, 0], true_mu[k, 1], 'ro')\n",
    "    \n",
    "print('observed mixture proportions: \\n', np.mean(true_z, axis = 0))\n",
    "print('true mixture proportions: \\n', true_pi)"
   ]
  },
  {
   "cell_type": "markdown",
   "metadata": {},
   "source": [
    "## Set up VB model"
   ]
  },
  {
   "cell_type": "code",
   "execution_count": 4,
   "metadata": {
    "collapsed": false
   },
   "outputs": [],
   "source": [
    "global_params = ModelParamsDict('global')\n",
    "global_params.push_param(\n",
    "    PosDefMatrixParamVector(name='info', length=k_approx, matrix_size=x_dim)) # variational variances\n",
    "global_params.push_param(\n",
    "    ArrayParam(name='mu', shape=(k_approx, x_dim))) # variational means\n",
    "global_params.push_param(\n",
    "    DirichletParamArray(name='v_sticks', shape=(k_approx - 1, 2))) # note the shape k_approx - 1 ...\n",
    "                                                                   # the last stick is always 1 in our approximation\n",
    "local_params = ModelParamsDict('local')\n",
    "local_params.push_param(\n",
    "    SimplexParam(name='e_z', shape=(num_obs, k_approx)))\n",
    "\n",
    "vb_params = ModelParamsDict('vb_params model')\n",
    "vb_params.push_param(global_params)\n",
    "vb_params.push_param(local_params)\n"
   ]
  },
  {
   "cell_type": "code",
   "execution_count": 5,
   "metadata": {
    "collapsed": false
   },
   "outputs": [],
   "source": [
    "prior_params = ModelParamsDict('prior_params')\n",
    "prior_params.push_param(VectorParam(name='prior_mu', size=x_dim, val=prior_mu))\n",
    "prior_params.push_param(PosDefMatrixParam(name='prior_info', size=x_dim, val=prior_info))\n",
    "prior_params.push_param(ScalarParam(name='alpha', val=alpha))\n",
    "prior_params.push_param(PosDefMatrixParam(name='info_x', size=x_dim, val=info_x))"
   ]
  },
  {
   "cell_type": "code",
   "execution_count": 6,
   "metadata": {
    "collapsed": false
   },
   "outputs": [],
   "source": [
    "model = dp.DPNormalMixture(x, vb_params, prior_params)"
   ]
  },
  {
   "cell_type": "markdown",
   "metadata": {},
   "source": [
    "## Initialize"
   ]
  },
  {
   "cell_type": "code",
   "execution_count": 7,
   "metadata": {
    "collapsed": false
   },
   "outputs": [],
   "source": [
    "## initialize VB params\n",
    "\n",
    "true_init = False\n",
    "\n",
    "if true_init: \n",
    "    true_tau = np.zeros(np.shape(vb_params['global']['v_sticks'].alpha.get()))\n",
    "    true_tau[:,0] = true_v[:-1] * 100\n",
    "    true_tau[:,1] = (1 - true_v[:-1]) * 100\n",
    "    vb_params['global']['v_sticks'].alpha.set(true_tau)\n",
    "\n",
    "    # vb_params['global']['mu'].set(true_mu)\n",
    "    mu_size = vb_params['global']['mu'].free_size()\n",
    "    vb_params['global']['mu'].set_free(np.random.random(mu_size))\n",
    "    \n",
    "    true_z_fudged = dp.soft_thresh(true_z, 1 - 10**(-8), 10**(-8))\n",
    "    vb_params['local']['e_z'].set(true_z_fudged)\n",
    "    # z_size = vb_params['local']['e_z'].free_size()\n",
    "    # vb_params['local']['e_z'].set_free(np.random.random(z_size))\n",
    "else: \n",
    "    vb_params.set_free(np.random.random(vb_params.free_size()))\n",
    "    \n",
    "init_free_params = vb_params.get_free()\n",
    "global_init_free_params = vb_params['global'].get_free()"
   ]
  },
  {
   "cell_type": "markdown",
   "metadata": {},
   "source": [
    "## Run CAVI "
   ]
  },
  {
   "cell_type": "code",
   "execution_count": 8,
   "metadata": {
    "collapsed": false,
    "scrolled": false
   },
   "outputs": [
    {
     "name": "stdout",
     "output_type": "stream",
     "text": [
      "CAVI terminated successfully :)\n",
      "iterations ran:  629\n",
      "elbo:  -44695.5287601\n"
     ]
    },
    {
     "data": {
      "image/png": "[encoded data removed]",
      "text/plain": [
       "<matplotlib.figure.Figure at 0x7f99cb788cf8>"
      ]
     },
     "metadata": {},
     "output_type": "display_data"
    }
   ],
   "source": [
    "dp_opt.run_cavi(model, init_free_params, max_iter = 1000, tol = 1e-5, disp = False)\n",
    "cavi_results = deepcopy(model)\n",
    "print('elbo: ', cavi_results.get_kl())\n"
   ]
  },
  {
   "cell_type": "markdown",
   "metadata": {},
   "source": [
    "### examine results of CAVI"
   ]
  },
  {
   "cell_type": "code",
   "execution_count": 9,
   "metadata": {
    "collapsed": false
   },
   "outputs": [
    {
     "data": {
      "image/png": "[encoded data removed]",
      "text/plain": [
       "<matplotlib.figure.Figure at 0x7f99cb6e67b8>"
      ]
     },
     "metadata": {},
     "output_type": "display_data"
    },
    {
     "data": {
      "image/png": "[encoded data removed]",
      "text/plain": [
       "<matplotlib.figure.Figure at 0x7f99cb725320>"
      ]
     },
     "metadata": {},
     "output_type": "display_data"
    }
   ],
   "source": [
    "# plot posterior predictive\n",
    "e_z = cavi_results.vb_params['local']['e_z'].get()\n",
    "mu = cavi_results.vb_params['global']['mu'].get()\n",
    "pred_x = np.dot(e_z, mu)\n",
    "for col in range(x_dim):\n",
    "    plt.clf()\n",
    "    plt.plot(pred_x[:, col], x[:, col], 'ko')\n",
    "    diag = np.linspace(np.min(pred_x[:,col]),np.max(pred_x[:,col]))\n",
    "    plt.plot(diag, diag)\n",
    "    plt.title('Posterior predictive, column' + str(col))\n",
    "    plt.xlabel('predicted X')\n",
    "    plt.ylabel('true X')\n",
    "    plt.show()\n"
   ]
  },
  {
   "cell_type": "code",
   "execution_count": 10,
   "metadata": {
    "collapsed": false,
    "scrolled": true
   },
   "outputs": [
    {
     "name": "stdout",
     "output_type": "stream",
     "text": [
      "true_proportions [ 0.2  0.2  0.2  0.2  0.2]\n",
      "estimated proportions:  [ 0.00103921  0.19411039  0.02098208  0.03772041  0.00103388  0.20613063\n",
      "  0.0010304   0.21145813  0.20225867  0.12423618] \n",
      "\n",
      "true number of clusters:  5\n",
      "number of \"posterior clusters\" (ie. no. clusters w/ siginifcant weights):  5\n",
      "recall variational truncation:  10\n"
     ]
    }
   ],
   "source": [
    "# lets look at the estimated mixture proportions\n",
    "\n",
    "tau = cavi_results.vb_params['global']['v_sticks'].alpha.get() \n",
    "post_stick_length = tau[:,0] / np.sum(tau, axis = 1) # mean posterior stick lengths\n",
    "\n",
    "# compute mixture proportions using mean posterior stick lengths\n",
    "post_pi = np.ones(k_approx)\n",
    "stick_remain = np.ones(k_approx - 1)\n",
    "for i in range(k_approx - 1):\n",
    "    post_pi[i] = stick_remain[i - 1] * post_stick_length[i]\n",
    "    stick_remain[i] = stick_remain[i - 1] * (1 - post_stick_length[i])\n",
    "post_pi[-1] = stick_remain[-1]\n",
    "assert(np.abs(np.sum(post_pi) - 1.) < 10**(-10))\n",
    "\n",
    "print('true_proportions', true_pi)\n",
    "print('estimated proportions: ', post_pi, '\\n')\n",
    "\n",
    "heavy_clusters = post_pi > 1 / k_approx # clusters with significant weights \n",
    "\n",
    "print('true number of clusters: ', k_true)\n",
    "print('number of \"posterior clusters\" (ie. no. clusters w/ siginifcant weights): ', np.sum(post_pi > 1 / k_approx))\n",
    "print('recall variational truncation: ', k_approx)"
   ]
  },
  {
   "cell_type": "code",
   "execution_count": 11,
   "metadata": {
    "collapsed": false
   },
   "outputs": [
    {
     "name": "stdout",
     "output_type": "stream",
     "text": [
      "true means: \n",
      "[[ 0  0]\n",
      " [ 5  5]\n",
      " [10 10]\n",
      " [15 15]\n",
      " [20 20]] \n",
      "\n",
      "relevant posterior means (ie. posterior means for clusters with significant weights): \n",
      "[[  4.92424825e+00   5.10055368e+00]\n",
      " [  1.49641772e+01   1.49151451e+01]\n",
      " [  1.99869378e+01   1.99373862e+01]\n",
      " [  6.56068591e-02  -1.16303037e-02]\n",
      " [  9.85546129e+00   9.58329301e+00]]\n"
     ]
    }
   ],
   "source": [
    "# lets look at posterior means\n",
    "print('true means: ')\n",
    "print(true_mu, '\\n')\n",
    "\n",
    "print('relevant posterior means (ie. posterior means for clusters with significant weights): ')\n",
    "print(cavi_results.vb_params['global']['mu'].get()[heavy_clusters, :])"
   ]
  },
  {
   "cell_type": "markdown",
   "metadata": {},
   "source": [
    "## Newton Optimization"
   ]
  },
  {
   "cell_type": "code",
   "execution_count": 12,
   "metadata": {
    "collapsed": true
   },
   "outputs": [],
   "source": [
    "kl_obj = Objective(model.vb_params['global'], model.kl_optimize_z)"
   ]
  },
  {
   "cell_type": "code",
   "execution_count": 13,
   "metadata": {
    "collapsed": false,
    "scrolled": false
   },
   "outputs": [
    {
     "name": "stdout",
     "output_type": "stream",
     "text": [
      "Warning: A bad approximation caused failure to predict improvement.\n",
      "         Current function value: -44695.529510\n",
      "         Iterations: 5\n",
      "         Function evaluations: 7\n",
      "         Gradient evaluations: 6\n",
      "         Hessian evaluations: 0\n",
      "done :o\n"
     ]
    }
   ],
   "source": [
    "def minimize_kl(kl_obj, init_x, maxiter = 50, gtol = 1e-8, disp = True):\n",
    "    vb_opt = optimize.minimize(\n",
    "        kl_obj.fun_free,\n",
    "        x0=init_x,\n",
    "        jac=kl_obj.fun_free_grad,\n",
    "        hessp=kl_obj.fun_free_hvp,\n",
    "        method='trust-ncg', options={'maxiter': maxiter, 'gtol': gtol, 'disp': disp})\n",
    "\n",
    "    print('done :o')\n",
    "    return vb_opt\n",
    "\n",
    "newton_tr_init = cavi_results.vb_params['global'].get_free() # initialize with result from CAVI\n",
    "newton_tr_opt = minimize_kl(kl_obj, newton_tr_init) # run Newton"
   ]
  },
  {
   "cell_type": "code",
   "execution_count": 14,
   "metadata": {
    "collapsed": true
   },
   "outputs": [],
   "source": [
    "model.vb_params['global'].set_free(newton_tr_opt.x)\n",
    "model.set_optimal_z()\n",
    "\n",
    "newton_results = deepcopy(model)"
   ]
  },
  {
   "cell_type": "code",
   "execution_count": 15,
   "metadata": {
    "collapsed": false
   },
   "outputs": [
    {
     "name": "stdout",
     "output_type": "stream",
     "text": [
      "minimizing function value -44695.5295212\n",
      "L_inf norm of gradient:  8.51876792589e-08\n",
      "time to compute Hessian (sec):  9.264599084854126\n",
      "Hessian eigenvalues all positive:  True\n",
      "distance (l2) to minimizer of quadratic approx. :  4.76060169851e-07\n"
     ]
    }
   ],
   "source": [
    "# checking the optima\n",
    "\n",
    "print('minimizing function value', newton_results.get_kl())\n",
    "\n",
    "# check that the gradient is close to 0\n",
    "kl_grad = kl_obj.fun_free_grad(newton_tr_opt.x)\n",
    "# print(kl_grad)\n",
    "print('L_inf norm of gradient: ', np.max(np.abs(kl_grad)))\n",
    "\n",
    "t0 = time.time()\n",
    "kl_hessian = kl_obj.fun_free_hessian(newton_tr_opt.x)\n",
    "hessian_time = time.time() - t0\n",
    "\n",
    "hessian_evals = np.linalg.eigvals(kl_hessian)\n",
    "\n",
    "print('time to compute Hessian (sec): ', hessian_time)\n",
    "# print('eigenvalues: \\n', hessian_evals)\n",
    "print('Hessian eigenvalues all positive: ', np.all(hessian_evals > 0))\n",
    "print('distance (l2) to minimizer of quadratic approx. : ', np.linalg.norm(-np.linalg.solve(kl_hessian, kl_grad)))"
   ]
  },
  {
   "cell_type": "code",
   "execution_count": 16,
   "metadata": {
    "collapsed": false,
    "scrolled": false
   },
   "outputs": [
    {
     "data": {
      "image/png": "[encoded data removed]",
      "text/plain": [
       "<matplotlib.figure.Figure at 0x7f99cb7884a8>"
      ]
     },
     "metadata": {},
     "output_type": "display_data"
    },
    {
     "data": {
      "image/png": "[encoded data removed]",
      "text/plain": [
       "<matplotlib.figure.Figure at 0x7f99cb621710>"
      ]
     },
     "metadata": {},
     "output_type": "display_data"
    }
   ],
   "source": [
    "# plot posterior predictive\n",
    "e_z = newton_results.vb_params['local']['e_z'].get()\n",
    "mu = newton_results.vb_params['global']['mu'].get()\n",
    "pred_x = np.dot(e_z, mu)\n",
    "for col in range(x_dim):\n",
    "    plt.clf()\n",
    "    plt.plot(pred_x[:, col], x[:, col], 'ko')\n",
    "    diag = np.linspace(np.min(pred_x[:,col]),np.max(pred_x[:,col]))\n",
    "    plt.plot(diag, diag)\n",
    "    plt.title('Posterior predictive, column' + str(col))\n",
    "    plt.xlabel('predicted X')\n",
    "    plt.ylabel('true X')\n",
    "    plt.show()\n"
   ]
  },
  {
   "cell_type": "code",
   "execution_count": 17,
   "metadata": {
    "collapsed": false,
    "scrolled": false
   },
   "outputs": [
    {
     "name": "stdout",
     "output_type": "stream",
     "text": [
      "[[  1.01031033e+01   1.01278452e+01]\n",
      " [  4.92424825e+00   5.10055368e+00]\n",
      " [  7.30974527e+00   8.99240720e+00]\n",
      " [  1.09446142e+01   1.16327411e+01]\n",
      " [  1.01031044e+01   1.01278389e+01]\n",
      " [  1.49641772e+01   1.49151451e+01]\n",
      " [  1.01031051e+01   1.01278348e+01]\n",
      " [  1.99869378e+01   1.99373862e+01]\n",
      " [  6.56068591e-02  -1.16303037e-02]\n",
      " [  9.85546129e+00   9.58329301e+00]]\n",
      "[[  1.01031295e+01   1.01279526e+01]\n",
      " [  4.92489569e+00   5.10059584e+00]\n",
      " [  7.31584399e+00   8.98171793e+00]\n",
      " [  1.09780920e+01   1.16852485e+01]\n",
      " [  1.01031304e+01   1.01279455e+01]\n",
      " [  1.49639807e+01   1.49148974e+01]\n",
      " [  1.01031310e+01   1.01279408e+01]\n",
      " [  1.99868923e+01   1.99373443e+01]\n",
      " [  6.56454244e-02  -1.15687335e-02]\n",
      " [  9.86836634e+00   9.60723031e+00]]\n",
      "l1 difference (normalized) between means:  0.00706674968295\n"
     ]
    }
   ],
   "source": [
    "# compare CAVI with Newton_tr\n",
    "print(cavi_results.vb_params['global']['mu'].get())\n",
    "print(newton_results.vb_params['global']['mu'].get())\n",
    "\n",
    "print('l1 difference (normalized) between means: ', \\\n",
    "      np.mean(np.abs(cavi_results.vb_params['global']['mu'].get() \\\n",
    "                     - newton_results.vb_params['global']['mu'].get())))"
   ]
  },
  {
   "cell_type": "code",
   "execution_count": 18,
   "metadata": {
    "collapsed": false
   },
   "outputs": [
    {
     "name": "stdout",
     "output_type": "stream",
     "text": [
      "l1 difference (normalized) between all params:  0.0293318575826\n"
     ]
    }
   ],
   "source": [
    "print('l1 difference (normalized) between all params: ', \\\n",
    "      np.mean(np.abs(cavi_results.vb_params.get_free() - newton_results.vb_params.get_free())))"
   ]
  },
  {
   "cell_type": "markdown",
   "metadata": {},
   "source": [
    "## Parametric sensitivity analysis\n",
    "In particular, we are interested in the sensitivity of the posterior stick lengths to our choice of DP parameter $\\alpha$"
   ]
  },
  {
   "cell_type": "code",
   "execution_count": 19,
   "metadata": {
    "collapsed": false
   },
   "outputs": [],
   "source": [
    "class DPNormalMixtureLRVB(object): \n",
    "    def __init__(self, model): \n",
    "        self.model = deepcopy(model)\n",
    "        self.alpha = model.alpha\n",
    "        \n",
    "        self.get_moment_jac = autograd.jacobian(self.get_interesting_moments)        \n",
    "        self.get_kl_hessian = autograd.hessian(self.kl, argnum = 0)\n",
    "        \n",
    "        self.get_kl_jac = autograd.jacobian(self.kl, argnum = 0)\n",
    "        self.get_alpha_jac = autograd.jacobian(self.get_kl_jac, argnum = 1)\n",
    "        \n",
    "    def get_interesting_moments(self, global_free_params):\n",
    "        self.model.vb_params['global'].set_free(global_free_params)  \n",
    "        \n",
    "        # returning average of the v_sticks\n",
    "        return self.model.vb_params['global']['v_sticks'].e()[:,0]\n",
    "    \n",
    "    def kl(self, global_free_params, alpha):\n",
    "        self.model.vb_params['global'].set_free(global_free_params)\n",
    "        self.model.alpha = alpha\n",
    "        \n",
    "        return self.model.kl_optimize_z()\n",
    "    \n",
    "    def get_alpha_sensitivity(self, optimal_global_free_params): \n",
    "        moment_jac = self.get_moment_jac(optimal_global_free_params)\n",
    "        kl_hessian = self.get_kl_hessian(optimal_global_free_params, self.alpha)\n",
    "        \n",
    "        sensitivity_operator = np.linalg.solve(kl_hessian, moment_jac.T)\n",
    "                                               \n",
    "        alpha_jac = self.get_alpha_jac(optimal_global_free_params, self.alpha)\n",
    "\n",
    "        return np.dot(sensitivity_operator.T, -1 * alpha_jac)\n",
    "\n"
   ]
  },
  {
   "cell_type": "code",
   "execution_count": 20,
   "metadata": {
    "collapsed": false
   },
   "outputs": [],
   "source": [
    "lrvb_obj = DPNormalMixtureLRVB(model)"
   ]
  },
  {
   "cell_type": "code",
   "execution_count": 21,
   "metadata": {
    "collapsed": false,
    "scrolled": false
   },
   "outputs": [
    {
     "name": "stdout",
     "output_type": "stream",
     "text": [
      "sensitivity of mean stick lengths to alpha: \n",
      "predicted_sensitivity: \n",
      " [ -1.48227291e-06   8.47541356e-04  -6.96248615e-03  -2.41424285e-02\n",
      "  -4.52759512e-05  -9.27493799e-03  -8.66367437e-05  -1.76071264e-02\n",
      "  -4.50220947e-02]\n"
     ]
    }
   ],
   "source": [
    "print('sensitivity of mean stick lengths to alpha: ')\n",
    "predicted_sensitivity = lrvb_obj.get_alpha_sensitivity(newton_tr_opt.x)\n",
    "\n",
    "print('predicted_sensitivity: \\n', predicted_sensitivity)"
   ]
  },
  {
   "cell_type": "markdown",
   "metadata": {},
   "source": [
    "### Lets check this sensitivity by perturbing alpha"
   ]
  },
  {
   "cell_type": "code",
   "execution_count": 22,
   "metadata": {
    "collapsed": false,
    "scrolled": false
   },
   "outputs": [
    {
     "name": "stdout",
     "output_type": "stream",
     "text": [
      "Warning: A bad approximation caused failure to predict improvement.\n",
      "         Current function value: -44695.322991\n",
      "         Iterations: 5\n",
      "         Function evaluations: 7\n",
      "         Gradient evaluations: 6\n",
      "         Hessian evaluations: 0\n",
      "done :o\n"
     ]
    }
   ],
   "source": [
    "epsilon = .1 # how much we will perturb alpha\n",
    "\n",
    "model_perturbed = deepcopy(model)\n",
    "model_perturbed.alpha = alpha + epsilon # perturb dp parameter\n",
    "\n",
    "# define new objective\n",
    "kl_obj_perturbed = Objective(model_perturbed.vb_params['global'], model_perturbed.kl_optimize_z)\n",
    "\n",
    "# find new optima\n",
    "newton_tr_opt_perturbed = minimize_kl(kl_obj_perturbed, newton_tr_opt.x, gtol = 10**(-6))\n"
   ]
  },
  {
   "cell_type": "code",
   "execution_count": 23,
   "metadata": {
    "collapsed": false,
    "scrolled": true
   },
   "outputs": [
    {
     "name": "stdout",
     "output_type": "stream",
     "text": [
      "L_inf norm of gradient:  6.37522507494e-07\n",
      "time to compute Hessian (sec):  8.109593629837036\n",
      "Hessian evals all positive:  True\n",
      "distance (l2) to minimizer of quadratic approx. :  3.23240096169e-06\n"
     ]
    }
   ],
   "source": [
    "# checking the optima\n",
    "\n",
    "# check that the gradient is close to 0\n",
    "kl_grad = kl_obj_perturbed.fun_free_grad(newton_tr_opt_perturbed.x)\n",
    "# print(kl_grad)\n",
    "print('L_inf norm of gradient: ', np.max(np.abs(kl_grad)))\n",
    "\n",
    "t0 = time.time()\n",
    "kl_hessian = kl_obj_perturbed.fun_free_hessian(newton_tr_opt_perturbed.x)\n",
    "hessian_time = time.time() - t0\n",
    "\n",
    "hessian_evals = np.linalg.eigvals(kl_hessian)\n",
    "\n",
    "print('time to compute Hessian (sec): ', hessian_time)\n",
    "# print('eigenvalues: \\n', hessian_evals)\n",
    "print('Hessian evals all positive: ', np.all(hessian_evals > 0))\n",
    "print('distance (l2) to minimizer of quadratic approx. : ', np.linalg.norm(-np.linalg.solve(kl_hessian, kl_grad)))"
   ]
  },
  {
   "cell_type": "code",
   "execution_count": 24,
   "metadata": {
    "collapsed": false
   },
   "outputs": [
    {
     "name": "stdout",
     "output_type": "stream",
     "text": [
      "predicted_sensitivity: \n",
      " [ -1.48227291e-06   8.47541356e-04  -6.96248615e-03  -2.41424285e-02\n",
      "  -4.52759512e-05  -9.27493799e-03  -8.66367437e-05  -1.76071264e-02\n",
      "  -4.50220947e-02]\n",
      "true sensitivity: \n",
      " [ -1.48296072e-06   7.87699845e-04  -6.52132044e-03  -2.15824211e-02\n",
      "  -4.09459849e-05  -8.30971760e-03  -7.80537862e-05  -1.58372567e-02\n",
      "  -4.03963483e-02]\n"
     ]
    }
   ],
   "source": [
    "# check new means\n",
    "model_perturbed.vb_params['global'].set_free(newton_tr_opt_perturbed.x) \n",
    "\n",
    "perturbed_mean = model_perturbed.vb_params['global']['v_sticks'].e()[:,0]\n",
    "old_mean = model.vb_params['global']['v_sticks'].e()[:,0]\n",
    "\n",
    "print('predicted_sensitivity: \\n', predicted_sensitivity)\n",
    "print('true sensitivity: \\n', (perturbed_mean - old_mean) / epsilon)"
   ]
  },
  {
   "cell_type": "markdown",
   "metadata": {},
   "source": [
    "### Let us check the linearity of the perturbation in alpha"
   ]
  },
  {
   "cell_type": "code",
   "execution_count": 28,
   "metadata": {
    "collapsed": false,
    "scrolled": false
   },
   "outputs": [
    {
     "name": "stdout",
     "output_type": "stream",
     "text": [
      "-0.5\n",
      "done :o\n",
      "true sensitivity: \n",
      " [ -9.99113083e-07   3.93357398e-03  -6.16900970e-02  -1.86723589e-01\n",
      "  -3.92972734e-04  -8.46470561e-02  -8.09897888e-04  -1.67342504e-01\n",
      "  -4.95879093e-01]\n",
      "-0.4\n",
      "done :o\n",
      "true sensitivity: \n",
      " [ -1.26413703e-06   3.44179523e-03  -3.04969262e-02  -1.30900515e-01\n",
      "  -2.41986318e-04  -5.25349264e-02  -4.84819064e-04  -1.00026532e-01\n",
      "  -2.73465570e-01]\n",
      "-0.3\n",
      "done :o\n",
      "true sensitivity: \n",
      " [ -1.46765471e-06   1.33675064e-03  -1.03898076e-02  -4.40825797e-02\n",
      "  -7.92471099e-05  -1.68224596e-02  -1.54256308e-04  -3.15839022e-02\n",
      "  -8.19900308e-02]\n",
      "-0.2\n",
      "done :o\n",
      "true sensitivity: \n",
      " [ -1.47875909e-06   1.06876237e-03  -8.51916885e-03  -3.32940941e-02\n",
      "  -6.07740823e-05  -1.27242549e-02  -1.17424601e-04  -2.39683132e-02\n",
      "  -6.17539837e-02]\n",
      "-0.1\n",
      "done :o\n",
      "true sensitivity: \n",
      " [ -1.48182205e-06   9.33089891e-04  -7.57291785e-03  -2.77259677e-02\n",
      "  -5.13321842e-05  -1.06244181e-02  -9.86555496e-05  -2.00897126e-02\n",
      "  -5.15327346e-02]\n",
      "-1.11022302463e-16\n",
      "done :o\n",
      "true sensitivity: \n",
      " [-0. -0. -0. -0. -0. -0. -0. -0. -0.]\n",
      "0.1\n",
      "done :o\n",
      "true sensitivity: \n",
      " [ -1.48296072e-06   7.87699845e-04  -6.52132044e-03  -2.15824211e-02\n",
      "  -4.09459849e-05  -8.30971760e-03  -7.80537862e-05  -1.58372567e-02\n",
      "  -4.03963483e-02]\n",
      "0.2\n",
      "done :o\n",
      "true sensitivity: \n",
      " [ -1.48025254e-06   7.43219549e-04  -6.18090056e-03  -1.96377449e-02\n",
      "  -3.76653633e-05  -7.57455673e-03  -7.15533923e-05  -1.44930570e-02\n",
      "  -3.68921483e-02]\n",
      "0.3\n",
      "done :o\n",
      "true sensitivity: \n",
      " [ -1.47899070e-06   7.08754250e-04  -5.90608718e-03  -1.80971618e-02\n",
      "  -3.50570961e-05  -6.98981844e-03  -6.63876318e-05  -1.34268986e-02\n",
      "  -3.41185302e-02]\n",
      "0.4\n",
      "done :o\n",
      "true sensitivity: \n",
      " [ -1.47738786e-06   6.81268075e-04  -5.67726799e-03  -1.68398906e-02\n",
      "  -3.29233360e-05  -6.51028914e-03  -6.21620608e-05  -1.25549845e-02\n",
      "  -3.18541182e-02]\n"
     ]
    }
   ],
   "source": [
    "epsilons = np.arange(-0.5, 0.5, 0.1) # the range with which we will evaluate alpha\n",
    "\n",
    "\n",
    "opt_perturbed = deepcopy(newton_tr_opt)\n",
    "\n",
    "perturbed_means = np.zeros((len(epsilons), k_approx - 1))\n",
    "\n",
    "for i in range(len(epsilons)): \n",
    "    print(epsilons[i])\n",
    "    model_perturbed = deepcopy(model)\n",
    "    model_perturbed.alpha  = alpha + epsilons[i] # perturb dp parameter\n",
    "\n",
    "    # define new objective\n",
    "    kl_obj_perturbed = Objective(model_perturbed.vb_params['global'], model_perturbed.kl_optimize_z)\n",
    "\n",
    "    # find new optima\n",
    "    opt_perturbed = minimize_kl(kl_obj_perturbed, newton_tr_opt.x, gtol = 10**(-6), disp = False)\n",
    "    \n",
    "    # check new means\n",
    "    model_perturbed.vb_params['global'].set_free(opt_perturbed.x) \n",
    "\n",
    "    perturbed_means[i, :] = model_perturbed.vb_params['global']['v_sticks'].e()[:,0]\n",
    "    print('true sensitivity: \\n', (perturbed_means[i, :] - old_mean) / (epsilon[i]))\n",
    "    "
   ]
  },
  {
   "cell_type": "code",
   "execution_count": null,
   "metadata": {
    "collapsed": false
   },
   "outputs": [],
   "source": [
    "predicted_sensitivity: \n",
    "  [ -1.48227291e-06   8.47541356e-04  -6.96248615e-03  -2.41424285e-02\n",
    "  -4.52759512e-05  -9.27493799e-03  -8.66367437e-05  -1.76071264e-02\n",
    "  -4.50220947e-02]\n"
   ]
  },
  {
   "cell_type": "code",
   "execution_count": 29,
   "metadata": {
    "collapsed": false
   },
   "outputs": [
    {
     "ename": "ValueError",
     "evalue": "x and y must have same first dimension, but have shapes (100,) and (10,)",
     "output_type": "error",
     "traceback": [
      "\u001b[0;31m---------------------------------------------------------------------------\u001b[0m",
      "\u001b[0;31mValueError\u001b[0m                                Traceback (most recent call last)",
      "\u001b[0;32m<ipython-input-29-30e4a71d1c34>\u001b[0m in \u001b[0;36m<module>\u001b[0;34m()\u001b[0m\n\u001b[1;32m      6\u001b[0m \u001b[0;31m# plot the LRVB approximation\u001b[0m\u001b[0;34m\u001b[0m\u001b[0;34m\u001b[0m\u001b[0m\n\u001b[1;32m      7\u001b[0m \u001b[0mx_axis\u001b[0m \u001b[0;34m=\u001b[0m \u001b[0mnp\u001b[0m\u001b[0;34m.\u001b[0m\u001b[0mlinspace\u001b[0m\u001b[0;34m(\u001b[0m\u001b[0malpha\u001b[0m \u001b[0;34m+\u001b[0m \u001b[0mepsilon\u001b[0m\u001b[0;34m[\u001b[0m\u001b[0;36m0\u001b[0m\u001b[0;34m]\u001b[0m\u001b[0;34m,\u001b[0m \u001b[0malpha\u001b[0m \u001b[0;34m+\u001b[0m \u001b[0mepsilon\u001b[0m\u001b[0;34m[\u001b[0m\u001b[0;34m-\u001b[0m\u001b[0;36m1\u001b[0m\u001b[0;34m]\u001b[0m\u001b[0;34m,\u001b[0m \u001b[0;36m100\u001b[0m\u001b[0;34m)\u001b[0m\u001b[0;34m\u001b[0m\u001b[0m\n\u001b[0;32m----> 8\u001b[0;31m \u001b[0mplt\u001b[0m\u001b[0;34m.\u001b[0m\u001b[0mplot\u001b[0m\u001b[0;34m(\u001b[0m\u001b[0mx_axis\u001b[0m\u001b[0;34m,\u001b[0m \u001b[0mpredicted_sensitivity\u001b[0m\u001b[0;34m[\u001b[0m\u001b[0mk\u001b[0m\u001b[0;34m]\u001b[0m \u001b[0;34m*\u001b[0m \u001b[0;34m(\u001b[0m\u001b[0mepsilon\u001b[0m\u001b[0;34m)\u001b[0m \u001b[0;34m+\u001b[0m \u001b[0mold_mean\u001b[0m\u001b[0;34m[\u001b[0m\u001b[0mk\u001b[0m\u001b[0;34m]\u001b[0m\u001b[0;34m)\u001b[0m\u001b[0;34m\u001b[0m\u001b[0m\n\u001b[0m\u001b[1;32m      9\u001b[0m \u001b[0mplt\u001b[0m\u001b[0;34m.\u001b[0m\u001b[0mxlabel\u001b[0m\u001b[0;34m(\u001b[0m\u001b[0;34m'alpha'\u001b[0m\u001b[0;34m)\u001b[0m\u001b[0;34m\u001b[0m\u001b[0m\n\u001b[1;32m     10\u001b[0m \u001b[0mplt\u001b[0m\u001b[0;34m.\u001b[0m\u001b[0mylabel\u001b[0m\u001b[0;34m(\u001b[0m\u001b[0;34m'posterior stick length'\u001b[0m\u001b[0;34m)\u001b[0m\u001b[0;34m\u001b[0m\u001b[0m\n",
      "\u001b[0;32m/home/runjing_liu/anaconda3/lib/python3.6/site-packages/matplotlib/pyplot.py\u001b[0m in \u001b[0;36mplot\u001b[0;34m(*args, **kwargs)\u001b[0m\n\u001b[1;32m   3316\u001b[0m                       mplDeprecation)\n\u001b[1;32m   3317\u001b[0m     \u001b[0;32mtry\u001b[0m\u001b[0;34m:\u001b[0m\u001b[0;34m\u001b[0m\u001b[0m\n\u001b[0;32m-> 3318\u001b[0;31m         \u001b[0mret\u001b[0m \u001b[0;34m=\u001b[0m \u001b[0max\u001b[0m\u001b[0;34m.\u001b[0m\u001b[0mplot\u001b[0m\u001b[0;34m(\u001b[0m\u001b[0;34m*\u001b[0m\u001b[0margs\u001b[0m\u001b[0;34m,\u001b[0m \u001b[0;34m**\u001b[0m\u001b[0mkwargs\u001b[0m\u001b[0;34m)\u001b[0m\u001b[0;34m\u001b[0m\u001b[0m\n\u001b[0m\u001b[1;32m   3319\u001b[0m     \u001b[0;32mfinally\u001b[0m\u001b[0;34m:\u001b[0m\u001b[0;34m\u001b[0m\u001b[0m\n\u001b[1;32m   3320\u001b[0m         \u001b[0max\u001b[0m\u001b[0;34m.\u001b[0m\u001b[0m_hold\u001b[0m \u001b[0;34m=\u001b[0m \u001b[0mwashold\u001b[0m\u001b[0;34m\u001b[0m\u001b[0m\n",
      "\u001b[0;32m/home/runjing_liu/anaconda3/lib/python3.6/site-packages/matplotlib/__init__.py\u001b[0m in \u001b[0;36minner\u001b[0;34m(ax, *args, **kwargs)\u001b[0m\n\u001b[1;32m   1890\u001b[0m                     warnings.warn(msg % (label_namer, func.__name__),\n\u001b[1;32m   1891\u001b[0m                                   RuntimeWarning, stacklevel=2)\n\u001b[0;32m-> 1892\u001b[0;31m             \u001b[0;32mreturn\u001b[0m \u001b[0mfunc\u001b[0m\u001b[0;34m(\u001b[0m\u001b[0max\u001b[0m\u001b[0;34m,\u001b[0m \u001b[0;34m*\u001b[0m\u001b[0margs\u001b[0m\u001b[0;34m,\u001b[0m \u001b[0;34m**\u001b[0m\u001b[0mkwargs\u001b[0m\u001b[0;34m)\u001b[0m\u001b[0;34m\u001b[0m\u001b[0m\n\u001b[0m\u001b[1;32m   1893\u001b[0m         \u001b[0mpre_doc\u001b[0m \u001b[0;34m=\u001b[0m \u001b[0minner\u001b[0m\u001b[0;34m.\u001b[0m\u001b[0m__doc__\u001b[0m\u001b[0;34m\u001b[0m\u001b[0m\n\u001b[1;32m   1894\u001b[0m         \u001b[0;32mif\u001b[0m \u001b[0mpre_doc\u001b[0m \u001b[0;32mis\u001b[0m \u001b[0;32mNone\u001b[0m\u001b[0;34m:\u001b[0m\u001b[0;34m\u001b[0m\u001b[0m\n",
      "\u001b[0;32m/home/runjing_liu/anaconda3/lib/python3.6/site-packages/matplotlib/axes/_axes.py\u001b[0m in \u001b[0;36mplot\u001b[0;34m(self, *args, **kwargs)\u001b[0m\n\u001b[1;32m   1404\u001b[0m         \u001b[0mkwargs\u001b[0m \u001b[0;34m=\u001b[0m \u001b[0mcbook\u001b[0m\u001b[0;34m.\u001b[0m\u001b[0mnormalize_kwargs\u001b[0m\u001b[0;34m(\u001b[0m\u001b[0mkwargs\u001b[0m\u001b[0;34m,\u001b[0m \u001b[0m_alias_map\u001b[0m\u001b[0;34m)\u001b[0m\u001b[0;34m\u001b[0m\u001b[0m\n\u001b[1;32m   1405\u001b[0m \u001b[0;34m\u001b[0m\u001b[0m\n\u001b[0;32m-> 1406\u001b[0;31m         \u001b[0;32mfor\u001b[0m \u001b[0mline\u001b[0m \u001b[0;32min\u001b[0m \u001b[0mself\u001b[0m\u001b[0;34m.\u001b[0m\u001b[0m_get_lines\u001b[0m\u001b[0;34m(\u001b[0m\u001b[0;34m*\u001b[0m\u001b[0margs\u001b[0m\u001b[0;34m,\u001b[0m \u001b[0;34m**\u001b[0m\u001b[0mkwargs\u001b[0m\u001b[0;34m)\u001b[0m\u001b[0;34m:\u001b[0m\u001b[0;34m\u001b[0m\u001b[0m\n\u001b[0m\u001b[1;32m   1407\u001b[0m             \u001b[0mself\u001b[0m\u001b[0;34m.\u001b[0m\u001b[0madd_line\u001b[0m\u001b[0;34m(\u001b[0m\u001b[0mline\u001b[0m\u001b[0;34m)\u001b[0m\u001b[0;34m\u001b[0m\u001b[0m\n\u001b[1;32m   1408\u001b[0m             \u001b[0mlines\u001b[0m\u001b[0;34m.\u001b[0m\u001b[0mappend\u001b[0m\u001b[0;34m(\u001b[0m\u001b[0mline\u001b[0m\u001b[0;34m)\u001b[0m\u001b[0;34m\u001b[0m\u001b[0m\n",
      "\u001b[0;32m/home/runjing_liu/anaconda3/lib/python3.6/site-packages/matplotlib/axes/_base.py\u001b[0m in \u001b[0;36m_grab_next_args\u001b[0;34m(self, *args, **kwargs)\u001b[0m\n\u001b[1;32m    405\u001b[0m                 \u001b[0;32mreturn\u001b[0m\u001b[0;34m\u001b[0m\u001b[0m\n\u001b[1;32m    406\u001b[0m             \u001b[0;32mif\u001b[0m \u001b[0mlen\u001b[0m\u001b[0;34m(\u001b[0m\u001b[0mremaining\u001b[0m\u001b[0;34m)\u001b[0m \u001b[0;34m<=\u001b[0m \u001b[0;36m3\u001b[0m\u001b[0;34m:\u001b[0m\u001b[0;34m\u001b[0m\u001b[0m\n\u001b[0;32m--> 407\u001b[0;31m                 \u001b[0;32mfor\u001b[0m \u001b[0mseg\u001b[0m \u001b[0;32min\u001b[0m \u001b[0mself\u001b[0m\u001b[0;34m.\u001b[0m\u001b[0m_plot_args\u001b[0m\u001b[0;34m(\u001b[0m\u001b[0mremaining\u001b[0m\u001b[0;34m,\u001b[0m \u001b[0mkwargs\u001b[0m\u001b[0;34m)\u001b[0m\u001b[0;34m:\u001b[0m\u001b[0;34m\u001b[0m\u001b[0m\n\u001b[0m\u001b[1;32m    408\u001b[0m                     \u001b[0;32myield\u001b[0m \u001b[0mseg\u001b[0m\u001b[0;34m\u001b[0m\u001b[0m\n\u001b[1;32m    409\u001b[0m                 \u001b[0;32mreturn\u001b[0m\u001b[0;34m\u001b[0m\u001b[0m\n",
      "\u001b[0;32m/home/runjing_liu/anaconda3/lib/python3.6/site-packages/matplotlib/axes/_base.py\u001b[0m in \u001b[0;36m_plot_args\u001b[0;34m(self, tup, kwargs)\u001b[0m\n\u001b[1;32m    383\u001b[0m             \u001b[0mx\u001b[0m\u001b[0;34m,\u001b[0m \u001b[0my\u001b[0m \u001b[0;34m=\u001b[0m \u001b[0mindex_of\u001b[0m\u001b[0;34m(\u001b[0m\u001b[0mtup\u001b[0m\u001b[0;34m[\u001b[0m\u001b[0;34m-\u001b[0m\u001b[0;36m1\u001b[0m\u001b[0;34m]\u001b[0m\u001b[0;34m)\u001b[0m\u001b[0;34m\u001b[0m\u001b[0m\n\u001b[1;32m    384\u001b[0m \u001b[0;34m\u001b[0m\u001b[0m\n\u001b[0;32m--> 385\u001b[0;31m         \u001b[0mx\u001b[0m\u001b[0;34m,\u001b[0m \u001b[0my\u001b[0m \u001b[0;34m=\u001b[0m \u001b[0mself\u001b[0m\u001b[0;34m.\u001b[0m\u001b[0m_xy_from_xy\u001b[0m\u001b[0;34m(\u001b[0m\u001b[0mx\u001b[0m\u001b[0;34m,\u001b[0m \u001b[0my\u001b[0m\u001b[0;34m)\u001b[0m\u001b[0;34m\u001b[0m\u001b[0m\n\u001b[0m\u001b[1;32m    386\u001b[0m \u001b[0;34m\u001b[0m\u001b[0m\n\u001b[1;32m    387\u001b[0m         \u001b[0;32mif\u001b[0m \u001b[0mself\u001b[0m\u001b[0;34m.\u001b[0m\u001b[0mcommand\u001b[0m \u001b[0;34m==\u001b[0m \u001b[0;34m'plot'\u001b[0m\u001b[0;34m:\u001b[0m\u001b[0;34m\u001b[0m\u001b[0m\n",
      "\u001b[0;32m/home/runjing_liu/anaconda3/lib/python3.6/site-packages/matplotlib/axes/_base.py\u001b[0m in \u001b[0;36m_xy_from_xy\u001b[0;34m(self, x, y)\u001b[0m\n\u001b[1;32m    242\u001b[0m         \u001b[0;32mif\u001b[0m \u001b[0mx\u001b[0m\u001b[0;34m.\u001b[0m\u001b[0mshape\u001b[0m\u001b[0;34m[\u001b[0m\u001b[0;36m0\u001b[0m\u001b[0;34m]\u001b[0m \u001b[0;34m!=\u001b[0m \u001b[0my\u001b[0m\u001b[0;34m.\u001b[0m\u001b[0mshape\u001b[0m\u001b[0;34m[\u001b[0m\u001b[0;36m0\u001b[0m\u001b[0;34m]\u001b[0m\u001b[0;34m:\u001b[0m\u001b[0;34m\u001b[0m\u001b[0m\n\u001b[1;32m    243\u001b[0m             raise ValueError(\"x and y must have same first dimension, but \"\n\u001b[0;32m--> 244\u001b[0;31m                              \"have shapes {} and {}\".format(x.shape, y.shape))\n\u001b[0m\u001b[1;32m    245\u001b[0m         \u001b[0;32mif\u001b[0m \u001b[0mx\u001b[0m\u001b[0;34m.\u001b[0m\u001b[0mndim\u001b[0m \u001b[0;34m>\u001b[0m \u001b[0;36m2\u001b[0m \u001b[0;32mor\u001b[0m \u001b[0my\u001b[0m\u001b[0;34m.\u001b[0m\u001b[0mndim\u001b[0m \u001b[0;34m>\u001b[0m \u001b[0;36m2\u001b[0m\u001b[0;34m:\u001b[0m\u001b[0;34m\u001b[0m\u001b[0m\n\u001b[1;32m    246\u001b[0m             raise ValueError(\"x and y can be no greater than 2-D, but have \"\n",
      "\u001b[0;31mValueError\u001b[0m: x and y must have same first dimension, but have shapes (100,) and (10,)"
     ]
    },
    {
     "data": {
      "image/png": "[encoded data removed]",
      "text/plain": [
       "<matplotlib.figure.Figure at 0x7f99cb7564a8>"
      ]
     },
     "metadata": {},
     "output_type": "display_data"
    }
   ],
   "source": [
    "k = 2 # choose your stick\n",
    "\n",
    "# plot posterior v_sticks against alpha\n",
    "plt.plot(alpha + epsilon, perturbed_means[:, k], 'ko')\n",
    "\n",
    "# plot the LRVB approximation\n",
    "x_axis = np.linspace(alpha + epsilon[0], alpha + epsilon[-1], 100)\n",
    "plt.plot(x_axis, predicted_sensitivity[k] * (epsilon) + old_mean[k])\n",
    "plt.xlabel('alpha')\n",
    "plt.ylabel('posterior stick length')"
   ]
  },
  {
   "cell_type": "code",
   "execution_count": null,
   "metadata": {
    "collapsed": true
   },
   "outputs": [],
   "source": []
  },
  {
   "cell_type": "code",
   "execution_count": null,
   "metadata": {
    "collapsed": true
   },
   "outputs": [],
   "source": []
  },
  {
   "cell_type": "code",
   "execution_count": null,
   "metadata": {
    "collapsed": true
   },
   "outputs": [],
   "source": []
  }
 ],
 "metadata": {
  "kernelspec": {
   "display_name": "Python 3",
   "language": "python",
   "name": "python3"
  },
  "language_info": {
   "codemirror_mode": {
    "name": "ipython",
    "version": 3
   },
   "file_extension": ".py",
   "mimetype": "text/x-python",
   "name": "python",
   "nbconvert_exporter": "python",
   "pygments_lexer": "ipython3",
   "version": "3.6.0"
  }
 },
 "nbformat": 4,
 "nbformat_minor": 2
}
