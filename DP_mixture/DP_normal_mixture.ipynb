{
 "cells": [
  {
   "cell_type": "markdown",
   "metadata": {},
   "source": [
    "## Variational inference in Dirichlet Process Normal Mixture"
   ]
  },
  {
   "cell_type": "code",
   "execution_count": 1,
   "metadata": {
    "collapsed": false
   },
   "outputs": [],
   "source": [
    "import autograd\n",
    "import autograd.numpy as np\n",
    "import autograd.scipy as sp\n",
    "from autograd.scipy import special\n",
    "from autograd import grad, hessian, hessian_vector_product, hessian, jacobian\n",
    "\n",
    "import sys\n",
    "sys.path.append('../../LinearResponseVariationalBayes.py')\n",
    "\n",
    "from VariationalBayes.ParameterDictionary import ModelParamsDict\n",
    "from VariationalBayes.Parameters import ScalarParam, VectorParam, ArrayParam\n",
    "from VariationalBayes.MultinomialParams import SimplexParam\n",
    "from VariationalBayes.DirichletParams import DirichletParamArray\n",
    "from VariationalBayes.MatrixParameters import PosDefMatrixParam, PosDefMatrixParamVector\n",
    "from VariationalBayes.SparseObjectives import SparseObjective, Objective\n",
    "\n",
    "import DP_normal_mixture_lib as dp\n",
    "import DP_normal_mixture_opt_lib as dp_opt\n",
    "\n",
    "from copy import deepcopy\n",
    "\n",
    "from scipy import optimize\n",
    "\n",
    "import time\n",
    "\n",
    "import matplotlib.pyplot as plt\n",
    "%matplotlib inline  \n"
   ]
  },
  {
   "cell_type": "markdown",
   "metadata": {
    "collapsed": true
   },
   "source": [
    "# Generate Data"
   ]
  },
  {
   "cell_type": "code",
   "execution_count": 2,
   "metadata": {
    "collapsed": false,
    "scrolled": true
   },
   "outputs": [],
   "source": [
    "np.random.seed(3143)\n",
    "# np.random.seed(54325)\n",
    "\n",
    "# data parameters\n",
    "num_obs = 1000 # number of observations \n",
    "x_dim = 2 # dimension of observations\n",
    "k_true = 5 # true number of clusters\n",
    "\n",
    "info_x = 0.3 * np.eye(x_dim) \n",
    "\n",
    "x, true_mu, true_z, true_pi = dp.draw_data(info_x, x_dim, k_true, num_obs)\n",
    "\n",
    "\n",
    "# prior parameters\n",
    "alpha = 2.0 # DP parameter\n",
    "prior_mu = np.mean(x, axis = 0)\n",
    "prior_info = 0.1 * np.eye(x_dim)\n",
    "\n",
    "# variational truncation \n",
    "k_approx = 10 \n",
    "\n"
   ]
  },
  {
   "cell_type": "code",
   "execution_count": 3,
   "metadata": {
    "collapsed": false,
    "scrolled": true
   },
   "outputs": [
    {
     "name": "stdout",
     "output_type": "stream",
     "text": [
      "observed mixture proportions: \n",
      " [ 0.204  0.201  0.175  0.208  0.212]\n",
      "true mixture proportions: \n",
      " [ 0.2  0.2  0.2  0.2  0.2]\n"
     ]
    },
    {
     "data": {
      "image/png": "[encoded data removed]",
      "text/plain": [
       "<matplotlib.figure.Figure at 0x7fc71a8807f0>"
      ]
     },
     "metadata": {},
     "output_type": "display_data"
    }
   ],
   "source": [
    "# visualize the data\n",
    "plt.plot(x[:,0], x[:,1], 'k.')\n",
    "for k in range(k_true):\n",
    "    plt.plot(true_mu[k, 0], true_mu[k, 1], 'ro')\n",
    "    \n",
    "print('observed mixture proportions: \\n', np.mean(true_z, axis = 0))\n",
    "print('true mixture proportions: \\n', true_pi)"
   ]
  },
  {
   "cell_type": "markdown",
   "metadata": {},
   "source": [
    "## Set up VB model"
   ]
  },
  {
   "cell_type": "code",
   "execution_count": 4,
   "metadata": {
    "collapsed": false
   },
   "outputs": [],
   "source": [
    "global_params = ModelParamsDict('global')\n",
    "global_params.push_param(\n",
    "    PosDefMatrixParamVector(name='info', length=k_approx, matrix_size=x_dim)) # variational variances\n",
    "global_params.push_param(\n",
    "    ArrayParam(name='mu', shape=(k_approx, x_dim))) # variational means\n",
    "global_params.push_param(\n",
    "    DirichletParamArray(name='v_sticks', shape=(k_approx - 1, 2))) # note the shape k_approx - 1 ...\n",
    "                                                                   # the last stick is always 1 in our approximation\n",
    "local_params = ModelParamsDict('local')\n",
    "local_params.push_param(\n",
    "    SimplexParam(name='e_z', shape=(num_obs, k_approx)))\n",
    "\n",
    "vb_params = ModelParamsDict('vb_params model')\n",
    "vb_params.push_param(global_params)\n",
    "vb_params.push_param(local_params)\n"
   ]
  },
  {
   "cell_type": "code",
   "execution_count": 5,
   "metadata": {
    "collapsed": false
   },
   "outputs": [],
   "source": [
    "prior_params = ModelParamsDict('prior_params')\n",
    "prior_params.push_param(VectorParam(name='prior_mu', size=x_dim, val=prior_mu))\n",
    "prior_params.push_param(PosDefMatrixParam(name='prior_info', size=x_dim, val=prior_info))\n",
    "prior_params.push_param(ScalarParam(name='alpha', val=alpha))\n",
    "prior_params.push_param(PosDefMatrixParam(name='info_x', size=x_dim, val=info_x))"
   ]
  },
  {
   "cell_type": "code",
   "execution_count": 6,
   "metadata": {
    "collapsed": false
   },
   "outputs": [],
   "source": [
    "model = dp.DPNormalMixture(x, vb_params, prior_params)"
   ]
  },
  {
   "cell_type": "markdown",
   "metadata": {},
   "source": [
    "## Initialize"
   ]
  },
  {
   "cell_type": "code",
   "execution_count": 7,
   "metadata": {
    "collapsed": false
   },
   "outputs": [],
   "source": [
    "## initialize VB params\n",
    "\n",
    "true_init = False\n",
    "\n",
    "if true_init: \n",
    "    true_tau = np.zeros(np.shape(vb_params['global']['v_sticks'].alpha.get()))\n",
    "    true_tau[:,0] = true_v[:-1] * 100\n",
    "    true_tau[:,1] = (1 - true_v[:-1]) * 100\n",
    "    vb_params['global']['v_sticks'].alpha.set(true_tau)\n",
    "\n",
    "    # vb_params['global']['mu'].set(true_mu)\n",
    "    mu_size = vb_params['global']['mu'].free_size()\n",
    "    vb_params['global']['mu'].set_free(np.random.random(mu_size))\n",
    "    \n",
    "    true_z_fudged = dp.soft_thresh(true_z, 1 - 10**(-8), 10**(-8))\n",
    "    vb_params['local']['e_z'].set(true_z_fudged)\n",
    "    # z_size = vb_params['local']['e_z'].free_size()\n",
    "    # vb_params['local']['e_z'].set_free(np.random.random(z_size))\n",
    "else: \n",
    "    vb_params.set_free(np.random.random(vb_params.free_size()))\n",
    "    \n",
    "init_free_params = vb_params.get_free()\n",
    "global_init_free_params = vb_params['global'].get_free()"
   ]
  },
  {
   "cell_type": "markdown",
   "metadata": {},
   "source": [
    "## Run CAVI "
   ]
  },
  {
   "cell_type": "code",
   "execution_count": 8,
   "metadata": {
    "collapsed": false,
    "scrolled": true
   },
   "outputs": [
    {
     "name": "stdout",
     "output_type": "stream",
     "text": [
      "CAVI terminated successfully :)\n",
      "iterations ran:  629\n"
     ]
    },
    {
     "data": {
      "image/png": "[encoded data removed]",
      "text/plain": [
       "<matplotlib.figure.Figure at 0x7fc71cd888d0>"
      ]
     },
     "metadata": {},
     "output_type": "display_data"
    }
   ],
   "source": [
    "dp_opt.run_cavi(model, init_free_params, max_iter = 1000, tol = 1e-5, disp = False)\n",
    "cavi_results = deepcopy(model)"
   ]
  },
  {
   "cell_type": "markdown",
   "metadata": {},
   "source": [
    "### examine results of CAVI"
   ]
  },
  {
   "cell_type": "code",
   "execution_count": 9,
   "metadata": {
    "collapsed": false
   },
   "outputs": [
    {
     "data": {
      "image/png": "[encoded data removed]",
      "text/plain": [
       "<matplotlib.figure.Figure at 0x7fc71851beb8>"
      ]
     },
     "metadata": {},
     "output_type": "display_data"
    },
    {
     "data": {
      "image/png": "[encoded data removed]",
      "text/plain": [
       "<matplotlib.figure.Figure at 0x7fc718446f28>"
      ]
     },
     "metadata": {},
     "output_type": "display_data"
    }
   ],
   "source": [
    "# plot posterior predictive\n",
    "e_z = cavi_results.vb_params['local']['e_z'].get()\n",
    "mu = cavi_results.vb_params['global']['mu'].get()\n",
    "pred_x = np.dot(e_z, mu)\n",
    "for col in range(x_dim):\n",
    "    plt.clf()\n",
    "    plt.plot(pred_x[:, col], x[:, col], 'ko')\n",
    "    diag = np.linspace(np.min(pred_x[:,col]),np.max(pred_x[:,col]))\n",
    "    plt.plot(diag, diag)\n",
    "    plt.title('Posterior predictive, column' + str(col))\n",
    "    plt.xlabel('predicted X')\n",
    "    plt.ylabel('true X')\n",
    "    plt.show()\n"
   ]
  },
  {
   "cell_type": "code",
   "execution_count": 10,
   "metadata": {
    "collapsed": false,
    "scrolled": true
   },
   "outputs": [
    {
     "name": "stdout",
     "output_type": "stream",
     "text": [
      "true_proportions [ 0.2  0.2  0.2  0.2  0.2]\n",
      "estimated proportions:  [ 0.00103921  0.19411039  0.02098208  0.03772041  0.00103388  0.20613063\n",
      "  0.0010304   0.21145813  0.20225867  0.12423618] \n",
      "\n",
      "true number of clusters:  5\n",
      "number of \"posterior clusters\" (ie. no. clusters w/ siginifcant weights):  5\n",
      "recall variational truncation:  10\n"
     ]
    }
   ],
   "source": [
    "# lets look at the estimated mixture proportions\n",
    "\n",
    "tau = cavi_results.vb_params['global']['v_sticks'].alpha.get() \n",
    "post_stick_length = tau[:,0] / np.sum(tau, axis = 1) # mean posterior stick lengths\n",
    "\n",
    "# compute mixture proportions using mean posterior stick lengths\n",
    "post_pi = np.ones(k_approx)\n",
    "stick_remain = np.ones(k_approx - 1)\n",
    "for i in range(k_approx - 1):\n",
    "    post_pi[i] = stick_remain[i - 1] * post_stick_length[i]\n",
    "    stick_remain[i] = stick_remain[i - 1] * (1 - post_stick_length[i])\n",
    "post_pi[-1] = stick_remain[-1]\n",
    "assert(np.abs(np.sum(post_pi) - 1.) < 10**(-10))\n",
    "\n",
    "print('true_proportions', true_pi)\n",
    "print('estimated proportions: ', post_pi, '\\n')\n",
    "\n",
    "heavy_clusters = post_pi > 1 / k_approx # clusters with significant weights \n",
    "\n",
    "print('true number of clusters: ', k_true)\n",
    "print('number of \"posterior clusters\" (ie. no. clusters w/ siginifcant weights): ', np.sum(post_pi > 1 / k_approx))\n",
    "print('recall variational truncation: ', k_approx)"
   ]
  },
  {
   "cell_type": "code",
   "execution_count": 11,
   "metadata": {
    "collapsed": false
   },
   "outputs": [
    {
     "name": "stdout",
     "output_type": "stream",
     "text": [
      "true means: \n",
      "[[ 0  0]\n",
      " [ 5  5]\n",
      " [10 10]\n",
      " [15 15]\n",
      " [20 20]] \n",
      "\n",
      "relevant posterior means (ie. posterior means for clusters with significant weights): \n",
      "[[  4.92424825e+00   5.10055368e+00]\n",
      " [  1.49641772e+01   1.49151451e+01]\n",
      " [  1.99869378e+01   1.99373862e+01]\n",
      " [  6.56068591e-02  -1.16303037e-02]\n",
      " [  9.85546129e+00   9.58329301e+00]]\n"
     ]
    }
   ],
   "source": [
    "# lets look at posterior means\n",
    "print('true means: ')\n",
    "print(true_mu, '\\n')\n",
    "\n",
    "print('relevant posterior means (ie. posterior means for clusters with significant weights): ')\n",
    "print(cavi_results.vb_params['global']['mu'].get()[heavy_clusters, :])"
   ]
  },
  {
   "cell_type": "markdown",
   "metadata": {},
   "source": [
    "## Newton Optimization"
   ]
  },
  {
   "cell_type": "code",
   "execution_count": 12,
   "metadata": {
    "collapsed": false
   },
   "outputs": [],
   "source": [
    "kl_obj = Objective(model.vb_params['global'], model.kl_optimize_z)"
   ]
  },
  {
   "cell_type": "code",
   "execution_count": 13,
   "metadata": {
    "collapsed": false,
    "scrolled": false
   },
   "outputs": [
    {
     "name": "stdout",
     "output_type": "stream",
     "text": [
      "Warning: A bad approximation caused failure to predict improvement.\n",
      "         Current function value: -44478.928176\n",
      "         Iterations: 21\n",
      "         Function evaluations: 23\n",
      "         Gradient evaluations: 21\n",
      "         Hessian evaluations: 0\n",
      "done\n"
     ]
    }
   ],
   "source": [
    "def minimize_kl(kl_obj, init_x, maxiter = 50, gtol = 1e-6, disp = True):\n",
    "    vb_opt = optimize.minimize(\n",
    "        kl_obj.fun_free,\n",
    "        x0=init_x,\n",
    "        jac=kl_obj.fun_free_grad,\n",
    "        hessp=kl_obj.fun_free_hvp,\n",
    "        method='trust-ncg', options={'maxiter': maxiter, 'gtol': gtol, 'disp': disp})\n",
    "\n",
    "    print('done')\n",
    "    return vb_opt\n",
    "\n",
    "newton_tr_init = cavi_results.vb_params['global'].get_free() # initialize with result from CAVI\n",
    "newton_tr_opt = minimize_kl(kl_obj, newton_tr_init) # run Newton"
   ]
  },
  {
   "cell_type": "code",
   "execution_count": 14,
   "metadata": {
    "collapsed": false
   },
   "outputs": [
    {
     "name": "stdout",
     "output_type": "stream",
     "text": [
      "L_inf norm of gradient:  3.72668493931e-07\n",
      "time to compute Hessian (sec):  8.362835168838501\n",
      "Hessian evals all positive:  True\n",
      "distance (l2) to minimizer of quadratic approx. :  2.40043695399e-06\n"
     ]
    }
   ],
   "source": [
    "# checking the optima\n",
    "\n",
    "# check that the gradient is close to 0\n",
    "kl_grad = kl_obj.fun_free_grad(newton_tr_opt.x)\n",
    "# print(kl_grad)\n",
    "print('L_inf norm of gradient: ', np.max(np.abs(kl_grad)))\n",
    "\n",
    "t0 = time.time()\n",
    "kl_hessian = kl_obj.fun_free_hessian(newton_tr_opt.x)\n",
    "hessian_time = time.time() - t0\n",
    "\n",
    "hessian_evals = np.linalg.eigvals(kl_hessian)\n",
    "\n",
    "print('time to compute Hessian (sec): ', hessian_time)\n",
    "# print('eigenvalues: \\n', hessian_evals)\n",
    "print('Hessian evals all positive: ', np.all(hessian_evals > 0))\n",
    "print('distance (l2) to minimizer of quadratic approx. : ', np.linalg.norm(-np.linalg.solve(kl_hessian, kl_grad)))"
   ]
  },
  {
   "cell_type": "code",
   "execution_count": 15,
   "metadata": {
    "collapsed": false
   },
   "outputs": [],
   "source": [
    "model.vb_params['global'].set_free(newton_tr_opt.x)\n",
    "model.set_optimal_z()\n",
    "\n",
    "newton_results = deepcopy(model)"
   ]
  },
  {
   "cell_type": "code",
   "execution_count": 16,
   "metadata": {
    "collapsed": false,
    "scrolled": false
   },
   "outputs": [
    {
     "data": {
      "image/png": "[encoded data removed]",
      "text/plain": [
       "<matplotlib.figure.Figure at 0x7fc71847bba8>"
      ]
     },
     "metadata": {},
     "output_type": "display_data"
    },
    {
     "data": {
      "image/png": "[encoded data removed]",
      "text/plain": [
       "<matplotlib.figure.Figure at 0x7fc718486780>"
      ]
     },
     "metadata": {},
     "output_type": "display_data"
    }
   ],
   "source": [
    "# plot posterior predictive\n",
    "e_z = newton_results.vb_params['local']['e_z'].get()\n",
    "mu = newton_results.vb_params['global']['mu'].get()\n",
    "pred_x = np.dot(e_z, mu)\n",
    "for col in range(x_dim):\n",
    "    plt.clf()\n",
    "    plt.plot(pred_x[:, col], x[:, col], 'ko')\n",
    "    diag = np.linspace(np.min(pred_x[:,col]),np.max(pred_x[:,col]))\n",
    "    plt.plot(diag, diag)\n",
    "    plt.title('Posterior predictive, column' + str(col))\n",
    "    plt.xlabel('predicted X')\n",
    "    plt.ylabel('true X')\n",
    "    plt.show()\n"
   ]
  },
  {
   "cell_type": "code",
   "execution_count": 17,
   "metadata": {
    "collapsed": false
   },
   "outputs": [
    {
     "name": "stdout",
     "output_type": "stream",
     "text": [
      "[[  1.01031033e+01   1.01278452e+01]\n",
      " [  4.92424825e+00   5.10055368e+00]\n",
      " [  7.30974527e+00   8.99240720e+00]\n",
      " [  1.09446142e+01   1.16327411e+01]\n",
      " [  1.01031044e+01   1.01278389e+01]\n",
      " [  1.49641772e+01   1.49151451e+01]\n",
      " [  1.01031051e+01   1.01278348e+01]\n",
      " [  1.99869378e+01   1.99373862e+01]\n",
      " [  6.56068591e-02  -1.16303037e-02]\n",
      " [  9.85546129e+00   9.58329301e+00]]\n",
      "[[  1.01006997e+01   1.01242144e+01]\n",
      " [  4.92810405e+00   5.19396415e+00]\n",
      " [  1.01006995e+01   1.01242162e+01]\n",
      " [  1.01007028e+01   1.01242186e+01]\n",
      " [  1.01007035e+01   1.01242186e+01]\n",
      " [  1.49105672e+01   1.48665186e+01]\n",
      " [  1.01007058e+01   1.01242211e+01]\n",
      " [  2.00795664e+01   2.00230786e+01]\n",
      " [  8.88459705e-03  -9.58483238e-02]\n",
      " [  9.81522771e+00   9.89311598e+00]]\n",
      "l1 difference between means:  7.16208626944\n"
     ]
    }
   ],
   "source": [
    "# compare CAVI with Newton_tr\n",
    "print(cavi_results.vb_params['global']['mu'].get())\n",
    "print(newton_results.vb_params['global']['mu'].get())\n",
    "\n",
    "print('l1 difference between means: ', \\\n",
    "      np.sum(np.abs(cavi_results.vb_params['global']['mu'].get() - newton_results.vb_params['global']['mu'].get())))"
   ]
  },
  {
   "cell_type": "code",
   "execution_count": 18,
   "metadata": {
    "collapsed": false
   },
   "outputs": [
    {
     "name": "stdout",
     "output_type": "stream",
     "text": [
      "l1 difference (normalized) between all params:  2.45770660828\n"
     ]
    }
   ],
   "source": [
    "print('l1 difference (normalized) between all params: ', \\\n",
    "      np.mean(np.abs(cavi_results.vb_params.get_free() - newton_results.vb_params.get_free())))"
   ]
  },
  {
   "cell_type": "markdown",
   "metadata": {},
   "source": [
    "## Parametric sensitivity analysis\n",
    "In particular, we are interested in the sensitivity of the posterior stick lengths to our choice of DP parameter $\\alpha$"
   ]
  },
  {
   "cell_type": "code",
   "execution_count": 19,
   "metadata": {
    "collapsed": false
   },
   "outputs": [],
   "source": [
    "class DPNormalMixtureLRVB(object): \n",
    "    def __init__(self, model): \n",
    "        self.model = deepcopy(model)\n",
    "        self.alpha = model.alpha\n",
    "        \n",
    "        self.get_moment_jac = autograd.jacobian(self.get_interesting_moments)        \n",
    "        self.get_kl_hessian = autograd.hessian(self.kl, argnum = 0)\n",
    "        \n",
    "        self.get_kl_jac = autograd.jacobian(self.kl, argnum = 0)\n",
    "        self.get_alpha_jac = autograd.jacobian(self.get_kl_jac, argnum = 1)\n",
    "        \n",
    "    def get_interesting_moments(self, global_free_params):\n",
    "        self.model.vb_params['global'].set_free(global_free_params)  \n",
    "        \n",
    "        # returning average of the v_sticks\n",
    "        return self.model.vb_params['global']['v_sticks'].e()[:,0]\n",
    "    \n",
    "    def kl(self, global_free_params, alpha):\n",
    "        self.model.vb_params['global'].set_free(global_free_params)\n",
    "        self.model.alpha = alpha\n",
    "        \n",
    "        return self.model.kl_optimize_z()\n",
    "    \n",
    "    def get_alpha_sensitivity(self, optimal_global_free_params): \n",
    "        moment_jac = self.get_moment_jac(optimal_global_free_params)\n",
    "        kl_hessian = self.get_kl_hessian(optimal_global_free_params, self.alpha)\n",
    "        \n",
    "        sensitivity_operator = np.linalg.solve(kl_hessian, moment_jac.T)\n",
    "                                               \n",
    "        alpha_jac = self.get_alpha_jac(optimal_global_free_params, self.alpha)\n",
    "\n",
    "        return np.dot(sensitivity_operator.T, -1 * alpha_jac)\n",
    "\n"
   ]
  },
  {
   "cell_type": "code",
   "execution_count": 20,
   "metadata": {
    "collapsed": false
   },
   "outputs": [],
   "source": [
    "lrvb_obj = DPNormalMixtureLRVB(model)"
   ]
  },
  {
   "cell_type": "code",
   "execution_count": 21,
   "metadata": {
    "collapsed": false
   },
   "outputs": [
    {
     "name": "stdout",
     "output_type": "stream",
     "text": [
      "sensitivity of mean stick lengths to alpha: \n",
      "predicted_sensitivity: \n",
      " [ -7.35405810e-07  -2.76615861e-04  -1.31532840e-06  -1.31492733e-06\n",
      "  -1.31452640e-06  -4.14611752e-04  -2.69326467e-06  -6.95906422e-04\n",
      "  -1.65291999e-03]\n"
     ]
    }
   ],
   "source": [
    "print('sensitivity of mean stick lengths to alpha: ')\n",
    "predicted_sensitivity = lrvb_obj.get_alpha_sensitivity(newton_tr_opt.x)\n",
    "\n",
    "print('predicted_sensitivity: \\n', predicted_sensitivity)"
   ]
  },
  {
   "cell_type": "markdown",
   "metadata": {},
   "source": [
    "### Lets check this sensitivity by perturbing alpha"
   ]
  },
  {
   "cell_type": "code",
   "execution_count": 56,
   "metadata": {
    "collapsed": false,
    "scrolled": false
   },
   "outputs": [
    {
     "name": "stdout",
     "output_type": "stream",
     "text": [
      "Warning: A bad approximation caused failure to predict improvement.\n",
      "         Current function value: -44321.873004\n",
      "         Iterations: 9\n",
      "         Function evaluations: 11\n",
      "         Gradient evaluations: 10\n",
      "         Hessian evaluations: 0\n",
      "done\n"
     ]
    }
   ],
   "source": [
    "epsilon = 100 # how much we will perturb alpha\n",
    "\n",
    "model_perturbed = deepcopy(model)\n",
    "model_perturbed.alpha = alpha + epsilon # perturb dp parameter\n",
    "\n",
    "# define new objective\n",
    "kl_obj_perturbed = Objective(model_perturbed.vb_params['global'], model_perturbed.kl_optimize_z)\n",
    "\n",
    "# find new optima\n",
    "newton_tr_opt_perturbed = minimize_kl(kl_obj_perturbed, newton_tr_opt.x, gtol = 10**(-6))\n"
   ]
  },
  {
   "cell_type": "code",
   "execution_count": 57,
   "metadata": {
    "collapsed": false,
    "scrolled": true
   },
   "outputs": [
    {
     "name": "stdout",
     "output_type": "stream",
     "text": [
      "L_inf norm of gradient:  5.92200107239e-07\n",
      "time to compute Hessian (sec):  8.386051177978516\n",
      "Hessian evals all positive:  True\n",
      "distance (l2) to minimizer of quadratic approx. :  1.14596475378e-06\n"
     ]
    }
   ],
   "source": [
    "# checking the optima\n",
    "\n",
    "# check that the gradient is close to 0\n",
    "kl_grad = kl_obj_perturbed.fun_free_grad(newton_tr_opt_perturbed.x)\n",
    "# print(kl_grad)\n",
    "print('L_inf norm of gradient: ', np.max(np.abs(kl_grad)))\n",
    "\n",
    "t0 = time.time()\n",
    "kl_hessian = kl_obj_perturbed.fun_free_hessian(newton_tr_opt_perturbed.x)\n",
    "hessian_time = time.time() - t0\n",
    "\n",
    "hessian_evals = np.linalg.eigvals(kl_hessian)\n",
    "\n",
    "print('time to compute Hessian (sec): ', hessian_time)\n",
    "# print('eigenvalues: \\n', hessian_evals)\n",
    "print('Hessian evals all positive: ', np.all(hessian_evals > 0))\n",
    "print('distance (l2) to minimizer of quadratic approx. : ', np.linalg.norm(-np.linalg.solve(kl_hessian, kl_grad)))"
   ]
  },
  {
   "cell_type": "code",
   "execution_count": 58,
   "metadata": {
    "collapsed": false
   },
   "outputs": [
    {
     "name": "stdout",
     "output_type": "stream",
     "text": [
      "predicted_sensitivity: \n",
      " [ -7.35405810e-07  -2.76615861e-04  -1.31532840e-06  -1.31492733e-06\n",
      "  -1.31452640e-06  -4.14611752e-04  -2.69326467e-06  -6.95906422e-04\n",
      "  -1.65291999e-03]\n",
      "true sensitivity: \n",
      " [ -7.10024554e-07  -2.32625038e-04  -1.18628960e-06  -1.18601896e-06\n",
      "  -1.18574701e-06  -3.49248464e-04  -2.26807583e-06  -5.69865809e-04\n",
      "  -1.24149848e-03]\n"
     ]
    }
   ],
   "source": [
    "# check new means\n",
    "model_perturbed.vb_params['global'].set_free(newton_tr_opt_perturbed.x) \n",
    "\n",
    "perturbed_mean = model_perturbed.vb_params['global']['v_sticks'].e()[:,0]\n",
    "old_mean = model.vb_params['global']['v_sticks'].e()[:,0]\n",
    "\n",
    "print('predicted_sensitivity: \\n', predicted_sensitivity)\n",
    "print('true sensitivity: \\n', (perturbed_mean - old_mean) / epsilon)"
   ]
  },
  {
   "cell_type": "markdown",
   "metadata": {},
   "source": [
    "### Let us check the linearity of the perturbation in alpha"
   ]
  },
  {
   "cell_type": "code",
   "execution_count": 60,
   "metadata": {
    "collapsed": false
   },
   "outputs": [
    {
     "data": {
      "text/plain": [
       "array([-1.5, -1. , -0.5,  0. ,  0.5,  1. ,  1.5,  2. ,  2.5,  3. ,  3.5,\n",
       "        4. ,  4.5,  5. ,  5.5,  6. ,  6.5,  7. ])"
      ]
     },
     "execution_count": 60,
     "metadata": {},
     "output_type": "execute_result"
    }
   ],
   "source": [
    "np.arange(-1.5, 7.5, 0.5)"
   ]
  },
  {
   "cell_type": "code",
   "execution_count": 65,
   "metadata": {
    "collapsed": false,
    "scrolled": false
   },
   "outputs": [
    {
     "name": "stdout",
     "output_type": "stream",
     "text": [
      "0.5\n",
      "done\n",
      "true sensitivity: \n",
      " [ -7.35496548e-07  -2.77497380e-04  -1.31736154e-06  -1.31691714e-06\n",
      "  -1.31657680e-06  -4.15901839e-04  -2.70114683e-06  -6.98373480e-04\n",
      "  -1.66153876e-03]\n",
      "1.0\n",
      "done\n",
      "true sensitivity: \n",
      " [ -7.35469068e-07  -2.77202434e-04  -1.31666763e-06  -1.31620635e-06\n",
      "  -1.31590161e-06  -4.15470500e-04  -2.69853512e-06  -6.97548768e-04\n",
      "  -1.65865387e-03]\n",
      "1.5\n",
      "done\n",
      "true sensitivity: \n",
      " [ -7.35675554e-07  -2.76909364e-04  -1.31637765e-06  -1.31585972e-06\n",
      "  -1.31564620e-06  -4.15041879e-04  -2.69667062e-06  -6.96727737e-04\n",
      "  -1.65578068e-03]\n",
      "2.0\n",
      "done\n",
      "true sensitivity: \n",
      " [ nan  nan  nan  nan  nan  nan  nan  nan  nan]\n",
      "2.5\n"
     ]
    },
    {
     "name": "stderr",
     "output_type": "stream",
     "text": [
      "/home/runjing_liu/anaconda3/lib/python3.6/site-packages/ipykernel/__main__.py:23: RuntimeWarning: invalid value encountered in true_divide\n"
     ]
    },
    {
     "name": "stdout",
     "output_type": "stream",
     "text": [
      "done\n",
      "true sensitivity: \n",
      " [ -7.35611531e-07  -2.76323855e-04  -1.31517392e-06  -1.31488710e-06\n",
      "  -1.31427566e-06  -4.14183930e-04  -2.69143039e-06  -6.95088658e-04\n",
      "  -1.65007098e-03]\n",
      "3.0\n",
      "done\n",
      "true sensitivity: \n",
      " [ -7.35334065e-07  -2.76033683e-04  -1.31399564e-06  -1.31365293e-06\n",
      "  -1.31315432e-06  -4.13759049e-04  -2.68804208e-06  -6.94274859e-04\n",
      "  -1.64723296e-03]\n",
      "3.5\n",
      "done\n",
      "true sensitivity: \n",
      " [ -7.35299372e-07  -2.75744218e-04  -1.31329838e-06  -1.31293613e-06\n",
      "  -1.31246965e-06  -4.13335250e-04  -2.68542808e-06  -6.93463603e-04\n",
      "  -1.64440666e-03]\n",
      "4.0\n",
      "done\n",
      "true sensitivity: \n",
      " [ -7.35262517e-07  -2.75455830e-04  -1.31260806e-06  -1.31223889e-06\n",
      "  -1.31179349e-06  -4.12912864e-04  -2.68284276e-06  -6.92654886e-04\n",
      "  -1.64159184e-03]\n",
      "4.5\n",
      "done\n",
      "true sensitivity: \n",
      " [ -7.35223710e-07  -2.75168501e-04  -1.31192137e-06  -1.31154746e-06\n",
      "  -1.31111289e-06  -4.12491912e-04  -2.68025593e-06  -6.91848738e-04\n",
      "  -1.63878840e-03]\n",
      "5.0\n",
      "done\n",
      "true sensitivity: \n",
      " [ -7.35183188e-07  -2.74882223e-04  -1.31123602e-06  -1.31085925e-06\n",
      "  -1.31043221e-06  -4.12072397e-04  -2.67767510e-06  -6.91045169e-04\n",
      "  -1.63599626e-03]\n",
      "5.5\n",
      "done\n",
      "true sensitivity: \n",
      " [ -7.35141038e-07  -2.74596989e-04  -1.31055155e-06  -1.31017302e-06\n",
      "  -1.30975157e-06  -4.11654312e-04  -2.67510039e-06  -6.90244168e-04\n",
      "  -1.63321531e-03]\n",
      "6.0\n",
      "done\n",
      "true sensitivity: \n",
      " [ -7.35097284e-07  -2.74312792e-04  -1.30986769e-06  -1.30948806e-06\n",
      "  -1.30907105e-06  -4.11237652e-04  -2.67253183e-06  -6.89445726e-04\n",
      "  -1.63044553e-03]\n",
      "6.5\n",
      "done\n",
      "true sensitivity: \n",
      " [ -7.35051974e-07  -2.74029620e-04  -1.30918436e-06  -1.30880407e-06\n",
      "  -1.30839066e-06  -4.10822403e-04  -2.66996944e-06  -6.88649823e-04\n",
      "  -1.62768678e-03]\n",
      "7.0\n",
      "done\n",
      "true sensitivity: \n",
      " [ -7.35005103e-07  -2.73747467e-04  -1.30850143e-06  -1.30812077e-06\n",
      "  -1.30771047e-06  -4.10408557e-04  -2.66741316e-06  -6.87856445e-04\n",
      "  -1.62493900e-03]\n",
      "7.5\n",
      "done\n",
      "true sensitivity: \n",
      " [ -7.34957997e-07  -2.73466326e-04  -1.30782249e-06  -1.30744151e-06\n",
      "  -1.30703237e-06  -4.09996108e-04  -2.66487167e-06  -6.87065577e-04\n",
      "  -1.62220211e-03]\n",
      "8.0\n",
      "done\n",
      "true sensitivity: \n",
      " [ -7.34908318e-07  -2.73186183e-04  -1.30714044e-06  -1.30675952e-06\n",
      "  -1.30635275e-06  -4.09585035e-04  -2.66232791e-06  -6.86277200e-04\n",
      "  -1.61947602e-03]\n",
      "8.5\n",
      "done\n",
      "true sensitivity: \n",
      " [ -7.34856373e-07  -2.72907035e-04  -1.30645514e-06  -1.30607502e-06\n",
      "  -1.30567140e-06  -4.09175333e-04  -2.65978127e-06  -6.85491298e-04\n",
      "  -1.61676067e-03]\n",
      "9.0\n",
      "done\n",
      "true sensitivity: \n",
      " [ -7.34803644e-07  -2.72628873e-04  -1.30577346e-06  -1.30539388e-06\n",
      "  -1.30499143e-06  -4.08766995e-04  -2.65725063e-06  -6.84707856e-04\n",
      "  -1.61405597e-03]\n",
      "9.5\n",
      "done\n",
      "true sensitivity: \n",
      " [ -7.34749473e-07  -2.72351691e-04  -1.30509228e-06  -1.30471303e-06\n",
      "  -1.30431243e-06  -4.08360011e-04  -2.65472509e-06  -6.83926861e-04\n",
      "  -1.61136192e-03]\n"
     ]
    }
   ],
   "source": [
    "alphas_new = np.arange(0.5, 10, 0.5) # the range with which we will evaluate alpha\n",
    "\n",
    "\n",
    "opt_perturbed = deepcopy(newton_tr_opt)\n",
    "\n",
    "perturbed_means = np.zeros((len(alphas_new), k_approx - 1))\n",
    "\n",
    "for i in range(len(alphas_new)): \n",
    "    print(alphas_new[i])\n",
    "    model_perturbed = deepcopy(model)\n",
    "    model_perturbed.alpha  = alphas_new[i] # perturb dp parameter\n",
    "\n",
    "    # define new objective\n",
    "    kl_obj_perturbed = Objective(model_perturbed.vb_params['global'], model_perturbed.kl_optimize_z)\n",
    "\n",
    "    # find new optima\n",
    "    opt_perturbed = minimize_kl(kl_obj_perturbed, newton_tr_opt.x, gtol = 10**(-6), disp = False)\n",
    "    \n",
    "    # check new means\n",
    "    model_perturbed.vb_params['global'].set_free(opt_perturbed.x) \n",
    "\n",
    "    perturbed_means[i, :] = model_perturbed.vb_params['global']['v_sticks'].e()[:,0]\n",
    "    print('true sensitivity: \\n', (perturbed_means[i, :] - old_mean) / (alphas_new[i] - alpha))\n",
    "    "
   ]
  },
  {
   "cell_type": "code",
   "execution_count": null,
   "metadata": {
    "collapsed": true
   },
   "outputs": [],
   "source": [
    "predicted_sensitivity: \n",
    " [ -7.35405810e-07  -2.76615861e-04  -1.31532840e-06  -1.31492733e-06\n",
    "  -1.31452640e-06  -4.14611752e-04  -2.69326467e-06  -6.95906422e-04\n",
    "  -1.65291999e-03]"
   ]
  },
  {
   "cell_type": "code",
   "execution_count": 82,
   "metadata": {
    "collapsed": false
   },
   "outputs": [
    {
     "data": {
      "text/plain": [
       "<matplotlib.text.Text at 0x7fc717bff7b8>"
      ]
     },
     "execution_count": 82,
     "metadata": {},
     "output_type": "execute_result"
    },
    {
     "data": {
      "image/png": "[encoded data removed]",
      "text/plain": [
       "<matplotlib.figure.Figure at 0x7fc717bfac88>"
      ]
     },
     "metadata": {},
     "output_type": "display_data"
    }
   ],
   "source": [
    "k = 2 # choose your stick\n",
    "\n",
    "# plot posterior v_sticks against alpha\n",
    "plt.plot(alphas_new, perturbed_means[:, k], 'ko')\n",
    "\n",
    "# plot the LRVB approximation\n",
    "x_axis = np.linspace(np.min(alphas_new), np.max(alphas_new), 100)\n",
    "plt.plot(x_axis, predicted_sensitivity[k] * (x_axis - alpha) + old_mean[k])\n",
    "plt.xlabel('alpha')\n",
    "plt.ylabel('posterior stick length')"
   ]
  },
  {
   "cell_type": "code",
   "execution_count": null,
   "metadata": {
    "collapsed": true
   },
   "outputs": [],
   "source": []
  }
 ],
 "metadata": {
  "kernelspec": {
   "display_name": "Python 3",
   "language": "python",
   "name": "python3"
  },
  "language_info": {
   "codemirror_mode": {
    "name": "ipython",
    "version": 3
   },
   "file_extension": ".py",
   "mimetype": "text/x-python",
   "name": "python",
   "nbconvert_exporter": "python",
   "pygments_lexer": "ipython3",
   "version": "3.6.0"
  }
 },
 "nbformat": 4,
 "nbformat_minor": 2
}
