{
 "cells": [
  {
   "cell_type": "markdown",
   "metadata": {},
   "source": [
    "## Variational inference in Dirichlet Process Normal Mixture"
   ]
  },
  {
   "cell_type": "code",
   "execution_count": 1,
   "metadata": {
    "collapsed": false
   },
   "outputs": [],
   "source": [
    "import autograd.numpy as np\n",
    "import autograd.scipy as sp\n",
    "from autograd.scipy import special\n",
    "from autograd import grad, hessian, hessian_vector_product, hessian, jacobian\n",
    "\n",
    "import sys\n",
    "sys.path.append('../../LinearResponseVariationalBayes.py')\n",
    "\n",
    "from VariationalBayes.ParameterDictionary import ModelParamsDict\n",
    "from VariationalBayes.Parameters import ScalarParam, VectorParam, ArrayParam\n",
    "from VariationalBayes.MultinomialParams import SimplexParam\n",
    "from VariationalBayes.DirichletParams import DirichletParamArray\n",
    "from VariationalBayes.MatrixParameters import PosDefMatrixParam, PosDefMatrixParamVector\n",
    "from VariationalBayes.SparseObjectives import SparseObjective, Objective\n",
    "\n",
    "import DP_normal_mixture_lib as dp\n",
    "\n",
    "from copy import deepcopy\n",
    "\n",
    "from scipy import optimize\n",
    "\n",
    "import time\n",
    "\n",
    "import matplotlib.pyplot as plt\n",
    "%matplotlib inline  \n"
   ]
  },
  {
   "cell_type": "markdown",
   "metadata": {
    "collapsed": true
   },
   "source": [
    "# Generate Data"
   ]
  },
  {
   "cell_type": "code",
   "execution_count": 2,
   "metadata": {
    "collapsed": false,
    "scrolled": true
   },
   "outputs": [],
   "source": [
    "np.random.seed(414341)\n",
    "\n",
    "# DP parameters\n",
    "x_dim = 2\n",
    "k_approx = 5\n",
    "num_obs = 1000\n",
    "\n",
    "# prior parameters\n",
    "alpha = 1.2 # DP parameter\n",
    "prior_mu = np.zeros(x_dim)\n",
    "prior_info = 1.0 * np.eye(x_dim)\n",
    "\n",
    "info_x = 1.0 * np.eye(x_dim)\n",
    "\n",
    "x, true_mu, true_z, true_z_ind, true_v, true_pi = \\\n",
    "            dp.draw_data(alpha, prior_mu, prior_info, info_x, x_dim, k_approx, num_obs)"
   ]
  },
  {
   "cell_type": "code",
   "execution_count": 3,
   "metadata": {
    "collapsed": false,
    "scrolled": true
   },
   "outputs": [
    {
     "name": "stdout",
     "output_type": "stream",
     "text": [
      "observed mixture proportions: \n",
      " [ 0.071  0.144  0.348  0.046  0.391]\n",
      "true mixture proportions: \n",
      " [ 0.06972666  0.14855883  0.3397329   0.05271501  0.38926659]\n"
     ]
    },
    {
     "data": {
      "image/png": "[encoded data removed]",
      "text/plain": [
       "<matplotlib.figure.Figure at 0x7f6cf96f5cf8>"
      ]
     },
     "metadata": {},
     "output_type": "display_data"
    }
   ],
   "source": [
    "# visualize the data\n",
    "plt.plot(x[:,0], x[:,1], 'k.')\n",
    "for k in range(k_approx):\n",
    "    plt.plot(true_mu[k, 0], true_mu[k, 1], 'ro')\n",
    "    \n",
    "print('observed mixture proportions: \\n', np.mean(true_z, axis = 0))\n",
    "print('true mixture proportions: \\n', true_pi)"
   ]
  },
  {
   "cell_type": "markdown",
   "metadata": {},
   "source": [
    "## Set up VB model"
   ]
  },
  {
   "cell_type": "code",
   "execution_count": 4,
   "metadata": {
    "collapsed": false
   },
   "outputs": [],
   "source": [
    "global_params = ModelParamsDict('global')\n",
    "global_params.push_param(\n",
    "    PosDefMatrixParamVector(name='info', length=k_approx, matrix_size=x_dim)) # variational variances\n",
    "global_params.push_param(\n",
    "    ArrayParam(name='mu', shape=(k_approx, x_dim))) # variational means\n",
    "global_params.push_param(\n",
    "    DirichletParamArray(name='v_sticks', shape=(k_approx - 1, 2))) # note the shape k_approx - 1 ...\n",
    "                                                                   # the last stick is always 1 in our approximation\n",
    "local_params = ModelParamsDict('local')\n",
    "local_params.push_param(\n",
    "    SimplexParam(name='e_z', shape=(num_obs, k_approx)))\n",
    "\n",
    "vb_params = ModelParamsDict('vb_params model')\n",
    "vb_params.push_param(global_params)\n",
    "vb_params.push_param(local_params)\n"
   ]
  },
  {
   "cell_type": "code",
   "execution_count": 5,
   "metadata": {
    "collapsed": false
   },
   "outputs": [],
   "source": [
    "prior_params = ModelParamsDict('prior_params')\n",
    "prior_params.push_param(VectorParam(name='prior_mu', size=x_dim, val=prior_mu))\n",
    "prior_params.push_param(PosDefMatrixParam(name='prior_info', size=x_dim, val=prior_info))\n",
    "prior_params.push_param(ScalarParam(name='alpha', val=alpha))\n",
    "prior_params.push_param(PosDefMatrixParam(name='info_x', size=x_dim, val=info_x))"
   ]
  },
  {
   "cell_type": "markdown",
   "metadata": {},
   "source": [
    "## Initialize"
   ]
  },
  {
   "cell_type": "code",
   "execution_count": 6,
   "metadata": {
    "collapsed": false
   },
   "outputs": [],
   "source": [
    "## initialize VB params\n",
    "\n",
    "true_init = True\n",
    "if true_init: \n",
    "    true_tau = np.zeros(np.shape(vb_params['global']['v_sticks'].alpha.get()))\n",
    "    true_tau[:,0] = true_v[:-1] * 100\n",
    "    true_tau[:,1] = (1 - true_v[:-1]) * 100\n",
    "    vb_params['global']['v_sticks'].alpha.set(true_tau)\n",
    "\n",
    "    vb_params['global']['mu'].set(true_mu)\n",
    "    \n",
    "    true_z_fudged = dp.soft_thresh(true_z, 1 - 10**(-8), 20**(-8))\n",
    "    \n",
    "    vb_params['local']['e_z'].set(true_z_fudged)\n",
    "    \n",
    "else: \n",
    "    vb_params.set_free(np.random.random(vb_params.free_size()))\n",
    "    \n",
    "init_par_vec = vb_params.get_free()\n",
    "global_init_par_vec = vb_params['global'].get_free()"
   ]
  },
  {
   "cell_type": "markdown",
   "metadata": {},
   "source": [
    "## Newton Optimization"
   ]
  },
  {
   "cell_type": "code",
   "execution_count": 7,
   "metadata": {
    "collapsed": false
   },
   "outputs": [],
   "source": [
    "model = dp.DPNormalMixture(x, vb_params, prior_params)\n",
    "kl_obj = Objective(model.vb_params['global'], model.kl)"
   ]
  },
  {
   "cell_type": "code",
   "execution_count": 8,
   "metadata": {
    "collapsed": false,
    "scrolled": false
   },
   "outputs": [
    {
     "name": "stdout",
     "output_type": "stream",
     "text": [
      "Warning: A bad approximation caused failure to predict improvement.\n",
      "         Current function value: -48639.978743\n",
      "         Iterations: 20\n",
      "         Function evaluations: 22\n",
      "         Gradient evaluations: 20\n",
      "         Hessian evaluations: 20\n",
      "done\n",
      "-48639.978743\n"
     ]
    }
   ],
   "source": [
    "def minimize_kl(kl_obj, init_x):\n",
    "    vb_opt = optimize.minimize(\n",
    "        kl_obj.fun_free,\n",
    "        x0=init_x,\n",
    "        jac=kl_obj.fun_free_grad,\n",
    "        hess=kl_obj.fun_free_hessian,\n",
    "        method='trust-ncg', options={'maxiter': 50, 'gtol': 1e-8, 'disp': True})\n",
    "\n",
    "    print('done')\n",
    "    return vb_opt\n",
    "\n",
    "vb_opt = minimize_kl(kl_obj, global_init_par_vec)\n",
    "print(kl_obj.fun_free(vb_opt.x))"
   ]
  },
  {
   "cell_type": "code",
   "execution_count": 9,
   "metadata": {
    "collapsed": false
   },
   "outputs": [],
   "source": [
    "model.vb_params['global'].set_free(vb_opt.x)"
   ]
  },
  {
   "cell_type": "code",
   "execution_count": 10,
   "metadata": {
    "collapsed": false,
    "scrolled": false
   },
   "outputs": [
    {
     "name": "stdout",
     "output_type": "stream",
     "text": [
      "true_z (unpermuted): \n",
      " [[ 1.  0.  0.  0.  0.]\n",
      " [ 0.  1.  0.  0.  0.]\n",
      " [ 0.  1.  0.  0.  0.]\n",
      " [ 0.  0.  0.  0.  1.]\n",
      " [ 0.  0.  0.  0.  1.]\n",
      " [ 1.  0.  0.  0.  0.]\n",
      " [ 0.  1.  0.  0.  0.]\n",
      " [ 0.  0.  0.  0.  1.]\n",
      " [ 0.  0.  0.  0.  1.]\n",
      " [ 0.  0.  1.  0.  0.]]\n",
      "** procedure did not give a true permutation\n",
      "permutation:  [0 1 2 3 4]\n",
      "true Z (permuted) \n",
      " [[ 1.  0.  0.  0.  0.]\n",
      " [ 0.  1.  0.  0.  0.]\n",
      " [ 0.  1.  0.  0.  0.]\n",
      " [ 0.  0.  0.  0.  1.]\n",
      " [ 0.  0.  0.  0.  1.]\n",
      " [ 1.  0.  0.  0.  0.]\n",
      " [ 0.  1.  0.  0.  0.]\n",
      " [ 0.  0.  0.  0.  1.]\n",
      " [ 0.  0.  0.  0.  1.]\n",
      " [ 0.  0.  1.  0.  0.]]\n",
      "e_z (rounded) \n",
      " [[ 0.  1.  0.  0.  0.]\n",
      " [ 0.  1.  0.  0.  0.]\n",
      " [ 0.  1.  0.  0.  0.]\n",
      " [ 1.  0.  0.  0.  0.]\n",
      " [ 1.  0.  0.  0.  0.]\n",
      " [ 0.  1.  0.  0.  0.]\n",
      " [ 0.  1.  0.  0.  0.]\n",
      " [ 1.  0.  0.  0.  0.]\n",
      " [ 1.  0.  0.  0.  0.]\n",
      " [ 0.  0.  0.  0.  1.]]\n",
      "l1 error (after permutation):  [0.46199924639649154, 0.071874464710283803, 0.39395915684694199, 0.046632317639257542, 0.7392271205471842]\n",
      "\n",
      "\n",
      "true A (permuted): \n",
      " [[-10. -10.]\n",
      " [ -5.  -5.]\n",
      " [  0.   0.]\n",
      " [  5.   5.]\n",
      " [ 10.  10.]]\n",
      "poster mean A: \n",
      " [[  1.00117295e+01   1.00285859e+01]\n",
      " [ -6.63294961e+00  -6.63811465e+00]\n",
      " [  4.70949111e+00   4.76392160e+00]\n",
      " [  1.29001362e-04   3.86731337e-04]\n",
      " [  7.11344091e-02  -4.00820134e-02]]\n"
     ]
    },
    {
     "data": {
      "image/png": "[encoded data removed]",
      "text/plain": [
       "<matplotlib.figure.Figure at 0x7f70bd650128>"
      ]
     },
     "metadata": {},
     "output_type": "display_data"
    },
    {
     "data": {
      "image/png": "[encoded data removed]",
      "text/plain": [
       "<matplotlib.figure.Figure at 0x7f70bd7055f8>"
      ]
     },
     "metadata": {},
     "output_type": "display_data"
    }
   ],
   "source": [
    "mu = model.vb_params['global']['mu'].get()\n",
    "model.set_optimal_z()\n",
    "e_z = model.vb_params['local']['e_z'].get()\n",
    "dp.display_results(x, true_z, true_mu, e_z, mu, manual_perm = None)"
   ]
  },
  {
   "cell_type": "code",
   "execution_count": null,
   "metadata": {
    "collapsed": true
   },
   "outputs": [],
   "source": []
  },
  {
   "cell_type": "code",
   "execution_count": 13,
   "metadata": {
    "collapsed": false
   },
   "outputs": [
    {
     "data": {
      "text/plain": [
       "array([[  3.92459043e+03,   3.93119813e+03],\n",
       "       [ -1.42691684e+03,  -1.42802797e+03],\n",
       "       [  2.21420211e+02,   2.23979301e+02],\n",
       "       [  2.10572804e-04,   6.31267876e-04],\n",
       "       [  2.48420648e+01,  -1.39977262e+01]])"
      ]
     },
     "execution_count": 13,
     "metadata": {},
     "output_type": "execute_result"
    }
   ],
   "source": [
    "np.dot(prior_mu, prior_info) + np.dot(e_z.T, np.dot(x, info_x))"
   ]
  },
  {
   "cell_type": "code",
   "execution_count": 22,
   "metadata": {
    "collapsed": false
   },
   "outputs": [
    {
     "data": {
      "text/plain": [
       "array([[  3.92559043e+03,   3.93219813e+03],\n",
       "       [ -1.42591684e+03,  -1.42702797e+03],\n",
       "       [  2.22420211e+02,   2.24979301e+02],\n",
       "       [  1.00021057e+00,   1.00063127e+00],\n",
       "       [  2.58420648e+01,  -1.29977262e+01]])"
      ]
     },
     "execution_count": 22,
     "metadata": {},
     "output_type": "execute_result"
    }
   ],
   "source": [
    " np.dot(e_z.T, np.dot(x, info_x))"
   ]
  },
  {
   "cell_type": "code",
   "execution_count": 25,
   "metadata": {
    "collapsed": false
   },
   "outputs": [
    {
     "data": {
      "text/plain": [
       "array([[  3.92459043e+03,   3.93119813e+03],\n",
       "       [ -1.42691684e+03,  -1.42802797e+03],\n",
       "       [  2.21420211e+02,   2.23979301e+02],\n",
       "       [  2.10572804e-04,   6.31267876e-04],\n",
       "       [  2.48420648e+01,  -1.39977262e+01]])"
      ]
     },
     "execution_count": 25,
     "metadata": {},
     "output_type": "execute_result"
    }
   ],
   "source": [
    "np.dot(e_z.T, np.dot(x, info_x))"
   ]
  },
  {
   "cell_type": "code",
   "execution_count": 27,
   "metadata": {
    "collapsed": false
   },
   "outputs": [
    {
     "data": {
      "text/plain": [
       "214.1255354365253"
      ]
     },
     "execution_count": 27,
     "metadata": {},
     "output_type": "execute_result"
    }
   ],
   "source": [
    "np.sum(e_z, axis = 0)[1]"
   ]
  },
  {
   "cell_type": "code",
   "execution_count": 28,
   "metadata": {
    "collapsed": true
   },
   "outputs": [],
   "source": [
    "info_update = np.array([prior_info + np.sum(e_z[:, i]) * info_x \\\n",
    "                            for i in range(k_approx)])"
   ]
  },
  {
   "cell_type": "code",
   "execution_count": 29,
   "metadata": {
    "collapsed": false
   },
   "outputs": [
    {
     "data": {
      "text/plain": [
       "array([[[ 391.99924641,    0.        ],\n",
       "        [   0.        ,  391.99924641]],\n",
       "\n",
       "       [[ 215.12553544,    0.        ],\n",
       "        [   0.        ,  215.12553544]],\n",
       "\n",
       "       [[  47.01574032,    0.        ],\n",
       "        [   0.        ,   47.01574032]],\n",
       "\n",
       "       [[   1.63235751,    0.        ],\n",
       "        [   0.        ,    1.63235751]],\n",
       "\n",
       "       [[ 349.22712063,    0.        ],\n",
       "        [   0.        ,  349.22712063]]])"
      ]
     },
     "execution_count": 29,
     "metadata": {},
     "output_type": "execute_result"
    }
   ],
   "source": [
    "info_update"
   ]
  },
  {
   "cell_type": "code",
   "execution_count": 30,
   "metadata": {
    "collapsed": true
   },
   "outputs": [],
   "source": [
    "sum_e_z = np.sum(e_z, axis = 0)"
   ]
  },
  {
   "cell_type": "code",
   "execution_count": 31,
   "metadata": {
    "collapsed": false
   },
   "outputs": [
    {
     "data": {
      "text/plain": [
       "array([ 390.99924641,  214.12553544,   46.01574032,    0.63235751,\n",
       "        348.22712063])"
      ]
     },
     "execution_count": 31,
     "metadata": {},
     "output_type": "execute_result"
    }
   ],
   "source": [
    "sum_e_z"
   ]
  },
  {
   "cell_type": "code",
   "execution_count": 35,
   "metadata": {
    "collapsed": false
   },
   "outputs": [],
   "source": [
    "cm = np.cumsum(sum_e_z)"
   ]
  },
  {
   "cell_type": "code",
   "execution_count": 41,
   "metadata": {
    "collapsed": false
   },
   "outputs": [
    {
     "data": {
      "text/plain": [
       "array([   0.        ,  390.99924641,  605.12478185,  651.14052216,\n",
       "        651.77287967])"
      ]
     },
     "execution_count": 41,
     "metadata": {},
     "output_type": "execute_result"
    }
   ],
   "source": [
    "np.concatenate(([0.0], cm[:-1]))"
   ]
  },
  {
   "cell_type": "code",
   "execution_count": null,
   "metadata": {
    "collapsed": true
   },
   "outputs": [],
   "source": []
  }
 ],
 "metadata": {
  "kernelspec": {
   "display_name": "Python 3",
   "language": "python",
   "name": "python3"
  },
  "language_info": {
   "codemirror_mode": {
    "name": "ipython",
    "version": 3
   },
   "file_extension": ".py",
   "mimetype": "text/x-python",
   "name": "python",
   "nbconvert_exporter": "python",
   "pygments_lexer": "ipython3",
   "version": "3.6.0"
  }
 },
 "nbformat": 4,
 "nbformat_minor": 2
}
