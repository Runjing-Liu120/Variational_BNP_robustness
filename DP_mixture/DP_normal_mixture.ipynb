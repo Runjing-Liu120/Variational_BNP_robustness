{
 "cells": [
  {
   "cell_type": "code",
   "execution_count": 1,
   "metadata": {
    "collapsed": false
   },
   "outputs": [],
   "source": [
    "import autograd.numpy as np\n",
    "import autograd.scipy as sp\n",
    "from autograd.scipy import special\n",
    "from autograd import grad, hessian, hessian_vector_product, hessian, jacobian\n",
    "import matplotlib.pyplot as plt\n",
    "%matplotlib inline  \n",
    "\n",
    "from copy import deepcopy\n",
    "\n",
    "from scipy import optimize\n",
    "\n",
    "import time"
   ]
  },
  {
   "cell_type": "markdown",
   "metadata": {
    "collapsed": true
   },
   "source": [
    "# Generate Data"
   ]
  },
  {
   "cell_type": "code",
   "execution_count": 2,
   "metadata": {
    "collapsed": false,
    "scrolled": true
   },
   "outputs": [],
   "source": [
    "# DP parameters\n",
    "x_dim = 2\n",
    "k_approx = 5\n",
    "num_obs = 10\n",
    "\n",
    "# prior parameters\n",
    "alpha = 1 # DP parameter\n",
    "mu_prior = np.zeros(x_dim)\n",
    "info_mu_prior = 1 * np.eye(x_dim)\n",
    "\n",
    "info_x = 1 * np.eye(x_dim)\n",
    "\n",
    "# true means\n",
    "mu_spacing = np.linspace(-10, 10, k_approx)\n",
    "true_mu = np.array([ mu_spacing, mu_spacing]).T\n",
    "\n",
    "# draw beta sticks\n",
    "v = np.zeros(k_approx)\n",
    "pi = np.zeros(k_approx)\n",
    "stick_remain = np.zeros(k_approx)\n",
    "\n",
    "v[0] = np.random.beta(1, alpha)\n",
    "pi[0] = v[0]\n",
    "stick_remain[0] = 1 - v[0]\n",
    "\n",
    "for i in range(1, k_approx): \n",
    "    if i == k_approx - 1: # the last stick\n",
    "        v[i] = 1.0\n",
    "    else: \n",
    "        v[i] = np.random.beta(1, alpha)\n",
    "    \n",
    "    pi[i] = stick_remain[i - 1] * v[i]\n",
    "    stick_remain[i] = stick_remain[i - 1] * (1 - v[i])\n",
    "    \n",
    "\n",
    "# draw group indicators\n",
    "true_z = np.random.multinomial(1, pi, num_obs)\n",
    "true_z_ind = np.full(num_obs, -1)\n",
    "for row in np.argwhere(true_z):\n",
    "    true_z_ind[row[0]] = row[1]\n",
    "    \n",
    "# draw observations\n",
    "x = np.array([ np.random.multivariate_normal(\n",
    "                true_mu[true_z_ind[n]], np.linalg.inv(info_x)) \\\n",
    "               for n in range(num_obs) ])"
   ]
  },
  {
   "cell_type": "code",
   "execution_count": 3,
   "metadata": {
    "collapsed": false
   },
   "outputs": [
    {
     "name": "stdout",
     "output_type": "stream",
     "text": [
      "n_obs per component: \n",
      " [1 5 2 1 1]\n",
      "true mixture proportions: \n",
      " [ 0.22987723  0.4844073   0.22957419  0.00971165  0.04642962]\n"
     ]
    },
    {
     "data": {
      "image/png": "[encoded data removed]",
      "text/plain": [
       "<matplotlib.figure.Figure at 0x7fae17cab400>"
      ]
     },
     "metadata": {},
     "output_type": "display_data"
    }
   ],
   "source": [
    "# visualize the data\n",
    "plt.plot(x[:,0], x[:,1], 'k.')\n",
    "for k in range(k_approx):\n",
    "    plt.plot(true_mu[k, 0], true_mu[k, 1], 'ro')\n",
    "    \n",
    "print('n_obs per component: \\n', np.sum(true_z, axis = 0))\n",
    "print('true mixture proportions: \\n', pi)"
   ]
  },
  {
   "cell_type": "markdown",
   "metadata": {},
   "source": [
    "## Set up VB model"
   ]
  },
  {
   "cell_type": "code",
   "execution_count": 4,
   "metadata": {
    "collapsed": true
   },
   "outputs": [],
   "source": [
    "import sys\n",
    "sys.path.append('../../LinearResponseVariationalBayes.py')\n",
    "\n",
    "from VariationalBayes.ParameterDictionary import ModelParamsDict\n",
    "from VariationalBayes.Parameters import ScalarParam, VectorParam, ArrayParam\n",
    "from VariationalBayes.DirichletParams import DirichletParamArray\n",
    "from VariationalBayes.MatrixParameters import PosDefMatrixParam, PosDefMatrixParamVector"
   ]
  },
  {
   "cell_type": "code",
   "execution_count": 5,
   "metadata": {
    "collapsed": false
   },
   "outputs": [],
   "source": [
    "vb_params = ModelParamsDict('vb_params')\n",
    "vb_params.push_param(\n",
    "    PosDefMatrixParamVector(name='info', length=k_approx, matrix_size=x_dim)) # variational variances\n",
    "vb_params.push_param(\n",
    "    ArrayParam(name='mu', shape=(k_approx, x_dim))) # variational means\n",
    "vb_params.push_param(\n",
    "    DirichletParamArray(name='v_sticks', shape=(k_approx, 2))) \n",
    "vb_params.push_param(\n",
    "    ArrayParam(name='e_z', shape=(num_obs, k_approx), lb = 0.0, ub = 1.0))\n"
   ]
  },
  {
   "cell_type": "code",
   "execution_count": 6,
   "metadata": {
    "collapsed": false
   },
   "outputs": [
    {
     "data": {
      "text/plain": [
       "array([[[ 1.,  0.],\n",
       "        [ 0.,  1.]],\n",
       "\n",
       "       [[ 1.,  0.],\n",
       "        [ 0.,  1.]],\n",
       "\n",
       "       [[ 1.,  0.],\n",
       "        [ 0.,  1.]],\n",
       "\n",
       "       [[ 1.,  0.],\n",
       "        [ 0.,  1.]],\n",
       "\n",
       "       [[ 1.,  0.],\n",
       "        [ 0.,  1.]]])"
      ]
     },
     "execution_count": 6,
     "metadata": {},
     "output_type": "execute_result"
    }
   ],
   "source": [
    "vb_params['info'].get()"
   ]
  },
  {
   "cell_type": "code",
   "execution_count": 7,
   "metadata": {
    "collapsed": false
   },
   "outputs": [],
   "source": [
    "prior_params = ModelParamsDict('prior_params')\n",
    "prior_params.push_param(VectorParam(name='mu_prior_mean', size=x_dim, val=mu_prior))\n",
    "prior_params.push_param(PosDefMatrixParam(name='mu_prior_info', size=x_dim, val=info_mu_prior))\n",
    "prior_params.push_param(ScalarParam(name='alpha', val=alpha))\n",
    "prior_params.push_param(PosDefMatrixParam(name='info_x', size=x_dim, val=info_x))"
   ]
  },
  {
   "cell_type": "markdown",
   "metadata": {},
   "source": [
    "## Define elbo"
   ]
  },
  {
   "cell_type": "code",
   "execution_count": 16,
   "metadata": {
    "collapsed": false
   },
   "outputs": [],
   "source": [
    "def normal_prior(mu, info, prior_info): \n",
    "    return np.sum(np.expand_dims(np.einsum('ki, kij, kj -> k', mu, info, mu), axis=0) + \\\n",
    "                      np.einsum('kii, ii -> k', info, prior_info)) # double check this at some point ...\n",
    "\n",
    "def elbo(vb_params, prior_params): \n",
    "    e_log_1mv = vb_params['v_sticks'].e_log()[:,1] # E[log 1 - v]\n",
    "    mu = vb_params['mu'].get()\n",
    "    info = vb_params['info'].get()\n",
    "    prior_info = prior_params['mu_prior_info'].get()\n",
    "\n",
    "    dp_prior = np.sum(e_log1mv)\n",
    "    normal_prior = normal_prior(mu, info, prior_info) ####\n",
    "    \n",
    "    # log likelihood of stick breaking process\n",
    "    "
   ]
  },
  {
   "cell_type": "code",
   "execution_count": 17,
   "metadata": {
    "collapsed": false
   },
   "outputs": [
    {
     "name": "stdout",
     "output_type": "stream",
     "text": [
      "[[ 0.  0.  0.  0.  0.]]\n",
      "[ 2.  2.  2.  2.  2.]\n"
     ]
    }
   ],
   "source": [
    "mu = vb_params['mu'].get()\n",
    "info = vb_params['info'].get()\n",
    "prior_info = prior_params['mu_prior_info'].get()\n",
    "normal_prior(mu, info, prior_info)"
   ]
  },
  {
   "cell_type": "code",
   "execution_count": 18,
   "metadata": {
    "collapsed": false
   },
   "outputs": [
    {
     "name": "stdout",
     "output_type": "stream",
     "text": [
      "[[ 0.  0.]\n",
      " [ 0.  0.]\n",
      " [ 0.  0.]\n",
      " [ 0.  0.]\n",
      " [ 0.  0.]]\n",
      "[[[ 1.  0.]\n",
      "  [ 0.  1.]]\n",
      "\n",
      " [[ 1.  0.]\n",
      "  [ 0.  1.]]\n",
      "\n",
      " [[ 1.  0.]\n",
      "  [ 0.  1.]]\n",
      "\n",
      " [[ 1.  0.]\n",
      "  [ 0.  1.]]\n",
      "\n",
      " [[ 1.  0.]\n",
      "  [ 0.  1.]]]\n",
      "[[ 1.  0.]\n",
      " [ 0.  1.]]\n"
     ]
    }
   ],
   "source": [
    "print(mu)\n",
    "print(info)\n",
    "print(prior_info)"
   ]
  },
  {
   "cell_type": "code",
   "execution_count": null,
   "metadata": {
    "collapsed": true
   },
   "outputs": [],
   "source": []
  }
 ],
 "metadata": {
  "kernelspec": {
   "display_name": "Python 3",
   "language": "python",
   "name": "python3"
  },
  "language_info": {
   "codemirror_mode": {
    "name": "ipython",
    "version": 3
   },
   "file_extension": ".py",
   "mimetype": "text/x-python",
   "name": "python",
   "nbconvert_exporter": "python",
   "pygments_lexer": "ipython3",
   "version": "3.6.0"
  }
 },
 "nbformat": 4,
 "nbformat_minor": 2
}
