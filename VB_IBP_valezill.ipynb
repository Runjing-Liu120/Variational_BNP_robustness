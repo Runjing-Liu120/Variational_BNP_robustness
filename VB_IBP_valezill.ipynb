{
 "cells": [
  {
   "cell_type": "code",
   "execution_count": 1,
   "metadata": {
    "collapsed": false
   },
   "outputs": [],
   "source": [
    "# -*- coding: utf-8 -*-\n",
    "\"\"\"\n",
    "Created on Sun Apr  2 15:56:55 2017\n",
    "\n",
    "@author: Runjing Liu\n",
    "\"\"\"\n",
    "import numpy as np\n",
    "import scipy as sp\n",
    "import matplotlib.pyplot as plt\n",
    "from copy import deepcopy\n",
    "\n",
    "from beta_process_vb_lib import *\n",
    "from stick_distribution_lib import *\n",
    "\n",
    "%matplotlib inline\n",
    "\n",
    "# np.random.seed(50)\n",
    "\n"
   ]
  },
  {
   "cell_type": "code",
   "execution_count": 2,
   "metadata": {
    "collapsed": false
   },
   "outputs": [
    {
     "name": "stdout",
     "output_type": "stream",
     "text": [
      "(array([ 2.,  3.,  4.]), array([ 3.,  4.,  5.]))\n",
      "[ 0.40179462  0.42871934  0.44689549]\n",
      "[ 0.4         0.42857143  0.44444444]\n",
      "[-1.07805378 -0.94877516 -0.87821176]\n",
      "[-1.08333333 -0.95       -0.88452381]\n"
     ]
    }
   ],
   "source": [
    "tau_1 = np.array([2., 3., 4.])\n",
    "tau_2 = np.array([3., 4., 5.])\n",
    "k_max = len(tau_1)\n",
    "\n",
    "sticks = SticksVariationaDistribution(k_max)\n",
    "sticks.set(tau_1, tau_2)\n",
    "print sticks.get()\n",
    "\n",
    "draws = sticks.draw(10000)\n",
    "\n",
    "stick_means = np.mean(draws, 1)\n",
    "print stick_means\n",
    "print sticks.e()\n",
    "\n",
    "stick_log_means = np.mean(np.log(draws), 1)\n",
    "print stick_log_means\n",
    "print sticks.e_log()\n",
    "\n",
    "\n",
    "\n"
   ]
  },
  {
   "cell_type": "code",
   "execution_count": 5,
   "metadata": {
    "collapsed": false
   },
   "outputs": [
    {
     "name": "stdout",
     "output_type": "stream",
     "text": [
      "1.0\n",
      "-0.586018352872\n",
      "-0.583333333333\n"
     ]
    }
   ],
   "source": [
    "k = 1\n",
    "\n",
    "y_prob, y_log_prob = sticks.get_mn_bound_q(k)\n",
    "print np.sum(y_prob)\n",
    "lb = sticks.e_log_1_m_nu_prod(k)\n",
    "\n",
    "draws_prod = np.prod(draws[:k, :], 0)\n",
    "true_e = np.mean(np.log(1 - draws_prod))\n",
    "print true_e\n",
    "print lb\n",
    "\n"
   ]
  },
  {
   "cell_type": "code",
   "execution_count": 4,
   "metadata": {
    "collapsed": false
   },
   "outputs": [
    {
     "name": "stdout",
     "output_type": "stream",
     "text": [
      "[[ 1.  1.  0.  0.  1.]\n",
      " [ 0.  1.  1.  1.  0.]\n",
      " [ 1.  1.  0.  1.  0.]\n",
      " [ 0.  0.  1.  1.  1.]\n",
      " [ 0.  0.  0.  0.  1.]\n",
      " [ 1.  1.  0.  1.  0.]\n",
      " [ 0.  1.  1.  1.  0.]\n",
      " [ 1.  0.  0.  0.  1.]\n",
      " [ 0.  1.  1.  0.  0.]\n",
      " [ 1.  1.  0.  1.  0.]]\n"
     ]
    }
   ],
   "source": [
    "N = 500 # sample size\n",
    "D = 2 # dimension\n",
    "# so X will be a n\\times D matrix\n",
    "\n",
    "K_inf = 5 # truncation parameter for sampling\n",
    "\n",
    "alpha = 5 # IBP parameter\n",
    "v = np.zeros(K_inf) # Beta sticks\n",
    "Pi = np.zeros(K_inf)\n",
    "Z = np.zeros([N,K_inf])\n",
    "\n",
    "# Parameters to draw A from MVN\n",
    "mu = np.zeros(D)\n",
    "sigma_A = 1\n",
    "\n",
    "sigma_eps = 0.5 # variance of noise\n",
    "\n",
    "# Draw Z from truncated stick breaking process\n",
    "for k in range(K_inf):\n",
    "    v[k] = np.random.beta(alpha,1)\n",
    "    if k != 0:\n",
    "        Pi[k] = Pi[k-1] * v[k]\n",
    "    else:\n",
    "        Pi[k] = v[k]\n",
    "\n",
    "    for n in range(N):\n",
    "        Z[n,k] = np.random.binomial(1,Pi[k])\n",
    "\n",
    "print(Z[0:10,:])\n",
    "\n",
    "# Draw A from multivariate normal\n",
    "A = np.random.multivariate_normal(mu, sigma_A*np.identity(D), K_inf)\n",
    "\n",
    "# draw noise\n",
    "epsilon = np.random.multivariate_normal(np.zeros(D), sigma_eps*np.identity(D), N)\n",
    "\n",
    "# the observed data\n",
    "X = np.dot(Z,A) + epsilon\n",
    "\n",
    "K = 5 # variational truncation\n",
    "\n"
   ]
  },
  {
   "cell_type": "code",
   "execution_count": null,
   "metadata": {
    "collapsed": false
   },
   "outputs": [],
   "source": [
    "# Variational parameters\n",
    "tau = np.random.uniform(0,1,[K,2]) # tau1, tau2 -- beta parameters for v\n",
    "nu = np.random.uniform(0,1,[N,K]) # Bernoulli parameter for z_nk\n",
    "#nu = deepcopy(Z)\n",
    "phi_mu = np.random.normal(0,1,[D,K]) # kth mean (D dim vector) in kth column\n",
    "#phi_mu = deepcopy(A).T\n",
    "phi_var = {k: np.identity(D) for k in range(K)}\n",
    "\n",
    "\n",
    "    # Term7 and term 5 give NaNs. Term7 bc nu is close to 1; term 5 bc tau's are large!?\n",
    "iterations = 100\n",
    "elbo = np.zeros(iterations)\n",
    "Term1 = np.zeros(iterations)\n",
    "Term2 = np.zeros(iterations)\n",
    "Term3 = np.zeros(iterations)\n",
    "Term4 = np.zeros(iterations)\n",
    "Term5 = np.zeros(iterations)\n",
    "Term6 = np.zeros(iterations)\n",
    "Term7 = np.zeros(iterations)"
   ]
  },
  {
   "cell_type": "code",
   "execution_count": null,
   "metadata": {
    "collapsed": false
   },
   "outputs": [],
   "source": [
    "#print(A)\n",
    "#input('pause')\n",
    "\n",
    "for i in np.arange(iterations):\n",
    "\n",
    "\n",
    "    for k in np.arange(K):\n",
    "        tau = Tau_updates(tau, nu, alpha, D, N, K, n, k)\n",
    "\n",
    "    for k in np.arange(K):\n",
    "        Expectation_k = Exp_true(tau, k)\n",
    "        for n in np.arange(N):\n",
    "            nu = Nu_updates(Expectation_k, tau, nu, phi_mu, phi_var, sigma_eps, X, D, N, K, n, k)\n",
    "\n",
    "    for k in np.arange(K):\n",
    "        [phi_var, phi_mu] = Phi_updates(nu, phi_mu, phi_var, X, sigma_A, sigma_eps, D, N, K, n, k)\n",
    "\n",
    "    #print('true')\n",
    "    #print(A)\n",
    "\n",
    "    #print('estimate')\n",
    "    #print(phi_mu.T)\n",
    "    #input('pause')\n",
    "\n",
    "    [elbo[i], Term1[i], Term2[i], Term3[i], Term4[i], Term5[i], Term6[i], Term7[i]] = \\\n",
    "        Elbo(tau, nu, phi_mu, phi_var, X, sigma_A, sigma_eps, alpha, D, K, N)\n",
    "    print('iteration: ', i)\n",
    "    print('ELbo')\n",
    "    print(elbo[i])\n",
    "\n",
    "    #print('Z')\n",
    "    #print(Z[0:10,:])\n",
    "\n",
    "    #print('nu')\n",
    "    round_nu = np.round(nu * (nu >= 0.9) + nu * (nu <= 0.1)) + nu * (nu >= 0.1) * (nu <= 0.9)\n",
    "\n",
    "    print(round_nu[0:10, :])\n",
    "\n",
    "    # input(\"paused\")\n",
    "\n",
    "    if np.abs(elbo[i] - elbo[i - 1]) <= 10^(-5):\n",
    "        break\n",
    "\n"
   ]
  },
  {
   "cell_type": "code",
   "execution_count": null,
   "metadata": {
    "collapsed": false
   },
   "outputs": [],
   "source": [
    "\n",
    "plt.figure(1)\n",
    "plt.clf()\n",
    "plt.plot(np.arange(iterations), elbo, linewidth=2.0)\n",
    "plt.plot(np.arange(iterations), Term1)\n",
    "plt.plot(np.arange(iterations), Term2)\n",
    "plt.plot(np.arange(iterations), Term3)\n",
    "plt.plot(np.arange(iterations), Term4)\n",
    "plt.plot(np.arange(iterations), Term5)\n",
    "plt.plot(np.arange(iterations), Term6)\n",
    "plt.plot(np.arange(iterations), Term7)\n",
    "plt.xlabel('iteration')\n",
    "plt.ylabel('elbo')\n",
    "plt.legend(['elbo', 'Term1', 'Term2', 'Term3', 'Term4', 'Term5', 'Term6', 'Term7'])\n"
   ]
  }
 ],
 "metadata": {
  "kernelspec": {
   "display_name": "Python [Root]",
   "language": "python",
   "name": "Python [Root]"
  },
  "language_info": {
   "codemirror_mode": {
    "name": "ipython",
    "version": 2
   },
   "file_extension": ".py",
   "mimetype": "text/x-python",
   "name": "python",
   "nbconvert_exporter": "python",
   "pygments_lexer": "ipython2",
   "version": "2.7.12"
  }
 },
 "nbformat": 4,
 "nbformat_minor": 0
}
