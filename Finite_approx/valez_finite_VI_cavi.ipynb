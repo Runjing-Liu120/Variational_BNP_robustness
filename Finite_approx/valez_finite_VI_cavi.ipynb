{
 "cells": [
  {
   "cell_type": "markdown",
   "metadata": {},
   "source": [
    "# Variational inference using the finite approximation\n",
    "\n",
    "trying standard cavi"
   ]
  },
  {
   "cell_type": "code",
   "execution_count": 10,
   "metadata": {
    "collapsed": false
   },
   "outputs": [],
   "source": [
    "import numpy as np\n",
    "import scipy as sp\n",
    "\n",
    "import matplotlib.pyplot as plt\n",
    "from copy import deepcopy\n",
    "\n",
    "from valez_finite_VI_lib import *\n"
   ]
  },
  {
   "cell_type": "markdown",
   "metadata": {},
   "source": [
    "# Draw data"
   ]
  },
  {
   "cell_type": "code",
   "execution_count": 11,
   "metadata": {
    "collapsed": true
   },
   "outputs": [],
   "source": [
    "np.random.seed(43141) \n",
    "Num_samples = 500 # sample size\n",
    "D = 2 # dimension\n",
    "# so X will be a N\\times D matrix\n",
    "\n",
    "K_inf = 3 # take to be large for a good approximation to the IBP\n",
    "\n",
    "alpha = 10 # IBP parameter\n",
    "\n",
    "# Parameters to draw A from MVN\n",
    "sigma_eps = .1 # variance of noise\n",
    "sigma_A = 100\n",
    "\n",
    "# generate data\n",
    "Pi, Z, mu, A, X = generate_data(Num_samples, D, K_inf, sigma_A, sigma_eps, alpha)\n"
   ]
  },
  {
   "cell_type": "code",
   "execution_count": 12,
   "metadata": {
    "collapsed": false
   },
   "outputs": [
    {
     "data": {
      "text/plain": [
       "\"np.random.seed(43141) \\n\\nNum_samples = 500 # sample size\\nD = 2 # dimension\\n# so X will be a N\\times D matrix\\n\\nK_inf = 3 # take to be large for a good approximation to the IBP\\n\\n\\nalpha = 10 # IBP parameter\\nPi = np.ones(K_inf) * .8\\nZ = np.zeros([Num_samples,K_inf])\\n\\n# Parameters to draw A from MVN\\nmu = np.zeros(D)\\nsigma_A = 100\\n\\nsigma_eps = .1 # variance of noise\\n\\n# Draw Z from truncated stick breaking process\\nfor k in range(K_inf):\\n    # Pi[k] = np.random.beta(alpha/K_inf,1)\\n    for n in range(Num_samples):\\n        Z[n,k] = np.random.binomial(1,Pi[k])\\n\\n        \\nprint('true Z (first 10 rows): \\n', Z[0:10,:])\\n\\n# Draw A from multivariate normal\\n# A = np.random.multivariate_normal(mu, sigma_A*np.identity(D), K_inf) # FOR SOME REASONG THIS KILLS THE KERNEL!?\\nA = np.random.normal(0, np.sqrt(sigma_A), (K_inf, D))\\nprint(A)\\n\\n# draw noise\\n# epsilon = np.random.multivariate_normal(np.zeros(D), sigma_eps*np.identity(D), Num_samples)\\nepsilon = np.random.normal(0, sigma_eps, (Num_samples, D))\\n\\n# the observed data\\nX = np.dot(Z,A) + epsilon\\n\""
      ]
     },
     "execution_count": 12,
     "metadata": {},
     "output_type": "execute_result"
    }
   ],
   "source": [
    "\"\"\"np.random.seed(43141) \n",
    "\n",
    "Num_samples = 500 # sample size\n",
    "D = 2 # dimension\n",
    "# so X will be a N\\times D matrix\n",
    "\n",
    "K_inf = 3 # take to be large for a good approximation to the IBP\n",
    "\n",
    "\n",
    "alpha = 10 # IBP parameter\n",
    "Pi = np.ones(K_inf) * .8\n",
    "Z = np.zeros([Num_samples,K_inf])\n",
    "\n",
    "# Parameters to draw A from MVN\n",
    "mu = np.zeros(D)\n",
    "sigma_A = 100\n",
    "\n",
    "sigma_eps = .1 # variance of noise\n",
    "\n",
    "# Draw Z from truncated stick breaking process\n",
    "for k in range(K_inf):\n",
    "    # Pi[k] = np.random.beta(alpha/K_inf,1)\n",
    "    for n in range(Num_samples):\n",
    "        Z[n,k] = np.random.binomial(1,Pi[k])\n",
    "\n",
    "        \n",
    "print('true Z (first 10 rows): \\n', Z[0:10,:])\n",
    "\n",
    "# Draw A from multivariate normal\n",
    "# A = np.random.multivariate_normal(mu, sigma_A*np.identity(D), K_inf) # FOR SOME REASONG THIS KILLS THE KERNEL!?\n",
    "A = np.random.normal(0, np.sqrt(sigma_A), (K_inf, D))\n",
    "print(A)\n",
    "\n",
    "# draw noise\n",
    "# epsilon = np.random.multivariate_normal(np.zeros(D), sigma_eps*np.identity(D), Num_samples)\n",
    "epsilon = np.random.normal(0, sigma_eps, (Num_samples, D))\n",
    "\n",
    "# the observed data\n",
    "X = np.dot(Z,A) + epsilon\n",
    "\"\"\""
   ]
  },
  {
   "cell_type": "markdown",
   "metadata": {},
   "source": [
    "# set initializations"
   ]
  },
  {
   "cell_type": "code",
   "execution_count": 13,
   "metadata": {
    "collapsed": true
   },
   "outputs": [],
   "source": [
    "# set initializations\n",
    "K_approx = deepcopy(K_inf) # variational truncation\n",
    "tau, nu, phi_mu, phi_var = initialize_parameters(Num_samples, D, K_approx)\n",
    "\n",
    "Data_shape = {'D':D, 'N': Num_samples , 'K':K_approx}\n",
    "sigmas = {'eps': sigma_eps, 'A': sigma_A}\n",
    "\n",
    "iterations = 1000\n",
    "elbo = np.zeros(iterations)\n"
   ]
  },
  {
   "cell_type": "code",
   "execution_count": 14,
   "metadata": {
    "collapsed": false
   },
   "outputs": [
    {
     "data": {
      "text/plain": [
       "\"K_approx = deepcopy(K_inf) # variational truncation\\n\\ntau = np.random.uniform(0,1,[K_approx,2]) # tau1, tau2 -- beta parameters for v\\n#tau = np.ones([K_approx,2])*1000\\n#tau[:,1] = (tau[:,0] - Pi*tau[:,0])/Pi\\n\\n#nu = np.ones([Num_samples, K_approx]) *0.0\\nnu =  np.random.uniform(0,1,[Num_samples,K_approx]) # Bernoulli parameter for z_nk\\n#nu = deepcopy(Z)\\n\\nphi_mu = np.random.normal(0,1,[D,K_approx]) # kth mean (D dim vector) in kth column\\n#phi_mu = deepcopy(A).T\\nphi_var = np.ones(K_approx)\\n\\nnu_init = np.round(nu*(nu>=0.9) + nu*(nu<=0.1)) + nu*(nu>=0.1)*(nu<=0.9)\\n\\niterations = 1000\\nelbo = np.zeros(iterations)\\nelbo_Term1 = np.zeros(iterations)\\nelbo_Term2 = np.zeros(iterations)\\nelbo_Term3 = np.zeros(iterations)\\nelbo_Term4 = np.zeros(iterations)\\nelbo_Term5 = np.zeros(iterations)\\nelbo_Term6 = np.zeros(iterations)\\nelbo_Term7 = np.zeros(iterations)\\n\\n\\nData_shape = {'D':D, 'N': Num_samples , 'K':K_approx}\\nsigmas = {'eps': 100, 'A': sigma_A}\\n\""
      ]
     },
     "execution_count": 14,
     "metadata": {},
     "output_type": "execute_result"
    }
   ],
   "source": [
    "\"\"\"K_approx = deepcopy(K_inf) # variational truncation\n",
    "\n",
    "tau = np.random.uniform(0,1,[K_approx,2]) # tau1, tau2 -- beta parameters for v\n",
    "#tau = np.ones([K_approx,2])*1000\n",
    "#tau[:,1] = (tau[:,0] - Pi*tau[:,0])/Pi\n",
    "\n",
    "#nu = np.ones([Num_samples, K_approx]) *0.0\n",
    "nu =  np.random.uniform(0,1,[Num_samples,K_approx]) # Bernoulli parameter for z_nk\n",
    "#nu = deepcopy(Z)\n",
    "\n",
    "phi_mu = np.random.normal(0,1,[D,K_approx]) # kth mean (D dim vector) in kth column\n",
    "#phi_mu = deepcopy(A).T\n",
    "phi_var = np.ones(K_approx)\n",
    "\n",
    "nu_init = np.round(nu*(nu>=0.9) + nu*(nu<=0.1)) + nu*(nu>=0.1)*(nu<=0.9)\n",
    "\n",
    "iterations = 1000\n",
    "elbo = np.zeros(iterations)\n",
    "elbo_Term1 = np.zeros(iterations)\n",
    "elbo_Term2 = np.zeros(iterations)\n",
    "elbo_Term3 = np.zeros(iterations)\n",
    "elbo_Term4 = np.zeros(iterations)\n",
    "elbo_Term5 = np.zeros(iterations)\n",
    "elbo_Term6 = np.zeros(iterations)\n",
    "elbo_Term7 = np.zeros(iterations)\n",
    "\n",
    "\n",
    "Data_shape = {'D':D, 'N': Num_samples , 'K':K_approx}\n",
    "sigmas = {'eps': 100, 'A': sigma_A}\n",
    "\"\"\""
   ]
  },
  {
   "cell_type": "code",
   "execution_count": 15,
   "metadata": {
    "collapsed": true
   },
   "outputs": [],
   "source": [
    "def add_noise_to_phi(phi_mu, noise_scale):\n",
    "    phi_mu = phi_mu + np.random.normal(0, noise_scale, phi_mu.shape)"
   ]
  },
  {
   "cell_type": "markdown",
   "metadata": {},
   "source": [
    "# run CAVI"
   ]
  },
  {
   "cell_type": "code",
   "execution_count": 16,
   "metadata": {
    "collapsed": false
   },
   "outputs": [
    {
     "name": "stdout",
     "output_type": "stream",
     "text": [
      "iteration:  0  l1 error:  0.361851869405 elbo:  -39650.7714797\n",
      "iteration:  1  l1 error:  0.334139741237 elbo:  -22531.7485662\n",
      "iteration:  2  l1 error:  0.324240063381 elbo:  -17847.7352176\n",
      "iteration:  3  l1 error:  0.323333362922 elbo:  -14729.532844\n",
      "iteration:  4  l1 error:  0.323333644756 elbo:  -12803.3394369\n",
      "iteration:  5  l1 error:  0.323358382341 elbo:  -11642.8801805\n",
      "iteration:  6  l1 error:  0.327254555908 elbo:  -10705.2123013\n",
      "iteration:  7  l1 error:  0.331999623648 elbo:  -9808.53656567\n",
      "iteration:  8  l1 error:  0.328691949264 elbo:  -9228.85970352\n",
      "iteration:  9  l1 error:  0.32345227338 elbo:  -8615.44219531\n",
      "iteration:  10  l1 error:  0.323333333334 elbo:  -8240.39932198\n",
      "iteration:  11  l1 error:  0.323333333333 elbo:  -8013.84844863\n",
      "iteration:  12  l1 error:  0.323333333333 elbo:  -7880.07551573\n",
      "iteration:  13  l1 error:  0.323333333333 elbo:  -7801.48311807\n",
      "iteration:  14  l1 error:  0.323333333333 elbo:  -7755.34243542\n",
      "iteration:  15  l1 error:  0.323333333333 elbo:  -7728.25645418\n",
      "iteration:  16  l1 error:  0.323333333333 elbo:  -7712.356379\n",
      "iteration:  17  l1 error:  0.323333333333 elbo:  -7703.02269793\n",
      "iteration:  18  l1 error:  0.323333333333 elbo:  -7697.54363081\n",
      "iteration:  19  l1 error:  0.323333333333 elbo:  -7694.32730326\n",
      "iteration:  20  l1 error:  0.323333333333 elbo:  -7692.43925142\n",
      "iteration:  21  l1 error:  0.323333333333 elbo:  -7691.33092531\n",
      "iteration:  22  l1 error:  0.323333333333 elbo:  -7690.6803146\n",
      "iteration:  23  l1 error:  0.323333333333 elbo:  -7690.29839245\n",
      "iteration:  24  l1 error:  0.323333333333 elbo:  -7690.07419612\n",
      "iteration:  25  l1 error:  0.323333333333 elbo:  -7689.94258816\n",
      "iteration:  26  l1 error:  0.323333333333 elbo:  -7689.86533152\n",
      "iteration:  27  l1 error:  0.323333333333 elbo:  -7689.81998026\n",
      "iteration:  28  l1 error:  0.323333333333 elbo:  -7689.79335811\n",
      "iteration:  29  l1 error:  0.323333333333 elbo:  -7689.77773035\n",
      "iteration:  30  l1 error:  0.323333333333 elbo:  -7689.76855652\n",
      "iteration:  31  l1 error:  0.323333333333 elbo:  -7689.7631713\n",
      "iteration:  32  l1 error:  0.323333333333 elbo:  -7689.76001006\n",
      "iteration:  33  l1 error:  0.323333333333 elbo:  -7689.75815434\n",
      "iteration:  34  l1 error:  0.323333333333 elbo:  -7689.757065\n",
      "iteration:  35  l1 error:  0.323333333333 elbo:  -7689.75642553\n",
      "iteration:  36  l1 error:  0.323333333333 elbo:  -7689.75605015\n",
      "iteration:  37  l1 error:  0.323333333333 elbo:  -7689.75582979\n",
      "iteration:  38  l1 error:  0.323333333333 elbo:  -7689.75570044\n",
      "iteration:  39  l1 error:  0.323333333333 elbo:  -7689.7556245\n",
      "iteration:  40  l1 error:  0.323333333333 elbo:  -7689.75557993\n",
      "iteration:  41  l1 error:  0.323333333333 elbo:  -7689.75555376\n",
      "iteration:  42  l1 error:  0.323333333333 elbo:  -7689.7555384\n",
      "iteration:  43  l1 error:  0.323333333333 elbo:  -7689.75552939\n",
      "iteration:  44  l1 error:  0.323333333333 elbo:  -7689.75552409\n",
      "iteration:  45  l1 error:  0.323333333333 elbo:  -7689.75552099\n",
      "iteration:  46  l1 error:  0.323333333333 elbo:  -7689.75551916\n",
      "iteration:  47  l1 error:  0.323333333333 elbo:  -7689.75551809\n",
      "iteration:  48  l1 error:  0.323333333333 elbo:  -7689.75551746\n",
      "iteration:  49  l1 error:  0.323333333333 elbo:  -7689.75551709\n",
      "iteration:  50  l1 error:  0.323333333333 elbo:  -7689.75551688\n",
      "iteration:  51  l1 error:  0.323333333333 elbo:  -7689.75551675\n",
      "iteration:  52  l1 error:  0.323333333333 elbo:  -7689.75551668\n",
      "iteration:  53  l1 error:  0.323333333333 elbo:  -7689.75551663\n",
      "iteration:  54  l1 error:  0.323333333333 elbo:  -7689.75551661\n",
      "iteration:  55  l1 error:  0.323333333333 elbo:  -7689.75551659\n",
      "iteration:  56  l1 error:  0.323333333333 elbo:  -7689.75551658\n",
      "ELBO converged\n"
     ]
    }
   ],
   "source": [
    " \n",
    "for i in range(iterations):\n",
    "    iter_ran = i + 1\n",
    "\n",
    "    cavi_updates(tau, nu, phi_mu, phi_var, X, alpha, sigmas)\n",
    "\n",
    "    round_nu = np.round(nu*(nu>=0.9) + nu*(nu<=0.1)) + nu*(nu>=0.1)*(nu<=0.9)\n",
    "\n",
    "    #[elbo[i],elbo_Term1[i],elbo_Term2[i],elbo_Term3[i],elbo_Term4[i],elbo_Term5[i],elbo_Term6[i],elbo_Term7[i]] \\\n",
    "    #    = compute_elbo(tau, nu, phi_mu, phi_var, X, sigmas, alpha)\n",
    "    elbo[i] = compute_elbo(tau, nu, phi_mu, phi_var, X, sigmas, alpha)[0]\n",
    "\n",
    "    print('iteration: ', i, ' l1 error: ', np.sum(abs(Z-nu))/np.size(Z[:]), 'elbo: ', elbo[i])\n",
    "    #print(round_nu[0:10,:])\n",
    "\n",
    "    if np.isnan(elbo[i]):\n",
    "        print('NAN ELBO.')\n",
    "        break\n",
    "\n",
    "    if (i>0) & (elbo[i] < elbo[i-1]): \n",
    "        print('elbo decreased!  Difference: ', elbo[i] - elbo[i-1])\n",
    "        break\n",
    "\n",
    "    if np.abs(elbo[i]-elbo[i-1]) <= 10**(-8):\n",
    "        print('ELBO converged')\n",
    "        break\n",
    "    "
   ]
  },
  {
   "cell_type": "code",
   "execution_count": 18,
   "metadata": {
    "collapsed": false
   },
   "outputs": [
    {
     "name": "stdout",
     "output_type": "stream",
     "text": [
      "Z (unpermuted): \n",
      " [[1 1 1]\n",
      " [1 1 1]\n",
      " [1 1 1]\n",
      " [1 1 0]\n",
      " [1 1 1]\n",
      " [1 1 1]\n",
      " [1 1 1]\n",
      " [1 1 0]\n",
      " [1 1 1]\n",
      " [1 1 1]]\n",
      "** procedure did not give a true permutation\n",
      "permutation:  [0, 1, 2]\n",
      "Z (permuted) \n",
      " [[1 1 1]\n",
      " [1 1 1]\n",
      " [1 1 1]\n",
      " [1 1 0]\n",
      " [1 1 1]\n",
      " [1 1 1]\n",
      " [1 1 1]\n",
      " [1 1 0]\n",
      " [1 1 1]\n",
      " [1 1 1]]\n",
      "round_nu \n",
      " [[ 0.  1.  1.]\n",
      " [ 0.  1.  1.]\n",
      " [ 0.  1.  1.]\n",
      " [ 0.  1.  0.]\n",
      " [ 0.  1.  1.]\n",
      " [ 0.  1.  1.]\n",
      " [ 0.  1.  1.]\n",
      " [ 0.  1.  0.]\n",
      " [ 0.  1.  1.]\n",
      " [ 0.  1.  1.]]\n",
      "l1 error (after permutation):  [0.85200000000006049, 1.0648923931879182e-139, 0.11799999999999999]\n",
      "\n",
      "\n",
      "true A (permuted): \n",
      " [[-3.07199514  5.0220693 ]\n",
      " [ 9.54417571  3.59640607]\n",
      " [ 1.1894611  -8.60276614]]\n",
      "phi_mu: \n",
      " [[ 0.64148571 -4.36579453]\n",
      " [ 6.82878259  8.53153398]\n",
      " [ 1.27289267 -8.62157685]]\n",
      "\n",
      "\n",
      "true Pi (permuted):  [ 0.8  0.8  0.8]\n",
      "computed Pi:  [ 0.27230668  0.81956378  0.68076669]\n"
     ]
    },
    {
     "data": {
      "image/png": "[encoded data removed]",
      "text/plain": [
       "<matplotlib.figure.Figure at 0x7fca306f5b70>"
      ]
     },
     "metadata": {},
     "output_type": "display_data"
    }
   ],
   "source": [
    "Pi_computed = tau[:,0]/(tau[:,0] + tau[:,1])\n",
    "round_nu = np.round(nu*(nu>=0.9) + nu*(nu<=0.1)) + nu*(nu>=0.1)*(nu<=0.9)\n",
    "print('Z (unpermuted): \\n', Z[0:10])\n",
    "\n",
    "# Find the minimizing permutation.\n",
    "accuracy_mat = [[ np.sum(np.abs(Z[:, i] - nu[:, j]))/Num_samples for i in range(K_inf) ]\n",
    "                  for j in range(K_inf) ]\n",
    "perm_tmp = np.argmin(accuracy_mat, 1)\n",
    "\n",
    "# check that we have a true permuation\n",
    "if len(perm_tmp) == len(set(perm_tmp)):  \n",
    "    perm = perm_tmp\n",
    "else: \n",
    "    print('** procedure did not give a true permutation')\n",
    "    perm = [0,1,2]\n",
    "\n",
    "print('permutation: ', perm)\n",
    "    \n",
    "# print Z (permuted) and nu\n",
    "print('Z (permuted) \\n', Z[0:10, perm])\n",
    "print('round_nu \\n', round_nu[0:10,:])\n",
    "\n",
    "print('l1 error (after permutation): ', \\\n",
    "    [ np.sum(np.abs(Z[:, perm[i]] - nu[:, i]))/Num_samples for i in range(K_inf) ])\n",
    "\n",
    "print('\\n')\n",
    "print('true A (permuted): \\n', A[perm, :])\n",
    "print('phi_mu: \\n', phi_mu.transpose())\n",
    "\n",
    "print('\\n')\n",
    "print('true Pi (permuted): ', Pi)\n",
    "print('computed Pi: ', Pi_computed)\n",
    "plt.clf()\n",
    "plt.plot(elbo[:iter_ran])\n",
    "plt.xlabel('iteration')\n",
    "plt.ylabel('elbo')\n",
    "plt.show()"
   ]
  },
  {
   "cell_type": "code",
   "execution_count": 20,
   "metadata": {
    "collapsed": false
   },
   "outputs": [
    {
     "data": {
      "image/png": "[encoded data removed]",
      "text/plain": [
       "<matplotlib.figure.Figure at 0x7fca30564358>"
      ]
     },
     "metadata": {},
     "output_type": "display_data"
    }
   ],
   "source": [
    "pred_x = np.dot(nu, phi_mu.transpose())\n",
    "col = 0\n",
    "plt.clf()\n",
    "plt.plot(pred_x[:, col], X[:, col], 'ko')\n",
    "plt.show()"
   ]
  },
  {
   "cell_type": "code",
   "execution_count": 109,
   "metadata": {
    "collapsed": false,
    "scrolled": true
   },
   "outputs": [
    {
     "name": "stdout",
     "output_type": "stream",
     "text": [
      "0.9566\n",
      "0.1538\n",
      "0.706\n"
     ]
    }
   ],
   "source": [
    "# let us permute the columms of nu and then compare: \n",
    "nu_perm = nu[:, (1,2,0)]\n",
    "round_nu_perm = np.round(nu_perm*(nu_perm>=0.9) + nu_perm*(nu_perm<=0.1)) + nu_perm*(nu_perm>=0.1)*(nu_perm<=0.9)\n",
    "\n",
    "print(np.sum(np.abs(Z[:,0] - nu_perm[:,0]))/Num_samples)\n",
    "print(np.sum(np.abs(Z[:,1] - nu_perm[:,1]))/Num_samples)\n",
    "print(np.sum(np.abs(Z[:,2] - nu_perm[:,2]))/Num_samples)\n",
    "\n",
    "# so two of the rows are really close ..."
   ]
  }
 ],
 "metadata": {
  "anaconda-cloud": {},
  "kernelspec": {
   "display_name": "Python 3",
   "language": "python",
   "name": "python3"
  },
  "language_info": {
   "codemirror_mode": {
    "name": "ipython",
    "version": 3
   },
   "file_extension": ".py",
   "mimetype": "text/x-python",
   "name": "python",
   "nbconvert_exporter": "python",
   "pygments_lexer": "ipython3",
   "version": "3.6.0"
  }
 },
 "nbformat": 4,
 "nbformat_minor": 1
}
