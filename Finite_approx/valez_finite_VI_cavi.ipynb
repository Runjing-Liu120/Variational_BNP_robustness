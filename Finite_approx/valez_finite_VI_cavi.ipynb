{
 "cells": [
  {
   "cell_type": "markdown",
   "metadata": {},
   "source": [
    "# Variational inference using the finite approximation\n",
    "\n",
    "trying standard cavi"
   ]
  },
  {
   "cell_type": "code",
   "execution_count": 1,
   "metadata": {
    "collapsed": false
   },
   "outputs": [],
   "source": [
    "import numpy as np\n",
    "import scipy as sp\n",
    "\n",
    "import matplotlib.pyplot as plt\n",
    "from copy import deepcopy\n",
    "\n",
    "from valez_finite_VI_lib import *\n"
   ]
  },
  {
   "cell_type": "markdown",
   "metadata": {},
   "source": [
    "# Draw data"
   ]
  },
  {
   "cell_type": "code",
   "execution_count": 2,
   "metadata": {
    "collapsed": false
   },
   "outputs": [
    {
     "name": "stdout",
     "output_type": "stream",
     "text": [
      "true Z (first 10 rows): \n",
      " [[ 1.  1.  1.]\n",
      " [ 1.  1.  1.]\n",
      " [ 1.  1.  1.]\n",
      " [ 1.  1.  1.]\n",
      " [ 1.  0.  1.]\n",
      " [ 1.  1.  1.]\n",
      " [ 1.  1.  1.]\n",
      " [ 1.  0.  1.]\n",
      " [ 1.  0.  1.]\n",
      " [ 1.  1.  1.]]\n",
      "[[-3.07199514  5.0220693 ]\n",
      " [ 9.54417571  3.59640607]\n",
      " [ 1.1894611  -8.60276614]]\n"
     ]
    }
   ],
   "source": [
    "np.random.seed(43141) \n",
    "\n",
    "Num_samples = 500 # sample size\n",
    "D = 2 # dimension\n",
    "# so X will be a N\\times D matrix\n",
    "\n",
    "K_inf = 3 # take to be large for a good approximation to the IBP\n",
    "\n",
    "\n",
    "alpha = 10 # IBP parameter\n",
    "Pi = np.ones(K_inf) * .8\n",
    "Z = np.zeros([Num_samples,K_inf])\n",
    "\n",
    "# Parameters to draw A from MVN\n",
    "mu = np.zeros(D)\n",
    "sigma_A = 100\n",
    "\n",
    "sigma_eps = .1 # variance of noise\n",
    "\n",
    "# Draw Z from truncated stick breaking process\n",
    "for k in range(K_inf):\n",
    "    # Pi[k] = np.random.beta(alpha/K_inf,1)\n",
    "    for n in range(Num_samples):\n",
    "        Z[n,k] = np.random.binomial(1,Pi[k])\n",
    "\n",
    "        \n",
    "print('true Z (first 10 rows): \\n', Z[0:10,:])\n",
    "\n",
    "# Draw A from multivariate normal\n",
    "# A = np.random.multivariate_normal(mu, sigma_A*np.identity(D), K_inf) # FOR SOME REASONG THIS KILLS THE KERNEL!?\n",
    "A = np.random.normal(0, np.sqrt(sigma_A), (K_inf, D))\n",
    "print(A)\n",
    "\n",
    "# draw noise\n",
    "# epsilon = np.random.multivariate_normal(np.zeros(D), sigma_eps*np.identity(D), Num_samples)\n",
    "epsilon = np.random.normal(0, sigma_eps, (Num_samples, D))\n",
    "\n",
    "# the observed data\n",
    "X = np.dot(Z,A) + epsilon\n"
   ]
  },
  {
   "cell_type": "markdown",
   "metadata": {},
   "source": [
    "# set initializations"
   ]
  },
  {
   "cell_type": "code",
   "execution_count": 3,
   "metadata": {
    "collapsed": true
   },
   "outputs": [],
   "source": [
    "K_approx = deepcopy(K_inf) # variational truncation\n",
    "\n",
    "tau = np.random.uniform(0,1,[K_approx,2]) # tau1, tau2 -- beta parameters for v\n",
    "#tau = np.ones([K_approx,2])*1000\n",
    "#tau[:,1] = (tau[:,0] - Pi*tau[:,0])/Pi\n",
    "\n",
    "#nu = np.ones([Num_samples, K_approx]) *0.0\n",
    "nu =  np.random.uniform(0,1,[Num_samples,K_approx]) # Bernoulli parameter for z_nk\n",
    "#nu = deepcopy(Z)\n",
    "\n",
    "phi_mu = np.random.normal(0,1,[D,K_approx]) # kth mean (D dim vector) in kth column\n",
    "#phi_mu = deepcopy(A).T\n",
    "phi_var = np.ones(K_approx)\n",
    "\n",
    "nu_init = np.round(nu*(nu>=0.9) + nu*(nu<=0.1)) + nu*(nu>=0.1)*(nu<=0.9)\n",
    "\n",
    "iterations = 1000\n",
    "elbo = np.zeros(iterations)\n",
    "elbo_Term1 = np.zeros(iterations)\n",
    "elbo_Term2 = np.zeros(iterations)\n",
    "elbo_Term3 = np.zeros(iterations)\n",
    "elbo_Term4 = np.zeros(iterations)\n",
    "elbo_Term5 = np.zeros(iterations)\n",
    "elbo_Term6 = np.zeros(iterations)\n",
    "elbo_Term7 = np.zeros(iterations)\n",
    "\n",
    "\n",
    "Data_shape = {'D':D, 'N': Num_samples , 'K':K_approx}\n",
    "sigmas = {'eps': sigma_eps, 'A': sigma_A}\n"
   ]
  },
  {
   "cell_type": "code",
   "execution_count": 4,
   "metadata": {
    "collapsed": true
   },
   "outputs": [],
   "source": [
    "def add_noise_to_phi(phi_mu, noise_scale):\n",
    "    phi_mu = phi_mu + np.random.normal(0, noise_scale, phi_mu.shape)"
   ]
  },
  {
   "cell_type": "markdown",
   "metadata": {},
   "source": [
    "# run CAVI"
   ]
  },
  {
   "cell_type": "code",
   "execution_count": 6,
   "metadata": {
    "collapsed": false,
    "scrolled": true
   },
   "outputs": [
    {
     "name": "stdout",
     "output_type": "stream",
     "text": [
      "iteration:  0  l1 error:  0.333998637389 elbo:  -22338.9689026\n",
      "iteration:  1  l1 error:  0.326000149186 elbo:  -17344.3515966\n",
      "iteration:  2  l1 error:  0.326 elbo:  -14076.9191244\n",
      "iteration:  3  l1 error:  0.326 elbo:  -12071.3526048\n",
      "iteration:  4  l1 error:  0.326000006456 elbo:  -10860.7788128\n",
      "iteration:  5  l1 error:  0.331346696597 elbo:  -9774.5593934\n",
      "iteration:  6  l1 error:  0.331999139625 elbo:  -9095.98630658\n",
      "iteration:  7  l1 error:  0.325321603262 elbo:  -8480.79071147\n",
      "iteration:  8  l1 error:  0.322000000263 elbo:  -7875.78857669\n",
      "iteration:  9  l1 error:  0.322 elbo:  -7526.73905912\n",
      "iteration:  10  l1 error:  0.322 elbo:  -7317.45874529\n"
     ]
    },
    {
     "name": "stderr",
     "output_type": "stream",
     "text": [
      "/home/runjing_liu/anaconda3/lib/python3.6/site-packages/autograd/core.py:69: RuntimeWarning: overflow encountered in exp\n",
      "  result_value = self.fun(*argvals, **kwargs)\n"
     ]
    },
    {
     "name": "stdout",
     "output_type": "stream",
     "text": [
      "iteration:  11  l1 error:  0.322 elbo:  -7194.54230031\n",
      "iteration:  12  l1 error:  0.322 elbo:  -7122.58855712\n",
      "iteration:  13  l1 error:  0.322 elbo:  -7080.48866123\n",
      "iteration:  14  l1 error:  0.322 elbo:  -7055.85797133\n",
      "iteration:  15  l1 error:  0.322 elbo:  -7041.44785891\n",
      "iteration:  16  l1 error:  0.322 elbo:  -7033.01727888\n",
      "iteration:  17  l1 error:  0.322 elbo:  -7028.08500213\n",
      "iteration:  18  l1 error:  0.322 elbo:  -7025.19939368\n",
      "iteration:  19  l1 error:  0.322 elbo:  -7023.51118019\n",
      "iteration:  20  l1 error:  0.322 elbo:  -7022.52349776\n",
      "iteration:  21  l1 error:  0.322 elbo:  -7021.94565818\n",
      "iteration:  22  l1 error:  0.322 elbo:  -7021.60759548\n",
      "iteration:  23  l1 error:  0.322 elbo:  -7021.40981327\n",
      "iteration:  24  l1 error:  0.322 elbo:  -7021.2941016\n",
      "iteration:  25  l1 error:  0.322 elbo:  -7021.22640495\n",
      "iteration:  26  l1 error:  0.322 elbo:  -7021.18679931\n",
      "iteration:  27  l1 error:  0.322 elbo:  -7021.16362818\n",
      "iteration:  28  l1 error:  0.322 elbo:  -7021.15007201\n",
      "iteration:  29  l1 error:  0.322 elbo:  -7021.14214103\n",
      "iteration:  30  l1 error:  0.322 elbo:  -7021.13750104\n",
      "iteration:  31  l1 error:  0.322 elbo:  -7021.13478643\n",
      "iteration:  32  l1 error:  0.322 elbo:  -7021.13319826\n",
      "iteration:  33  l1 error:  0.322 elbo:  -7021.13226911\n",
      "iteration:  34  l1 error:  0.322 elbo:  -7021.13172552\n",
      "iteration:  35  l1 error:  0.322 elbo:  -7021.13140749\n",
      "iteration:  36  l1 error:  0.322 elbo:  -7021.13122143\n",
      "iteration:  37  l1 error:  0.322 elbo:  -7021.13111257\n",
      "iteration:  38  l1 error:  0.322 elbo:  -7021.13104889\n",
      "iteration:  39  l1 error:  0.322 elbo:  -7021.13101163\n",
      "iteration:  40  l1 error:  0.322 elbo:  -7021.13098983\n",
      "iteration:  41  l1 error:  0.322 elbo:  -7021.13097708\n",
      "iteration:  42  l1 error:  0.322 elbo:  -7021.13096962\n",
      "iteration:  43  l1 error:  0.322 elbo:  -7021.13096525\n",
      "iteration:  44  l1 error:  0.322 elbo:  -7021.1309627\n",
      "iteration:  45  l1 error:  0.322 elbo:  -7021.1309612\n",
      "iteration:  46  l1 error:  0.322 elbo:  -7021.13096033\n",
      "iteration:  47  l1 error:  0.322 elbo:  -7021.13095982\n",
      "iteration:  48  l1 error:  0.322 elbo:  -7021.13095952\n",
      "iteration:  49  l1 error:  0.322 elbo:  -7021.13095934\n",
      "iteration:  50  l1 error:  0.322 elbo:  -7021.13095924\n",
      "iteration:  51  l1 error:  0.322 elbo:  -7021.13095918\n",
      "iteration:  52  l1 error:  0.322 elbo:  -7021.13095915\n",
      "iteration:  53  l1 error:  0.322 elbo:  -7021.13095913\n",
      "iteration:  54  l1 error:  0.322 elbo:  -7021.13095911\n",
      "iteration:  55  l1 error:  0.322 elbo:  -7021.13095911\n",
      "ELBO converged\n"
     ]
    }
   ],
   "source": [
    " \n",
    "for i in range(iterations):\n",
    "    iter_ran = i + 1\n",
    "\n",
    "    cavi_updates(tau, nu, phi_mu, phi_var, X, alpha, sigmas)\n",
    "\n",
    "    round_nu = np.round(nu*(nu>=0.9) + nu*(nu<=0.1)) + nu*(nu>=0.1)*(nu<=0.9)\n",
    "\n",
    "    [elbo[i],elbo_Term1[i],elbo_Term2[i],elbo_Term3[i],elbo_Term4[i],elbo_Term5[i],elbo_Term6[i],elbo_Term7[i]] \\\n",
    "        = compute_elbo(tau, nu, phi_mu, phi_var, X, sigmas, alpha)\n",
    "    #elbo[i] = compute_elbo(tau, nu, phi_mu, phi_var, X, sigmas, alpha)\n",
    "\n",
    "    print('iteration: ', i, ' l1 error: ', np.sum(abs(Z-nu))/np.size(Z[:]), 'elbo: ', elbo[i])\n",
    "    #print(round_nu[0:10,:])\n",
    "\n",
    "    if np.isnan(elbo[i]):\n",
    "        print('NAN ELBO.')\n",
    "        break\n",
    "\n",
    "    if (i>0) & (elbo[i] < elbo[i-1]): \n",
    "        print('elbo decreased!  Difference: ', elbo[i] - elbo[i-1])\n",
    "        break\n",
    "\n",
    "    if np.abs(elbo[i]-elbo[i-1]) <= 10**(-8):\n",
    "        print('ELBO converged')\n",
    "        break\n",
    "    "
   ]
  },
  {
   "cell_type": "code",
   "execution_count": 6,
   "metadata": {
    "collapsed": false
   },
   "outputs": [
    {
     "name": "stdout",
     "output_type": "stream",
     "text": [
      "Z \n",
      " [[ 1.  1.  1.]\n",
      " [ 1.  1.  1.]\n",
      " [ 1.  1.  1.]\n",
      " [ 1.  1.  1.]\n",
      " [ 1.  0.  1.]\n",
      " [ 1.  1.  1.]\n",
      " [ 1.  1.  1.]\n",
      " [ 1.  0.  1.]\n",
      " [ 1.  0.  1.]\n",
      " [ 1.  1.  1.]]\n",
      "round_nu \n",
      " [[ 0.  1.  1.]\n",
      " [ 0.  1.  1.]\n",
      " [ 0.  1.  1.]\n",
      " [ 0.  1.  1.]\n",
      " [ 1.  0.  0.]\n",
      " [ 0.  1.  1.]\n",
      " [ 0.  1.  1.]\n",
      " [ 1.  0.  0.]\n",
      " [ 1.  0.  0.]\n",
      " [ 0.  1.  1.]]\n",
      "[ 0.59558581  0.00660009  0.03001231]\n",
      "[2 1 1]\n",
      "Z permuted \n",
      " [[ 1.  1.  1.]\n",
      " [ 1.  1.  1.]\n",
      " [ 1.  1.  1.]\n",
      " [ 1.  1.  1.]\n",
      " [ 1.  0.  0.]\n",
      " [ 1.  1.  1.]\n",
      " [ 1.  1.  1.]\n",
      " [ 1.  0.  0.]\n",
      " [ 1.  0.  0.]\n",
      " [ 1.  1.  1.]]\n",
      "true A\n",
      " [[-3.07199514  5.0220693 ]\n",
      " [ 9.54417571  3.59640607]\n",
      " [ 1.1894611  -8.60276614]]\n",
      "phi_mu\n",
      " [[ 1.80126057 -4.42838106]\n",
      " [ 5.92088624  1.9610905 ]\n",
      " [ 1.76370281 -0.88947262]]\n"
     ]
    },
    {
     "data": {
      "image/png": "[encoded data removed]",
      "text/plain": [
       "<matplotlib.figure.Figure at 0x7fb027a15588>"
      ]
     },
     "metadata": {},
     "output_type": "display_data"
    }
   ],
   "source": [
    "Pi_computed = tau[:,0]/(tau[:,0] + tau[:,1])\n",
    "print('Z \\n', Z[0:10,:])\n",
    "print('round_nu \\n', round_nu[0:10,:])\n",
    "\n",
    "# Print the minimizing permutation.\n",
    "accuracy_mat = [[ np.sum(np.abs(Z[:, i] - nu[:, j]))/Num_samples for i in range(K_inf) ]\n",
    "                  for j in range(K_inf) ]\n",
    "\n",
    "print(np.min(accuracy_mat, 1))\n",
    "print(np.argmin(accuracy_mat, 1))\n",
    "\n",
    "print('Z permuted \\n', Z[0:10,np.argmin(accuracy_mat, 1)])\n",
    "\n",
    "print('true A\\n', A)\n",
    "print('phi_mu\\n', phi_mu.transpose())\n",
    "\n",
    "plt.clf()\n",
    "plt.plot(elbo[:iter_ran])\n",
    "plt.xlabel('iteration')\n",
    "plt.ylabel('elbo')\n",
    "plt.show()"
   ]
  },
  {
   "cell_type": "code",
   "execution_count": 112,
   "metadata": {
    "collapsed": false
   },
   "outputs": [
    {
     "data": {
      "image/png": "[encoded data removed]",
      "text/plain": [
       "<matplotlib.figure.Figure at 0x7f26daae74d0>"
      ]
     },
     "metadata": {},
     "output_type": "display_data"
    }
   ],
   "source": [
    "pred_x = np.dot(nu, phi_mu.transpose())\n",
    "col = 1\n",
    "plt.clf()\n",
    "plt.plot(pred_x[:, col], X[:, col], 'ko')\n",
    "plt.show()"
   ]
  },
  {
   "cell_type": "code",
   "execution_count": 109,
   "metadata": {
    "collapsed": false,
    "scrolled": true
   },
   "outputs": [
    {
     "name": "stdout",
     "output_type": "stream",
     "text": [
      "0.9566\n",
      "0.1538\n",
      "0.706\n"
     ]
    }
   ],
   "source": [
    "# let us permute the columms of nu and then compare: \n",
    "nu_perm = nu[:, (1,2,0)]\n",
    "round_nu_perm = np.round(nu_perm*(nu_perm>=0.9) + nu_perm*(nu_perm<=0.1)) + nu_perm*(nu_perm>=0.1)*(nu_perm<=0.9)\n",
    "\n",
    "print(np.sum(np.abs(Z[:,0] - nu_perm[:,0]))/Num_samples)\n",
    "print(np.sum(np.abs(Z[:,1] - nu_perm[:,1]))/Num_samples)\n",
    "print(np.sum(np.abs(Z[:,2] - nu_perm[:,2]))/Num_samples)\n",
    "\n",
    "# so two of the rows are really close ..."
   ]
  }
 ],
 "metadata": {
  "anaconda-cloud": {},
  "kernelspec": {
   "display_name": "Python 3",
   "language": "python",
   "name": "python3"
  },
  "language_info": {
   "codemirror_mode": {
    "name": "ipython",
    "version": 3
   },
   "file_extension": ".py",
   "mimetype": "text/x-python",
   "name": "python",
   "nbconvert_exporter": "python",
   "pygments_lexer": "ipython3",
   "version": "3.6.0"
  }
 },
 "nbformat": 4,
 "nbformat_minor": 1
}
