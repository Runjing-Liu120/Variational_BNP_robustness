{
 "cells": [
  {
   "cell_type": "markdown",
   "metadata": {},
   "source": [
    "# Variational inference using the finite approximation\n",
    "\n",
    "trying standard cavi"
   ]
  },
  {
   "cell_type": "code",
   "execution_count": 34,
   "metadata": {
    "collapsed": false
   },
   "outputs": [],
   "source": [
    "import numpy as np\n",
    "import scipy as sp\n",
    "\n",
    "import matplotlib.pyplot as plt\n",
    "from copy import deepcopy\n",
    "\n",
    "from valez_finite_VI_lib import *\n"
   ]
  },
  {
   "cell_type": "markdown",
   "metadata": {},
   "source": [
    "# Draw data"
   ]
  },
  {
   "cell_type": "code",
   "execution_count": 35,
   "metadata": {
    "collapsed": false
   },
   "outputs": [
    {
     "name": "stdout",
     "output_type": "stream",
     "text": [
      "[ 0.94082118  0.88079276  0.40637588]\n"
     ]
    }
   ],
   "source": [
    "np.random.seed(234213) \n",
    "Num_samples = 500 # sample size\n",
    "D = 2 # dimension\n",
    "# so X will be a N\\times D matrix\n",
    "\n",
    "K_inf = 3 # take to be large for a good approximation to the IBP\n",
    "\n",
    "alpha = 10 # IBP parameter\n",
    "\n",
    "# Parameters to draw A from MVN\n",
    "sigma_eps = .1 # variance of noise\n",
    "sigma_A = 100\n",
    "\n",
    "# generate data\n",
    "Pi, Z, mu, A, X = generate_data(Num_samples, D, K_inf, sigma_A, sigma_eps, alpha)\n",
    "print(Pi)"
   ]
  },
  {
   "cell_type": "code",
   "execution_count": 36,
   "metadata": {
    "collapsed": false
   },
   "outputs": [
    {
     "data": {
      "text/plain": [
       "\"np.random.seed(43141) \\n\\nNum_samples = 500 # sample size\\nD = 2 # dimension\\n# so X will be a N\\times D matrix\\n\\nK_inf = 3 # take to be large for a good approximation to the IBP\\n\\n\\nalpha = 10 # IBP parameter\\nPi = np.ones(K_inf) * .8\\nZ = np.zeros([Num_samples,K_inf])\\n\\n# Parameters to draw A from MVN\\nmu = np.zeros(D)\\nsigma_A = 100\\n\\nsigma_eps = .1 # variance of noise\\n\\n# Draw Z from truncated stick breaking process\\nfor k in range(K_inf):\\n    # Pi[k] = np.random.beta(alpha/K_inf,1)\\n    for n in range(Num_samples):\\n        Z[n,k] = np.random.binomial(1,Pi[k])\\n\\n        \\nprint('true Z (first 10 rows): \\n', Z[0:10,:])\\n\\n# Draw A from multivariate normal\\n# A = np.random.multivariate_normal(mu, sigma_A*np.identity(D), K_inf) # FOR SOME REASONG THIS KILLS THE KERNEL!?\\nA = np.random.normal(0, np.sqrt(sigma_A), (K_inf, D))\\nprint(A)\\n\\n# draw noise\\n# epsilon = np.random.multivariate_normal(np.zeros(D), sigma_eps*np.identity(D), Num_samples)\\nepsilon = np.random.normal(0, sigma_eps, (Num_samples, D))\\n\\n# the observed data\\nX = np.dot(Z,A) + epsilon\\n\""
      ]
     },
     "execution_count": 36,
     "metadata": {},
     "output_type": "execute_result"
    }
   ],
   "source": [
    "\"\"\"np.random.seed(43141) \n",
    "\n",
    "Num_samples = 500 # sample size\n",
    "D = 2 # dimension\n",
    "# so X will be a N\\times D matrix\n",
    "\n",
    "K_inf = 3 # take to be large for a good approximation to the IBP\n",
    "\n",
    "\n",
    "alpha = 10 # IBP parameter\n",
    "Pi = np.ones(K_inf) * .8\n",
    "Z = np.zeros([Num_samples,K_inf])\n",
    "\n",
    "# Parameters to draw A from MVN\n",
    "mu = np.zeros(D)\n",
    "sigma_A = 100\n",
    "\n",
    "sigma_eps = .1 # variance of noise\n",
    "\n",
    "# Draw Z from truncated stick breaking process\n",
    "for k in range(K_inf):\n",
    "    # Pi[k] = np.random.beta(alpha/K_inf,1)\n",
    "    for n in range(Num_samples):\n",
    "        Z[n,k] = np.random.binomial(1,Pi[k])\n",
    "\n",
    "        \n",
    "print('true Z (first 10 rows): \\n', Z[0:10,:])\n",
    "\n",
    "# Draw A from multivariate normal\n",
    "# A = np.random.multivariate_normal(mu, sigma_A*np.identity(D), K_inf) # FOR SOME REASONG THIS KILLS THE KERNEL!?\n",
    "A = np.random.normal(0, np.sqrt(sigma_A), (K_inf, D))\n",
    "print(A)\n",
    "\n",
    "# draw noise\n",
    "# epsilon = np.random.multivariate_normal(np.zeros(D), sigma_eps*np.identity(D), Num_samples)\n",
    "epsilon = np.random.normal(0, sigma_eps, (Num_samples, D))\n",
    "\n",
    "# the observed data\n",
    "X = np.dot(Z,A) + epsilon\n",
    "\"\"\""
   ]
  },
  {
   "cell_type": "markdown",
   "metadata": {},
   "source": [
    "# set initializations"
   ]
  },
  {
   "cell_type": "code",
   "execution_count": 84,
   "metadata": {
    "collapsed": false
   },
   "outputs": [
    {
     "data": {
      "text/plain": [
       "'print(X[0:10,:])\\nprint(tau)\\nprint(phi_mu)\\nprint(nu[0:10,:])\\n'"
      ]
     },
     "execution_count": 84,
     "metadata": {},
     "output_type": "execute_result"
    }
   ],
   "source": [
    "# set initializations\n",
    "K_approx = deepcopy(K_inf) # variational truncation\n",
    "tau, nu, phi_mu, phi_var = initialize_parameters(Num_samples, D, K_approx)\n",
    "\n",
    "Data_shape = {'D':D, 'N': Num_samples , 'K':K_approx}\n",
    "sigmas = {'eps': sigma_eps, 'A': sigma_A}\n",
    "\n",
    "iterations = 1000\n",
    "elbo = np.zeros(iterations)\n",
    "\n",
    "\"\"\"print(X[0:10,:])\n",
    "print(tau)\n",
    "print(phi_mu)\n",
    "print(nu[0:10,:])\n",
    "\"\"\"\n"
   ]
  },
  {
   "cell_type": "code",
   "execution_count": 85,
   "metadata": {
    "collapsed": false
   },
   "outputs": [
    {
     "data": {
      "text/plain": [
       "\"K_approx = deepcopy(K_inf) # variational truncation\\n\\ntau = np.random.uniform(0,1,[K_approx,2]) # tau1, tau2 -- beta parameters for v\\n#tau = np.ones([K_approx,2])*1000\\n#tau[:,1] = (tau[:,0] - Pi*tau[:,0])/Pi\\n\\n#nu = np.ones([Num_samples, K_approx]) *0.0\\nnu =  np.random.uniform(0,1,[Num_samples,K_approx]) # Bernoulli parameter for z_nk\\n#nu = deepcopy(Z)\\n\\nphi_mu = np.random.normal(0,1,[D,K_approx]) # kth mean (D dim vector) in kth column\\n#phi_mu = deepcopy(A).T\\nphi_var = np.ones(K_approx)\\n\\nnu_init = np.round(nu*(nu>=0.9) + nu*(nu<=0.1)) + nu*(nu>=0.1)*(nu<=0.9)\\n\\niterations = 1000\\nelbo = np.zeros(iterations)\\nelbo_Term1 = np.zeros(iterations)\\nelbo_Term2 = np.zeros(iterations)\\nelbo_Term3 = np.zeros(iterations)\\nelbo_Term4 = np.zeros(iterations)\\nelbo_Term5 = np.zeros(iterations)\\nelbo_Term6 = np.zeros(iterations)\\nelbo_Term7 = np.zeros(iterations)\\n\\n\\nData_shape = {'D':D, 'N': Num_samples , 'K':K_approx}\\nsigmas = {'eps': 100, 'A': sigma_A}\\n\""
      ]
     },
     "execution_count": 85,
     "metadata": {},
     "output_type": "execute_result"
    }
   ],
   "source": [
    "\"\"\"K_approx = deepcopy(K_inf) # variational truncation\n",
    "\n",
    "tau = np.random.uniform(0,1,[K_approx,2]) # tau1, tau2 -- beta parameters for v\n",
    "#tau = np.ones([K_approx,2])*1000\n",
    "#tau[:,1] = (tau[:,0] - Pi*tau[:,0])/Pi\n",
    "\n",
    "#nu = np.ones([Num_samples, K_approx]) *0.0\n",
    "nu =  np.random.uniform(0,1,[Num_samples,K_approx]) # Bernoulli parameter for z_nk\n",
    "#nu = deepcopy(Z)\n",
    "\n",
    "phi_mu = np.random.normal(0,1,[D,K_approx]) # kth mean (D dim vector) in kth column\n",
    "#phi_mu = deepcopy(A).T\n",
    "phi_var = np.ones(K_approx)\n",
    "\n",
    "nu_init = np.round(nu*(nu>=0.9) + nu*(nu<=0.1)) + nu*(nu>=0.1)*(nu<=0.9)\n",
    "\n",
    "iterations = 1000\n",
    "elbo = np.zeros(iterations)\n",
    "elbo_Term1 = np.zeros(iterations)\n",
    "elbo_Term2 = np.zeros(iterations)\n",
    "elbo_Term3 = np.zeros(iterations)\n",
    "elbo_Term4 = np.zeros(iterations)\n",
    "elbo_Term5 = np.zeros(iterations)\n",
    "elbo_Term6 = np.zeros(iterations)\n",
    "elbo_Term7 = np.zeros(iterations)\n",
    "\n",
    "\n",
    "Data_shape = {'D':D, 'N': Num_samples , 'K':K_approx}\n",
    "sigmas = {'eps': 100, 'A': sigma_A}\n",
    "\"\"\""
   ]
  },
  {
   "cell_type": "code",
   "execution_count": 86,
   "metadata": {
    "collapsed": false
   },
   "outputs": [
    {
     "name": "stdout",
     "output_type": "stream",
     "text": [
      "[[ 0.158401    0.23664038 -1.4758925 ]\n",
      " [ 0.6149541   0.38506794  0.29130975]]\n",
      "[[-135.55860844   32.90288465 -104.10599525]\n",
      " [ -13.2034032   -20.12773208 -163.26973739]]\n"
     ]
    }
   ],
   "source": [
    "def add_noise_to_phi(phi_mu, noise_scale):\n",
    "    phi_mu[:] = phi_mu + np.random.normal(0, noise_scale, phi_mu.shape)\n",
    "\n",
    "print(phi_mu)\n",
    "add_noise_to_phi(phi_mu, 100)\n",
    "print(phi_mu)"
   ]
  },
  {
   "cell_type": "markdown",
   "metadata": {},
   "source": [
    "# run CAVI"
   ]
  },
  {
   "cell_type": "code",
   "execution_count": 87,
   "metadata": {
    "collapsed": false
   },
   "outputs": [
    {
     "name": "stdout",
     "output_type": "stream",
     "text": [
      "iteration:  0  l1 error:  0.459454010283 elbo:  -301664.833528\n",
      "iteration:  1  l1 error:  0.448 elbo:  -271738.96645\n",
      "iteration:  2  l1 error:  0.448 elbo:  -271738.96645\n",
      "ELBO converged\n"
     ]
    }
   ],
   "source": [
    " for i in range(iterations):\n",
    "    iter_ran = i + 1\n",
    "    \n",
    "    \"\"\"    phi_mu_old = deepcopy(phi_mu)\n",
    "    phi_var_old = deepcopy(phi_var)\n",
    "    tau_old = deepcopy(tau)\n",
    "    cavi_updates(tau_old, nu, phi_mu_old, phi_var_old, X, alpha, sigmas)\n",
    "    \"\"\"\n",
    "    \n",
    "    cavi_updates(tau, nu, phi_mu, phi_var, X, alpha, sigmas)\n",
    "    \n",
    "    round_nu = np.round(nu*(nu>=0.9) + nu*(nu<=0.1)) + nu*(nu>=0.1)*(nu<=0.9)\n",
    "\n",
    "    #[elbo[i],elbo_Term1[i],elbo_Term2[i],elbo_Term3[i],elbo_Term4[i],elbo_Term5[i],elbo_Term6[i],elbo_Term7[i]] \\\n",
    "    #    = compute_elbo(tau, nu, phi_mu, phi_var, X, sigmas, alpha)\n",
    "    elbo[i] = compute_elbo(tau, nu, phi_mu, phi_var, X, sigmas, alpha)[0]\n",
    "\n",
    "    print('iteration: ', i, ' l1 error: ', np.sum(abs(Z-nu))/np.size(Z[:]), 'elbo: ', elbo[i])\n",
    "    #print(round_nu[0:10,:])\n",
    "\n",
    "    if np.isnan(elbo[i]):\n",
    "        print('NAN ELBO.')\n",
    "        break\n",
    "\n",
    "    if (i>0) & (elbo[i] < elbo[i-1]): \n",
    "        print('elbo decreased!  Difference: ', elbo[i] - elbo[i-1])\n",
    "        break\n",
    "\n",
    "    if np.abs(elbo[i]-elbo[i-1]) <= 10**(-8):\n",
    "        print('ELBO converged')\n",
    "        break\n"
   ]
  },
  {
   "cell_type": "code",
   "execution_count": 83,
   "metadata": {
    "collapsed": false
   },
   "outputs": [
    {
     "name": "stdout",
     "output_type": "stream",
     "text": [
      "Z (unpermuted): \n",
      " [[1 0 0]\n",
      " [1 1 1]\n",
      " [1 1 1]\n",
      " [1 1 0]\n",
      " [1 1 0]\n",
      " [1 1 0]\n",
      " [1 1 1]\n",
      " [1 1 1]\n",
      " [1 1 0]\n",
      " [1 1 0]]\n",
      "** procedure did not give a true permutation\n",
      "permutation:  [1, 2, 0]\n",
      "Z (permuted) \n",
      " [[0 0 1]\n",
      " [1 1 1]\n",
      " [1 1 1]\n",
      " [1 0 1]\n",
      " [1 0 1]\n",
      " [1 0 1]\n",
      " [1 1 1]\n",
      " [1 1 1]\n",
      " [1 0 1]\n",
      " [1 0 1]]\n",
      "round_nu \n",
      " [[ 1.  1.  0.]\n",
      " [ 0.  1.  0.]\n",
      " [ 0.  1.  0.]\n",
      " [ 0.  0.  0.]\n",
      " [ 1.  1.  0.]\n",
      " [ 0.  0.  0.]\n",
      " [ 0.  1.  0.]\n",
      " [ 0.  1.  0.]\n",
      " [ 1.  1.  0.]\n",
      " [ 0.  0.  0.]]\n",
      "l1 error (after permutation):  [0.57599999999999996, 0.44800000000000001, 0.93999999999999995]\n",
      "\n",
      "\n",
      "true A (permuted): \n",
      " [[ 14.49575873 -10.10045375]\n",
      " [ 22.32924855   2.35520426]\n",
      " [ -0.22002195  -3.29383694]]\n",
      "phi_mu: \n",
      " [[-22.91118831  -0.36327817]\n",
      " [ 36.58748702 -10.78588522]\n",
      " [  0.           0.        ]]\n",
      "\n",
      "\n",
      "true Pi (permuted):  [ 0.94082118  0.88079276  0.40637588]\n",
      "computed Pi:  [ 0.49636484  0.80568407  0.00660939]\n"
     ]
    },
    {
     "data": {
      "image/png": "[encoded data removed]",
      "text/plain": [
       "<matplotlib.figure.Figure at 0x7f2b1a71c0f0>"
      ]
     },
     "metadata": {},
     "output_type": "display_data"
    }
   ],
   "source": [
    "Pi_computed = tau[:,0]/(tau[:,0] + tau[:,1])\n",
    "round_nu = np.round(nu*(nu>=0.9) + nu*(nu<=0.1)) + nu*(nu>=0.1)*(nu<=0.9)\n",
    "print('Z (unpermuted): \\n', Z[0:10])\n",
    "\n",
    "# Find the minimizing permutation.\n",
    "accuracy_mat = [[ np.sum(np.abs(Z[:, i] - nu[:, j]))/Num_samples for i in range(K_inf) ]\n",
    "                  for j in range(K_inf) ]\n",
    "perm_tmp = np.argmin(accuracy_mat, 1)\n",
    "\n",
    "# check that we have a true permuation\n",
    "if len(perm_tmp) == len(set(perm_tmp)):  \n",
    "    perm = perm_tmp\n",
    "else: \n",
    "    print('** procedure did not give a true permutation')\n",
    "    perm = [1,2,0]\n",
    "\n",
    "print('permutation: ', perm)\n",
    "    \n",
    "# print Z (permuted) and nu\n",
    "print('Z (permuted) \\n', Z[0:10, perm])\n",
    "print('round_nu \\n', round_nu[0:10,:])\n",
    "\n",
    "print('l1 error (after permutation): ', \\\n",
    "    [ np.sum(np.abs(Z[:, perm[i]] - nu[:, i]))/Num_samples for i in range(K_inf) ])\n",
    "\n",
    "print('\\n')\n",
    "print('true A (permuted): \\n', A[perm, :])\n",
    "print('phi_mu: \\n', phi_mu.transpose())\n",
    "\n",
    "print('\\n')\n",
    "print('true Pi (permuted): ', Pi)\n",
    "print('computed Pi: ', Pi_computed)\n",
    "plt.clf()\n",
    "plt.plot(elbo[:iter_ran])\n",
    "plt.xlabel('iteration')\n",
    "plt.ylabel('elbo')\n",
    "plt.show()"
   ]
  },
  {
   "cell_type": "code",
   "execution_count": 65,
   "metadata": {
    "collapsed": false
   },
   "outputs": [
    {
     "data": {
      "image/png": "[encoded data removed]",
      "text/plain": [
       "<matplotlib.figure.Figure at 0x7f2b1a802588>"
      ]
     },
     "metadata": {},
     "output_type": "display_data"
    }
   ],
   "source": [
    "pred_x = np.dot(nu, phi_mu.transpose())\n",
    "col = 1\n",
    "plt.clf()\n",
    "plt.plot(pred_x[:, col], X[:, col], 'ko')\n",
    "plt.show()"
   ]
  },
  {
   "cell_type": "code",
   "execution_count": 90,
   "metadata": {
    "collapsed": false
   },
   "outputs": [
    {
     "name": "stdout",
     "output_type": "stream",
     "text": [
      "-0.998160062621\n",
      "-0.973580314843\n"
     ]
    }
   ],
   "source": [
    "x = np.random.beta(1,1, 1000)\n",
    "print(np.mean(np.log(x)))\n",
    "print(np.mean(np.log(1-x)))"
   ]
  },
  {
   "cell_type": "code",
   "execution_count": null,
   "metadata": {
    "collapsed": true
   },
   "outputs": [],
   "source": []
  }
 ],
 "metadata": {
  "anaconda-cloud": {},
  "kernelspec": {
   "display_name": "Python 3",
   "language": "python",
   "name": "python3"
  },
  "language_info": {
   "codemirror_mode": {
    "name": "ipython",
    "version": 3
   },
   "file_extension": ".py",
   "mimetype": "text/x-python",
   "name": "python",
   "nbconvert_exporter": "python",
   "pygments_lexer": "ipython3",
   "version": "3.6.0"
  }
 },
 "nbformat": 4,
 "nbformat_minor": 1
}
