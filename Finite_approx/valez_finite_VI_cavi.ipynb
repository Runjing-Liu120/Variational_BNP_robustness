{
 "cells": [
  {
   "cell_type": "markdown",
   "metadata": {},
   "source": [
    "# Variational inference using the finite approximation\n",
    "\n",
    "trying standard cavi"
   ]
  },
  {
   "cell_type": "code",
   "execution_count": 23,
   "metadata": {
    "collapsed": false
   },
   "outputs": [],
   "source": [
    "import numpy as np\n",
    "import scipy as sp\n",
    "import matplotlib.pyplot as plt\n",
    "from copy import deepcopy\n",
    "\n",
    "from valez_finite_VI_lib import *\n"
   ]
  },
  {
   "cell_type": "markdown",
   "metadata": {},
   "source": [
    "# Draw data"
   ]
  },
  {
   "cell_type": "code",
   "execution_count": 24,
   "metadata": {
    "collapsed": false
   },
   "outputs": [
    {
     "name": "stdout",
     "output_type": "stream",
     "text": [
      "true Z (first 10 rows): \n",
      " [[ 1.  1.  1.]\n",
      " [ 1.  1.  1.]\n",
      " [ 1.  1.  1.]\n",
      " [ 1.  1.  1.]\n",
      " [ 1.  0.  1.]\n",
      " [ 1.  1.  1.]\n",
      " [ 1.  1.  1.]\n",
      " [ 1.  0.  1.]\n",
      " [ 1.  0.  1.]\n",
      " [ 1.  1.  1.]]\n",
      "[[-3.07199514  5.0220693 ]\n",
      " [ 9.54417571  3.59640607]\n",
      " [ 1.1894611  -8.60276614]]\n"
     ]
    }
   ],
   "source": [
    "np.random.seed(43141) \n",
    "\n",
    "Num_samples = 500 # sample size\n",
    "D = 2 # dimension\n",
    "# so X will be a N\\times D matrix\n",
    "\n",
    "K_inf = 3 # take to be large for a good approximation to the IBP\n",
    "\n",
    "\n",
    "alpha = 10 # IBP parameter\n",
    "Pi = np.ones(K_inf) * .8\n",
    "Z = np.zeros([Num_samples,K_inf])\n",
    "\n",
    "# Parameters to draw A from MVN\n",
    "mu = np.zeros(D)\n",
    "sigma_A = 100\n",
    "\n",
    "sigma_eps = .1 # variance of noise\n",
    "\n",
    "# Draw Z from truncated stick breaking process\n",
    "for k in range(K_inf):\n",
    "    # Pi[k] = np.random.beta(alpha/K_inf,1)\n",
    "    for n in range(Num_samples):\n",
    "        Z[n,k] = np.random.binomial(1,Pi[k])\n",
    "\n",
    "        \n",
    "print('true Z (first 10 rows): \\n', Z[0:10,:])\n",
    "\n",
    "# Draw A from multivariate normal\n",
    "# A = np.random.multivariate_normal(mu, sigma_A*np.identity(D), K_inf) # FOR SOME REASONG THIS KILLS THE KERNEL!?\n",
    "A = np.random.normal(0, np.sqrt(sigma_A), (K_inf, D))\n",
    "print(A)\n",
    "\n",
    "# draw noise\n",
    "# epsilon = np.random.multivariate_normal(np.zeros(D), sigma_eps*np.identity(D), Num_samples)\n",
    "epsilon = np.random.normal(0, sigma_eps, (Num_samples, D))\n",
    "\n",
    "# the observed data\n",
    "X = np.dot(Z,A) + epsilon\n"
   ]
  },
  {
   "cell_type": "markdown",
   "metadata": {},
   "source": [
    "# set initializations"
   ]
  },
  {
   "cell_type": "code",
   "execution_count": 25,
   "metadata": {
    "collapsed": true
   },
   "outputs": [],
   "source": [
    "K_approx = deepcopy(K_inf) # variational truncation\n",
    "\n",
    "tau = np.random.uniform(0,1,[K_approx,2]) # tau1, tau2 -- beta parameters for v\n",
    "#tau = np.ones([K_approx,2])*1000\n",
    "#tau[:,1] = (tau[:,0] - Pi*tau[:,0])/Pi\n",
    "\n",
    "#nu = np.ones([Num_samples, K_approx]) *0.0\n",
    "nu =  np.random.uniform(0,1,[Num_samples,K_approx]) # Bernoulli parameter for z_nk\n",
    "#nu = deepcopy(Z)\n",
    "\n",
    "phi_mu = np.random.normal(0,1,[D,K_approx]) # kth mean (D dim vector) in kth column\n",
    "#phi_mu = deepcopy(A).T\n",
    "phi_var = np.ones(K_approx)\n",
    "\n",
    "nu_init = np.round(nu*(nu>=0.9) + nu*(nu<=0.1)) + nu*(nu>=0.1)*(nu<=0.9)\n",
    "\n",
    "iterations = 1000\n",
    "elbo = np.zeros(iterations)\n",
    "elbo_Term1 = np.zeros(iterations)\n",
    "elbo_Term2 = np.zeros(iterations)\n",
    "elbo_Term3 = np.zeros(iterations)\n",
    "elbo_Term4 = np.zeros(iterations)\n",
    "elbo_Term5 = np.zeros(iterations)\n",
    "elbo_Term6 = np.zeros(iterations)\n",
    "elbo_Term7 = np.zeros(iterations)\n",
    "\n",
    "\n",
    "Data_shape = {'D':D, 'N': Num_samples , 'K':K_approx}\n",
    "sigmas = {'eps': sigma_eps, 'A': sigma_A}\n"
   ]
  },
  {
   "cell_type": "code",
   "execution_count": 26,
   "metadata": {
    "collapsed": true
   },
   "outputs": [],
   "source": [
    "def add_noise_to_phi(phi_mu, noise_scale):\n",
    "    phi_mu = phi_mu + np.random.normal(0, noise_scale, phi_mu.shape)"
   ]
  },
  {
   "cell_type": "markdown",
   "metadata": {},
   "source": [
    "# run CAVI"
   ]
  },
  {
   "cell_type": "code",
   "execution_count": 27,
   "metadata": {
    "collapsed": false
   },
   "outputs": [
    {
     "name": "stdout",
     "output_type": "stream",
     "text": [
      "iteration:  0  l1 error:  0.363000657444 elbo:  -40938.989234\n",
      "iteration:  1  l1 error:  0.333998637389 elbo:  -23169.6692561\n",
      "iteration:  2  l1 error:  0.326000149186 elbo:  -18185.9672894\n",
      "iteration:  3  l1 error:  0.326 elbo:  -14918.5349993\n",
      "iteration:  4  l1 error:  0.326 elbo:  -12912.9684797\n",
      "iteration:  5  l1 error:  0.326000006456 elbo:  -11702.3946979\n",
      "iteration:  6  l1 error:  0.331346696597 elbo:  -10624.3447613\n",
      "iteration:  7  l1 error:  0.331999139625 elbo:  -9946.72398379\n",
      "iteration:  8  l1 error:  0.325321603262 elbo:  -9321.32271027\n",
      "iteration:  9  l1 error:  0.322000000263 elbo:  -8710.85616358\n",
      "iteration:  10  l1 error:  0.322 elbo:  -8361.80664557\n",
      "iteration:  11  l1 error:  0.322 elbo:  -8152.52633174\n",
      "iteration:  12  l1 error:  0.322 elbo:  -8029.60988677\n"
     ]
    },
    {
     "name": "stderr",
     "output_type": "stream",
     "text": [
      "/home/runjing_liu/Documents/Variational_BNP_robustness/Finite_approx/valez_finite_VI_lib.py:87: RuntimeWarning: overflow encountered in exp\n",
      "  nu[n,k] = 1./(1.+np.exp(-script_V))\n"
     ]
    },
    {
     "name": "stdout",
     "output_type": "stream",
     "text": [
      "iteration:  13  l1 error:  0.322 elbo:  -7957.65614357\n",
      "iteration:  14  l1 error:  0.322 elbo:  -7915.55624768\n",
      "iteration:  15  l1 error:  0.322 elbo:  -7890.92555778\n",
      "iteration:  16  l1 error:  0.322 elbo:  -7876.51544536\n",
      "iteration:  17  l1 error:  0.322 elbo:  -7868.08486533\n",
      "iteration:  18  l1 error:  0.322 elbo:  -7863.15258858\n",
      "iteration:  19  l1 error:  0.322 elbo:  -7860.26698013\n",
      "iteration:  20  l1 error:  0.322 elbo:  -7858.57876664\n",
      "iteration:  21  l1 error:  0.322 elbo:  -7857.59108421\n",
      "iteration:  22  l1 error:  0.322 elbo:  -7857.01324463\n",
      "iteration:  23  l1 error:  0.322 elbo:  -7856.67518193\n",
      "iteration:  24  l1 error:  0.322 elbo:  -7856.47739972\n",
      "iteration:  25  l1 error:  0.322 elbo:  -7856.36168805\n",
      "iteration:  26  l1 error:  0.322 elbo:  -7856.2939914\n",
      "iteration:  27  l1 error:  0.322 elbo:  -7856.25438576\n",
      "iteration:  28  l1 error:  0.322 elbo:  -7856.23121463\n",
      "iteration:  29  l1 error:  0.322 elbo:  -7856.21765846\n",
      "iteration:  30  l1 error:  0.322 elbo:  -7856.20972748\n",
      "iteration:  31  l1 error:  0.322 elbo:  -7856.20508749\n",
      "iteration:  32  l1 error:  0.322 elbo:  -7856.20237289\n",
      "iteration:  33  l1 error:  0.322 elbo:  -7856.20078472\n",
      "iteration:  34  l1 error:  0.322 elbo:  -7856.19985556\n",
      "iteration:  35  l1 error:  0.322 elbo:  -7856.19931197\n",
      "iteration:  36  l1 error:  0.322 elbo:  -7856.19899394\n",
      "iteration:  37  l1 error:  0.322 elbo:  -7856.19880788\n",
      "iteration:  38  l1 error:  0.322 elbo:  -7856.19869902\n",
      "iteration:  39  l1 error:  0.322 elbo:  -7856.19863534\n",
      "iteration:  40  l1 error:  0.322 elbo:  -7856.19859808\n",
      "iteration:  41  l1 error:  0.322 elbo:  -7856.19857628\n",
      "iteration:  42  l1 error:  0.322 elbo:  -7856.19856353\n",
      "iteration:  43  l1 error:  0.322 elbo:  -7856.19855607\n",
      "iteration:  44  l1 error:  0.322 elbo:  -7856.1985517\n",
      "iteration:  45  l1 error:  0.322 elbo:  -7856.19854915\n",
      "iteration:  46  l1 error:  0.322 elbo:  -7856.19854765\n",
      "iteration:  47  l1 error:  0.322 elbo:  -7856.19854678\n",
      "iteration:  48  l1 error:  0.322 elbo:  -7856.19854627\n",
      "iteration:  49  l1 error:  0.322 elbo:  -7856.19854597\n",
      "iteration:  50  l1 error:  0.322 elbo:  -7856.19854579\n",
      "iteration:  51  l1 error:  0.322 elbo:  -7856.19854569\n",
      "iteration:  52  l1 error:  0.322 elbo:  -7856.19854563\n",
      "iteration:  53  l1 error:  0.322 elbo:  -7856.1985456\n",
      "iteration:  54  l1 error:  0.322 elbo:  -7856.19854558\n",
      "iteration:  55  l1 error:  0.322 elbo:  -7856.19854556\n",
      "iteration:  56  l1 error:  0.322 elbo:  -7856.19854556\n",
      "ELBO converged\n"
     ]
    }
   ],
   "source": [
    " \n",
    "for i in range(iterations):\n",
    "    iter_ran = i + 1\n",
    "\n",
    "    cavi_updates(tau, nu, phi_mu, phi_var, X, alpha, sigmas)\n",
    "\n",
    "    round_nu = np.round(nu*(nu>=0.9) + nu*(nu<=0.1)) + nu*(nu>=0.1)*(nu<=0.9)\n",
    "\n",
    "    [elbo[i],elbo_Term1[i],elbo_Term2[i],elbo_Term3[i],elbo_Term4[i],elbo_Term5[i],elbo_Term6[i],elbo_Term7[i]] \\\n",
    "    = compute_elbo(tau, nu, phi_mu, phi_var, X, sigmas, Data_shape, alpha)\n",
    "\n",
    "    print('iteration: ', i, ' l1 error: ', np.sum(abs(Z-nu))/np.size(Z[:]), 'elbo: ', elbo[i])\n",
    "    #print(round_nu[0:10,:])\n",
    "\n",
    "    if np.isnan(elbo[i]):\n",
    "        print('NAN ELBO.')\n",
    "        break\n",
    "\n",
    "    if (i>0) & (elbo[i] < elbo[i-1]): \n",
    "        print('elbo decreased!  Difference: ', elbo[i] - elbo[i-1])\n",
    "        break\n",
    "\n",
    "    if np.abs(elbo[i]-elbo[i-1]) <= 10**(-8):\n",
    "        print('ELBO converged')\n",
    "        break\n",
    "    "
   ]
  },
  {
   "cell_type": "code",
   "execution_count": 28,
   "metadata": {
    "collapsed": false
   },
   "outputs": [
    {
     "name": "stdout",
     "output_type": "stream",
     "text": [
      "Z \n",
      " [[ 1.  1.  1.]\n",
      " [ 1.  1.  1.]\n",
      " [ 1.  1.  1.]\n",
      " [ 1.  1.  1.]\n",
      " [ 1.  0.  1.]\n",
      " [ 1.  1.  1.]\n",
      " [ 1.  1.  1.]\n",
      " [ 1.  0.  1.]\n",
      " [ 1.  0.  1.]\n",
      " [ 1.  1.  1.]]\n",
      "round_nu \n",
      " [[ 0.  1.  1.]\n",
      " [ 0.  1.  1.]\n",
      " [ 0.  1.  1.]\n",
      " [ 0.  1.  1.]\n",
      " [ 1.  0.  0.]\n",
      " [ 0.  1.  1.]\n",
      " [ 0.  1.  1.]\n",
      " [ 1.  0.  0.]\n",
      " [ 1.  0.  0.]\n",
      " [ 0.  1.  1.]]\n",
      "[  5.84000000e-001   3.63684089e-156   9.80000000e-002]\n",
      "[2 1 2]\n",
      "Z permuted \n",
      " [[ 1.  1.  1.]\n",
      " [ 1.  1.  1.]\n",
      " [ 1.  1.  1.]\n",
      " [ 1.  1.  1.]\n",
      " [ 1.  0.  1.]\n",
      " [ 1.  1.  1.]\n",
      " [ 1.  1.  1.]\n",
      " [ 1.  0.  1.]\n",
      " [ 1.  0.  1.]\n",
      " [ 1.  1.  1.]]\n",
      "true A\n",
      " [[-3.07199514  5.0220693 ]\n",
      " [ 9.54417571  3.59640607]\n",
      " [ 1.1894611  -8.60276614]]\n",
      "phi_mu\n",
      " [[ 0.82403359 -4.35890796]\n",
      " [ 6.73513618  8.5429907 ]\n",
      " [ 1.34744868 -8.64964019]]\n"
     ]
    },
    {
     "data": {
      "image/png": "[encoded data removed]",
      "text/plain": [
       "<matplotlib.figure.Figure at 0x7fd0e8b914e0>"
      ]
     },
     "metadata": {},
     "output_type": "display_data"
    }
   ],
   "source": [
    "Pi_computed = tau[:,0]/(tau[:,0] + tau[:,1])\n",
    "print('Z \\n', Z[0:10,:])\n",
    "print('round_nu \\n', round_nu[0:10,:])\n",
    "\n",
    "# Print the minimizing permutation.\n",
    "accuracy_mat = [[ np.sum(np.abs(Z[:, i] - nu[:, j]))/Num_samples for i in range(K_inf) ]\n",
    "                  for j in range(K_inf) ]\n",
    "\n",
    "print(np.min(accuracy_mat, 1))\n",
    "print(np.argmin(accuracy_mat, 1))\n",
    "\n",
    "print('Z permuted \\n', Z[0:10,np.argmin(accuracy_mat, 1)])\n",
    "\n",
    "print('true A\\n', A)\n",
    "print('phi_mu\\n', phi_mu.transpose())\n",
    "\n",
    "plt.clf()\n",
    "plt.plot(elbo[:iter_ran])\n",
    "plt.xlabel('iteration')\n",
    "plt.ylabel('elbo')\n",
    "plt.show()"
   ]
  },
  {
   "cell_type": "code",
   "execution_count": 112,
   "metadata": {
    "collapsed": false
   },
   "outputs": [
    {
     "data": {
      "image/png": "[encoded data removed]",
      "text/plain": [
       "<matplotlib.figure.Figure at 0x7f26daae74d0>"
      ]
     },
     "metadata": {},
     "output_type": "display_data"
    }
   ],
   "source": [
    "pred_x = np.dot(nu, phi_mu.transpose())\n",
    "col = 1\n",
    "plt.clf()\n",
    "plt.plot(pred_x[:, col], X[:, col], 'ko')\n",
    "plt.show()"
   ]
  },
  {
   "cell_type": "code",
   "execution_count": 109,
   "metadata": {
    "collapsed": false,
    "scrolled": true
   },
   "outputs": [
    {
     "name": "stdout",
     "output_type": "stream",
     "text": [
      "0.9566\n",
      "0.1538\n",
      "0.706\n"
     ]
    }
   ],
   "source": [
    "# let us permute the columms of nu and then compare: \n",
    "nu_perm = nu[:, (1,2,0)]\n",
    "round_nu_perm = np.round(nu_perm*(nu_perm>=0.9) + nu_perm*(nu_perm<=0.1)) + nu_perm*(nu_perm>=0.1)*(nu_perm<=0.9)\n",
    "\n",
    "print(np.sum(np.abs(Z[:,0] - nu_perm[:,0]))/Num_samples)\n",
    "print(np.sum(np.abs(Z[:,1] - nu_perm[:,1]))/Num_samples)\n",
    "print(np.sum(np.abs(Z[:,2] - nu_perm[:,2]))/Num_samples)\n",
    "\n",
    "# so two of the rows are really close ..."
   ]
  }
 ],
 "metadata": {
  "anaconda-cloud": {},
  "kernelspec": {
   "display_name": "Python 3",
   "language": "python",
   "name": "python3"
  },
  "language_info": {
   "codemirror_mode": {
    "name": "ipython",
    "version": 3
   },
   "file_extension": ".py",
   "mimetype": "text/x-python",
   "name": "python",
   "nbconvert_exporter": "python",
   "pygments_lexer": "ipython3",
   "version": "3.6.0"
  }
 },
 "nbformat": 4,
 "nbformat_minor": 1
}
