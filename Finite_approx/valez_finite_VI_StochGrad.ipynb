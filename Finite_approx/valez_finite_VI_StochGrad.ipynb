{
 "cells": [
  {
   "cell_type": "markdown",
   "metadata": {},
   "source": [
    "# Variational inference in the IBP using the finite approximation\n",
    "\n",
    "trying stochastic gradient"
   ]
  },
  {
   "cell_type": "code",
   "execution_count": 41,
   "metadata": {
    "collapsed": false
   },
   "outputs": [],
   "source": [
    "#import numpy as np\n",
    "#import scipy as sp\n",
    "from autograd import grad, hessian, jacobian, hessian_vector_product\n",
    "import autograd.numpy as np\n",
    "import autograd.scipy as sp\n",
    "\n",
    "\n",
    "import matplotlib.pyplot as plt\n",
    "from copy import deepcopy\n",
    "\n",
    "from valez_finite_VI_lib import *\n"
   ]
  },
  {
   "cell_type": "markdown",
   "metadata": {},
   "source": [
    "# Define stochastic gradient"
   ]
  },
  {
   "cell_type": "code",
   "execution_count": 138,
   "metadata": {
    "collapsed": false
   },
   "outputs": [],
   "source": [
    "def unravel_pars(pars, D, K, N): \n",
    "    # takes the concantenated list of phi_mu, phi_var, tau, nu, and returns the original arrays\n",
    "    \n",
    "    assert len(pars) == (D*K + K + 2*K + N*K)\n",
    "    \n",
    "    phi_mu = np.reshape(pars[0:D*K], (D, K))\n",
    "    phi_var = pars[D*K:D*K+K]\n",
    "    tau = np.reshape(pars[D*K+K:D*K+3*K], (K,2) )\n",
    "    nu = np.reshape(pars[D*K+3*K:], (N,K))\n",
    "    \n",
    "    return(phi_mu, phi_var, tau, nu)\n",
    "\n",
    "\n",
    "def SGD_elbo(pars, X_approx, sigmas, alpha, K, N_obs): \n",
    "    # this function takes the concantenated form of phi_mu, phi_var, tau, nu_approx and passes it to compute_elbo\n",
    "    # note it takes the subsampled version of X and nu\n",
    "    # moreover, it incorporates the normalizing constant needed for SGD\n",
    "    \n",
    "    N_approx = np.shape(X_approx)[0]\n",
    "    D = np.shape(X_approx)[1]\n",
    "    \n",
    "    [phi_mu, phi_var, tau, nu_approx] = unravel_pars(pars, D, K, N_approx)\n",
    "\n",
    "    assert np.shape(X_approx)[0] == np.shape(nu_approx)[0]\n",
    "    assert np.shape(X_approx)[1] == np.shape(phi_mu)[0]\n",
    "    assert np.shape(nu_approx)[1] == np.shape(phi_mu)[1]\n",
    "    assert np.shape(tau)[0] == np.shape(nu_approx)[1]\n",
    "\n",
    "    #[tmp, elbo_term1, elbo_term2, elbo_term3, elbo_term4, elbo_term5, elbo_term6, elbo_term7] \\\n",
    "    #    = compute_elbo(tau, nu_approx, phi_mu, phi_var, X_approx, sigmas, alpha)\n",
    "    \n",
    "    \n",
    "    elbo_term1 = compute_elbo(tau, nu_approx, phi_mu, phi_var, X_approx, sigmas, alpha)[1]\n",
    "    elbo_term2 = compute_elbo(tau, nu_approx, phi_mu, phi_var, X_approx, sigmas, alpha)[2]\n",
    "    elbo_term3 = compute_elbo(tau, nu_approx, phi_mu, phi_var, X_approx, sigmas, alpha)[3]\n",
    "    elbo_term4 = compute_elbo(tau, nu_approx, phi_mu, phi_var, X_approx, sigmas, alpha)[4]\n",
    "    elbo_term5 = compute_elbo(tau, nu_approx, phi_mu, phi_var, X_approx, sigmas, alpha)[5]\n",
    "    elbo_term6 = compute_elbo(tau, nu_approx, phi_mu, phi_var, X_approx, sigmas, alpha)[6]\n",
    "    elbo_term7 = compute_elbo(tau, nu_approx, phi_mu, phi_var, X_approx, sigmas, alpha)[7]\n",
    "    \n",
    "    # rescale terms 2, 4, and 7\n",
    "    SGD_constant = N_obs/N_approx\n",
    "    \n",
    "    elbo = elbo_term1 + SGD_constant * elbo_term2 + elbo_term3 + SGD_constant * elbo_term4 \\\n",
    "        + elbo_term5 + elbo_term6 + SGD_constant * elbo_term7\n",
    "        \n",
    "    return(elbo)\n",
    "\n",
    "def stoch_grad(tau, nu, phi_mu, phi_var, X, sigmas, alpha, N_approx, max_iter=1000): \n",
    "    N_obs = np.shape(X)[0]\n",
    "    K = np.shape(nu)[1]\n",
    "    D = np.shape(X)[1]\n",
    "    \n",
    "    pars_all = np.concatenate((phi_mu.flatten(), \\\n",
    "       phi_var, \\\n",
    "       tau.flatten(), \\\n",
    "       nu.flatten())) \n",
    "    \n",
    "    elbo = []\n",
    "    \n",
    "    stepsize = .05\n",
    "    \n",
    "    for i in range(max_iter):\n",
    "        \n",
    "        nu_copy = deepcopy(nu)\n",
    "        phi_mu_copy = deepcopy(phi_mu)\n",
    "        tau_copy = deepcopy(tau)\n",
    "        \n",
    "        # subsample data\n",
    "        #index = np.random.choice(N_obs, N_approx, replace = False)\n",
    "        index = np.arange(N_obs)\n",
    "        X_approx = X[index, :]\n",
    "        nu_approx = nu[index, :]\n",
    "                \n",
    "        assert np.shape(X_approx)[0] == np.shape(nu_approx)[0]\n",
    "        assert np.shape(X_approx)[1] == np.shape(phi_mu)[0]\n",
    "        assert np.shape(nu_approx)[1] == np.shape(phi_mu)[1]\n",
    "\n",
    "        pars_approx = np.concatenate((phi_mu.flatten(), \\\n",
    "                               phi_var, \\\n",
    "                               tau.flatten(), \\\n",
    "                               nu_approx.flatten())) # \n",
    "        \n",
    "        # compute (stochastic) gradient -- note we are using nu_approx and X_approx\n",
    "        d_elbo = grad(SGD_elbo,0)\n",
    "        \n",
    "        #print(pars_approx)\n",
    "        #print(d_elbo(pars_approx, X_approx, sigmas, alpha, K, N_obs))\n",
    "        \n",
    "        # update parameters                            \n",
    "        pars_approx += stepsize * d_elbo(pars_approx, X_approx, sigmas, alpha, K, N_obs)\n",
    "        \n",
    "        \n",
    "        [phi_mu, phi_var, tau, nu_approx] = unravel_pars(pars_approx, D,K,N_approx)\n",
    "        \n",
    "        \n",
    "        tau[tau<0] = 0\n",
    "        nu_approx[nu_approx>1] = 1\n",
    "        nu_approx[nu_approx<0] = 0\n",
    "    \n",
    "        nu[index, :] = nu_approx\n",
    "        \n",
    "        elbo.append(compute_elbo(tau, nu, phi_mu, phi_var, X, sigmas, alpha)[0])\n",
    "        print('iteration: ', i, 'elbo: ', elbo[i])\n",
    "        print(np.abs(np.sum(nu[:] - nu_copy[:])))\n",
    "        print(np.abs(np.sum(phi_mu[:] - phi_mu_copy[:])))\n",
    "        print(np.abs(np.sum(tau[:] - tau_copy[:])))\n",
    "        \n",
    "        #if ((i>0) and np.abs(elbo[i]-elbo[i-1]) <= 10**(-8)):\n",
    "        #    print('elbo converged')\n",
    "            \n",
    "\n",
    "        \n",
    "    return(phi_mu, phi_var, tau, nu, elbo)\n",
    "    "
   ]
  },
  {
   "cell_type": "code",
   "execution_count": 139,
   "metadata": {
    "collapsed": false
   },
   "outputs": [
    {
     "name": "stdout",
     "output_type": "stream",
     "text": [
      "[2]\n"
     ]
    }
   ],
   "source": [
    "'''\n",
    "N = np.shape(X)[0]\n",
    "K = np.shape(nu)[1]\n",
    "D = np.shape(X)[1]\n",
    "print(D,K,N)\n",
    "print(phi_mu)\n",
    "print(phi_var)\n",
    "print(tau)\n",
    "\n",
    "pars = np.concatenate((phi_mu.flatten(), \\\n",
    "                       phi_var.flatten(), \\\n",
    "                       tau.flatten(), \\\n",
    "                       nu.flatten()))\n",
    "#print(pars)\n",
    "phi_mu_test = np.reshape(pars[0:D*K], (D, K))\n",
    "phi_var_test = pars[D*K : D*K+K]\n",
    "tau_test = np.reshape(pars[D*K+K:D*K+3*K], (K,2) )\n",
    "nu = np.reshape(pars[D*K+3*K:], (N,K))\n",
    "print('\\n')\n",
    "print(phi_mu_test)\n",
    "print(phi_var_test)\n",
    "print(tau_test)\n",
    "\n",
    "assert np.shape(X)[0] == np.shape(nu)[0]\n",
    "assert np.shape(X)[1] == np.shape(phi_mu)[0]\n",
    "assert np.shape(nu)[1] == np.shape(phi_mu)[1]\n",
    "assert np.shape(tau)[0] == np.shape(nu)[1]\n",
    "\n",
    "'''\n",
    "a = []\n",
    "a.append(2)\n",
    "print(a)"
   ]
  },
  {
   "cell_type": "markdown",
   "metadata": {},
   "source": [
    "# Draw data"
   ]
  },
  {
   "cell_type": "code",
   "execution_count": 140,
   "metadata": {
    "collapsed": false
   },
   "outputs": [
    {
     "name": "stdout",
     "output_type": "stream",
     "text": [
      "true Z (first 10 rows): \n",
      " [[ 1.  0.  1.]\n",
      " [ 0.  1.  0.]\n",
      " [ 1.  1.  1.]\n",
      " [ 1.  1.  0.]]\n",
      "[[ -2.95836644  -8.38365709]\n",
      " [  9.56099935  -5.36382728]\n",
      " [  3.6818894   21.55513128]]\n"
     ]
    }
   ],
   "source": [
    "#np.random.seed(43141) \n",
    "np.random.seed(4132) \n",
    "\n",
    "N_obs = 4 # sample size\n",
    "D = 2 # dimension\n",
    "# so X will be a N\\times D matrix\n",
    "\n",
    "K_inf = 3 # take to be large for a good approximation to the IBP\n",
    "\n",
    "\n",
    "alpha = 10 # IBP parameter\n",
    "Pi = np.ones(K_inf) * .8\n",
    "Z = np.zeros([N_obs,K_inf])\n",
    "\n",
    "# Parameters to draw A from MVN\n",
    "mu = np.zeros(D)\n",
    "sigma_A = 100\n",
    "\n",
    "sigma_eps = .1 # variance of noise\n",
    "\n",
    "# Draw Z from truncated stick breaking process\n",
    "for k in range(K_inf):\n",
    "    # Pi[k] = np.random.beta(alpha/K_inf,1)\n",
    "    for n in range(N_obs):\n",
    "        Z[n,k] = np.random.binomial(1,Pi[k])\n",
    "\n",
    "        \n",
    "print('true Z (first 10 rows): \\n', Z[0:10,:])\n",
    "\n",
    "# Draw A from multivariate normal\n",
    "# A = np.random.multivariate_normal(mu, sigma_A*np.identity(D), K_inf) # FOR SOME REASONG THIS KILLS THE KERNEL!?\n",
    "A = np.random.normal(0, np.sqrt(sigma_A), (K_inf, D))\n",
    "print(A)\n",
    "\n",
    "# draw noise\n",
    "# epsilon = np.random.multivariate_normal(np.zeros(D), sigma_eps*np.identity(D), N_obs)\n",
    "epsilon = np.random.normal(0, sigma_eps, (N_obs, D))\n",
    "\n",
    "# the observed data\n",
    "X = np.dot(Z,A) + epsilon\n"
   ]
  },
  {
   "cell_type": "markdown",
   "metadata": {},
   "source": [
    "# set initializations"
   ]
  },
  {
   "cell_type": "code",
   "execution_count": 141,
   "metadata": {
    "collapsed": true
   },
   "outputs": [],
   "source": [
    "K_approx = deepcopy(K_inf) # variational truncation\n",
    "\n",
    "tau = np.random.uniform(0,1,[K_approx,2]) # tau1, tau2 -- beta parameters for v\n",
    "#tau = np.ones([K_approx,2])*1000\n",
    "#tau[:,1] = (tau[:,0] - Pi*tau[:,0])/Pi\n",
    "\n",
    "#nu = np.ones([N_obs, K_approx]) *0.0\n",
    "nu =  np.random.uniform(0,1,[N_obs,K_approx]) # Bernoulli parameter for z_nk\n",
    "#nu = deepcopy(Z)\n",
    "\n",
    "phi_mu = np.random.normal(0,1,[D,K_approx]) # kth mean (D dim vector) in kth column\n",
    "#phi_mu = deepcopy(A).T\n",
    "phi_var = np.ones(K_approx)\n",
    "\n",
    "nu_init = np.round(nu*(nu>=0.9) + nu*(nu<=0.1)) + nu*(nu>=0.1)*(nu<=0.9)\n",
    "\n",
    "iterations = 1000\n",
    "\n",
    "sigmas = {'eps': sigma_eps, 'A': sigma_A}\n"
   ]
  },
  {
   "cell_type": "markdown",
   "metadata": {},
   "source": [
    "# run SGD"
   ]
  },
  {
   "cell_type": "code",
   "execution_count": 142,
   "metadata": {
    "collapsed": false
   },
   "outputs": [
    {
     "name": "stdout",
     "output_type": "stream",
     "text": [
      "1\n"
     ]
    }
   ],
   "source": [
    "np.array([i for i in range(5)])\n",
    "print(0**0)"
   ]
  },
  {
   "cell_type": "code",
   "execution_count": 143,
   "metadata": {
    "collapsed": false,
    "scrolled": true
   },
   "outputs": [
    {
     "name": "stderr",
     "output_type": "stream",
     "text": [
      "/home/runjing_liu/anaconda3/lib/python3.6/site-packages/autograd/core.py:69: RuntimeWarning: invalid value encountered in log\n",
      "  result_value = self.fun(*argvals, **kwargs)\n",
      "/home/runjing_liu/Documents/BNP/Variational_BNP_robustness/Finite_approx/valez_finite_VI_lib.py:145: RuntimeWarning: invalid value encountered in double_scalars\n",
      "  digamma_tau[k,1] - digamma_sum_tau[k]\n",
      "/home/runjing_liu/anaconda3/lib/python3.6/site-packages/autograd/core.py:69: RuntimeWarning: invalid value encountered in multiply\n",
      "  result_value = self.fun(*argvals, **kwargs)\n",
      "/home/runjing_liu/anaconda3/lib/python3.6/site-packages/autograd/scipy/special.py:20: RuntimeWarning: invalid value encountered in multiply\n",
      "  digamma.defvjp(  lambda g, ans, vs, gvs, x: g * polygamma(1, x))\n",
      "/home/runjing_liu/anaconda3/lib/python3.6/site-packages/autograd/core.py:199: RuntimeWarning: invalid value encountered in add\n",
      "  x += y\n",
      "/home/runjing_liu/anaconda3/lib/python3.6/site-packages/ipykernel/__main__.py:90: RuntimeWarning: invalid value encountered in less\n",
      "/home/runjing_liu/anaconda3/lib/python3.6/site-packages/autograd/core.py:69: RuntimeWarning: invalid value encountered in absolute\n",
      "  result_value = self.fun(*argvals, **kwargs)\n"
     ]
    },
    {
     "name": "stdout",
     "output_type": "stream",
     "text": [
      "iteration:  0 elbo:  nan\n",
      "0.440323421853\n",
      "21.2538146843\n",
      "237.974288985\n",
      "iteration:  1 elbo:  nan\n",
      "3.89544561152\n",
      "21.4358848712\n",
      "nan\n",
      "iteration:  2 elbo:  nan"
     ]
    },
    {
     "name": "stderr",
     "output_type": "stream",
     "text": [
      "/home/runjing_liu/anaconda3/lib/python3.6/site-packages/ipykernel/__main__.py:91: RuntimeWarning: invalid value encountered in greater\n",
      "/home/runjing_liu/anaconda3/lib/python3.6/site-packages/ipykernel/__main__.py:92: RuntimeWarning: invalid value encountered in less\n"
     ]
    },
    {
     "name": "stdout",
     "output_type": "stream",
     "text": [
      "\n",
      "nan\n",
      "29.2459403121\n",
      "nan\n",
      "iteration:  3 elbo:  nan\n",
      "nan\n",
      "nan\n",
      "nan\n",
      "iteration:  4 elbo:  nan\n",
      "nan\n",
      "nan\n",
      "nan\n",
      "iteration:  5 elbo:  nan\n",
      "nan\n",
      "nan\n",
      "nan\n",
      "iteration:  6 elbo:  nan\n",
      "nan\n",
      "nan\n",
      "nan\n",
      "iteration:  7 elbo:  nan\n",
      "nan\n",
      "nan\n",
      "nan\n",
      "iteration:  8 elbo:  nan\n",
      "nan\n",
      "nan\n",
      "nan\n",
      "iteration:  9 elbo:  nan\n",
      "nan\n",
      "nan\n",
      "nan\n"
     ]
    },
    {
     "data": {
      "image/png": "[encoded data removed]",
      "text/plain": [
       "<matplotlib.figure.Figure at 0x7f2f13a74cf8>"
      ]
     },
     "metadata": {},
     "output_type": "display_data"
    },
    {
     "name": "stdout",
     "output_type": "stream",
     "text": [
      "[[ nan  nan  nan]\n",
      " [ nan  nan  nan]\n",
      " [ nan  nan  nan]\n",
      " [ nan  nan  nan]]\n"
     ]
    }
   ],
   "source": [
    "N_approx = N_obs\n",
    "# print(N_approx)\n",
    "[phi_mu, phi_var, tau, nu, elbo] = stoch_grad(tau, nu, phi_mu, phi_var, X, sigmas, alpha, N_approx, 10)\n",
    "\n",
    "plt.plot(elbo)\n",
    "plt.show()\n",
    "\n",
    "print(nu)\n"
   ]
  },
  {
   "cell_type": "markdown",
   "metadata": {},
   "source": [
    "# Look at results "
   ]
  },
  {
   "cell_type": "code",
   "execution_count": 137,
   "metadata": {
    "collapsed": false
   },
   "outputs": [
    {
     "name": "stdout",
     "output_type": "stream",
     "text": [
      "Z (unpermuted): \n",
      " [[ 1.  1.  1.]\n",
      " [ 1.  1.  1.]\n",
      " [ 1.  1.  1.]\n",
      " [ 1.  1.  0.]]\n",
      "** procedure did not give a true permutation\n",
      "permutation:  [2, 1, 0]\n",
      "Z (permuted) \n",
      " [[ 1.  1.  1.]\n",
      " [ 1.  1.  1.]\n",
      " [ 1.  1.  1.]\n",
      " [ 0.  1.  1.]]\n",
      "round_nu \n",
      " [[ 0.  0.  0.]\n",
      " [ 0.  0.  0.]\n",
      " [ 0.  0.  0.]\n",
      " [ 0.  0.  0.]]\n",
      "l1 error (after permutation):  [0.75, 1.0, 1.0]\n",
      "\n",
      "\n",
      "true A (permuted): \n",
      " [[ -7.05981612 -13.02391429]\n",
      " [-11.43550446  -5.73532868]\n",
      " [-10.9940743   15.96990485]]\n",
      "phi_mu: \n",
      " [[ 39.05973757  -0.87072419]\n",
      " [ 49.49153633  -0.25928286]\n",
      " [ 48.83415837   4.1999165 ]]\n",
      "\n",
      "\n",
      "true Pi (permuted):  [ 0.8  0.8  0.8]\n",
      "computed Pi:  [ 0.49133875  0.491841    0.49199769]\n"
     ]
    },
    {
     "ename": "NameError",
     "evalue": "name 'iter_ran' is not defined",
     "output_type": "error",
     "traceback": [
      "\u001b[0;31m---------------------------------------------------------------------------\u001b[0m",
      "\u001b[0;31mNameError\u001b[0m                                 Traceback (most recent call last)",
      "\u001b[0;32m<ipython-input-137-f65e5cec486e>\u001b[0m in \u001b[0;36m<module>\u001b[0;34m()\u001b[0m\n\u001b[1;32m     30\u001b[0m \u001b[0mprint\u001b[0m\u001b[0;34m(\u001b[0m\u001b[0;34m'computed Pi: '\u001b[0m\u001b[0;34m,\u001b[0m \u001b[0mPi_computed\u001b[0m\u001b[0;34m)\u001b[0m\u001b[0;34m\u001b[0m\u001b[0m\n\u001b[1;32m     31\u001b[0m \u001b[0mplt\u001b[0m\u001b[0;34m.\u001b[0m\u001b[0mclf\u001b[0m\u001b[0;34m(\u001b[0m\u001b[0;34m)\u001b[0m\u001b[0;34m\u001b[0m\u001b[0m\n\u001b[0;32m---> 32\u001b[0;31m \u001b[0mplt\u001b[0m\u001b[0;34m.\u001b[0m\u001b[0mplot\u001b[0m\u001b[0;34m(\u001b[0m\u001b[0melbo\u001b[0m\u001b[0;34m[\u001b[0m\u001b[0;34m:\u001b[0m\u001b[0miter_ran\u001b[0m\u001b[0;34m]\u001b[0m\u001b[0;34m)\u001b[0m\u001b[0;34m\u001b[0m\u001b[0m\n\u001b[0m\u001b[1;32m     33\u001b[0m \u001b[0mplt\u001b[0m\u001b[0;34m.\u001b[0m\u001b[0mxlabel\u001b[0m\u001b[0;34m(\u001b[0m\u001b[0;34m'iteration'\u001b[0m\u001b[0;34m)\u001b[0m\u001b[0;34m\u001b[0m\u001b[0m\n\u001b[1;32m     34\u001b[0m \u001b[0mplt\u001b[0m\u001b[0;34m.\u001b[0m\u001b[0mylabel\u001b[0m\u001b[0;34m(\u001b[0m\u001b[0;34m'elbo'\u001b[0m\u001b[0;34m)\u001b[0m\u001b[0;34m\u001b[0m\u001b[0m\n",
      "\u001b[0;31mNameError\u001b[0m: name 'iter_ran' is not defined"
     ]
    }
   ],
   "source": [
    "Pi_computed = tau[:,0]/(tau[:,0] + tau[:,1])\n",
    "round_nu = np.round(nu*(nu>=0.9) + nu*(nu<=0.1)) + nu*(nu>=0.1)*(nu<=0.9)\n",
    "print('Z (unpermuted): \\n', Z[0:10])\n",
    "\n",
    "# Find the minimizing permutation.\n",
    "accuracy_mat = [[ np.sum(np.abs(Z[:, i] - nu[:, j]))/N_obs for i in range(K_inf) ]\n",
    "                  for j in range(K_inf) ]\n",
    "perm_tmp = np.argmin(accuracy_mat, 1)\n",
    "\n",
    "if len(perm_tmp) == len(set(perm_tmp)):  # check that we have a true permuation\n",
    "    perm = np.argmin(accuracy_mat, 1)\n",
    "else: \n",
    "    print('** procedure did not give a true permutation')\n",
    "    perm = [0,1,2]\n",
    "perm = [2,1,0]\n",
    "print('permutation: ', perm)\n",
    "    \n",
    "# print Z (permuted) and nu\n",
    "print('Z (permuted) \\n', Z[0:10, perm])\n",
    "print('round_nu \\n', round_nu[0:10,:])\n",
    "\n",
    "print('l1 error (after permutation): ', \\\n",
    "      [ np.sum(np.abs(Z[:, perm[i]] - nu[:, i]))/N_obs for i in range(K_inf) ])\n",
    "\n",
    "print('\\n')\n",
    "print('true A (permuted): \\n', A[perm, :])\n",
    "print('phi_mu: \\n', phi_mu.transpose())\n",
    "\n",
    "print('\\n')\n",
    "print('true Pi (permuted): ', Pi)\n",
    "print('computed Pi: ', Pi_computed)\n",
    "plt.clf()\n",
    "plt.plot(elbo[:iter_ran])\n",
    "plt.xlabel('iteration')\n",
    "plt.ylabel('elbo')\n",
    "plt.show()"
   ]
  },
  {
   "cell_type": "code",
   "execution_count": 112,
   "metadata": {
    "collapsed": false
   },
   "outputs": [
    {
     "data": {
      "image/png": "[encoded data removed]",
      "text/plain": [
       "<matplotlib.figure.Figure at 0x7f26daae74d0>"
      ]
     },
     "metadata": {},
     "output_type": "display_data"
    }
   ],
   "source": [
    "pred_x = np.dot(nu, phi_mu.transpose())\n",
    "col = 1\n",
    "plt.clf()\n",
    "plt.plot(pred_x[:, col], X[:, col], 'ko')\n",
    "plt.show()"
   ]
  }
 ],
 "metadata": {
  "anaconda-cloud": {},
  "kernelspec": {
   "display_name": "Python 3",
   "language": "python",
   "name": "python3"
  },
  "language_info": {
   "codemirror_mode": {
    "name": "ipython",
    "version": 3
   },
   "file_extension": ".py",
   "mimetype": "text/x-python",
   "name": "python",
   "nbconvert_exporter": "python",
   "pygments_lexer": "ipython3",
   "version": "3.6.0"
  }
 },
 "nbformat": 4,
 "nbformat_minor": 1
}
