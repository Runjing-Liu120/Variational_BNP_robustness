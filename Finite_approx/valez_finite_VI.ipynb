{
 "cells": [
  {
   "cell_type": "markdown",
   "metadata": {},
   "source": [
    "# Variational inference using the finite approximation"
   ]
  },
  {
   "cell_type": "code",
   "execution_count": 1,
   "metadata": {
    "collapsed": false
   },
   "outputs": [],
   "source": [
    "import numpy as np\n",
    "import scipy as sp\n",
    "import matplotlib.pyplot as plt\n",
    "from copy import deepcopy\n",
    "\n",
    "from valez_finite_VI_lib import *\n"
   ]
  },
  {
   "cell_type": "markdown",
   "metadata": {},
   "source": [
    "# Draw data"
   ]
  },
  {
   "cell_type": "code",
   "execution_count": 2,
   "metadata": {
    "collapsed": false
   },
   "outputs": [
    {
     "name": "stdout",
     "output_type": "stream",
     "text": [
      "true Z (first 10 rows): \n",
      " [[ 1.  1.  1.]\n",
      " [ 1.  1.  1.]\n",
      " [ 1.  1.  1.]\n",
      " [ 1.  0.  1.]\n",
      " [ 1.  1.  0.]\n",
      " [ 1.  1.  1.]\n",
      " [ 1.  0.  1.]\n",
      " [ 1.  1.  1.]\n",
      " [ 1.  1.  1.]\n",
      " [ 1.  0.  0.]]\n",
      "[[-8.51475909 -6.21216389]\n",
      " [-4.87413607  7.73290799]\n",
      " [-0.6385297  -4.80839596]]\n"
     ]
    }
   ],
   "source": [
    "np.random.seed(12321) # this is a seed where VI works well\n",
    "\n",
    "Num_samples = 500 # sample size\n",
    "D = 2 # dimension\n",
    "# so X will be a N\\times D matrix\n",
    "\n",
    "K_inf = 3 # take to be large for a good approximation to the IBP\n",
    "\n",
    "\n",
    "alpha = 10 # IBP parameter\n",
    "Pi = np.ones(K_inf) * .8\n",
    "Z = np.zeros([Num_samples,K_inf])\n",
    "\n",
    "# Parameters to draw A from MVN\n",
    "mu = np.zeros(D)\n",
    "sigma_A = 100\n",
    "\n",
    "sigma_eps = .1 # variance of noise\n",
    "\n",
    "# Draw Z from truncated stick breaking process\n",
    "for k in range(K_inf):\n",
    "    # Pi[k] = np.random.beta(alpha/K_inf,1)\n",
    "    for n in range(Num_samples):\n",
    "        Z[n,k] = np.random.binomial(1,Pi[k])\n",
    "\n",
    "        \n",
    "print('true Z (first 10 rows): \\n', Z[0:10,:])\n",
    "\n",
    "# Draw A from multivariate normal\n",
    "A = np.random.multivariate_normal(mu, sigma_A*np.identity(D), K_inf)\n",
    "# A = np.array([[10,10], [-10,10]])\n",
    "print(A)\n",
    "\n",
    "# draw noise\n",
    "epsilon = np.random.multivariate_normal(np.zeros(D), sigma_eps*np.identity(D), Num_samples)\n",
    "\n",
    "# the observed data\n",
    "X = np.dot(Z,A) + epsilon\n"
   ]
  },
  {
   "cell_type": "markdown",
   "metadata": {},
   "source": [
    "# set initializations"
   ]
  },
  {
   "cell_type": "code",
   "execution_count": 3,
   "metadata": {
    "collapsed": true
   },
   "outputs": [],
   "source": [
    "K_approx = deepcopy(K_inf) # variational truncation\n",
    "\n",
    "tau = np.random.uniform(0,1,[K_approx,2]) # tau1, tau2 -- beta parameters for v\n",
    "#tau = np.ones([K_approx,2])*1000\n",
    "#tau[:,1] = (tau[:,0] - Pi*tau[:,0])/Pi\n",
    "\n",
    "#nu = np.ones([Num_samples, K_approx]) *0.0\n",
    "nu =  np.random.uniform(0,1,[Num_samples,K_approx]) # Bernoulli parameter for z_nk\n",
    "#nu = deepcopy(Z)\n",
    "\n",
    "phi_mu = np.random.normal(0,1,[D,K_approx]) # kth mean (D dim vector) in kth column\n",
    "#phi_mu = deepcopy(A).T\n",
    "phi_var = np.ones(K_approx)\n",
    "\n",
    "nu_init = np.round(nu*(nu>=0.9) + nu*(nu<=0.1)) + nu*(nu>=0.1)*(nu<=0.9)\n",
    "\n",
    "iterations = 1000\n",
    "elbo = np.zeros(iterations)\n",
    "elbo_Term1 = np.zeros(iterations)\n",
    "elbo_Term2 = np.zeros(iterations)\n",
    "elbo_Term3 = np.zeros(iterations)\n",
    "elbo_Term4 = np.zeros(iterations)\n",
    "elbo_Term5 = np.zeros(iterations)\n",
    "elbo_Term6 = np.zeros(iterations)\n",
    "elbo_Term7 = np.zeros(iterations)\n",
    "\n",
    "\n",
    "Data_shape = {'D':D, 'N': Num_samples , 'K':K_approx}\n",
    "sigmas = {'eps': sigma_eps, 'A': sigma_A}\n"
   ]
  },
  {
   "cell_type": "code",
   "execution_count": 4,
   "metadata": {
    "collapsed": true
   },
   "outputs": [],
   "source": [
    "def add_noise_to_phi(phi_mu, noise_scale):\n",
    "    phi_mu = phi_mu + np.random.normal(0, noise_scale, phi_mu.shape)"
   ]
  },
  {
   "cell_type": "markdown",
   "metadata": {},
   "source": [
    "# run CAVI"
   ]
  },
  {
   "cell_type": "code",
   "execution_count": null,
   "metadata": {
    "collapsed": false
   },
   "outputs": [
    {
     "name": "stdout",
     "output_type": "stream",
     "text": [
      "anneal iteration:  0\n",
      "100.0\n",
      "iteration:  0  l1 error:  0.683945912088\n",
      "elbo:  -3513.67862921\n",
      "iteration:  10  l1 error:  0.560874982998\n",
      "elbo:  -3342.3310616\n",
      "iteration:  20  l1 error:  0.548158262736\n",
      "elbo:  -3340.27000392\n",
      "iteration:  30  l1 error:  0.536089593117\n",
      "elbo:  -3339.12567562\n",
      "iteration:  40  l1 error:  0.524520720505\n",
      "elbo:  -3338.30248044\n",
      "iteration:  50  l1 error:  0.513448630445\n",
      "elbo:  -3337.66937127\n",
      "iteration:  60  l1 error:  0.502860467134\n",
      "elbo:  -3337.16178428\n",
      "iteration:  70  l1 error:  0.492739666651\n",
      "elbo:  -3336.74314174\n",
      "iteration:  80  l1 error:  0.483068320908\n",
      "elbo:  -3336.39071214\n",
      "iteration:  90  l1 error:  0.473828189668\n",
      "elbo:  -3336.08940234\n",
      "iteration:  100  l1 error:  0.465001182584\n",
      "elbo:  -3335.82867914\n",
      "iteration:  110  l1 error:  0.456569603735\n",
      "elbo:  -3335.60090006\n",
      "iteration:  120  l1 error:  0.448516278822\n",
      "elbo:  -3335.40034395\n",
      "iteration:  130  l1 error:  0.44082462006\n",
      "elbo:  -3335.22261667\n",
      "iteration:  140  l1 error:  0.433478656095\n",
      "elbo:  -3335.06427007\n",
      "iteration:  150  l1 error:  0.426463041518\n",
      "elbo:  -3334.92254869\n",
      "iteration:  160  l1 error:  0.419763054092\n",
      "elbo:  -3334.79521585\n",
      "iteration:  170  l1 error:  0.413364584497\n",
      "elbo:  -3334.68043128\n",
      "iteration:  180  l1 error:  0.407254121478\n",
      "elbo:  -3334.57666273\n",
      "iteration:  190  l1 error:  0.401418734222\n",
      "elbo:  -3334.48262106\n",
      "iteration:  200  l1 error:  0.395846053136\n",
      "elbo:  -3334.3972115\n",
      "iteration:  210  l1 error:  0.390524249778\n",
      "elbo:  -3334.3194967\n"
     ]
    }
   ],
   "source": [
    "#add_noise_to_phi(phi_mu, 1.0)\n",
    "sigma_eps_anneal = np.linspace(100, sigma_eps, 10)\n",
    "\n",
    "for j in range(len(sigma_eps_anneal)): \n",
    "    sigmas['eps'] = sigma_eps_anneal[j]\n",
    "    print('anneal iteration: ', j)\n",
    "    print(sigmas['eps'])\n",
    "    \n",
    "    for i in range(iterations):\n",
    "        iter_ran = i + 1\n",
    "        \n",
    "        cavi_updates(tau, nu, phi_mu, phi_var, X, alpha, sigmas)\n",
    "        \n",
    "        '''        \n",
    "        nu_updates(tau, nu, phi_mu, phi_var, X, sigmas,n,k)\n",
    "\n",
    "        phi_updates(nu, phi_mu, phi_var, X, sigmas,k)\n",
    "\n",
    "        tau_updates(tau, nu, alpha)    \n",
    "        '''\n",
    "\n",
    "\n",
    "        # round_nu = np.round(nu*(nu>=0.9) + nu*(nu<=0.1)) + nu*(nu>=0.1)*(nu<=0.9)\n",
    "\n",
    "        [elbo[i],elbo_Term1[i],elbo_Term2[i],elbo_Term3[i],elbo_Term4[i],elbo_Term5[i],elbo_Term6[i],elbo_Term7[i]] \\\n",
    "        = compute_elbo(tau, nu, phi_mu, phi_var, X, sigmas, Data_shape, alpha)\n",
    "\n",
    "        if i%10 ==0:\n",
    "            print('iteration: ', i, ' l1 error: ', np.sum(abs(Z-nu))/np.size(Z[:]))\n",
    "            print('elbo: ', elbo[i])\n",
    "        #print(round_nu[0:10,:])\n",
    "        #print(nu[0:10,:])\n",
    "        #print('l1 error: ', np.sum(abs(Z-nu))/np.size(Z[:]) )\n",
    "\n",
    "        if np.isnan(elbo[i]):\n",
    "            print('NAN ELBO.')\n",
    "            break\n",
    "\n",
    "        if (i>0) & (elbo[i] < elbo[i-1]): \n",
    "            print('elbo decreased!  Difference: ', elbo[i] - elbo[i-1])\n",
    "            break\n",
    "\n",
    "        if np.abs(elbo[i]-elbo[i-1]) <= 10**(-8):\n",
    "            print('ELBO converged')\n",
    "            break\n",
    "    "
   ]
  },
  {
   "cell_type": "code",
   "execution_count": 6,
   "metadata": {
    "collapsed": false
   },
   "outputs": [
    {
     "name": "stdout",
     "output_type": "stream",
     "text": [
      "500\n",
      "3\n"
     ]
    },
    {
     "ename": "AssertionError",
     "evalue": "",
     "output_type": "error",
     "traceback": [
      "\u001b[0;31m---------------------------------------------------------------------------\u001b[0m",
      "\u001b[0;31mAssertionError\u001b[0m                            Traceback (most recent call last)",
      "\u001b[0;32m<ipython-input-6-2a91065a66fc>\u001b[0m in \u001b[0;36m<module>\u001b[0;34m()\u001b[0m\n\u001b[1;32m      1\u001b[0m \u001b[0mprint\u001b[0m\u001b[1;33m(\u001b[0m\u001b[0mnp\u001b[0m\u001b[1;33m.\u001b[0m\u001b[0mshape\u001b[0m\u001b[1;33m(\u001b[0m\u001b[0mX\u001b[0m\u001b[1;33m)\u001b[0m\u001b[1;33m[\u001b[0m\u001b[1;36m0\u001b[0m\u001b[1;33m]\u001b[0m\u001b[1;33m)\u001b[0m\u001b[1;33m\u001b[0m\u001b[0m\n\u001b[1;32m      2\u001b[0m \u001b[0mprint\u001b[0m\u001b[1;33m(\u001b[0m\u001b[0mnp\u001b[0m\u001b[1;33m.\u001b[0m\u001b[0mshape\u001b[0m\u001b[1;33m(\u001b[0m\u001b[0mnu\u001b[0m\u001b[1;33m)\u001b[0m\u001b[1;33m[\u001b[0m\u001b[1;36m1\u001b[0m\u001b[1;33m]\u001b[0m\u001b[1;33m)\u001b[0m\u001b[1;33m\u001b[0m\u001b[0m\n\u001b[0;32m----> 3\u001b[0;31m \u001b[1;32massert\u001b[0m \u001b[0mnp\u001b[0m\u001b[1;33m.\u001b[0m\u001b[0mshape\u001b[0m\u001b[1;33m(\u001b[0m\u001b[0mX\u001b[0m\u001b[1;33m)\u001b[0m\u001b[1;33m[\u001b[0m\u001b[1;36m0\u001b[0m\u001b[1;33m]\u001b[0m \u001b[1;33m==\u001b[0m \u001b[0mnp\u001b[0m\u001b[1;33m.\u001b[0m\u001b[0mshape\u001b[0m\u001b[1;33m(\u001b[0m\u001b[0mnu\u001b[0m\u001b[1;33m)\u001b[0m\u001b[1;33m[\u001b[0m\u001b[1;36m1\u001b[0m\u001b[1;33m]\u001b[0m\u001b[1;33m\u001b[0m\u001b[0m\n\u001b[0m",
      "\u001b[0;31mAssertionError\u001b[0m: "
     ]
    }
   ],
   "source": [
    "print(np.shape(X)[0])\n",
    "print(np.shape(nu)[1])\n",
    "assert np.shape(X)[0] == np.shape(nu)[1]"
   ]
  },
  {
   "cell_type": "code",
   "execution_count": 107,
   "metadata": {
    "collapsed": false
   },
   "outputs": [
    {
     "name": "stdout",
     "output_type": "stream",
     "text": [
      "('Z \\n', array([[ 0.,  1.,  1.],\n",
      "       [ 1.,  1.,  1.],\n",
      "       [ 1.,  1.,  1.],\n",
      "       [ 1.,  1.,  1.],\n",
      "       [ 1.,  1.,  1.],\n",
      "       [ 1.,  1.,  0.],\n",
      "       [ 0.,  1.,  1.],\n",
      "       [ 1.,  0.,  1.],\n",
      "       [ 1.,  1.,  1.],\n",
      "       [ 1.,  1.,  0.]]))\n",
      "('round_nu \\n', array([[ 0.,  1.,  1.],\n",
      "       [ 0.,  0.,  1.],\n",
      "       [ 0.,  0.,  1.],\n",
      "       [ 0.,  0.,  1.],\n",
      "       [ 0.,  0.,  1.],\n",
      "       [ 0.,  0.,  1.],\n",
      "       [ 0.,  1.,  1.],\n",
      "       [ 1.,  0.,  1.],\n",
      "       [ 0.,  0.,  1.],\n",
      "       [ 0.,  0.,  1.]]))\n",
      "[ 0.6374  0.6376  0.1538]\n",
      "[0 1 1]\n",
      "[[-12.78122302   3.71538761]\n",
      " [  8.60462271   9.677958  ]\n",
      " [ -4.74617662   6.36868241]]\n",
      "[[ -8.58505626  -9.75913434]\n",
      " [ 12.73112828  -3.6597321 ]\n",
      " [ -7.94748982  18.46061194]]\n"
     ]
    },
    {
     "data": {
      "image/png": "[encoded data removed]",
      "text/plain": [
       "<matplotlib.figure.Figure at 0x7f26dc032110>"
      ]
     },
     "metadata": {},
     "output_type": "display_data"
    }
   ],
   "source": [
    "Pi_computed = tau[:,0]/(tau[:,0] + tau[:,1])\n",
    "print('Z \\n', Z[0:10,:])\n",
    "print('round_nu \\n', round_nu[0:10,:])\n",
    "\n",
    "# Print the minimizing permutation.\n",
    "accuracy_mat = [[ np.sum(np.abs(Z[:, i] - nu[:, j]))/Num_samples for i in range(K_inf) ]\n",
    "                  for j in range(K_inf) ]\n",
    "print np.min(accuracy_mat, 1)\n",
    "print np.argmin(accuracy_mat, 1)\n",
    "\n",
    "print A\n",
    "print phi_mu.transpose()\n",
    "\n",
    "plt.clf()\n",
    "plt.plot(elbo[:iter_ran])\n",
    "plt.xlabel('iteration')\n",
    "plt.ylabel('elbo')\n",
    "plt.show()"
   ]
  },
  {
   "cell_type": "code",
   "execution_count": 112,
   "metadata": {
    "collapsed": false
   },
   "outputs": [
    {
     "data": {
      "image/png": "[encoded data removed]",
      "text/plain": [
       "<matplotlib.figure.Figure at 0x7f26daae74d0>"
      ]
     },
     "metadata": {},
     "output_type": "display_data"
    }
   ],
   "source": [
    "pred_x = np.dot(nu, phi_mu.transpose())\n",
    "col = 1\n",
    "plt.clf()\n",
    "plt.plot(pred_x[:, col], X[:, col], 'ko')\n",
    "plt.show()"
   ]
  },
  {
   "cell_type": "code",
   "execution_count": 109,
   "metadata": {
    "collapsed": false,
    "scrolled": true
   },
   "outputs": [
    {
     "name": "stdout",
     "output_type": "stream",
     "text": [
      "0.9566\n",
      "0.1538\n",
      "0.706\n"
     ]
    }
   ],
   "source": [
    "# let us permute the columms of nu and then compare: \n",
    "nu_perm = nu[:, (1,2,0)]\n",
    "round_nu_perm = np.round(nu_perm*(nu_perm>=0.9) + nu_perm*(nu_perm<=0.1)) + nu_perm*(nu_perm>=0.1)*(nu_perm<=0.9)\n",
    "\n",
    "print(np.sum(np.abs(Z[:,0] - nu_perm[:,0]))/Num_samples)\n",
    "print(np.sum(np.abs(Z[:,1] - nu_perm[:,1]))/Num_samples)\n",
    "print(np.sum(np.abs(Z[:,2] - nu_perm[:,2]))/Num_samples)\n",
    "\n",
    "# so two of the rows are really close ..."
   ]
  }
 ],
 "metadata": {
  "anaconda-cloud": {},
  "kernelspec": {
   "display_name": "Python [default]",
   "language": "python",
   "name": "python3"
  },
  "language_info": {
   "codemirror_mode": {
    "name": "ipython",
    "version": 3
   },
   "file_extension": ".py",
   "mimetype": "text/x-python",
   "name": "python",
   "nbconvert_exporter": "python",
   "pygments_lexer": "ipython3",
   "version": "3.5.2"
  }
 },
 "nbformat": 4,
 "nbformat_minor": 1
}
