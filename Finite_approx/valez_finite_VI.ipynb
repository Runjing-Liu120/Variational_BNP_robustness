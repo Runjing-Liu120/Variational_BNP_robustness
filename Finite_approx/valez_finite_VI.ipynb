{
 "cells": [
  {
   "cell_type": "markdown",
   "metadata": {},
   "source": [
    "# Variational inference using the finite approximation"
   ]
  },
  {
   "cell_type": "code",
   "execution_count": 19,
   "metadata": {
    "collapsed": false
   },
   "outputs": [],
   "source": [
    "import numpy as np\n",
    "import scipy as sp\n",
    "import matplotlib.pyplot as plt\n",
    "from copy import deepcopy\n",
    "\n",
    "from valez_finite_VI_lib import *\n"
   ]
  },
  {
   "cell_type": "markdown",
   "metadata": {},
   "source": [
    "# Draw data"
   ]
  },
  {
   "cell_type": "code",
   "execution_count": 20,
   "metadata": {
    "collapsed": false
   },
   "outputs": [
    {
     "name": "stdout",
     "output_type": "stream",
     "text": [
      "true Z (first 10 rows): \n",
      " [[ 1.  1.  1.]\n",
      " [ 1.  1.  1.]\n",
      " [ 1.  1.  1.]\n",
      " [ 1.  0.  1.]\n",
      " [ 1.  1.  0.]\n",
      " [ 1.  1.  1.]\n",
      " [ 1.  0.  1.]\n",
      " [ 1.  1.  1.]\n",
      " [ 1.  1.  1.]\n",
      " [ 1.  0.  0.]]\n"
     ]
    }
   ],
   "source": [
    "np.random.seed(12321) # this is a seed where VI works well\n",
    "\n",
    "Num_samples = 500 # sample size\n",
    "D = 2 # dimension\n",
    "# so X will be a N\\times D matrix\n",
    "\n",
    "K_inf = 3 # take to be large for a good approximation to the IBP\n",
    "\n",
    "\n",
    "alpha = 10 # IBP parameter\n",
    "Pi = np.ones(K_inf) * .8\n",
    "Z = np.zeros([Num_samples,K_inf])\n",
    "\n",
    "# Parameters to draw A from MVN\n",
    "mu = np.zeros(D)\n",
    "sigma_A = 100\n",
    "\n",
    "sigma_eps = .1 # variance of noise\n",
    "\n",
    "# Draw Z from truncated stick breaking process\n",
    "for k in range(K_inf):\n",
    "    # Pi[k] = np.random.beta(alpha/K_inf,1)\n",
    "    for n in range(Num_samples):\n",
    "        Z[n,k] = np.random.binomial(1,Pi[k])\n",
    "\n",
    "        \n",
    "print('true Z (first 10 rows): \\n', Z[0:10,:])\n",
    "\n",
    "# Draw A from multivariate normal\n",
    "A = np.random.multivariate_normal(mu, sigma_A*np.identity(D), K_inf)\n",
    "# A = np.array([[10,10], [-10,10]])\n",
    "\n",
    "# draw noise\n",
    "epsilon = np.random.multivariate_normal(np.zeros(D), sigma_eps*np.identity(D), Num_samples)\n",
    "\n",
    "# the observed data\n",
    "X = np.dot(Z,A) + epsilon\n"
   ]
  },
  {
   "cell_type": "markdown",
   "metadata": {},
   "source": [
    "# set initializations"
   ]
  },
  {
   "cell_type": "code",
   "execution_count": 21,
   "metadata": {
    "collapsed": true
   },
   "outputs": [],
   "source": [
    "K_approx = deepcopy(K_inf) # variational truncation\n",
    "\n",
    "tau = np.random.uniform(0,1,[K_approx,2]) # tau1, tau2 -- beta parameters for v\n",
    "#tau = np.ones([K_approx,2])*1000\n",
    "#tau[:,1] = (tau[:,0] - Pi*tau[:,0])/Pi\n",
    "\n",
    "#nu = np.ones([Num_samples, K_approx]) *0.0\n",
    "nu =  np.random.uniform(0,1,[Num_samples,K_approx]) # Bernoulli parameter for z_nk\n",
    "#nu = deepcopy(Z)\n",
    "\n",
    "phi_mu = np.random.normal(0,1,[D,K_approx]) # kth mean (D dim vector) in kth column\n",
    "#phi_mu = deepcopy(A).T\n",
    "phi_var = np.ones(K_approx)\n",
    "\n",
    "nu_init = np.round(nu*(nu>=0.9) + nu*(nu<=0.1)) + nu*(nu>=0.1)*(nu<=0.9)\n",
    "\n",
    "iterations = 1000\n",
    "elbo = np.zeros(iterations)\n",
    "elbo_Term1 = np.zeros(iterations)\n",
    "elbo_Term2 = np.zeros(iterations)\n",
    "elbo_Term3 = np.zeros(iterations)\n",
    "elbo_Term4 = np.zeros(iterations)\n",
    "elbo_Term5 = np.zeros(iterations)\n",
    "elbo_Term6 = np.zeros(iterations)\n",
    "elbo_Term7 = np.zeros(iterations)\n",
    "\n",
    "\n",
    "Data_shape = {'D':D, 'N': Num_samples , 'K':K_approx}\n",
    "sigmas = {'eps': sigma_eps, 'A': sigma_A}\n"
   ]
  },
  {
   "cell_type": "markdown",
   "metadata": {},
   "source": [
    "# run CAVI"
   ]
  },
  {
   "cell_type": "code",
   "execution_count": null,
   "metadata": {
    "collapsed": false
   },
   "outputs": [
    {
     "name": "stdout",
     "output_type": "stream",
     "text": [
      "iteration:  0\n",
      "elbo:  -59592.2483785\n",
      "l1 error:  0.455919388579\n",
      "iteration:  1\n",
      "elbo:  -20464.6869536\n",
      "l1 error:  0.40545832501\n"
     ]
    },
    {
     "name": "stderr",
     "output_type": "stream",
     "text": [
      "C:\\Users\\Haiying Liang\\Desktop\\BNP\\Variational_BNP_robustness\\Finite_approx\\valez_finite_VI_lib.py:85: RuntimeWarning: overflow encountered in exp\n",
      "  nu[n,k] = 1./(1.+np.exp(-script_V))\n"
     ]
    },
    {
     "name": "stdout",
     "output_type": "stream",
     "text": [
      "iteration:  2\n",
      "elbo:  -16849.0766319\n",
      "l1 error:  0.436667676047\n",
      "iteration:  3\n",
      "elbo:  -15067.3912309\n",
      "l1 error:  0.438828701105\n",
      "iteration:  4\n",
      "elbo:  -13550.9842664\n",
      "l1 error:  0.443122718242\n",
      "iteration:  5\n",
      "elbo:  -12243.8876513\n",
      "l1 error:  0.447999990912\n",
      "iteration:  6\n",
      "elbo:  -11577.1630071\n",
      "l1 error:  0.448\n",
      "iteration:  7\n",
      "elbo:  -11211.34179\n",
      "l1 error:  0.448000000673\n",
      "iteration:  8\n",
      "elbo:  -10963.2650067\n",
      "l1 error:  0.448969592354\n",
      "iteration:  9\n",
      "elbo:  -10337.5069778\n",
      "l1 error:  0.455106540939\n",
      "iteration:  10\n",
      "elbo:  -9831.56485025\n",
      "l1 error:  0.456000012816\n",
      "iteration:  11\n",
      "elbo:  -9506.11677966\n",
      "l1 error:  0.456666666667\n",
      "iteration:  12\n",
      "elbo:  -9338.94439233\n",
      "l1 error:  0.456666666667\n",
      "iteration:  13\n",
      "elbo:  -9231.11678672\n",
      "l1 error:  0.456666666667\n",
      "iteration:  14\n",
      "elbo:  -9161.56707653\n",
      "l1 error:  0.456666666667\n",
      "iteration:  15\n",
      "elbo:  -9116.70693\n",
      "l1 error:  0.456666666667\n",
      "iteration:  16\n",
      "elbo:  -9087.77175914\n",
      "l1 error:  0.456666666667\n",
      "iteration:  17\n",
      "elbo:  -9069.1083312\n",
      "l1 error:  0.456666666667\n",
      "iteration:  18\n",
      "elbo:  -9057.07026361\n",
      "l1 error:  0.456666666667\n",
      "iteration:  19\n",
      "elbo:  -9049.30560902\n",
      "l1 error:  0.456666666667\n",
      "iteration:  20\n",
      "elbo:  -9044.29734168\n",
      "l1 error:  0.456666666667\n",
      "iteration:  21\n",
      "elbo:  -9041.06696723\n",
      "l1 error:  0.456666666667\n",
      "iteration:  22\n",
      "elbo:  -9038.9833486\n",
      "l1 error:  0.456666666667\n",
      "iteration:  23\n",
      "elbo:  -9037.63939711\n",
      "l1 error:  0.456666666667\n",
      "iteration:  24\n",
      "elbo:  -9036.77253713\n",
      "l1 error:  0.456666666667\n",
      "iteration:  25\n",
      "elbo:  -9036.21340516\n",
      "l1 error:  0.456666666667\n",
      "iteration:  26\n",
      "elbo:  -9035.85276036\n",
      "l1 error:  0.456666666667\n",
      "iteration:  27\n",
      "elbo:  -9035.62014143\n",
      "l1 error:  0.456666666667\n",
      "iteration:  28\n",
      "elbo:  -9035.47010027\n",
      "l1 error:  0.456666666667\n",
      "iteration:  29\n",
      "elbo:  -9035.37332246\n",
      "l1 error:  0.456666666667\n",
      "iteration:  30\n",
      "elbo:  -9035.31089997\n",
      "l1 error:  0.456666666667\n",
      "iteration:  31\n",
      "elbo:  -9035.27063693\n",
      "l1 error:  0.456666666667\n",
      "iteration:  32\n",
      "elbo:  -9035.24466694\n",
      "l1 error:  0.456666666667\n",
      "iteration:  33\n",
      "elbo:  -9035.22791607\n",
      "l1 error:  0.456666666667\n",
      "iteration:  34\n",
      "elbo:  -9035.21711163\n",
      "l1 error:  0.456666666667\n",
      "iteration:  35\n",
      "elbo:  -9035.21014267\n",
      "l1 error:  0.456666666667\n",
      "iteration:  36\n",
      "elbo:  -9035.20564763\n",
      "l1 error:  0.456666666667\n",
      "iteration:  37\n",
      "elbo:  -9035.20274829\n",
      "l1 error:  0.456666666667\n",
      "iteration:  38\n",
      "elbo:  -9035.2008782\n",
      "l1 error:  0.456666666667\n",
      "iteration:  39\n",
      "elbo:  -9035.19967197\n",
      "l1 error:  0.456666666667\n",
      "iteration:  40\n",
      "elbo:  -9035.19889394\n",
      "l1 error:  0.456666666667\n",
      "iteration:  41\n",
      "elbo:  -9035.19839211\n",
      "l1 error:  0.456666666667\n",
      "iteration:  42\n",
      "elbo:  -9035.19806842\n",
      "l1 error:  0.456666666667\n",
      "iteration:  43\n",
      "elbo:  -9035.19785964\n",
      "l1 error:  0.456666666667\n",
      "iteration:  44\n",
      "elbo:  -9035.19772497\n",
      "l1 error:  0.456666666667\n",
      "iteration:  45\n",
      "elbo:  -9035.19763811\n",
      "l1 error:  0.456666666667\n",
      "iteration:  46\n",
      "elbo:  -9035.19758209\n",
      "l1 error:  0.456666666667\n",
      "iteration:  47\n",
      "elbo:  -9035.19754595\n",
      "l1 error:  0.456666666667\n",
      "iteration:  48\n",
      "elbo:  -9035.19752264\n",
      "l1 error:  0.456666666667\n",
      "iteration:  49\n",
      "elbo:  -9035.19750761\n",
      "l1 error:  0.456666666667\n",
      "iteration:  50\n",
      "elbo:  -9035.19749791\n",
      "l1 error:  0.456666666667\n",
      "iteration:  51\n",
      "elbo:  -9035.19749165\n",
      "l1 error:  0.456666666667\n",
      "iteration:  52\n",
      "elbo:  -9035.19748762\n",
      "l1 error:  0.456666666667\n",
      "iteration:  53\n",
      "elbo:  -9035.19748502\n",
      "l1 error:  0.456666666667\n",
      "iteration:  54\n",
      "elbo:  -9035.19748334\n",
      "l1 error:  0.456666666667\n"
     ]
    }
   ],
   "source": [
    "for i in range(iterations):\n",
    "    iter_ran = i + 1\n",
    "    nu_updates(tau, nu, phi_mu, phi_var, X, sigmas, Data_shape)\n",
    "\n",
    "    phi_updates(nu, phi_mu, phi_var, X, sigmas, Data_shape)\n",
    "        \n",
    "    tau_updates(tau, nu, alpha, Data_shape)    \n",
    "    \n",
    "    \n",
    "    \n",
    "    round_nu = np.round(nu*(nu>=0.9) + nu*(nu<=0.1)) + nu*(nu>=0.1)*(nu<=0.9)\n",
    "    \n",
    "    [elbo[i],elbo_Term1[i],elbo_Term2[i],elbo_Term3[i],elbo_Term4[i],elbo_Term5[i],elbo_Term6[i],elbo_Term7[i]] \\\n",
    "        = Elbo(tau, nu, phi_mu, phi_var, X, sigmas, Data_shape, alpha)\n",
    "        \n",
    "    \n",
    "    print('iteration: ', i)\n",
    "    print('elbo: ', elbo[i])\n",
    "    #print(round_nu[0:10,:])\n",
    "    #print(nu[0:10,:])\n",
    "    print('l1 error: ', np.sum(abs(Z-nu))/np.size(Z[:]) )\n",
    "    \n",
    "    if (i>0) & (elbo[i] < elbo[i-1]): \n",
    "        print('eblo decreased!')\n",
    "        break\n",
    "    \n",
    "    if np.abs(elbo[i]-elbo[i-1]) <= 10**(-8):\n",
    "        break\n",
    "    "
   ]
  },
  {
   "cell_type": "code",
   "execution_count": 15,
   "metadata": {
    "collapsed": false
   },
   "outputs": [
    {
     "name": "stdout",
     "output_type": "stream",
     "text": [
      "Z \n",
      " [[ 1.  1.  1.]\n",
      " [ 1.  1.  1.]\n",
      " [ 1.  1.  1.]\n",
      " [ 1.  0.  1.]\n",
      " [ 1.  1.  0.]\n",
      " [ 1.  1.  1.]\n",
      " [ 1.  0.  1.]\n",
      " [ 1.  1.  1.]\n",
      " [ 1.  1.  1.]\n",
      " [ 1.  0.  0.]]\n",
      "round_nu \n",
      " [[ 0.  1.  1.]\n",
      " [ 0.  1.  1.]\n",
      " [ 0.  1.  1.]\n",
      " [ 1.  1.  0.]\n",
      " [ 0.  1.  1.]\n",
      " [ 0.  1.  1.]\n",
      " [ 1.  1.  0.]\n",
      " [ 0.  1.  1.]\n",
      " [ 0.  1.  1.]\n",
      " [ 0.  1.  0.]]\n",
      "error in row 1:  0.72\n",
      "error in row 2:  0.306\n",
      "error in row 3:  0.344\n"
     ]
    },
    {
     "data": {
      "image/png": "[encoded data removed]",
      "text/plain": [
       "<matplotlib.figure.Figure at 0x8c4b6d2e80>"
      ]
     },
     "metadata": {},
     "output_type": "display_data"
    }
   ],
   "source": [
    "Pi_computed = tau[:,0]/(tau[:,0] + tau[:,1])\n",
    "print('Z \\n', Z[0:10,:])\n",
    "print('round_nu \\n', round_nu[0:10,:])\n",
    "\n",
    "print('error in row 1: ', np.sum(np.abs(Z[:,0] - nu[:,0]))/Num_samples)\n",
    "print('error in row 2: ', np.sum(np.abs(Z[:,1] - nu[:,1]))/Num_samples)\n",
    "print('error in row 3: ', np.sum(np.abs(Z[:,2] - nu[:,2]))/Num_samples)\n",
    "\n",
    "\n",
    "plt.clf()\n",
    "plt.plot(elbo[:iter_ran])\n",
    "plt.xlabel('iteration')\n",
    "plt.ylabel('elbo')\n",
    "plt.show()"
   ]
  },
  {
   "cell_type": "code",
   "execution_count": 18,
   "metadata": {
    "collapsed": false,
    "scrolled": true
   },
   "outputs": [
    {
     "name": "stdout",
     "output_type": "stream",
     "text": [
      "4.42912421833e-180\n",
      "1.54075195072e-82\n",
      "0.614\n"
     ]
    }
   ],
   "source": [
    "# let us permute the columms of nu and then compare: \n",
    "nu_perm = nu[:, (1,2,0)]\n",
    "round_nu_perm = np.round(nu_perm*(nu_perm>=0.9) + nu_perm*(nu_perm<=0.1)) + nu_perm*(nu_perm>=0.1)*(nu_perm<=0.9)\n",
    "\n",
    "print(np.sum(np.abs(Z[:,0] - nu_perm[:,0]))/Num_samples)\n",
    "print(np.sum(np.abs(Z[:,1] - nu_perm[:,1]))/Num_samples)\n",
    "print(np.sum(np.abs(Z[:,2] - nu_perm[:,2]))/Num_samples)\n",
    "\n",
    "# so two of the rows are really close ..."
   ]
  },
  {
   "cell_type": "code",
   "execution_count": null,
   "metadata": {
    "collapsed": true
   },
   "outputs": [],
   "source": []
  }
 ],
 "metadata": {
  "anaconda-cloud": {},
  "kernelspec": {
   "display_name": "Python [default]",
   "language": "python",
   "name": "python3"
  },
  "language_info": {
   "codemirror_mode": {
    "name": "ipython",
    "version": 3
   },
   "file_extension": ".py",
   "mimetype": "text/x-python",
   "name": "python",
   "nbconvert_exporter": "python",
   "pygments_lexer": "ipython3",
   "version": "3.5.2"
  }
 },
 "nbformat": 4,
 "nbformat_minor": 1
}
