{
 "cells": [
  {
   "cell_type": "code",
   "execution_count": 1,
   "metadata": {
    "collapsed": false
   },
   "outputs": [],
   "source": [
    "## Testing updates with autograd\n",
    "\n",
    "from valez_finite_VI_lib import *\n",
    "from autograd import grad\n",
    "import autograd.numpy as np\n",
    "import autograd.scipy as sp\n",
    "from copy import deepcopy\n"
   ]
  },
  {
   "cell_type": "code",
   "execution_count": 6,
   "metadata": {
    "collapsed": false
   },
   "outputs": [
    {
     "data": {
      "text/plain": [
       "array([ 7.77482625,  7.11340124,  9.81663215,  6.3635214 ,  2.73814836,\n",
       "        2.16489154,  3.36798945,  6.53566083,  4.01149663,  9.69051061,\n",
       "        9.66005354,  3.46123242,  8.6708936 ,  1.75667928,  4.12213088,\n",
       "        9.33119297,  7.0276734 ,  6.58311432,  4.29878172,  9.52124346,\n",
       "        9.96216006,  0.85419826,  0.20561731,  6.50413299,  3.00925773,\n",
       "        8.12566472,  9.6061278 ,  6.28703375,  8.89951468,  7.10874523,\n",
       "        3.93057953,  2.70613974,  7.36601658,  6.56843256,  4.18408407,\n",
       "        5.13268366,  7.44887836,  3.16005265,  3.25548119,  5.35570309,\n",
       "        9.92935657,  6.83659977,  1.47125267,  6.57965344,  4.57548165,\n",
       "        5.03017932,  4.18514005,  3.87102989,  4.09482119,  2.04629391,\n",
       "        2.20186056,  2.7729978 ,  4.52339313,  3.9787471 ,  2.81874307,\n",
       "        0.09279346,  3.73040633,  1.05985742,  6.77731424,  2.515006  ,\n",
       "        1.74201815,  4.32244596,  7.73612727,  9.29516615,  3.92599564,\n",
       "        5.11201624,  1.36297956,  8.73104403,  5.06094882,  5.94879944,\n",
       "        5.17462001,  7.2565387 ,  0.07840501,  0.9281515 ,  2.13631826,\n",
       "        3.59048382,  5.23602358,  4.82716321,  4.74902247,  6.15757881,\n",
       "        7.32279283,  2.71712588,  9.83671476,  3.25465404,  9.97571103,\n",
       "        9.64375798,  4.64108534,  4.04644504,  5.38424416,  1.80712785,\n",
       "        6.68863454,  3.66456258,  3.35852265,  8.72957586,  6.7509352 ,\n",
       "        0.39472518,  4.41867307,  7.71626959,  5.17379387,  9.38657725,\n",
       "        7.64198718,  2.15568395,  0.42876323,  8.32288635,  6.35485509,\n",
       "        0.85710995,  5.96197837,  1.95231848,  6.37432882,  8.11959386,\n",
       "        8.25872123,  4.7478219 ,  1.19970511,  9.74194168,  6.06268387,\n",
       "        6.4347794 ,  7.40810137,  4.4591035 ,  1.29734448,  4.67631119,\n",
       "        0.6004651 ,  1.37093976,  3.16665898,  2.75144085,  1.71584579,\n",
       "        1.13430839,  5.42638652,  8.51907379,  4.59200858,  9.51369194,\n",
       "        4.41783496,  2.10383197,  4.74882099,  6.2574716 ,  0.19504141,\n",
       "        9.74013455,  8.70721017,  1.56928827,  8.48952723,  1.66479742,\n",
       "        1.48354604,  1.90725408,  0.79298194,  7.26786948,  5.62237316,\n",
       "        3.06312312,  3.6806801 ,  7.10447316,  7.45374201,  5.14258526,\n",
       "        5.05860209,  9.6999067 ,  6.65075938,  5.46379512,  1.90884567,\n",
       "        1.37900375,  7.43870271,  9.50834358,  9.76143424,  8.58106816,\n",
       "        5.1542393 ,  4.73099772,  2.52413182,  4.74656015,  0.08395816,\n",
       "        2.40738641,  8.75533517,  1.32484036,  8.48605862,  6.41695165,\n",
       "        6.82031363,  2.77013672,  7.38308928,  1.29948857,  5.94660359,\n",
       "        6.48610656,  3.68394674,  3.24860217,  1.06552069,  8.12695487,\n",
       "        3.70591125,  1.73731984,  3.37611714,  9.64486587,  0.78393788,\n",
       "        1.78898666,  0.2461583 ,  5.62551958,  6.0228459 ,  7.44637638,\n",
       "        6.99818482,  4.43450835,  9.05635752,  7.94005741,  6.64359919,\n",
       "        8.91503222,  6.9420728 ,  8.43190658,  4.29639008])"
      ]
     },
     "execution_count": 6,
     "metadata": {},
     "output_type": "execute_result"
    }
   ],
   "source": [
    "np.random.uniform(0, 10, 199)"
   ]
  },
  {
   "cell_type": "code",
   "execution_count": null,
   "metadata": {
    "collapsed": true
   },
   "outputs": [],
   "source": [
    "np.random.multivariate_normal(np.zeros(3), np.eye(3), 1)"
   ]
  },
  {
   "cell_type": "markdown",
   "metadata": {},
   "source": [
    "# Implement log likelihood"
   ]
  },
  {
   "cell_type": "code",
   "execution_count": 2,
   "metadata": {
    "collapsed": true
   },
   "outputs": [],
   "source": [
    "def exp_log_likelihood(nu_moment, phi_moment1, phi_moment2, \\\n",
    "                       E_log_pi1, E_log_pi2, Data_shape, sigmas, X, alpha):\n",
    "    \n",
    "    sigma_eps = sigmas['eps']\n",
    "    sigma_A = sigmas['A']\n",
    "    D = Data_shape['D']\n",
    "    N = Data_shape['N']\n",
    "    K = Data_shape['K']\n",
    "\n",
    "    beta_lh = (alpha/K - 1.)*np.sum(E_log_pi1) \n",
    "    bern_lh = np.sum(np.dot(nu_moment[n,:], E_log_pi1) \\\n",
    "                            + np.dot(1.-nu_moment[n,:], E_log_pi2) for n in range(N))\n",
    "    Normal_A = -1/(2.*sigma_A) * np.sum(phi_moment2)\n",
    "    \n",
    "    Normal_X_sum = 0\n",
    "    ## compute the data likelihood term\n",
    "    for n in range(N): \n",
    "        dum1 = 2.*np.sum(np.sum(nu_moment[n,i] * nu_moment[n,j] * np.dot(phi_moment1[:,i],phi_moment1[:,j]) \\\n",
    "                                for i in range(j)) for j in range(K))\n",
    "        dum2 = np.dot(nu_moment[n,:] , phi_moment2 )\n",
    "        \n",
    "        dum3 = -2. * np.dot(X[n,:], np.dot(phi_moment1, nu_moment[n,:]))\n",
    "        \n",
    "        # dum4 = np.dot(X[n,:], X[n,:])\n",
    "        Normal_X_sum += dum1 + dum2 + dum3\n",
    "        \n",
    "    Normal_X = -1/(2*sigma_eps)*Normal_X_sum\n",
    "    \n",
    "    y = beta_lh + bern_lh + Normal_A + Normal_X\n",
    "    return(y)\n"
   ]
  },
  {
   "cell_type": "markdown",
   "metadata": {},
   "source": [
    "# Draw data"
   ]
  },
  {
   "cell_type": "code",
   "execution_count": 3,
   "metadata": {
    "collapsed": true
   },
   "outputs": [],
   "source": [
    "Num_samples = 10 # sample size\n",
    "D = 2 # dimension\n",
    "# so X will be a n\\times D matrix\n",
    "\n",
    "K_inf = 3 # take to be large for a good approximation to the IBP\n",
    "K_approx = deepcopy(K_inf)\n",
    "\n",
    "alpha = 2 # IBP parameter\n",
    "Pi = np.zeros(K_inf)\n",
    "Z = np.zeros([Num_samples,K_inf])\n",
    "\n",
    "# Parameters to draw A from MVN\n",
    "mu = np.zeros(D)\n",
    "sigma_A = 100\n",
    "\n",
    "sigma_eps = 1 # variance of noise\n",
    "\n",
    "# Draw Z from truncated stick breaking process\n",
    "for k in range(K_inf):\n",
    "    Pi[k] = np.random.beta(alpha/K_inf,1)\n",
    "    for n in range(Num_samples):\n",
    "        Z[n,k] = np.random.binomial(1,Pi[k])\n",
    "\n",
    "\n"
   ]
  },
  {
   "cell_type": "code",
   "execution_count": null,
   "metadata": {
    "collapsed": true
   },
   "outputs": [],
   "source": [
    "# Draw A from multivariate normal\n",
    "A = np.random.multivariate_normal(mu, sigma_A*np.identity(D), K_approx)\n",
    "# A = np.array([[10,10], [-10,10]])\n"
   ]
  },
  {
   "cell_type": "code",
   "execution_count": null,
   "metadata": {
    "collapsed": false
   },
   "outputs": [],
   "source": [
    "# draw noise\n",
    "epsilon = np.random.multivariate_normal(np.zeros(D), sigma_eps*np.identity(D), Num_samples)\n",
    "\n",
    "# the observed data\n",
    "X = np.dot(Z,A) + epsilon\n",
    "\n",
    "\n",
    "Data_shape = {'D':D, 'N': Num_samples , 'K':K_approx}\n",
    "sigmas = {'eps': sigma_eps, 'A': sigma_A}\n"
   ]
  },
  {
   "cell_type": "markdown",
   "metadata": {},
   "source": [
    "# Test Nu Updates"
   ]
  },
  {
   "cell_type": "code",
   "execution_count": 2,
   "metadata": {
    "collapsed": false
   },
   "outputs": [
    {
     "ename": "NameError",
     "evalue": "name 'np' is not defined",
     "output_type": "error",
     "traceback": [
      "\u001b[0;31m---------------------------------------------------------------------------\u001b[0m",
      "\u001b[0;31mNameError\u001b[0m                                 Traceback (most recent call last)",
      "\u001b[0;32m<ipython-input-2-6c8b5c183a70>\u001b[0m in \u001b[0;36m<module>\u001b[0;34m()\u001b[0m\n\u001b[1;32m      1\u001b[0m \u001b[0;31m# initialization for cavi updates\u001b[0m\u001b[0;34m\u001b[0m\u001b[0;34m\u001b[0m\u001b[0m\n\u001b[0;32m----> 2\u001b[0;31m \u001b[0mtau\u001b[0m \u001b[0;34m=\u001b[0m \u001b[0mnp\u001b[0m\u001b[0;34m.\u001b[0m\u001b[0mrandom\u001b[0m\u001b[0;34m.\u001b[0m\u001b[0muniform\u001b[0m\u001b[0;34m(\u001b[0m\u001b[0;36m10\u001b[0m\u001b[0;34m,\u001b[0m\u001b[0;36m100\u001b[0m\u001b[0;34m,\u001b[0m\u001b[0;34m[\u001b[0m\u001b[0mK_approx\u001b[0m\u001b[0;34m,\u001b[0m\u001b[0;36m2\u001b[0m\u001b[0;34m]\u001b[0m\u001b[0;34m)\u001b[0m\u001b[0;34m\u001b[0m\u001b[0m\n\u001b[0m\u001b[1;32m      3\u001b[0m \u001b[0mnu\u001b[0m \u001b[0;34m=\u001b[0m \u001b[0mnp\u001b[0m\u001b[0;34m.\u001b[0m\u001b[0mrandom\u001b[0m\u001b[0;34m.\u001b[0m\u001b[0muniform\u001b[0m\u001b[0;34m(\u001b[0m\u001b[0;36m0\u001b[0m\u001b[0;34m,\u001b[0m\u001b[0;36m1\u001b[0m\u001b[0;34m,\u001b[0m\u001b[0;34m[\u001b[0m\u001b[0mNum_samples\u001b[0m\u001b[0;34m,\u001b[0m\u001b[0mK_approx\u001b[0m\u001b[0;34m]\u001b[0m\u001b[0;34m)\u001b[0m\u001b[0;34m\u001b[0m\u001b[0m\n\u001b[1;32m      4\u001b[0m \u001b[0;34m\u001b[0m\u001b[0m\n\u001b[1;32m      5\u001b[0m \u001b[0mphi_mu\u001b[0m \u001b[0;34m=\u001b[0m \u001b[0mnp\u001b[0m\u001b[0;34m.\u001b[0m\u001b[0mrandom\u001b[0m\u001b[0;34m.\u001b[0m\u001b[0mnormal\u001b[0m\u001b[0;34m(\u001b[0m\u001b[0;36m0\u001b[0m\u001b[0;34m,\u001b[0m\u001b[0;36m1\u001b[0m\u001b[0;34m,\u001b[0m\u001b[0;34m[\u001b[0m\u001b[0mD\u001b[0m\u001b[0;34m,\u001b[0m\u001b[0mK_approx\u001b[0m\u001b[0;34m]\u001b[0m\u001b[0;34m)\u001b[0m\u001b[0;34m\u001b[0m\u001b[0m\n",
      "\u001b[0;31mNameError\u001b[0m: name 'np' is not defined"
     ]
    }
   ],
   "source": [
    "# initialization for cavi updates\n",
    "tau = np.random.uniform(10,100,[K_approx,2])\n",
    "nu = np.random.uniform(0,1,[Num_samples,K_approx])\n",
    "\n",
    "phi_mu = np.random.normal(0,1,[D,K_approx])\n",
    "phi_var = np.ones(K_approx)\n",
    "\n",
    "# autodiff \n",
    "d_exp_log_LH = grad(exp_log_likelihood, 0)\n",
    "\n",
    "# compute required moments\n",
    "phi_moment1 = deepcopy(phi_mu)\n",
    "phi_moment2 = np.diag(np.dot(phi_mu.T, phi_mu) + D * phi_var)\n",
    "E_log_pi1 = sp.special.digamma(tau[:,0]) - sp.special.digamma(tau[:,0] + tau[:,1]) \n",
    "E_log_pi2 = sp.special.digamma(tau[:,1]) - sp.special.digamma(tau[:,0] + tau[:,1]) \n",
    "\n",
    "\n",
    "for n in range(Num_samples): \n",
    "    for k in range(K_approx): \n",
    "\n",
    "        nu_moment = deepcopy(nu)\n",
    "        script_V_AG = d_exp_log_LH(nu_moment, phi_moment1, phi_moment2, \\\n",
    "                       E_log_pi1, E_log_pi2, Data_shape, sigmas, X, alpha)\n",
    "        nu_AG = 1/(1 + np.exp(-script_V_AG))\n",
    "\n",
    "        nu_updates(tau, nu, phi_mu, phi_var, X, sigmas, n, k)\n",
    "        \n",
    "        print(np.abs(nu[n,k] - nu_AG[n,k]))\n"
   ]
  },
  {
   "cell_type": "markdown",
   "metadata": {},
   "source": [
    "# Test tau updates"
   ]
  },
  {
   "cell_type": "code",
   "execution_count": 51,
   "metadata": {
    "collapsed": false
   },
   "outputs": [
    {
     "name": "stdout",
     "output_type": "stream",
     "text": [
      "results from cavi update: \n",
      " [[ 4.97932078  6.25253153  4.91378961]\n",
      " [ 6.68734589  5.41413513  6.75287706]]\n",
      "results from autograd: \n",
      "[ 4.97932078  6.25253153  4.91378961]\n",
      "[ 6.68734589  5.41413513  6.75287706]\n"
     ]
    }
   ],
   "source": [
    "# initialization for cavi updates\n",
    "tau = np.random.uniform(10,100,[K_approx,2])\n",
    "nu = np.random.uniform(0,1,[Num_samples,K_approx])\n",
    "\n",
    "phi_mu = np.random.normal(0,1,[D,K_approx])\n",
    "phi_var = np.ones(K_approx)\n",
    "\n",
    "# calling autodiff\n",
    "d_tau1 = grad(exp_log_likelihood, 3)\n",
    "d_tau2 = grad(exp_log_likelihood, 4)\n",
    "\n",
    "# computing moments\n",
    "nu_moment = deepcopy(nu)\n",
    "phi_moment1 = deepcopy(phi_mu)\n",
    "phi_moment2 = np.diag(np.dot(phi_mu.T, phi_mu) + D * phi_var)\n",
    "E_log_pi1 = sp.special.digamma(tau[:,0]) - sp.special.digamma(tau[:,0] + tau[:,1]) \n",
    "E_log_pi2 = sp.special.digamma(tau[:,1]) - sp.special.digamma(tau[:,0] + tau[:,1]) \n",
    "\n",
    "# computing updates\n",
    "tau1_AG = d_tau1(nu_moment, phi_moment1, phi_moment2, \\\n",
    "                       E_log_pi1, E_log_pi2, Data_shape, sigmas, X, alpha) + 1\n",
    "tau2_AG = d_tau2(nu_moment, phi_moment1, phi_moment2, \\\n",
    "                       E_log_pi1, E_log_pi2, Data_shape, sigmas, X, alpha) + 1\n",
    "\n",
    "tau_updates(tau, nu, alpha)\n",
    "\n",
    "print('results from cavi update: \\n', tau.T)\n",
    "print('results from autograd: ')\n",
    "print(tau1_AG)\n",
    "print(tau2_AG)\n"
   ]
  },
  {
   "cell_type": "markdown",
   "metadata": {},
   "source": [
    "# Testing phi updates"
   ]
  },
  {
   "cell_type": "code",
   "execution_count": 52,
   "metadata": {
    "collapsed": false
   },
   "outputs": [
    {
     "name": "stdout",
     "output_type": "stream",
     "text": [
      "mean computed by autodiff: \n",
      " [ -3.61395765 -14.90516191]\n",
      "mean computed by cavi: \n",
      " [ -3.61395765 -14.90516191]\n",
      "variance computed by autodiff:  0.249892710383\n",
      "variance computed by cavi    :  0.249892710383\n",
      "\n",
      "\n",
      "mean computed by autodiff: \n",
      " [ -1.67349491 -12.07644883]\n",
      "mean computed by cavi: \n",
      " [ -1.67349491 -12.07644883]\n",
      "variance computed by autodiff:  0.16123414817\n",
      "variance computed by cavi    :  0.16123414817\n",
      "\n",
      "\n",
      "mean computed by autodiff: \n",
      " [ 0.47084928 -3.43486362]\n",
      "mean computed by cavi: \n",
      " [ 0.47084928 -3.43486362]\n",
      "variance computed by autodiff:  0.161710106624\n",
      "variance computed by cavi    :  0.161710106624\n",
      "\n",
      "\n"
     ]
    }
   ],
   "source": [
    "# initialization for cavi updates\n",
    "tau = np.random.uniform(10,100,[K_approx,2])\n",
    "nu = np.random.uniform(0,1,[Num_samples,K_approx])\n",
    "\n",
    "phi_mu = np.random.normal(0,1,[D,K_approx])\n",
    "phi_var = np.ones(K_approx)\n",
    "\n",
    "# calling autodiff\n",
    "d_phi1  = grad(exp_log_likelihood, 1)\n",
    "d_phi2 = grad(exp_log_likelihood, 2)\n",
    "\n",
    "# compute moments\n",
    "\n",
    "E_log_pi1 = sp.special.digamma(tau[:,0]) - sp.special.digamma(tau[:,0] + tau[:,1]) \n",
    "E_log_pi2 = sp.special.digamma(tau[:,1]) - sp.special.digamma(tau[:,0] + tau[:,1]) \n",
    "\n",
    "\n",
    "\n",
    "for k in range(K_approx): \n",
    "    nu_moment = deepcopy(nu)\n",
    "    phi_moment1 = deepcopy(phi_mu)\n",
    "    phi_moment2 = np.diag(np.dot(phi_mu.T, phi_mu) + D * phi_var)\n",
    "\n",
    "    # compute autograd updates\n",
    "    phi1_AG = d_phi1(nu_moment, phi_moment1, phi_moment2, \\\n",
    "                       E_log_pi1, E_log_pi2, Data_shape, sigmas, X, alpha) \n",
    "    phi2_AG = d_phi2(nu_moment, phi_moment1, phi_moment2, \\\n",
    "                       E_log_pi1, E_log_pi2, Data_shape, sigmas, X, alpha) \n",
    "\n",
    "    # convert to standard parametrization\n",
    "    phi_var_AG = -1/(2.*phi2_AG)\n",
    "    phi_mu_AG = np.dot(phi1_AG, np.diag(phi_var_AG))\n",
    "\n",
    "    phi_updates(nu, phi_mu, phi_var, X, sigmas, k) # cavi updates\n",
    "    \n",
    "\n",
    "    print('mean computed by autodiff: \\n', phi_mu_AG[:,k])\n",
    "    print('mean computed by cavi: \\n', phi_mu[:,k])\n",
    "    print('variance computed by autodiff: ', phi_var_AG[k])\n",
    "    print('variance computed by cavi    : ', phi_var[k])\n",
    "    print('\\n')\n"
   ]
  },
  {
   "cell_type": "code",
   "execution_count": null,
   "metadata": {
    "collapsed": true
   },
   "outputs": [],
   "source": []
  },
  {
   "cell_type": "code",
   "execution_count": null,
   "metadata": {
    "collapsed": true
   },
   "outputs": [],
   "source": []
  }
 ],
 "metadata": {
  "anaconda-cloud": {},
  "kernelspec": {
   "display_name": "Python 3",
   "language": "python",
   "name": "python3"
  },
  "language_info": {
   "codemirror_mode": {
    "name": "ipython",
    "version": 3
   },
   "file_extension": ".py",
   "mimetype": "text/x-python",
   "name": "python",
   "nbconvert_exporter": "python",
   "pygments_lexer": "ipython3",
   "version": "3.6.0"
  }
 },
 "nbformat": 4,
 "nbformat_minor": 1
}
