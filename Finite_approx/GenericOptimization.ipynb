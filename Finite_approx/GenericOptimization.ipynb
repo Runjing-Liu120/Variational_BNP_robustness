{
 "cells": [
  {
   "cell_type": "code",
   "execution_count": 1,
   "metadata": {
    "collapsed": true
   },
   "outputs": [],
   "source": [
    "import autograd.numpy as np\n",
    "import autograd.scipy as sp\n",
    "from autograd.scipy import special\n",
    "from autograd import grad, hessian, hessian_vector_product, hessian, jacobian\n",
    "import matplotlib.pyplot as plt\n",
    "%matplotlib inline  \n",
    "\n",
    "from copy import deepcopy\n",
    "\n",
    "from scipy import optimize\n",
    "\n",
    "import valez_finite_VI_lib as vi\n",
    "from data_set_lib import DataSet\n",
    "import generic_optimization_lib as packing"
   ]
  },
  {
   "cell_type": "code",
   "execution_count": 2,
   "metadata": {
    "collapsed": true
   },
   "outputs": [],
   "source": [
    "#np.random.seed(12321)\n",
    "\n",
    "alpha = 10 # IBP parameter\n",
    "\n",
    "Num_samples = 50 # sample size\n",
    "D = 2 # dimension\n",
    "# so X will be a N\\times D matrix\n",
    "\n",
    "sigma_A = 3.0 ** 2\n",
    "\n",
    "sigma_eps = 1.0 ** 2 # variance of noise\n",
    "\n",
    "K_inf = 3 # take to be large for a good approximation to the IBP\n",
    "\n",
    "Pi, Z, mu, A, X = vi.generate_data(Num_samples, D, K_inf, sigma_A, sigma_eps, alpha)\n",
    "\n",
    "K_approx = K_inf # variational truncation\n",
    "\n",
    "tau_init, nu_init, phi_mu_init, phi_var_init = \\\n",
    "    vi.initialize_parameters(Num_samples, D, K_approx)\n",
    "\n",
    "params_init = packing.pack_params(deepcopy(tau_init), deepcopy(phi_mu_init),\n",
    "                                  deepcopy(phi_var_init), deepcopy(nu_init))\n",
    "\n",
    "hyper_params = packing.pack_hyperparameters(alpha, sigma_A, sigma_eps)\n",
    "\n",
    "data_set = DataSet(X, K_approx, alpha, sigma_eps, sigma_A)"
   ]
  },
  {
   "cell_type": "code",
   "execution_count": 3,
   "metadata": {},
   "outputs": [
    {
     "data": {
      "image/png": "[encoded data removed]",
      "text/plain": [
       "<matplotlib.figure.Figure at 0x7fd1507a4d90>"
      ]
     },
     "metadata": {},
     "output_type": "display_data"
    },
    {
     "data": {
      "image/png": "[encoded data removed]",
      "text/plain": [
       "<matplotlib.figure.Figure at 0x7fd14e4dc590>"
      ]
     },
     "metadata": {},
     "output_type": "display_data"
    }
   ],
   "source": [
    "col = 0\n",
    "plt.figure()\n",
    "plt.hist(data_set.x[:, col], bins=100);\n",
    "\n",
    "col1 = 0\n",
    "col2 = 1\n",
    "plt.figure()\n",
    "plt.plot(data_set.x[:, col1], data_set.x[:, col2], 'k.');"
   ]
  },
  {
   "cell_type": "code",
   "execution_count": 4,
   "metadata": {
    "collapsed": true
   },
   "outputs": [],
   "source": [
    "# Parameters approximating the true distribution\n",
    "\n",
    "tau_true = np.zeros_like(tau_init)\n",
    "tau_true_scale = 15.\n",
    "tau_true[:, 0] = deepcopy(Pi) * tau_true_scale\n",
    "tau_true[:, 1] = tau_true_scale\n",
    "\n",
    "nu_true = np.zeros_like(nu_init)\n",
    "nu_true[Z == 1] = 0.999\n",
    "nu_true[Z == 0] = 0.001\n",
    "\n",
    "phi_mu_true = np.zeros_like(phi_mu_init)\n",
    "phi_mu_true[:] = A.transpose()\n",
    "phi_var_true = np.zeros_like(phi_var_init)\n",
    "phi_var_true[:] = 0.01\n",
    "\n",
    "params_true = packing.pack_params(deepcopy(tau_true), deepcopy(phi_mu_true),\n",
    "                                  deepcopy(phi_var_true), deepcopy(nu_true))"
   ]
  },
  {
   "cell_type": "code",
   "execution_count": 5,
   "metadata": {},
   "outputs": [
    {
     "name": "stdout",
     "output_type": "stream",
     "text": [
      "Num samples: 50\n",
      "Hessian time:\n",
      "0.0105719566345\n"
     ]
    }
   ],
   "source": [
    "import time\n",
    "par_hp_hess_time = time.time()\n",
    "par_hp_hess = data_set.get_kl_sens_hess(params_init, hyper_params)\n",
    "par_hp_hess_time = time.time() - par_hp_hess_time\n",
    "print('Num samples: %d' % Num_samples)\n",
    "print('Hessian time:')\n",
    "print(par_hp_hess_time)"
   ]
  },
  {
   "cell_type": "code",
   "execution_count": 6,
   "metadata": {},
   "outputs": [
    {
     "name": "stdout",
     "output_type": "stream",
     "text": [
      "Step 0 KL: 41.8534069068\n",
      "Step 10 KL: 3.45051908463\n",
      "Step 20 KL: 0.159162515646\n",
      "Step 30 KL: 0.0265090418965\n",
      "Step 40 KL: 0.0107927490003\n",
      "Step 50 KL: 0.00719883949159\n",
      "Step 60 KL: 0.00456836858583\n",
      "Step 70 KL: 0.00279784333309\n",
      "Step 80 KL: 0.00169804920575\n",
      "Step 90 KL: 0.00103270447534\n",
      "Warning: CAVI reached max_iter.\n",
      "Done.\n"
     ]
    }
   ],
   "source": [
    "true_init = False\n",
    "if true_init:\n",
    "    tau, phi_mu, phi_var, nu = data_set.unpack_params(params_true)\n",
    "else:\n",
    "    tau, phi_mu, phi_var, nu = data_set.unpack_params(params_init)\n",
    "\n",
    "tau, nu, phi_mu, phi_var = data_set.run_cavi(tau, nu, phi_mu, phi_var, max_iter=100, tol=1e-6)\n",
    "\n",
    "cavi_tau = deepcopy(tau)\n",
    "cavi_phi_mu = deepcopy(phi_mu)\n",
    "cavi_phi_var = deepcopy(phi_var)\n",
    "cavi_nu = deepcopy(nu)"
   ]
  },
  {
   "cell_type": "code",
   "execution_count": 7,
   "metadata": {},
   "outputs": [
    {
     "name": "stdout",
     "output_type": "stream",
     "text": [
      "True\n"
     ]
    }
   ],
   "source": [
    "nu_tol = 1e-8\n",
    "cavi_nu_trim = deepcopy(cavi_nu)\n",
    "cavi_nu_trim[cavi_nu_trim < nu_tol] = nu_tol\n",
    "cavi_nu_trim[cavi_nu_trim > 1 - nu_tol] = 1 - nu_tol\n",
    "\n",
    "cavi_params = packing.pack_params(cavi_tau, cavi_phi_mu, cavi_phi_var, cavi_nu_trim)\n",
    "print np.all(np.isfinite(cavi_params))"
   ]
  },
  {
   "cell_type": "code",
   "execution_count": 8,
   "metadata": {},
   "outputs": [
    {
     "name": "stdout",
     "output_type": "stream",
     "text": [
      "Step 0 KL: 511.498374275\n",
      "Step 10 KL: -431.790915442\n",
      "Step 20 KL: -564.298140474\n",
      "Step 30 KL: -575.348822962\n",
      "Step 40 KL: -578.416402528\n",
      "Step 50 KL: -579.469662172\n",
      "Step 60 KL: -579.636861312\n",
      "Step 70 KL: -579.720747805\n",
      "Optimization terminated successfully.\n",
      "         Current function value: -579.720822\n",
      "         Iterations: 74\n",
      "         Function evaluations: 75\n",
      "         Gradient evaluations: 69\n",
      "         Hessian evaluations: 0\n",
      "Done.\n"
     ]
    }
   ],
   "source": [
    "data_set.trace.reset()\n",
    "vb_opt = data_set.run_newton_tr(cavi_params, maxiter=50, gtol=1e-2)"
   ]
  },
  {
   "cell_type": "code",
   "execution_count": 10,
   "metadata": {},
   "outputs": [
    {
     "name": "stdout",
     "output_type": "stream",
     "text": [
      "CAVI:\n",
      "[[-1.05668408  1.74436466]\n",
      " [ 7.51729281  2.8171349 ]\n",
      " [-3.6987857  -0.64447995]]\n",
      "Full TR:\n",
      "[[-1.04123945  1.74669924]\n",
      " [ 7.5143773   2.81253843]\n",
      " [-3.7084741  -0.64521505]]\n",
      "Truth:\n",
      "[[-0.6611876   1.53579266]\n",
      " [-3.42847146 -0.34519728]\n",
      " [ 6.80726618  2.97401052]]\n"
     ]
    }
   ],
   "source": [
    "print 'CAVI:'\n",
    "print cavi_phi_mu.transpose()\n",
    "\n",
    "print 'Full TR:'\n",
    "tau, phi_mu, phi_var, nu = data_set.unpack_params(vb_opt.x)\n",
    "print phi_mu.transpose()\n",
    "\n",
    "print 'Truth:'\n",
    "print A\n",
    "\n"
   ]
  },
  {
   "cell_type": "code",
   "execution_count": 11,
   "metadata": {},
   "outputs": [
    {
     "name": "stdout",
     "output_type": "stream",
     "text": [
      "Cavi residuals: 69.3544864375    Trust residuals: 69.5860716837\n"
     ]
    },
    {
     "data": {
      "image/png": "[encoded data removed]",
      "text/plain": [
       "<matplotlib.figure.Figure at 0x7fd14e247490>"
      ]
     },
     "metadata": {},
     "output_type": "display_data"
    }
   ],
   "source": [
    "cavi_resid = data_set.x - data_set.get_prediction(cavi_params)\n",
    "tr_resid = data_set.x - data_set.get_prediction(vb_opt.x)\n",
    "\n",
    "plt.figure()\n",
    "col = 0\n",
    "plt.plot(data_set.x[:, col], tr_resid[:, col], '.b')\n",
    "plt.plot(data_set.x[:, col], cavi_resid[:, col], '.r')\n",
    "plt.plot(data_set.x[:, col], np.full_like(data_set.x[:, col], 0.), 'k')\n",
    "\n",
    "print('Cavi residuals: {}    Trust residuals: {}'.format(np.sum(np.abs(cavi_resid)), np.sum(np.abs(tr_resid))))\n"
   ]
  }
 ],
 "metadata": {
  "kernelspec": {
   "display_name": "Python 3",
   "language": "python",
   "name": "python3"
  },
  "language_info": {
   "codemirror_mode": {
    "name": "ipython",
    "version": 2
   },
   "file_extension": ".py",
   "mimetype": "text/x-python",
   "name": "python",
   "nbconvert_exporter": "python",
   "pygments_lexer": "ipython2",
   "version": "2.7.12"
  }
 },
 "nbformat": 4,
 "nbformat_minor": 2
}
