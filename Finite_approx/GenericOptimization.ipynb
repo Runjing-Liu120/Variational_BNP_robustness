{
 "cells": [
  {
   "cell_type": "code",
   "execution_count": 1,
   "metadata": {},
   "outputs": [],
   "source": [
    "import autograd.numpy as np\n",
    "import autograd.scipy as sp\n",
    "from autograd.scipy import special\n",
    "from autograd import grad, hessian, hessian_vector_product, hessian, jacobian\n",
    "import matplotlib.pyplot as plt\n",
    "%matplotlib inline  \n",
    "\n",
    "from copy import deepcopy\n",
    "\n",
    "from scipy import optimize\n",
    "\n",
    "import valez_finite_VI_lib as vi\n",
    "from data_set_lib import DataSet\n",
    "import generic_optimization_lib as packing"
   ]
  },
  {
   "cell_type": "code",
   "execution_count": 2,
   "metadata": {},
   "outputs": [],
   "source": [
    "#np.random.seed(12321)\n",
    "\n",
    "alpha = 10 # IBP parameter\n",
    "\n",
    "Num_samples = 2000 # sample size\n",
    "D = 2 # dimension\n",
    "# so X will be a N\\times D matrix\n",
    "\n",
    "sigma_A = 1.0 ** 2\n",
    "\n",
    "sigma_eps = 1.0 ** 2 # variance of noise\n",
    "\n",
    "K_inf = 3 # take to be large for a good approximation to the IBP\n",
    "\n",
    "Pi, Z, mu, A, X = vi.generate_data(Num_samples, D, K_inf, sigma_A, sigma_eps, alpha)\n",
    "\n",
    "K_approx = K_inf # variational truncation\n",
    "\n",
    "tau_init, nu_init, phi_mu_init, phi_var_init = \\\n",
    "    vi.initialize_parameters(Num_samples, D, K_approx)\n",
    "\n",
    "params_init = packing.pack_params(deepcopy(tau_init), deepcopy(phi_mu_init),\n",
    "                                  deepcopy(phi_var_init), deepcopy(nu_init))\n",
    "\n",
    "hyper_params = packing.pack_hyperparameters(alpha, sigma_A, sigma_eps)\n",
    "\n",
    "data_set = DataSet(X, K_approx, alpha, sigma_eps, sigma_A)"
   ]
  },
  {
   "cell_type": "code",
   "execution_count": 3,
   "metadata": {},
   "outputs": [
    {
     "data": {
      "image/png": "[encoded data removed]",
      "text/plain": [
       "<matplotlib.figure.Figure at 0x7fea50824ad0>"
      ]
     },
     "metadata": {},
     "output_type": "display_data"
    },
    {
     "data": {
      "image/png": "[encoded data removed]",
      "text/plain": [
       "<matplotlib.figure.Figure at 0x7fea50821510>"
      ]
     },
     "metadata": {},
     "output_type": "display_data"
    }
   ],
   "source": [
    "col = 0\n",
    "plt.figure()\n",
    "plt.hist(data_set.x[:, col], bins=100);\n",
    "\n",
    "col1 = 0\n",
    "col2 = 1\n",
    "plt.figure()\n",
    "plt.plot(data_set.x[:, col1], data_set.x[:, col2], 'k.');"
   ]
  },
  {
   "cell_type": "code",
   "execution_count": 4,
   "metadata": {},
   "outputs": [],
   "source": [
    "# Parameters approximating the true distribution\n",
    "\n",
    "tau_true = np.zeros_like(tau_init)\n",
    "tau_true_scale = 15.\n",
    "tau_true[:, 0] = deepcopy(Pi) * tau_true_scale\n",
    "tau_true[:, 1] = tau_true_scale\n",
    "\n",
    "nu_true = np.zeros_like(nu_init)\n",
    "nu_true[Z == 1] = 0.999\n",
    "nu_true[Z == 0] = 0.001\n",
    "\n",
    "phi_mu_true = np.zeros_like(phi_mu_init)\n",
    "phi_mu_true[:] = A.transpose()\n",
    "phi_var_true = np.zeros_like(phi_var_init)\n",
    "phi_var_true[:] = 0.01\n",
    "\n",
    "params_true = packing.pack_params(deepcopy(tau_true), deepcopy(phi_mu_true),\n",
    "                                  deepcopy(phi_var_true), deepcopy(nu_true))"
   ]
  },
  {
   "cell_type": "code",
   "execution_count": 5,
   "metadata": {},
   "outputs": [
    {
     "name": "stdout",
     "output_type": "stream",
     "text": [
      "Num samples: 2000\n",
      "Hessian time:\n",
      "0.0165231227875\n"
     ]
    }
   ],
   "source": [
    "import time\n",
    "par_hp_hess_time = time.time()\n",
    "par_hp_hess = data_set.get_kl_sens_hess(params_init, hyper_params)\n",
    "par_hp_hess_time = time.time() - par_hp_hess_time\n",
    "print('Num samples: %d' % Num_samples)\n",
    "print('Hessian time:')\n",
    "print(par_hp_hess_time)"
   ]
  },
  {
   "cell_type": "code",
   "execution_count": 6,
   "metadata": {},
   "outputs": [
    {
     "name": "stdout",
     "output_type": "stream",
     "text": [
      "Diff / tol at iter 0: 168919832054.242676\n",
      "Diff / tol at iter 10: 1574175973.153820\n",
      "Diff / tol at iter 20: 1165477218.486979\n",
      "Diff / tol at iter 30: 1007898565.551977\n",
      "Diff / tol at iter 40: 830237993.058881\n",
      "Diff / tol at iter 50: 693766289.017901\n",
      "Diff / tol at iter 60: 599939223.807462\n",
      "Diff / tol at iter 70: 538038795.599505\n",
      "Diff / tol at iter 80: 498502292.532601\n",
      "Diff / tol at iter 90: 474240273.417831\n",
      "Done at step 100\n"
     ]
    }
   ],
   "source": [
    "true_init = False\n",
    "if true_init:\n",
    "    tau, phi_mu, phi_var, nu = data_set.unpack_params(params_true)\n",
    "else:\n",
    "    tau, phi_mu, phi_var, nu = data_set.unpack_params(params_init)\n",
    "\n",
    "params = packing.flatten_params(tau, nu, phi_mu, phi_var)\n",
    "\n",
    "max_iter = 100\n",
    "tol = 1e-8\n",
    "step = 0\n",
    "diff = np.float('inf')\n",
    "\n",
    "while diff > tol and step < max_iter:\n",
    "    data_set.cavi_updates(tau, nu, phi_mu, phi_var)\n",
    "    new_params = packing.flatten_params(tau, nu, phi_mu, phi_var)\n",
    "    diff = np.max(np.abs(new_params - params))\n",
    "    if step % 10 == 0:\n",
    "        print 'Diff / tol at iter %d: %f' % (step, diff  / tol)\n",
    "    if not np.isfinite(diff):\n",
    "        break\n",
    "    params = new_params\n",
    "    step = step + 1\n",
    "    \n",
    "print('Done at step %d' % step)\n",
    "\n",
    "cavi_tau = deepcopy(tau)\n",
    "cavi_phi_mu = deepcopy(phi_mu)\n",
    "cavi_phi_var = deepcopy(phi_var)\n",
    "cavi_nu = deepcopy(nu)"
   ]
  },
  {
   "cell_type": "code",
   "execution_count": 7,
   "metadata": {},
   "outputs": [
    {
     "name": "stdout",
     "output_type": "stream",
     "text": [
      "True\n"
     ]
    }
   ],
   "source": [
    "nu_tol = 1e-8\n",
    "cavi_nu_trim = deepcopy(cavi_nu)\n",
    "cavi_nu_trim[cavi_nu_trim < nu_tol] = nu_tol\n",
    "cavi_nu_trim[cavi_nu_trim > 1 - nu_tol] = 1 - nu_tol\n",
    "\n",
    "cavi_params = packing.pack_params(cavi_tau, cavi_phi_mu, cavi_phi_var, cavi_nu_trim)\n",
    "print np.all(np.isfinite(cavi_params))"
   ]
  },
  {
   "cell_type": "code",
   "execution_count": 8,
   "metadata": {},
   "outputs": [
    {
     "name": "stdout",
     "output_type": "stream",
     "text": [
      "6683.32332507\n",
      "4770.12429866\n",
      "2582.19240602\n",
      "1411.75779453\n",
      "926.856221044\n",
      "721.446883099\n",
      "630.217318648\n",
      "568.914388537\n",
      "457.6390044\n",
      "250.073697635\n",
      "248.829794304\n",
      "-87.1118987812\n",
      "-95.0413304979\n",
      "-95.5451060943\n",
      "-380.194846283\n",
      "-403.594333607\n",
      "-434.432336143\n",
      "-461.611086987\n",
      "-542.383715084\n",
      "-553.214290518\n",
      "-553.492903721\n",
      "-553.60638797\n",
      "-608.127333887\n",
      "-608.606529777\n",
      "-608.734781827\n",
      "-551.910579068\n",
      "-635.251536526\n",
      "-635.794497724\n",
      "-675.559427706\n",
      "-676.055359286\n",
      "-676.128899131\n",
      "163.369191676\n",
      "-692.664981017\n",
      "-693.596688455\n",
      "-693.646593881\n",
      "-713.699286919\n",
      "-714.237060204\n",
      "-714.256037875\n",
      "-714.259672006\n",
      "-723.583727959\n",
      "-724.369563956\n",
      "-724.393030218\n",
      "-726.039846959\n",
      "-728.355047192\n",
      "-730.088820414\n",
      "-730.968210966\n",
      "-730.987407162\n",
      "-734.460766854\n",
      "-734.515845564\n",
      "-735.632296271\n",
      "-736.182492924\n",
      "-736.193877461\n",
      "-737.411698454\n",
      "-738.682824009\n",
      "-738.749282689\n",
      "-739.114490682\n",
      "-740.133734682\n",
      "-740.145951904\n",
      "-740.150026887\n",
      "-740.78489113\n",
      "-740.466846168\n",
      "-740.466846168\n",
      "-740.988050915\n",
      "-741.310430847\n",
      "-741.314927369\n",
      "-741.42581091\n",
      "-741.934056927\n",
      "-741.935150353\n",
      "-742.060778107\n",
      "-742.131244809\n",
      "-742.842159073\n",
      "-742.852137328\n",
      "-742.856521354\n",
      "-742.998834442\n",
      "-743.102120058\n",
      "-743.905818725\n",
      "-744.082923339\n",
      "-744.095751624\n",
      "-744.096091842\n",
      "-744.170958559\n",
      "-743.872625375\n",
      "-744.502754529\n",
      "-744.511829425\n",
      "-744.515784332\n",
      "-744.516281711\n",
      "-744.516356625\n",
      "-744.886051926\n",
      "-744.924888197\n",
      "-744.926822978\n",
      "-744.927050934\n",
      "-745.045031698\n",
      "-745.045066459\n",
      "-745.272056853\n",
      "-745.308016038\n",
      "-745.318071946\n",
      "-745.318660463\n",
      "-745.319023716\n",
      "-745.331817008\n",
      "-745.331818003\n",
      "-744.872887381\n",
      "-745.359202852\n",
      "-745.359359291\n",
      "-745.359528617\n",
      "-744.022070701\n",
      "-745.404827253\n",
      "-745.405014824\n",
      "-745.40509304\n",
      "-745.46978664\n",
      "-745.47013624\n",
      "-745.470805506\n",
      "-745.489977671\n",
      "-744.965221833\n",
      "-745.544273544\n",
      "-745.544308563\n",
      "-745.544374482\n",
      "-745.566242131\n",
      "-745.637951194\n",
      "-745.640728783\n",
      "-745.641053905\n",
      "-745.641154628\n",
      "-743.325943221\n",
      "-745.700952514\n",
      "-745.701391737\n",
      "-745.701442871\n",
      "-745.782777533\n",
      "-745.785854859\n",
      "-745.7960722\n",
      "-745.839146066\n",
      "-745.841529852\n",
      "-745.842189253\n",
      "-745.947766547\n",
      "-745.947827222\n",
      "-746.044961681\n",
      "-746.049482801\n",
      "-746.050180461\n",
      "-746.10936715\n",
      "-746.117379973\n",
      "-746.223185963\n",
      "-746.265560886\n",
      "-746.267398465\n",
      "-746.325812386\n",
      "-746.386210045\n",
      "-746.390934662\n",
      "-746.43987798\n",
      "-746.478208374\n",
      "-746.483820485\n",
      "-746.483882633\n",
      "-746.557497858\n",
      "-746.562648138\n",
      "-746.610534027\n",
      "-746.61121215\n",
      "-746.611665332\n",
      "-746.611726218\n",
      "-746.611769345\n",
      "-746.614558634\n",
      "-746.614929128\n",
      "-746.614929146\n",
      "-746.6149376\n",
      "-746.6149376\n",
      "-746.614937604\n",
      "Optimization terminated successfully.\n",
      "         Current function value: -746.614938\n",
      "         Iterations: 159\n",
      "         Function evaluations: 160\n",
      "         Gradient evaluations: 151\n",
      "         Hessian evaluations: 0\n"
     ]
    }
   ],
   "source": [
    "vb_opt = optimize.minimize(\n",
    "    lambda params: data_set.wrapped_kl(params, verbose=True),\n",
    "    params_init, method='trust-ncg', jac=data_set.get_kl_grad, hessp=data_set.get_kl_hvp,\n",
    "    tol=1e-6, options={'maxiter': 200, 'disp': True, 'gtol': 1e-6 })"
   ]
  },
  {
   "cell_type": "code",
   "execution_count": 11,
   "metadata": {},
   "outputs": [
    {
     "name": "stdout",
     "output_type": "stream",
     "text": [
      "CAVI:\n",
      "[[ 0.28878376  1.11408704]\n",
      " [ 0.00612493 -0.03299233]\n",
      " [-1.20215924 -0.25802058]]\n",
      "Full TR:\n",
      "[[ 0.22606596  0.5906605 ]\n",
      " [-0.38076493  0.52819555]\n",
      " [-1.14955207 -1.01547681]]\n",
      "Truth:\n",
      "[[ 0.6158451   1.29983585]\n",
      " [-1.37563604 -0.82781326]\n",
      " [-0.10156513  0.08682283]]\n"
     ]
    }
   ],
   "source": [
    "print 'CAVI:'\n",
    "print cavi_phi_mu.transpose()\n",
    "\n",
    "print 'Full TR:'\n",
    "data_set.use_full_x()\n",
    "tau, phi_mu, phi_var, nu = data_set.unpack_params(vb_opt.x)\n",
    "print phi_mu.transpose()\n",
    "\n",
    "print 'Truth:'\n",
    "print A\n",
    "\n"
   ]
  },
  {
   "cell_type": "code",
   "execution_count": 12,
   "metadata": {},
   "outputs": [
    {
     "name": "stdout",
     "output_type": "stream",
     "text": [
      "Cavi residuals: 2759.87041829    Trust residuals: 2824.96363296\n"
     ]
    },
    {
     "data": {
      "image/png": "[encoded data removed]",
      "text/plain": [
       "<matplotlib.figure.Figure at 0x7fea4e1d1d50>"
      ]
     },
     "metadata": {},
     "output_type": "display_data"
    }
   ],
   "source": [
    "cavi_resid = data_set.x - data_set.get_prediction(cavi_params)\n",
    "tr_resid = data_set.x - data_set.get_prediction(vb_opt.x)\n",
    "\n",
    "plt.figure()\n",
    "col = 0\n",
    "plt.plot(data_set.x[:, col], tr_resid[:, col], '.b')\n",
    "plt.plot(data_set.x[:, col], cavi_resid[:, col], '.r')\n",
    "plt.plot(data_set.x[:, col], np.full_like(data_set.x[:, col], 0.), 'k')\n",
    "\n",
    "print('Cavi residuals: {}    Trust residuals: {}'.format(np.sum(np.abs(cavi_resid)), np.sum(np.abs(tr_resid))))\n"
   ]
  }
 ],
 "metadata": {
  "kernelspec": {
   "display_name": "Python 3",
   "language": "python",
   "name": "python3"
  },
  "language_info": {
   "codemirror_mode": {
    "name": "ipython",
    "version": 2
   },
   "file_extension": ".py",
   "mimetype": "text/x-python",
   "name": "python",
   "nbconvert_exporter": "python",
   "pygments_lexer": "ipython2",
   "version": "2.7.12"
  }
 },
 "nbformat": 4,
 "nbformat_minor": 2
}
