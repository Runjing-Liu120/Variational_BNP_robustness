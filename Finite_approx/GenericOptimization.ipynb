{
 "cells": [
  {
   "cell_type": "code",
   "execution_count": 1,
   "metadata": {
    "collapsed": true
   },
   "outputs": [],
   "source": [
    "import autograd.numpy as np\n",
    "import autograd.scipy as sp\n",
    "from autograd.scipy import special\n",
    "from autograd import grad, hessian, hessian_vector_product, hessian, jacobian\n",
    "import matplotlib.pyplot as plt\n",
    "from copy import deepcopy\n",
    "\n",
    "from scipy import optimize\n",
    "\n",
    "from valez_finite_VI_lib import initialize_parameters, generate_data, compute_elbo, cavi_updates\n",
    "from generic_optimization_lib import unpack_params, pack_params"
   ]
  },
  {
   "cell_type": "code",
   "execution_count": 2,
   "metadata": {
    "collapsed": true
   },
   "outputs": [],
   "source": [
    "def check_approx_eq(x, y, tol=1e-12):\n",
    "    return np.max(np.abs(x - y)) < tol"
   ]
  },
  {
   "cell_type": "code",
   "execution_count": 48,
   "metadata": {
    "collapsed": true
   },
   "outputs": [],
   "source": [
    "#np.random.seed(12321)\n",
    "\n",
    "alpha = 10 # IBP parameter\n",
    "\n",
    "Num_samples = 300 # sample size\n",
    "D = 2 # dimension\n",
    "# so X will be a N\\times D matrix\n",
    "\n",
    "sigma_A = 100\n",
    "\n",
    "sigma_eps = .1 # variance of noise\n",
    "\n",
    "K_inf = 3 # take to be large for a good approximation to the IBP\n",
    "\n",
    "Pi, Z, mu, A, X = generate_data(Num_samples, D, K_inf, sigma_A, sigma_eps, alpha)\n",
    "\n",
    "K_approx = deepcopy(K_inf) # variational truncation\n",
    "\n",
    "tau, nu, phi_mu, phi_var = initialize_parameters(Num_samples, D, K_approx)\n",
    "nu_init = np.round(nu * (nu >= 0.9) + nu * (nu <= 0.1)) + nu * (nu >= 0.1) * (nu <= 0.9)\n",
    "params = pack_params(deepcopy(tau), deepcopy(phi_mu), deepcopy(phi_var), deepcopy(nu))\n",
    "params_init = deepcopy(params)\n"
   ]
  },
  {
   "cell_type": "code",
   "execution_count": 49,
   "metadata": {},
   "outputs": [
    {
     "name": "stdout",
     "output_type": "stream",
     "text": [
      "0.0\n",
      "0.0\n",
      "0.0\n"
     ]
    }
   ],
   "source": [
    "def pack_hyperparameters(alpha, sigma_A, sigma_eps):\n",
    "    return np.array([ alpha, sigma_A, sigma_eps ])\n",
    "\n",
    "def unpack_hyperparameters(hyper_params):\n",
    "    alpha = hyper_params[0]\n",
    "    sigma_A = hyper_params[1]\n",
    "    sigma_eps = hyper_params[2]\n",
    "    return alpha, sigma_A, sigma_eps\n",
    "\n",
    "hyper_params = pack_hyperparameters(alpha, sigma_A, sigma_eps)\n",
    "alpha0, sigma_A0, sigma_eps0 = unpack_hyperparameters(hyper_params)\n",
    "print np.abs(alpha0 - alpha)\n",
    "print np.abs(sigma_A0 - sigma_A)\n",
    "print np.abs(sigma_eps0 - sigma_eps)\n"
   ]
  },
  {
   "cell_type": "code",
   "execution_count": 50,
   "metadata": {
    "collapsed": true
   },
   "outputs": [],
   "source": [
    "tau_true = np.zeros_like(tau)\n",
    "tau_true_scale = 15.\n",
    "tau_true[:, 0] = deepcopy(Pi) * tau_true_scale\n",
    "tau_true[:, 1] = tau_true_scale\n",
    "\n",
    "nu_true = np.zeros_like(nu)\n",
    "nu_true[ Z == 1] = 0.999\n",
    "nu_true[ Z == 0] = 0.001\n",
    "\n",
    "phi_mu_true = np.zeros_like(phi_mu)\n",
    "phi_mu_true[:] = A.transpose()\n",
    "phi_var_true = np.zeros_like(phi_var)\n",
    "phi_var_true[:] = 0.01\n",
    "\n",
    "params_true = pack_params(deepcopy(tau_true), deepcopy(phi_mu_true), deepcopy(phi_var_true), deepcopy(nu_true))"
   ]
  },
  {
   "cell_type": "code",
   "execution_count": 51,
   "metadata": {
    "collapsed": true
   },
   "outputs": [],
   "source": [
    "class DataSet(object):\n",
    "    def __init__(self, X, K_approx, alpha, sigma_eps, sigma_A):\n",
    "        self.X = X\n",
    "        self.K_approx = K_approx\n",
    "        self.alpha = alpha\n",
    "        self.data_shape = {'D': X.shape[1], 'N': X.shape[0] , 'K':K_approx}\n",
    "        self.sigmas = {'eps': sigma_eps, 'A': sigma_A}\n",
    "        self.x_rows = slice(0, X.shape[0])\n",
    "\n",
    "        self.get_kl_grad = grad(self.wrapped_kl)\n",
    "        self.get_kl_hvp = hessian_vector_product(self.wrapped_kl)\n",
    "        self.get_kl_hessian = hessian(self.wrapped_kl)\n",
    "\n",
    "        self.get_sample_kl_grad = grad(self.wrapped_sample_kl)\n",
    "        self.get_sample_kl_hvp = hessian_vector_product(self.wrapped_sample_kl)\n",
    "        \n",
    "        self.get_wrapped_kl_hyperparams_paramgrad = grad(self.wrapped_kl_hyperparams, argnum=0)\n",
    "        self.get_kl_sens_hess = jacobian(self.get_wrapped_kl_hyperparams_paramgrad, argnum=1)\n",
    "        \n",
    "    def unpack_params(self, params):\n",
    "         return unpack_params(params, self.data_shape['K'], self.data_shape['D'], self.data_shape['N'])\n",
    "        \n",
    "    def cavi_updates(self, tau, nu, phi_mu, phi_var):\n",
    "        cavi_updates(tau, nu, phi_mu, phi_var, self.X, self.alpha, self.sigmas)\n",
    "\n",
    "    def wrapped_kl(self, params, verbose=False):\n",
    "        tau, phi_mu, phi_var, nu = self.unpack_params(params)\n",
    "        elbo = compute_elbo(tau, nu, phi_mu, phi_var, self.X, self.sigmas, self.alpha)\n",
    "        if verbose:\n",
    "            print -1 * elbo\n",
    "        return -1 * elbo\n",
    "\n",
    "    def wrapped_sample_kl(self, params, verbose=False):\n",
    "        tau, phi_mu, phi_var, nu = self.unpack_params(params)\n",
    "        elbo = compute_elbo(tau, nu[self.x_rows, :], phi_mu, phi_var,\n",
    "                            self.X[self.x_rows, :], self.sigmas, self.alpha)\n",
    "        if verbose:\n",
    "            print -1 * elbo\n",
    "        return -1 * elbo\n",
    "    \n",
    "    def wrapped_kl_hyperparams(self, params, hyper_params):\n",
    "        tau, phi_mu, phi_var, nu = self.unpack_params(params)\n",
    "        alpha, sigma_A, sigma_eps = unpack_hyperparameters(hyper_params)\n",
    "        sigmas = {'eps': sigma_eps, 'A': sigma_A}\n",
    "        elbo = compute_elbo(tau, nu, phi_mu, phi_var, self.X, sigmas, alpha)\n",
    "        return -1 * elbo\n",
    "\n"
   ]
  },
  {
   "cell_type": "code",
   "execution_count": 52,
   "metadata": {},
   "outputs": [
    {
     "name": "stdout",
     "output_type": "stream",
     "text": [
      "0.0\n"
     ]
    }
   ],
   "source": [
    "data_set = DataSet(X, K_approx, alpha, sigma_eps, sigma_A)\n",
    "data_set.wrapped_kl(params)\n",
    "kl_grad = data_set.get_kl_grad(params)\n",
    "kl_hvp = data_set.get_kl_hvp(params, kl_grad)\n",
    "print(data_set.wrapped_sample_kl(params) - data_set.wrapped_kl(params))"
   ]
  },
  {
   "cell_type": "code",
   "execution_count": 53,
   "metadata": {},
   "outputs": [
    {
     "name": "stdout",
     "output_type": "stream",
     "text": [
      "[[-1.73249514  0.9957421   2.40433344]\n",
      " [-0.21027156 -1.66476011  0.02958094]]\n"
     ]
    }
   ],
   "source": [
    "print phi_mu"
   ]
  },
  {
   "cell_type": "code",
   "execution_count": 54,
   "metadata": {},
   "outputs": [
    {
     "name": "stdout",
     "output_type": "stream",
     "text": [
      "Num samples: 300\n",
      "2.37894701958\n"
     ]
    }
   ],
   "source": [
    "import time\n",
    "par_hp_hess_time = time.time()\n",
    "par_hp_hess = data_set.get_kl_sens_hess(params, hyper_params)\n",
    "par_hp_hess_time = time.time() - par_hp_hess_time\n",
    "print('Num samples: %d' % Num_samples)\n",
    "print(par_hp_hess_time)"
   ]
  },
  {
   "cell_type": "code",
   "execution_count": 55,
   "metadata": {},
   "outputs": [
    {
     "name": "stdout",
     "output_type": "stream",
     "text": [
      "Diff / tol: 29692119576.845249\n",
      "Diff / tol: 9431212402.814554\n",
      "Diff / tol: 1082819284.651538\n",
      "Diff / tol: 800000000.000000\n",
      "Diff / tol: 121935540.902059\n",
      "Diff / tol: 76139213.791759\n",
      "Diff / tol: 47542987.335278\n",
      "Diff / tol: 29686879.233408\n",
      "Diff / tol: 18537135.506521\n",
      "Diff / tol: 11574992.106293\n",
      "Diff / tol: 7227677.772199\n",
      "Diff / tol: 4513119.793005\n",
      "Diff / tol: 2818090.527578\n",
      "Diff / tol: 1759677.249063\n",
      "Diff / tol: 1098780.891173\n",
      "Diff / tol: 686102.776920\n",
      "Diff / tol: 428417.552937\n",
      "Diff / tol: 267513.273344\n",
      "Diff / tol: 167041.128306\n",
      "Diff / tol: 104304.127417\n",
      "Diff / tol: 65129.774372\n",
      "Diff / tol: 40668.453061\n",
      "Diff / tol: 25394.269984\n",
      "Diff / tol: 15856.736599\n",
      "Diff / tol: 9901.292524\n",
      "Diff / tol: 6182.583223\n",
      "Diff / tol: 3860.539946\n",
      "Diff / tol: 2410.605428\n",
      "Diff / tol: 1505.234658\n",
      "Diff / tol: 939.901383\n",
      "Diff / tol: 586.894944\n",
      "Diff / tol: 366.470017\n",
      "Diff / tol: 228.831879\n",
      "Diff / tol: 142.887621\n",
      "Diff / tol: 89.222151\n",
      "Diff / tol: 55.712258\n",
      "Diff / tol: 34.787951\n",
      "Diff / tol: 21.722356\n",
      "Diff / tol: 13.563914\n",
      "Diff / tol: 8.469604\n",
      "Diff / tol: 5.288604\n",
      "Diff / tol: 3.302321\n",
      "Diff / tol: 2.062042\n",
      "Diff / tol: 1.287583\n",
      "Diff / tol: 0.803996\n",
      "Done at step 45\n"
     ]
    }
   ],
   "source": [
    "def flatten_params(tau, nu, phi_mu, phi_var):\n",
    "    return np.hstack([ tau.flatten(), nu.flatten(), phi_mu.flatten(), phi_var.flatten() ])\n",
    "\n",
    "true_init = False\n",
    "if true_init:\n",
    "    tau, phi_mu, phi_var, nu = data_set.unpack_params(params_true)\n",
    "else:\n",
    "    tau, phi_mu, phi_var, nu = data_set.unpack_params(params_init)\n",
    "\n",
    "params = flatten_params(tau, nu, phi_mu, phi_var)\n",
    "\n",
    "max_iter = 1000\n",
    "tol = 1e-8\n",
    "step = 0\n",
    "diff = np.float('inf')\n",
    "\n",
    "while diff > tol and step < max_iter:\n",
    "    data_set.cavi_updates(tau, nu, phi_mu, phi_var)\n",
    "    new_params = flatten_params(tau, nu, phi_mu, phi_var)\n",
    "    diff = np.max(np.abs(new_params - params))\n",
    "    print 'Diff / tol: %f' % (diff  / tol)\n",
    "    if not np.isfinite(diff):\n",
    "        break\n",
    "    params = new_params\n",
    "    step = step + 1\n",
    "    \n",
    "print('Done at step %d' % step)\n",
    "\n",
    "cavi_tau = deepcopy(tau)\n",
    "cavi_phi_mu = deepcopy(phi_mu)\n",
    "cavi_phi_var = deepcopy(phi_var)\n",
    "cavi_nu = deepcopy(nu)"
   ]
  },
  {
   "cell_type": "code",
   "execution_count": 56,
   "metadata": {},
   "outputs": [
    {
     "name": "stdout",
     "output_type": "stream",
     "text": [
      "True\n"
     ]
    }
   ],
   "source": [
    "nu_tol = 1e-8\n",
    "cavi_nu_trim = deepcopy(cavi_nu)\n",
    "cavi_nu_trim[cavi_nu_trim < nu_tol] = nu_tol\n",
    "cavi_nu_trim[cavi_nu_trim > 1 - nu_tol] = 1 - nu_tol\n",
    "\n",
    "cavi_params = pack_params(cavi_tau, cavi_phi_mu, cavi_phi_var, cavi_nu_trim)\n",
    "print np.all(np.isfinite(cavi_params))"
   ]
  },
  {
   "cell_type": "code",
   "execution_count": 57,
   "metadata": {},
   "outputs": [
    {
     "name": "stdout",
     "output_type": "stream",
     "text": [
      "-1613943.31935\n",
      "-1613943.32339\n",
      "-1613943.3234\n",
      "-1613943.32344\n",
      "-1613943.32374\n",
      "-1613943.32382\n",
      "-1613943.32397\n",
      "-1613943.32491\n",
      "-1613943.32496\n",
      "-1613943.32594\n",
      "-1613943.32669\n",
      "-1613943.32901\n",
      "-1613943.32937\n",
      "-1613943.33246\n",
      "-1613943.3327\n",
      "-1613943.3354\n",
      "-1613943.33641\n",
      "-1613943.33678\n",
      "-1613943.33692\n",
      "-1613943.33697\n",
      "-1613943.33699\n",
      "Warning: Maximum number of iterations has been exceeded.\n",
      "         Current function value: -1613943.336985\n",
      "         Iterations: 20\n",
      "         Function evaluations: 21\n",
      "         Gradient evaluations: 21\n",
      "         Hessian evaluations: 0\n"
     ]
    }
   ],
   "source": [
    "vb_opt = optimize.minimize(\n",
    "    lambda params: data_set.wrapped_kl(params, verbose=True),\n",
    "    cavi_params, method='trust-ncg', jac=data_set.get_kl_grad, hessp=data_set.get_kl_hvp,\n",
    "    tol=1e-6, options={'maxiter': 20, 'disp': True, 'gtol': 1e-6 })"
   ]
  },
  {
   "cell_type": "code",
   "execution_count": 58,
   "metadata": {},
   "outputs": [
    {
     "name": "stdout",
     "output_type": "stream",
     "text": [
      "-505763.589408\n",
      "-505853.906502\n",
      "-505855.373389\n",
      "-505857.037908\n",
      "-505857.24476\n",
      "-505857.47894\n",
      "-505857.593677\n",
      "-505857.615145\n",
      "-505857.615356\n",
      "-505857.616322\n",
      "-505857.616406\n",
      "-505857.617647\n",
      "-505857.617776\n",
      "-505857.619008\n",
      "-505857.619508\n",
      "-505857.619511\n",
      "-505873.591947\n",
      "nan\n",
      "nan\n",
      "nan\n",
      "nan\n",
      "Warning: Maximum number of iterations has been exceeded.\n",
      "         Current function value: -505873.591947\n",
      "         Iterations: 20\n",
      "         Function evaluations: 21\n",
      "         Gradient evaluations: 17\n",
      "         Hessian evaluations: 0\n"
     ]
    },
    {
     "name": "stderr",
     "output_type": "stream",
     "text": [
      "/home/rgiordan/Documents/git_repos/autograd/autograd/core.py:83: RuntimeWarning: divide by zero encountered in log\n",
      "  result_value = self.fun(*argvals, **kwargs)\n",
      "valez_finite_VI_lib.py:85: RuntimeWarning: invalid value encountered in multiply\n",
      "  return -1 * np.sum(nu * log_nu + (1 - nu) * log_1mnu)\n"
     ]
    }
   ],
   "source": [
    "data_set.x_rows = slice(0, 100)\n",
    "vb_sample_opt = optimize.minimize(\n",
    "    lambda params: data_set.wrapped_sample_kl(params, verbose=True),\n",
    "    cavi_params, method='trust-ncg', jac=data_set.get_sample_kl_grad, hessp=data_set.get_sample_kl_hvp,\n",
    "    tol=1e-6, options={'maxiter': 20, 'disp': True, 'gtol': 1e-6 })"
   ]
  },
  {
   "cell_type": "code",
   "execution_count": 59,
   "metadata": {},
   "outputs": [
    {
     "name": "stdout",
     "output_type": "stream",
     "text": [
      "CAVI:\n",
      "[[ -5.66801338  -8.28963591]\n",
      " [  3.87425832 -22.81115863]\n",
      " [  9.88813789 -13.25042291]]\n",
      "Full TR:\n",
      "[[ -5.66749816  -8.28888238]\n",
      " [  3.87431226 -22.81106095]\n",
      " [  9.88803364 -13.25044596]]\n",
      "Sample TR:\n",
      "[[ -5.36394836  -8.27025417]\n",
      " [  4.09406891 -22.32375524]\n",
      " [  9.50658387 -13.99904227]]\n",
      "Truth:\n",
      "[[ 10.93428832 -10.94470047]\n",
      " [ -5.75164307  -8.33297181]\n",
      " [  7.57701316 -18.24148303]]\n"
     ]
    }
   ],
   "source": [
    "print 'CAVI:'\n",
    "print cavi_phi_mu.transpose()\n",
    "\n",
    "print 'Full TR:'\n",
    "tau, phi_mu, phi_var, nu = unpack_params(vb_opt.x, D=D, K_approx=K_approx, Num_samples=Num_samples)\n",
    "print phi_mu.transpose()\n",
    "\n",
    "print 'Sample TR:'\n",
    "tau, phi_mu, phi_var, nu = unpack_params(vb_sample_opt.x, D=D, K_approx=K_approx, Num_samples=Num_samples)\n",
    "print phi_mu.transpose()\n",
    "\n",
    "print 'Truth:'\n",
    "print A\n",
    "\n"
   ]
  }
 ],
 "metadata": {
  "kernelspec": {
   "display_name": "Python 3",
   "language": "python",
   "name": "python3"
  },
  "language_info": {
   "codemirror_mode": {
    "name": "ipython",
    "version": 2
   },
   "file_extension": ".py",
   "mimetype": "text/x-python",
   "name": "python",
   "nbconvert_exporter": "python",
   "pygments_lexer": "ipython2",
   "version": "2.7.12"
  }
 },
 "nbformat": 4,
 "nbformat_minor": 2
}
