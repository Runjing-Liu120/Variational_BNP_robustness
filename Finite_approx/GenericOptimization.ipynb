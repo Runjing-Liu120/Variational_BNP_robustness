{
 "cells": [
  {
   "cell_type": "code",
   "execution_count": 1,
   "metadata": {
    "collapsed": true
   },
   "outputs": [],
   "source": [
    "import autograd.numpy as np\n",
    "import autograd.scipy as sp\n",
    "from autograd.scipy import special\n",
    "from autograd import grad, hessian, hessian_vector_product, hessian, jacobian\n",
    "import matplotlib.pyplot as plt\n",
    "from copy import deepcopy\n",
    "\n",
    "from scipy import optimize\n",
    "\n",
    "from valez_finite_VI_lib import initialize_parameters, generate_data, compute_elbo, cavi_updates\n",
    "from generic_optimization_lib import unpack_params, pack_params"
   ]
  },
  {
   "cell_type": "code",
   "execution_count": 2,
   "metadata": {
    "collapsed": true
   },
   "outputs": [],
   "source": [
    "def check_approx_eq(x, y, tol=1e-12):\n",
    "    return np.max(np.abs(x - y)) < tol"
   ]
  },
  {
   "cell_type": "code",
   "execution_count": 3,
   "metadata": {
    "collapsed": true
   },
   "outputs": [],
   "source": [
    "#np.random.seed(12321)\n",
    "\n",
    "alpha = 10 # IBP parameter\n",
    "\n",
    "Num_samples = 2000 # sample size\n",
    "D = 2 # dimension\n",
    "# so X will be a N\\times D matrix\n",
    "\n",
    "sigma_A = 100\n",
    "\n",
    "sigma_eps = .1 # variance of noise\n",
    "\n",
    "K_inf = 3 # take to be large for a good approximation to the IBP\n",
    "\n",
    "Pi, Z, mu, A, X = generate_data(Num_samples, D, K_inf, sigma_A, sigma_eps, alpha)\n",
    "\n",
    "K_approx = deepcopy(K_inf) # variational truncation\n",
    "\n",
    "tau, nu, phi_mu, phi_var = initialize_parameters(Num_samples, D, K_approx)\n",
    "nu_init = np.round(nu * (nu >= 0.9) + nu * (nu <= 0.1)) + nu * (nu >= 0.1) * (nu <= 0.9)\n",
    "params = pack_params(deepcopy(tau), deepcopy(phi_mu), deepcopy(phi_var), deepcopy(nu))\n",
    "params_init = deepcopy(params)\n"
   ]
  },
  {
   "cell_type": "code",
   "execution_count": 4,
   "metadata": {},
   "outputs": [
    {
     "name": "stdout",
     "output_type": "stream",
     "text": [
      "0.0\n",
      "0.0\n",
      "0.0\n"
     ]
    }
   ],
   "source": [
    "def pack_hyperparameters(alpha, sigma_A, sigma_eps):\n",
    "    return np.array([ alpha, sigma_A, sigma_eps ])\n",
    "\n",
    "def unpack_hyperparameters(hyper_params):\n",
    "    alpha = hyper_params[0]\n",
    "    sigma_A = hyper_params[1]\n",
    "    sigma_eps = hyper_params[2]\n",
    "    return alpha, sigma_A, sigma_eps\n",
    "\n",
    "hyper_params = pack_hyperparameters(alpha, sigma_A, sigma_eps)\n",
    "alpha0, sigma_A0, sigma_eps0 = unpack_hyperparameters(hyper_params)\n",
    "print np.abs(alpha0 - alpha)\n",
    "print np.abs(sigma_A0 - sigma_A)\n",
    "print np.abs(sigma_eps0 - sigma_eps)\n"
   ]
  },
  {
   "cell_type": "code",
   "execution_count": 5,
   "metadata": {
    "collapsed": true
   },
   "outputs": [],
   "source": [
    "tau_true = np.zeros_like(tau)\n",
    "tau_true_scale = 15.\n",
    "tau_true[:, 0] = deepcopy(Pi) * tau_true_scale\n",
    "tau_true[:, 1] = tau_true_scale\n",
    "\n",
    "nu_true = np.zeros_like(nu)\n",
    "nu_true[ Z == 1] = 0.999\n",
    "nu_true[ Z == 0] = 0.001\n",
    "\n",
    "phi_mu_true = np.zeros_like(phi_mu)\n",
    "phi_mu_true[:] = A.transpose()\n",
    "phi_var_true = np.zeros_like(phi_var)\n",
    "phi_var_true[:] = 0.01\n",
    "\n",
    "params_true = pack_params(deepcopy(tau_true), deepcopy(phi_mu_true), deepcopy(phi_var_true), deepcopy(nu_true))"
   ]
  },
  {
   "cell_type": "code",
   "execution_count": 6,
   "metadata": {
    "collapsed": true
   },
   "outputs": [],
   "source": [
    "class DataSet(object):\n",
    "    def __init__(self, X, K_approx, alpha, sigma_eps, sigma_A):\n",
    "        self.X = X\n",
    "        self.K_approx = K_approx\n",
    "        self.alpha = alpha\n",
    "        self.data_shape = {'D': X.shape[1], 'N': X.shape[0] , 'K':K_approx}\n",
    "        self.sigmas = {'eps': sigma_eps, 'A': sigma_A}\n",
    "        self.x_rows = slice(0, X.shape[0])\n",
    "\n",
    "        self.get_kl_grad = grad(self.wrapped_kl)\n",
    "        self.get_kl_hvp = hessian_vector_product(self.wrapped_kl)\n",
    "        self.get_kl_hessian = hessian(self.wrapped_kl)\n",
    "\n",
    "        # It turns out to be much faster to take the gradient wrt the small vector first.\n",
    "        self.get_wrapped_kl_hyperparams_hyperparamgrad = grad(self.wrapped_kl_hyperparams, argnum=1)\n",
    "        self.get_kl_sens_hess = jacobian(self.get_wrapped_kl_hyperparams_hyperparamgrad, argnum=0)\n",
    "\n",
    "    def unpack_params(self, params):\n",
    "         return unpack_params(params, self.data_shape['K'], self.data_shape['D'],\n",
    "                              self.X[self.x_rows, :].shape[0])\n",
    "        \n",
    "    def cavi_updates(self, tau, nu, phi_mu, phi_var):\n",
    "        cavi_updates(tau, nu, phi_mu, phi_var, self.X[self.x_rows, :], self.alpha, self.sigmas)\n",
    "\n",
    "    def wrapped_kl(self, params, verbose=False):\n",
    "        tau, phi_mu, phi_var, nu = self.unpack_params(params)\n",
    "        elbo = compute_elbo(tau, nu, phi_mu, phi_var, self.X[self.x_rows, :], self.sigmas, self.alpha)\n",
    "        if verbose:\n",
    "            print -1 * elbo\n",
    "        return -1 * elbo\n",
    "\n",
    "    def wrapped_kl_hyperparams(self, params, hyper_params):\n",
    "        tau, phi_mu, phi_var, nu = self.unpack_params(params)\n",
    "        alpha, sigma_A, sigma_eps = unpack_hyperparameters(hyper_params)\n",
    "        sigmas = {'eps': sigma_eps, 'A': sigma_A}\n",
    "        elbo = compute_elbo(tau, nu, phi_mu, phi_var, self.X[self.x_rows, :], sigmas, alpha)\n",
    "        return -1 * elbo\n",
    "\n"
   ]
  },
  {
   "cell_type": "code",
   "execution_count": 7,
   "metadata": {},
   "outputs": [],
   "source": [
    "data_set = DataSet(X, K_approx, alpha, sigma_eps, sigma_A)\n",
    "data_set.wrapped_kl(params)\n",
    "kl_grad = data_set.get_kl_grad(params)\n",
    "kl_hvp = data_set.get_kl_hvp(params, kl_grad)"
   ]
  },
  {
   "cell_type": "code",
   "execution_count": 8,
   "metadata": {},
   "outputs": [
    {
     "name": "stdout",
     "output_type": "stream",
     "text": [
      "Num samples: 2000\n",
      "Hessian time:\n",
      "0.0154309272766\n"
     ]
    }
   ],
   "source": [
    "import time\n",
    "par_hp_hess_time = time.time()\n",
    "par_hp_hess = data_set.get_kl_sens_hess(params, hyper_params)\n",
    "par_hp_hess_time = time.time() - par_hp_hess_time\n",
    "print('Num samples: %d' % Num_samples)\n",
    "print('Hessian time:')\n",
    "print(par_hp_hess_time)"
   ]
  },
  {
   "cell_type": "code",
   "execution_count": 9,
   "metadata": {},
   "outputs": [
    {
     "name": "stdout",
     "output_type": "stream",
     "text": [
      "Diff / tol: 167379366173.977051\n",
      "Diff / tol: 66918297332.837257\n",
      "Diff / tol: 23874047185.762764\n",
      "Diff / tol: 247755580.851436\n",
      "Diff / tol: 5791450889.653265\n",
      "Diff / tol: 608549110.346735\n",
      "Diff / tol: 44760393.074283\n",
      "Diff / tol: 19334051.723008\n",
      "Diff / tol: 8351257.224393\n",
      "Diff / tol: 3607288.777766\n",
      "Diff / tol: 1558265.907289\n",
      "Diff / tol: 1285529.939514\n",
      "Diff / tol: 2585856.889596\n",
      "Diff / tol: 3072365.297339\n",
      "Diff / tol: 3372211.123360\n",
      "Diff / tol: 3983575.606276\n",
      "Diff / tol: 5325852.992291\n",
      "Diff / tol: 8261928.410411\n",
      "Diff / tol: 14871316.345238\n",
      "Diff / tol: 26708789.809027\n",
      "Diff / tol: 24739487.012721\n",
      "Diff / tol: 5845501.430895\n",
      "Diff / tol: 2452461.879125\n",
      "Diff / tol: 2700590.915197\n",
      "Diff / tol: 2851181.763072\n",
      "Diff / tol: 3070978.478036\n",
      "Diff / tol: 3619944.965317\n",
      "Diff / tol: 4802163.657769\n",
      "Diff / tol: 7314548.629483\n",
      "Diff / tol: 12881381.661214\n",
      "Diff / tol: 23816519.342358\n",
      "Diff / tol: 27657266.282517\n",
      "Diff / tol: 11451828.386112\n",
      "Diff / tol: 12604236.506786\n",
      "Diff / tol: 28589667.711913\n",
      "Diff / tol: 65657486.053806\n",
      "Diff / tol: 87341644.684852\n",
      "Diff / tol: 73554789.022296\n",
      "Diff / tol: 129150383.829119\n",
      "Diff / tol: 217306423.371565\n",
      "Diff / tol: 757201939.195079\n",
      "Diff / tol: 2931544234.806347\n",
      "Diff / tol: 2594228838.678441\n",
      "Diff / tol: 51029971.402911\n",
      "Diff / tol: 20678367.023972\n",
      "Diff / tol: 7791990.624589\n",
      "Diff / tol: 2910385.874639\n",
      "Diff / tol: 1085841.083462\n",
      "Diff / tol: 405060.442263\n",
      "Diff / tol: 151100.344403\n",
      "Diff / tol: 56365.071303\n",
      "Diff / tol: 21025.897240\n",
      "Diff / tol: 7843.303084\n",
      "Diff / tol: 2925.792053\n",
      "Diff / tol: 1091.409962\n",
      "Diff / tol: 407.129311\n",
      "Diff / tol: 151.871692\n",
      "Diff / tol: 56.652790\n",
      "Diff / tol: 21.133220\n",
      "Diff / tol: 7.883339\n",
      "Diff / tol: 2.940725\n",
      "Diff / tol: 1.096982\n",
      "Diff / tol: 0.409212\n",
      "Done at step 63\n"
     ]
    }
   ],
   "source": [
    "def flatten_params(tau, nu, phi_mu, phi_var):\n",
    "    return np.hstack([ tau.flatten(), nu.flatten(), phi_mu.flatten(), phi_var.flatten() ])\n",
    "\n",
    "true_init = False\n",
    "if true_init:\n",
    "    tau, phi_mu, phi_var, nu = data_set.unpack_params(params_true)\n",
    "else:\n",
    "    tau, phi_mu, phi_var, nu = data_set.unpack_params(params_init)\n",
    "\n",
    "params = flatten_params(tau, nu, phi_mu, phi_var)\n",
    "\n",
    "max_iter = 1000\n",
    "tol = 1e-8\n",
    "step = 0\n",
    "diff = np.float('inf')\n",
    "\n",
    "while diff > tol and step < max_iter:\n",
    "    data_set.cavi_updates(tau, nu, phi_mu, phi_var)\n",
    "    new_params = flatten_params(tau, nu, phi_mu, phi_var)\n",
    "    diff = np.max(np.abs(new_params - params))\n",
    "    print 'Diff / tol: %f' % (diff  / tol)\n",
    "    if not np.isfinite(diff):\n",
    "        break\n",
    "    params = new_params\n",
    "    step = step + 1\n",
    "    \n",
    "print('Done at step %d' % step)\n",
    "\n",
    "cavi_tau = deepcopy(tau)\n",
    "cavi_phi_mu = deepcopy(phi_mu)\n",
    "cavi_phi_var = deepcopy(phi_var)\n",
    "cavi_nu = deepcopy(nu)"
   ]
  },
  {
   "cell_type": "code",
   "execution_count": 10,
   "metadata": {},
   "outputs": [
    {
     "name": "stdout",
     "output_type": "stream",
     "text": [
      "True\n"
     ]
    }
   ],
   "source": [
    "nu_tol = 1e-8\n",
    "cavi_nu_trim = deepcopy(cavi_nu)\n",
    "cavi_nu_trim[cavi_nu_trim < nu_tol] = nu_tol\n",
    "cavi_nu_trim[cavi_nu_trim > 1 - nu_tol] = 1 - nu_tol\n",
    "\n",
    "cavi_params = pack_params(cavi_tau, cavi_phi_mu, cavi_phi_var, cavi_nu_trim)\n",
    "print np.all(np.isfinite(cavi_params))"
   ]
  },
  {
   "cell_type": "code",
   "execution_count": 18,
   "metadata": {},
   "outputs": [
    {
     "name": "stdout",
     "output_type": "stream",
     "text": [
      "-2822695.31403\n",
      "-2822695.31426\n",
      "-2822695.31429\n",
      "-2822695.3143\n",
      "-2822695.31597\n",
      "-2822695.31614\n",
      "-2822695.31692\n",
      "-2822695.32132\n",
      "-2822695.32204\n",
      "-2822695.33146\n",
      "-2822695.33146\n",
      "-2822695.34456\n",
      "-2822695.34859\n",
      "-2822695.349\n",
      "-2822695.37711\n",
      "-2822695.37723\n",
      "-2822695.41562\n",
      "-2822695.41562\n",
      "-2822695.45394\n",
      "-2822695.45413\n",
      "-2822695.45414\n",
      "-2822695.4542\n",
      "-2822695.47242\n",
      "-2822695.47912\n",
      "-2822695.48159\n",
      "-2822695.4825\n",
      "-2822695.48283\n",
      "-2822695.48295\n",
      "-2822695.483\n",
      "Optimization terminated successfully.\n",
      "         Current function value: -2822695.483000\n",
      "         Iterations: 28\n",
      "         Function evaluations: 29\n",
      "         Gradient evaluations: 29\n",
      "         Hessian evaluations: 0\n"
     ]
    }
   ],
   "source": [
    "data_set.x_rows = slice(0, data_set.X.shape[0])\n",
    "vb_opt = optimize.minimize(\n",
    "    lambda params: data_set.wrapped_kl(params, verbose=True),\n",
    "    cavi_params, method='trust-ncg', jac=data_set.get_kl_grad, hessp=data_set.get_kl_hvp,\n",
    "    tol=1e-6, options={'maxiter': 200, 'disp': True, 'gtol': 1e-6 })"
   ]
  },
  {
   "cell_type": "code",
   "execution_count": 21,
   "metadata": {},
   "outputs": [
    {
     "name": "stdout",
     "output_type": "stream",
     "text": [
      "-300480.251541\n",
      "-300492.746202\n",
      "-300494.553257\n",
      "-300496.880917\n",
      "-300497.193065\n",
      "-300498.52369\n",
      "-300498.821633\n",
      "-300501.035959\n",
      "-300501.269892\n",
      "-300501.290363\n",
      "-300501.825334\n",
      "-300502.385677\n",
      "-300502.731021\n",
      "-300502.745528\n",
      "-300503.011899\n",
      "-300503.059282\n",
      "-300503.077424\n",
      "-300503.080437\n",
      "-300503.084549\n",
      "-300503.084559\n",
      "-300503.08476\n",
      "Warning: Maximum number of iterations has been exceeded.\n",
      "         Current function value: -300503.084760\n",
      "         Iterations: 20\n",
      "         Function evaluations: 21\n",
      "         Gradient evaluations: 21\n",
      "         Hessian evaluations: 0\n"
     ]
    }
   ],
   "source": [
    "sample_slice = slice(0, 200)\n",
    "data_set.x_rows = sample_slice\n",
    "cavi_params_trim = pack_params(cavi_tau, cavi_phi_mu, cavi_phi_var, cavi_nu_trim[data_set.x_rows, :])\n",
    "\n",
    "vb_sample_opt = optimize.minimize(\n",
    "    lambda params: data_set.wrapped_kl(params, verbose=True),\n",
    "    cavi_params_trim, method='trust-ncg', jac=data_set.get_kl_grad, hessp=data_set.get_kl_hvp,\n",
    "    tol=1e-6, options={'maxiter': 20, 'disp': True, 'gtol': 1e-6 })"
   ]
  },
  {
   "cell_type": "code",
   "execution_count": 20,
   "metadata": {},
   "outputs": [
    {
     "name": "stdout",
     "output_type": "stream",
     "text": [
      "CAVI:\n",
      "[[ -9.76382705  -7.65672736]\n",
      " [-19.85548388  -9.57560872]\n",
      " [ 30.73506246  10.74426103]]\n",
      "Full TR:\n",
      "[[ -9.76383271  -7.65672714]\n",
      " [-19.85536547  -9.5755616 ]\n",
      " [ 30.7348768   10.74419117]]\n",
      "Sample TR:\n"
     ]
    },
    {
     "ename": "AssertionError",
     "evalue": "",
     "output_type": "error",
     "traceback": [
      "\u001b[0;31m---------------------------------------------------------------------------\u001b[0m",
      "\u001b[0;31mAssertionError\u001b[0m                            Traceback (most recent call last)",
      "\u001b[0;32m<ipython-input-20-f394ff1a97cc>\u001b[0m in \u001b[0;36m<module>\u001b[0;34m()\u001b[0m\n\u001b[1;32m      7\u001b[0m \u001b[0;34m\u001b[0m\u001b[0m\n\u001b[1;32m      8\u001b[0m \u001b[0;32mprint\u001b[0m \u001b[0;34m'Sample TR:'\u001b[0m\u001b[0;34m\u001b[0m\u001b[0m\n\u001b[0;32m----> 9\u001b[0;31m \u001b[0mtau\u001b[0m\u001b[0;34m,\u001b[0m \u001b[0mphi_mu\u001b[0m\u001b[0;34m,\u001b[0m \u001b[0mphi_var\u001b[0m\u001b[0;34m,\u001b[0m \u001b[0mnu\u001b[0m \u001b[0;34m=\u001b[0m \u001b[0munpack_params\u001b[0m\u001b[0;34m(\u001b[0m\u001b[0mvb_sample_opt\u001b[0m\u001b[0;34m.\u001b[0m\u001b[0mx\u001b[0m\u001b[0;34m,\u001b[0m \u001b[0mD\u001b[0m\u001b[0;34m=\u001b[0m\u001b[0mD\u001b[0m\u001b[0;34m,\u001b[0m \u001b[0mK_approx\u001b[0m\u001b[0;34m=\u001b[0m\u001b[0mK_approx\u001b[0m\u001b[0;34m,\u001b[0m \u001b[0mNum_samples\u001b[0m\u001b[0;34m=\u001b[0m\u001b[0mNum_samples\u001b[0m\u001b[0;34m)\u001b[0m\u001b[0;34m\u001b[0m\u001b[0m\n\u001b[0m\u001b[1;32m     10\u001b[0m \u001b[0;32mprint\u001b[0m \u001b[0mphi_mu\u001b[0m\u001b[0;34m.\u001b[0m\u001b[0mtranspose\u001b[0m\u001b[0;34m(\u001b[0m\u001b[0;34m)\u001b[0m\u001b[0;34m\u001b[0m\u001b[0m\n\u001b[1;32m     11\u001b[0m \u001b[0;34m\u001b[0m\u001b[0m\n",
      "\u001b[0;32m/home/rgiordan/Documents/git_repos/Variational_BNP_robustness/Finite_approx/generic_optimization_lib.pyc\u001b[0m in \u001b[0;36munpack_params\u001b[0;34m(params, K_approx, D, Num_samples)\u001b[0m\n\u001b[1;32m     39\u001b[0m     \u001b[0mnu_size\u001b[0m \u001b[0;34m=\u001b[0m \u001b[0mNum_samples\u001b[0m \u001b[0;34m*\u001b[0m \u001b[0mK_approx\u001b[0m\u001b[0;34m\u001b[0m\u001b[0m\n\u001b[1;32m     40\u001b[0m \u001b[0;34m\u001b[0m\u001b[0m\n\u001b[0;32m---> 41\u001b[0;31m     \u001b[0;32massert\u001b[0m \u001b[0mlen\u001b[0m\u001b[0;34m(\u001b[0m\u001b[0mparams\u001b[0m\u001b[0;34m)\u001b[0m \u001b[0;34m==\u001b[0m \u001b[0mtau_size\u001b[0m \u001b[0;34m+\u001b[0m \u001b[0mphi_mu_size\u001b[0m \u001b[0;34m+\u001b[0m \u001b[0mphi_var_size\u001b[0m \u001b[0;34m+\u001b[0m \u001b[0mnu_size\u001b[0m\u001b[0;34m\u001b[0m\u001b[0m\n\u001b[0m\u001b[1;32m     42\u001b[0m \u001b[0;34m\u001b[0m\u001b[0m\n\u001b[1;32m     43\u001b[0m     \u001b[0mtau\u001b[0m \u001b[0;34m=\u001b[0m \u001b[0munpack_tau\u001b[0m\u001b[0;34m(\u001b[0m\u001b[0mparams\u001b[0m\u001b[0;34m[\u001b[0m\u001b[0moffset\u001b[0m\u001b[0;34m:\u001b[0m\u001b[0;34m(\u001b[0m\u001b[0moffset\u001b[0m \u001b[0;34m+\u001b[0m \u001b[0mtau_size\u001b[0m\u001b[0;34m)\u001b[0m\u001b[0;34m]\u001b[0m\u001b[0;34m,\u001b[0m \u001b[0mK_approx\u001b[0m\u001b[0;34m,\u001b[0m \u001b[0mD\u001b[0m\u001b[0;34m)\u001b[0m\u001b[0;34m\u001b[0m\u001b[0m\n",
      "\u001b[0;31mAssertionError\u001b[0m: "
     ]
    }
   ],
   "source": [
    "print 'CAVI:'\n",
    "print cavi_phi_mu.transpose()\n",
    "\n",
    "print 'Full TR:'\n",
    "tau, phi_mu, phi_var, nu = unpack_params(vb_opt.x, D=D, K_approx=K_approx, Num_samples=Num_samples)\n",
    "print phi_mu.transpose()\n",
    "\n",
    "print 'Sample TR:'\n",
    "tau, phi_mu, phi_var, nu = \\\n",
    "    unpack_params(vb_sample_opt.x, D=D, K_approx=K_approx, Num_samples=data_set.X[sample_slice, :].shape[0])\n",
    "print phi_mu.transpose()\n",
    "\n",
    "print 'Truth:'\n",
    "print A\n",
    "\n"
   ]
  }
 ],
 "metadata": {
  "kernelspec": {
   "display_name": "Python 3",
   "language": "python",
   "name": "python3"
  },
  "language_info": {
   "codemirror_mode": {
    "name": "ipython",
    "version": 2
   },
   "file_extension": ".py",
   "mimetype": "text/x-python",
   "name": "python",
   "nbconvert_exporter": "python",
   "pygments_lexer": "ipython2",
   "version": "2.7.12"
  }
 },
 "nbformat": 4,
 "nbformat_minor": 2
}
