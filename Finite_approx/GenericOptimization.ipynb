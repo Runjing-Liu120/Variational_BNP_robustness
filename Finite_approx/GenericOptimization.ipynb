{
 "cells": [
  {
   "cell_type": "code",
   "execution_count": 1,
   "metadata": {
    "collapsed": true
   },
   "outputs": [],
   "source": [
    "import autograd.numpy as np\n",
    "import autograd.scipy as sp\n",
    "from autograd.scipy import special\n",
    "from autograd import grad, hessian, hessian_vector_product, hessian, jacobian\n",
    "import matplotlib.pyplot as plt\n",
    "%matplotlib inline  \n",
    "\n",
    "from copy import deepcopy\n",
    "\n",
    "from scipy import optimize\n",
    "\n",
    "import valez_finite_VI_lib as vi\n",
    "from data_set_lib import DataSet\n",
    "import generic_optimization_lib as packing"
   ]
  },
  {
   "cell_type": "code",
   "execution_count": 2,
   "metadata": {
    "collapsed": true
   },
   "outputs": [],
   "source": [
    "#np.random.seed(12321)\n",
    "\n",
    "alpha = 10 # IBP parameter\n",
    "\n",
    "num_samples = 50 # sample size\n",
    "D = 2 # dimension\n",
    "\n",
    "sigma_a = 3.0 ** 2\n",
    "\n",
    "sigma_eps = 1.0 ** 2 # variance of noise\n",
    "\n",
    "k_inf = 3 # take to be large for a good approximation to the IBP\n",
    "\n",
    "pi, Z, mu, A, X = vi.generate_data(num_samples, D, k_inf, sigma_a, sigma_eps, alpha)\n",
    "\n",
    "k_approx = k_inf # variational truncation\n",
    "\n",
    "tau_init, nu_init, phi_mu_init, phi_var_init = \\\n",
    "    vi.initialize_parameters(num_samples, D, k_approx)\n",
    "\n",
    "params_init = packing.pack_params(deepcopy(tau_init), deepcopy(phi_mu_init),\n",
    "                                  deepcopy(phi_var_init), deepcopy(nu_init))\n",
    "\n",
    "hyper_params = packing.pack_hyperparameters(alpha, sigma_a, sigma_eps)\n",
    "\n",
    "data_set = DataSet(X, k_approx, alpha, sigma_eps, sigma_a)"
   ]
  },
  {
   "cell_type": "code",
   "execution_count": 3,
   "metadata": {},
   "outputs": [
    {
     "data": {
      "image/png": "[encoded data removed]",
      "text/plain": [
       "<matplotlib.figure.Figure at 0x7fb397821b10>"
      ]
     },
     "metadata": {},
     "output_type": "display_data"
    },
    {
     "data": {
      "image/png": "[encoded data removed]",
      "text/plain": [
       "<matplotlib.figure.Figure at 0x7fb39782a390>"
      ]
     },
     "metadata": {},
     "output_type": "display_data"
    }
   ],
   "source": [
    "col = 0\n",
    "plt.figure()\n",
    "plt.hist(data_set.x[:, col], bins=100);\n",
    "\n",
    "col1 = 0\n",
    "col2 = 1\n",
    "plt.figure()\n",
    "plt.plot(data_set.x[:, col1], data_set.x[:, col2], 'k.');"
   ]
  },
  {
   "cell_type": "code",
   "execution_count": 4,
   "metadata": {
    "collapsed": true
   },
   "outputs": [],
   "source": [
    "# Parameters approximating the true distribution\n",
    "\n",
    "tau_true = np.zeros_like(tau_init)\n",
    "tau_true_scale = 15.\n",
    "tau_true[:, 0] = deepcopy(Pi) * tau_true_scale\n",
    "tau_true[:, 1] = tau_true_scale\n",
    "\n",
    "nu_true = np.zeros_like(nu_init)\n",
    "nu_true[Z == 1] = 0.999\n",
    "nu_true[Z == 0] = 0.001\n",
    "\n",
    "phi_mu_true = np.zeros_like(phi_mu_init)\n",
    "phi_mu_true[:] = A.transpose()\n",
    "phi_var_true = np.zeros_like(phi_var_init)\n",
    "phi_var_true[:] = 0.01\n",
    "\n",
    "params_true = packing.pack_params(deepcopy(tau_true), deepcopy(phi_mu_true),\n",
    "                                  deepcopy(phi_var_true), deepcopy(nu_true))"
   ]
  },
  {
   "cell_type": "code",
   "execution_count": 5,
   "metadata": {},
   "outputs": [
    {
     "name": "stdout",
     "output_type": "stream",
     "text": [
      "Num samples: 50\n",
      "Hessian time:\n",
      "0.0110011100769\n"
     ]
    }
   ],
   "source": [
    "import time\n",
    "par_hp_hess_time = time.time()\n",
    "par_hp_hess = data_set.get_kl_sens_hess(params_init, hyper_params)\n",
    "par_hp_hess_time = time.time() - par_hp_hess_time\n",
    "print('Num samples: %d' % Num_samples)\n",
    "print('Hessian time:')\n",
    "print(par_hp_hess_time)"
   ]
  },
  {
   "cell_type": "code",
   "execution_count": 6,
   "metadata": {},
   "outputs": [
    {
     "name": "stdout",
     "output_type": "stream",
     "text": [
      "Step 0 KL: 45.319347803\n",
      "Step 10 KL: 1.03684052619\n",
      "Step 20 KL: 1.12708921454\n",
      "Step 30 KL: 0.563728132719\n",
      "Step 40 KL: 0.0574976414352\n",
      "Step 50 KL: 0.00695506954154\n",
      "Step 60 KL: 0.000831872221838\n",
      "Step 70 KL: 9.94627094499e-05\n",
      "Step 80 KL: 1.18732011032e-05\n",
      "Step 90 KL: 1.41501823947e-06\n",
      "Done with CAVI.\n"
     ]
    }
   ],
   "source": [
    "true_init = False\n",
    "if true_init:\n",
    "    tau, phi_mu, phi_var, nu = data_set.unpack_params(params_true)\n",
    "else:\n",
    "    tau, phi_mu, phi_var, nu = data_set.unpack_params(params_init)\n",
    "\n",
    "tau, nu, phi_mu, phi_var = data_set.run_cavi(tau, nu, phi_mu, phi_var, max_iter=100, tol=1e-6)\n",
    "\n",
    "cavi_tau = deepcopy(tau)\n",
    "cavi_phi_mu = deepcopy(phi_mu)\n",
    "cavi_phi_var = deepcopy(phi_var)\n",
    "cavi_nu = deepcopy(nu)"
   ]
  },
  {
   "cell_type": "code",
   "execution_count": 7,
   "metadata": {},
   "outputs": [
    {
     "name": "stdout",
     "output_type": "stream",
     "text": [
      "True\n"
     ]
    }
   ],
   "source": [
    "nu_tol = 1e-8\n",
    "cavi_nu_trim = deepcopy(cavi_nu)\n",
    "cavi_nu_trim[cavi_nu_trim < nu_tol] = nu_tol\n",
    "cavi_nu_trim[cavi_nu_trim > 1 - nu_tol] = 1 - nu_tol\n",
    "\n",
    "cavi_params = packing.pack_params(cavi_tau, cavi_phi_mu, cavi_phi_var, cavi_nu_trim)\n",
    "print np.all(np.isfinite(cavi_params))"
   ]
  },
  {
   "cell_type": "code",
   "execution_count": 8,
   "metadata": {},
   "outputs": [
    {
     "name": "stdout",
     "output_type": "stream",
     "text": [
      "Step 0 KL: -390.555060174\n",
      "Optimization terminated successfully.\n",
      "         Current function value: -390.563269\n",
      "         Iterations: 3\n",
      "         Function evaluations: 4\n",
      "         Gradient evaluations: 4\n",
      "         Hessian evaluations: 0\n",
      "Done with Newton trust region.\n"
     ]
    }
   ],
   "source": [
    "data_set.trace.reset()\n",
    "vb_opt = data_set.run_newton_tr(cavi_params, maxiter=50, gtol=1e-2)"
   ]
  },
  {
   "cell_type": "code",
   "execution_count": 9,
   "metadata": {},
   "outputs": [
    {
     "name": "stdout",
     "output_type": "stream",
     "text": [
      "CAVI:\n",
      "[[-3.87479161  1.62498513]\n",
      " [ 0.86095145  2.27324601]\n",
      " [-0.67239648 -4.96465667]]\n",
      "Full TR:\n",
      "[[-3.87747125  1.62087546]\n",
      " [ 0.86319319  2.27376982]\n",
      " [-0.67322665 -4.96391827]]\n",
      "Truth:\n",
      "[[ 0.28145505  4.00563621]\n",
      " [ 0.06830239 -1.07415619]\n",
      " [-3.80462057  0.4087602 ]]\n"
     ]
    }
   ],
   "source": [
    "print 'CAVI:'\n",
    "print cavi_phi_mu.transpose()\n",
    "\n",
    "print 'Full TR:'\n",
    "tau, phi_mu, phi_var, nu = data_set.unpack_params(vb_opt.x)\n",
    "print phi_mu.transpose()\n",
    "\n",
    "print 'Truth:'\n",
    "print A\n",
    "\n"
   ]
  },
  {
   "cell_type": "code",
   "execution_count": 10,
   "metadata": {},
   "outputs": [
    {
     "name": "stdout",
     "output_type": "stream",
     "text": [
      "Cavi residuals: 78.1520045811    Trust residuals: 78.2574361263\n"
     ]
    },
    {
     "data": {
      "image/png": "[encoded data removed]",
      "text/plain": [
       "<matplotlib.figure.Figure at 0x7fb395196ad0>"
      ]
     },
     "metadata": {},
     "output_type": "display_data"
    }
   ],
   "source": [
    "cavi_resid = data_set.x - data_set.get_prediction(cavi_params)\n",
    "tr_resid = data_set.x - data_set.get_prediction(vb_opt.x)\n",
    "\n",
    "plt.figure()\n",
    "col = 0\n",
    "plt.plot(data_set.x[:, col], tr_resid[:, col], '.b')\n",
    "plt.plot(data_set.x[:, col], cavi_resid[:, col], '.r')\n",
    "plt.plot(data_set.x[:, col], np.full_like(data_set.x[:, col], 0.), 'k')\n",
    "\n",
    "print('Cavi residuals: {}    Trust residuals: {}'.format(\n",
    "       np.sum(np.abs(cavi_resid)), np.sum(np.abs(tr_resid))))\n"
   ]
  }
 ],
 "metadata": {
  "kernelspec": {
   "display_name": "Python 3",
   "language": "python",
   "name": "python3"
  },
  "language_info": {
   "codemirror_mode": {
    "name": "ipython",
    "version": 2
   },
   "file_extension": ".py",
   "mimetype": "text/x-python",
   "name": "python",
   "nbconvert_exporter": "python",
   "pygments_lexer": "ipython2",
   "version": "2.7.12"
  }
 },
 "nbformat": 4,
 "nbformat_minor": 2
}
