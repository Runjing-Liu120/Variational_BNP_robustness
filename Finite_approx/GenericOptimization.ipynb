{
 "cells": [
  {
   "cell_type": "code",
   "execution_count": 1,
   "metadata": {
    "collapsed": true
   },
   "outputs": [],
   "source": [
    "import autograd.numpy as np\n",
    "import autograd.scipy as sp\n",
    "from autograd.scipy import special\n",
    "from autograd import grad, hessian, hessian_vector_product, hessian, jacobian\n",
    "import matplotlib.pyplot as plt\n",
    "from copy import deepcopy\n",
    "\n",
    "from scipy import optimize\n",
    "\n",
    "from valez_finite_VI_lib import initialize_parameters, generate_data, compute_elbo, cavi_updates\n",
    "from generic_optimization_lib import unpack_params, pack_params"
   ]
  },
  {
   "cell_type": "code",
   "execution_count": 2,
   "metadata": {
    "collapsed": true
   },
   "outputs": [],
   "source": [
    "def check_approx_eq(x, y, tol=1e-12):\n",
    "    return np.max(np.abs(x - y)) < tol"
   ]
  },
  {
   "cell_type": "code",
   "execution_count": 3,
   "metadata": {
    "collapsed": true
   },
   "outputs": [],
   "source": [
    "#np.random.seed(12321)\n",
    "\n",
    "alpha = 10 # IBP parameter\n",
    "\n",
    "Num_samples = 20 # sample size\n",
    "D = 2 # dimension\n",
    "# so X will be a N\\times D matrix\n",
    "\n",
    "sigma_A = 100\n",
    "\n",
    "sigma_eps = .1 # variance of noise\n",
    "\n",
    "K_inf = 3 # take to be large for a good approximation to the IBP\n",
    "\n",
    "Pi, Z, mu, A, X = generate_data(Num_samples, D, K_inf, sigma_A, sigma_eps, alpha)\n",
    "\n",
    "K_approx = deepcopy(K_inf) # variational truncation\n",
    "\n",
    "tau, nu, phi_mu, phi_var = initialize_parameters(Num_samples, D, K_approx)\n",
    "nu_init = np.round(nu * (nu >= 0.9) + nu * (nu <= 0.1)) + nu * (nu >= 0.1) * (nu <= 0.9)\n",
    "params = pack_params(deepcopy(tau), deepcopy(phi_mu), deepcopy(phi_var), deepcopy(nu))\n",
    "params_init = deepcopy(params)\n"
   ]
  },
  {
   "cell_type": "code",
   "execution_count": 4,
   "metadata": {},
   "outputs": [
    {
     "name": "stdout",
     "output_type": "stream",
     "text": [
      "0.0\n",
      "0.0\n",
      "0.0\n"
     ]
    }
   ],
   "source": [
    "def pack_hyperparameters(alpha, sigma_A, sigma_eps):\n",
    "    return np.array([ alpha, sigma_A, sigma_eps ])\n",
    "\n",
    "def unpack_hyperparameters(hyper_params):\n",
    "    alpha = hyper_params[0]\n",
    "    sigma_A = hyper_params[1]\n",
    "    sigma_eps = hyper_params[2]\n",
    "    return alpha, sigma_A, sigma_eps\n",
    "\n",
    "hyper_params = pack_hyperparameters(alpha, sigma_A, sigma_eps)\n",
    "alpha0, sigma_A0, sigma_eps0 = unpack_hyperparameters(hyper_params)\n",
    "print np.abs(alpha0 - alpha)\n",
    "print np.abs(sigma_A0 - sigma_A)\n",
    "print np.abs(sigma_eps0 - sigma_eps)\n"
   ]
  },
  {
   "cell_type": "code",
   "execution_count": 5,
   "metadata": {},
   "outputs": [],
   "source": [
    "tau_true = np.zeros_like(tau)\n",
    "tau_true_scale = 15.\n",
    "tau_true[:, 0] = deepcopy(Pi) * tau_true_scale\n",
    "tau_true[:, 1] = tau_true_scale\n",
    "\n",
    "nu_true = np.zeros_like(nu)\n",
    "nu_true[ Z == 1] = 0.999\n",
    "nu_true[ Z == 0] = 0.001\n",
    "\n",
    "phi_mu_true = np.zeros_like(phi_mu)\n",
    "phi_mu_true[:] = A.transpose()\n",
    "phi_var_true = np.zeros_like(phi_var)\n",
    "phi_var_true[:] = 0.01\n",
    "\n",
    "params_true = pack_params(deepcopy(tau_true), deepcopy(phi_mu_true), deepcopy(phi_var_true), deepcopy(nu_true))"
   ]
  },
  {
   "cell_type": "code",
   "execution_count": 6,
   "metadata": {
    "collapsed": true
   },
   "outputs": [],
   "source": [
    "class DataSet(object):\n",
    "    def __init__(self, X, K_approx, alpha, sigma_eps, sigma_A):\n",
    "        self.X = X\n",
    "        self.K_approx = K_approx\n",
    "        self.alpha = alpha\n",
    "        self.data_shape = {'D': X.shape[1], 'N': X.shape[0] , 'K':K_approx}\n",
    "        self.sigmas = {'eps': sigma_eps, 'A': sigma_A}\n",
    "        self.x_rows = slice(0, X.shape[0])\n",
    "\n",
    "        self.get_kl_grad = grad(self.wrapped_kl)\n",
    "        self.get_kl_hvp = hessian_vector_product(self.wrapped_kl)\n",
    "        self.get_kl_hessian = hessian(self.wrapped_kl)\n",
    "\n",
    "        self.get_sample_kl_grad = grad(self.wrapped_sample_kl)\n",
    "        self.get_sample_kl_hvp = hessian_vector_product(self.wrapped_sample_kl)\n",
    "        \n",
    "        self.get_wrapped_kl_hyperparams_paramgrad = grad(self.wrapped_kl_hyperparams, argnum=0)\n",
    "        self.get_kl_sens_hess = jacobian(self.get_wrapped_kl_hyperparams_paramgrad, argnum=1)\n",
    "        \n",
    "    def unpack_params(self, params):\n",
    "         return unpack_params(params, self.data_shape['K'], self.data_shape['D'], self.data_shape['N'])\n",
    "        \n",
    "    def cavi_updates(self, tau, nu, phi_mu, phi_var):\n",
    "        cavi_updates(tau, nu, phi_mu, phi_var, self.X, self.alpha, self.sigmas)\n",
    "\n",
    "    def wrapped_kl(self, params, verbose=False):\n",
    "        tau, phi_mu, phi_var, nu = self.unpack_params(params)\n",
    "        elbo = compute_elbo(tau, nu, phi_mu, phi_var, self.X, self.sigmas, self.alpha)[0]\n",
    "        if verbose:\n",
    "            print -1 * elbo\n",
    "        return -1 * elbo\n",
    "\n",
    "    def wrapped_sample_kl(self, params, verbose=False):\n",
    "        tau, phi_mu, phi_var, nu = self.unpack_params(params)\n",
    "        elbo = compute_elbo(tau, nu[self.x_rows, :], phi_mu, phi_var,\n",
    "                            self.X[self.x_rows, :], self.sigmas, self.alpha)[0]\n",
    "        if verbose:\n",
    "            print -1 * elbo\n",
    "        return -1 * elbo\n",
    "    \n",
    "    def wrapped_kl_hyperparams(self, params, hyper_params):\n",
    "        tau, phi_mu, phi_var, nu = self.unpack_params(params)\n",
    "        alpha, sigma_A, sigma_eps = unpack_hyperparameters(hyper_params)\n",
    "        sigmas = {'eps': sigma_eps, 'A': sigma_A}\n",
    "        elbo = compute_elbo(tau, nu, phi_mu, phi_var, self.X, sigmas, alpha)[0]\n",
    "        return -1 * elbo\n",
    "\n"
   ]
  },
  {
   "cell_type": "code",
   "execution_count": 7,
   "metadata": {},
   "outputs": [
    {
     "name": "stdout",
     "output_type": "stream",
     "text": [
      "0.0\n"
     ]
    }
   ],
   "source": [
    "data_set = DataSet(X, K_approx, alpha, sigma_eps, sigma_A)\n",
    "data_set.wrapped_kl(params)\n",
    "kl_grad = data_set.get_kl_grad(params)\n",
    "kl_hvp = data_set.get_kl_hvp(params, kl_grad)\n",
    "print(data_set.wrapped_sample_kl(params) - data_set.wrapped_kl(params))"
   ]
  },
  {
   "cell_type": "code",
   "execution_count": 14,
   "metadata": {},
   "outputs": [
    {
     "name": "stdout",
     "output_type": "stream",
     "text": [
      "[[ -7.62382702  -7.28007832  14.36049881]\n",
      " [  9.61654343   1.10475998  -3.49914647]]\n"
     ]
    }
   ],
   "source": [
    "print phi_mu"
   ]
  },
  {
   "cell_type": "code",
   "execution_count": 8,
   "metadata": {},
   "outputs": [
    {
     "name": "stdout",
     "output_type": "stream",
     "text": [
      "[[ -7.12185044e-03   0.00000000e+00   0.00000000e+00]\n",
      " [  4.60444285e-03   0.00000000e+00   0.00000000e+00]\n",
      " [ -6.01141185e-01   0.00000000e+00   0.00000000e+00]\n",
      " [  2.92638105e-01   0.00000000e+00   0.00000000e+00]\n",
      " [ -1.02294948e+00   0.00000000e+00   0.00000000e+00]\n",
      " [  3.96374740e-01   0.00000000e+00   0.00000000e+00]\n",
      " [  0.00000000e+00   6.90510656e-05   5.60304505e+02]\n",
      " [  0.00000000e+00   1.78178160e-04   9.34791356e+02]\n",
      " [  0.00000000e+00  -3.42785670e-05   3.31198616e+02]\n",
      " [  0.00000000e+00  -8.78010340e-05   3.95001354e+03]\n",
      " [  0.00000000e+00  -1.29947577e-04   3.15603030e+03]\n",
      " [  0.00000000e+00  -3.06335112e-05   4.79146955e+03]\n",
      " [  0.00000000e+00  -1.00000000e-04  -9.22147435e+02]\n",
      " [  0.00000000e+00  -1.00000000e-04  -1.00543899e+03]\n",
      " [  0.00000000e+00  -1.00000000e-04  -1.24750269e+03]\n",
      " [  0.00000000e+00   0.00000000e+00   6.93507065e+01]\n",
      " [  0.00000000e+00   0.00000000e+00   1.19988344e+02]\n",
      " [  0.00000000e+00   0.00000000e+00   1.60399062e+01]\n",
      " [  0.00000000e+00   0.00000000e+00  -2.37541452e+02]\n",
      " [  0.00000000e+00   0.00000000e+00  -1.82757233e+02]\n",
      " [  0.00000000e+00   0.00000000e+00   7.01112139e-01]\n",
      " [  0.00000000e+00   0.00000000e+00  -4.20941677e+02]\n",
      " [  0.00000000e+00   0.00000000e+00  -3.37128010e+02]\n",
      " [  0.00000000e+00   0.00000000e+00   2.00959073e+01]\n",
      " [  0.00000000e+00   0.00000000e+00   2.69963875e+02]\n",
      " [  0.00000000e+00   0.00000000e+00   6.41860187e+02]\n",
      " [  0.00000000e+00   0.00000000e+00  -4.69281755e+01]\n",
      " [  0.00000000e+00   0.00000000e+00   9.48657053e+01]\n",
      " [  0.00000000e+00   0.00000000e+00   1.39111805e+02]\n",
      " [  0.00000000e+00   0.00000000e+00   2.59631673e+01]\n",
      " [  0.00000000e+00   0.00000000e+00  -2.26169959e+02]\n",
      " [  0.00000000e+00   0.00000000e+00  -5.92586262e+02]\n",
      " [  0.00000000e+00   0.00000000e+00   1.51448039e+01]\n",
      " [  0.00000000e+00   0.00000000e+00   1.31545373e+02]\n",
      " [  0.00000000e+00   0.00000000e+00   2.68674029e+01]\n",
      " [  0.00000000e+00   0.00000000e+00   1.43048090e+00]\n",
      " [  0.00000000e+00   0.00000000e+00   7.51558599e+01]\n",
      " [  0.00000000e+00   0.00000000e+00   1.53293850e+01]\n",
      " [  0.00000000e+00   0.00000000e+00   1.19719653e+00]\n",
      " [  0.00000000e+00   0.00000000e+00   8.97693101e+01]\n",
      " [  0.00000000e+00   0.00000000e+00   1.65146561e+02]\n",
      " [  0.00000000e+00   0.00000000e+00   9.03810623e+00]\n",
      " [  0.00000000e+00   0.00000000e+00   1.43448288e+02]\n",
      " [  0.00000000e+00   0.00000000e+00   6.50071348e+01]\n",
      " [  0.00000000e+00   0.00000000e+00   1.96475228e+01]\n",
      " [  0.00000000e+00   0.00000000e+00   8.12824763e+01]\n",
      " [  0.00000000e+00   0.00000000e+00   1.72481725e+02]\n",
      " [  0.00000000e+00   0.00000000e+00   1.50658299e+01]\n",
      " [  0.00000000e+00   0.00000000e+00  -3.05042568e+02]\n",
      " [  0.00000000e+00   0.00000000e+00  -8.04070164e+01]\n",
      " [  0.00000000e+00   0.00000000e+00   5.55925060e+01]\n",
      " [  0.00000000e+00   0.00000000e+00   2.43608705e+02]\n",
      " [  0.00000000e+00   0.00000000e+00   3.40724816e+02]\n",
      " [  0.00000000e+00   0.00000000e+00   2.08712768e+00]\n",
      " [  0.00000000e+00   0.00000000e+00  -4.17261486e+02]\n",
      " [  0.00000000e+00   0.00000000e+00  -9.54166150e+02]\n",
      " [  0.00000000e+00   0.00000000e+00   7.86204516e+01]\n",
      " [  0.00000000e+00   0.00000000e+00   1.35818849e+02]\n",
      " [  0.00000000e+00   0.00000000e+00   1.86700593e+02]\n",
      " [  0.00000000e+00   0.00000000e+00   1.27150348e+01]\n",
      " [  0.00000000e+00   0.00000000e+00   1.00214806e+02]\n",
      " [  0.00000000e+00   0.00000000e+00   1.36170760e+02]\n",
      " [  0.00000000e+00   0.00000000e+00   1.39593039e+01]\n",
      " [  0.00000000e+00   0.00000000e+00   9.95721524e+01]\n",
      " [  0.00000000e+00   0.00000000e+00   1.73025477e+01]\n",
      " [  0.00000000e+00   0.00000000e+00   1.46199033e+01]\n",
      " [  0.00000000e+00   0.00000000e+00   2.84839847e+02]\n",
      " [  0.00000000e+00   0.00000000e+00   7.98571947e+01]\n",
      " [  0.00000000e+00   0.00000000e+00  -4.93897377e+01]\n",
      " [  0.00000000e+00   0.00000000e+00   2.18548826e+02]\n",
      " [  0.00000000e+00   0.00000000e+00   9.04899492e+02]\n",
      " [  0.00000000e+00   0.00000000e+00  -3.01481355e+01]\n",
      " [  0.00000000e+00   0.00000000e+00   8.21765837e+01]\n",
      " [  0.00000000e+00   0.00000000e+00   3.36260221e+02]\n",
      " [  0.00000000e+00   0.00000000e+00  -4.26372108e+01]]\n"
     ]
    }
   ],
   "source": [
    "print data_set.get_kl_sens_hess(params, hyper_params)"
   ]
  },
  {
   "cell_type": "code",
   "execution_count": 9,
   "metadata": {},
   "outputs": [
    {
     "name": "stdout",
     "output_type": "stream",
     "text": [
      "Diff / tol: 1925122651.709091\n",
      "Diff / tol: 394372939.624312\n",
      "Diff / tol: 175810103.151832\n",
      "Diff / tol: 114701149.572601\n",
      "Diff / tol: 99997207.057716\n",
      "Diff / tol: 100002790.188495\n",
      "Diff / tol: 32411187.890719\n",
      "Diff / tol: 31839917.319714\n",
      "Diff / tol: 29004788.096605\n",
      "Diff / tol: 26011948.411070\n",
      "Diff / tol: 22653436.202133\n",
      "Diff / tol: 19400516.421901\n",
      "Diff / tol: 16480726.813244\n",
      "Diff / tol: 13927881.438425\n",
      "Diff / tol: 11730651.042548\n",
      "Diff / tol: 9858063.171379\n",
      "Diff / tol: 8314994.909968\n",
      "Diff / tol: 7004440.334301\n",
      "Diff / tol: 5886971.952624\n",
      "Diff / tol: 4940316.511263\n",
      "Diff / tol: 4141743.335036\n",
      "Diff / tol: 3469949.945267\n",
      "Diff / tol: 2905838.867328\n",
      "Diff / tol: 2432720.890538\n",
      "Diff / tol: 2036235.992608\n",
      "Diff / tol: 1704148.218553\n",
      "Diff / tol: 1426096.552654\n",
      "Diff / tol: 1193343.246431\n",
      "Diff / tol: 998539.135729\n",
      "Diff / tol: 835513.835377\n",
      "Diff / tol: 699092.695991\n",
      "Diff / tol: 584939.469567\n",
      "Diff / tol: 489422.335545\n",
      "Diff / tol: 409500.504323\n",
      "Diff / tol: 342628.613329\n",
      "Diff / tol: 286676.331014\n",
      "Diff / tol: 239860.864250\n",
      "Diff / tol: 200690.361786\n",
      "Diff / tol: 167916.490063\n",
      "Diff / tol: 140494.714531\n",
      "Diff / tol: 117551.045456\n",
      "Diff / tol: 98354.202161\n",
      "Diff / tol: 82292.316244\n",
      "Diff / tol: 68853.435533\n",
      "Diff / tol: 57609.209745\n",
      "Diff / tol: 48201.239229\n",
      "Diff / tol: 40329.652378\n",
      "Diff / tol: 33743.548064\n",
      "Diff / tol: 28232.998691\n",
      "Diff / tol: 23622.359078\n",
      "Diff / tol: 19764.667992\n",
      "Diff / tol: 16536.963907\n",
      "Diff / tol: 13836.365720\n",
      "Diff / tol: 11576.793485\n",
      "Diff / tol: 9686.224691\n",
      "Diff / tol: 8104.398582\n",
      "Diff / tol: 6780.895389\n",
      "Diff / tol: 5673.529232\n",
      "Diff / tol: 4747.003469\n",
      "Diff / tol: 3971.785640\n",
      "Diff / tol: 3323.166136\n",
      "Diff / tol: 2780.470590\n",
      "Diff / tol: 2326.400904\n",
      "Diff / tol: 1946.483874\n",
      "Diff / tol: 1628.609869\n",
      "Diff / tol: 1362.646843\n",
      "Diff / tol: 1140.117381\n",
      "Diff / tol: 953.928488\n",
      "Diff / tol: 798.145502\n",
      "Diff / tol: 667.802934\n",
      "Diff / tol: 558.746190\n",
      "Diff / tol: 467.499152\n",
      "Diff / tol: 391.153373\n",
      "Diff / tol: 327.275377\n",
      "Diff / tol: 273.829090\n",
      "Diff / tol: 229.110945\n",
      "Diff / tol: 191.695575\n",
      "Diff / tol: 160.390389\n",
      "Diff / tol: 134.197552\n",
      "Diff / tol: 112.282182\n",
      "Diff / tol: 93.945741\n",
      "Diff / tol: 78.603765\n",
      "Diff / tol: 65.767238\n",
      "Diff / tol: 55.027002\n",
      "Diff / tol: 46.040720\n",
      "Diff / tol: 38.521958\n",
      "Diff / tol: 32.231062\n",
      "Diff / tol: 26.967511\n",
      "Diff / tol: 22.563533\n",
      "Diff / tol: 18.878756\n",
      "Diff / tol: 15.795727\n",
      "Diff / tol: 13.216178\n",
      "Diff / tol: 11.057886\n",
      "Diff / tol: 9.252059\n",
      "Diff / tol: 7.741135\n",
      "Diff / tol: 6.476955\n",
      "Diff / tol: 5.419224\n",
      "Diff / tol: 4.534228\n",
      "Diff / tol: 3.793758\n",
      "Diff / tol: 3.174212\n",
      "Diff / tol: 2.655841\n",
      "Diff / tol: 2.222125\n",
      "Diff / tol: 1.859236\n",
      "Diff / tol: 1.555611\n",
      "Diff / tol: 1.301569\n",
      "Diff / tol: 1.089014\n",
      "Diff / tol: 0.911170\n",
      "Done at step 107\n"
     ]
    }
   ],
   "source": [
    "def flatten_params(tau, nu, phi_mu, phi_var):\n",
    "    return np.hstack([ tau.flatten(), nu.flatten(), phi_mu.flatten(), phi_var.flatten() ])\n",
    "\n",
    "true_init = False\n",
    "if true_init:\n",
    "    tau, phi_mu, phi_var, nu = data_set.unpack_params(params_true)\n",
    "else:\n",
    "    tau, phi_mu, phi_var, nu = data_set.unpack_params(params_init)\n",
    "\n",
    "params = flatten_params(tau, nu, phi_mu, phi_var)\n",
    "\n",
    "max_iter = 1000\n",
    "tol = 1e-8\n",
    "step = 0\n",
    "diff = np.float('inf')\n",
    "\n",
    "while diff > tol and step < max_iter:\n",
    "    data_set.cavi_updates(tau, nu, phi_mu, phi_var)\n",
    "    new_params = flatten_params(tau, nu, phi_mu, phi_var)\n",
    "    diff = np.max(np.abs(new_params - params))\n",
    "    print 'Diff / tol: %f' % (diff  / tol)\n",
    "    if not np.isfinite(diff):\n",
    "        break\n",
    "    params = new_params\n",
    "    step = step + 1\n",
    "    \n",
    "print('Done at step %d' % step)\n",
    "\n",
    "cavi_tau = deepcopy(tau)\n",
    "cavi_phi_mu = deepcopy(phi_mu)\n",
    "cavi_phi_var = deepcopy(phi_var)\n",
    "cavi_nu = deepcopy(nu)"
   ]
  },
  {
   "cell_type": "code",
   "execution_count": 10,
   "metadata": {},
   "outputs": [
    {
     "name": "stdout",
     "output_type": "stream",
     "text": [
      "True\n"
     ]
    }
   ],
   "source": [
    "nu_tol = 1e-8\n",
    "cavi_nu_trim = deepcopy(cavi_nu)\n",
    "cavi_nu_trim[cavi_nu_trim < nu_tol] = nu_tol\n",
    "cavi_nu_trim[cavi_nu_trim > 1 - nu_tol] = 1 - nu_tol\n",
    "\n",
    "cavi_params = pack_params(cavi_tau, cavi_phi_mu, cavi_phi_var, cavi_nu_trim)\n",
    "print np.all(np.isfinite(cavi_params))"
   ]
  },
  {
   "cell_type": "code",
   "execution_count": 11,
   "metadata": {},
   "outputs": [
    {
     "name": "stdout",
     "output_type": "stream",
     "text": [
      "414.37281802\n",
      "414.372403918\n",
      "414.372330657\n",
      "414.372285401\n",
      "414.372274905\n",
      "414.372199155\n",
      "414.372186833\n",
      "414.372076461\n",
      "414.372072889\n",
      "414.371973761\n",
      "414.371937246\n",
      "414.371923813\n",
      "414.371918872\n",
      "Optimization terminated successfully.\n",
      "         Current function value: 414.371919\n",
      "         Iterations: 12\n",
      "         Function evaluations: 13\n",
      "         Gradient evaluations: 13\n",
      "         Hessian evaluations: 0\n"
     ]
    }
   ],
   "source": [
    "vb_opt = optimize.minimize(\n",
    "    lambda params: data_set.wrapped_kl(params, verbose=True),\n",
    "    cavi_params, method='trust-ncg', jac=data_set.get_kl_grad, hessp=data_set.get_kl_hvp,\n",
    "    tol=1e-6, options={'maxiter': 20, 'disp': True, 'gtol': 1e-6 })"
   ]
  },
  {
   "cell_type": "code",
   "execution_count": 12,
   "metadata": {},
   "outputs": [
    {
     "name": "stdout",
     "output_type": "stream",
     "text": [
      "414.37281802\n",
      "414.372403918\n",
      "414.372330657\n",
      "414.372285401\n",
      "414.372274905\n",
      "414.372199155\n",
      "414.372186833\n",
      "414.372076461\n",
      "414.372072889\n",
      "414.371973761\n",
      "414.371937246\n",
      "414.371923813\n",
      "414.371918872\n",
      "Optimization terminated successfully.\n",
      "         Current function value: 414.371919\n",
      "         Iterations: 12\n",
      "         Function evaluations: 13\n",
      "         Gradient evaluations: 13\n",
      "         Hessian evaluations: 0\n"
     ]
    }
   ],
   "source": [
    "data_set.x_rows = slice(0, 100)\n",
    "vb_sample_opt = optimize.minimize(\n",
    "    lambda params: data_set.wrapped_sample_kl(params, verbose=True),\n",
    "    cavi_params, method='trust-ncg', jac=data_set.get_sample_kl_grad, hessp=data_set.get_sample_kl_hvp,\n",
    "    tol=1e-6, options={'maxiter': 20, 'disp': True, 'gtol': 1e-6 })"
   ]
  },
  {
   "cell_type": "code",
   "execution_count": 13,
   "metadata": {},
   "outputs": [
    {
     "name": "stdout",
     "output_type": "stream",
     "text": [
      "CAVI:\n",
      "[[ -7.62368013   9.61960407]\n",
      " [ -7.28314861   1.10250065]\n",
      " [ 14.36381448  -3.4996127 ]]\n",
      "Full TR:\n",
      "[[ -7.62382702   9.61654343]\n",
      " [ -7.28007832   1.10475998]\n",
      " [ 14.36049881  -3.49914647]]\n",
      "Sample TR:\n",
      "[[ -7.62382702   9.61654343]\n",
      " [ -7.28007832   1.10475998]\n",
      " [ 14.36049881  -3.49914647]]\n",
      "Truth:\n",
      "[[ 11.3310086   -1.3911172 ]\n",
      " [  4.5413794   -2.95429355]\n",
      " [-17.16640122  11.88621862]]\n"
     ]
    }
   ],
   "source": [
    "print 'CAVI:'\n",
    "print cavi_phi_mu.transpose()\n",
    "\n",
    "print 'Full TR:'\n",
    "tau, phi_mu, phi_var, nu = unpack_params(vb_opt.x, D=D, K_approx=K_approx, Num_samples=Num_samples)\n",
    "print phi_mu.transpose()\n",
    "\n",
    "print 'Sample TR:'\n",
    "tau, phi_mu, phi_var, nu = unpack_params(vb_sample_opt.x, D=D, K_approx=K_approx, Num_samples=Num_samples)\n",
    "print phi_mu.transpose()\n",
    "\n",
    "print 'Truth:'\n",
    "print A\n",
    "\n"
   ]
  }
 ],
 "metadata": {
  "kernelspec": {
   "display_name": "Python 3",
   "language": "python",
   "name": "python3"
  },
  "language_info": {
   "codemirror_mode": {
    "name": "ipython",
    "version": 2
   },
   "file_extension": ".py",
   "mimetype": "text/x-python",
   "name": "python",
   "nbconvert_exporter": "python",
   "pygments_lexer": "ipython2",
   "version": "2.7.12"
  }
 },
 "nbformat": 4,
 "nbformat_minor": 2
}
