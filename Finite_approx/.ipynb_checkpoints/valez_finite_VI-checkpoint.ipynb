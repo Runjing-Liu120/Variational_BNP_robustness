{
 "cells": [
  {
   "cell_type": "markdown",
   "metadata": {},
   "source": [
    "# Variational inference using the finite approximation"
   ]
  },
  {
   "cell_type": "code",
   "execution_count": 1,
   "metadata": {},
   "outputs": [],
   "source": [
    "import numpy as np\n",
    "import scipy as sp\n",
    "import matplotlib.pyplot as plt\n",
    "from copy import deepcopy\n",
    "\n",
    "from valez_finite_VI_lib import *\n"
   ]
  },
  {
   "cell_type": "markdown",
   "metadata": {},
   "source": [
    "# Draw data"
   ]
  },
  {
   "cell_type": "code",
   "execution_count": 103,
   "metadata": {},
   "outputs": [
    {
     "name": "stdout",
     "output_type": "stream",
     "text": [
      "('true Z (first 10 rows): \\n', array([[ 0.,  1.,  1.],\n",
      "       [ 1.,  1.,  1.],\n",
      "       [ 1.,  1.,  1.],\n",
      "       [ 1.,  1.,  1.],\n",
      "       [ 1.,  1.,  1.],\n",
      "       [ 1.,  1.,  0.],\n",
      "       [ 0.,  1.,  1.],\n",
      "       [ 1.,  0.,  1.],\n",
      "       [ 1.,  1.,  1.],\n",
      "       [ 1.,  1.,  0.]]))\n",
      "[[-12.78122302   3.71538761]\n",
      " [  8.60462271   9.677958  ]\n",
      " [ -4.74617662   6.36868241]]\n"
     ]
    }
   ],
   "source": [
    "#np.random.seed(12321) # this is a seed where VI works well\n",
    "\n",
    "Num_samples = 5000 # sample size\n",
    "D = 2 # dimension\n",
    "# so X will be a N\\times D matrix\n",
    "\n",
    "K_inf = 3 # take to be large for a good approximation to the IBP\n",
    "\n",
    "\n",
    "alpha = 10 # IBP parameter\n",
    "Pi = np.ones(K_inf) * .8\n",
    "Z = np.zeros([Num_samples,K_inf])\n",
    "\n",
    "# Parameters to draw A from MVN\n",
    "mu = np.zeros(D)\n",
    "sigma_A = 100\n",
    "\n",
    "sigma_eps = .1 # variance of noise\n",
    "\n",
    "# Draw Z from truncated stick breaking process\n",
    "for k in range(K_inf):\n",
    "    # Pi[k] = np.random.beta(alpha/K_inf,1)\n",
    "    for n in range(Num_samples):\n",
    "        Z[n,k] = np.random.binomial(1,Pi[k])\n",
    "\n",
    "        \n",
    "print('true Z (first 10 rows): \\n', Z[0:10,:])\n",
    "\n",
    "# Draw A from multivariate normal\n",
    "A = np.random.multivariate_normal(mu, sigma_A*np.identity(D), K_inf)\n",
    "# A = np.array([[10,10], [-10,10]])\n",
    "print A\n",
    "\n",
    "# draw noise\n",
    "epsilon = np.random.multivariate_normal(np.zeros(D), sigma_eps*np.identity(D), Num_samples)\n",
    "\n",
    "# the observed data\n",
    "X = np.dot(Z,A) + epsilon\n"
   ]
  },
  {
   "cell_type": "markdown",
   "metadata": {},
   "source": [
    "# set initializations"
   ]
  },
  {
   "cell_type": "code",
   "execution_count": 104,
   "metadata": {
    "collapsed": true
   },
   "outputs": [],
   "source": [
    "K_approx = deepcopy(K_inf) # variational truncation\n",
    "\n",
    "tau = np.random.uniform(0,1,[K_approx,2]) # tau1, tau2 -- beta parameters for v\n",
    "#tau = np.ones([K_approx,2])*1000\n",
    "#tau[:,1] = (tau[:,0] - Pi*tau[:,0])/Pi\n",
    "\n",
    "#nu = np.ones([Num_samples, K_approx]) *0.0\n",
    "nu =  np.random.uniform(0,1,[Num_samples,K_approx]) # Bernoulli parameter for z_nk\n",
    "#nu = deepcopy(Z)\n",
    "\n",
    "phi_mu = np.random.normal(0,1,[D,K_approx]) # kth mean (D dim vector) in kth column\n",
    "#phi_mu = deepcopy(A).T\n",
    "phi_var = np.ones(K_approx)\n",
    "\n",
    "nu_init = np.round(nu*(nu>=0.9) + nu*(nu<=0.1)) + nu*(nu>=0.1)*(nu<=0.9)\n",
    "\n",
    "iterations = 1000\n",
    "elbo = np.zeros(iterations)\n",
    "elbo_Term1 = np.zeros(iterations)\n",
    "elbo_Term2 = np.zeros(iterations)\n",
    "elbo_Term3 = np.zeros(iterations)\n",
    "elbo_Term4 = np.zeros(iterations)\n",
    "elbo_Term5 = np.zeros(iterations)\n",
    "elbo_Term6 = np.zeros(iterations)\n",
    "elbo_Term7 = np.zeros(iterations)\n",
    "\n",
    "\n",
    "Data_shape = {'D':D, 'N': Num_samples , 'K':K_approx}\n",
    "sigmas = {'eps': sigma_eps, 'A': sigma_A}\n"
   ]
  },
  {
   "cell_type": "code",
   "execution_count": 105,
   "metadata": {
    "collapsed": true
   },
   "outputs": [],
   "source": [
    "def add_noise_to_phi(phi_mu, noise_scale):\n",
    "    phi_mu = phi_mu + np.random.normal(0, noise_scale, phi_mu.shape)"
   ]
  },
  {
   "cell_type": "markdown",
   "metadata": {},
   "source": [
    "# run CAVI"
   ]
  },
  {
   "cell_type": "code",
   "execution_count": 106,
   "metadata": {},
   "outputs": [
    {
     "name": "stdout",
     "output_type": "stream",
     "text": [
      "('iteration: ', 0)\n",
      "('elbo: ', -1569770.3863038239)\n",
      "('l1 error: ', 0.57833818496171852)\n",
      "('iteration: ', 1)\n",
      "('elbo: ', -509075.35462849477)\n",
      "('l1 error: ', 0.49823413866956567)\n",
      "('iteration: ', 2)\n",
      "('elbo: ', -402419.32685406442)\n",
      "('l1 error: ', 0.48638730926907708)\n",
      "('iteration: ', 3)\n",
      "('elbo: ', -366200.24475329381)\n",
      "('l1 error: ', 0.49120433992118212)\n",
      "('iteration: ', 4)\n",
      "('elbo: ', -364943.36315385718)\n",
      "('l1 error: ', 0.4915834080150096)\n",
      "('iteration: ', 5)\n",
      "('elbo: ', -361083.01548356173)\n",
      "('l1 error: ', 0.4937926067763565)\n",
      "('iteration: ', 6)\n",
      "('elbo: ', -311750.04559011722)\n",
      "('l1 error: ', 0.50179676072961377)\n",
      "('iteration: ', 7)\n",
      "('elbo: ', -308661.24800321873)\n",
      "('l1 error: ', 0.50186666661003754)\n",
      "('iteration: ', 8)\n",
      "('elbo: ', -308538.99068327376)\n",
      "('l1 error: ', 0.50186666666666668)\n",
      "('iteration: ', 9)\n",
      "('elbo: ', -308525.37812518381)\n",
      "('l1 error: ', 0.50186666666666668)\n",
      "('iteration: ', 10)\n",
      "('elbo: ', -308523.86245482031)\n",
      "('l1 error: ', 0.50186666666666668)\n",
      "('iteration: ', 11)\n",
      "('elbo: ', -308523.6936947222)\n",
      "('l1 error: ', 0.50186666666666668)\n",
      "('iteration: ', 12)\n",
      "('elbo: ', -308523.67490437493)\n",
      "('l1 error: ', 0.50186666666666668)\n",
      "('iteration: ', 13)\n",
      "('elbo: ', -308523.67281219125)\n",
      "('l1 error: ', 0.50186666666666668)\n",
      "('iteration: ', 14)\n",
      "('elbo: ', -308523.67257924064)\n",
      "('l1 error: ', 0.50186666666666668)\n",
      "('iteration: ', 15)\n",
      "('elbo: ', -308523.67255330278)\n",
      "('l1 error: ', 0.50186666666666668)\n",
      "('iteration: ', 16)\n",
      "('elbo: ', -308523.67255041451)\n",
      "('l1 error: ', 0.50186666666666668)\n",
      "('iteration: ', 17)\n",
      "('elbo: ', -308523.67255009391)\n",
      "('l1 error: ', 0.50186666666666668)\n",
      "('iteration: ', 18)\n",
      "('elbo: ', -308523.67255005799)\n",
      "('l1 error: ', 0.50186666666666668)\n",
      "('iteration: ', 19)\n",
      "('elbo: ', -308523.67255005374)\n",
      "('l1 error: ', 0.50186666666666668)\n",
      "ELBO converged\n"
     ]
    }
   ],
   "source": [
    "#add_noise_to_phi(phi_mu, 1.0)\n",
    "for i in range(iterations):\n",
    "    iter_ran = i + 1\n",
    "    nu_updates(tau, nu, phi_mu, phi_var, X, sigmas, Data_shape)\n",
    "\n",
    "    phi_updates(nu, phi_mu, phi_var, X, sigmas, Data_shape)\n",
    "        \n",
    "    tau_updates(tau, nu, alpha, Data_shape)    \n",
    "    \n",
    "    \n",
    "    \n",
    "    round_nu = np.round(nu*(nu>=0.9) + nu*(nu<=0.1)) + nu*(nu>=0.1)*(nu<=0.9)\n",
    "    \n",
    "    [elbo[i],elbo_Term1[i],elbo_Term2[i],elbo_Term3[i],elbo_Term4[i],elbo_Term5[i],elbo_Term6[i],elbo_Term7[i]] \\\n",
    "        = Elbo(tau, nu, phi_mu, phi_var, X, sigmas, Data_shape, alpha)\n",
    "        \n",
    "    \n",
    "    print('iteration: ', i)\n",
    "    print('elbo: ', elbo[i])\n",
    "    #print(round_nu[0:10,:])\n",
    "    #print(nu[0:10,:])\n",
    "    print('l1 error: ', np.sum(abs(Z-nu))/np.size(Z[:]) )\n",
    "    \n",
    "    if np.isnan(elbo[i]):\n",
    "        print 'NAN ELBO.'\n",
    "        break\n",
    "    \n",
    "    if (i>0) & (elbo[i] < elbo[i-1]): \n",
    "        print('elbo decreased!  Difference: ', elbo[i] - elbo[i-1])\n",
    "        break\n",
    "    \n",
    "    if np.abs(elbo[i]-elbo[i-1]) <= 10**(-8):\n",
    "        print('ELBO converged')\n",
    "        break\n",
    "    "
   ]
  },
  {
   "cell_type": "code",
   "execution_count": 107,
   "metadata": {},
   "outputs": [
    {
     "name": "stdout",
     "output_type": "stream",
     "text": [
      "('Z \\n', array([[ 0.,  1.,  1.],\n",
      "       [ 1.,  1.,  1.],\n",
      "       [ 1.,  1.,  1.],\n",
      "       [ 1.,  1.,  1.],\n",
      "       [ 1.,  1.,  1.],\n",
      "       [ 1.,  1.,  0.],\n",
      "       [ 0.,  1.,  1.],\n",
      "       [ 1.,  0.,  1.],\n",
      "       [ 1.,  1.,  1.],\n",
      "       [ 1.,  1.,  0.]]))\n",
      "('round_nu \\n', array([[ 0.,  1.,  1.],\n",
      "       [ 0.,  0.,  1.],\n",
      "       [ 0.,  0.,  1.],\n",
      "       [ 0.,  0.,  1.],\n",
      "       [ 0.,  0.,  1.],\n",
      "       [ 0.,  0.,  1.],\n",
      "       [ 0.,  1.,  1.],\n",
      "       [ 1.,  0.,  1.],\n",
      "       [ 0.,  0.,  1.],\n",
      "       [ 0.,  0.,  1.]]))\n",
      "[ 0.6374  0.6376  0.1538]\n",
      "[0 1 1]\n",
      "[[-12.78122302   3.71538761]\n",
      " [  8.60462271   9.677958  ]\n",
      " [ -4.74617662   6.36868241]]\n",
      "[[ -8.58505626  -9.75913434]\n",
      " [ 12.73112828  -3.6597321 ]\n",
      " [ -7.94748982  18.46061194]]\n"
     ]
    },
    {
     "data": {
      "image/png": "[encoded data removed]",
      "text/plain": [
       "<matplotlib.figure.Figure at 0x7f26dc032110>"
      ]
     },
     "metadata": {},
     "output_type": "display_data"
    }
   ],
   "source": [
    "Pi_computed = tau[:,0]/(tau[:,0] + tau[:,1])\n",
    "print('Z \\n', Z[0:10,:])\n",
    "print('round_nu \\n', round_nu[0:10,:])\n",
    "\n",
    "# Print the minimizing permutation.\n",
    "accuracy_mat = [[ np.sum(np.abs(Z[:, i] - nu[:, j]))/Num_samples for i in range(K_inf) ]\n",
    "                  for j in range(K_inf) ]\n",
    "print np.min(accuracy_mat, 1)\n",
    "print np.argmin(accuracy_mat, 1)\n",
    "\n",
    "print A\n",
    "print phi_mu.transpose()\n",
    "\n",
    "plt.clf()\n",
    "plt.plot(elbo[:iter_ran])\n",
    "plt.xlabel('iteration')\n",
    "plt.ylabel('elbo')\n",
    "plt.show()"
   ]
  },
  {
   "cell_type": "code",
   "execution_count": 111,
   "metadata": {},
   "outputs": [
    {
     "data": {
      "image/png": "[encoded data removed]",
      "text/plain": [
       "<matplotlib.figure.Figure at 0x7f26da95e9d0>"
      ]
     },
     "metadata": {},
     "output_type": "display_data"
    }
   ],
   "source": [
    "pred_x = np.dot(nu, phi_mu.transpose())\n",
    "col = 1\n",
    "plt.clf()\n",
    "plt.plot(pred_x[:, col], X[:, col], 'ko')\n",
    "plt.show()"
   ]
  },
  {
   "cell_type": "code",
   "execution_count": 109,
   "metadata": {
    "scrolled": true
   },
   "outputs": [
    {
     "name": "stdout",
     "output_type": "stream",
     "text": [
      "0.9566\n",
      "0.1538\n",
      "0.706\n"
     ]
    }
   ],
   "source": [
    "# let us permute the columms of nu and then compare: \n",
    "nu_perm = nu[:, (1,2,0)]\n",
    "round_nu_perm = np.round(nu_perm*(nu_perm>=0.9) + nu_perm*(nu_perm<=0.1)) + nu_perm*(nu_perm>=0.1)*(nu_perm<=0.9)\n",
    "\n",
    "print(np.sum(np.abs(Z[:,0] - nu_perm[:,0]))/Num_samples)\n",
    "print(np.sum(np.abs(Z[:,1] - nu_perm[:,1]))/Num_samples)\n",
    "print(np.sum(np.abs(Z[:,2] - nu_perm[:,2]))/Num_samples)\n",
    "\n",
    "# so two of the rows are really close ..."
   ]
  }
 ],
 "metadata": {
  "anaconda-cloud": {},
  "kernelspec": {
   "display_name": "Python 2",
   "language": "python",
   "name": "python2"
  },
  "language_info": {
   "codemirror_mode": {
    "name": "ipython",
    "version": 2
   },
   "file_extension": ".py",
   "mimetype": "text/x-python",
   "name": "python",
   "nbconvert_exporter": "python",
   "pygments_lexer": "ipython2",
   "version": "2.7.12"
  }
 },
 "nbformat": 4,
 "nbformat_minor": 1
}
