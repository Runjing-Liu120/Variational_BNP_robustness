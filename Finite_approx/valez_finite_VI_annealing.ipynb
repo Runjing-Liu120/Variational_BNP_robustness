{
 "cells": [
  {
   "cell_type": "markdown",
   "metadata": {},
   "source": [
    "# Variational inference using the finite approximation\n",
    "\n",
    "trying cavi + annealing"
   ]
  },
  {
   "cell_type": "code",
   "execution_count": 44,
   "metadata": {
    "collapsed": false
   },
   "outputs": [],
   "source": [
    "import numpy as np\n",
    "import scipy as sp\n",
    "import matplotlib.pyplot as plt\n",
    "from copy import deepcopy\n",
    "\n",
    "from valez_finite_VI_lib import *\n"
   ]
  },
  {
   "cell_type": "markdown",
   "metadata": {},
   "source": [
    "# Draw data"
   ]
  },
  {
   "cell_type": "code",
   "execution_count": 112,
   "metadata": {
    "collapsed": false
   },
   "outputs": [
    {
     "name": "stdout",
     "output_type": "stream",
     "text": [
      "true Z (first 10 rows): \n",
      " [[ 1.  1.  0.]\n",
      " [ 0.  1.  1.]\n",
      " [ 1.  1.  0.]\n",
      " [ 1.  0.  1.]\n",
      " [ 1.  0.  1.]\n",
      " [ 1.  1.  1.]\n",
      " [ 1.  1.  1.]\n",
      " [ 1.  1.  0.]\n",
      " [ 1.  1.  1.]\n",
      " [ 1.  1.  1.]]\n",
      "[[ 19.62685741  -5.02707654]\n",
      " [-19.9694107  -13.80715158]\n",
      " [  4.00958547  -2.25505526]]\n"
     ]
    }
   ],
   "source": [
    "# np.random.seed(12321) # this is a seed where annealing works well \n",
    "# np.random.seed(43141) # this is a seed that works well too :)\n",
    "# np.random.seed(341708970) # this too!\n",
    "np.random.seed(14314) \n",
    "# np.random.seed(4234) # this less so ...\n",
    "# the above were ran for (for K_inf = K_approx = 3 at least) \n",
    "\n",
    "\n",
    "\n",
    "Num_samples = 500 # sample size\n",
    "D = 2 # dimension\n",
    "# so X will be a N\\times D matrix\n",
    "\n",
    "K_inf = 3 # take to be large for a good approximation to the IBP\n",
    "\n",
    "\n",
    "alpha = 10 # IBP parameter\n",
    "Pi = np.ones(K_inf) * .8\n",
    "Z = np.zeros([Num_samples,K_inf])\n",
    "\n",
    "# Parameters to draw A from MVN\n",
    "mu = np.zeros(D)\n",
    "sigma_A = 100\n",
    "\n",
    "sigma_eps = .1 # variance of noise\n",
    "\n",
    "# Draw Z from truncated stick breaking process\n",
    "for k in range(K_inf):\n",
    "    # Pi[k] = np.random.beta(alpha/K_inf,1)\n",
    "    for n in range(Num_samples):\n",
    "        Z[n,k] = np.random.binomial(1,Pi[k])\n",
    "\n",
    "        \n",
    "print('true Z (first 10 rows): \\n', Z[0:10,:])\n",
    "\n",
    "# Draw A from multivariate normal\n",
    "# A = np.random.multivariate_normal(mu, sigma_A*np.identity(D), K_inf) # FOR SOME REASONG THIS KILLS THE KERNEL!?\n",
    "A = np.random.normal(0, np.sqrt(sigma_A), (K_inf, D))\n",
    "print(A)\n",
    "\n",
    "# draw noise\n",
    "# epsilon = np.random.multivariate_normal(np.zeros(D), sigma_eps*np.identity(D), Num_samples)\n",
    "epsilon = np.random.normal(0, sigma_eps, (Num_samples, D))\n",
    "\n",
    "# the observed data\n",
    "X = np.dot(Z,A) + epsilon\n"
   ]
  },
  {
   "cell_type": "markdown",
   "metadata": {},
   "source": [
    "# set initializations"
   ]
  },
  {
   "cell_type": "code",
   "execution_count": 146,
   "metadata": {
    "collapsed": true
   },
   "outputs": [],
   "source": [
    "K_approx = deepcopy(K_inf) # variational truncation\n",
    "\n",
    "tau = np.random.uniform(0,1,[K_approx,2]) # tau1, tau2 -- beta parameters for v\n",
    "#tau = np.ones([K_approx,2])*1000\n",
    "#tau[:,1] = (tau[:,0] - Pi*tau[:,0])/Pi\n",
    "\n",
    "#nu = np.ones([Num_samples, K_approx]) *0.0\n",
    "nu =  np.random.uniform(0,1,[Num_samples,K_approx]) # Bernoulli parameter for z_nk\n",
    "#nu = deepcopy(Z)\n",
    "\n",
    "phi_mu = np.random.normal(0,1,[D,K_approx]) # kth mean (D dim vector) in kth column\n",
    "#phi_mu = deepcopy(A).T\n",
    "phi_var = np.ones(K_approx)\n",
    "\n",
    "nu_init = np.round(nu*(nu>=0.9) + nu*(nu<=0.1)) + nu*(nu>=0.1)*(nu<=0.9)\n",
    "\n",
    "iterations = 1000\n",
    "elbo = np.zeros(iterations)\n",
    "elbo_Term1 = np.zeros(iterations)\n",
    "elbo_Term2 = np.zeros(iterations)\n",
    "elbo_Term3 = np.zeros(iterations)\n",
    "elbo_Term4 = np.zeros(iterations)\n",
    "elbo_Term5 = np.zeros(iterations)\n",
    "elbo_Term6 = np.zeros(iterations)\n",
    "elbo_Term7 = np.zeros(iterations)\n",
    "\n",
    "\n",
    "Data_shape = {'D':D, 'N': Num_samples , 'K':K_approx}\n",
    "sigmas = {'eps': sigma_eps, 'A': sigma_A}\n"
   ]
  },
  {
   "cell_type": "code",
   "execution_count": 147,
   "metadata": {
    "collapsed": true
   },
   "outputs": [],
   "source": [
    "def add_noise_to_phi(phi_mu, noise_scale):\n",
    "    phi_mu = phi_mu + np.random.normal(0, noise_scale, phi_mu.shape)"
   ]
  },
  {
   "cell_type": "markdown",
   "metadata": {},
   "source": [
    "# run CAVI"
   ]
  },
  {
   "cell_type": "code",
   "execution_count": 148,
   "metadata": {
    "collapsed": false
   },
   "outputs": [
    {
     "name": "stdout",
     "output_type": "stream",
     "text": [
      "0.0001\n"
     ]
    }
   ],
   "source": [
    "tol = [10**(-4)]*5 + [10**(-6)]*3 + [10**(-8)]*2\n",
    "print(tol[1])"
   ]
  },
  {
   "cell_type": "code",
   "execution_count": 164,
   "metadata": {
    "collapsed": false
   },
   "outputs": [
    {
     "name": "stdout",
     "output_type": "stream",
     "text": [
      "anneal iteration:  0\n",
      "10.0\n",
      "iteration:  0-0  l1 error:  0.149247312204 elbo:  -2825.89553201\n",
      "iteration:  0-10  l1 error:  0.148722511626 elbo:  -2820.54170177\n",
      "ELBO converged\n",
      "anneal iteration:  1\n",
      "8.9\n",
      "iteration:  1-0  l1 error:  0.148571936717 elbo:  -2790.38519172\n",
      "ELBO converged\n",
      "anneal iteration:  2\n",
      "7.8\n",
      "iteration:  2-0  l1 error:  0.148375535547 elbo:  -2760.37856861\n",
      "iteration:  2-10  l1 error:  0.148349292666 elbo:  -2760.35467147\n",
      "ELBO converged\n",
      "anneal iteration:  3\n",
      "6.7\n",
      "iteration:  3-0  l1 error:  0.148146856791 elbo:  -2731.82239657\n",
      "iteration:  3-10  l1 error:  0.14812392115 elbo:  -2731.81463079\n",
      "ELBO converged\n",
      "anneal iteration:  4\n",
      "5.6\n",
      "iteration:  4-0  l1 error:  0.147916029304 elbo:  -2707.88239264\n",
      "iteration:  4-10  l1 error:  0.147880230042 elbo:  -2707.87205107\n",
      "ELBO converged\n",
      "anneal iteration:  5\n",
      "4.5\n",
      "iteration:  5-0  l1 error:  0.147598550342 elbo:  -2695.72797919\n",
      "iteration:  5-10  l1 error:  0.147465301781 elbo:  -2695.69320561\n",
      "iteration:  5-20  l1 error:  0.147423955311 elbo:  -2695.69130634\n",
      "iteration:  5-30  l1 error:  0.147414485937 elbo:  -2695.69121331\n",
      "ELBO converged\n",
      "anneal iteration:  6\n",
      "3.4\n",
      "iteration:  6-0  l1 error:  0.146821372801 elbo:  -2713.74383604\n",
      "iteration:  6-10  l1 error:  0.145681559727 elbo:  -2713.31005224\n",
      "iteration:  6-20  l1 error:  0.144907762777 elbo:  -2713.20895507\n",
      "iteration:  6-30  l1 error:  0.144412681759 elbo:  -2713.17427441\n",
      "iteration:  6-40  l1 error:  0.144110483628 elbo:  -2713.16186052\n",
      "iteration:  6-50  l1 error:  0.143927563633 elbo:  -2713.15732225\n",
      "iteration:  6-60  l1 error:  0.143816302477 elbo:  -2713.15563277\n",
      "iteration:  6-70  l1 error:  0.143748115298 elbo:  -2713.15499411\n",
      "iteration:  6-80  l1 error:  0.143706051671 elbo:  -2713.15474989\n",
      "iteration:  6-90  l1 error:  0.143679978908 elbo:  -2713.15465575\n",
      "iteration:  6-100  l1 error:  0.143663765737 elbo:  -2713.15461927\n",
      "ELBO converged\n",
      "anneal iteration:  7\n",
      "2.3\n",
      "iteration:  7-0  l1 error:  0.141466240996 elbo:  -2813.06887598\n",
      "iteration:  7-10  l1 error:  0.139339447358 elbo:  -2809.95665693\n",
      "iteration:  7-20  l1 error:  0.138381818689 elbo:  -2809.58177934\n",
      "iteration:  7-30  l1 error:  0.138102167294 elbo:  -2809.54424902\n",
      "iteration:  7-40  l1 error:  0.138025857205 elbo:  -2809.54088901\n",
      "iteration:  7-50  l1 error:  0.13800528973 elbo:  -2809.54059379\n",
      "ELBO converged\n",
      "anneal iteration:  8\n",
      "1.2\n",
      "iteration:  8-0  l1 error:  0.139364994385 elbo:  -3296.40037401\n",
      "iteration:  8-10  l1 error:  0.14627553622 elbo:  -3281.89764061\n",
      "iteration:  8-20  l1 error:  0.146536912114 elbo:  -3280.62466529\n",
      "iteration:  8-30  l1 error:  0.146544139285 elbo:  -3280.5740225\n",
      "iteration:  8-40  l1 error:  0.146542812488 elbo:  -3280.57193394\n",
      "iteration:  8-50  l1 error:  0.146542377069 elbo:  -3280.57188548\n",
      "ELBO converged\n",
      "anneal iteration:  9\n",
      "0.1\n",
      "iteration:  9-0  l1 error:  0.146666666667 elbo:  -20085.681369\n"
     ]
    },
    {
     "name": "stderr",
     "output_type": "stream",
     "text": [
      "/home/runjing_liu/Documents/BNP/Variational_BNP_robustness/Finite_approx/valez_finite_VI_lib.py:87: RuntimeWarning: overflow encountered in exp\n",
      "  nu[n,k] = 1./(1.+np.exp(-script_V))\n"
     ]
    },
    {
     "name": "stdout",
     "output_type": "stream",
     "text": [
      "iteration:  9-10  l1 error:  0.146666666667 elbo:  -20085.6295598\n",
      "iteration:  9-20  l1 error:  0.146666666667 elbo:  -20085.6279913\n",
      "iteration:  9-30  l1 error:  0.146666666667 elbo:  -20085.6279182\n",
      "iteration:  9-40  l1 error:  0.146666666667 elbo:  -20085.6279165\n",
      "ELBO converged\n"
     ]
    }
   ],
   "source": [
    "#add_noise_to_phi(phi_mu, 1.0)\n",
    "sigma_eps_anneal = np.linspace(100, sigma_eps, 10)\n",
    "\n",
    "for j in range(len(sigma_eps_anneal)): \n",
    "    sigmas['eps'] = sigma_eps_anneal[j]\n",
    "    print('anneal iteration: ', j)\n",
    "    print(sigmas['eps'])\n",
    "    \n",
    "    tol = [10**(-2)]* 2 + [10**(-4)]*3 + [10**(-6)]*3 + [10**(-8)]*2 # set sequence of tolerances\n",
    "    assert len(tol) == len(sigma_eps_anneal)\n",
    "    \n",
    "    elbo = np.zeros(iterations)\n",
    "    \n",
    "    for i in range(iterations):\n",
    "        iter_ran = i + 1\n",
    "        \n",
    "        cavi_updates(tau, nu, phi_mu, phi_var, X, alpha, sigmas)\n",
    "        \n",
    "\n",
    "        # round_nu = np.round(nu*(nu>=0.9) + nu*(nu<=0.1)) + nu*(nu>=0.1)*(nu<=0.9)\n",
    "\n",
    "        [elbo[i],elbo_Term1[i],elbo_Term2[i],elbo_Term3[i],elbo_Term4[i],elbo_Term5[i],elbo_Term6[i],\\\n",
    "         elbo_Term7[i]] = compute_elbo(tau, nu, phi_mu, phi_var, X, sigmas, Data_shape, alpha)\n",
    "\n",
    "        if i%10 ==0:\n",
    "            nice_iter_display = str(j)+'-'+str(i) # anneal_iter - cavi_iter\n",
    "            print('iteration: ', nice_iter_display, ' l1 error: ', np.sum(abs(Z-nu))/np.size(Z[:]), \\\n",
    "                 'elbo: ', elbo[i])\n",
    "        #print(round_nu[0:10,:])\n",
    "        #print(nu[0:10,:])\n",
    "        #print('l1 error: ', np.sum(abs(Z-nu))/np.size(Z[:]) )\n",
    "\n",
    "        if np.isnan(elbo[i]):\n",
    "            print('NAN ELBO.')\n",
    "            break\n",
    "\n",
    "        if (i>0) & (elbo[i] < elbo[i-1]): \n",
    "            print('elbo decreased!  Difference: ', elbo[i] - elbo[i-1])\n",
    "            break\n",
    "    \n",
    "        if np.abs(elbo[i]-elbo[i-1]) <= tol[j]:\n",
    "            print('ELBO converged')\n",
    "            break\n"
   ]
  },
  {
   "cell_type": "code",
   "execution_count": 165,
   "metadata": {
    "collapsed": false,
    "scrolled": true
   },
   "outputs": [
    {
     "name": "stdout",
     "output_type": "stream",
     "text": [
      "[-20085.68136904 -20085.65951881 -20085.64743581 -20085.6406345\n",
      " -20085.6366709  -20085.63423545 -20085.63263766 -20085.63151803\n",
      " -20085.63069002 -20085.63005538 -20085.62955984 -20085.62917066\n",
      " -20085.62886576 -20085.62862857 -20085.6284458  -20085.62830643\n",
      " -20085.62820127 -20085.62812274 -20085.62806469 -20085.62802218\n",
      " -20085.62799132 -20085.62796911 -20085.62795325 -20085.62794201\n",
      " -20085.6279341  -20085.62792857 -20085.62792473 -20085.62792207\n",
      " -20085.62792025 -20085.62791901 -20085.62791817 -20085.6279176\n",
      " -20085.62791722 -20085.62791697 -20085.6279168  -20085.62791668\n",
      " -20085.62791661 -20085.62791656 -20085.62791653 -20085.62791651\n",
      " -20085.6279165  -20085.62791649]\n"
     ]
    }
   ],
   "source": [
    "print(elbo[0:iter_ran])"
   ]
  },
  {
   "cell_type": "code",
   "execution_count": 166,
   "metadata": {
    "collapsed": false
   },
   "outputs": [
    {
     "name": "stdout",
     "output_type": "stream",
     "text": [
      "Z (unpermuted): \n",
      " [[ 1.  1.  0.]\n",
      " [ 0.  1.  1.]\n",
      " [ 1.  1.  0.]\n",
      " [ 1.  0.  1.]\n",
      " [ 1.  0.  1.]\n",
      " [ 1.  1.  1.]\n",
      " [ 1.  1.  1.]\n",
      " [ 1.  1.  0.]\n",
      " [ 1.  1.  1.]\n",
      " [ 1.  1.  1.]]\n",
      "** procedure did not give a true permutation\n",
      "permutation:  [2, 1, 0]\n",
      "Z (permuted) \n",
      " [[ 0.  1.  1.]\n",
      " [ 1.  1.  0.]\n",
      " [ 0.  1.  1.]\n",
      " [ 1.  0.  1.]\n",
      " [ 1.  0.  1.]\n",
      " [ 1.  1.  1.]\n",
      " [ 1.  1.  1.]\n",
      " [ 0.  1.  1.]\n",
      " [ 1.  1.  1.]\n",
      " [ 1.  1.  1.]]\n",
      "round_nu \n",
      " [[ 1.  1.  1.]\n",
      " [ 1.  1.  0.]\n",
      " [ 1.  1.  1.]\n",
      " [ 1.  0.  1.]\n",
      " [ 1.  0.  1.]\n",
      " [ 1.  1.  1.]\n",
      " [ 1.  1.  1.]\n",
      " [ 1.  1.  1.]\n",
      " [ 1.  1.  1.]\n",
      " [ 1.  1.  1.]]\n",
      "l1 error (after permutation):  [0.156, 0.028000000000000001, 0.028000000000000001]\n",
      "\n",
      "\n",
      "true A (permuted): \n",
      " [[  4.00958547  -2.25505526]\n",
      " [-19.9694107  -13.80715158]\n",
      " [ 19.62685741  -5.02707654]]\n",
      "phi_mu: \n",
      " [[  3.05637638  -6.97299845]\n",
      " [-19.80939406 -11.09377509]\n",
      " [ 19.89188199  -1.92906254]]\n",
      "\n",
      "\n",
      "true Pi (permuted):  [ 0.8  0.8  0.8]\n",
      "computed Pi:  [ 0.90284204  0.83344349  0.85723728]\n"
     ]
    },
    {
     "data": {
      "image/png": "[encoded data removed]",
      "text/plain": [
       "<matplotlib.figure.Figure at 0x7fdbecec6a20>"
      ]
     },
     "metadata": {},
     "output_type": "display_data"
    }
   ],
   "source": [
    "Pi_computed = tau[:,0]/(tau[:,0] + tau[:,1])\n",
    "round_nu = np.round(nu*(nu>=0.9) + nu*(nu<=0.1)) + nu*(nu>=0.1)*(nu<=0.9)\n",
    "print('Z (unpermuted): \\n', Z[0:10])\n",
    "\n",
    "# Find the minimizing permutation.\n",
    "accuracy_mat = [[ np.sum(np.abs(Z[:, i] - nu[:, j]))/Num_samples for i in range(K_inf) ]\n",
    "                  for j in range(K_inf) ]\n",
    "perm_tmp = np.argmin(accuracy_mat, 1)\n",
    "\n",
    "if len(perm_tmp) == len(set(perm_tmp)):  # check that we have a true permuation\n",
    "    perm = np.argmin(accuracy_mat, 1)\n",
    "else: \n",
    "    print('** procedure did not give a true permutation')\n",
    "    perm = [0,1,2]\n",
    "perm = [2,1,0]\n",
    "print('permutation: ', perm)\n",
    "    \n",
    "# print Z (permuted) and nu\n",
    "print('Z (permuted) \\n', Z[0:10, perm])\n",
    "print('round_nu \\n', round_nu[0:10,:])\n",
    "\n",
    "print('l1 error (after permutation): ', \\\n",
    "      [ np.sum(np.abs(Z[:, perm[i]] - nu[:, i]))/Num_samples for i in range(K_inf) ])\n",
    "\n",
    "print('\\n')\n",
    "print('true A (permuted): \\n', A[perm, :])\n",
    "print('phi_mu: \\n', phi_mu.transpose())\n",
    "\n",
    "print('\\n')\n",
    "print('true Pi (permuted): ', Pi)\n",
    "print('computed Pi: ', Pi_computed)\n",
    "plt.clf()\n",
    "plt.plot(elbo[:iter_ran])\n",
    "plt.xlabel('iteration')\n",
    "plt.ylabel('elbo')\n",
    "plt.show()"
   ]
  },
  {
   "cell_type": "code",
   "execution_count": 112,
   "metadata": {
    "collapsed": false
   },
   "outputs": [
    {
     "data": {
      "image/png": "[encoded data removed]",
      "text/plain": [
       "<matplotlib.figure.Figure at 0x7f26daae74d0>"
      ]
     },
     "metadata": {},
     "output_type": "display_data"
    }
   ],
   "source": [
    "pred_x = np.dot(nu, phi_mu.transpose())\n",
    "col = 1\n",
    "plt.clf()\n",
    "plt.plot(pred_x[:, col], X[:, col], 'ko')\n",
    "plt.show()"
   ]
  },
  {
   "cell_type": "code",
   "execution_count": 109,
   "metadata": {
    "collapsed": false,
    "scrolled": true
   },
   "outputs": [
    {
     "name": "stdout",
     "output_type": "stream",
     "text": [
      "0.9566\n",
      "0.1538\n",
      "0.706\n"
     ]
    }
   ],
   "source": [
    "# let us permute the columms of nu and then compare: \n",
    "nu_perm = nu[:, (1,2,0)]\n",
    "round_nu_perm = np.round(nu_perm*(nu_perm>=0.9) + nu_perm*(nu_perm<=0.1)) + nu_perm*(nu_perm>=0.1)*(nu_perm<=0.9)\n",
    "\n",
    "print(np.sum(np.abs(Z[:,0] - nu_perm[:,0]))/Num_samples)\n",
    "print(np.sum(np.abs(Z[:,1] - nu_perm[:,1]))/Num_samples)\n",
    "print(np.sum(np.abs(Z[:,2] - nu_perm[:,2]))/Num_samples)\n",
    "\n",
    "# so two of the rows are really close ..."
   ]
  }
 ],
 "metadata": {
  "anaconda-cloud": {},
  "kernelspec": {
   "display_name": "Python 3",
   "language": "python",
   "name": "python3"
  },
  "language_info": {
   "codemirror_mode": {
    "name": "ipython",
    "version": 3
   },
   "file_extension": ".py",
   "mimetype": "text/x-python",
   "name": "python",
   "nbconvert_exporter": "python",
   "pygments_lexer": "ipython3",
   "version": "3.6.0"
  }
 },
 "nbformat": 4,
 "nbformat_minor": 1
}
