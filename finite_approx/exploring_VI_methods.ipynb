{
 "cells": [
  {
   "cell_type": "markdown",
   "metadata": {},
   "source": [
    "# Variational inference using the finite approximation"
   ]
  },
  {
   "cell_type": "code",
   "execution_count": 1,
   "metadata": {
    "collapsed": false
   },
   "outputs": [],
   "source": [
    "import numpy as np\n",
    "import scipy as sp\n",
    "\n",
    "import matplotlib.pyplot as plt\n",
    "from copy import deepcopy\n",
    "\n",
    "import VI_algorithms_lib\n",
    "import valez_finite_VI_lib\n"
   ]
  },
  {
   "cell_type": "markdown",
   "metadata": {},
   "source": [
    "# Draw data"
   ]
  },
  {
   "cell_type": "code",
   "execution_count": 2,
   "metadata": {
    "collapsed": false
   },
   "outputs": [
    {
     "name": "stdout",
     "output_type": "stream",
     "text": [
      "[ 0.9689778   0.85366186  0.93957109]\n"
     ]
    }
   ],
   "source": [
    "# np.random.seed(34134) # cavi works great for this seed\n",
    "# np.random.seed(5365)\n",
    "# np.random.seed(234213)\n",
    "np.random.seed(1343124)\n",
    "\n",
    "Num_samples = 500 # sample size\n",
    "D = 2 # dimension\n",
    "# so X will be a N\\times D matrix\n",
    "\n",
    "K_inf = 3 # take to be large for a good approximation to the IBP\n",
    "\n",
    "alpha = 10 # IBP parameter\n",
    "\n",
    "# Parameters to draw A from MVN\n",
    "sigma_eps = .1 # variance of noise\n",
    "sigma_A = 100\n",
    "\n",
    "# generate data\n",
    "Pi, Z, mu, A, X = valez_finite_VI_lib.generate_data(Num_samples, D, K_inf, sigma_A, sigma_eps, alpha)\n",
    "\n",
    "K_approx = deepcopy(K_inf) # variational truncation\n",
    "print(Pi)"
   ]
  },
  {
   "cell_type": "code",
   "execution_count": 3,
   "metadata": {
    "collapsed": true
   },
   "outputs": [],
   "source": [
    "VI_instance = VI_algorithms_lib.VI_algorithms(X, K_approx, alpha, sigma_eps, sigma_A)"
   ]
  },
  {
   "cell_type": "markdown",
   "metadata": {},
   "source": [
    "# Run CAVI with random restarts"
   ]
  },
  {
   "cell_type": "code",
   "execution_count": 4,
   "metadata": {
    "collapsed": false,
    "scrolled": true
   },
   "outputs": [
    {
     "name": "stdout",
     "output_type": "stream",
     "text": [
      "elbo converged:  480876.784511\n",
      "elbo converged:  480527.193902\n",
      "elbo converged:  480660.496314\n",
      "elbo converged:  479146.455429\n",
      "elbo converged:  480849.285434\n",
      "elbo converged:  482378.254463\n",
      "elbo converged:  488665.074813\n",
      "elbo converged:  474475.866528\n",
      "elbo converged:  479782.202846\n",
      "Max iteration reached; elbo:  458239.887806\n",
      "elbo converged:  481927.519302\n",
      "elbo converged:  478912.606098\n",
      "elbo converged:  488665.074813\n",
      "elbo converged:  482378.254463\n",
      "Max iteration reached; elbo:  481347.152656\n",
      "elbo converged:  482378.254463\n",
      "Max iteration reached; elbo:  481347.159066\n",
      "elbo converged:  488665.074813\n",
      "elbo converged:  479782.202846\n",
      "elbo converged:  480876.784511\n",
      "max elbo:  488665.074813\n",
      "average elbo 480594.079254\n"
     ]
    }
   ],
   "source": [
    "n_restart = 20\n",
    "elbo_end = np.array([])\n",
    "\n",
    "for i in range(n_restart): \n",
    "    VI_instance.re_init() # re initialize\n",
    "    [tau_tmp, nu_tmp, phi_mu_tmp, phi_var_tmp, elbo] \\\n",
    "        = VI_instance.run_cavi(max_iter=200, tol=1e-6, verbose = False) # run cavi\n",
    "        \n",
    "    elbo_end = np.append(elbo_end, elbo[-1])\n",
    "    \n",
    "    # see if posterior predictive is better than all previous ones\n",
    "    if (i == 0) or np.all(elbo_end[i] > elbo_end[:i]): \n",
    "        tau = deepcopy(tau_tmp)\n",
    "        nu = deepcopy(nu_tmp)\n",
    "        phi_mu = deepcopy(phi_mu_tmp)\n",
    "        phi_var = deepcopy(phi_var_tmp)\n",
    "    \n",
    "    \n",
    "print('max elbo: ', np.max(elbo_end))\n",
    "print('average elbo', np.mean(elbo_end))\n",
    "#print(elbo_end)\n",
    "#print(np.argmax(elbo_end))"
   ]
  },
  {
   "cell_type": "code",
   "execution_count": 5,
   "metadata": {
    "collapsed": false
   },
   "outputs": [
    {
     "name": "stdout",
     "output_type": "stream",
     "text": [
      "Z (unpermuted): \n",
      " [[1 1 0]\n",
      " [1 1 1]\n",
      " [1 0 1]\n",
      " [1 1 1]\n",
      " [1 1 1]\n",
      " [1 1 1]\n",
      " [1 1 1]\n",
      " [1 1 1]\n",
      " [1 1 1]\n",
      " [1 0 1]]\n",
      "permutation:  [1 0 2]\n",
      "Z (permuted) \n",
      " [[1 1 0]\n",
      " [1 1 1]\n",
      " [0 1 1]\n",
      " [1 1 1]\n",
      " [1 1 1]\n",
      " [1 1 1]\n",
      " [1 1 1]\n",
      " [1 1 1]\n",
      " [1 1 1]\n",
      " [0 1 1]]\n",
      "round_nu \n",
      " [[ 1.  1.  0.]\n",
      " [ 1.  0.  0.]\n",
      " [ 0.  1.  1.]\n",
      " [ 1.  0.  0.]\n",
      " [ 1.  0.  0.]\n",
      " [ 1.  0.  0.]\n",
      " [ 1.  0.  0.]\n",
      " [ 1.  0.  0.]\n",
      " [ 1.  0.  0.]\n",
      " [ 0.  1.  1.]]\n",
      "l1 error (after permutation):  [0.0, 0.77600000000000002, 0.77600000000000002]\n",
      "\n",
      "\n",
      "true A (permuted): \n",
      " [[ 22.05173952   7.43314472]\n",
      " [-13.8492393   11.40791503]\n",
      " [  4.2376826  -12.56702396]]\n",
      "phi_mu: \n",
      " [[ 13.04473887   6.3543641 ]\n",
      " [-10.86493126  11.77050344]\n",
      " [  2.72165696 -12.76933529]]\n",
      "\n",
      "\n",
      "true Pi (permuted):  [ 0.9689778   0.85366186  0.93957109]\n",
      "computed Pi:  [ 0.83740912  0.20290813  0.17911434]\n"
     ]
    },
    {
     "data": {
      "image/png": "[encoded data removed]",
      "text/plain": [
       "<matplotlib.figure.Figure at 0x7f2fe214b5f8>"
      ]
     },
     "metadata": {},
     "output_type": "display_data"
    },
    {
     "name": "stdout",
     "output_type": "stream",
     "text": [
      "final elbo:  480876.784511\n"
     ]
    },
    {
     "data": {
      "image/png": "[encoded data removed]",
      "text/plain": [
       "<matplotlib.figure.Figure at 0x7f2fe00149b0>"
      ]
     },
     "metadata": {},
     "output_type": "display_data"
    },
    {
     "data": {
      "image/png": "[encoded data removed]",
      "text/plain": [
       "<matplotlib.figure.Figure at 0x7f2fdff75f60>"
      ]
     },
     "metadata": {},
     "output_type": "display_data"
    }
   ],
   "source": [
    "valez_finite_VI_lib.display_results(elbo, tau, nu, phi_mu, phi_var, X, Pi, Z, A)"
   ]
  },
  {
   "cell_type": "markdown",
   "metadata": {},
   "source": [
    "# Run Stochastic VB "
   ]
  },
  {
   "cell_type": "code",
   "execution_count": null,
   "metadata": {
    "collapsed": false
   },
   "outputs": [],
   "source": [
    "VI_instance.re_init() # initialize"
   ]
  },
  {
   "cell_type": "code",
   "execution_count": null,
   "metadata": {
    "collapsed": false,
    "scrolled": true
   },
   "outputs": [
    {
     "name": "stdout",
     "output_type": "stream",
     "text": [
      "elbo converged -39.7947980559\n",
      "Max iteration reached; elbo:  474549.32386\n",
      "Max iteration reached; elbo:  452615.836575\n",
      "Max iteration reached; elbo:  453907.198069\n",
      "Max iteration reached; elbo:  460439.53988\n",
      "Max iteration reached; elbo:  436625.263604\n",
      "Max iteration reached; elbo:  445204.870096\n",
      "Max iteration reached; elbo:  448867.497964\n",
      "Max iteration reached; elbo:  455234.97502\n",
      "Max iteration reached; elbo:  447205.226831\n",
      "Max iteration reached; elbo:  423443.96526\n",
      "Max iteration reached; elbo:  457181.943907\n",
      "Max iteration reached; elbo:  445001.862173\n",
      "Max iteration reached; elbo:  466885.805207\n",
      "Max iteration reached; elbo:  436737.357869\n",
      "Max iteration reached; elbo:  469630.757408\n",
      "Max iteration reached; elbo:  447187.107696\n",
      "Max iteration reached; elbo:  472673.179234\n"
     ]
    }
   ],
   "source": [
    "n_restart = 20\n",
    "elbo_end = np.array([])\n",
    "\n",
    "batch_size = 10\n",
    "\n",
    "for i in range(n_restart): \n",
    "    VI_instance.re_init() # re initialize\n",
    "    \n",
    "    [tau, nu, phi_mu, phi_var, elbo] = \\\n",
    "        VI_instance.run_stochastic_VI(batch_size, decay_param = 0.9, max_iter=1000, tol=1e-6, verbose = False) \n",
    "        \n",
    "    elbo_end = np.append(elbo_end, elbo[-1])\n",
    "    \n",
    "    # see if posterior predictive is better than all previous ones\n",
    "    if (i == 0) or np.all(elbo_end[i] > elbo_end[:i]): \n",
    "        tau = deepcopy(tau_tmp)\n",
    "        nu = deepcopy(nu_tmp)\n",
    "        phi_mu = deepcopy(phi_mu_tmp)\n",
    "        phi_var = deepcopy(phi_var_tmp)\n",
    "    \n",
    "    \n",
    "print('max elbo: ', np.max(elbo_end))\n",
    "print('average elbo', np.mean(elbo_end))\n",
    "\n",
    "\n"
   ]
  },
  {
   "cell_type": "code",
   "execution_count": null,
   "metadata": {
    "collapsed": false
   },
   "outputs": [],
   "source": [
    "valez_finite_VI_lib.display_results(elbo, tau, nu, phi_mu, phi_var, X, Pi, Z, A)"
   ]
  },
  {
   "cell_type": "markdown",
   "metadata": {},
   "source": [
    "# Gultekin: Annealing method"
   ]
  },
  {
   "cell_type": "code",
   "execution_count": null,
   "metadata": {
    "collapsed": false,
    "scrolled": false
   },
   "outputs": [],
   "source": [
    "n_restart = 20\n",
    "elbo_end = np.array([])\n",
    "\n",
    "for i in range(n_restart): \n",
    "    VI_instance.re_init() # re initialize\n",
    "    [tau_tmp, nu_tmp, phi_mu_tmp, phi_var_tmp, elbo] \\\n",
    "        = VI_instance.run_cavi_anneal(max_iter=500, tol=1e-6, verbose = False) # run cavi + annealing\n",
    "        \n",
    "    elbo_end = np.append(elbo_end, elbo[-1])\n",
    "    \n",
    "    # see if posterior predictive is better than all previous ones\n",
    "    if (i == 0) or np.all(elbo_end[i] > elbo_end[:i]): \n",
    "        tau = deepcopy(tau_tmp)\n",
    "        nu = deepcopy(nu_tmp)\n",
    "        phi_mu = deepcopy(phi_mu_tmp)\n",
    "        phi_var = deepcopy(phi_var_tmp)\n",
    "    \n",
    "    \n",
    "print('max elbo: ', np.max(elbo_end))\n",
    "print('average elbo', np.mean(elbo_end))\n",
    "\n",
    "valez_finite_VI_lib.display_results(elbo, tau, nu, phi_mu, phi_var, X, Pi, Z, A)"
   ]
  },
  {
   "cell_type": "code",
   "execution_count": null,
   "metadata": {
    "collapsed": true
   },
   "outputs": [],
   "source": []
  },
  {
   "cell_type": "code",
   "execution_count": null,
   "metadata": {
    "collapsed": true
   },
   "outputs": [],
   "source": []
  }
 ],
 "metadata": {
  "anaconda-cloud": {},
  "kernelspec": {
   "display_name": "Python 3",
   "language": "python",
   "name": "python3"
  },
  "language_info": {
   "codemirror_mode": {
    "name": "ipython",
    "version": 3
   },
   "file_extension": ".py",
   "mimetype": "text/x-python",
   "name": "python",
   "nbconvert_exporter": "python",
   "pygments_lexer": "ipython3",
   "version": "3.6.0"
  }
 },
 "nbformat": 4,
 "nbformat_minor": 1
}
