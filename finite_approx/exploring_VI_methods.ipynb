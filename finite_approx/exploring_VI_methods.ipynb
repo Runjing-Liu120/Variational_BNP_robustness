{
 "cells": [
  {
   "cell_type": "markdown",
   "metadata": {},
   "source": [
    "# Variational inference using the finite approximation"
   ]
  },
  {
   "cell_type": "code",
   "execution_count": 98,
   "metadata": {
    "collapsed": false
   },
   "outputs": [],
   "source": [
    "import numpy as np\n",
    "import scipy as sp\n",
    "\n",
    "import matplotlib.pyplot as plt\n",
    "from copy import deepcopy\n",
    "\n",
    "import VI_algorithms_lib\n",
    "import valez_finite_VI_lib\n"
   ]
  },
  {
   "cell_type": "markdown",
   "metadata": {},
   "source": [
    "# Draw data"
   ]
  },
  {
   "cell_type": "code",
   "execution_count": 99,
   "metadata": {
    "collapsed": false
   },
   "outputs": [],
   "source": [
    "# np.random.seed(34134) # cavi works great for this seed\n",
    "# np.random.seed(31431)\n",
    "np.random.seed(234213)\n",
    "\n",
    "Num_samples = 500 # sample size\n",
    "D = 2 # dimension\n",
    "# so X will be a N\\times D matrix\n",
    "\n",
    "K_inf = 3 # take to be large for a good approximation to the IBP\n",
    "\n",
    "alpha = 10 # IBP parameter\n",
    "\n",
    "# Parameters to draw A from MVN\n",
    "sigma_eps = .1 # variance of noise\n",
    "sigma_A = 100\n",
    "\n",
    "# generate data\n",
    "Pi, Z, mu, A, X = valez_finite_VI_lib.generate_data(Num_samples, D, K_inf, sigma_A, sigma_eps, alpha)\n",
    "\n",
    "K_approx = deepcopy(K_inf) # variational truncation\n"
   ]
  },
  {
   "cell_type": "markdown",
   "metadata": {},
   "source": [
    "# Run CAVI with random restarts"
   ]
  },
  {
   "cell_type": "code",
   "execution_count": 100,
   "metadata": {
    "collapsed": false,
    "scrolled": true
   },
   "outputs": [
    {
     "name": "stdout",
     "output_type": "stream",
     "text": [
      "0\n",
      "2\n",
      "5\n",
      "elbo decreased!  Difference:  -1.16415321827e-10\n",
      "elbo decreased!  Difference:  -1.16415321827e-10\n",
      "elbo decreased!  Difference:  -1.16415321827e-10\n",
      "16\n",
      "[  1.02566154e+06   1.02486122e+06   1.02566792e+06   9.29961512e+05\n",
      "   1.02564467e+06   1.02715404e+06   8.75683855e+05   8.75683855e+05\n",
      "   1.01929935e+06   1.02465552e+06   8.75683855e+05   1.02486122e+06\n",
      "  -3.97947974e+01   9.56529347e+05   9.48653408e+05   1.02568854e+06\n",
      "   1.02715404e+06   9.59089668e+05   1.02613952e+06   1.02613952e+06]\n",
      "16\n"
     ]
    }
   ],
   "source": [
    "VI_instance = VI_algorithms_lib.VI_algorithms(X, K_approx, alpha, sigma_eps, sigma_A)\n",
    "\n",
    "n_restart = 20\n",
    "elbo_end = np.array([])\n",
    "\n",
    "for i in range(n_restart): \n",
    "    VI_instance.re_init() # re initialize\n",
    "    [tau_tmp, nu_tmp, phi_mu_tmp, phi_var_tmp, elbo] \\\n",
    "        = VI_instance.run_cavi(max_iter=200, tol=1e-6, verbose = False) # run cavi\n",
    "        \n",
    "    elbo_end = np.append(elbo_end, elbo[-1])\n",
    "    \n",
    "    # see if posterior predictive is better than all previous ones\n",
    "    if (i == 0) or np.all(elbo_end[i] > elbo_end[:i]): \n",
    "        tau = deepcopy(tau_tmp)\n",
    "        nu = deepcopy(nu_tmp)\n",
    "        phi_mu = deepcopy(phi_mu_tmp)\n",
    "        phi_var = deepcopy(phi_var_tmp)\n",
    "        # print(i)\n",
    "    print(i)\n",
    "    \n",
    "#print(elbo_end)\n",
    "#print(np.argmax(elbo_end))"
   ]
  },
  {
   "cell_type": "code",
   "execution_count": 101,
   "metadata": {
    "collapsed": false
   },
   "outputs": [
    {
     "name": "stdout",
     "output_type": "stream",
     "text": [
      "Z (unpermuted): \n",
      " [[1 1 1]\n",
      " [1 1 1]\n",
      " [1 1 0]\n",
      " [0 1 0]\n",
      " [1 1 1]\n",
      " [0 1 1]\n",
      " [0 1 1]\n",
      " [1 1 1]\n",
      " [1 1 1]\n",
      " [1 1 1]]\n",
      "** procedure did not give a true permutation\n",
      "permutation:  [0, 1, 2]\n",
      "Z (permuted) \n",
      " [[1 1 1]\n",
      " [1 1 1]\n",
      " [1 1 0]\n",
      " [0 1 0]\n",
      " [1 1 1]\n",
      " [0 1 1]\n",
      " [0 1 1]\n",
      " [1 1 1]\n",
      " [1 1 1]\n",
      " [1 1 1]]\n",
      "round_nu \n",
      " [[ 1.          0.          1.        ]\n",
      " [ 1.          0.          1.        ]\n",
      " [ 1.          1.          1.        ]\n",
      " [ 0.          0.72437951  1.        ]\n",
      " [ 1.          0.          1.        ]\n",
      " [ 0.          0.          1.        ]\n",
      " [ 0.          0.          1.        ]\n",
      " [ 1.          0.          1.        ]\n",
      " [ 1.          0.          1.        ]\n",
      " [ 1.          0.          1.        ]]\n",
      "l1 error (after permutation):  [0.0, 0.70165397781007344, 0.28199999999999997]\n",
      "\n",
      "\n",
      "true A (permuted): \n",
      " [[ -4.56292503 -16.4070799 ]\n",
      " [ 14.39945263  -2.48764823]\n",
      " [  2.67705195   0.75207494]]\n",
      "phi_mu: \n",
      " [[ -3.10182363 -16.02510257]\n",
      " [ -2.66895405  -0.74183088]\n",
      " [ 15.80496317  -2.06646181]]\n",
      "\n",
      "\n",
      "true Pi (permuted):  [ 0.8  0.8  0.8]\n",
      "computed Pi:  [ 0.85327165  0.16330569  0.82749504]\n"
     ]
    },
    {
     "data": {
      "image/png": "[encoded data removed]",
      "text/plain": [
       "<matplotlib.figure.Figure at 0x7faa56820da0>"
      ]
     },
     "metadata": {},
     "output_type": "display_data"
    }
   ],
   "source": [
    "Pi_computed = tau[:,0]/(tau[:,0] + tau[:,1])\n",
    "round_nu = np.round(nu*(nu>=0.9) + nu*(nu<=0.1)) + nu*(nu>=0.1)*(nu<=0.9)\n",
    "print('Z (unpermuted): \\n', Z[0:10])\n",
    "\n",
    "# Find the minimizing permutation.\n",
    "accuracy_mat = [[ np.sum(np.abs(Z[:, i] - nu[:, j]))/Num_samples for i in range(K_inf) ]\n",
    "                  for j in range(K_inf) ]\n",
    "perm_tmp = np.argmin(accuracy_mat, 1)\n",
    "\n",
    "# check that we have a true permuation\n",
    "if len(perm_tmp) == len(set(perm_tmp)):  \n",
    "    perm = perm_tmp\n",
    "else: \n",
    "    print('** procedure did not give a true permutation')\n",
    "    perm = [0,1,2]\n",
    "\n",
    "print('permutation: ', perm)\n",
    "    \n",
    "# print Z (permuted) and nu\n",
    "print('Z (permuted) \\n', Z[0:10, perm])\n",
    "print('round_nu \\n', round_nu[0:10,:])\n",
    "\n",
    "print('l1 error (after permutation): ', \\\n",
    "    [ np.sum(np.abs(Z[:, perm[i]] - nu[:, i]))/Num_samples for i in range(K_inf) ])\n",
    "\n",
    "print('\\n')\n",
    "print('true A (permuted): \\n', A[perm, :])\n",
    "print('phi_mu: \\n', phi_mu.transpose())\n",
    "\n",
    "print('\\n')\n",
    "print('true Pi (permuted): ', Pi)\n",
    "print('computed Pi: ', Pi_computed)\n",
    "plt.clf()\n",
    "plt.plot(elbo)\n",
    "plt.xlabel('iteration')\n",
    "plt.ylabel('elbo')\n",
    "plt.show()"
   ]
  },
  {
   "cell_type": "code",
   "execution_count": 103,
   "metadata": {
    "collapsed": false
   },
   "outputs": [
    {
     "data": {
      "image/png": "[encoded data removed]",
      "text/plain": [
       "<matplotlib.figure.Figure at 0x7faa56c63278>"
      ]
     },
     "metadata": {},
     "output_type": "display_data"
    }
   ],
   "source": [
    "pred_x = np.dot(nu, phi_mu.transpose())\n",
    "col = 1\n",
    "plt.clf()\n",
    "plt.plot(pred_x[:, col], X[:, col], 'ko')\n",
    "\n",
    "diag = np.linspace(np.min(pred_x[:,col]),np.max(pred_x[:,col]))\n",
    "plt.plot(diag,diag)\n",
    "\n",
    "plt.show()"
   ]
  },
  {
   "cell_type": "code",
   "execution_count": null,
   "metadata": {
    "collapsed": true
   },
   "outputs": [],
   "source": []
  }
 ],
 "metadata": {
  "anaconda-cloud": {},
  "kernelspec": {
   "display_name": "Python 3",
   "language": "python",
   "name": "python3"
  },
  "language_info": {
   "codemirror_mode": {
    "name": "ipython",
    "version": 3
   },
   "file_extension": ".py",
   "mimetype": "text/x-python",
   "name": "python",
   "nbconvert_exporter": "python",
   "pygments_lexer": "ipython3",
   "version": "3.6.0"
  }
 },
 "nbformat": 4,
 "nbformat_minor": 1
}
