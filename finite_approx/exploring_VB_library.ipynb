{
 "cells": [
  {
   "cell_type": "markdown",
   "metadata": {},
   "source": [
    "# Exploring VB library"
   ]
  },
  {
   "cell_type": "code",
   "execution_count": 1,
   "metadata": {
    "collapsed": false
   },
   "outputs": [],
   "source": [
    "import numpy as np\n",
    "import scipy as sp\n",
    "\n",
    "import matplotlib.pyplot as plt\n",
    "from copy import deepcopy\n",
    "\n",
    "import VI_algorithms_lib\n",
    "import valez_finite_VI_lib as vi\n",
    "\n",
    "import sys\n",
    "sys.path.append('../../LinearResponseVariationalBayes.py')\n",
    "\n",
    "from VariationalBayes.ParameterDictionary import ModelParamsDict\n",
    "from VariationalBayes.DirichletParams import DirichletParamArray\n",
    "from VariationalBayes.NormalParams import MVNArray\n",
    "from VariationalBayes.Parameters import ArrayParam, ScalarParam\n",
    "\n",
    "import generic_optimization_lib as packing"
   ]
  },
  {
   "cell_type": "markdown",
   "metadata": {},
   "source": [
    "# Draw data"
   ]
  },
  {
   "cell_type": "code",
   "execution_count": 2,
   "metadata": {
    "collapsed": false,
    "scrolled": true
   },
   "outputs": [
    {
     "name": "stdout",
     "output_type": "stream",
     "text": [
      "[ 0.64604807  0.96402149  0.89696843]\n"
     ]
    }
   ],
   "source": [
    "np.random.seed(4368280)\n",
    "\n",
    "\n",
    "Num_samples = 10 # sample size\n",
    "D = 2 # dimension\n",
    "# so X will be a N\\times D matrix\n",
    "\n",
    "K_inf = 3 # take to be large for a good approximation to the IBP\n",
    "\n",
    "alpha = 10.0 # IBP parameter\n",
    "\n",
    "# Parameters to draw A from MVN\n",
    "sigma_eps = 0.1 # variance of noise\n",
    "sigma_A = 100.0\n",
    "\n",
    "# generate data\n",
    "Pi_truth, Z_truth, A_truth, X = vi.generate_data(Num_samples, D, K_inf, sigma_A, sigma_eps, alpha)\n",
    "\n",
    "K_approx = deepcopy(K_inf) # variational truncation\n",
    "print(Pi_truth)"
   ]
  },
  {
   "cell_type": "code",
   "execution_count": 3,
   "metadata": {
    "collapsed": false
   },
   "outputs": [],
   "source": [
    "## define variational parameters\n",
    "vb_params = ModelParamsDict(name = 'vb_params')\n",
    "# stick lengths\n",
    "vb_params.push_param(DirichletParamArray(name='pi', shape=(K_approx, 2))) \n",
    "# variational means\n",
    "vb_params.push_param(MVNArray(name='phi', shape=(K_approx, D))) \n",
    "# responsibilities\n",
    "vb_params.push_param(ArrayParam(name = 'nu', shape = (Num_samples, K_approx), lb = 0.0, ub = 1.0)) \n",
    "\n",
    "# initialize\n",
    "tau_init, nu_init, phi_mu_init, phi_var_init = vi.initialize_parameters(Num_samples, D, K_approx)\n",
    "    \n",
    "vb_params['phi'].set_vector(np.hstack([np.ravel(phi_mu_init.T), phi_var_init]))\n",
    "vb_params['pi'].set_vector(np.ravel(tau_init))\n",
    "vb_params['nu'].set_vector(np.ravel(nu_init))"
   ]
  },
  {
   "cell_type": "code",
   "execution_count": 4,
   "metadata": {
    "collapsed": false
   },
   "outputs": [
    {
     "name": "stdout",
     "output_type": "stream",
     "text": [
      "check nu \n",
      "\n",
      "[[ 0.75850642  0.08465173  0.74905987]\n",
      " [ 0.17853003  0.41449694  0.1614054 ]\n",
      " [ 0.28504637  0.57223453  0.15204038]\n",
      " [ 0.05121825  0.52189681  0.07056183]\n",
      " [ 0.71037797  0.45740886  0.84457221]\n",
      " [ 0.54342127  0.42040212  0.34355862]\n",
      " [ 0.31107763  0.23813339  0.45629593]\n",
      " [ 0.07362009  0.82848963  0.36932312]\n",
      " [ 0.38967501  0.534157    0.01615141]\n",
      " [ 0.45087606  0.61555167  0.31620724]]\n",
      "[[ 0.75850642  0.08465173  0.74905987]\n",
      " [ 0.17853003  0.41449694  0.1614054 ]\n",
      " [ 0.28504637  0.57223453  0.15204038]\n",
      " [ 0.05121825  0.52189681  0.07056183]\n",
      " [ 0.71037797  0.45740886  0.84457221]\n",
      " [ 0.54342127  0.42040212  0.34355862]\n",
      " [ 0.31107763  0.23813339  0.45629593]\n",
      " [ 0.07362009  0.82848963  0.36932312]\n",
      " [ 0.38967501  0.534157    0.01615141]\n",
      " [ 0.45087606  0.61555167  0.31620724]] \n",
      "\n",
      "check beta means \n",
      "\n",
      "[[ 1.20509906  0.80452904]\n",
      " [ 0.60422205  1.62573816]\n",
      " [ 1.97115228  1.63332368]]\n",
      "[[ 1.20509906  0.80452904]\n",
      " [ 0.60422205  1.62573816]\n",
      " [ 1.97115228  1.63332368]]\n",
      "check normal means \n",
      "\n",
      "[[-0.67875587 -1.01534522]\n",
      " [-0.12046844  2.17037139]\n",
      " [ 0.25910884 -0.2226591 ]]\n",
      "[[-0.67875587 -1.01534522]\n",
      " [-0.12046844  2.17037139]\n",
      " [ 0.25910884 -0.2226591 ]] \n",
      "\n",
      "check that this matches with pack_params \n",
      "\n",
      "[ 0.18656177 -0.21749821 -0.50381352  0.48596197  0.67861828  0.490617\n",
      " -0.67875587 -1.01534522 -0.12046844  2.17037139  0.25910884 -0.2226591   0.\n",
      "  0.          0.          1.14450838 -2.38075907  1.09360451 -1.52633857\n",
      " -0.34540584 -1.64780821 -0.91956583  0.29097383 -1.71868687 -2.91908297\n",
      "  0.08764328 -2.57809087  0.89722045 -0.17077842  1.69264901  0.17412368\n",
      " -0.32112289 -0.64747567 -0.79508608 -1.16294049 -0.17526355 -2.53236652\n",
      "  1.57496058 -0.53512174 -0.44867851  0.13684114 -4.10946485 -0.19713168\n",
      "  0.47070949 -0.77125707]\n",
      "[ 0.18656177 -0.21749821 -0.50381352  0.48596197  0.67861828  0.490617\n",
      " -0.67875587 -0.12046844  0.25910884 -1.01534522  2.17037139 -0.2226591   0.\n",
      "  0.          0.          1.14450838 -2.38075907  1.09360451 -1.52633857\n",
      " -0.34540584 -1.64780821 -0.91956583  0.29097383 -1.71868687 -2.91908297\n",
      "  0.08764328 -2.57809087  0.89722045 -0.17077842  1.69264901  0.17412368\n",
      " -0.32112289 -0.64747567 -0.79508608 -1.16294049 -0.17526355 -2.53236652\n",
      "  1.57496058 -0.53512174 -0.44867851  0.13684114 -4.10946485 -0.19713168\n",
      "  0.47070949 -0.77125707]\n"
     ]
    }
   ],
   "source": [
    "# double check set_vector and np.ravel is doing what I expect\n",
    "print('check nu \\n')\n",
    "print(nu_init)\n",
    "print(vb_params['nu'].get(), '\\n')\n",
    "\n",
    "print('check beta means \\n')\n",
    "#print(tau_init / np.sum(tau_init,1)[:,None])\n",
    "#print(vb_params['pi'].e(), '\\n')\n",
    "print(tau_init)\n",
    "print(vb_params['pi'].alpha.get())\n",
    "\n",
    "print('check normal means \\n')\n",
    "print(phi_mu_init.T)\n",
    "print(vb_params['phi'].e(), '\\n')\n",
    "\n",
    "print('check that this matches with pack_params \\n')\n",
    "print(vb_params.get_free())\n",
    "print(packing.pack_params(tau_init, phi_mu_init, phi_var_init, nu_init))"
   ]
  },
  {
   "cell_type": "code",
   "execution_count": 5,
   "metadata": {
    "collapsed": false
   },
   "outputs": [
    {
     "name": "stdout",
     "output_type": "stream",
     "text": [
      "10.0\n"
     ]
    }
   ],
   "source": [
    "print(alpha)"
   ]
  },
  {
   "cell_type": "code",
   "execution_count": 6,
   "metadata": {
    "collapsed": false,
    "scrolled": true
   },
   "outputs": [
    {
     "name": "stdout",
     "output_type": "stream",
     "text": [
      "[  10.   100.     0.1]\n",
      "[  10.   100.     0.1]\n"
     ]
    }
   ],
   "source": [
    "# define hyper parameters\n",
    "hyper_params = ModelParamsDict('hyper_params')\n",
    "hyper_params.push_param(ScalarParam('alpha', lb = 0.0))\n",
    "hyper_params.push_param(ScalarParam('var_a', lb = 0.0))\n",
    "hyper_params.push_param(ScalarParam('var_eps', lb = 0.0))\n",
    "\n",
    "\n",
    "hyper_params['alpha'].set(alpha)\n",
    "hyper_params['var_a'].set(sigma_A)\n",
    "hyper_params['var_eps'].set(sigma_eps)\n",
    "\n",
    "\n",
    "\n",
    "# just checking ...\n",
    "print(packing.pack_hyperparameters(alpha, sigma_A, sigma_eps))\n",
    "print(hyper_params.get_vector())"
   ]
  },
  {
   "cell_type": "code",
   "execution_count": 7,
   "metadata": {
    "collapsed": false
   },
   "outputs": [
    {
     "name": "stdout",
     "output_type": "stream",
     "text": [
      "[-0.71157178 -2.08667144 -0.73308428]\n",
      "[-1.38361452 -0.4134043  -0.98282395]\n",
      "[[-0.67875587 -0.12046844  0.25910884]\n",
      " [-1.01534522  2.17037139 -0.2226591 ]]\n",
      "[[ 1.46070953  1.01451264  1.06713739]\n",
      " [ 2.03092592  5.71051195  1.04957707]]\n",
      "[[ 0.75850642  0.08465173  0.74905987]\n",
      " [ 0.17853003  0.41449694  0.1614054 ]\n",
      " [ 0.28504637  0.57223453  0.15204038]\n",
      " [ 0.05121825  0.52189681  0.07056183]\n",
      " [ 0.71037797  0.45740886  0.84457221]\n",
      " [ 0.54342127  0.42040212  0.34355862]\n",
      " [ 0.31107763  0.23813339  0.45629593]\n",
      " [ 0.07362009  0.82848963  0.36932312]\n",
      " [ 0.38967501  0.534157    0.01615141]\n",
      " [ 0.45087606  0.61555167  0.31620724]]\n",
      "100.0\n",
      "0.1\n",
      "10.0\n",
      "1462.01216815\n",
      "24.1911468518\n"
     ]
    },
    {
     "data": {
      "text/plain": [
       "1486.2033150038146"
      ]
     },
     "execution_count": 7,
     "metadata": {},
     "output_type": "execute_result"
    }
   ],
   "source": [
    "# check the elbo computation\n",
    "model = vi.IBP_Finite_Model(X, vb_params, hyper_params)\n",
    "model.elbo()"
   ]
  },
  {
   "cell_type": "code",
   "execution_count": 8,
   "metadata": {
    "collapsed": false
   },
   "outputs": [
    {
     "name": "stdout",
     "output_type": "stream",
     "text": [
      "[-0.71157178 -2.08667144 -0.73308428]\n",
      "[-1.38361452 -0.4134043  -0.98282395]\n",
      "[[-0.67875587 -0.12046844  0.25910884]\n",
      " [-1.01534522  2.17037139 -0.2226591 ]]\n",
      "[[ 1.46070953  1.01451264  1.06713739]\n",
      " [ 2.03092592  5.71051195  1.04957707]]\n",
      "[[ 0.75850642  0.08465173  0.74905987]\n",
      " [ 0.17853003  0.41449694  0.1614054 ]\n",
      " [ 0.28504637  0.57223453  0.15204038]\n",
      " [ 0.05121825  0.52189681  0.07056183]\n",
      " [ 0.71037797  0.45740886  0.84457221]\n",
      " [ 0.54342127  0.42040212  0.34355862]\n",
      " [ 0.31107763  0.23813339  0.45629593]\n",
      " [ 0.07362009  0.82848963  0.36932312]\n",
      " [ 0.38967501  0.534157    0.01615141]\n",
      " [ 0.45087606  0.61555167  0.31620724]]\n",
      "100.0\n",
      "0.1\n",
      "10.0\n",
      "1462.01216815\n",
      "24.1911468518\n"
     ]
    },
    {
     "data": {
      "text/plain": [
       "1486.2033150038146"
      ]
     },
     "execution_count": 8,
     "metadata": {},
     "output_type": "execute_result"
    }
   ],
   "source": [
    "sigmas = {'eps': sigma_eps, 'A': sigma_A}\n",
    "vi.compute_elbo(tau_init, nu_init, phi_mu_init, phi_var_init, X, sigmas, alpha)"
   ]
  },
  {
   "cell_type": "code",
   "execution_count": null,
   "metadata": {
    "collapsed": true
   },
   "outputs": [],
   "source": []
  },
  {
   "cell_type": "code",
   "execution_count": null,
   "metadata": {
    "collapsed": true
   },
   "outputs": [],
   "source": []
  }
 ],
 "metadata": {
  "anaconda-cloud": {},
  "kernelspec": {
   "display_name": "Python 3",
   "language": "python",
   "name": "python3"
  },
  "language_info": {
   "codemirror_mode": {
    "name": "ipython",
    "version": 3
   },
   "file_extension": ".py",
   "mimetype": "text/x-python",
   "name": "python",
   "nbconvert_exporter": "python",
   "pygments_lexer": "ipython3",
   "version": "3.6.0"
  }
 },
 "nbformat": 4,
 "nbformat_minor": 1
}
