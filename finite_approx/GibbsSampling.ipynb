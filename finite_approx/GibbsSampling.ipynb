{
 "cells": [
  {
   "cell_type": "code",
   "execution_count": 1,
   "metadata": {
    "collapsed": true
   },
   "outputs": [],
   "source": [
    "import autograd.numpy as np\n",
    "import autograd.scipy as sp\n",
    "from autograd.scipy import special\n",
    "from autograd import grad, hessian, hessian_vector_product, hessian, jacobian\n",
    "import matplotlib.pyplot as plt\n",
    "%matplotlib inline  \n",
    "\n",
    "from copy import deepcopy\n",
    "\n",
    "from scipy import optimize\n",
    "\n",
    "import math\n",
    "import time\n",
    "\n",
    "import valez_finite_VI_lib as vi\n",
    "from data_set_lib import DataSet\n",
    "import generic_optimization_lib as packing"
   ]
  },
  {
   "cell_type": "code",
   "execution_count": 2,
   "metadata": {
    "collapsed": true
   },
   "outputs": [],
   "source": [
    "#np.random.seed(12321)\n",
    "\n",
    "alpha = 10 # IBP parameter\n",
    "num_samples = 2000 # Data set size\n",
    "x_dim = 2 # dimension\n",
    "sigma_a = 3.0 ** 2\n",
    "sigma_eps = 0.2 ** 2 # variance of noise\n",
    "k_inf = 5 # take to be large for a good approximation to the IBP\n",
    "pi_true, z_true, mu_true, a_true, x = vi.generate_data(num_samples, x_dim, k_inf, sigma_a, sigma_eps, alpha)\n",
    "k_approx = k_inf\n",
    "\n",
    "tau_init, nu_init, phi_mu_init, phi_var_init = \\\n",
    "    vi.initialize_parameters(num_samples, x_dim, k_approx)\n",
    "\n",
    "params_init = packing.pack_params(deepcopy(tau_init), deepcopy(phi_mu_init),\n",
    "                                  deepcopy(phi_var_init), deepcopy(nu_init))\n",
    "\n",
    "hyper_params = packing.pack_hyperparameters(alpha, sigma_a, sigma_eps)\n",
    "\n",
    "data_set = DataSet(x, k_approx, alpha, sigma_eps, sigma_a)"
   ]
  },
  {
   "cell_type": "code",
   "execution_count": 3,
   "metadata": {},
   "outputs": [
    {
     "data": {
      "image/png": "[encoded data removed]",
      "text/plain": [
       "<matplotlib.figure.Figure at 0x7ffb7e9d0a58>"
      ]
     },
     "metadata": {},
     "output_type": "display_data"
    },
    {
     "data": {
      "image/png": "[encoded data removed]",
      "text/plain": [
       "<matplotlib.figure.Figure at 0x7ffb7e9df6a0>"
      ]
     },
     "metadata": {},
     "output_type": "display_data"
    }
   ],
   "source": [
    "col = 0\n",
    "plt.figure()\n",
    "plt.hist(data_set.x[:, col], bins=100);\n",
    "\n",
    "col1 = 0\n",
    "col2 = 1\n",
    "plt.figure()\n",
    "plt.plot(data_set.x[:, col1], data_set.x[:, col2], 'k.');"
   ]
  },
  {
   "cell_type": "code",
   "execution_count": 4,
   "metadata": {},
   "outputs": [],
   "source": [
    "class GibbsSampler(object):\n",
    "    def __init__(self, x, k_approx, alpha, sigma_eps, sigma_a):\n",
    "        self.x = x\n",
    "        self.x_n = x.shape[0]\n",
    "        self.x_d = x.shape[1]\n",
    "        self.k_approx = k_approx\n",
    "        self.alpha = alpha\n",
    "        self.sigma_eps = sigma_eps\n",
    "        self.sigma_a = sigma_a\n",
    "        \n",
    "        self.get_z_cond_params = grad(self.z_lp, argnum=0)\n",
    "        self.get_a_cond_params = grad(self.a_lp, argnum=0)\n",
    "        self.get_a2_cond_params = grad(self.a_lp, argnum=1)\n",
    "        self.get_pi1_cond_params = grad(self.pi_lp, argnum=0)\n",
    "        self.get_pi2_cond_params = grad(self.pi_lp, argnum=1)\n",
    "\n",
    "        self.initialize_sampler()\n",
    "        \n",
    "    def z_lp(self, z):\n",
    "        return vi.exp_log_likelihood(\n",
    "            z, self.a, self.a**2, np.log(self.pi), np.log(1 - self.pi),\n",
    "            self.sigma_a, self.sigma_eps, self.x, self.alpha)\n",
    "\n",
    "    def pi_lp(self, logpi, log1mpi):\n",
    "        return vi.exp_log_likelihood(\n",
    "            self.z, self.a, self.a**2, logpi, log1mpi,\n",
    "            self.sigma_a, self.sigma_eps, self.x, self.alpha)\n",
    "\n",
    "    def a_lp(self, a, a2):\n",
    "        return vi.exp_log_likelihood(\n",
    "            self.z, a, a2, np.log(self.pi), np.log(1 - self.pi),\n",
    "            self.sigma_a, self.sigma_eps, self.x, self.alpha)\n",
    "\n",
    "    def initialize_sampler(self):\n",
    "        # Initial values for draws\n",
    "        self.pi = np.ones(k_approx) * .8\n",
    "        self.z = np.random.binomial(1, self.pi, [ self.x_n, k_approx ]).astype(float, copy=True)\n",
    "        self.a = np.random.normal(0, np.sqrt(sigma_a), (self.x_d, k_approx))\n",
    "\n",
    "        self.pi_draws = []\n",
    "        self.z_draws = []\n",
    "        self.a_draws = []\n",
    "        \n",
    "    def draw_z_column(self, k):\n",
    "        # Because the z columns are inter-dependent, only draw one column at a time.\n",
    "        assert k < self.k_approx\n",
    "        z_cond_params = self.get_z_cond_params(self.z)\n",
    "        z_logsumexp = sp.misc.logsumexp(z_cond_params, 1)\n",
    "        z_means = np.exp(z_cond_params - np.broadcast_to(z_logsumexp, (k_approx, num_samples)).T)\n",
    "        self.z[:, k] = vi.draw_z(z_means, 1)[0, :, k].astype(float)\n",
    "        \n",
    "    def draw_a(self):\n",
    "        a_cond_params = self.get_a_cond_params(self.a, self.a**2)\n",
    "        a2_cond_params = self.get_a2_cond_params(self.a, self.a**2)\n",
    "\n",
    "        a_var = -0.5 / a2_cond_params\n",
    "        a_mean = a_var * a_cond_params\n",
    "        assert np.all(a_var > 0)\n",
    "\n",
    "        self.a = vi.draw_a(a_mean, a_var, 1)[0, :, :]\n",
    "\n",
    "    def draw_pi(self):\n",
    "        pi1_cond_params = self.get_pi1_cond_params(np.log(self.pi), np.log(1 - self.pi))\n",
    "        pi2_cond_params = self.get_pi2_cond_params(np.log(self.pi), np.log(1 - self.pi))\n",
    "\n",
    "        # Note -- add one to get the beta distribution parameters from the gradients.\n",
    "        pi_params = np.vstack([pi1_cond_params, pi2_cond_params]).T + 1\n",
    "        self.pi = vi.draw_pi(pi_params, 1)[0, :]\n",
    "        \n",
    "        \n",
    "    def draw(self, keep_draw=False):\n",
    "        # Draw the z columns in a random order.\n",
    "        self.draw_a()\n",
    "        self.draw_pi()\n",
    "        for z_col in np.random.permutation(self.k_approx):\n",
    "            self.draw_z_column(z_col)\n",
    "\n",
    "        if keep_draw:\n",
    "            self.a_draws.append(self.a)\n",
    "            self.pi_draws.append(self.pi)\n",
    "            self.z_draws.append(self.z)\n",
    "        \n",
    "    "
   ]
  },
  {
   "cell_type": "code",
   "execution_count": 5,
   "metadata": {},
   "outputs": [
    {
     "name": "stderr",
     "output_type": "stream",
     "text": [
      " 99% (995 of 1000) |###################### | Elapsed Time: 0:00:16 ETA: 0:00:00"
     ]
    },
    {
     "name": "stdout",
     "output_type": "stream",
     "text": [
      "Done\n"
     ]
    }
   ],
   "source": [
    "import progressbar\n",
    "\n",
    "gibbs_sampler = GibbsSampler(x, k_approx, alpha, sigma_eps, sigma_a)\n",
    "\n",
    "burnin = 500\n",
    "num_gibbs_draws = 500\n",
    "gibbs_sampler.initialize_sampler()\n",
    "\n",
    "# Start at the truth\n",
    "gibbs_sampler.z = z_true.astype(float, copy=True)\n",
    "gibbs_sampler.a = deepcopy(a_true.T)\n",
    "gibbs_sampler.pi = deepcopy(pi_true)\n",
    "\n",
    "bar = progressbar.ProgressBar(max_value=num_gibbs_draws + burnin)\n",
    "for n in range(num_gibbs_draws + burnin):\n",
    "    gibbs_sampler.draw(keep_draw = n > burnin)\n",
    "    bar.update(n)\n",
    "    \n",
    "\n",
    "print('Done')\n"
   ]
  },
  {
   "cell_type": "code",
   "execution_count": 9,
   "metadata": {},
   "outputs": [
    {
     "name": "stdout",
     "output_type": "stream",
     "text": [
      "[[-2.08859674  3.32857254  2.06068535 -0.0585105  -2.32833502]\n",
      " [-4.50780689 -5.8757029  -9.17617382 -6.23655857 -1.45858647]]\n",
      "[[  3.54092633e-04   1.61533534e-04   3.20272700e-05   1.04585453e-04\n",
      "    7.61108915e-04]\n",
      " [  3.33974098e-04   1.51537239e-04   3.38099422e-05   1.03293669e-04\n",
      "    7.70214401e-04]]\n",
      "[[-0.54584699  3.97621322  2.80213717 -1.21368201 -3.15259385]\n",
      " [-3.44180974 -1.92066109 -3.0985004  -3.04725435  1.8600719 ]]\n"
     ]
    },
    {
     "data": {
      "text/plain": [
       "[<matplotlib.lines.Line2D at 0x7ffb7c6f8b38>]"
      ]
     },
     "execution_count": 9,
     "metadata": {},
     "output_type": "execute_result"
    },
    {
     "data": {
      "image/png": "[encoded data removed]",
      "text/plain": [
       "<matplotlib.figure.Figure at 0x7ffb7c67eb38>"
      ]
     },
     "metadata": {},
     "output_type": "display_data"
    }
   ],
   "source": [
    "\n",
    "a_mean = np.mean(gibbs_sampler.a_draws, 0)\n",
    "print(a_mean)\n",
    "print(np.std(gibbs_sampler.a_draws, 0))\n",
    "print(a_true.T)\n",
    "\n",
    "plt.figure()\n",
    "plt.plot(a_true.T.flatten(), a_mean.flatten(), 'k+')\n",
    "\n"
   ]
  },
  {
   "cell_type": "code",
   "execution_count": 10,
   "metadata": {},
   "outputs": [
    {
     "name": "stdout",
     "output_type": "stream",
     "text": [
      "[ 0.05961047  0.1256097   0.60122689  0.19156855  0.02595573]\n",
      "[ 0.00548497  0.0076659   0.0108859   0.0089669   0.00350624]\n",
      "[ 0.8  0.8  0.8  0.8  0.8]\n"
     ]
    },
    {
     "data": {
      "text/plain": [
       "[<matplotlib.lines.Line2D at 0x7ffb7c6a8978>]"
      ]
     },
     "execution_count": 10,
     "metadata": {},
     "output_type": "execute_result"
    },
    {
     "data": {
      "image/png": "[encoded data removed]",
      "text/plain": [
       "<matplotlib.figure.Figure at 0x7ffb7c639278>"
      ]
     },
     "metadata": {},
     "output_type": "display_data"
    }
   ],
   "source": [
    "print(np.mean(gibbs_sampler.pi_draws, 0))\n",
    "print(np.std(gibbs_sampler.pi_draws, 0))\n",
    "print(pi_true)\n",
    "\n",
    "plt.figure()\n",
    "plt.plot(pi_true, np.mean(gibbs_sampler.pi_draws, 0), 'k+')\n",
    "\n"
   ]
  },
  {
   "cell_type": "code",
   "execution_count": 22,
   "metadata": {},
   "outputs": [
    {
     "name": "stdout",
     "output_type": "stream",
     "text": [
      "(499, 2000, 2)\n",
      "(2000, 2)\n"
     ]
    }
   ],
   "source": [
    "x_pred_draws = np.einsum('nij,nkj->nik', gibbs_sampler.z_draws, gibbs_sampler.a_draws)\n",
    "x_pred = np.mean(x_pred_draws, 0)\n",
    "print(x_pred_draws.shape)\n",
    "print(gibbs_sampler.x.shape)"
   ]
  },
  {
   "cell_type": "code",
   "execution_count": 25,
   "metadata": {},
   "outputs": [
    {
     "data": {
      "image/png": "[encoded data removed]",
      "text/plain": [
       "<matplotlib.figure.Figure at 0x7ffb7bcae048>"
      ]
     },
     "metadata": {},
     "output_type": "display_data"
    },
    {
     "data": {
      "image/png": "[encoded data removed]",
      "text/plain": [
       "<matplotlib.figure.Figure at 0x7ffb7bba5ef0>"
      ]
     },
     "metadata": {},
     "output_type": "display_data"
    }
   ],
   "source": [
    "\n",
    "for x_col in range(x_dim):\n",
    "    plt.figure()\n",
    "    plt.plot(gibbs_sampler.x[:, x_col], x_pred[:, x_col], 'k.')\n",
    "    plt.title('Column {}'.format(x_col))"
   ]
  }
 ],
 "metadata": {
  "kernelspec": {
   "display_name": "Python 3",
   "language": "python",
   "name": "python3"
  },
  "language_info": {
   "codemirror_mode": {
    "name": "ipython",
    "version": 3
   },
   "file_extension": ".py",
   "mimetype": "text/x-python",
   "name": "python",
   "nbconvert_exporter": "python",
   "pygments_lexer": "ipython3",
   "version": "3.5.2"
  }
 },
 "nbformat": 4,
 "nbformat_minor": 2
}
