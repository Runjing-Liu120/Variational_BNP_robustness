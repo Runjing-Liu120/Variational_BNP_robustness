{
 "cells": [
  {
   "cell_type": "code",
   "execution_count": 1,
   "metadata": {
    "collapsed": true
   },
   "outputs": [],
   "source": [
    "import autograd.numpy as np\n",
    "import autograd.scipy as sp\n",
    "from autograd.scipy import special\n",
    "from autograd import grad, hessian, hessian_vector_product, hessian, jacobian\n",
    "import matplotlib.pyplot as plt\n",
    "%matplotlib inline  \n",
    "\n",
    "from copy import deepcopy\n",
    "\n",
    "from scipy import optimize\n",
    "\n",
    "import math\n",
    "import time\n",
    "\n",
    "import valez_finite_VI_lib as vi\n",
    "from gibbs_sampler_lib import GibbsSampler\n"
   ]
  },
  {
   "cell_type": "code",
   "execution_count": 2,
   "metadata": {},
   "outputs": [],
   "source": [
    "alpha = 10 # IBP parameter\n",
    "num_samples = 2000 # Data set size\n",
    "x_dim = 2 # dimension\n",
    "sigma_a = 3.0 ** 2\n",
    "sigma_eps = 0.2 ** 2 # variance of noise\n",
    "k_inf = 5 # take to be large for a good approximation to the IBP\n",
    "k_approx = k_inf\n",
    "pi_true, z_true, mu_true, a_true, x = vi.generate_data(num_samples, x_dim, k_inf, sigma_a, sigma_eps, alpha)\n",
    "k_approx = k_inf\n",
    "\n",
    "tau_init, nu_init, phi_mu_init, phi_var_init = \\\n",
    "    vi.initialize_parameters(num_samples, x_dim, k_approx)\n"
   ]
  },
  {
   "cell_type": "code",
   "execution_count": null,
   "metadata": {},
   "outputs": [
    {
     "data": {
      "image/png": "[encoded data removed]",
      "text/plain": [
       "<matplotlib.figure.Figure at 0x7fccbd1b6828>"
      ]
     },
     "metadata": {},
     "output_type": "display_data"
    },
    {
     "data": {
      "image/png": "[encoded data removed]",
      "text/plain": [
       "<matplotlib.figure.Figure at 0x7fccbd1cb048>"
      ]
     },
     "metadata": {},
     "output_type": "display_data"
    }
   ],
   "source": [
    "col = 0\n",
    "plt.figure()\n",
    "plt.hist(x[:, col], bins=100);\n",
    "\n",
    "col1 = 0\n",
    "col2 = 1\n",
    "plt.figure()\n",
    "plt.plot(x[:, col1], x[:, col2], 'k.');"
   ]
  },
  {
   "cell_type": "code",
   "execution_count": null,
   "metadata": {},
   "outputs": [
    {
     "name": "stderr",
     "output_type": "stream",
     "text": [
      " 20% (201 of 1000) |####                   | Elapsed Time: 0:00:03 ETA: 0:00:15"
     ]
    }
   ],
   "source": [
    "\n",
    "gibbs_sampler = GibbsSampler(x, k_approx, alpha, sigma_eps, sigma_a)\n",
    "# Start at the truth\n",
    "gibbs_sampler.z = z_true.astype(float, copy=True)\n",
    "gibbs_sampler.a = deepcopy(a_true.T)\n",
    "gibbs_sampler.pi = deepcopy(pi_true)\n",
    "\n",
    "burnin = 500\n",
    "num_gibbs_draws = 500\n",
    "gibbs_sampler.sample(burnin, num_gibbs_draws)\n"
   ]
  },
  {
   "cell_type": "code",
   "execution_count": null,
   "metadata": {},
   "outputs": [],
   "source": [
    "\n",
    "a_mean = np.mean(gibbs_sampler.a_draws, 0)\n",
    "print(a_mean)\n",
    "print(np.std(gibbs_sampler.a_draws, 0))\n",
    "print(a_true.T)\n",
    "\n",
    "plt.figure()\n",
    "plt.plot(a_true.T.flatten(), a_mean.flatten(), 'k+')"
   ]
  },
  {
   "cell_type": "code",
   "execution_count": null,
   "metadata": {},
   "outputs": [],
   "source": [
    "print(np.mean(gibbs_sampler.pi_draws, 0))\n",
    "print(np.std(gibbs_sampler.pi_draws, 0))\n",
    "print(pi_true)\n",
    "\n",
    "plt.figure()\n",
    "plt.plot(pi_true, np.mean(gibbs_sampler.pi_draws, 0), 'k+')\n"
   ]
  },
  {
   "cell_type": "code",
   "execution_count": null,
   "metadata": {},
   "outputs": [],
   "source": [
    "x_pred_draws = np.einsum('nij,nkj->nik', gibbs_sampler.z_draws, gibbs_sampler.a_draws)\n",
    "x_pred = np.mean(x_pred_draws, 0)\n",
    "print(x_pred_draws.shape)\n",
    "print(gibbs_sampler.x.shape)"
   ]
  },
  {
   "cell_type": "code",
   "execution_count": null,
   "metadata": {},
   "outputs": [],
   "source": [
    "\n",
    "for x_col in range(x_dim):\n",
    "    plt.figure()\n",
    "    plt.plot(gibbs_sampler.x[:, x_col], x_pred[:, x_col], 'k.')\n",
    "    plt.title('Column {}'.format(x_col))"
   ]
  }
 ],
 "metadata": {
  "kernelspec": {
   "display_name": "Python 3",
   "language": "python",
   "name": "python3"
  },
  "language_info": {
   "codemirror_mode": {
    "name": "ipython",
    "version": 3
   },
   "file_extension": ".py",
   "mimetype": "text/x-python",
   "name": "python",
   "nbconvert_exporter": "python",
   "pygments_lexer": "ipython3",
   "version": "3.5.2"
  }
 },
 "nbformat": 4,
 "nbformat_minor": 2
}
