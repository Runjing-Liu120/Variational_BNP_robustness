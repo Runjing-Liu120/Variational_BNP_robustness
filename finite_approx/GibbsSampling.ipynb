{
 "cells": [
  {
   "cell_type": "code",
   "execution_count": 1,
   "metadata": {
    "collapsed": true
   },
   "outputs": [],
   "source": [
    "import autograd.numpy as np\n",
    "import autograd.scipy as sp\n",
    "from autograd.scipy import special\n",
    "from autograd import grad, hessian, hessian_vector_product, hessian, jacobian\n",
    "import matplotlib.pyplot as plt\n",
    "%matplotlib inline  \n",
    "\n",
    "from copy import deepcopy\n",
    "\n",
    "from scipy import optimize\n",
    "\n",
    "import math\n",
    "import time\n",
    "\n",
    "import valez_finite_VI_lib as vi\n",
    "from data_set_lib import DataSet\n",
    "import generic_optimization_lib as packing"
   ]
  },
  {
   "cell_type": "code",
   "execution_count": 2,
   "metadata": {
    "collapsed": true
   },
   "outputs": [],
   "source": [
    "#np.random.seed(12321)\n",
    "\n",
    "alpha = 10 # IBP parameter\n",
    "num_samples = 50 # Data set size\n",
    "x_dim = 4 # dimension\n",
    "sigma_a = 3.0 ** 2\n",
    "sigma_eps = 1.0 ** 2 # variance of noise\n",
    "k_inf = 5 # take to be large for a good approximation to the IBP\n",
    "pi_true, z_true, mu_true, a_true, x = vi.generate_data(num_samples, x_dim, k_inf, sigma_a, sigma_eps, alpha)\n",
    "k_approx = k_inf\n",
    "\n",
    "tau_init, nu_init, phi_mu_init, phi_var_init = \\\n",
    "    vi.initialize_parameters(num_samples, x_dim, k_approx)\n",
    "\n",
    "params_init = packing.pack_params(deepcopy(tau_init), deepcopy(phi_mu_init),\n",
    "                                  deepcopy(phi_var_init), deepcopy(nu_init))\n",
    "\n",
    "hyper_params = packing.pack_hyperparameters(alpha, sigma_a, sigma_eps)\n",
    "\n",
    "data_set = DataSet(x, k_approx, alpha, sigma_eps, sigma_a)"
   ]
  },
  {
   "cell_type": "code",
   "execution_count": 3,
   "metadata": {},
   "outputs": [
    {
     "data": {
      "image/png": "[encoded data removed]",
      "text/plain": [
       "<matplotlib.figure.Figure at 0x7fd3db20d940>"
      ]
     },
     "metadata": {},
     "output_type": "display_data"
    },
    {
     "data": {
      "image/png": "[encoded data removed]",
      "text/plain": [
       "<matplotlib.figure.Figure at 0x7fd3db213470>"
      ]
     },
     "metadata": {},
     "output_type": "display_data"
    }
   ],
   "source": [
    "col = 0\n",
    "plt.figure()\n",
    "plt.hist(data_set.x[:, col], bins=100);\n",
    "\n",
    "col1 = 0\n",
    "col2 = 1\n",
    "plt.figure()\n",
    "plt.plot(data_set.x[:, col1], data_set.x[:, col2], 'k.');"
   ]
  },
  {
   "cell_type": "code",
   "execution_count": null,
   "metadata": {
    "collapsed": true
   },
   "outputs": [],
   "source": [
    "# Distributions given sufficient statistics.\n",
    "\n",
    "def log_p_x_conditional(x, z, a, a2, sigma_eps):\n",
    "    x_centered = x - np.matmul(z, a.T)\n",
    "    var_eps = sigma_eps\n",
    "    return -0.5 * np.sum(x_centered ** 2) / var_eps\n",
    "\n",
    "\n",
    "def log_p_z(z, pi):\n",
    "    return np.sum(z * np.log(pi) + (1 - z) * np.log(1 - pi))\n",
    "\n",
    "\n",
    "def log_p_a(a, sigma_a):\n",
    "    var_a = sigma_a\n",
    "    return -0.5 * np.sum(a ** 2) / var_a\n",
    "\n",
    "\n",
    "def log_p_pi(pi, alpha, k_approx):\n",
    "    param = alpha / float(k_approx)\n",
    "    return np.sum((param - 1) * np.log(pi))\n",
    "\n",
    "\n",
    "def log_lik(x, z, a, pi, sigma_eps, sigma_a, alpha, k_approx):\n",
    "    return \\\n",
    "        log_p_x_conditional(x, z, a, sigma_eps) + \\\n",
    "        log_p_pi(pi, alpha, k_approx) + log_p_z(z, pi) + log_p_a(a, sigma_a)\n",
    "\n"
   ]
  },
  {
   "cell_type": "code",
   "execution_count": 11,
   "metadata": {},
   "outputs": [],
   "source": [
    "z = z_true.astype(float, copy=True)\n",
    "a = deepcopy(a_true.T)\n",
    "pi = deepcopy(pi_true)\n",
    "\n",
    "get_z_conditional_params = grad(vi.log_lik, argnum=1)\n",
    "get_a_conditional_params = grad(vi.log_lik, argnum=2)\n",
    "get_pi_conditional_params = grad(vi.log_lik, argnum=3)\n",
    "\n",
    "ll = vi.log_lik(x, z, a, pi, sigma_eps, sigma_a, alpha, k_approx)"
   ]
  },
  {
   "cell_type": "code",
   "execution_count": 47,
   "metadata": {},
   "outputs": [],
   "source": [
    "z_conditional_params = get_z_conditional_params(x, z, a, pi, sigma_eps, sigma_a, alpha, k_approx)\n",
    "z_logsumexp = sp.misc.logsumexp(z_conditional_params, 1)\n",
    "z_means = np.exp(z_conditional_params - np.broadcast_to(z_logsumexp, (k_approx, num_samples)).T)\n",
    "assert np.all(np.abs(np.sum(z_means, 1) - 1) < 1e-8)"
   ]
  },
  {
   "cell_type": "code",
   "execution_count": 48,
   "metadata": {
    "collapsed": true
   },
   "outputs": [],
   "source": [
    "a_conditional_params = get_z_conditional_params(x, z, a, pi, sigma_eps, sigma_a, alpha, k_approx)\n"
   ]
  }
 ],
 "metadata": {
  "kernelspec": {
   "display_name": "Python 3",
   "language": "python",
   "name": "python3"
  },
  "language_info": {
   "codemirror_mode": {
    "name": "ipython",
    "version": 3
   },
   "file_extension": ".py",
   "mimetype": "text/x-python",
   "name": "python",
   "nbconvert_exporter": "python",
   "pygments_lexer": "ipython3",
   "version": "3.5.2"
  }
 },
 "nbformat": 4,
 "nbformat_minor": 2
}
