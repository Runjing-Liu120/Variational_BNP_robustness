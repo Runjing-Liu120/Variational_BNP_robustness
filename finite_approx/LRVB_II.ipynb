{
 "cells": [
  {
   "cell_type": "markdown",
   "metadata": {},
   "source": [
    "# Sensitivity analysis in the finite approximation to the IBP\n",
    "These results should be the same as in the LRVB notebook \n",
    "\n",
    "The difference being that here, functions are written using the VB library"
   ]
  },
  {
   "cell_type": "code",
   "execution_count": 1,
   "metadata": {
    "collapsed": false
   },
   "outputs": [],
   "source": [
    "import autograd.numpy as np\n",
    "import autograd.scipy as sp\n",
    "from autograd.scipy import special\n",
    "from autograd import grad, hessian, hessian_vector_product, hessian, jacobian\n",
    "import matplotlib.pyplot as plt\n",
    "%matplotlib inline  \n",
    "\n",
    "from copy import deepcopy\n",
    "\n",
    "from scipy import optimize\n",
    "\n",
    "import time\n",
    "\n",
    "import valez_finite_VI_lib as vi\n",
    "import LRVB_lib as lrvb\n",
    "import generic_optimization_lib as packing\n",
    "\n",
    "import sys\n",
    "sys.path.append('../../LinearResponseVariationalBayes.py')\n",
    "from VariationalBayes.ParameterDictionary import ModelParamsDict\n",
    "from VariationalBayes.Parameters import ScalarParam\n"
   ]
  },
  {
   "cell_type": "markdown",
   "metadata": {},
   "source": [
    "### Generate data"
   ]
  },
  {
   "cell_type": "code",
   "execution_count": 2,
   "metadata": {
    "collapsed": true
   },
   "outputs": [],
   "source": [
    "np.random.seed(12321)\n",
    "\n",
    "alpha = 10 # IBP parameter\n",
    "\n",
    "num_samples = 50 # sample size\n",
    "D = 2 # dimension\n",
    "\n",
    "sigma_a = 3.0 ** 2\n",
    "\n",
    "sigma_eps = 1.0 ** 2 # variance of noise\n",
    "\n",
    "k_inf = 3 # take to be large for a good approximation to the IBP\n",
    "\n",
    "# generate data\n",
    "pi, Z, A, X = vi.generate_data(num_samples, D, k_inf, sigma_a, sigma_eps, alpha)\n",
    "   "
   ]
  },
  {
   "cell_type": "markdown",
   "metadata": {},
   "source": [
    "### Initialize variational parameters"
   ]
  },
  {
   "cell_type": "code",
   "execution_count": 3,
   "metadata": {
    "collapsed": false
   },
   "outputs": [],
   "source": [
    "k_approx = k_inf # variational truncation\n",
    "\n",
    "tau_init, nu_init, phi_mu_init, phi_var_init = \\\n",
    "    vi.initialize_parameters(num_samples, D, k_approx)\n",
    "\n",
    "# define vb model -- vb_model is a class defined using the VB library\n",
    "vb_model = vi.set_ibp_vb_model(num_samples, D, k_approx)\n",
    "\n",
    "# initialize parameters\n",
    "vb_model['phi'].set_vector(np.hstack([np.ravel(phi_mu_init.T), phi_var_init]))\n",
    "vb_model['pi'].set_vector(np.ravel(tau_init))\n",
    "vb_model['nu'].set_vector(np.ravel(nu_init))\n",
    "\n",
    "# consolidate hyper parameters\n",
    "hyper_params = ModelParamsDict('hyper_params')\n",
    "hyper_params.push_param(ScalarParam('alpha', lb = 0.0))\n",
    "hyper_params.push_param(ScalarParam('var_a', lb = 0.0))\n",
    "hyper_params.push_param(ScalarParam('var_eps', lb = 0.0))\n",
    "\n",
    "hyper_params['alpha'].set(alpha)\n",
    "hyper_params['var_a'].set(sigma_a)\n",
    "hyper_params['var_eps'].set(sigma_eps)\n",
    "\n",
    "data_set = lrvb.DataSetII(X, vb_model, hyper_params)"
   ]
  },
  {
   "cell_type": "code",
   "execution_count": 4,
   "metadata": {
    "collapsed": false
   },
   "outputs": [
    {
     "name": "stdout",
     "output_type": "stream",
     "text": [
      "vb_model[phi] is an array of normals; \n",
      "each component has a mean, and each row has a common variance\n",
      "[[-0.54418815 -0.77955895]\n",
      " [ 1.02570899 -1.90273117]\n",
      " [ 1.39126501  0.50792404]]\n",
      "[ 1.  1.  1.] \n",
      "\n",
      "vb_model[pi] is an array where each row is dirichlet \n",
      "we can get its dirchlet parameter tau, and we can get its mean\n",
      "[[ 0.72856094  1.6083226 ]\n",
      " [ 1.08473534  1.83491632]\n",
      " [ 1.38764972  1.33819602]]\n",
      "[[ 0.31176605  0.68823395]\n",
      " [ 0.37152903  0.62847097]\n",
      " [ 0.50907126  0.49092874]] \n",
      "\n",
      "vb_model[pi] is an ArrayParam class where each element is constrained to be between 0 and 1\n",
      "[[ 0.59089984  0.7063214   0.05096026]\n",
      " [ 0.13476919  0.94421252  0.70723293]\n",
      " [ 0.47378857  0.07489823  0.67988423]\n",
      " [ 0.14472992  0.12254821  0.4154281 ]\n",
      " [ 0.37648902  0.62800588  0.78534694]\n",
      " [ 0.22127982  0.65387899  0.39318878]\n",
      " [ 0.03687826  0.29075535  0.78494601]\n",
      " [ 0.58098826  0.65236822  0.35867063]\n",
      " [ 0.58825708  0.73571513  0.60243071]\n",
      " [ 0.3704987   0.24346172  0.08021721]\n",
      " [ 0.30788706  0.01019241  0.52011237]\n",
      " [ 0.45932538  0.50956974  0.02102278]\n",
      " [ 0.37965398  0.68068916  0.3306513 ]\n",
      " [ 0.98706065  0.56639436  0.58554069]\n",
      " [ 0.97243787  0.56649013  0.85585209]\n",
      " [ 0.53878691  0.30346806  0.71428591]\n",
      " [ 0.21766885  0.85741935  0.79837101]\n",
      " [ 0.95705442  0.02809238  0.93415555]\n",
      " [ 0.10226502  0.04092474  0.11093225]\n",
      " [ 0.1559364   0.42906662  0.33484366]\n",
      " [ 0.11919358  0.40667118  0.54951133]\n",
      " [ 0.04392705  0.68593555  0.32687967]\n",
      " [ 0.96623982  0.42289301  0.55503907]\n",
      " [ 0.49769242  0.11436417  0.49074245]\n",
      " [ 0.09451465  0.38058242  0.43462871]\n",
      " [ 0.12331057  0.68812242  0.08007337]\n",
      " [ 0.66705179  0.29524698  0.12518198]\n",
      " [ 0.17262918  0.42917355  0.79917417]\n",
      " [ 0.51633331  0.57133672  0.09183103]\n",
      " [ 0.86362325  0.0918646   0.58965211]\n",
      " [ 0.80806292  0.45902622  0.55798851]\n",
      " [ 0.74008662  0.80586766  0.03196007]\n",
      " [ 0.17810617  0.78647484  0.0847047 ]\n",
      " [ 0.23365302  0.25959303  0.63997409]\n",
      " [ 0.64046303  0.7905273   0.13795229]\n",
      " [ 0.06708541  0.67015537  0.40551832]\n",
      " [ 0.20789656  0.77935865  0.54817662]\n",
      " [ 0.6786441   0.38994769  0.62070561]\n",
      " [ 0.29219346  0.64558118  0.1918084 ]\n",
      " [ 0.54005773  0.2576713   0.62986457]\n",
      " [ 0.10965289  0.07167856  0.42026719]\n",
      " [ 0.98771946  0.86347876  0.39341458]\n",
      " [ 0.2821981   0.7024096   0.36925273]\n",
      " [ 0.77305192  0.46621955  0.49876345]\n",
      " [ 0.53376308  0.90996243  0.48231593]\n",
      " [ 0.7630993   0.54253697  0.88018132]\n",
      " [ 0.72241562  0.85470096  0.44375196]\n",
      " [ 0.6561661   0.41395024  0.97805243]\n",
      " [ 0.13949245  0.40427556  0.4139255 ]\n",
      " [ 0.07834447  0.18334994  0.91802034]]\n"
     ]
    }
   ],
   "source": [
    "# just checking some things about vb_model\n",
    "\n",
    "print('vb_model[phi] is an array of normals; \\neach component has a mean, and each row has a common variance')\n",
    "print(vb_model['phi'].mean.get())\n",
    "print(vb_model['phi'].info.get(), '\\n')\n",
    "assert np.all(phi_mu_init.T == vb_model['phi'].e())\n",
    "\n",
    "print('vb_model[pi] is an array where each row is dirichlet \\nwe can get its \\\n",
    "dirchlet parameter tau, and we can get its mean')\n",
    "print(vb_model['pi'].alpha.get())\n",
    "print(vb_model['pi'].e(), '\\n')\n",
    "assert np.all(tau_init == vb_model['pi'].alpha.get())\n",
    "\n",
    "print('vb_model[pi] is an ArrayParam class where each element is constrained to be between 0 and 1')\n",
    "print(vb_model['nu'].get())\n",
    "assert np.all(nu_init == vb_model['nu'].get())"
   ]
  },
  {
   "cell_type": "markdown",
   "metadata": {},
   "source": [
    "### plot the data"
   ]
  },
  {
   "cell_type": "code",
   "execution_count": 5,
   "metadata": {
    "collapsed": false
   },
   "outputs": [
    {
     "data": {
      "image/png": "[encoded data removed]",
      "text/plain": [
       "<matplotlib.figure.Figure at 0x7f40da943d68>"
      ]
     },
     "metadata": {},
     "output_type": "display_data"
    },
    {
     "data": {
      "image/png": "[encoded data removed]",
      "text/plain": [
       "<matplotlib.figure.Figure at 0x7f40da9907b8>"
      ]
     },
     "metadata": {},
     "output_type": "display_data"
    }
   ],
   "source": [
    "col = 0\n",
    "plt.figure()\n",
    "plt.hist(data_set.x[:, col], bins=100);\n",
    "\n",
    "col1 = 0\n",
    "col2 = 1\n",
    "plt.figure()\n",
    "plt.plot(data_set.x[:, col1], data_set.x[:, col2], 'k.');"
   ]
  },
  {
   "cell_type": "markdown",
   "metadata": {},
   "source": [
    "### Run CAVI"
   ]
  },
  {
   "cell_type": "code",
   "execution_count": 6,
   "metadata": {
    "collapsed": true
   },
   "outputs": [],
   "source": [
    "# Parameters approximating the true distribution\n",
    "\n",
    "tau_true = np.zeros_like(tau_init)\n",
    "tau_true_scale = 15.\n",
    "tau_true[:, 0] = deepcopy(pi) * tau_true_scale\n",
    "tau_true[:, 1] = tau_true_scale\n",
    "\n",
    "nu_true = np.zeros_like(nu_init)\n",
    "nu_true[Z == 1] = 0.999\n",
    "nu_true[Z == 0] = 0.001\n",
    "\n",
    "phi_mu_true = np.zeros_like(phi_mu_init)\n",
    "phi_mu_true[:] = A.transpose()\n",
    "phi_var_true = np.zeros_like(phi_var_init)\n",
    "phi_var_true[:] = 0.01\n",
    "\n",
    "params_true = packing.pack_params(deepcopy(tau_true), deepcopy(phi_mu_true),\n",
    "                                  deepcopy(phi_var_true), deepcopy(nu_true))"
   ]
  },
  {
   "cell_type": "code",
   "execution_count": 7,
   "metadata": {
    "collapsed": false
   },
   "outputs": [
    {
     "name": "stdout",
     "output_type": "stream",
     "text": [
      "Step 0 objective: 33.86830252608767\n",
      "Step 10 objective: 0.16855110958805497\n",
      "Step 20 objective: 7.798693473404228e-05\n",
      "Step 30 objective: 9.034479298009046e-07\n",
      "Done with CAVI.\n"
     ]
    }
   ],
   "source": [
    "true_init = False\n",
    "if true_init:\n",
    "    vb_model['phi'].set_vector(np.hstack([np.ravel(phi_mu_true.T), phi_var_true]))\n",
    "    vb_model['pi'].set_vector(np.ravel(tau_true))\n",
    "    vb_model['nu'].set_vector(np.ravel(nu_true))\n",
    "    tau, phi_mu, phi_var, nu = data_set.unpack_params(vb_model)\n",
    "else:\n",
    "    # the random initialization was done above\n",
    "    tau, phi_mu, phi_var, nu = data_set.unpack_params(vb_model)\n",
    "    \n",
    "\n",
    "    tau, nu, phi_mu, phi_var = data_set.run_cavi(tau, nu, phi_mu, phi_var, max_iter=100, tol=1e-6)\n",
    "\n",
    "cavi_tau = deepcopy(tau)\n",
    "cavi_phi_mu = deepcopy(phi_mu)\n",
    "cavi_phi_var = deepcopy(phi_var)\n",
    "cavi_nu = deepcopy(nu)"
   ]
  },
  {
   "cell_type": "code",
   "execution_count": 8,
   "metadata": {
    "collapsed": false
   },
   "outputs": [
    {
     "name": "stdout",
     "output_type": "stream",
     "text": [
      "True\n"
     ]
    }
   ],
   "source": [
    "# CAVI can return nu values that are too close to 0 or 1 for the encoding.\n",
    "nu_tol = 1e-8\n",
    "cavi_nu_trim = deepcopy(cavi_nu)\n",
    "cavi_nu_trim[cavi_nu_trim < nu_tol] = nu_tol\n",
    "cavi_nu_trim[cavi_nu_trim > 1 - nu_tol] = 1 - nu_tol\n",
    "\n",
    "cavi_params = packing.pack_params(cavi_tau, cavi_phi_mu, cavi_phi_var, cavi_nu_trim)\n",
    "print(np.all(np.isfinite(cavi_params)))\n",
    "\n",
    "vb_model.set_free(cavi_params)\n",
    "cavi_resid = data_set.x - data_set.get_prediction(vb_model)"
   ]
  },
  {
   "cell_type": "code",
   "execution_count": 9,
   "metadata": {
    "collapsed": false
   },
   "outputs": [
    {
     "name": "stdout",
     "output_type": "stream",
     "text": [
      "Step 0 objective: 1837.9196544859944\n",
      "Step 10 objective: -324.11662736849064\n",
      "Optimization terminated successfully.\n",
      "         Current function value: -324.116627\n",
      "         Iterations: 10\n",
      "         Function evaluations: 11\n",
      "         Gradient evaluations: 11\n",
      "         Hessian evaluations: 0\n",
      "Done with Newton trust region.\n"
     ]
    }
   ],
   "source": [
    "data_set.trace.reset()\n",
    "vb_opt = data_set.run_newton_tr(cavi_params, maxiter=50, gtol=1e-2)\n",
    "vb_model.set_free(vb_opt.x)"
   ]
  },
  {
   "cell_type": "code",
   "execution_count": 12,
   "metadata": {
    "collapsed": false
   },
   "outputs": [
    {
     "name": "stdout",
     "output_type": "stream",
     "text": [
      "CAVI:\n",
      "[[-1.38893495 -4.01490838]\n",
      " [ 2.85744278 -2.84252141]\n",
      " [ 2.11953515  1.9052959 ]]\n",
      "Full TR:\n",
      "[[-1.38863083 -4.01457026]\n",
      " [ 2.85753707 -2.84241839]\n",
      " [ 2.11952604  1.90528118]]\n",
      "Truth:\n",
      "[[-1.51981911  1.36489297]\n",
      " [ 0.07076695 -5.93156821]\n",
      " [ 4.53218492  0.19643952]]\n"
     ]
    }
   ],
   "source": [
    "print ('CAVI:')\n",
    "print (cavi_phi_mu.transpose())\n",
    "\n",
    "print ('Full TR:')\n",
    "print (vb_model['phi'].mean.get())\n",
    "\n",
    "print ('Truth:')\n",
    "print (A)\n"
   ]
  },
  {
   "cell_type": "code",
   "execution_count": 13,
   "metadata": {
    "collapsed": false
   },
   "outputs": [
    {
     "name": "stdout",
     "output_type": "stream",
     "text": [
      "Cavi residuals: 252.98777441871138    Trust residuals: 63.33092676773032      True residuals: 78.48308573612925\n"
     ]
    },
    {
     "data": {
      "image/png": "[encoded data removed]",
      "text/plain": [
       "<matplotlib.figure.Figure at 0x7f40d8840dd8>"
      ]
     },
     "metadata": {},
     "output_type": "display_data"
    }
   ],
   "source": [
    "tr_resid = data_set.x - data_set.get_prediction(vb_model)\n",
    "true_resid = data_set.x - np.matmul(Z, A)\n",
    "\n",
    "plt.figure()\n",
    "col = 0\n",
    "plt.plot(data_set.x[:, col], tr_resid[:, col], '.b')\n",
    "plt.plot(data_set.x[:, col], cavi_resid[:, col], '.r')\n",
    "plt.plot(data_set.x[:, col], true_resid[:, col], '.g')\n",
    "plt.plot(data_set.x[:, col], np.full_like(data_set.x[:, col], 0.), 'k')\n",
    "\n",
    "print('Cavi residuals: {}    Trust residuals: {}      True residuals: {}'.format(\n",
    "       np.sum(np.abs(cavi_resid)), np.sum(np.abs(tr_resid)), np.sum(np.abs(true_resid))))\n"
   ]
  },
  {
   "cell_type": "code",
   "execution_count": 14,
   "metadata": {
    "collapsed": false,
    "scrolled": false
   },
   "outputs": [
    {
     "name": "stdout",
     "output_type": "stream",
     "text": [
      "[ 10.   9.   1.]\n"
     ]
    }
   ],
   "source": [
    "# Compute prior sensitivity, eq. 18 in the paper\n",
    "moment_sensitivity = data_set.local_prior_sensitivity()\n",
    "\n",
    "#print(moment_sensitivity)\n",
    "#np.shape(moment_sensitivity)"
   ]
  },
  {
   "cell_type": "code",
   "execution_count": 15,
   "metadata": {
    "collapsed": false
   },
   "outputs": [
    {
     "name": "stdout",
     "output_type": "stream",
     "text": [
      "Sensitivity of e_log_pi to sigma_eps:\n",
      "[ 0.0064354   0.01039815 -0.04338511]\n",
      "Sensitivity of e_mu to sigma_eps:\n",
      "[[ 0.08082812  0.23871277 -0.31185555]\n",
      " [ 0.07919418  0.32497307 -0.27299312]]\n"
     ]
    }
   ],
   "source": [
    "# The third column is sigma_eps.\n",
    "sigma_eps_col = 2\n",
    "e_log_pi_sigma_eps_sens, e_mu_sigma_eps_sens = \\\n",
    "    packing.unpack_moments(moment_sensitivity[:, sigma_eps_col], k_approx, D)\n",
    "    \n",
    "print('Sensitivity of e_log_pi to sigma_eps:')\n",
    "print(e_log_pi_sigma_eps_sens)\n",
    "\n",
    "print('Sensitivity of e_mu to sigma_eps:')\n",
    "print(e_mu_sigma_eps_sens)"
   ]
  },
  {
   "cell_type": "code",
   "execution_count": 16,
   "metadata": {
    "collapsed": false,
    "scrolled": true
   },
   "outputs": [
    {
     "data": {
      "text/plain": [
       "'# Perturb and re-rerun to check the sensitivity.\\n\\nepsilon = 1e-1\\ndata_set_perturb = lrvb.DataSet(X, k_approx, alpha, sigma_eps + epsilon, sigma_a)\\ndata_set_perturb.trace.print_every = 1\\nvb_opt_perturb = data_set_perturb.run_newton_tr(vb_opt.x)'"
      ]
     },
     "execution_count": 16,
     "metadata": {},
     "output_type": "execute_result"
    }
   ],
   "source": [
    "\"\"\"# Perturb and re-rerun to check the sensitivity.\n",
    "\n",
    "epsilon = 1e-1\n",
    "data_set_perturb = lrvb.DataSet(X, k_approx, alpha, sigma_eps + epsilon, sigma_a)\n",
    "data_set_perturb.trace.print_every = 1\n",
    "vb_opt_perturb = data_set_perturb.run_newton_tr(vb_opt.x)\"\"\""
   ]
  },
  {
   "cell_type": "code",
   "execution_count": 17,
   "metadata": {
    "collapsed": false,
    "scrolled": false
   },
   "outputs": [
    {
     "data": {
      "text/plain": [
       "\"e_log_pi, e_mu = data_set.get_moments(tr_params)\\ne_log_pi_perturb, e_mu_perturb = data_set.get_moments(vb_opt_perturb.x)\\n\\nprint('Measured sensitivity of e_mu to sigma_eps:')\\nprint((e_mu_perturb - e_mu) / epsilon)\\n\\nprint('Sensitivity of e_mu to sigma_eps:')\\nprint(e_mu_sigma_eps_sens)\\n\\nprint('Measured sensitivity of e_log_pi to sigma_eps:')\\nprint((e_log_pi_perturb - e_log_pi) / epsilon)\\n\\nprint('Sensitivity of e_log_pi to sigma_eps:')\\nprint(e_log_pi_sigma_eps_sens)\\n\""
      ]
     },
     "execution_count": 17,
     "metadata": {},
     "output_type": "execute_result"
    }
   ],
   "source": [
    "\"\"\"e_log_pi, e_mu = data_set.get_moments(tr_params)\n",
    "e_log_pi_perturb, e_mu_perturb = data_set.get_moments(vb_opt_perturb.x)\n",
    "\n",
    "print('Measured sensitivity of e_mu to sigma_eps:')\n",
    "print((e_mu_perturb - e_mu) / epsilon)\n",
    "\n",
    "print('Sensitivity of e_mu to sigma_eps:')\n",
    "print(e_mu_sigma_eps_sens)\n",
    "\n",
    "print('Measured sensitivity of e_log_pi to sigma_eps:')\n",
    "print((e_log_pi_perturb - e_log_pi) / epsilon)\n",
    "\n",
    "print('Sensitivity of e_log_pi to sigma_eps:')\n",
    "print(e_log_pi_sigma_eps_sens)\n",
    "\"\"\""
   ]
  },
  {
   "cell_type": "code",
   "execution_count": 18,
   "metadata": {
    "collapsed": false
   },
   "outputs": [
    {
     "data": {
      "text/plain": [
       "array([ -8.92699935e-12,   9.60209043e-09,   4.73257542e-11,\n",
       "         1.28280712e-09,  -2.02429728e-09,  -1.36212626e-09,\n",
       "        -1.24790937e-09,   1.01314987e-09,   1.74071018e-09])"
      ]
     },
     "execution_count": 18,
     "metadata": {},
     "output_type": "execute_result"
    }
   ],
   "source": [
    "data_set.influence_function_pi(0.8, 1)"
   ]
  },
  {
   "cell_type": "code",
   "execution_count": 19,
   "metadata": {
    "collapsed": false,
    "scrolled": false
   },
   "outputs": [
    {
     "data": {
      "image/png": "[encoded data removed]",
      "text/plain": [
       "<matplotlib.figure.Figure at 0x7f40d88aa390>"
      ]
     },
     "metadata": {},
     "output_type": "display_data"
    },
    {
     "data": {
      "image/png": "[encoded data removed]",
      "text/plain": [
       "<matplotlib.figure.Figure at 0x7f40d869e400>"
      ]
     },
     "metadata": {},
     "output_type": "display_data"
    },
    {
     "data": {
      "image/png": "[encoded data removed]",
      "text/plain": [
       "<matplotlib.figure.Figure at 0x7f40da9826a0>"
      ]
     },
     "metadata": {},
     "output_type": "display_data"
    },
    {
     "data": {
      "image/png": "[encoded data removed]",
      "text/plain": [
       "<matplotlib.figure.Figure at 0x7f40d86e6f60>"
      ]
     },
     "metadata": {},
     "output_type": "display_data"
    }
   ],
   "source": [
    "# plot influence function\n",
    "\n",
    "n_ticks = 100\n",
    "y = np.zeros((n_ticks, k_approx))\n",
    "\n",
    "post_pi = 0 # which pi you're looking at in the posterior\n",
    "\n",
    "theta = np.linspace(0.001,0.999,n_ticks)\n",
    "\n",
    "for k in range(k_approx):  \n",
    "    for i in range(n_ticks): \n",
    "        y[i, k] = data_set.influence_function_pi(theta[i], k)[post_pi]\n",
    "        \n",
    "    plt.plot(theta, y[:,k])\n",
    "    plt.xlabel('theta')\n",
    "    plt.title('Marginal Influence on E[log pi' + str(post_pi) + '],\\nwith prior perturbation on pi_' + str(k))\n",
    "    plt.show()\n",
    "\n",
    "plt.plot(theta, np.sum(y,1))\n",
    "plt.xlabel('theta')\n",
    "plt.title('Total Influence on E[log pi' + str(post_pi) + ']')\n",
    "plt.show()\n"
   ]
  },
  {
   "cell_type": "code",
   "execution_count": 20,
   "metadata": {
    "collapsed": false
   },
   "outputs": [
    {
     "data": {
      "text/plain": [
       "324.11662736849064"
      ]
     },
     "execution_count": 20,
     "metadata": {},
     "output_type": "execute_result"
    }
   ],
   "source": [
    "vi.compute_elboII(X, vb_model, hyper_params)"
   ]
  },
  {
   "cell_type": "code",
   "execution_count": null,
   "metadata": {
    "collapsed": false
   },
   "outputs": [],
   "source": []
  },
  {
   "cell_type": "code",
   "execution_count": null,
   "metadata": {
    "collapsed": true
   },
   "outputs": [],
   "source": []
  }
 ],
 "metadata": {
  "kernelspec": {
   "display_name": "Python 3",
   "language": "python",
   "name": "python3"
  },
  "language_info": {
   "codemirror_mode": {
    "name": "ipython",
    "version": 3
   },
   "file_extension": ".py",
   "mimetype": "text/x-python",
   "name": "python",
   "nbconvert_exporter": "python",
   "pygments_lexer": "ipython3",
   "version": "3.6.0"
  }
 },
 "nbformat": 4,
 "nbformat_minor": 2
}
