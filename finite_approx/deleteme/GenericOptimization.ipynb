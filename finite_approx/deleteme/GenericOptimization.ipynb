{
 "cells": [
  {
   "cell_type": "code",
   "execution_count": 1,
   "metadata": {
    "collapsed": false
   },
   "outputs": [],
   "source": [
    "import autograd.numpy as np\n",
    "import autograd.scipy as sp\n",
    "from autograd.scipy import special\n",
    "from autograd import grad, hessian, hessian_vector_product, hessian, jacobian\n",
    "import matplotlib.pyplot as plt\n",
    "%matplotlib inline  \n",
    "\n",
    "from copy import deepcopy\n",
    "\n",
    "from scipy import optimize\n",
    "\n",
    "import time\n",
    "\n",
    "import valez_finite_VI_lib as vi\n",
    "import data_set_lib as ds\n",
    "import generic_optimization_lib as packing"
   ]
  },
  {
   "cell_type": "code",
   "execution_count": 2,
   "metadata": {
    "collapsed": false
   },
   "outputs": [],
   "source": [
    "np.random.seed(12321)\n",
    "\n",
    "alpha = 10 # IBP parameter\n",
    "\n",
    "num_samples = 50 # sample size\n",
    "D = 2 # dimension\n",
    "\n",
    "sigma_a = 3.0 ** 2\n",
    "\n",
    "sigma_eps = 1.0 ** 2 # variance of noise\n",
    "\n",
    "k_inf = 3 # take to be large for a good approximation to the IBP\n",
    "\n",
    "pi, Z, mu, A, X = vi.generate_data(num_samples, D, k_inf, sigma_a, sigma_eps, alpha)\n",
    "k_approx = k_inf # variational truncation\n",
    "\n",
    "tau_init, nu_init, phi_mu_init, phi_var_init = \\\n",
    "    vi.initialize_parameters(num_samples, D, k_approx)\n",
    "\n",
    "params_init = packing.pack_params(deepcopy(tau_init), deepcopy(phi_mu_init),\n",
    "                                  deepcopy(phi_var_init), deepcopy(nu_init))\n",
    "\n",
    "hyper_params = packing.pack_hyperparameters(alpha, sigma_a, sigma_eps)\n",
    "\n",
    "data_set = ds.DataSet(X, k_approx, alpha, sigma_eps, sigma_a)"
   ]
  },
  {
   "cell_type": "code",
   "execution_count": 3,
   "metadata": {
    "collapsed": false
   },
   "outputs": [
    {
     "data": {
      "image/png": "[encoded data removed]",
      "text/plain": [
       "<matplotlib.figure.Figure at 0x7fd2f1f59d68>"
      ]
     },
     "metadata": {},
     "output_type": "display_data"
    },
    {
     "data": {
      "image/png": "[encoded data removed]",
      "text/plain": [
       "<matplotlib.figure.Figure at 0x7fd2c676e978>"
      ]
     },
     "metadata": {},
     "output_type": "display_data"
    }
   ],
   "source": [
    "col = 0\n",
    "plt.figure()\n",
    "plt.hist(data_set.x[:, col], bins=100);\n",
    "\n",
    "col1 = 0\n",
    "col2 = 1\n",
    "plt.figure()\n",
    "plt.plot(data_set.x[:, col1], data_set.x[:, col2], 'k.');"
   ]
  },
  {
   "cell_type": "code",
   "execution_count": 4,
   "metadata": {
    "collapsed": true
   },
   "outputs": [],
   "source": [
    "# Parameters approximating the true distribution\n",
    "\n",
    "tau_true = np.zeros_like(tau_init)\n",
    "tau_true_scale = 15.\n",
    "tau_true[:, 0] = deepcopy(pi) * tau_true_scale\n",
    "tau_true[:, 1] = tau_true_scale\n",
    "\n",
    "nu_true = np.zeros_like(nu_init)\n",
    "nu_true[Z == 1] = 0.999\n",
    "nu_true[Z == 0] = 0.001\n",
    "\n",
    "phi_mu_true = np.zeros_like(phi_mu_init)\n",
    "phi_mu_true[:] = A.transpose()\n",
    "phi_var_true = np.zeros_like(phi_var_init)\n",
    "phi_var_true[:] = 0.01\n",
    "\n",
    "params_true = packing.pack_params(deepcopy(tau_true), deepcopy(phi_mu_true),\n",
    "                                  deepcopy(phi_var_true), deepcopy(nu_true))"
   ]
  },
  {
   "cell_type": "code",
   "execution_count": 5,
   "metadata": {
    "collapsed": false
   },
   "outputs": [
    {
     "name": "stdout",
     "output_type": "stream",
     "text": [
      "Step 0 objective: 33.86830252608767\n",
      "Step 10 objective: 0.16855110958805497\n",
      "Step 20 objective: 7.798693473404228e-05\n",
      "Step 30 objective: 9.034479298009046e-07\n",
      "Done with CAVI.\n"
     ]
    }
   ],
   "source": [
    "true_init = False\n",
    "if true_init:\n",
    "    tau, phi_mu, phi_var, nu = data_set.unpack_params(params_true)\n",
    "else:\n",
    "    tau, phi_mu, phi_var, nu = data_set.unpack_params(params_init)\n",
    "\n",
    "tau, nu, phi_mu, phi_var = data_set.run_cavi(tau, nu, phi_mu, phi_var, max_iter=100, tol=1e-6)\n",
    "\n",
    "cavi_tau = deepcopy(tau)\n",
    "cavi_phi_mu = deepcopy(phi_mu)\n",
    "cavi_phi_var = deepcopy(phi_var)\n",
    "cavi_nu = deepcopy(nu)"
   ]
  },
  {
   "cell_type": "code",
   "execution_count": 6,
   "metadata": {
    "collapsed": false
   },
   "outputs": [
    {
     "name": "stdout",
     "output_type": "stream",
     "text": [
      "True\n"
     ]
    }
   ],
   "source": [
    "# CAVI can return nu values that are too close to 0 or 1 for the encoding.\n",
    "nu_tol = 1e-8\n",
    "cavi_nu_trim = deepcopy(cavi_nu)\n",
    "cavi_nu_trim[cavi_nu_trim < nu_tol] = nu_tol\n",
    "cavi_nu_trim[cavi_nu_trim > 1 - nu_tol] = 1 - nu_tol\n",
    "\n",
    "cavi_params = packing.pack_params(cavi_tau, cavi_phi_mu, cavi_phi_var, cavi_nu_trim)\n",
    "print(np.all(np.isfinite(cavi_params)))"
   ]
  },
  {
   "cell_type": "code",
   "execution_count": 7,
   "metadata": {
    "collapsed": false
   },
   "outputs": [
    {
     "name": "stdout",
     "output_type": "stream",
     "text": [
      "Step 0 objective: -324.1166430450337\n",
      "Optimization terminated successfully.\n",
      "         Current function value: -324.116643\n",
      "         Iterations: 1\n",
      "         Function evaluations: 2\n",
      "         Gradient evaluations: 2\n",
      "         Hessian evaluations: 0\n",
      "Done with Newton trust region.\n"
     ]
    }
   ],
   "source": [
    "data_set.trace.reset()\n",
    "vb_opt = data_set.run_newton_tr(cavi_params, maxiter=50, gtol=1e-2)\n",
    "tr_params = deepcopy(vb_opt.x)\n",
    "tr_tau, tr_phi_mu, tr_phi_var, tr_nu = data_set.unpack_params(tr_params)\n"
   ]
  },
  {
   "cell_type": "code",
   "execution_count": 8,
   "metadata": {
    "collapsed": false
   },
   "outputs": [
    {
     "name": "stdout",
     "output_type": "stream",
     "text": [
      "CAVI:\n",
      "[[-1.38893495 -4.01490838]\n",
      " [ 2.85744278 -2.84252141]\n",
      " [ 2.11953515  1.9052959 ]]\n",
      "Full TR:\n",
      "[[-1.38893484 -4.01490835]\n",
      " [ 2.85744266 -2.84252138]\n",
      " [ 2.11953521  1.90529591]]\n",
      "Truth:\n",
      "[[-1.51981911  1.36489297]\n",
      " [ 0.07076695 -5.93156821]\n",
      " [ 4.53218492  0.19643952]]\n"
     ]
    }
   ],
   "source": [
    "print ('CAVI:')\n",
    "print (cavi_phi_mu.transpose())\n",
    "\n",
    "print ('Full TR:')\n",
    "tau, phi_mu, phi_var, nu = data_set.unpack_params(tr_params)\n",
    "print (phi_mu.transpose())\n",
    "\n",
    "print ('Truth:')\n",
    "print (A)"
   ]
  },
  {
   "cell_type": "code",
   "execution_count": 9,
   "metadata": {
    "collapsed": false
   },
   "outputs": [
    {
     "name": "stdout",
     "output_type": "stream",
     "text": [
      "Cavi residuals: 63.33308362438211    Trust residuals: 63.33308243737516      True residuals: 78.48308573612925\n"
     ]
    },
    {
     "data": {
      "image/png": "[encoded data removed]",
      "text/plain": [
       "<matplotlib.figure.Figure at 0x7fd2c44edd30>"
      ]
     },
     "metadata": {},
     "output_type": "display_data"
    }
   ],
   "source": [
    "cavi_resid = data_set.x - data_set.get_prediction(cavi_params)\n",
    "tr_resid = data_set.x - data_set.get_prediction(tr_params)\n",
    "true_resid = data_set.x - np.matmul(Z, A)\n",
    "\n",
    "plt.figure()\n",
    "col = 0\n",
    "plt.plot(data_set.x[:, col], tr_resid[:, col], '.b')\n",
    "plt.plot(data_set.x[:, col], cavi_resid[:, col], '.r')\n",
    "plt.plot(data_set.x[:, col], true_resid[:, col], '.g')\n",
    "plt.plot(data_set.x[:, col], np.full_like(data_set.x[:, col], 0.), 'k')\n",
    "\n",
    "print('Cavi residuals: {}    Trust residuals: {}      True residuals: {}'.format(\n",
    "       np.sum(np.abs(cavi_resid)), np.sum(np.abs(tr_resid)), np.sum(np.abs(true_resid))))\n"
   ]
  },
  {
   "cell_type": "code",
   "execution_count": 10,
   "metadata": {
    "collapsed": false
   },
   "outputs": [],
   "source": [
    "def get_moments(params, data_set):\n",
    "    # Return moments of interest.\n",
    "    tau, phi_mu, phi_var, nu = data_set.unpack_params(params)\n",
    "    e_log_pi, e_log_pi2, e_mu, phi_moment2, nu_moment = \\\n",
    "        vi.get_moments(tau, nu, phi_mu, phi_var)\n",
    "    return e_log_pi, e_mu\n",
    "\n",
    "def get_moments_vector(params, data_set):\n",
    "    e_log_pi, e_mu = get_moments(params, data_set)\n",
    "    return packing.pack_moments(e_log_pi, e_mu)\n",
    "\n",
    "get_moments_vector_jac = jacobian(get_moments_vector)\n",
    "\n",
    "jac_time = time.time()\n",
    "moment_jac = get_moments_vector_jac(tr_params, data_set)\n",
    "jac_time = time.time() - jac_time\n",
    "\n",
    "par_hp_hess_time = time.time()\n",
    "par_hp_hess = data_set.get_kl_sens_hess(tr_params, hyper_params)\n",
    "par_hp_hess_time = time.time() - par_hp_hess_time\n"
   ]
  },
  {
   "cell_type": "code",
   "execution_count": 11,
   "metadata": {
    "collapsed": false
   },
   "outputs": [
    {
     "name": "stdout",
     "output_type": "stream",
     "text": [
      "2.1814417839050293\n"
     ]
    }
   ],
   "source": [
    "hess_time = time.time()\n",
    "kl_hess = data_set.get_kl_hessian(tr_params)\n",
    "hess_time = time.time() - hess_time\n",
    "kl_hess_eigvals = np.linalg.eigvals(kl_hess)\n",
    "print (hess_time)"
   ]
  },
  {
   "cell_type": "code",
   "execution_count": 12,
   "metadata": {
    "collapsed": false
   },
   "outputs": [
    {
     "name": "stdout",
     "output_type": "stream",
     "text": [
      "43.4551278231\n",
      "8.91145429607e-09\n"
     ]
    }
   ],
   "source": [
    "print (np.max(kl_hess_eigvals))\n",
    "print (np.min(kl_hess_eigvals))"
   ]
  },
  {
   "cell_type": "code",
   "execution_count": 13,
   "metadata": {
    "collapsed": false
   },
   "outputs": [
    {
     "name": "stdout",
     "output_type": "stream",
     "text": [
      "[[  6.71010190e-03  -2.62881180e-05   6.42024383e-03]\n",
      " [  9.78672001e-03  -1.29021295e-04   1.03925381e-02]\n",
      " [  9.08211057e-03   4.37497820e-04  -4.31875850e-02]\n",
      " [ -1.45649864e-03  -3.71388759e-03   8.06211609e-02]\n",
      " [ -1.63417586e-03   2.88667967e-03   2.38587264e-01]\n",
      " [ -2.15908257e-03   1.02771609e-03  -3.11861157e-01]\n",
      " [ -3.25486654e-03  -3.79073712e-03   7.89476959e-02]\n",
      " [  1.23064484e-04  -3.01776013e-03   3.24817833e-01]\n",
      " [  1.18778774e-03   4.11744146e-03  -2.72958085e-01]]\n"
     ]
    },
    {
     "data": {
      "text/plain": [
       "(9, 3)"
      ]
     },
     "execution_count": 13,
     "metadata": {},
     "output_type": "execute_result"
    }
   ],
   "source": [
    "# Eq. 18 from our paper.  The -1 comes from the fact that par_hp_hess is of the\n",
    "# KL divergence, not the expected log probability.\n",
    "sensitivity_operator = -1 * np.linalg.solve(kl_hess, par_hp_hess.T)\n",
    "moment_sensitivity = np.matmul(moment_jac, sensitivity_operator)\n",
    "\n",
    "print(moment_sensitivity)\n",
    "np.shape(moment_sensitivity)"
   ]
  },
  {
   "cell_type": "code",
   "execution_count": 14,
   "metadata": {
    "collapsed": false
   },
   "outputs": [
    {
     "name": "stdout",
     "output_type": "stream",
     "text": [
      "Sensitivity of e_log_pi to sigma_eps:\n",
      "[ 0.00642024  0.01039254 -0.04318758]\n",
      "Sensitivity of e_mu to sigma_eps:\n",
      "[[ 0.08062116  0.23858726 -0.31186116]\n",
      " [ 0.0789477   0.32481783 -0.27295809]]\n"
     ]
    }
   ],
   "source": [
    "# The third column is sigma_eps.\n",
    "\n",
    "sigma_eps_col = 2\n",
    "e_log_pi_sigma_eps_sens, e_mu_sigma_eps_sens = \\\n",
    "    packing.unpack_moments(moment_sensitivity[:, sigma_eps_col], k_approx, D)\n",
    "    \n",
    "print('Sensitivity of e_log_pi to sigma_eps:')\n",
    "print(e_log_pi_sigma_eps_sens)\n",
    "\n",
    "print('Sensitivity of e_mu to sigma_eps:')\n",
    "print(e_mu_sigma_eps_sens)"
   ]
  },
  {
   "cell_type": "code",
   "execution_count": 15,
   "metadata": {
    "collapsed": false
   },
   "outputs": [
    {
     "name": "stdout",
     "output_type": "stream",
     "text": [
      "Step 0 objective: -284.9486640100983\n",
      "Step 1 objective: -284.99187866638977\n",
      "Step 2 objective: -285.01698744401034\n",
      "Step 3 objective: -285.02173630611685\n",
      "Step 4 objective: -285.0332027635734\n",
      "Step 5 objective: -285.0377879120543\n",
      "Step 6 objective: -285.03908017001095\n",
      "Step 7 objective: -285.0406646629115\n",
      "Step 8 objective: -285.04372129173464\n",
      "Step 9 objective: -285.0443100372954\n",
      "Step 10 objective: -285.0441731871413\n",
      "Step 11 objective: -285.04501368276055\n",
      "Step 12 objective: -285.04511806885614\n",
      "Step 13 objective: -285.0455424374637\n",
      "Step 14 objective: -285.04597538629747\n",
      "Step 15 objective: -285.04602710448086\n",
      "Step 16 objective: -285.0459006670206\n",
      "Step 17 objective: -285.0461061279199\n",
      "Step 18 objective: -285.0461679940948\n",
      "Step 19 objective: -285.046215981183\n",
      "Step 20 objective: -285.0462224628958\n",
      "Step 21 objective: -285.046192244582\n",
      "Step 22 objective: -285.0462311390928\n",
      "Step 23 objective: -285.04623290937167\n",
      "Step 24 objective: -285.0462372166627\n",
      "Step 25 objective: -285.0462353952367\n",
      "Step 26 objective: -285.04623849108924\n",
      "Step 27 objective: -285.04623879338595\n",
      "Step 28 objective: -285.04623915966147\n",
      "Step 29 objective: -285.0462390515786\n",
      "Step 30 objective: -285.04623920630013\n",
      "Step 31 objective: -285.04623922337464\n",
      "Step 32 objective: -285.0462392471143\n",
      "Step 33 objective: -285.0462392505461\n",
      "Optimization terminated successfully.\n",
      "         Current function value: -285.046239\n",
      "         Iterations: 33\n",
      "         Function evaluations: 34\n",
      "         Gradient evaluations: 28\n",
      "         Hessian evaluations: 0\n",
      "Done with Newton trust region.\n"
     ]
    }
   ],
   "source": [
    "# Perturb and re-rerun to check the sensitivity.\n",
    "\n",
    "epsilon = 1e-1\n",
    "data_set_perturb = ds.DataSet(X, k_approx, alpha, sigma_eps + epsilon, sigma_a)\n",
    "data_set_perturb.trace.print_every = 1\n",
    "vb_opt_perturb = data_set_perturb.run_newton_tr(tr_params)"
   ]
  },
  {
   "cell_type": "code",
   "execution_count": 16,
   "metadata": {
    "collapsed": false,
    "scrolled": false
   },
   "outputs": [
    {
     "name": "stdout",
     "output_type": "stream",
     "text": [
      "Measured sensitivity of e_mu to sigma_eps:\n",
      "[[ 0.09711847  0.27259517 -0.34997092]\n",
      " [ 0.10457339  0.37186709 -0.32746223]]\n",
      "Sensitivity of e_mu to sigma_eps:\n",
      "[[ 0.08062116  0.23858726 -0.31186116]\n",
      " [ 0.0789477   0.32481783 -0.27295809]]\n",
      "Measured sensitivity of e_log_pi to sigma_eps:\n",
      "[ 0.0087524   0.00998368 -0.04750362]\n",
      "Sensitivity of e_log_pi to sigma_eps:\n",
      "[ 0.00642024  0.01039254 -0.04318758]\n"
     ]
    }
   ],
   "source": [
    "e_log_pi, e_mu = get_moments(tr_params, data_set)\n",
    "e_log_pi_perturb, e_mu_perturb = get_moments(vb_opt_perturb.x, data_set)\n",
    "\n",
    "print('Measured sensitivity of e_mu to sigma_eps:')\n",
    "print((e_mu_perturb - e_mu) / epsilon)\n",
    "\n",
    "print('Sensitivity of e_mu to sigma_eps:')\n",
    "print(e_mu_sigma_eps_sens)\n",
    "\n",
    "print('Measured sensitivity of e_log_pi to sigma_eps:')\n",
    "print((e_log_pi_perturb - e_log_pi) / epsilon)\n",
    "\n",
    "print('Sensitivity of e_log_pi to sigma_eps:')\n",
    "print(e_log_pi_sigma_eps_sens)"
   ]
  },
  {
   "cell_type": "code",
   "execution_count": 17,
   "metadata": {
    "collapsed": false
   },
   "outputs": [],
   "source": [
    "# set up influence function\n",
    "jac_log_pi_lh = jacobian(data_set.get_log_q_pi, 0)\n",
    "\n",
    "def g_bar_pi(pi): \n",
    "    tmp = np.linalg.solve(kl_hess, jac_log_pi_lh(tr_params, pi))\n",
    "    return np.dot(moment_jac, tmp)\n",
    "\n",
    "def Influence_pi(pi, alpha, k_approx): \n",
    "    return np.exp(ds.log_q_pi(pi, tr_tau) - ds.log_p0_pi(pi, alpha, k_approx)) * g_bar_pi(pi)"
   ]
  },
  {
   "cell_type": "code",
   "execution_count": 18,
   "metadata": {
    "collapsed": false
   },
   "outputs": [
    {
     "name": "stderr",
     "output_type": "stream",
     "text": [
      "/home/runjing_liu/anaconda3/lib/python3.6/site-packages/autograd/core.py:84: RuntimeWarning: divide by zero encountered in log\n",
      "  result_value = self.fun(*argvals, **kwargs)\n",
      "/home/runjing_liu/Documents/BNP/Variational_BNP_robustness/finite_approx/data_set_lib.py:152: RuntimeWarning: invalid value encountered in multiply\n",
      "  + (tau[:,1] - 1) * np.log(1 - pi))\n",
      "/home/runjing_liu/anaconda3/lib/python3.6/site-packages/ipykernel/__main__.py:9: RuntimeWarning: invalid value encountered in double_scalars\n"
     ]
    },
    {
     "data": {
      "text/plain": [
       "<matplotlib.text.Text at 0x7fd2c45f5d68>"
      ]
     },
     "execution_count": 18,
     "metadata": {},
     "output_type": "execute_result"
    },
    {
     "data": {
      "image/png": "[encoded data removed]",
      "text/plain": [
       "<matplotlib.figure.Figure at 0x7fd2c4665048>"
      ]
     },
     "metadata": {},
     "output_type": "display_data"
    }
   ],
   "source": [
    "# plot influence function\n",
    "\n",
    "n_ticks = 100\n",
    "col_prior = 0 # which pi you're plotting in the prior\n",
    "col_post = 0 # which pi you're looking at in the posterior\n",
    "\n",
    "pi1_plt = np.tile(pi, (n_ticks, 1))\n",
    "pi1_plt[:,col_prior] = np.linspace(0,1,n_ticks)\n",
    "\n",
    "y = np.zeros(n_ticks)\n",
    "\n",
    "for i in range(n_ticks): \n",
    "    y[i] = Influence_pi(pi1_plt[i,:], alpha, k_approx)[col_post]\n",
    "    \n",
    "plt.plot(np.linspace(0,1,n_ticks), y)\n",
    "plt.xlabel('pi' + str(col))\n",
    "plt.title('Influence function on E[log pi' + str(col_post) + ']')\n"
   ]
  },
  {
   "cell_type": "code",
   "execution_count": null,
   "metadata": {
    "collapsed": true
   },
   "outputs": [],
   "source": []
  }
 ],
 "metadata": {
  "kernelspec": {
   "display_name": "Python 3",
   "language": "python",
   "name": "python3"
  },
  "language_info": {
   "codemirror_mode": {
    "name": "ipython",
    "version": 3
   },
   "file_extension": ".py",
   "mimetype": "text/x-python",
   "name": "python",
   "nbconvert_exporter": "python",
   "pygments_lexer": "ipython3",
   "version": "3.6.0"
  }
 },
 "nbformat": 4,
 "nbformat_minor": 2
}
