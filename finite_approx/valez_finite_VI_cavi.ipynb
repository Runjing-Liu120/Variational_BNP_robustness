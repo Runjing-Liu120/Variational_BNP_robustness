{
 "cells": [
  {
   "cell_type": "markdown",
   "metadata": {},
   "source": [
    "# Variational inference using the finite approximation\n",
    "\n",
    "trying standard cavi"
   ]
  },
  {
   "cell_type": "code",
   "execution_count": 71,
   "metadata": {
    "collapsed": true
   },
   "outputs": [],
   "source": [
    "import numpy as np\n",
    "import scipy as sp\n",
    "\n",
    "import matplotlib.pyplot as plt\n",
    "from copy import deepcopy\n",
    "\n",
    "from valez_finite_VI_lib import *\n"
   ]
  },
  {
   "cell_type": "markdown",
   "metadata": {},
   "source": [
    "# Draw data"
   ]
  },
  {
   "cell_type": "code",
   "execution_count": 72,
   "metadata": {
    "collapsed": true
   },
   "outputs": [],
   "source": [
    "np.random.seed(34134) \n",
    "Num_samples = 500 # sample size\n",
    "D = 2 # dimension\n",
    "# so X will be a N\\times D matrix\n",
    "\n",
    "K_inf = 3 # take to be large for a good approximation to the IBP\n",
    "\n",
    "alpha = 10 # IBP parameter\n",
    "\n",
    "# Parameters to draw A from MVN\n",
    "sigma_eps = .1 # variance of noise\n",
    "sigma_A = 100\n",
    "\n",
    "# generate data\n",
    "Pi, Z, mu, A, X = generate_data(Num_samples, D, K_inf, sigma_A, sigma_eps, alpha)\n"
   ]
  },
  {
   "cell_type": "code",
   "execution_count": 73,
   "metadata": {
    "collapsed": false
   },
   "outputs": [
    {
     "data": {
      "text/plain": [
       "\"np.random.seed(43141) \\n\\nNum_samples = 500 # sample size\\nD = 2 # dimension\\n# so X will be a N\\times D m34134atrix\\n\\nK_inf = 3 # take to be large for a good approximation to the IBP\\n\\n\\nalpha = 10 # IBP parameter\\nPi = np.ones(K_inf) * .8\\nZ = np.zeros([Num_samples,K_inf])\\n\\n# Parameters to draw A from MVN\\nmu = np.zeros(D)\\nsigma_A = 100\\n\\nsigma_eps = .1 # variance of noise\\n\\n# Draw Z from truncated stick breaking process\\nfor k in range(K_inf):\\n    # Pi[k] = np.random.beta(alpha/K_inf,1)\\n    for n in range(Num_samples):\\n        Z[n,k] = np.random.binomial(1,Pi[k])\\n\\n        \\nprint('true Z (first 10 rows): \\n', Z[0:10,:])\\n\\n# Draw A from multivariate normal\\n# A = np.random.multivariate_normal(mu, sigma_A*np.identity(D), K_inf) # FOR SOME REASONG THIS KILLS THE KERNEL!?\\nA = np.random.normal(0, np.sqrt(sigma_A), (K_inf, D))\\nprint(A)\\n\\n# draw noise\\n# epsilon = np.random.multivariate_normal(np.zeros(D), sigma_eps*np.identity(D), Num_samples)\\nepsilon = np.random.normal(0, sigma_eps, (Num_samples, D))\\n\\n# the observed data\\nX = np.dot(Z,A) + epsilon\\n\""
      ]
     },
     "execution_count": 73,
     "metadata": {},
     "output_type": "execute_result"
    }
   ],
   "source": [
    "\"\"\"np.random.seed(43141) \n",
    "\n",
    "Num_samples = 500 # sample size\n",
    "D = 2 # dimension\n",
    "# so X will be a N\\times D m34134atrix\n",
    "\n",
    "K_inf = 3 # take to be large for a good approximation to the IBP\n",
    "\n",
    "\n",
    "alpha = 10 # IBP parameter\n",
    "Pi = np.ones(K_inf) * .8\n",
    "Z = np.zeros([Num_samples,K_inf])\n",
    "\n",
    "# Parameters to draw A from MVN\n",
    "mu = np.zeros(D)\n",
    "sigma_A = 100\n",
    "\n",
    "sigma_eps = .1 # variance of noise\n",
    "\n",
    "# Draw Z from truncated stick breaking process\n",
    "for k in range(K_inf):\n",
    "    # Pi[k] = np.random.beta(alpha/K_inf,1)\n",
    "    for n in range(Num_samples):\n",
    "        Z[n,k] = np.random.binomial(1,Pi[k])\n",
    "\n",
    "        \n",
    "print('true Z (first 10 rows): \\n', Z[0:10,:])\n",
    "\n",
    "# Draw A from multivariate normal\n",
    "# A = np.random.multivariate_normal(mu, sigma_A*np.identity(D), K_inf) # FOR SOME REASONG THIS KILLS THE KERNEL!?\n",
    "A = np.random.normal(0, np.sqrt(sigma_A), (K_inf, D))\n",
    "print(A)\n",
    "\n",
    "# draw noise\n",
    "# epsilon = np.random.multivariate_normal(np.zeros(D), sigma_eps*np.identity(D), Num_samples)\n",
    "epsilon = np.random.normal(0, sigma_eps, (Num_samples, D))\n",
    "\n",
    "# the observed data\n",
    "X = np.dot(Z,A) + epsilon\n",
    "\"\"\""
   ]
  },
  {
   "cell_type": "markdown",
   "metadata": {},
   "source": [
    "# set initializations"
   ]
  },
  {
   "cell_type": "code",
   "execution_count": 74,
   "metadata": {
    "collapsed": true
   },
   "outputs": [],
   "source": [
    "# set initializations\n",
    "K_approx = deepcopy(K_inf) # variational truncation\n",
    "tau, nu, phi_mu, phi_var = initialize_parameters(Num_samples, D, K_approx)\n",
    "\n",
    "Data_shape = {'D':D, 'N': Num_samples , 'K':K_approx}\n",
    "sigmas = {'eps': sigma_eps, 'A': sigma_A}\n",
    "\n",
    "iterations = 1000\n",
    "elbo = np.zeros(iterations)\n"
   ]
  },
  {
   "cell_type": "code",
   "execution_count": 75,
   "metadata": {
    "collapsed": false
   },
   "outputs": [
    {
     "data": {
      "text/plain": [
       "\"K_approx = deepcopy(K_inf) # variational truncation\\n\\ntau = np.random.uniform(0,1,[K_approx,2]) # tau1, tau2 -- beta parameters for v\\n#tau = np.ones([K_approx,2])*1000\\n#tau[:,1] = (tau[:,0] - Pi*tau[:,0])/Pi\\n\\n#nu = np.ones([Num_samples, K_approx]) *0.0\\nnu =  np.random.uniform(0,1,[Num_samples,K_approx]) # Bernoulli parameter for z_nk\\n#nu = deepcopy(Z)\\n\\nphi_mu = np.random.normal(0,1,[D,K_approx]) # kth mean (D dim vector) in kth column\\n#phi_mu = deepcopy(A).T\\nphi_var = np.ones(K_approx)\\n\\nnu_init = np.round(nu*(nu>=0.9) + nu*(nu<=0.1)) + nu*(nu>=0.1)*(nu<=0.9)\\n\\niterations = 1000\\nelbo = np.zeros(iterations)\\nelbo_Term1 = np.zeros(iterations)\\nelbo_Term2 = np.zeros(iterations)\\nelbo_Term3 = np.zeros(iterations)\\nelbo_Term4 = np.zeros(iterations)\\nelbo_Term5 = np.zeros(iterations)\\nelbo_Term6 = np.zeros(iterations)\\nelbo_Term7 = np.zeros(iterations)\\n\\n\\nData_shape = {'D':D, 'N': Num_samples , 'K':K_approx}\\nsigmas = {'eps': 100, 'A': sigma_A}\\n\""
      ]
     },
     "execution_count": 75,
     "metadata": {},
     "output_type": "execute_result"
    }
   ],
   "source": [
    "\"\"\"K_approx = deepcopy(K_inf) # variational truncation\n",
    "\n",
    "tau = np.random.uniform(0,1,[K_approx,2]) # tau1, tau2 -- beta parameters for v\n",
    "#tau = np.ones([K_approx,2])*1000\n",
    "#tau[:,1] = (tau[:,0] - Pi*tau[:,0])/Pi\n",
    "\n",
    "#nu = np.ones([Num_samples, K_approx]) *0.0\n",
    "nu =  np.random.uniform(0,1,[Num_samples,K_approx]) # Bernoulli parameter for z_nk\n",
    "#nu = deepcopy(Z)\n",
    "\n",
    "phi_mu = np.random.normal(0,1,[D,K_approx]) # kth mean (D dim vector) in kth column\n",
    "#phi_mu = deepcopy(A).T\n",
    "phi_var = np.ones(K_approx)\n",
    "\n",
    "nu_init = np.round(nu*(nu>=0.9) + nu*(nu<=0.1)) + nu*(nu>=0.1)*(nu<=0.9)\n",
    "\n",
    "iterations = 1000\n",
    "elbo = np.zeros(iterations)\n",
    "elbo_Term1 = np.zeros(iterations)\n",
    "elbo_Term2 = np.zeros(iterations)\n",
    "elbo_Term3 = np.zeros(iterations)\n",
    "elbo_Term4 = np.zeros(iterations)\n",
    "elbo_Term5 = np.zeros(iterations)\n",
    "elbo_Term6 = np.zeros(iterations)\n",
    "elbo_Term7 = np.zeros(iterations)\n",
    "\n",
    "\n",
    "Data_shape = {'D':D, 'N': Num_samples , 'K':K_approx}\n",
    "sigmas = {'eps': 100, 'A': sigma_A}\n",
    "\"\"\""
   ]
  },
  {
   "cell_type": "code",
   "execution_count": 76,
   "metadata": {
    "collapsed": true
   },
   "outputs": [],
   "source": [
    "def add_noise_to_phi(phi_mu, noise_scale):\n",
    "    phi_mu = phi_mu + np.random.normal(0, noise_scale, phi_mu.shape)"
   ]
  },
  {
   "cell_type": "markdown",
   "metadata": {},
   "source": [
    "# run CAVI"
   ]
  },
  {
   "cell_type": "code",
   "execution_count": 77,
   "metadata": {
    "collapsed": false
   },
   "outputs": [
    {
     "name": "stdout",
     "output_type": "stream",
     "text": [
      "iteration:  0  l1 error:  0.772859544339 elbo:  85658.1120742\n",
      "iteration:  1  l1 error:  0.649742065723 elbo:  236305.24873\n",
      "iteration:  2  l1 error:  0.484062021881 elbo:  255053.905815\n",
      "iteration:  3  l1 error:  0.478941476978 elbo:  257585.472002\n",
      "iteration:  4  l1 error:  0.474306133325 elbo:  258668.959966\n",
      "iteration:  5  l1 error:  0.458275433743 elbo:  260171.37224\n",
      "iteration:  6  l1 error:  0.455622566122 elbo:  264508.198059\n",
      "iteration:  7  l1 error:  0.45798001802 elbo:  268601.632566\n",
      "iteration:  8  l1 error:  0.459999997285 elbo:  270655.387962\n",
      "iteration:  9  l1 error:  0.459999997219 elbo:  271610.324209\n",
      "iteration:  10  l1 error:  0.459335217688 elbo:  272103.053544\n",
      "iteration:  11  l1 error:  0.458999525374 elbo:  272358.886409\n",
      "iteration:  12  l1 error:  0.458666135818 elbo:  272495.1329\n",
      "iteration:  13  l1 error:  0.458178329175 elbo:  272566.896848\n",
      "iteration:  14  l1 error:  0.457337728637 elbo:  272614.986323\n",
      "iteration:  15  l1 error:  0.457003531728 elbo:  272640.437428\n",
      "iteration:  16  l1 error:  0.456313534546 elbo:  272657.924673\n",
      "iteration:  17  l1 error:  0.454984489573 elbo:  272677.449588\n",
      "iteration:  18  l1 error:  0.453999147703 elbo:  272694.782855\n",
      "iteration:  19  l1 error:  0.453362422366 elbo:  272707.394389\n",
      "iteration:  20  l1 error:  0.453267028757 elbo:  272713.09032\n",
      "iteration:  21  l1 error:  0.453073986002 elbo:  272716.312735\n",
      "iteration:  22  l1 error:  0.452720824429 elbo:  272718.922233\n",
      "iteration:  23  l1 error:  0.452251238775 elbo:  272721.648827\n",
      "iteration:  24  l1 error:  0.451754034684 elbo:  272724.50036\n",
      "iteration:  25  l1 error:  0.45092467712 elbo:  272730.201984\n",
      "iteration:  26  l1 error:  0.449899672855 elbo:  272741.315805\n",
      "iteration:  27  l1 error:  0.448410328451 elbo:  272761.173552\n",
      "iteration:  28  l1 error:  0.445325697269 elbo:  272818.641566\n",
      "iteration:  29  l1 error:  0.43980730044 elbo:  273009.073517\n",
      "iteration:  30  l1 error:  0.435752967147 elbo:  273308.803413\n",
      "iteration:  31  l1 error:  0.423539756422 elbo:  276295.716073\n",
      "iteration:  32  l1 error:  0.391473080526 elbo:  280963.118535\n",
      "iteration:  33  l1 error:  0.367516839556 elbo:  283228.731881\n",
      "iteration:  34  l1 error:  0.364368804496 elbo:  283670.508952\n",
      "iteration:  35  l1 error:  0.358316714095 elbo:  283895.846427\n",
      "iteration:  36  l1 error:  0.347150007993 elbo:  284057.440861\n",
      "iteration:  37  l1 error:  0.319296458427 elbo:  284428.778395\n",
      "iteration:  38  l1 error:  0.237992932481 elbo:  286466.630582\n",
      "iteration:  39  l1 error:  0.198667134592 elbo:  289191.851146\n",
      "iteration:  40  l1 error:  0.198666666667 elbo:  290628.904135\n",
      "iteration:  41  l1 error:  0.198666666667 elbo:  291374.41462\n",
      "iteration:  42  l1 error:  0.198666666667 elbo:  291760.421044\n",
      "iteration:  43  l1 error:  0.198666666667 elbo:  291960.208405\n",
      "iteration:  44  l1 error:  0.198666666667 elbo:  292063.744749\n",
      "iteration:  45  l1 error:  0.198666666667 elbo:  292117.552778\n",
      "iteration:  46  l1 error:  0.198666666667 elbo:  292145.631257\n",
      "iteration:  47  l1 error:  0.198666666667 elbo:  292160.354232\n",
      "iteration:  48  l1 error:  0.198666666667 elbo:  292168.11247\n",
      "iteration:  49  l1 error:  0.198666666667 elbo:  292172.218712\n",
      "iteration:  50  l1 error:  0.198666666667 elbo:  292174.399257\n",
      "iteration:  51  l1 error:  0.198666666667 elbo:  292175.559326\n",
      "iteration:  52  l1 error:  0.198666666667 elbo:  292176.17661\n",
      "iteration:  53  l1 error:  0.198666666667 elbo:  292176.504609\n",
      "iteration:  54  l1 error:  0.198666666667 elbo:  292176.678406\n",
      "iteration:  55  l1 error:  0.198666666667 elbo:  292176.770144\n",
      "iteration:  56  l1 error:  0.198666666667 elbo:  292176.818351\n",
      "iteration:  57  l1 error:  0.198666666667 elbo:  292176.843568\n",
      "iteration:  58  l1 error:  0.198666666667 elbo:  292176.856703\n",
      "iteration:  59  l1 error:  0.198666666667 elbo:  292176.863522\n",
      "iteration:  60  l1 error:  0.198666666667 elbo:  292176.867053\n",
      "iteration:  61  l1 error:  0.198666666667 elbo:  292176.868881\n",
      "iteration:  62  l1 error:  0.198666666667 elbo:  292176.869827\n",
      "iteration:  63  l1 error:  0.198666666667 elbo:  292176.870319\n",
      "iteration:  64  l1 error:  0.198666666667 elbo:  292176.870575\n",
      "iteration:  65  l1 error:  0.198666666667 elbo:  292176.87071\n",
      "iteration:  66  l1 error:  0.198666666667 elbo:  292176.87078\n",
      "iteration:  67  l1 error:  0.198666666667 elbo:  292176.870818\n",
      "iteration:  68  l1 error:  0.198666666667 elbo:  292176.870838\n",
      "iteration:  69  l1 error:  0.198666666667 elbo:  292176.870848\n",
      "iteration:  70  l1 error:  0.198666666667 elbo:  292176.870854\n",
      "iteration:  71  l1 error:  0.198666666667 elbo:  292176.870857\n",
      "iteration:  72  l1 error:  0.198666666667 elbo:  292176.870858\n",
      "iteration:  73  l1 error:  0.198666666667 elbo:  292176.870859\n",
      "iteration:  74  l1 error:  0.198666666667 elbo:  292176.87086\n",
      "iteration:  75  l1 error:  0.198666666667 elbo:  292176.87086\n",
      "iteration:  76  l1 error:  0.198666666667 elbo:  292176.87086\n",
      "iteration:  77  l1 error:  0.198666666667 elbo:  292176.87086\n",
      "iteration:  78  l1 error:  0.198666666667 elbo:  292176.87086\n",
      "iteration:  79  l1 error:  0.198666666667 elbo:  292176.87086\n",
      "iteration:  80  l1 error:  0.198666666667 elbo:  292176.87086\n",
      "elbo decreased!  Difference:  -2.79396772385e-09\n"
     ]
    }
   ],
   "source": [
    " for i in range(iterations):\n",
    "    iter_ran = i + 1\n",
    "\n",
    "    cavi_updates(tau, nu, phi_mu, phi_var, X, alpha, sigmas)\n",
    "\n",
    "    round_nu = np.round(nu*(nu>=0.9) + nu*(nu<=0.1)) + nu*(nu>=0.1)*(nu<=0.9)\n",
    "\n",
    "    #[elbo[i],elbo_Term1[i],elbo_Term2[i],elbo_Term3[i],elbo_Term4[i],elbo_Term5[i],elbo_Term6[i],elbo_Term7[i]] \\\n",
    "    #    = compute_elbo(tau, nu, phi_mu, phi_var, X, sigmas, alpha)\n",
    "    elbo[i] = compute_elbo(tau, nu, phi_mu, phi_var, X, sigmas, alpha)\n",
    "\n",
    "    print('iteration: ', i, ' l1 error: ', np.sum(abs(Z-nu))/np.size(Z[:]), 'elbo: ', elbo[i])\n",
    "    #print(round_nu[0:10,:])\n",
    "\n",
    "    if np.isnan(elbo[i]):\n",
    "        print('NAN ELBO.')\n",
    "        break\n",
    "\n",
    "    if (i>0) & (elbo[i] < elbo[i-1]): \n",
    "        print('elbo decreased!  Difference: ', elbo[i] - elbo[i-1])\n",
    "        break\n",
    "\n",
    "    if np.abs(elbo[i]-elbo[i-1]) <= 10**(-8):\n",
    "        print('ELBO converged')\n",
    "        break\n",
    "    "
   ]
  },
  {
   "cell_type": "code",
   "execution_count": 78,
   "metadata": {
    "collapsed": false
   },
   "outputs": [
    {
     "name": "stdout",
     "output_type": "stream",
     "text": [
      "Z (unpermuted): \n",
      " [[0 1 0]\n",
      " [0 1 1]\n",
      " [1 0 0]\n",
      " [1 1 1]\n",
      " [1 1 0]\n",
      " [1 1 1]\n",
      " [1 1 1]\n",
      " [0 1 1]\n",
      " [1 1 0]\n",
      " [1 1 1]]\n",
      "permutation:  [0 2 1]\n",
      "Z (permuted) \n",
      " [[0 0 1]\n",
      " [0 1 1]\n",
      " [1 0 0]\n",
      " [1 1 1]\n",
      " [1 0 1]\n",
      " [1 1 1]\n",
      " [1 1 1]\n",
      " [0 1 1]\n",
      " [1 0 1]\n",
      " [1 1 1]]\n",
      "round_nu \n",
      " [[ 0.  0.  1.]\n",
      " [ 0.  1.  1.]\n",
      " [ 1.  0.  0.]\n",
      " [ 1.  1.  1.]\n",
      " [ 1.  0.  1.]\n",
      " [ 1.  1.  1.]\n",
      " [ 1.  1.  1.]\n",
      " [ 0.  1.  1.]\n",
      " [ 1.  0.  1.]\n",
      " [ 1.  1.  1.]]\n",
      "l1 error (after permutation):  [3.8638668293380949e-49, 0.0, 1.4442841029900156e-264]\n",
      "\n",
      "\n",
      "true A (permuted): \n",
      " [[ -1.26525481   5.19608387]\n",
      " [-16.4616848  -11.06085833]\n",
      " [ 11.35188066   2.59772659]]\n",
      "phi_mu: \n",
      " [[ -1.26616884   5.16543656]\n",
      " [-16.50156916 -11.05616916]\n",
      " [ 11.38919023   2.61061236]]\n",
      "\n",
      "\n",
      "true Pi (permuted):  [ 0.8  0.8  0.8]\n",
      "computed Pi:  [ 0.80766689  0.79775281  0.80370126]\n"
     ]
    },
    {
     "data": {
      "image/png": "[encoded data removed]",
      "text/plain": [
       "<matplotlib.figure.Figure at 0x7f94150b9128>"
      ]
     },
     "metadata": {},
     "output_type": "display_data"
    }
   ],
   "source": [
    "Pi_computed = tau[:,0]/(tau[:,0] + tau[:,1])\n",
    "round_nu = np.round(nu*(nu>=0.9) + nu*(nu<=0.1)) + nu*(nu>=0.1)*(nu<=0.9)\n",
    "print('Z (unpermuted): \\n', Z[0:10])\n",
    "\n",
    "# Find the minimizing permutation.\n",
    "accuracy_mat = [[ np.sum(np.abs(Z[:, i] - nu[:, j]))/Num_samples for i in range(K_inf) ]\n",
    "                  for j in range(K_inf) ]\n",
    "perm_tmp = np.argmin(accuracy_mat, 1)\n",
    "\n",
    "# check that we have a true permuation\n",
    "if len(perm_tmp) == len(set(perm_tmp)):  \n",
    "    perm = perm_tmp\n",
    "else: \n",
    "    print('** procedure did not give a true permutation')\n",
    "    perm = [0,1,2]\n",
    "\n",
    "print('permutation: ', perm)\n",
    "    \n",
    "# print Z (permuted) and nu\n",
    "print('Z (permuted) \\n', Z[0:10, perm])\n",
    "print('round_nu \\n', round_nu[0:10,:])\n",
    "\n",
    "print('l1 error (after permutation): ', \\\n",
    "    [ np.sum(np.abs(Z[:, perm[i]] - nu[:, i]))/Num_samples for i in range(K_inf) ])\n",
    "\n",
    "print('\\n')\n",
    "print('true A (permuted): \\n', A[perm, :])\n",
    "print('phi_mu: \\n', phi_mu.transpose())\n",
    "\n",
    "print('\\n')\n",
    "print('true Pi (permuted): ', Pi)\n",
    "print('computed Pi: ', Pi_computed)\n",
    "plt.clf()\n",
    "plt.plot(elbo[:iter_ran])\n",
    "plt.xlabel('iteration')\n",
    "plt.ylabel('elbo')\n",
    "plt.show()"
   ]
  },
  {
   "cell_type": "code",
   "execution_count": 9,
   "metadata": {
    "collapsed": false
   },
   "outputs": [
    {
     "data": {
      "image/png": "[encoded data removed]",
      "text/plain": [
       "<matplotlib.figure.Figure at 0x7fd4dec44c90>"
      ]
     },
     "metadata": {},
     "output_type": "display_data"
    }
   ],
   "source": [
    "pred_x = np.dot(nu, phi_mu.transpose())\n",
    "col = 0\n",
    "plt.clf()\n",
    "plt.plot(pred_x[:, col], X[:, col], 'ko')\n",
    "plt.show()"
   ]
  },
  {
   "cell_type": "code",
   "execution_count": 10,
   "metadata": {
    "collapsed": false,
    "scrolled": true
   },
   "outputs": [
    {
     "name": "stdout",
     "output_type": "stream",
     "text": [
      "0.3\n",
      "0.192\n",
      "0.582\n"
     ]
    }
   ],
   "source": [
    "# let us permute the columms of nu and then compare: \n",
    "nu_perm = nu[:, (1,2,0)]\n",
    "round_nu_perm = np.round(nu_perm*(nu_perm>=0.9) + nu_perm*(nu_perm<=0.1)) + nu_perm*(nu_perm>=0.1)*(nu_perm<=0.9)\n",
    "\n",
    "print(np.sum(np.abs(Z[:,0] - nu_perm[:,0]))/Num_samples)\n",
    "print(np.sum(np.abs(Z[:,1] - nu_perm[:,1]))/Num_samples)\n",
    "print(np.sum(np.abs(Z[:,2] - nu_perm[:,2]))/Num_samples)\n",
    "\n",
    "# so two of the rows are really close ..."
   ]
  }
 ],
 "metadata": {
  "anaconda-cloud": {},
  "kernelspec": {
   "display_name": "Python 3",
   "language": "python",
   "name": "python3"
  },
  "language_info": {
   "codemirror_mode": {
    "name": "ipython",
    "version": 3
   },
   "file_extension": ".py",
   "mimetype": "text/x-python",
   "name": "python",
   "nbconvert_exporter": "python",
   "pygments_lexer": "ipython3",
   "version": "3.6.0"
  }
 },
 "nbformat": 4,
 "nbformat_minor": 1
}
