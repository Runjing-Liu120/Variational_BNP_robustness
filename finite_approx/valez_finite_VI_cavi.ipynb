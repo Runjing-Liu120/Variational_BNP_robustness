{
 "cells": [
  {
   "cell_type": "markdown",
   "metadata": {},
   "source": [
    "# Variational inference using the finite approximation\n",
    "\n",
    "trying standard cavi"
   ]
  },
  {
   "cell_type": "code",
   "execution_count": 1,
   "metadata": {},
   "outputs": [],
   "source": [
    "import numpy as np\n",
    "import scipy as sp\n",
    "\n",
    "import matplotlib.pyplot as plt\n",
    "from copy import deepcopy\n",
    "\n",
    "from valez_finite_VI_lib import *\n"
   ]
  },
  {
   "cell_type": "markdown",
   "metadata": {},
   "source": [
    "# Draw data"
   ]
  },
  {
   "cell_type": "code",
   "execution_count": 2,
   "metadata": {
    "collapsed": true
   },
   "outputs": [],
   "source": [
    "np.random.seed(43141) \n",
    "Num_samples = 500 # sample size\n",
    "D = 2 # dimension\n",
    "# so X will be a N\\times D matrix\n",
    "\n",
    "K_inf = 3 # take to be large for a good approximation to the IBP\n",
    "\n",
    "alpha = 10 # IBP parameter\n",
    "\n",
    "# Parameters to draw A from MVN\n",
    "sigma_eps = .1 # variance of noise\n",
    "sigma_A = 100\n",
    "\n",
    "# generate data\n",
    "Pi, Z, mu, A, X = generate_data(Num_samples, D, K_inf, sigma_A, sigma_eps, alpha)\n"
   ]
  },
  {
   "cell_type": "code",
   "execution_count": 3,
   "metadata": {},
   "outputs": [
    {
     "data": {
      "text/plain": [
       "\"np.random.seed(43141) \\n\\nNum_samples = 500 # sample size\\nD = 2 # dimension\\n# so X will be a N\\times D matrix\\n\\nK_inf = 3 # take to be large for a good approximation to the IBP\\n\\n\\nalpha = 10 # IBP parameter\\nPi = np.ones(K_inf) * .8\\nZ = np.zeros([Num_samples,K_inf])\\n\\n# Parameters to draw A from MVN\\nmu = np.zeros(D)\\nsigma_A = 100\\n\\nsigma_eps = .1 # variance of noise\\n\\n# Draw Z from truncated stick breaking process\\nfor k in range(K_inf):\\n    # Pi[k] = np.random.beta(alpha/K_inf,1)\\n    for n in range(Num_samples):\\n        Z[n,k] = np.random.binomial(1,Pi[k])\\n\\n        \\nprint('true Z (first 10 rows): \\n', Z[0:10,:])\\n\\n# Draw A from multivariate normal\\n# A = np.random.multivariate_normal(mu, sigma_A*np.identity(D), K_inf) # FOR SOME REASONG THIS KILLS THE KERNEL!?\\nA = np.random.normal(0, np.sqrt(sigma_A), (K_inf, D))\\nprint(A)\\n\\n# draw noise\\n# epsilon = np.random.multivariate_normal(np.zeros(D), sigma_eps*np.identity(D), Num_samples)\\nepsilon = np.random.normal(0, sigma_eps, (Num_samples, D))\\n\\n# the observed data\\nX = np.dot(Z,A) + epsilon\\n\""
      ]
     },
     "execution_count": 3,
     "metadata": {},
     "output_type": "execute_result"
    }
   ],
   "source": [
    "\"\"\"np.random.seed(43141) \n",
    "\n",
    "Num_samples = 500 # sample size\n",
    "D = 2 # dimension\n",
    "# so X will be a N\\times D matrix\n",
    "\n",
    "K_inf = 3 # take to be large for a good approximation to the IBP\n",
    "\n",
    "\n",
    "alpha = 10 # IBP parameter\n",
    "Pi = np.ones(K_inf) * .8\n",
    "Z = np.zeros([Num_samples,K_inf])\n",
    "\n",
    "# Parameters to draw A from MVN\n",
    "mu = np.zeros(D)\n",
    "sigma_A = 100\n",
    "\n",
    "sigma_eps = .1 # variance of noise\n",
    "\n",
    "# Draw Z from truncated stick breaking process\n",
    "for k in range(K_inf):\n",
    "    # Pi[k] = np.random.beta(alpha/K_inf,1)\n",
    "    for n in range(Num_samples):\n",
    "        Z[n,k] = np.random.binomial(1,Pi[k])\n",
    "\n",
    "        \n",
    "print('true Z (first 10 rows): \\n', Z[0:10,:])\n",
    "\n",
    "# Draw A from multivariate normal\n",
    "# A = np.random.multivariate_normal(mu, sigma_A*np.identity(D), K_inf) # FOR SOME REASONG THIS KILLS THE KERNEL!?\n",
    "A = np.random.normal(0, np.sqrt(sigma_A), (K_inf, D))\n",
    "print(A)\n",
    "\n",
    "# draw noise\n",
    "# epsilon = np.random.multivariate_normal(np.zeros(D), sigma_eps*np.identity(D), Num_samples)\n",
    "epsilon = np.random.normal(0, sigma_eps, (Num_samples, D))\n",
    "\n",
    "# the observed data\n",
    "X = np.dot(Z,A) + epsilon\n",
    "\"\"\""
   ]
  },
  {
   "cell_type": "markdown",
   "metadata": {},
   "source": [
    "# set initializations"
   ]
  },
  {
   "cell_type": "code",
   "execution_count": 4,
   "metadata": {
    "collapsed": true
   },
   "outputs": [],
   "source": [
    "# set initializations\n",
    "K_approx = deepcopy(K_inf) # variational truncation\n",
    "tau, nu, phi_mu, phi_var = initialize_parameters(Num_samples, D, K_approx)\n",
    "\n",
    "Data_shape = {'D':D, 'N': Num_samples , 'K':K_approx}\n",
    "sigmas = {'eps': sigma_eps, 'A': sigma_A}\n",
    "\n",
    "iterations = 1000\n",
    "elbo = np.zeros(iterations)\n"
   ]
  },
  {
   "cell_type": "code",
   "execution_count": 5,
   "metadata": {},
   "outputs": [
    {
     "data": {
      "text/plain": [
       "\"K_approx = deepcopy(K_inf) # variational truncation\\n\\ntau = np.random.uniform(0,1,[K_approx,2]) # tau1, tau2 -- beta parameters for v\\n#tau = np.ones([K_approx,2])*1000\\n#tau[:,1] = (tau[:,0] - Pi*tau[:,0])/Pi\\n\\n#nu = np.ones([Num_samples, K_approx]) *0.0\\nnu =  np.random.uniform(0,1,[Num_samples,K_approx]) # Bernoulli parameter for z_nk\\n#nu = deepcopy(Z)\\n\\nphi_mu = np.random.normal(0,1,[D,K_approx]) # kth mean (D dim vector) in kth column\\n#phi_mu = deepcopy(A).T\\nphi_var = np.ones(K_approx)\\n\\nnu_init = np.round(nu*(nu>=0.9) + nu*(nu<=0.1)) + nu*(nu>=0.1)*(nu<=0.9)\\n\\niterations = 1000\\nelbo = np.zeros(iterations)\\nelbo_Term1 = np.zeros(iterations)\\nelbo_Term2 = np.zeros(iterations)\\nelbo_Term3 = np.zeros(iterations)\\nelbo_Term4 = np.zeros(iterations)\\nelbo_Term5 = np.zeros(iterations)\\nelbo_Term6 = np.zeros(iterations)\\nelbo_Term7 = np.zeros(iterations)\\n\\n\\nData_shape = {'D':D, 'N': Num_samples , 'K':K_approx}\\nsigmas = {'eps': 100, 'A': sigma_A}\\n\""
      ]
     },
     "execution_count": 5,
     "metadata": {},
     "output_type": "execute_result"
    }
   ],
   "source": [
    "\"\"\"K_approx = deepcopy(K_inf) # variational truncation\n",
    "\n",
    "tau = np.random.uniform(0,1,[K_approx,2]) # tau1, tau2 -- beta parameters for v\n",
    "#tau = np.ones([K_approx,2])*1000\n",
    "#tau[:,1] = (tau[:,0] - Pi*tau[:,0])/Pi\n",
    "\n",
    "#nu = np.ones([Num_samples, K_approx]) *0.0\n",
    "nu =  np.random.uniform(0,1,[Num_samples,K_approx]) # Bernoulli parameter for z_nk\n",
    "#nu = deepcopy(Z)\n",
    "\n",
    "phi_mu = np.random.normal(0,1,[D,K_approx]) # kth mean (D dim vector) in kth column\n",
    "#phi_mu = deepcopy(A).T\n",
    "phi_var = np.ones(K_approx)\n",
    "\n",
    "nu_init = np.round(nu*(nu>=0.9) + nu*(nu<=0.1)) + nu*(nu>=0.1)*(nu<=0.9)\n",
    "\n",
    "iterations = 1000\n",
    "elbo = np.zeros(iterations)\n",
    "elbo_Term1 = np.zeros(iterations)\n",
    "elbo_Term2 = np.zeros(iterations)\n",
    "elbo_Term3 = np.zeros(iterations)\n",
    "elbo_Term4 = np.zeros(iterations)\n",
    "elbo_Term5 = np.zeros(iterations)\n",
    "elbo_Term6 = np.zeros(iterations)\n",
    "elbo_Term7 = np.zeros(iterations)\n",
    "\n",
    "\n",
    "Data_shape = {'D':D, 'N': Num_samples , 'K':K_approx}\n",
    "sigmas = {'eps': 100, 'A': sigma_A}\n",
    "\"\"\""
   ]
  },
  {
   "cell_type": "code",
   "execution_count": 6,
   "metadata": {
    "collapsed": true
   },
   "outputs": [],
   "source": [
    "def add_noise_to_phi(phi_mu, noise_scale):\n",
    "    phi_mu = phi_mu + np.random.normal(0, noise_scale, phi_mu.shape)"
   ]
  },
  {
   "cell_type": "markdown",
   "metadata": {},
   "source": [
    "# run CAVI"
   ]
  },
  {
   "cell_type": "code",
   "execution_count": 7,
   "metadata": {},
   "outputs": [
    {
     "name": "stdout",
     "output_type": "stream",
     "text": [
      "('iteration: ', 0, ' l1 error: ', 0.36185186940474895, 'elbo: ', -39650.134036329859)\n",
      "('iteration: ', 1, ' l1 error: ', 0.33414120841871259, 'elbo: ', -22531.119355277955)\n",
      "('iteration: ', 2, ' l1 error: ', 0.32423975525393733, 'elbo: ', -17847.018311470856)\n",
      "('iteration: ', 3, ' l1 error: ', 0.32333336285903208, 'elbo: ', -14728.787648658312)\n",
      "('iteration: ', 4, ' l1 error: ', 0.32333364416912896, 'elbo: ', -12802.588748445018)\n",
      "('iteration: ', 5, ' l1 error: ', 0.32335839448493298, 'elbo: ', -11642.132482948775)\n",
      "('iteration: ', 6, ' l1 error: ', 0.32725438863936895, 'elbo: ', -10704.481063934276)\n",
      "('iteration: ', 7, ' l1 error: ', 0.33199962144071843, 'elbo: ', -9807.8072248173721)\n",
      "('iteration: ', 8, ' l1 error: ', 0.32868977649527192, 'elbo: ', -9228.0503860513945)\n",
      "('iteration: ', 9, ' l1 error: ', 0.32345133758449179, 'elbo: ', -8614.5991327074171)\n",
      "('iteration: ', 10, ' l1 error: ', 0.32333333333376429, 'elbo: ', -8239.6089066817622)\n",
      "('iteration: ', 11, ' l1 error: ', 0.32333333333333608, 'elbo: ', -8013.092978743116)\n",
      "('iteration: ', 12, ' l1 error: ', 0.32333333333333736, 'elbo: ', -7879.3482252854219)\n",
      "('iteration: ', 13, ' l1 error: ', 0.32333333333333908, 'elbo: ', -7800.7776457264199)\n",
      "('iteration: ', 14, ' l1 error: ', 0.32333333333334097, 'elbo: ', -7754.6538924840788)\n",
      "('iteration: ', 15, ' l1 error: ', 0.32333333333334285, 'elbo: ', -7727.5810911529397)\n",
      "('iteration: ', 16, ' l1 error: ', 0.32333333333334463, 'elbo: ', -7711.6912893256267)\n",
      "('iteration: ', 17, ' l1 error: ', 0.32333333333334624, 'elbo: ', -7702.3656134288849)\n",
      "('iteration: ', 18, ' l1 error: ', 0.32333333333334763, 'elbo: ', -7696.8927765990957)\n",
      "('iteration: ', 19, ' l1 error: ', 0.32333333333334885, 'elbo: ', -7693.6812901971098)\n",
      "('iteration: ', 20, ' l1 error: ', 0.32333333333334979, 'elbo: ', -7691.7969935236615)\n",
      "('iteration: ', 21, ' l1 error: ', 0.32333333333335063, 'elbo: ', -7690.6915752517016)\n",
      "('iteration: ', 22, ' l1 error: ', 0.32333333333335124, 'elbo: ', -7690.0432126517417)\n",
      "('iteration: ', 23, ' l1 error: ', 0.32333333333335174, 'elbo: ', -7689.6630260754118)\n",
      "('iteration: ', 24, ' l1 error: ', 0.32333333333335212, 'elbo: ', -7689.4401679631756)\n",
      "('iteration: ', 25, ' l1 error: ', 0.32333333333335246, 'elbo: ', -7689.3095907221941)\n",
      "('iteration: ', 26, ' l1 error: ', 0.32333333333335268, 'elbo: ', -7689.2331272267775)\n",
      "('iteration: ', 27, ' l1 error: ', 0.3233333333333529, 'elbo: ', -7689.1883858091296)\n",
      "('iteration: ', 28, ' l1 error: ', 0.32333333333335301, 'elbo: ', -7689.1622322748135)\n",
      "('iteration: ', 29, ' l1 error: ', 0.32333333333335318, 'elbo: ', -7689.1469644060317)\n",
      "('iteration: ', 30, ' l1 error: ', 0.32333333333335329, 'elbo: ', -7689.1380668527245)\n",
      "('iteration: ', 31, ' l1 error: ', 0.32333333333335329, 'elbo: ', -7689.1328936263826)\n",
      "('iteration: ', 32, ' l1 error: ', 0.32333333333335335, 'elbo: ', -7689.1298950187247)\n",
      "('iteration: ', 33, ' l1 error: ', 0.3233333333333534, 'elbo: ', -7689.1281640356601)\n",
      "('iteration: ', 34, ' l1 error: ', 0.3233333333333534, 'elbo: ', -7689.1271703361981)\n",
      "('iteration: ', 35, ' l1 error: ', 0.32333333333335346, 'elbo: ', -7689.1266041964236)\n",
      "('iteration: ', 36, ' l1 error: ', 0.32333333333335351, 'elbo: ', -7689.1262850271405)\n",
      "('iteration: ', 37, ' l1 error: ', 0.32333333333335351, 'elbo: ', -7689.1261077563386)\n",
      "('iteration: ', 38, ' l1 error: ', 0.32333333333335351, 'elbo: ', -7689.1260114247807)\n",
      "('iteration: ', 39, ' l1 error: ', 0.32333333333335351, 'elbo: ', -7689.1259607989159)\n",
      "('iteration: ', 40, ' l1 error: ', 0.32333333333335351, 'elbo: ', -7689.125935618591)\n",
      "('iteration: ', 41, ' l1 error: ', 0.32333333333335351, 'elbo: ', -7689.1259243142631)\n",
      "('iteration: ', 42, ' l1 error: ', 0.32333333333335351, 'elbo: ', -7689.125920342387)\n",
      "('iteration: ', 43, ' l1 error: ', 0.32333333333335351, 'elbo: ', -7689.1259200520981)\n",
      "('iteration: ', 44, ' l1 error: ', 0.32333333333335351, 'elbo: ', -7689.1259214455167)\n",
      "('elbo decreased!  Difference: ', -1.3934186426922679e-06)\n"
     ]
    }
   ],
   "source": [
    " \n",
    "for i in range(iterations):\n",
    "    iter_ran = i + 1\n",
    "\n",
    "    cavi_updates(tau, nu, phi_mu, phi_var, X, alpha, sigmas)\n",
    "\n",
    "    round_nu = np.round(nu*(nu>=0.9) + nu*(nu<=0.1)) + nu*(nu>=0.1)*(nu<=0.9)\n",
    "\n",
    "    #[elbo[i],elbo_Term1[i],elbo_Term2[i],elbo_Term3[i],elbo_Term4[i],elbo_Term5[i],elbo_Term6[i],elbo_Term7[i]] \\\n",
    "    #    = compute_elbo(tau, nu, phi_mu, phi_var, X, sigmas, alpha)\n",
    "    elbo[i] = compute_elbo(tau, nu, phi_mu, phi_var, X, sigmas, alpha)[0]\n",
    "\n",
    "    print('iteration: ', i, ' l1 error: ', np.sum(abs(Z-nu))/np.size(Z[:]), 'elbo: ', elbo[i])\n",
    "    #print(round_nu[0:10,:])\n",
    "\n",
    "    if np.isnan(elbo[i]):\n",
    "        print('NAN ELBO.')\n",
    "        break\n",
    "\n",
    "    if (i>0) & (elbo[i] < elbo[i-1]): \n",
    "        print('elbo decreased!  Difference: ', elbo[i] - elbo[i-1])\n",
    "        break\n",
    "\n",
    "    if np.abs(elbo[i]-elbo[i-1]) <= 10**(-8):\n",
    "        print('ELBO converged')\n",
    "        break\n",
    "    "
   ]
  },
  {
   "cell_type": "code",
   "execution_count": 8,
   "metadata": {},
   "outputs": [
    {
     "name": "stdout",
     "output_type": "stream",
     "text": [
      "('Z (unpermuted): \\n', array([[1, 1, 1],\n",
      "       [1, 1, 1],\n",
      "       [1, 1, 1],\n",
      "       [1, 1, 0],\n",
      "       [1, 1, 1],\n",
      "       [1, 1, 1],\n",
      "       [1, 1, 1],\n",
      "       [1, 1, 0],\n",
      "       [1, 1, 1],\n",
      "       [1, 1, 1]]))\n",
      "** procedure did not give a true permutation\n",
      "('permutation: ', [0, 1, 2])\n",
      "('Z (permuted) \\n', array([[1, 1, 1],\n",
      "       [1, 1, 1],\n",
      "       [1, 1, 1],\n",
      "       [1, 1, 0],\n",
      "       [1, 1, 1],\n",
      "       [1, 1, 1],\n",
      "       [1, 1, 1],\n",
      "       [1, 1, 0],\n",
      "       [1, 1, 1],\n",
      "       [1, 1, 1]]))\n",
      "('round_nu \\n', array([[ 0.,  1.,  1.],\n",
      "       [ 0.,  1.,  1.],\n",
      "       [ 0.,  1.,  1.],\n",
      "       [ 0.,  1.,  0.],\n",
      "       [ 0.,  1.,  1.],\n",
      "       [ 0.,  1.,  1.],\n",
      "       [ 0.,  1.,  1.],\n",
      "       [ 0.,  1.,  0.],\n",
      "       [ 0.,  1.,  1.],\n",
      "       [ 0.,  1.,  1.]]))\n",
      "('l1 error (after permutation): ', [0.85200000000006049, 1.0572498828438572e-139, 0.11799999999999999])\n",
      "\n",
      "\n",
      "('true A (permuted): \\n', array([[-3.07199514,  5.0220693 ],\n",
      "       [ 9.54417571,  3.59640607],\n",
      "       [ 1.1894611 , -8.60276614]]))\n",
      "('phi_mu: \\n', array([[ 0.64148164, -4.36581984],\n",
      "       [ 6.82884178,  8.53159601],\n",
      "       [ 1.27284023, -8.62165725]]))\n",
      "\n",
      "\n",
      "('true Pi (permuted): ', array([ 0.8,  0.8,  0.8]))\n",
      "('computed Pi: ', array([ 0.2718254 ,  0.81944444,  0.68055556]))\n"
     ]
    },
    {
     "data": {
      "image/png": "[encoded data removed]",
      "text/plain": [
       "<matplotlib.figure.Figure at 0x7fd518ead350>"
      ]
     },
     "metadata": {},
     "output_type": "display_data"
    }
   ],
   "source": [
    "Pi_computed = tau[:,0]/(tau[:,0] + tau[:,1])\n",
    "round_nu = np.round(nu*(nu>=0.9) + nu*(nu<=0.1)) + nu*(nu>=0.1)*(nu<=0.9)\n",
    "print('Z (unpermuted): \\n', Z[0:10])\n",
    "\n",
    "# Find the minimizing permutation.\n",
    "accuracy_mat = [[ np.sum(np.abs(Z[:, i] - nu[:, j]))/Num_samples for i in range(K_inf) ]\n",
    "                  for j in range(K_inf) ]\n",
    "perm_tmp = np.argmin(accuracy_mat, 1)\n",
    "\n",
    "# check that we have a true permuation\n",
    "if len(perm_tmp) == len(set(perm_tmp)):  \n",
    "    perm = perm_tmp\n",
    "else: \n",
    "    print('** procedure did not give a true permutation')\n",
    "    perm = [0,1,2]\n",
    "\n",
    "print('permutation: ', perm)\n",
    "    \n",
    "# print Z (permuted) and nu\n",
    "print('Z (permuted) \\n', Z[0:10, perm])\n",
    "print('round_nu \\n', round_nu[0:10,:])\n",
    "\n",
    "print('l1 error (after permutation): ', \\\n",
    "    [ np.sum(np.abs(Z[:, perm[i]] - nu[:, i]))/Num_samples for i in range(K_inf) ])\n",
    "\n",
    "print('\\n')\n",
    "print('true A (permuted): \\n', A[perm, :])\n",
    "print('phi_mu: \\n', phi_mu.transpose())\n",
    "\n",
    "print('\\n')\n",
    "print('true Pi (permuted): ', Pi)\n",
    "print('computed Pi: ', Pi_computed)\n",
    "plt.clf()\n",
    "plt.plot(elbo[:iter_ran])\n",
    "plt.xlabel('iteration')\n",
    "plt.ylabel('elbo')\n",
    "plt.show()"
   ]
  },
  {
   "cell_type": "code",
   "execution_count": 9,
   "metadata": {},
   "outputs": [
    {
     "data": {
      "image/png": "[encoded data removed]",
      "text/plain": [
       "<matplotlib.figure.Figure at 0x7fd4dec44c90>"
      ]
     },
     "metadata": {},
     "output_type": "display_data"
    }
   ],
   "source": [
    "pred_x = np.dot(nu, phi_mu.transpose())\n",
    "col = 0\n",
    "plt.clf()\n",
    "plt.plot(pred_x[:, col], X[:, col], 'ko')\n",
    "plt.show()"
   ]
  },
  {
   "cell_type": "code",
   "execution_count": 10,
   "metadata": {
    "scrolled": true
   },
   "outputs": [
    {
     "name": "stdout",
     "output_type": "stream",
     "text": [
      "0.3\n",
      "0.192\n",
      "0.582\n"
     ]
    }
   ],
   "source": [
    "# let us permute the columms of nu and then compare: \n",
    "nu_perm = nu[:, (1,2,0)]\n",
    "round_nu_perm = np.round(nu_perm*(nu_perm>=0.9) + nu_perm*(nu_perm<=0.1)) + nu_perm*(nu_perm>=0.1)*(nu_perm<=0.9)\n",
    "\n",
    "print(np.sum(np.abs(Z[:,0] - nu_perm[:,0]))/Num_samples)\n",
    "print(np.sum(np.abs(Z[:,1] - nu_perm[:,1]))/Num_samples)\n",
    "print(np.sum(np.abs(Z[:,2] - nu_perm[:,2]))/Num_samples)\n",
    "\n",
    "# so two of the rows are really close ..."
   ]
  }
 ],
 "metadata": {
  "anaconda-cloud": {},
  "kernelspec": {
   "display_name": "Python 2",
   "language": "python",
   "name": "python2"
  },
  "language_info": {
   "codemirror_mode": {
    "name": "ipython",
    "version": 2
   },
   "file_extension": ".py",
   "mimetype": "text/x-python",
   "name": "python",
   "nbconvert_exporter": "python",
   "pygments_lexer": "ipython2",
   "version": "2.7.12"
  }
 },
 "nbformat": 4,
 "nbformat_minor": 1
}
