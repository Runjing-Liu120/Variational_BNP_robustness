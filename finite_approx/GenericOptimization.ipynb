{
 "cells": [
  {
   "cell_type": "code",
   "execution_count": 1,
   "metadata": {
    "collapsed": true
   },
   "outputs": [],
   "source": [
    "import autograd.numpy as np\n",
    "import autograd.scipy as sp\n",
    "from autograd.scipy import special\n",
    "from autograd import grad, hessian, hessian_vector_product, hessian, jacobian\n",
    "import matplotlib.pyplot as plt\n",
    "%matplotlib inline  \n",
    "\n",
    "from copy import deepcopy\n",
    "\n",
    "from scipy import optimize\n",
    "\n",
    "import time\n",
    "\n",
    "import valez_finite_VI_lib as vi\n",
    "from data_set_lib import DataSet\n",
    "import generic_optimization_lib as packing"
   ]
  },
  {
   "cell_type": "code",
   "execution_count": 2,
   "metadata": {
    "collapsed": true
   },
   "outputs": [],
   "source": [
    "#np.random.seed(12321)\n",
    "\n",
    "alpha = 10 # IBP parameter\n",
    "\n",
    "num_samples = 50 # sample size\n",
    "D = 2 # dimension\n",
    "\n",
    "sigma_a = 3.0 ** 2\n",
    "\n",
    "sigma_eps = 1.0 ** 2 # variance of noise\n",
    "\n",
    "k_inf = 3 # take to be large for a good approximation to the IBP\n",
    "\n",
    "pi, Z, mu, A, X = vi.generate_data(num_samples, D, k_inf, sigma_a, sigma_eps, alpha)\n",
    "\n",
    "k_approx = k_inf # variational truncation\n",
    "\n",
    "tau_init, nu_init, phi_mu_init, phi_var_init = \\\n",
    "    vi.initialize_parameters(num_samples, D, k_approx)\n",
    "\n",
    "params_init = packing.pack_params(deepcopy(tau_init), deepcopy(phi_mu_init),\n",
    "                                  deepcopy(phi_var_init), deepcopy(nu_init))\n",
    "\n",
    "hyper_params = packing.pack_hyperparameters(alpha, sigma_a, sigma_eps)\n",
    "\n",
    "data_set = DataSet(X, k_approx, alpha, sigma_eps, sigma_a)"
   ]
  },
  {
   "cell_type": "code",
   "execution_count": 3,
   "metadata": {},
   "outputs": [
    {
     "data": {
      "image/png": "[encoded data removed]",
      "text/plain": [
       "<matplotlib.figure.Figure at 0x7f64465ba6d8>"
      ]
     },
     "metadata": {},
     "output_type": "display_data"
    },
    {
     "data": {
      "image/png": "[encoded data removed]",
      "text/plain": [
       "<matplotlib.figure.Figure at 0x7f64465c4470>"
      ]
     },
     "metadata": {},
     "output_type": "display_data"
    }
   ],
   "source": [
    "col = 0\n",
    "plt.figure()\n",
    "plt.hist(data_set.x[:, col], bins=100);\n",
    "\n",
    "col1 = 0\n",
    "col2 = 1\n",
    "plt.figure()\n",
    "plt.plot(data_set.x[:, col1], data_set.x[:, col2], 'k.');"
   ]
  },
  {
   "cell_type": "code",
   "execution_count": 4,
   "metadata": {
    "collapsed": true
   },
   "outputs": [],
   "source": [
    "# Parameters approximating the true distribution\n",
    "\n",
    "tau_true = np.zeros_like(tau_init)\n",
    "tau_true_scale = 15.\n",
    "tau_true[:, 0] = deepcopy(pi) * tau_true_scale\n",
    "tau_true[:, 1] = tau_true_scale\n",
    "\n",
    "nu_true = np.zeros_like(nu_init)\n",
    "nu_true[Z == 1] = 0.999\n",
    "nu_true[Z == 0] = 0.001\n",
    "\n",
    "phi_mu_true = np.zeros_like(phi_mu_init)\n",
    "phi_mu_true[:] = A.transpose()\n",
    "phi_var_true = np.zeros_like(phi_var_init)\n",
    "phi_var_true[:] = 0.01\n",
    "\n",
    "params_true = packing.pack_params(deepcopy(tau_true), deepcopy(phi_mu_true),\n",
    "                                  deepcopy(phi_var_true), deepcopy(nu_true))"
   ]
  },
  {
   "cell_type": "code",
   "execution_count": 5,
   "metadata": {},
   "outputs": [
    {
     "name": "stdout",
     "output_type": "stream",
     "text": [
      "Step 0 objective: 48.964852986009824\n",
      "Step 10 objective: 0.1235802394749328\n",
      "Step 20 objective: 0.6468035461143451\n",
      "Step 30 objective: 0.832791297220778\n",
      "Step 40 objective: 0.005511545126962503\n",
      "Step 50 objective: 0.000825853996033743\n",
      "Step 60 objective: 4.7466979717469826e-05\n",
      "Step 70 objective: 2.3887873297212536e-06\n",
      "Done with CAVI.\n"
     ]
    }
   ],
   "source": [
    "true_init = False\n",
    "if true_init:\n",
    "    tau, phi_mu, phi_var, nu = data_set.unpack_params(params_true)\n",
    "else:\n",
    "    tau, phi_mu, phi_var, nu = data_set.unpack_params(params_init)\n",
    "\n",
    "tau, nu, phi_mu, phi_var = data_set.run_cavi(tau, nu, phi_mu, phi_var, max_iter=100, tol=1e-6)\n",
    "\n",
    "cavi_tau = deepcopy(tau)\n",
    "cavi_phi_mu = deepcopy(phi_mu)\n",
    "cavi_phi_var = deepcopy(phi_var)\n",
    "cavi_nu = deepcopy(nu)"
   ]
  },
  {
   "cell_type": "code",
   "execution_count": 7,
   "metadata": {},
   "outputs": [
    {
     "name": "stdout",
     "output_type": "stream",
     "text": [
      "True\n"
     ]
    }
   ],
   "source": [
    "# CAVI can return nu values that are too close to 0 or 1 for the encoding.\n",
    "nu_tol = 1e-8\n",
    "cavi_nu_trim = deepcopy(cavi_nu)\n",
    "cavi_nu_trim[cavi_nu_trim < nu_tol] = nu_tol\n",
    "cavi_nu_trim[cavi_nu_trim > 1 - nu_tol] = 1 - nu_tol\n",
    "\n",
    "cavi_params = packing.pack_params(cavi_tau, cavi_phi_mu, cavi_phi_var, cavi_nu_trim)\n",
    "print(np.all(np.isfinite(cavi_params)))"
   ]
  },
  {
   "cell_type": "code",
   "execution_count": 8,
   "metadata": {},
   "outputs": [
    {
     "name": "stdout",
     "output_type": "stream",
     "text": [
      "Step 0 objective: -345.16392764507583\n",
      "Optimization terminated successfully.\n",
      "         Current function value: -345.163928\n",
      "         Iterations: 1\n",
      "         Function evaluations: 2\n",
      "         Gradient evaluations: 2\n",
      "         Hessian evaluations: 0\n",
      "Done with Newton trust region.\n"
     ]
    }
   ],
   "source": [
    "data_set.trace.reset()\n",
    "vb_opt = data_set.run_newton_tr(cavi_params, maxiter=50, gtol=1e-2)\n",
    "tr_params = deepcopy(vb_opt.x)\n",
    "tr_tau, tr_phi_mu, tr_phi_var, tr_nu = data_set.unpack_params(tr_params)\n"
   ]
  },
  {
   "cell_type": "code",
   "execution_count": 10,
   "metadata": {},
   "outputs": [
    {
     "name": "stdout",
     "output_type": "stream",
     "text": [
      "CAVI:\n",
      "[[-1.18004894  4.12360917]\n",
      " [ 2.13079957 -1.08590817]\n",
      " [-1.90613516 -2.27309642]]\n",
      "Full TR:\n",
      "[[-1.18004894  4.12360908]\n",
      " [ 2.13080066 -1.08590909]\n",
      " [-1.90613424 -2.27309633]]\n",
      "Truth:\n",
      "[[-2.60019209  1.78137362]\n",
      " [ 1.77736326  2.28397343]\n",
      " [-0.08857654  0.2192766 ]]\n"
     ]
    }
   ],
   "source": [
    "print ('CAVI:')\n",
    "print (cavi_phi_mu.transpose())\n",
    "\n",
    "print ('Full TR:')\n",
    "tau, phi_mu, phi_var, nu = data_set.unpack_params(tr_params)\n",
    "print (phi_mu.transpose())\n",
    "\n",
    "print ('Truth:')\n",
    "print (A)"
   ]
  },
  {
   "cell_type": "code",
   "execution_count": 11,
   "metadata": {},
   "outputs": [
    {
     "name": "stdout",
     "output_type": "stream",
     "text": [
      "Cavi residuals: 60.555251128787766    Trust residuals: 60.555250232916315      True residuals: 81.85276606722681\n"
     ]
    },
    {
     "data": {
      "image/png": "[encoded data removed]",
      "text/plain": [
       "<matplotlib.figure.Figure at 0x7f6444214a20>"
      ]
     },
     "metadata": {},
     "output_type": "display_data"
    }
   ],
   "source": [
    "cavi_resid = data_set.x - data_set.get_prediction(cavi_params)\n",
    "tr_resid = data_set.x - data_set.get_prediction(tr_params)\n",
    "true_resid = data_set.x - np.matmul(Z, A)\n",
    "\n",
    "plt.figure()\n",
    "col = 0\n",
    "plt.plot(data_set.x[:, col], tr_resid[:, col], '.b')\n",
    "plt.plot(data_set.x[:, col], cavi_resid[:, col], '.r')\n",
    "plt.plot(data_set.x[:, col], true_resid[:, col], '.g')\n",
    "plt.plot(data_set.x[:, col], np.full_like(data_set.x[:, col], 0.), 'k')\n",
    "\n",
    "print('Cavi residuals: {}    Trust residuals: {}      True residuals: {}'.format(\n",
    "       np.sum(np.abs(cavi_resid)), np.sum(np.abs(tr_resid)), np.sum(np.abs(true_resid))))\n"
   ]
  },
  {
   "cell_type": "code",
   "execution_count": 13,
   "metadata": {},
   "outputs": [
    {
     "name": "stdout",
     "output_type": "stream",
     "text": [
      "0.004901885986328125\n"
     ]
    }
   ],
   "source": [
    "def get_moments(params, data_set):\n",
    "    # Return moments of interest.\n",
    "    tau, phi_mu, phi_var, nu = data_set.unpack_params(params)\n",
    "    e_log_pi, e_log_pi2, e_mu, phi_moment2, nu_moment = \\\n",
    "        vi.get_moments(tau, nu, phi_mu, phi_var)\n",
    "    return e_log_pi, e_mu\n",
    "\n",
    "def get_moments_vector(params, data_set):\n",
    "    e_log_pi, e_mu = get_moments(params, data_set)\n",
    "    return packing.pack_moments(e_log_pi, e_mu)\n",
    "\n",
    "get_moments_vector_jac = jacobian(get_moments_vector)\n",
    "\n",
    "jac_time = time.time()\n",
    "moment_jac = get_moments_vector_jac(tr_params, data_set)\n",
    "jac_time = time.time() - jac_time\n",
    "print (jac_time)\n",
    "\n",
    "par_hp_hess_time = time.time()\n",
    "par_hp_hess = data_set.get_kl_sens_hess(tr_params, hyper_params)\n",
    "par_hp_hess_time = time.time() - par_hp_hess_time\n"
   ]
  },
  {
   "cell_type": "code",
   "execution_count": 14,
   "metadata": {},
   "outputs": [
    {
     "name": "stdout",
     "output_type": "stream",
     "text": [
      "0.9084982872009277\n"
     ]
    }
   ],
   "source": [
    "hess_time = time.time()\n",
    "kl_hess = data_set.get_kl_hessian(tr_params)\n",
    "hess_time = time.time() - hess_time\n",
    "kl_hess_eigvals = np.linalg.eigvals(kl_hess)\n",
    "print (hess_time)"
   ]
  },
  {
   "cell_type": "code",
   "execution_count": 16,
   "metadata": {},
   "outputs": [
    {
     "name": "stdout",
     "output_type": "stream",
     "text": [
      "54.2614057426\n",
      "1.03513410166e-08\n"
     ]
    }
   ],
   "source": [
    "print (np.max(kl_hess_eigvals))\n",
    "print (np.min(kl_hess_eigvals))"
   ]
  },
  {
   "cell_type": "code",
   "execution_count": 17,
   "metadata": {},
   "outputs": [
    {
     "name": "stdout",
     "output_type": "stream",
     "text": [
      "[[  1.12501005e-04   1.86003668e-06  -2.56665507e-04]\n",
      " [  4.09855740e-02  -6.03339415e-04  -2.87894062e-01]\n",
      " [  3.91682596e-02  -1.23243371e-03  -1.53586159e-01]\n",
      " [ -8.63911960e-03  -5.55461015e-04   2.22115044e-01]\n",
      " [ -1.68700183e-02   3.88891239e-03  -4.00999007e-01]\n",
      " [  1.10218781e-02  -5.31873387e-03  -4.98326998e-02]\n",
      " [  8.47996973e-03   2.59973728e-03  -2.87594896e-01]\n",
      " [  8.48716794e-03  -4.97309285e-03   3.34899443e-01]\n",
      " [  1.04937411e-02  -8.77489014e-03   3.49006424e-01]]\n"
     ]
    }
   ],
   "source": [
    "# Eq. 18 from our paper.  The -1 comes from the fact that par_hp_hess is of the\n",
    "# KL divergence, not the expected log probability.\n",
    "sensitivity_operator = -1 * np.linalg.solve(kl_hess, par_hp_hess.T)\n",
    "moment_sensitivity = np.matmul(moment_jac, sensitivity_operator)\n",
    "\n",
    "print(moment_sensitivity)"
   ]
  },
  {
   "cell_type": "code",
   "execution_count": 18,
   "metadata": {},
   "outputs": [
    {
     "name": "stdout",
     "output_type": "stream",
     "text": [
      "Sensitivity of e_log_pi to sigma_eps:\n",
      "[ -2.56665507e-04  -2.87894062e-01  -1.53586159e-01]\n",
      "Sensitivity of e_mu to sigma_eps:\n",
      "[[ 0.22211504 -0.40099901 -0.0498327 ]\n",
      " [-0.2875949   0.33489944  0.34900642]]\n"
     ]
    }
   ],
   "source": [
    "# The third column is sigma_eps.\n",
    "\n",
    "sigma_eps_col = 2\n",
    "e_log_pi_sigma_eps_sens, e_mu_sigma_eps_sens = \\\n",
    "    packing.unpack_moments(moment_sensitivity[:, sigma_eps_col], k_approx, D)\n",
    "    \n",
    "print('Sensitivity of e_log_pi to sigma_eps:')\n",
    "print(e_log_pi_sigma_eps_sens)\n",
    "\n",
    "print('Sensitivity of e_mu to sigma_eps:')\n",
    "print(e_mu_sigma_eps_sens)"
   ]
  },
  {
   "cell_type": "code",
   "execution_count": 19,
   "metadata": {},
   "outputs": [
    {
     "name": "stdout",
     "output_type": "stream",
     "text": [
      "Step 0 objective: -309.3501580396163\n",
      "Step 1 objective: -309.4286344030809\n",
      "Step 2 objective: -309.4349710358883\n",
      "Step 3 objective: -309.4516077984229\n",
      "Step 4 objective: -309.46078156650594\n",
      "Step 5 objective: -309.4682510308509\n",
      "Step 6 objective: -309.47102815463074\n",
      "Step 7 objective: -309.4720458182407\n",
      "Step 8 objective: -309.4724678487112\n",
      "Step 9 objective: -309.47246791249415\n",
      "Step 10 objective: -309.47259243782185\n",
      "Step 11 objective: -309.4725932664295\n",
      "Step 12 objective: -309.4726104855678\n",
      "Step 13 objective: -309.47263159987915\n",
      "Step 14 objective: -309.47262507740436\n",
      "Step 15 objective: -309.4726371656764\n",
      "Step 16 objective: -309.4726381633643\n",
      "Step 17 objective: -309.4726395405158\n",
      "Step 18 objective: -309.4726388606502\n",
      "Step 19 objective: -309.4726399875748\n",
      "Step 20 objective: -309.47263997088703\n",
      "Step 21 objective: -309.4726400656866\n",
      "Step 22 objective: -309.4726400732773\n",
      "Optimization terminated successfully.\n",
      "         Current function value: -309.472640\n",
      "         Iterations: 22\n",
      "         Function evaluations: 23\n",
      "         Gradient evaluations: 19\n",
      "         Hessian evaluations: 0\n",
      "Done with Newton trust region.\n"
     ]
    }
   ],
   "source": [
    "# Perturb and re-rerun to check the sensitivity.\n",
    "\n",
    "epsilon = 1e-1\n",
    "data_set_perturb = DataSet(X, k_approx, alpha, sigma_eps + epsilon, sigma_a)\n",
    "data_set_perturb.trace.print_every = 1\n",
    "vb_opt_perturb = data_set_perturb.run_newton_tr(tr_params)"
   ]
  },
  {
   "cell_type": "code",
   "execution_count": 20,
   "metadata": {},
   "outputs": [
    {
     "name": "stdout",
     "output_type": "stream",
     "text": [
      "Measured sensitivity of e_mu to sigma_eps:\n",
      "[[ 0.21065073 -0.42696367 -0.03390204]\n",
      " [-0.28627406  0.37698007  0.3993301 ]]\n",
      "Sensitivity of e_mu to sigma_eps:\n",
      "[[ 0.22211504 -0.40099901 -0.0498327 ]\n",
      " [-0.2875949   0.33489944  0.34900642]]\n",
      "Measured sensitivity of e_log_pi to sigma_eps:\n",
      "[-0.00032035 -0.26459737 -0.1422972 ]\n",
      "Sensitivity of e_log_pi to sigma_eps:\n",
      "[ -2.56665507e-04  -2.87894062e-01  -1.53586159e-01]\n"
     ]
    }
   ],
   "source": [
    "e_log_pi, e_mu = get_moments(tr_params, data_set)\n",
    "e_log_pi_perturb, e_mu_perturb = get_moments(vb_opt_perturb.x, data_set)\n",
    "\n",
    "print('Measured sensitivity of e_mu to sigma_eps:')\n",
    "print((e_mu_perturb - e_mu) / epsilon)\n",
    "\n",
    "print('Sensitivity of e_mu to sigma_eps:')\n",
    "print(e_mu_sigma_eps_sens)\n",
    "\n",
    "print('Measured sensitivity of e_log_pi to sigma_eps:')\n",
    "print((e_log_pi_perturb - e_log_pi) / epsilon)\n",
    "\n",
    "print('Sensitivity of e_log_pi to sigma_eps:')\n",
    "print(e_log_pi_sigma_eps_sens)"
   ]
  }
 ],
 "metadata": {
  "kernelspec": {
   "display_name": "Python 3",
   "language": "python",
   "name": "python3"
  },
  "language_info": {
   "codemirror_mode": {
    "name": "ipython",
    "version": 3
   },
   "file_extension": ".py",
   "mimetype": "text/x-python",
   "name": "python",
   "nbconvert_exporter": "python",
   "pygments_lexer": "ipython3",
   "version": "3.5.2"
  }
 },
 "nbformat": 4,
 "nbformat_minor": 2
}
