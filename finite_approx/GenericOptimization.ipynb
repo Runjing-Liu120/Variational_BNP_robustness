{
 "cells": [
  {
   "cell_type": "code",
   "execution_count": 1,
   "metadata": {
    "collapsed": false
   },
   "outputs": [],
   "source": [
    "import autograd.numpy as np\n",
    "import autograd.scipy as sp\n",
    "from autograd.scipy import special\n",
    "from autograd import grad, hessian, hessian_vector_product, hessian, jacobian\n",
    "import matplotlib.pyplot as plt\n",
    "%matplotlib inline  \n",
    "\n",
    "from copy import deepcopy\n",
    "\n",
    "from scipy import optimize\n",
    "\n",
    "import time\n",
    "\n",
    "import valez_finite_VI_lib as vi\n",
    "import data_set_lib as ds\n",
    "import generic_optimization_lib as packing"
   ]
  },
  {
   "cell_type": "code",
   "execution_count": 2,
   "metadata": {
    "collapsed": false
   },
   "outputs": [],
   "source": [
    "#np.random.seed(12321)\n",
    "\n",
    "alpha = 10 # IBP parameter\n",
    "\n",
    "num_samples = 50 # sample size\n",
    "D = 2 # dimension\n",
    "\n",
    "sigma_a = 3.0 ** 2\n",
    "\n",
    "sigma_eps = 1.0 ** 2 # variance of noise\n",
    "\n",
    "k_inf = 3 # take to be large for a good approximation to the IBP\n",
    "\n",
    "pi, Z, mu, A, X = vi.generate_data(num_samples, D, k_inf, sigma_a, sigma_eps, alpha)\n",
    "k_approx = k_inf # variational truncation\n",
    "\n",
    "tau_init, nu_init, phi_mu_init, phi_var_init = \\\n",
    "    vi.initialize_parameters(num_samples, D, k_approx)\n",
    "\n",
    "params_init = packing.pack_params(deepcopy(tau_init), deepcopy(phi_mu_init),\n",
    "                                  deepcopy(phi_var_init), deepcopy(nu_init))\n",
    "\n",
    "hyper_params = packing.pack_hyperparameters(alpha, sigma_a, sigma_eps)\n",
    "\n",
    "data_set = ds.DataSet(X, k_approx, alpha, sigma_eps, sigma_a)"
   ]
  },
  {
   "cell_type": "code",
   "execution_count": 3,
   "metadata": {
    "collapsed": false
   },
   "outputs": [
    {
     "data": {
      "image/png": "[encoded data removed]",
      "text/plain": [
       "<matplotlib.figure.Figure at 0x7f2cc61ebcf8>"
      ]
     },
     "metadata": {},
     "output_type": "display_data"
    },
    {
     "data": {
      "image/png": "[encoded data removed]",
      "text/plain": [
       "<matplotlib.figure.Figure at 0x7f2cc6200828>"
      ]
     },
     "metadata": {},
     "output_type": "display_data"
    }
   ],
   "source": [
    "col = 0\n",
    "plt.figure()\n",
    "plt.hist(data_set.x[:, col], bins=100);\n",
    "\n",
    "col1 = 0\n",
    "col2 = 1\n",
    "plt.figure()\n",
    "plt.plot(data_set.x[:, col1], data_set.x[:, col2], 'k.');"
   ]
  },
  {
   "cell_type": "code",
   "execution_count": 4,
   "metadata": {
    "collapsed": true
   },
   "outputs": [],
   "source": [
    "# Parameters approximating the true distribution\n",
    "\n",
    "tau_true = np.zeros_like(tau_init)\n",
    "tau_true_scale = 15.\n",
    "tau_true[:, 0] = deepcopy(pi) * tau_true_scale\n",
    "tau_true[:, 1] = tau_true_scale\n",
    "\n",
    "nu_true = np.zeros_like(nu_init)\n",
    "nu_true[Z == 1] = 0.999\n",
    "nu_true[Z == 0] = 0.001\n",
    "\n",
    "phi_mu_true = np.zeros_like(phi_mu_init)\n",
    "phi_mu_true[:] = A.transpose()\n",
    "phi_var_true = np.zeros_like(phi_var_init)\n",
    "phi_var_true[:] = 0.01\n",
    "\n",
    "params_true = packing.pack_params(deepcopy(tau_true), deepcopy(phi_mu_true),\n",
    "                                  deepcopy(phi_var_true), deepcopy(nu_true))"
   ]
  },
  {
   "cell_type": "code",
   "execution_count": 5,
   "metadata": {
    "collapsed": false
   },
   "outputs": [
    {
     "name": "stdout",
     "output_type": "stream",
     "text": [
      "Step 0 objective: 52.16238767374356\n",
      "Step 10 objective: 0.1471516878367467\n",
      "Step 20 objective: 0.19761607506155343\n",
      "Step 30 objective: 0.07108547012193611\n",
      "Step 40 objective: 0.030916752423273408\n",
      "Step 50 objective: 0.015141765938309959\n",
      "Step 60 objective: 0.007918386926590415\n",
      "Step 70 objective: 0.004302019468767071\n",
      "Step 80 objective: 0.002391016153758585\n",
      "Step 90 objective: 0.001347413130723396\n",
      "Warning: CAVI reached max_iter.\n",
      "Done with CAVI.\n"
     ]
    }
   ],
   "source": [
    "true_init = False\n",
    "if true_init:\n",
    "    tau, phi_mu, phi_var, nu = data_set.unpack_params(params_true)\n",
    "else:\n",
    "    tau, phi_mu, phi_var, nu = data_set.unpack_params(params_init)\n",
    "\n",
    "tau, nu, phi_mu, phi_var = data_set.run_cavi(tau, nu, phi_mu, phi_var, max_iter=100, tol=1e-6)\n",
    "\n",
    "cavi_tau = deepcopy(tau)\n",
    "cavi_phi_mu = deepcopy(phi_mu)\n",
    "cavi_phi_var = deepcopy(phi_var)\n",
    "cavi_nu = deepcopy(nu)"
   ]
  },
  {
   "cell_type": "code",
   "execution_count": 6,
   "metadata": {
    "collapsed": false
   },
   "outputs": [
    {
     "name": "stdout",
     "output_type": "stream",
     "text": [
      "True\n"
     ]
    }
   ],
   "source": [
    "# CAVI can return nu values that are too close to 0 or 1 for the encoding.\n",
    "nu_tol = 1e-8\n",
    "cavi_nu_trim = deepcopy(cavi_nu)\n",
    "cavi_nu_trim[cavi_nu_trim < nu_tol] = nu_tol\n",
    "cavi_nu_trim[cavi_nu_trim > 1 - nu_tol] = 1 - nu_tol\n",
    "\n",
    "cavi_params = packing.pack_params(cavi_tau, cavi_phi_mu, cavi_phi_var, cavi_nu_trim)\n",
    "print(np.all(np.isfinite(cavi_params)))"
   ]
  },
  {
   "cell_type": "code",
   "execution_count": 7,
   "metadata": {
    "collapsed": false
   },
   "outputs": [
    {
     "name": "stdout",
     "output_type": "stream",
     "text": [
      "Step 0 objective: -4525.592711619555\n",
      "Optimization terminated successfully.\n",
      "         Current function value: -4525.592777\n",
      "         Iterations: 1\n",
      "         Function evaluations: 2\n",
      "         Gradient evaluations: 2\n",
      "         Hessian evaluations: 0\n",
      "Done with Newton trust region.\n"
     ]
    }
   ],
   "source": [
    "data_set.trace.reset()\n",
    "vb_opt = data_set.run_newton_tr(cavi_params, maxiter=50, gtol=1e-2)\n",
    "tr_params = deepcopy(vb_opt.x)\n",
    "tr_tau, tr_phi_mu, tr_phi_var, tr_nu = data_set.unpack_params(tr_params)\n"
   ]
  },
  {
   "cell_type": "code",
   "execution_count": 8,
   "metadata": {
    "collapsed": false
   },
   "outputs": [
    {
     "name": "stdout",
     "output_type": "stream",
     "text": [
      "CAVI:\n",
      "[[-6.14194213  7.92651977]\n",
      " [ 1.58560775  2.98501978]\n",
      " [-1.79993812  2.27366494]]\n",
      "Full TR:\n",
      "[[-6.14111798  7.9215144 ]\n",
      " [ 1.58575707  2.98431445]\n",
      " [-1.80083173  2.27891657]]\n",
      "Truth:\n",
      "[[ 0.64264992  5.8714013 ]\n",
      " [-8.45552441  4.23553122]\n",
      " [ 2.04379324  3.17826563]]\n"
     ]
    }
   ],
   "source": [
    "print ('CAVI:')\n",
    "print (cavi_phi_mu.transpose())\n",
    "\n",
    "print ('Full TR:')\n",
    "tau, phi_mu, phi_var, nu = data_set.unpack_params(tr_params)\n",
    "print (phi_mu.transpose())\n",
    "\n",
    "print ('Truth:')\n",
    "print (A)"
   ]
  },
  {
   "cell_type": "code",
   "execution_count": 9,
   "metadata": {
    "collapsed": false
   },
   "outputs": [
    {
     "name": "stdout",
     "output_type": "stream",
     "text": [
      "Cavi residuals: 58.382597834378515    Trust residuals: 58.37930309918275      True residuals: 75.96053856147111\n"
     ]
    },
    {
     "data": {
      "image/png": "[encoded data removed]",
      "text/plain": [
       "<matplotlib.figure.Figure at 0x7f2cc3e71b00>"
      ]
     },
     "metadata": {},
     "output_type": "display_data"
    }
   ],
   "source": [
    "cavi_resid = data_set.x - data_set.get_prediction(cavi_params)\n",
    "tr_resid = data_set.x - data_set.get_prediction(tr_params)\n",
    "true_resid = data_set.x - np.matmul(Z, A)\n",
    "\n",
    "plt.figure()\n",
    "col = 0\n",
    "plt.plot(data_set.x[:, col], tr_resid[:, col], '.b')\n",
    "plt.plot(data_set.x[:, col], cavi_resid[:, col], '.r')\n",
    "plt.plot(data_set.x[:, col], true_resid[:, col], '.g')\n",
    "plt.plot(data_set.x[:, col], np.full_like(data_set.x[:, col], 0.), 'k')\n",
    "\n",
    "print('Cavi residuals: {}    Trust residuals: {}      True residuals: {}'.format(\n",
    "       np.sum(np.abs(cavi_resid)), np.sum(np.abs(tr_resid)), np.sum(np.abs(true_resid))))\n"
   ]
  },
  {
   "cell_type": "code",
   "execution_count": 10,
   "metadata": {
    "collapsed": false
   },
   "outputs": [],
   "source": [
    "def get_moments(params, data_set):\n",
    "    # Return moments of interest.\n",
    "    tau, phi_mu, phi_var, nu = data_set.unpack_params(params)\n",
    "    e_log_pi, e_log_pi2, e_mu, phi_moment2, nu_moment = \\\n",
    "        vi.get_moments(tau, nu, phi_mu, phi_var)\n",
    "    return e_log_pi, e_mu\n",
    "\n",
    "def get_moments_vector(params, data_set):\n",
    "    e_log_pi, e_mu = get_moments(params, data_set)\n",
    "    return packing.pack_moments(e_log_pi, e_mu)\n",
    "\n",
    "get_moments_vector_jac = jacobian(get_moments_vector)\n",
    "\n",
    "jac_time = time.time()\n",
    "moment_jac = get_moments_vector_jac(tr_params, data_set)\n",
    "jac_time = time.time() - jac_time\n",
    "\n",
    "par_hp_hess_time = time.time()\n",
    "par_hp_hess = data_set.get_kl_sens_hess(tr_params, hyper_params)\n",
    "par_hp_hess_time = time.time() - par_hp_hess_time\n"
   ]
  },
  {
   "cell_type": "code",
   "execution_count": 11,
   "metadata": {
    "collapsed": false
   },
   "outputs": [
    {
     "name": "stdout",
     "output_type": "stream",
     "text": [
      "2.152881622314453\n"
     ]
    }
   ],
   "source": [
    "hess_time = time.time()\n",
    "kl_hess = data_set.get_kl_hessian(tr_params)\n",
    "hess_time = time.time() - hess_time\n",
    "kl_hess_eigvals = np.linalg.eigvals(kl_hess)\n",
    "print (hess_time)"
   ]
  },
  {
   "cell_type": "code",
   "execution_count": 12,
   "metadata": {
    "collapsed": false
   },
   "outputs": [
    {
     "name": "stdout",
     "output_type": "stream",
     "text": [
      "108.44636589\n",
      "2.36056780667e-07\n"
     ]
    }
   ],
   "source": [
    "print (np.max(kl_hess_eigvals))\n",
    "print (np.min(kl_hess_eigvals))"
   ]
  },
  {
   "cell_type": "code",
   "execution_count": 13,
   "metadata": {
    "collapsed": false
   },
   "outputs": [
    {
     "name": "stdout",
     "output_type": "stream",
     "text": [
      "[[  2.38896379e-04   8.22388969e-11  -1.43227039e-08]\n",
      " [  6.37665035e-03  -1.34355624e-05  -2.44076347e-02]\n",
      " [  8.52269728e-04  -9.27578214e-04   6.50212941e-02]\n",
      " [  1.59617736e-03  -1.79809349e-02   2.66830999e-01]\n",
      " [  2.23087491e-04   2.18634347e-03  -5.22968245e-02]\n",
      " [ -2.24546228e-03   1.47722875e-02  -9.67789471e-02]\n",
      " [ -2.69039695e-03   2.76073441e-02  -4.54786668e-01]\n",
      " [  3.58860632e-04   2.80310379e-03  -2.27843950e-01]\n",
      " [  1.26107290e-04  -2.67324948e-02   4.72731287e-01]]\n"
     ]
    },
    {
     "data": {
      "text/plain": [
       "(9, 3)"
      ]
     },
     "execution_count": 13,
     "metadata": {},
     "output_type": "execute_result"
    }
   ],
   "source": [
    "# Eq. 18 from our paper.  The -1 comes from the fact that par_hp_hess is of the\n",
    "# KL divergence, not the expected log probability.\n",
    "sensitivity_operator = -1 * np.linalg.solve(kl_hess, par_hp_hess.T)\n",
    "moment_sensitivity = np.matmul(moment_jac, sensitivity_operator)\n",
    "\n",
    "print(moment_sensitivity)\n",
    "np.shape(moment_sensitivity)"
   ]
  },
  {
   "cell_type": "code",
   "execution_count": 14,
   "metadata": {
    "collapsed": false
   },
   "outputs": [
    {
     "name": "stdout",
     "output_type": "stream",
     "text": [
      "Sensitivity of e_log_pi to sigma_eps:\n",
      "[ -1.43227039e-08  -2.44076347e-02   6.50212941e-02]\n",
      "Sensitivity of e_mu to sigma_eps:\n",
      "[[ 0.266831   -0.05229682 -0.09677895]\n",
      " [-0.45478667 -0.22784395  0.47273129]]\n"
     ]
    }
   ],
   "source": [
    "# The third column is sigma_eps.\n",
    "\n",
    "sigma_eps_col = 2\n",
    "e_log_pi_sigma_eps_sens, e_mu_sigma_eps_sens = \\\n",
    "    packing.unpack_moments(moment_sensitivity[:, sigma_eps_col], k_approx, D)\n",
    "    \n",
    "print('Sensitivity of e_log_pi to sigma_eps:')\n",
    "print(e_log_pi_sigma_eps_sens)\n",
    "\n",
    "print('Sensitivity of e_mu to sigma_eps:')\n",
    "print(e_mu_sigma_eps_sens)"
   ]
  },
  {
   "cell_type": "code",
   "execution_count": 15,
   "metadata": {
    "collapsed": false
   },
   "outputs": [
    {
     "data": {
      "text/plain": [
       "'\\nepsilon = 1e-1\\ndata_set_perturb = ds.DataSet(X, k_approx, alpha, sigma_eps + epsilon, sigma_a)\\ndata_set_perturb.trace.print_every = 1\\nvb_opt_perturb = data_set_perturb.run_newton_tr(tr_params)'"
      ]
     },
     "execution_count": 15,
     "metadata": {},
     "output_type": "execute_result"
    }
   ],
   "source": [
    "# Perturb and re-rerun to check the sensitivity.\n",
    "\"\"\"\n",
    "epsilon = 1e-1\n",
    "data_set_perturb = ds.DataSet(X, k_approx, alpha, sigma_eps + epsilon, sigma_a)\n",
    "data_set_perturb.trace.print_every = 1\n",
    "vb_opt_perturb = data_set_perturb.run_newton_tr(tr_params)\"\"\""
   ]
  },
  {
   "cell_type": "code",
   "execution_count": 16,
   "metadata": {
    "collapsed": false,
    "scrolled": false
   },
   "outputs": [
    {
     "data": {
      "text/plain": [
       "\"e_log_pi, e_mu = get_moments(tr_params, data_set)\\ne_log_pi_perturb, e_mu_perturb = get_moments(vb_opt_perturb.x, data_set)\\n\\nprint('Measured sensitivity of e_mu to sigma_eps:')\\nprint((e_mu_perturb - e_mu) / epsilon)\\n\\nprint('Sensitivity of e_mu to sigma_eps:')\\nprint(e_mu_sigma_eps_sens)\\n\\nprint('Measured sensitivity of e_log_pi to sigma_eps:')\\nprint((e_log_pi_perturb - e_log_pi) / epsilon)\\n\\nprint('Sensitivity of e_log_pi to sigma_eps:')\\nprint(e_log_pi_sigma_eps_sens)\""
      ]
     },
     "execution_count": 16,
     "metadata": {},
     "output_type": "execute_result"
    }
   ],
   "source": [
    "\"\"\"e_log_pi, e_mu = get_moments(tr_params, data_set)\n",
    "e_log_pi_perturb, e_mu_perturb = get_moments(vb_opt_perturb.x, data_set)\n",
    "\n",
    "print('Measured sensitivity of e_mu to sigma_eps:')\n",
    "print((e_mu_perturb - e_mu) / epsilon)\n",
    "\n",
    "print('Sensitivity of e_mu to sigma_eps:')\n",
    "print(e_mu_sigma_eps_sens)\n",
    "\n",
    "print('Measured sensitivity of e_log_pi to sigma_eps:')\n",
    "print((e_log_pi_perturb - e_log_pi) / epsilon)\n",
    "\n",
    "print('Sensitivity of e_log_pi to sigma_eps:')\n",
    "print(e_log_pi_sigma_eps_sens)\"\"\""
   ]
  },
  {
   "cell_type": "code",
   "execution_count": 27,
   "metadata": {
    "collapsed": true
   },
   "outputs": [],
   "source": [
    "# influence function\n",
    "jac_variational_log_lh = jacobian(data_set.get_variational_log_lh, 0)\n",
    "\n",
    "def g_bar(A, Z, pi): \n",
    "    tmp = np.linalg.solve(kl_hess, jac_variational_log_lh(tr_params, A, Z, pi))\n",
    "    return np.dot(moment_jac, tmp)\n",
    "\n",
    "def Influence_q(A, Z, pi, alpha, k_approx, sigma_a): \n",
    "    return np.exp(data_set.get_variational_log_lh(tr_params, A, Z, pi) \\\n",
    "                      - ds.log_p0_all(A, Z, pi, alpha, k_approx, sigma_a)) * g_bar(A, Z, pi)"
   ]
  },
  {
   "cell_type": "code",
   "execution_count": 30,
   "metadata": {
    "collapsed": false
   },
   "outputs": [
    {
     "name": "stdout",
     "output_type": "stream",
     "text": [
      "(165,)\n"
     ]
    },
    {
     "data": {
      "text/plain": [
       "array([-0.,  0., -0., -0., -0.,  0.,  0.,  0., -0.])"
      ]
     },
     "execution_count": 30,
     "metadata": {},
     "output_type": "execute_result"
    }
   ],
   "source": [
    "Influence_q(A, Z, pi, alpha, k_approx, sigma_a)"
   ]
  },
  {
   "cell_type": "code",
   "execution_count": null,
   "metadata": {
    "collapsed": true
   },
   "outputs": [],
   "source": []
  }
 ],
 "metadata": {
  "kernelspec": {
   "display_name": "Python 3",
   "language": "python",
   "name": "python3"
  },
  "language_info": {
   "codemirror_mode": {
    "name": "ipython",
    "version": 3
   },
   "file_extension": ".py",
   "mimetype": "text/x-python",
   "name": "python",
   "nbconvert_exporter": "python",
   "pygments_lexer": "ipython3",
   "version": "3.6.0"
  }
 },
 "nbformat": 4,
 "nbformat_minor": 2
}
