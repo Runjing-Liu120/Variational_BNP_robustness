{
 "cells": [
  {
   "cell_type": "code",
   "execution_count": 1,
   "metadata": {
    "collapsed": true
   },
   "outputs": [],
   "source": [
    "import autograd.numpy as np\n",
    "import autograd.scipy as sp\n",
    "from autograd.scipy import special\n",
    "from autograd import grad, hessian, hessian_vector_product, hessian, jacobian\n",
    "import matplotlib.pyplot as plt\n",
    "%matplotlib inline  \n",
    "\n",
    "from copy import deepcopy\n",
    "\n",
    "from scipy import optimize\n",
    "\n",
    "import time\n",
    "\n",
    "import valez_finite_VI_lib as vi\n",
    "from data_set_lib import DataSet\n",
    "import generic_optimization_lib as packing"
   ]
  },
  {
   "cell_type": "code",
   "execution_count": 2,
   "metadata": {},
   "outputs": [],
   "source": [
    "#np.random.seed(12321)\n",
    "\n",
    "alpha = 10 # IBP parameter\n",
    "\n",
    "num_samples = 50 # sample size\n",
    "D = 2 # dimension\n",
    "\n",
    "sigma_a = 3.0 ** 2\n",
    "\n",
    "sigma_eps = 1.0 ** 2 # variance of noise\n",
    "\n",
    "k_inf = 3 # take to be large for a good approximation to the IBP\n",
    "\n",
    "pi, Z, mu, A, X = vi.generate_data(num_samples, D, k_inf, sigma_a, sigma_eps, alpha)\n",
    "\n",
    "k_approx = k_inf # variational truncation\n",
    "\n",
    "tau_init, nu_init, phi_mu_init, phi_var_init = \\\n",
    "    vi.initialize_parameters(num_samples, D, k_approx)\n",
    "\n",
    "params_init = packing.pack_params(deepcopy(tau_init), deepcopy(phi_mu_init),\n",
    "                                  deepcopy(phi_var_init), deepcopy(nu_init))\n",
    "\n",
    "hyper_params = packing.pack_hyperparameters(alpha, sigma_a, sigma_eps)\n",
    "\n",
    "data_set = DataSet(X, k_approx, alpha, sigma_eps, sigma_a)"
   ]
  },
  {
   "cell_type": "code",
   "execution_count": 3,
   "metadata": {},
   "outputs": [
    {
     "data": {
      "image/png": "[encoded data removed]",
      "text/plain": [
       "<matplotlib.figure.Figure at 0x7f9123283c10>"
      ]
     },
     "metadata": {},
     "output_type": "display_data"
    },
    {
     "data": {
      "image/png": "[encoded data removed]",
      "text/plain": [
       "<matplotlib.figure.Figure at 0x7f9120fb9410>"
      ]
     },
     "metadata": {},
     "output_type": "display_data"
    }
   ],
   "source": [
    "col = 0\n",
    "plt.figure()\n",
    "plt.hist(data_set.x[:, col], bins=100);\n",
    "\n",
    "col1 = 0\n",
    "col2 = 1\n",
    "plt.figure()\n",
    "plt.plot(data_set.x[:, col1], data_set.x[:, col2], 'k.');"
   ]
  },
  {
   "cell_type": "code",
   "execution_count": 4,
   "metadata": {
    "collapsed": true
   },
   "outputs": [],
   "source": [
    "# Parameters approximating the true distribution\n",
    "\n",
    "tau_true = np.zeros_like(tau_init)\n",
    "tau_true_scale = 15.\n",
    "tau_true[:, 0] = deepcopy(pi) * tau_true_scale\n",
    "tau_true[:, 1] = tau_true_scale\n",
    "\n",
    "nu_true = np.zeros_like(nu_init)\n",
    "nu_true[Z == 1] = 0.999\n",
    "nu_true[Z == 0] = 0.001\n",
    "\n",
    "phi_mu_true = np.zeros_like(phi_mu_init)\n",
    "phi_mu_true[:] = A.transpose()\n",
    "phi_var_true = np.zeros_like(phi_var_init)\n",
    "phi_var_true[:] = 0.01\n",
    "\n",
    "params_true = packing.pack_params(deepcopy(tau_true), deepcopy(phi_mu_true),\n",
    "                                  deepcopy(phi_var_true), deepcopy(nu_true))"
   ]
  },
  {
   "cell_type": "code",
   "execution_count": 5,
   "metadata": {},
   "outputs": [
    {
     "name": "stdout",
     "output_type": "stream",
     "text": [
      "Step 0 objective: 41.5780858898\n",
      "Step 10 objective: 0.676431230231\n",
      "Step 20 objective: 0.299375589172\n",
      "Step 30 objective: 0.188194247267\n",
      "Step 40 objective: 0.0760444242606\n",
      "Step 50 objective: 0.0332326824101\n",
      "Step 60 objective: 0.0228314996735\n",
      "Step 70 objective: 0.0347292941911\n",
      "Step 80 objective: 0.0920327160079\n",
      "Step 90 objective: 0.297684988517\n",
      "Warning: CAVI reached max_iter.\n",
      "Done with CAVI.\n"
     ]
    }
   ],
   "source": [
    "true_init = False\n",
    "if true_init:\n",
    "    tau, phi_mu, phi_var, nu = data_set.unpack_params(params_true)\n",
    "else:\n",
    "    tau, phi_mu, phi_var, nu = data_set.unpack_params(params_init)\n",
    "\n",
    "tau, nu, phi_mu, phi_var = data_set.run_cavi(tau, nu, phi_mu, phi_var, max_iter=100, tol=1e-6)\n",
    "\n",
    "cavi_tau = deepcopy(tau)\n",
    "cavi_phi_mu = deepcopy(phi_mu)\n",
    "cavi_phi_var = deepcopy(phi_var)\n",
    "cavi_nu = deepcopy(nu)"
   ]
  },
  {
   "cell_type": "code",
   "execution_count": 6,
   "metadata": {},
   "outputs": [
    {
     "name": "stdout",
     "output_type": "stream",
     "text": [
      "True\n"
     ]
    }
   ],
   "source": [
    "# CAVI can return nu values that are too close to 0 or 1 for the encoding.\n",
    "nu_tol = 1e-8\n",
    "cavi_nu_trim = deepcopy(cavi_nu)\n",
    "cavi_nu_trim[cavi_nu_trim < nu_tol] = nu_tol\n",
    "cavi_nu_trim[cavi_nu_trim > 1 - nu_tol] = 1 - nu_tol\n",
    "\n",
    "cavi_params = packing.pack_params(cavi_tau, cavi_phi_mu, cavi_phi_var, cavi_nu_trim)\n",
    "print np.all(np.isfinite(cavi_params))"
   ]
  },
  {
   "cell_type": "code",
   "execution_count": 7,
   "metadata": {},
   "outputs": [
    {
     "name": "stdout",
     "output_type": "stream",
     "text": [
      "Step 0 objective: -50.8656202753\n",
      "Optimization terminated successfully.\n",
      "         Current function value: -50.884758\n",
      "         Iterations: 4\n",
      "         Function evaluations: 5\n",
      "         Gradient evaluations: 5\n",
      "         Hessian evaluations: 0\n",
      "Done with Newton trust region.\n"
     ]
    }
   ],
   "source": [
    "data_set.trace.reset()\n",
    "vb_opt = data_set.run_newton_tr(cavi_params, maxiter=50, gtol=1e-2)\n",
    "tr_params = deepcopy(vb_opt.x)\n",
    "tr_tau, tr_phi_mu, tr_phi_var, tr_nu = data_set.unpack_params(tr_params)\n"
   ]
  },
  {
   "cell_type": "code",
   "execution_count": 8,
   "metadata": {},
   "outputs": [
    {
     "name": "stdout",
     "output_type": "stream",
     "text": [
      "CAVI:\n",
      "[[ 0.81315875  3.63510986]\n",
      " [ 1.78703409 -1.51123864]\n",
      " [-3.67810722 -0.76061231]]\n",
      "Full TR:\n",
      "[[ 0.82465142  3.6286426 ]\n",
      " [ 1.77641749 -1.50667871]\n",
      " [-3.69634944 -0.73376719]]\n",
      "Truth:\n",
      "[[ 0.11374193 -3.1534841 ]\n",
      " [-2.84509969  1.09534115]\n",
      " [ 2.45285567  2.18308503]]\n"
     ]
    }
   ],
   "source": [
    "print 'CAVI:'\n",
    "print cavi_phi_mu.transpose()\n",
    "\n",
    "print 'Full TR:'\n",
    "tau, phi_mu, phi_var, nu = data_set.unpack_params(tr_params)\n",
    "print phi_mu.transpose()\n",
    "\n",
    "print 'Truth:'\n",
    "print A"
   ]
  },
  {
   "cell_type": "code",
   "execution_count": 9,
   "metadata": {},
   "outputs": [
    {
     "name": "stdout",
     "output_type": "stream",
     "text": [
      "Cavi residuals: 66.5591204752    Trust residuals: 66.3803048198      True residuals: 79.8171999373\n"
     ]
    },
    {
     "data": {
      "image/png": "[encoded data removed]",
      "text/plain": [
       "<matplotlib.figure.Figure at 0x7f9120beb650>"
      ]
     },
     "metadata": {},
     "output_type": "display_data"
    }
   ],
   "source": [
    "cavi_resid = data_set.x - data_set.get_prediction(cavi_params)\n",
    "tr_resid = data_set.x - data_set.get_prediction(tr_params)\n",
    "true_resid = data_set.x - np.matmul(Z, A)\n",
    "\n",
    "plt.figure()\n",
    "col = 0\n",
    "plt.plot(data_set.x[:, col], tr_resid[:, col], '.b')\n",
    "plt.plot(data_set.x[:, col], cavi_resid[:, col], '.r')\n",
    "plt.plot(data_set.x[:, col], true_resid[:, col], '.g')\n",
    "plt.plot(data_set.x[:, col], np.full_like(data_set.x[:, col], 0.), 'k')\n",
    "\n",
    "print('Cavi residuals: {}    Trust residuals: {}      True residuals: {}'.format(\n",
    "       np.sum(np.abs(cavi_resid)), np.sum(np.abs(tr_resid)), np.sum(np.abs(true_resid))))\n"
   ]
  },
  {
   "cell_type": "code",
   "execution_count": 10,
   "metadata": {},
   "outputs": [
    {
     "name": "stdout",
     "output_type": "stream",
     "text": [
      "0.00756001472473\n"
     ]
    }
   ],
   "source": [
    "def get_moments(params, data_set):\n",
    "    # Return moments of interest.\n",
    "    tau, phi_mu, phi_var, nu = data_set.unpack_params(params)\n",
    "    e_log_pi, e_log_pi2, e_mu, phi_moment2, nu_moment = \\\n",
    "        vi.get_moments(tau, nu, phi_mu, phi_var)\n",
    "    return e_log_pi, e_mu\n",
    "\n",
    "def get_moments_vector(params, data_set):\n",
    "    e_log_pi, e_mu = get_moments(params, data_set)\n",
    "    return packing.pack_moments(e_log_pi, e_mu)\n",
    "\n",
    "get_moments_vector_jac = jacobian(get_moments_vector)\n",
    "\n",
    "jac_time = time.time()\n",
    "moment_jac = get_moments_vector_jac(tr_params, data_set)\n",
    "jac_time = time.time() - jac_time\n",
    "print jac_time\n",
    "\n",
    "par_hp_hess_time = time.time()\n",
    "par_hp_hess = data_set.get_kl_sens_hess(tr_params, hyper_params)\n",
    "par_hp_hess_time = time.time() - par_hp_hess_time\n"
   ]
  },
  {
   "cell_type": "code",
   "execution_count": 11,
   "metadata": {},
   "outputs": [
    {
     "name": "stdout",
     "output_type": "stream",
     "text": [
      "0.910593986511\n"
     ]
    }
   ],
   "source": [
    "hess_time = time.time()\n",
    "kl_hess = data_set.get_kl_hessian(tr_params)\n",
    "hess_time = time.time() - hess_time\n",
    "kl_hess_eigvals = np.linalg.eigvals(kl_hess)\n",
    "print hess_time"
   ]
  },
  {
   "cell_type": "code",
   "execution_count": 12,
   "metadata": {},
   "outputs": [
    {
     "name": "stdout",
     "output_type": "stream",
     "text": [
      "25.4657047136\n",
      "2.59224823921e-08\n"
     ]
    }
   ],
   "source": [
    "print np.max(kl_hess_eigvals)\n",
    "print np.min(kl_hess_eigvals)"
   ]
  },
  {
   "cell_type": "code",
   "execution_count": 13,
   "metadata": {},
   "outputs": [
    {
     "name": "stdout",
     "output_type": "stream",
     "text": [
      "[[  4.95378906e-02  -2.94609017e-03  -2.89413171e-03]\n",
      " [  2.04302937e-02   2.63037643e-03  -3.13469861e-01]\n",
      " [  1.87154254e-02  -2.31834495e-04  -2.15532812e-02]\n",
      " [ -1.94149068e-02  -1.02777850e-02   1.36526954e+00]\n",
      " [ -5.13851695e-03   2.36873127e-03  -2.59712947e-01]\n",
      " [ -4.09730024e-03  -6.35217410e-03   4.64841670e-01]\n",
      " [  2.39543864e-03   3.40357035e-02  -1.59592562e+00]\n",
      " [  8.35599015e-03  -2.82997247e-03   1.57159762e-01]\n",
      " [ -2.69753655e-03   4.36594507e-03  -1.10888230e-01]]\n"
     ]
    }
   ],
   "source": [
    "# Eq. 18 from our paper.  The -1 comes from the fact that par_hp_hess is of the\n",
    "# KL divergence, not the expected log probability.\n",
    "sensitivity_operator = -1 * np.linalg.solve(kl_hess, par_hp_hess.T)\n",
    "moment_sensitivity = np.matmul(moment_jac, sensitivity_operator)\n",
    "\n",
    "print(moment_sensitivity)"
   ]
  },
  {
   "cell_type": "code",
   "execution_count": 14,
   "metadata": {},
   "outputs": [
    {
     "name": "stdout",
     "output_type": "stream",
     "text": [
      "Sensitivity of e_log_pi to sigma_eps:\n",
      "[-0.00289413 -0.31346986 -0.02155328]\n",
      "Sensitivity of e_mu to sigma_eps:\n",
      "[[ 1.36526954 -0.25971295  0.46484167]\n",
      " [-1.59592562  0.15715976 -0.11088823]]\n"
     ]
    }
   ],
   "source": [
    "# The third column is sigma_eps.\n",
    "\n",
    "sigma_eps_col = 2\n",
    "e_log_pi_sigma_eps_sens, e_mu_sigma_eps_sens = \\\n",
    "    packing.unpack_moments(moment_sensitivity[:, sigma_eps_col], k_approx, D)\n",
    "    \n",
    "print('Sensitivity of e_log_pi to sigma_eps:')\n",
    "print(e_log_pi_sigma_eps_sens)\n",
    "\n",
    "print('Sensitivity of e_mu to sigma_eps:')\n",
    "print(e_mu_sigma_eps_sens)"
   ]
  },
  {
   "cell_type": "code",
   "execution_count": 15,
   "metadata": {},
   "outputs": [
    {
     "name": "stdout",
     "output_type": "stream",
     "text": [
      "Step 0 objective: -39.5982815817\n",
      "Step 1 objective: -39.6689336971\n",
      "Step 2 objective: -39.6711457819\n",
      "Step 3 objective: -39.7022969095\n",
      "Step 4 objective: -39.7208538183\n",
      "Step 5 objective: -39.7280851541\n",
      "Step 6 objective: -39.7328794085\n",
      "Step 7 objective: -39.7332171406\n",
      "Step 8 objective: -39.7338162919\n",
      "Step 9 objective: -39.7344967261\n",
      "Step 10 objective: -39.7348314438\n",
      "Step 11 objective: -39.7345991696\n",
      "Step 12 objective: -39.7350942448\n",
      "Step 13 objective: -39.7351142006\n",
      "Step 14 objective: -39.7351593834\n",
      "Step 15 objective: -39.7351761463\n",
      "Step 16 objective: -39.7351829\n",
      "Step 17 objective: -39.735191761\n",
      "Step 18 objective: -39.7351963253\n",
      "Step 19 objective: -39.7351970455\n",
      "Step 20 objective: -39.7351978609\n",
      "Step 21 objective: -39.7351983759\n",
      "Step 22 objective: -39.7351984068\n",
      "Optimization terminated successfully.\n",
      "         Current function value: -39.735198\n",
      "         Iterations: 22\n",
      "         Function evaluations: 23\n",
      "         Gradient evaluations: 21\n",
      "         Hessian evaluations: 0\n",
      "Done with Newton trust region.\n"
     ]
    }
   ],
   "source": [
    "# Perturb and re-rerun to check the sensitivity.\n",
    "\n",
    "epsilon = 1e-1\n",
    "data_set_perturb = DataSet(X, k_approx, alpha, sigma_eps + epsilon, sigma_a)\n",
    "data_set_perturb.trace.print_every = 1\n",
    "vb_opt_perturb = data_set_perturb.run_newton_tr(tr_params)"
   ]
  },
  {
   "cell_type": "code",
   "execution_count": 16,
   "metadata": {},
   "outputs": [
    {
     "name": "stdout",
     "output_type": "stream",
     "text": [
      "Measured sensitivity of e_mu to sigma_eps:\n",
      "[[ 1.24075624 -0.23673572  0.49970306]\n",
      " [-1.58209174  0.12153249 -0.11335899]]\n",
      "Sensitivity of e_mu to sigma_eps:\n",
      "[[ 1.36526954 -0.25971295  0.46484167]\n",
      " [-1.59592562  0.15715976 -0.11088823]]\n",
      "Measured sensitivity of e_log_pi to sigma_eps:\n",
      "[-0.00170424 -0.33789747 -0.02903424]\n",
      "Sensitivity of e_log_pi to sigma_eps:\n",
      "[-0.00289413 -0.31346986 -0.02155328]\n"
     ]
    }
   ],
   "source": [
    "e_log_pi, e_mu = get_moments(tr_params, data_set)\n",
    "e_log_pi_perturb, e_mu_perturb = get_moments(vb_opt_perturb.x, data_set)\n",
    "\n",
    "print('Measured sensitivity of e_mu to sigma_eps:')\n",
    "print((e_mu_perturb - e_mu) / epsilon)\n",
    "\n",
    "print('Sensitivity of e_mu to sigma_eps:')\n",
    "print(e_mu_sigma_eps_sens)\n",
    "\n",
    "print('Measured sensitivity of e_log_pi to sigma_eps:')\n",
    "print((e_log_pi_perturb - e_log_pi) / epsilon)\n",
    "\n",
    "print('Sensitivity of e_log_pi to sigma_eps:')\n",
    "print(e_log_pi_sigma_eps_sens)"
   ]
  }
 ],
 "metadata": {
  "kernelspec": {
   "display_name": "Python 3",
   "language": "python",
   "name": "python3"
  },
  "language_info": {
   "codemirror_mode": {
    "name": "ipython",
    "version": 2
   },
   "file_extension": ".py",
   "mimetype": "text/x-python",
   "name": "python",
   "nbconvert_exporter": "python",
   "pygments_lexer": "ipython2",
   "version": "2.7.12"
  }
 },
 "nbformat": 4,
 "nbformat_minor": 2
}
