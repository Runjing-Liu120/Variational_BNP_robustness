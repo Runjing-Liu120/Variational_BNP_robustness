{
 "cells": [
  {
   "cell_type": "markdown",
   "metadata": {},
   "source": [
    "# Collapsed Gibbs sampler for the finite IBP approximation"
   ]
  },
  {
   "cell_type": "code",
   "execution_count": 1,
   "metadata": {
    "collapsed": true
   },
   "outputs": [],
   "source": [
    "import numpy as np\n",
    "import scipy as sp\n",
    "\n",
    "import matplotlib.pyplot as plt\n",
    "from copy import deepcopy\n",
    "\n",
    "import VI_algorithms_lib\n",
    "import valez_finite_VI_lib\n",
    "\n"
   ]
  },
  {
   "cell_type": "markdown",
   "metadata": {},
   "source": [
    "## Draw data"
   ]
  },
  {
   "cell_type": "code",
   "execution_count": 2,
   "metadata": {
    "collapsed": true
   },
   "outputs": [],
   "source": [
    "np.random.seed(5365)\n",
    "\n",
    "Num_samples = 500 # sample size\n",
    "D = 2 # dimension\n",
    "# so X will be a N\\times D matrix\n",
    "\n",
    "K_inf = 3 # take to be large for a good approximation to the IBP\n",
    "\n",
    "alpha = 10 # IBP parameter\n",
    "\n",
    "# Parameters to draw A from MVN\n",
    "sigma_eps = .1 # variance of noise\n",
    "sigma_A = 100\n",
    "\n",
    "# generate data\n",
    "Pi, Z, mu, A, X = valez_finite_VI_lib.generate_data(Num_samples, D, K_inf, sigma_A, sigma_eps, alpha)\n",
    "\n",
    "K_approx = deepcopy(K_inf) # variational truncation\n"
   ]
  },
  {
   "cell_type": "markdown",
   "metadata": {},
   "source": [
    "# Define collapsed Gibbs sampler"
   ]
  },
  {
   "cell_type": "code",
   "execution_count": 46,
   "metadata": {
    "collapsed": false
   },
   "outputs": [],
   "source": [
    "def likelihood_X(X, Z_Gibbs, sigma_eps, sigma_A): \n",
    "    \n",
    "    assert np.shape(X)[0] == np.shape(Z_Gibbs)[0]\n",
    "    \n",
    "    D = np.shape(X)[1]\n",
    "    N = np.shape(X)[0]\n",
    "    K = np.shape(Z_Gibbs)[1]\n",
    "\n",
    "    var = np.dot(Z_Gibbs.T, Z_Gibbs) + sigma_eps/sigma_A * np.eye(K)\n",
    "    \n",
    "    const = np.linalg.det(var)**(D/2)\n",
    "\n",
    "    #const = (2*np.pi)**(N*D/2) * sigma_eps**((N-K)*D/2) * sigma_A**(K*D/2) * \\\n",
    "    #    np.linalg.det(var)**(D/2)\n",
    "    \n",
    "    mean_A = np.dot(np.linalg.solve(var, Z_Gibbs.T), X)\n",
    "    \n",
    "    likelihood = np.exp(-1/(2*sigma_eps) * np.trace(np.dot(X.T, X - np.dot(Z_Gibbs, mean_A)) ))\n",
    "    \n",
    "    return likelihood, mean_A\n",
    "\n",
    "def draw_Znk(X, Z_Gibbs, sigma_eps, sigma_A, n,k): \n",
    "    \n",
    "    D = np.shape(X)[1]\n",
    "    N = np.shape(X)[0]\n",
    "    K = np.shape(Z_Gibbs)[1]\n",
    "\n",
    "    P_znk1 = (np.sum(Z_Gibbs[:,k]) - Z_Gibbs[n,k] + alpha/K)/(N - 1 + alpha)\n",
    "\n",
    "    assert (P_znk1 > 0) & (P_znk1 < 1)\n",
    "    \n",
    "    P_znk0 = 1 - (np.sum(Z_Gibbs[:,k]) - Z_Gibbs[n,k] + alpha/K)/(N - 1 + alpha)\n",
    "    \n",
    "    Z_Gibbs[n,k] = 1\n",
    "    [likelihood1, _] = likelihood_X(X, Z_Gibbs, sigma_eps, sigma_A)\n",
    "    \n",
    "    Z_Gibbs[n,k] = 0\n",
    "    [likelihood0, _] = likelihood_X(X, Z_Gibbs, sigma_eps, sigma_A)\n",
    "    \n",
    "    P1 = likelihood1 * P_znk1# / (likelihood1 * P_znk1 + likelihood0 * P_znk0)\n",
    "    print(likelihood1)\n",
    "    Z_Gibbs[n,k] = np.random.binomial(1, P1)"
   ]
  },
  {
   "cell_type": "markdown",
   "metadata": {},
   "source": [
    "## Initialize"
   ]
  },
  {
   "cell_type": "code",
   "execution_count": 47,
   "metadata": {
    "collapsed": false
   },
   "outputs": [
    {
     "name": "stdout",
     "output_type": "stream",
     "text": [
      "0.0\n"
     ]
    }
   ],
   "source": [
    "Z_Gibbs = np.random.binomial(1, Pi, [ Num_samples, K_inf ])\n",
    "[lik_X, mean_A] = likelihood_X(X, Z_Gibbs, sigma_eps, sigma_A) \n",
    "\n",
    "draw_Znk(X, Z_Gibbs, sigma_eps, sigma_A, 0,0)"
   ]
  },
  {
   "cell_type": "code",
   "execution_count": 8,
   "metadata": {
    "collapsed": false
   },
   "outputs": [
    {
     "name": "stdout",
     "output_type": "stream",
     "text": [
      "[[ 1.02746715 -0.99517561 -0.77697248]\n",
      " [ 0.71193284 -1.00608378 -1.60171903]\n",
      " [-0.25237748  0.2992343   0.85045211]]\n",
      "[[ 1.02746715 -0.99517561 -0.77697248]\n",
      " [ 0.71193284 -1.00608378 -1.60171903]\n",
      " [-0.25237748  0.2992343   0.85045211]]\n"
     ]
    }
   ],
   "source": [
    "A = np.random.normal(0,1,(3,3))\n",
    "B = np.random.normal(0,1,(3,3))\n",
    "\n",
    "C = np.linalg.solve(A,B)\n",
    "\n",
    "print(np.dot(A,C))\n",
    "print(B)\n"
   ]
  },
  {
   "cell_type": "code",
   "execution_count": null,
   "metadata": {
    "collapsed": true
   },
   "outputs": [],
   "source": []
  }
 ],
 "metadata": {
  "kernelspec": {
   "display_name": "Python 3",
   "language": "python",
   "name": "python3"
  },
  "language_info": {
   "codemirror_mode": {
    "name": "ipython",
    "version": 3
   },
   "file_extension": ".py",
   "mimetype": "text/x-python",
   "name": "python",
   "nbconvert_exporter": "python",
   "pygments_lexer": "ipython3",
   "version": "3.6.0"
  }
 },
 "nbformat": 4,
 "nbformat_minor": 2
}
