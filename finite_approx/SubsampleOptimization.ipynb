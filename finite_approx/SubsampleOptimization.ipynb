{
 "cells": [
  {
   "cell_type": "code",
   "execution_count": 2,
   "metadata": {
    "collapsed": true
   },
   "outputs": [],
   "source": [
    "import autograd.numpy as np\n",
    "import autograd.scipy as sp\n",
    "from autograd.scipy import special\n",
    "from autograd import grad, hessian, hessian_vector_product, hessian, jacobian\n",
    "import matplotlib.pyplot as plt\n",
    "%matplotlib inline  \n",
    "\n",
    "from copy import deepcopy\n",
    "\n",
    "from scipy import optimize\n",
    "\n",
    "import math\n",
    "import time\n",
    "\n",
    "import valez_finite_VI_lib as vi\n",
    "from data_set_lib import DataSet\n",
    "import generic_optimization_lib as packing"
   ]
  },
  {
   "cell_type": "code",
   "execution_count": 3,
   "metadata": {
    "collapsed": true
   },
   "outputs": [],
   "source": [
    "#np.random.seed(12321)\n",
    "\n",
    "alpha = 10 # IBP parameter\n",
    "num_samples = 500 # Data set size\n",
    "D = 2 # dimension\n",
    "sigma_a = 3.0 ** 2\n",
    "sigma_eps = 1.0 ** 2 # variance of noise\n",
    "k_inf = 5 # take to be large for a good approximation to the IBP\n",
    "pi, Z, mu, A, X = vi.generate_data(num_samples, D, k_inf, sigma_a, sigma_eps, alpha)\n",
    "k_approx = k_inf\n",
    "\n",
    "tau_init, nu_init, phi_mu_init, phi_var_init = \\\n",
    "    vi.initialize_parameters(num_samples, D, k_approx)\n",
    "\n",
    "params_init = packing.pack_params(deepcopy(tau_init), deepcopy(phi_mu_init),\n",
    "                                  deepcopy(phi_var_init), deepcopy(nu_init))\n",
    "\n",
    "hyper_params = packing.pack_hyperparameters(alpha, sigma_a, sigma_eps)\n",
    "\n",
    "data_set = DataSet(X, k_approx, alpha, sigma_eps, sigma_a)"
   ]
  },
  {
   "cell_type": "code",
   "execution_count": 4,
   "metadata": {},
   "outputs": [
    {
     "data": {
      "image/png": "[encoded data removed]",
      "text/plain": [
       "<matplotlib.figure.Figure at 0x7eff8749acd0>"
      ]
     },
     "metadata": {},
     "output_type": "display_data"
    },
    {
     "data": {
      "image/png": "[encoded data removed]",
      "text/plain": [
       "<matplotlib.figure.Figure at 0x7eff874a1210>"
      ]
     },
     "metadata": {},
     "output_type": "display_data"
    }
   ],
   "source": [
    "col = 0\n",
    "plt.figure()\n",
    "plt.hist(data_set.x[:, col], bins=100);\n",
    "\n",
    "col1 = 0\n",
    "col2 = 1\n",
    "plt.figure()\n",
    "plt.plot(data_set.x[:, col1], data_set.x[:, col2], 'k.');"
   ]
  },
  {
   "cell_type": "code",
   "execution_count": 5,
   "metadata": {
    "collapsed": true
   },
   "outputs": [],
   "source": [
    "def truncate_nu(nu, nu_tol=1e-8):\n",
    "    # CAVI can return nu values that are too close to 0 or 1 for the encoding.\n",
    "    nu[nu < nu_tol] = nu_tol\n",
    "    nu[nu > 1 - nu_tol] = 1 - nu_tol\n",
    "\n",
    "def run_cavi_then_tr(data_set, param_init, maxiter=200, gtol=1e-6):\n",
    "    tau, phi_mu, phi_var, nu = data_set.unpack_params(params_init)\n",
    "    print('Running CAVI')\n",
    "    tau, nu, phi_mu, phi_var = data_set.run_cavi(\n",
    "            tau, nu, phi_mu, phi_var, max_iter=30, tol=1e-6)\n",
    "    truncate_nu(nu)\n",
    "    cavi_params = packing.pack_params(tau, phi_mu, phi_var, nu)\n",
    "    print('Running TR')\n",
    "    vb_opt = data_set.run_newton_tr(cavi_params, maxiter=maxiter, gtol=gtol)\n",
    "    return vb_opt"
   ]
  },
  {
   "cell_type": "code",
   "execution_count": 6,
   "metadata": {},
   "outputs": [
    {
     "name": "stdout",
     "output_type": "stream",
     "text": [
      "10\n"
     ]
    }
   ],
   "source": [
    "data_set.trace.print_every = 10\n",
    "subset_size = 50\n",
    "num_subsets = int(math.ceil(num_samples / subset_size))\n",
    "print num_subsets"
   ]
  },
  {
   "cell_type": "code",
   "execution_count": 10,
   "metadata": {},
   "outputs": [
    {
     "name": "stdout",
     "output_type": "stream",
     "text": [
      "Subset 0 of 10\n",
      "Step 0 objective: 47.7639276736\n",
      "Step 10 objective: 0.192910956424\n",
      "Step 20 objective: 0.617853689813\n",
      "Step 30 objective: 0.144812837876\n",
      "Step 40 objective: 0.00838269789969\n",
      "Warning: CAVI reached max_iter.\n",
      "Done with CAVI.\n",
      "Subset 1 of 10\n",
      "Step 0 objective: 46.7594039553\n",
      "Step 10 objective: 0.224608757903\n",
      "Step 20 objective: 0.0116021186087\n",
      "Step 30 objective: 0.00166502153499\n",
      "Step 40 objective: 0.000197451596314\n",
      "Warning: CAVI reached max_iter.\n",
      "Done with CAVI.\n",
      "Subset 2 of 10\n",
      "Step 0 objective: 47.3024726844\n",
      "Step 10 objective: 0.183492329472\n",
      "Step 20 objective: 0.121128200925\n",
      "Step 30 objective: 0.218492938074\n",
      "Step 40 objective: 0.0562942137192\n",
      "Warning: CAVI reached max_iter.\n",
      "Done with CAVI.\n",
      "Subset 3 of 10\n",
      "Step 0 objective: 48.8771755785\n",
      "Step 10 objective: 1.08792509056\n",
      "Step 20 objective: 0.132213398405\n",
      "Step 30 objective: 0.0803594910257\n",
      "Step 40 objective: 0.0227195995685\n",
      "Warning: CAVI reached max_iter.\n",
      "Done with CAVI.\n",
      "Subset 4 of 10\n",
      "Step 0 objective: 47.37291581\n",
      "Step 10 objective: 0.258679779711\n",
      "Step 20 objective: 0.201986785084\n",
      "Step 30 objective: 0.0427371254021\n",
      "Step 40 objective: 0.0791412653222\n",
      "Warning: CAVI reached max_iter.\n",
      "Done with CAVI.\n",
      "Subset 5 of 10\n",
      "Step 0 objective: 46.686511656\n",
      "Step 10 objective: 0.0967233141465\n",
      "Step 20 objective: 0.0202306285498\n",
      "Step 30 objective: 0.0476651246345\n",
      "Step 40 objective: 0.0871087266781\n",
      "Warning: CAVI reached max_iter.\n",
      "Done with CAVI.\n",
      "Subset 6 of 10\n",
      "Step 0 objective: 48.0289743239\n",
      "Step 10 objective: 1.10845554117\n",
      "Step 20 objective: 0.0054203064282\n",
      "Step 30 objective: 0.000670977656274\n",
      "Step 40 objective: 5.52469746502e-05\n",
      "Warning: CAVI reached max_iter.\n",
      "Done with CAVI.\n",
      "Subset 7 of 10\n",
      "Step 0 objective: 49.6492046411\n",
      "Step 10 objective: 1.24844228482\n",
      "Step 20 objective: 0.130743286593\n",
      "Step 30 objective: 0.00184109104198\n",
      "Step 40 objective: 1.38186433176e-05\n",
      "Warning: CAVI reached max_iter.\n",
      "Done with CAVI.\n",
      "Subset 8 of 10\n",
      "Step 0 objective: 45.9615409257\n",
      "Step 10 objective: 0.414382219514\n",
      "Step 20 objective: 0.0427990257921\n",
      "Step 30 objective: 0.00675752074523\n",
      "Step 40 objective: 0.00118081645512\n",
      "Warning: CAVI reached max_iter.\n",
      "Done with CAVI.\n",
      "Subset 9 of 10\n",
      "Step 0 objective: 47.8714497648\n",
      "Step 10 objective: 0.0424195150953\n",
      "Step 20 objective: 0.00346822012256\n",
      "Step 30 objective: 0.000359566788966\n",
      "Step 40 objective: 3.89222875299e-05\n",
      "Warning: CAVI reached max_iter.\n",
      "Done with CAVI.\n"
     ]
    }
   ],
   "source": [
    "params_list = []\n",
    "data_subset_list = []\n",
    "\n",
    "for subset in range(num_subsets):\n",
    "    print('Subset %d of %d' % (subset, num_subsets))\n",
    "    subset_slice = slice(subset * subset_size, (subset + 1) * subset_size)\n",
    "    data_subset = DataSet(X[subset_slice, :], k_approx, alpha, sigma_eps, sigma_a)\n",
    "    data_subset_list.append(data_subset)\n",
    "    #params_init = packing.pack_params(\n",
    "    #    tau_init, phi_mu_init, phi_var_init, )\n",
    "    #vb_opt = run_cavi_then_tr(data_subset, params_init, maxiter=20, gtol=1e-2)\n",
    "    tau, nu, phi_mu, phi_var = data_subset.run_cavi(\n",
    "            deepcopy(tau_init), deepcopy(nu_init[subset_slice, :]),\n",
    "            deepcopy(phi_mu_init), deepcopy(phi_var_init),\n",
    "            max_iter=50, tol=1e-6)\n",
    "    truncate_nu(nu)\n",
    "    cavi_params = packing.pack_params(tau, phi_mu, phi_var, nu)\n",
    "    params_list.append(cavi_params)\n"
   ]
  },
  {
   "cell_type": "code",
   "execution_count": 11,
   "metadata": {},
   "outputs": [
    {
     "ename": "NameError",
     "evalue": "name 'tr_params_list' is not defined",
     "output_type": "error",
     "traceback": [
      "\u001b[0;31m---------------------------------------------------------------------------\u001b[0m",
      "\u001b[0;31mNameError\u001b[0m                                 Traceback (most recent call last)",
      "\u001b[0;32m<ipython-input-11-f87e1c8c2e28>\u001b[0m in \u001b[0;36m<module>\u001b[0;34m()\u001b[0m\n\u001b[1;32m      4\u001b[0m \u001b[0;34m\u001b[0m\u001b[0m\n\u001b[1;32m      5\u001b[0m \u001b[0;32mfor\u001b[0m \u001b[0msubset\u001b[0m \u001b[0;32min\u001b[0m \u001b[0mrange\u001b[0m\u001b[0;34m(\u001b[0m\u001b[0mnum_subsets\u001b[0m\u001b[0;34m)\u001b[0m\u001b[0;34m:\u001b[0m\u001b[0;34m\u001b[0m\u001b[0m\n\u001b[0;32m----> 6\u001b[0;31m     \u001b[0mtr_params\u001b[0m \u001b[0;34m=\u001b[0m \u001b[0mtr_params_list\u001b[0m\u001b[0;34m[\u001b[0m\u001b[0msubset\u001b[0m\u001b[0;34m]\u001b[0m\u001b[0;34m\u001b[0m\u001b[0m\n\u001b[0m\u001b[1;32m      7\u001b[0m     \u001b[0mdata_subset\u001b[0m \u001b[0;34m=\u001b[0m \u001b[0mdata_subset_list\u001b[0m\u001b[0;34m[\u001b[0m\u001b[0msubset\u001b[0m\u001b[0;34m]\u001b[0m\u001b[0;34m\u001b[0m\u001b[0m\n\u001b[1;32m      8\u001b[0m     \u001b[0mtau\u001b[0m\u001b[0;34m,\u001b[0m \u001b[0mphi_mu\u001b[0m\u001b[0;34m,\u001b[0m \u001b[0mphi_var\u001b[0m\u001b[0;34m,\u001b[0m \u001b[0mnu\u001b[0m \u001b[0;34m=\u001b[0m \u001b[0mdata_subset\u001b[0m\u001b[0;34m.\u001b[0m\u001b[0munpack_params\u001b[0m\u001b[0;34m(\u001b[0m\u001b[0mtr_params\u001b[0m\u001b[0;34m)\u001b[0m\u001b[0;34m\u001b[0m\u001b[0m\n",
      "\u001b[0;31mNameError\u001b[0m: name 'tr_params_list' is not defined"
     ]
    },
    {
     "data": {
      "text/plain": [
       "<matplotlib.figure.Figure at 0x7eff84fbb090>"
      ]
     },
     "metadata": {},
     "output_type": "display_data"
    }
   ],
   "source": [
    "n_test_samples = 500\n",
    "plt.figure()\n",
    "all_ll = []\n",
    "\n",
    "for subset in range(num_subsets):\n",
    "    params = params_list[subset]\n",
    "    data_subset = data_subset_list[subset]\n",
    "    tau, phi_mu, phi_var, nu = data_subset.unpack_params(params)\n",
    "    phi_var_expanded = np.array([ phi_var for d in range(D)])\n",
    "    z_sample, a_sample, pi_sample = vi.generate_parameter_draws(\n",
    "        nu, phi_mu, phi_var_expanded, tau, n_test_samples)\n",
    "\n",
    "    ll = [ vi.log_lik(data_subset.x, z_sample[n, :, :], a_sample[n, :, :], pi_sample[n, :],\n",
    "                      sigma_eps, sigma_a, alpha, k_approx) for n in range(n_test_samples) ]\n",
    "\n",
    "    all_ll.extend(ll)\n",
    "    for k in range(k_approx):\n",
    "        plt.plot(a_sample[:, 0, k], a_sample[:, 1, k], 'k.')\n",
    "\n",
    "print(len(all_ll))\n",
    "logsumexp_ll = sp.misc.logsumexp(all_ll)\n",
    "plt.figure()\n",
    "plt.hist(all_ll - logsumexp_ll, bins=50);\n",
    "\n"
   ]
  },
  {
   "cell_type": "code",
   "execution_count": 10,
   "metadata": {},
   "outputs": [
    {
     "ename": "ImportError",
     "evalue": "No module named seaborn",
     "output_type": "error",
     "traceback": [
      "\u001b[0;31m---------------------------------------------------------------------------\u001b[0m",
      "\u001b[0;31mImportError\u001b[0m                               Traceback (most recent call last)",
      "\u001b[0;32m<ipython-input-10-ed9806ce3570>\u001b[0m in \u001b[0;36m<module>\u001b[0;34m()\u001b[0m\n\u001b[0;32m----> 1\u001b[0;31m \u001b[0;32mimport\u001b[0m \u001b[0mseaborn\u001b[0m \u001b[0;32mas\u001b[0m \u001b[0msns\u001b[0m\u001b[0;34m\u001b[0m\u001b[0m\n\u001b[0m",
      "\u001b[0;31mImportError\u001b[0m: No module named seaborn"
     ]
    }
   ],
   "source": [
    "import seaborn as sns"
   ]
  }
 ],
 "metadata": {
  "kernelspec": {
   "display_name": "Python 3",
   "language": "python",
   "name": "python3"
  },
  "language_info": {
   "codemirror_mode": {
    "name": "ipython",
    "version": 2
   },
   "file_extension": ".py",
   "mimetype": "text/x-python",
   "name": "python",
   "nbconvert_exporter": "python",
   "pygments_lexer": "ipython2",
   "version": "2.7.12"
  }
 },
 "nbformat": 4,
 "nbformat_minor": 2
}
