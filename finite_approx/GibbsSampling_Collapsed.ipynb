{
 "cells": [
  {
   "cell_type": "markdown",
   "metadata": {},
   "source": [
    "# Collapsed Gibbs sampler for the finite IBP approximation"
   ]
  },
  {
   "cell_type": "code",
   "execution_count": 6,
   "metadata": {
    "collapsed": false
   },
   "outputs": [],
   "source": [
    "import numpy as np\n",
    "import scipy as sp\n",
    "\n",
    "import matplotlib.pyplot as plt\n",
    "from copy import deepcopy\n",
    "\n",
    "import VI_algorithms_lib\n",
    "import valez_finite_VI_lib\n",
    "from gibbs_sampler_lib import CollapsedGibbsSampler, display_results_Gibbs, update_inv_var\n",
    "\n",
    "import cProfile\n"
   ]
  },
  {
   "cell_type": "markdown",
   "metadata": {},
   "source": [
    "## Draw data"
   ]
  },
  {
   "cell_type": "code",
   "execution_count": 7,
   "metadata": {
    "collapsed": false
   },
   "outputs": [],
   "source": [
    "# np.random.seed(5365) this seed works pretty well\n",
    "np.random.seed(6874)\n",
    "\n",
    "Num_samples = 500 # sample size\n",
    "D = 2 # dimension\n",
    "# so X will be a N\\times D matrix\n",
    "\n",
    "K_inf = 3 # take to be large for a good approximation to the IBP\n",
    "\n",
    "alpha = 10 # IBP parameter\n",
    "\n",
    "# Parameters to draw A from MVN\n",
    "sigma_eps = .1 # variance of noise\n",
    "sigma_A = 100\n",
    "\n",
    "# generate data\n",
    "Pi, Z, mu, A, X = valez_finite_VI_lib.generate_data(Num_samples, D, K_inf, sigma_A, sigma_eps, alpha)\n",
    "\n",
    "K_approx = deepcopy(K_inf) # variational truncation\n"
   ]
  },
  {
   "cell_type": "code",
   "execution_count": 2,
   "metadata": {
    "collapsed": false
   },
   "outputs": [
    {
     "ename": "NameError",
     "evalue": "name 'np' is not defined",
     "output_type": "error",
     "traceback": [
      "\u001b[0;31m---------------------------------------------------------------------------\u001b[0m",
      "\u001b[0;31mNameError\u001b[0m                                 Traceback (most recent call last)",
      "\u001b[0;32m<ipython-input-2-4c3ff67e628d>\u001b[0m in \u001b[0;36m<module>\u001b[0;34m()\u001b[0m\n\u001b[1;32m      3\u001b[0m \u001b[0;34m\u001b[0m\u001b[0m\n\u001b[1;32m      4\u001b[0m \u001b[0mt0\u001b[0m \u001b[0;34m=\u001b[0m \u001b[0mtime\u001b[0m\u001b[0;34m.\u001b[0m\u001b[0mtime\u001b[0m\u001b[0;34m(\u001b[0m\u001b[0;34m)\u001b[0m\u001b[0;34m\u001b[0m\u001b[0m\n\u001b[0;32m----> 5\u001b[0;31m \u001b[0mvar_inv\u001b[0m \u001b[0;34m=\u001b[0m \u001b[0mnp\u001b[0m\u001b[0;34m.\u001b[0m\u001b[0mlinalg\u001b[0m\u001b[0;34m.\u001b[0m\u001b[0minv\u001b[0m\u001b[0;34m(\u001b[0m\u001b[0mnp\u001b[0m\u001b[0;34m.\u001b[0m\u001b[0mdot\u001b[0m\u001b[0;34m(\u001b[0m\u001b[0mZ\u001b[0m\u001b[0;34m.\u001b[0m\u001b[0mT\u001b[0m\u001b[0;34m,\u001b[0m \u001b[0mZ\u001b[0m\u001b[0;34m)\u001b[0m \u001b[0;34m+\u001b[0m \u001b[0msigma_eps\u001b[0m\u001b[0;34m/\u001b[0m\u001b[0msigma_A\u001b[0m \u001b[0;34m*\u001b[0m \u001b[0mnp\u001b[0m\u001b[0;34m.\u001b[0m\u001b[0meye\u001b[0m\u001b[0;34m(\u001b[0m\u001b[0mK_approx\u001b[0m\u001b[0;34m)\u001b[0m\u001b[0;34m)\u001b[0m\u001b[0;34m\u001b[0m\u001b[0m\n\u001b[0m\u001b[1;32m      6\u001b[0m \u001b[0;32mfor\u001b[0m \u001b[0mn\u001b[0m \u001b[0;32min\u001b[0m \u001b[0mrange\u001b[0m\u001b[0;34m(\u001b[0m\u001b[0mNum_samples\u001b[0m\u001b[0;34m)\u001b[0m\u001b[0;34m:\u001b[0m\u001b[0;34m\u001b[0m\u001b[0m\n\u001b[1;32m      7\u001b[0m     \u001b[0;32mfor\u001b[0m \u001b[0mk\u001b[0m \u001b[0;32min\u001b[0m \u001b[0mrange\u001b[0m\u001b[0;34m(\u001b[0m\u001b[0mK_approx\u001b[0m\u001b[0;34m)\u001b[0m\u001b[0;34m:\u001b[0m\u001b[0;34m\u001b[0m\u001b[0m\n",
      "\u001b[0;31mNameError\u001b[0m: name 'np' is not defined"
     ]
    }
   ],
   "source": [
    "# look at some times manually: \n",
    "import time\n",
    "\n",
    "t0 = time.time()\n",
    "var_inv = np.linalg.inv(np.dot(Z.T, Z) + sigma_eps/sigma_A * np.eye(K_approx))\n",
    "for n in range(Num_samples): \n",
    "    for k in range(K_approx): \n",
    "\n",
    "        z_flip = deepcopy(Z)\n",
    "        z_flip[n,k] = 1 - Z[n,k]\n",
    "\n",
    "        var_inv1 = update_inv_var(z_flip, var_inv, sigma_eps, sigma_A, n, k)\n",
    "        \n",
    "t_rnk1 = time.time() - t0\n",
    "\n",
    "print('time for rank1 update: ', t_rnk1)\n",
    "\n",
    "\n",
    "t1 = time.time()\n",
    "for n in range(Num_samples): \n",
    "    for k in range(K_approx): \n",
    "\n",
    "        z_flip = deepcopy(Z)\n",
    "        z_flip[n,k] = 1 - Z[n,k]\n",
    "\n",
    "        var_inv2 = np.linalg.inv(np.dot(z_flip.T, z_flip) + sigma_eps/sigma_A * np.eye(K_approx))\n",
    "        \n",
    "t_inv = time.time() - t1\n",
    "\n",
    "#print(var_inv2)\n",
    "#print(var_inv1)\n",
    "print('time for numerical inverse: ', t_inv)\n",
    "\n"
   ]
  },
  {
   "cell_type": "code",
   "execution_count": 33,
   "metadata": {
    "collapsed": false,
    "scrolled": false
   },
   "outputs": [
    {
     "name": "stderr",
     "output_type": "stream",
     "text": [
      "\r",
      "                                                                               \r",
      "\r",
      "N/A% (0 of 12) |                         | Elapsed Time: 0:00:00 ETA:  --:--:--"
     ]
    },
    {
     "name": "stdout",
     "output_type": "stream",
     "text": [
      "Sampling:\n"
     ]
    },
    {
     "name": "stderr",
     "output_type": "stream",
     "text": [
      "100% (12 of 12) |#########################| Elapsed Time: 0:01:13 Time: 0:01:13\n"
     ]
    },
    {
     "name": "stdout",
     "output_type": "stream",
     "text": [
      "Done sampling :)\n",
      "         26727179 function calls in 73.501 seconds\n",
      "\n",
      "   Ordered by: standard name\n",
      "\n",
      "   ncalls  tottime  percall  cumtime  percall filename:lineno(function)\n",
      "        3    0.000    0.000    0.000    0.000 <frozen importlib._bootstrap>:989(_handle_fromlist)\n",
      "        1    0.000    0.000   73.501   73.501 <string>:1(<module>)\n",
      "   120000    3.698    0.000   12.105    0.000 _logsumexp.py:8(logsumexp)\n",
      "   120000    0.093    0.000    0.971    0.000 _methods.py:25(_amax)\n",
      "   240000    0.171    0.000    1.795    0.000 _methods.py:31(_sum)\n",
      "   120000    0.893    0.000    2.078    0.000 _util.py:192(_asarray_validated)\n",
      "        1    0.000    0.000    0.000    0.000 bar.py:106(__init__)\n",
      "        1    0.000    0.000    0.000    0.000 bar.py:113(start)\n",
      "       13    0.000    0.000    0.009    0.001 bar.py:128(update)\n",
      "        1    0.000    0.000    0.002    0.002 bar.py:133(finish)\n",
      "        1    0.000    0.000    0.000    0.000 bar.py:193(__init__)\n",
      "       13    0.000    0.000    0.000    0.000 bar.py:259(percentage)\n",
      "        3    0.000    0.000    0.000    0.000 bar.py:28(__init__)\n",
      "       65    0.000    0.000    0.000    0.000 bar.py:302(get_last_update_time)\n",
      "        2    0.000    0.000    0.000    0.000 bar.py:306(set_last_update_time)\n",
      "        3    0.000    0.000    0.000    0.000 bar.py:31(start)\n",
      "       13    0.000    0.000    0.000    0.000 bar.py:314(data)\n",
      "       39    0.000    0.000    0.000    0.000 bar.py:34(update)\n",
      "        1    0.000    0.000    0.000    0.000 bar.py:368(default_widgets)\n",
      "        3    0.000    0.000    0.000    0.000 bar.py:37(finish)\n",
      "        1    0.000    0.000    0.000    0.000 bar.py:389(__call__)\n",
      "        1    0.000    0.000    0.000    0.000 bar.py:403(__iter__)\n",
      "       13    0.000    0.000    0.052    0.004 bar.py:406(__next__)\n",
      "       13    0.001    0.000    0.003    0.000 bar.py:433(_format_widgets)\n",
      "      130    0.000    0.000    0.000    0.000 bar.py:464(_to_unicode)\n",
      "       13    0.000    0.000    0.004    0.000 bar.py:469(_format_line)\n",
      "        1    0.000    0.000    0.000    0.000 bar.py:47(__init__)\n",
      "       13    0.000    0.000    0.000    0.000 bar.py:479(_needs_update)\n",
      "       13    0.000    0.000    0.050    0.004 bar.py:501(update)\n",
      "        1    0.000    0.000    0.002    0.002 bar.py:546(start)\n",
      "       13    0.000    0.000    0.006    0.000 bar.py:57(update)\n",
      "        1    0.000    0.000    0.005    0.005 bar.py:589(finish)\n",
      "        1    0.000    0.000    0.002    0.002 bar.py:62(finish)\n",
      "        1    0.000    0.000    0.000    0.000 bar.py:72(__init__)\n",
      "        1    0.000    0.000    0.000    0.000 bar.py:88(_handle_resize)\n",
      "        1    0.000    0.000    0.000    0.000 bar.py:94(finish)\n",
      "   120000    0.081    0.000    0.152    0.000 base.py:1111(isspmatrix)\n",
      "        1    0.000    0.000    0.000    0.000 configurable.py:381(instance)\n",
      "        1    0.000    0.000    0.000    0.000 configurable.py:426(initialized)\n",
      "      235    0.000    0.000    0.000    0.000 converters.py:159(to_unicode)\n",
      "   129328    0.768    0.000    1.857    0.000 copy.py:132(deepcopy)\n",
      "   129328    0.496    0.000    0.557    0.000 copy.py:252(_keep_alive)\n",
      "  1200000    2.744    0.000    4.684    0.000 core.py:129(__call__)\n",
      "  5760000    3.105    0.000    3.105    0.000 core.py:272(<lambda>)\n",
      "  1200000    0.689    0.000    1.370    0.000 core.py:273(<lambda>)\n",
      "   120000    0.073    0.000    0.113    0.000 core.py:6192(isMaskedArray)\n",
      "  2760000   12.079    0.000   48.866    0.000 core.py:73(__call__)\n",
      "        3    0.000    0.000    0.000    0.000 enum.py:265(__call__)\n",
      "        3    0.000    0.000    0.000    0.000 enum.py:515(__new__)\n",
      "        1    0.000    0.000    0.000    0.000 enum.py:544(_missing_)\n",
      "   120000    0.118    0.000    0.338    0.000 fromnumeric.py:1143(squeeze)\n",
      "   120000    0.288    0.000    2.070    0.000 fromnumeric.py:1317(trace)\n",
      "  1200000    0.570    0.000    0.570    0.000 fromnumeric.py:1565(shape)\n",
      "   240000    1.005    0.000    2.938    0.000 fromnumeric.py:1730(sum)\n",
      "   120000    0.500    0.000    1.471    0.000 fromnumeric.py:2174(amax)\n",
      "        1    0.000    0.000    0.000    0.000 getipython.py:17(get_ipython)\n",
      "   235336    0.812    0.000    3.659    0.000 gibbs_sampler_lib.py:145(update_z)\n",
      "       12    3.118    0.260   73.448    6.121 gibbs_sampler_lib.py:158(draw_z)\n",
      "        1    0.000    0.000   73.501   73.501 gibbs_sampler_lib.py:207(sample)\n",
      "   120000    2.595    0.000   46.870    0.000 gibbs_sampler_lib.py:217(update_x_lp_cond_z)\n",
      "   120000    8.607    0.000   29.104    0.000 gibbs_sampler_lib.py:244(update_inv_var)\n",
      "   235336    2.846    0.000    2.846    0.000 gibbs_sampler_lib.py:295(flip_zx)\n",
      "       75    0.045    0.001    0.047    0.001 iostream.py:180(schedule)\n",
      "       31    0.000    0.000    0.000    0.000 iostream.py:285(_is_master_process)\n",
      "       31    0.000    0.000    0.003    0.000 iostream.py:298(_schedule_flush)\n",
      "       14    0.000    0.000    0.042    0.003 iostream.py:312(flush)\n",
      "       31    0.000    0.000    0.007    0.000 iostream.py:361(write)\n",
      "       75    0.000    0.000    0.000    0.000 iostream.py:89(_event_pipe)\n",
      "   240000    0.138    0.000    0.207    0.000 linalg.py:111(isComplexType)\n",
      "   240000    0.153    0.000    0.246    0.000 linalg.py:124(_realType)\n",
      "   120000    0.448    0.000    0.751    0.000 linalg.py:139(_commonType)\n",
      "   120000    4.949    0.000    7.684    0.000 linalg.py:1661(slogdet)\n",
      "   120000    0.131    0.000    0.131    0.000 linalg.py:198(_assertRankAtLeast2)\n",
      "   120000    0.333    0.000    0.540    0.000 linalg.py:209(_assertNdSquareness)\n",
      "   480000    5.019    0.000    6.718    0.000 numeric.py:1076(outer)\n",
      "   240000    0.202    0.000    0.304    0.000 numeric.py:2135(isscalar)\n",
      "   240000    0.978    0.000    2.348    0.000 numeric.py:2667(seterr)\n",
      "   240000    0.883    0.000    0.945    0.000 numeric.py:2767(geterr)\n",
      "   120000    0.236    0.000    0.297    0.000 numeric.py:3060(__init__)\n",
      "   120000    0.231    0.000    1.580    0.000 numeric.py:3064(__enter__)\n",
      "   120000    0.237    0.000    1.236    0.000 numeric.py:3069(__exit__)\n",
      "  1200000    0.624    0.000    2.181    0.000 numeric.py:463(asarray)\n",
      "   120000    0.072    0.000    0.188    0.000 numeric.py:534(asanyarray)\n",
      "        3    0.000    0.000    0.000    0.000 signal.py:25(_int_to_enum)\n",
      "        4    0.000    0.000    0.000    0.000 signal.py:35(_enum_to_int)\n",
      "        2    0.000    0.000    0.000    0.000 signal.py:45(signal)\n",
      "        1    0.000    0.000    0.000    0.000 signal.py:51(getsignal)\n",
      "       89    0.000    0.000    0.000    0.000 threading.py:1062(_wait_for_tstate_lock)\n",
      "       89    0.000    0.000    0.001    0.000 threading.py:1104(is_alive)\n",
      "       14    0.000    0.000    0.000    0.000 threading.py:215(__init__)\n",
      "       14    0.000    0.000    0.000    0.000 threading.py:239(__enter__)\n",
      "       14    0.000    0.000    0.000    0.000 threading.py:242(__exit__)\n",
      "        1    0.000    0.000    0.000    0.000 threading.py:248(_release_save)\n",
      "        1    0.000    0.000    0.000    0.000 threading.py:251(_acquire_restore)\n",
      "        1    0.000    0.000    0.000    0.000 threading.py:254(_is_owned)\n",
      "        1    0.000    0.000    0.001    0.001 threading.py:263(wait)\n",
      "       14    0.000    0.000    0.001    0.000 threading.py:498(__init__)\n",
      "       89    0.000    0.000    0.000    0.000 threading.py:506(is_set)\n",
      "       14    0.000    0.000    0.001    0.000 threading.py:533(wait)\n",
      "       25    0.000    0.000    0.000    0.000 utils.py:101(timedelta_to_seconds)\n",
      "        1    0.000    0.000    0.000    0.000 utils.py:149(get_terminal_size)\n",
      "       37    0.001    0.000    0.001    0.000 utils.py:301(format_time)\n",
      "       14    0.000    0.000    0.000    0.000 utils.py:73(flush)\n",
      "        5    0.000    0.000    0.000    0.000 widgets.py:115(__init__)\n",
      "        2    0.000    0.000    0.000    0.000 widgets.py:187(__init__)\n",
      "       26    0.000    0.000    0.001    0.000 widgets.py:191(__call__)\n",
      "        2    0.000    0.000    0.000    0.000 widgets.py:210(__init__)\n",
      "        1    0.000    0.000    0.000    0.000 widgets.py:219(__init__)\n",
      "       13    0.000    0.000    0.000    0.000 widgets.py:223(get_sample_times)\n",
      "       13    0.000    0.000    0.000    0.000 widgets.py:226(get_sample_values)\n",
      "       13    0.000    0.000    0.000    0.000 widgets.py:229(__call__)\n",
      "        3    0.000    0.000    0.000    0.000 widgets.py:23(string_or_lambda)\n",
      "       39    0.000    0.000    0.000    0.000 widgets.py:25(render_input)\n",
      "        1    0.000    0.000    0.000    0.000 widgets.py:253(__init__)\n",
      "       13    0.000    0.000    0.000    0.000 widgets.py:269(_calculate_eta)\n",
      "       13    0.000    0.000    0.001    0.000 widgets.py:281(__call__)\n",
      "        1    0.000    0.000    0.000    0.000 widgets.py:33(create_marker)\n",
      "       13    0.000    0.000    0.000    0.000 widgets.py:34(_marker)\n",
      "        1    0.000    0.000    0.000    0.000 widgets.py:347(__init__)\n",
      "       13    0.000    0.000    0.001    0.000 widgets.py:351(__call__)\n",
      "        1    0.000    0.000    0.000    0.000 widgets.py:498(__init__)\n",
      "       13    0.000    0.000    0.000    0.000 widgets.py:502(__call__)\n",
      "        1    0.000    0.000    0.000    0.000 widgets.py:516(__init__)\n",
      "       13    0.000    0.000    0.000    0.000 widgets.py:521(__call__)\n",
      "        1    0.000    0.000    0.000    0.000 widgets.py:564(__init__)\n",
      "       13    0.000    0.000    0.000    0.000 widgets.py:585(__call__)\n",
      "        4    0.000    0.000    0.000    0.000 widgets.py:67(__init__)\n",
      "       54    0.000    0.000    0.000    0.000 widgets.py:70(__call__)\n",
      "        2    0.000    0.000    0.000    0.000 widgets.py:86(__init__)\n",
      "       26    0.000    0.000    0.000    0.000 widgets.py:90(check_size)\n",
      "        1    0.000    0.000    0.000    0.000 {built-in method _signal.getsignal}\n",
      "        2    0.000    0.000    0.000    0.000 {built-in method _signal.signal}\n",
      "       15    0.000    0.000    0.000    0.000 {built-in method _thread.allocate_lock}\n",
      "        1    0.000    0.000   73.501   73.501 {built-in method builtins.exec}\n",
      "   129337    0.065    0.000    0.065    0.000 {built-in method builtins.getattr}\n",
      "        6    0.000    0.000    0.000    0.000 {built-in method builtins.hasattr}\n",
      "   387984    0.120    0.000    0.120    0.000 {built-in method builtins.id}\n",
      "   840567    0.440    0.000    0.440    0.000 {built-in method builtins.isinstance}\n",
      "   489328    0.166    0.000    0.166    0.000 {built-in method builtins.issubclass}\n",
      "        1    0.000    0.000    0.000    0.000 {built-in method builtins.iter}\n",
      "   240186    0.060    0.000    0.060    0.000 {built-in method builtins.len}\n",
      "   120029    0.136    0.000    0.136    0.000 {built-in method builtins.max}\n",
      "   120002    0.070    0.000    0.070    0.000 {built-in method builtins.min}\n",
      "       13    0.000    0.000    0.000    0.000 {built-in method builtins.next}\n",
      "        2    0.000    0.000    0.001    0.000 {built-in method builtins.print}\n",
      "       65    0.000    0.000    0.000    0.000 {built-in method fromtimestamp}\n",
      "       13    0.000    0.000    0.000    0.000 {built-in method math.ceil}\n",
      "       15    0.000    0.000    0.000    0.000 {built-in method now}\n",
      "  1320000    1.673    0.000    1.673    0.000 {built-in method numpy.core.multiarray.array}\n",
      "  1200000    2.774    0.000    2.774    0.000 {built-in method numpy.core.multiarray.dot}\n",
      "   120000    0.452    0.000    0.452    0.000 {built-in method numpy.core.multiarray.zeros}\n",
      "   480000    0.190    0.000    0.190    0.000 {built-in method numpy.core.umath.geterrobj}\n",
      "   240000    0.297    0.000    0.297    0.000 {built-in method numpy.core.umath.seterrobj}\n",
      "       31    0.000    0.000    0.000    0.000 {built-in method posix.getpid}\n",
      "       75    0.002    0.000    0.002    0.000 {built-in method posix.urandom}\n",
      "        1    0.000    0.000    0.000    0.000 {built-in method time.mktime}\n",
      "       26    0.000    0.000    0.000    0.000 {built-in method time.time}\n",
      "     4664    0.016    0.000    0.016    0.000 {method '__deepcopy__' of 'numpy.generic' objects}\n",
      "   124664    0.218    0.000    0.218    0.000 {method '__deepcopy__' of 'numpy.ndarray' objects}\n",
      "       14    0.000    0.000    0.000    0.000 {method '__enter__' of '_thread.lock' objects}\n",
      "       14    0.000    0.000    0.000    0.000 {method '__exit__' of '_thread.lock' objects}\n",
      "       93    0.001    0.000    0.001    0.000 {method 'acquire' of '_thread.lock' objects}\n",
      "        1    0.000    0.000    0.000    0.000 {method 'append' of 'collections.deque' objects}\n",
      "      153    0.000    0.000    0.000    0.000 {method 'append' of 'list' objects}\n",
      "   240000    0.663    0.000    0.663    0.000 {method 'astype' of 'numpy.generic' objects}\n",
      "   120000    1.032    0.000    1.032    0.000 {method 'binomial' of 'mtrand.RandomState' objects}\n",
      "        1    0.000    0.000    0.000    0.000 {method 'copy' of 'dict' objects}\n",
      "        1    0.000    0.000    0.000    0.000 {method 'disable' of '_lsprof.Profiler' objects}\n",
      "   498709    0.217    0.000    0.217    0.000 {method 'get' of 'dict' objects}\n",
      "       13    0.000    0.000    0.000    0.000 {method 'insert' of 'list' objects}\n",
      "       26    0.000    0.000    0.000    0.000 {method 'items' of 'dict' objects}\n",
      "       13    0.000    0.000    0.000    0.000 {method 'join' of 'str' objects}\n",
      "       26    0.000    0.000    0.000    0.000 {method 'ljust' of 'str' objects}\n",
      "   120001    0.060    0.000    0.060    0.000 {method 'pop' of 'dict' objects}\n",
      "       19    0.000    0.000    0.000    0.000 {method 'pop' of 'list' objects}\n",
      "   960000    0.588    0.000    0.588    0.000 {method 'ravel' of 'numpy.ndarray' objects}\n",
      "   360000    2.502    0.000    2.502    0.000 {method 'reduce' of 'numpy.ufunc' objects}\n",
      "        1    0.000    0.000    0.000    0.000 {method 'release' of '_thread.lock' objects}\n",
      "       13    0.000    0.000    0.000    0.000 {method 'rjust' of 'str' objects}\n",
      "       27    0.000    0.000    0.000    0.000 {method 'setdefault' of 'dict' objects}\n",
      "   120000    0.219    0.000    0.219    0.000 {method 'squeeze' of 'numpy.ndarray' objects}\n",
      "        1    0.000    0.000    0.000    0.000 {method 'timetuple' of 'datetime.datetime' objects}\n",
      "       74    0.000    0.000    0.000    0.000 {method 'total_seconds' of 'datetime.timedelta' objects}\n",
      "   120000    1.503    0.000    1.503    0.000 {method 'trace' of 'numpy.ndarray' objects}\n",
      "\n",
      "\n"
     ]
    }
   ],
   "source": [
    "# experimenting with profiler\n",
    "collapsed_GS = CollapsedGibbsSampler(X, K_approx, alpha, sigma_eps, sigma_A)\n",
    "\n",
    "cProfile.run('collapsed_GS.sample(2, 10)')"
   ]
  },
  {
   "cell_type": "markdown",
   "metadata": {},
   "source": [
    "## Run collapsed Gibbs sampler"
   ]
  },
  {
   "cell_type": "code",
   "execution_count": null,
   "metadata": {
    "collapsed": false,
    "scrolled": true
   },
   "outputs": [
    {
     "name": "stderr",
     "output_type": "stream",
     "text": [
      "\r",
      "                                                                               \r",
      "\r",
      "N/A% (0 of 600) |                        | Elapsed Time: 0:00:00 ETA:  --:--:--"
     ]
    },
    {
     "name": "stdout",
     "output_type": "stream",
     "text": [
      "Sampling:\n"
     ]
    },
    {
     "name": "stderr",
     "output_type": "stream",
     "text": [
      " 97% (582 of 600) |####################### | Elapsed Time: 0:04:14 ETA: 0:00:07"
     ]
    }
   ],
   "source": [
    "collapsed_GS = CollapsedGibbsSampler(X, K_approx, alpha, sigma_eps, sigma_A)\n",
    "\n",
    "collapsed_GS.sample(100, 500)"
   ]
  },
  {
   "cell_type": "code",
   "execution_count": null,
   "metadata": {
    "collapsed": false
   },
   "outputs": [],
   "source": [
    "post_mean_Z = np.mean(collapsed_GS.z_draws, 0)\n",
    "#post_mean_Z = collapsed_GS.z\n",
    "tmp = np.dot(post_mean_Z.T, post_mean_Z) + sigma_eps/sigma_A * np.eye(K_approx)\n",
    "mean_A = np.dot(np.linalg.solve(tmp, post_mean_Z.T), X)\n",
    "\n",
    "display_results_Gibbs(X, Z, post_mean_Z, mean_A, A, manual_perm = None)"
   ]
  },
  {
   "cell_type": "markdown",
   "metadata": {},
   "source": [
    "## Run VB"
   ]
  },
  {
   "cell_type": "code",
   "execution_count": 5,
   "metadata": {
    "collapsed": false,
    "scrolled": false
   },
   "outputs": [
    {
     "ename": "TypeError",
     "evalue": "nu_updates() got an unexpected keyword argument 'anneal_temp'",
     "output_type": "error",
     "traceback": [
      "\u001b[0;31m---------------------------------------------------------------------------\u001b[0m",
      "\u001b[0;31mTypeError\u001b[0m                                 Traceback (most recent call last)",
      "\u001b[0;32m<ipython-input-5-eb12e0abf8e3>\u001b[0m in \u001b[0;36m<module>\u001b[0;34m()\u001b[0m\n\u001b[1;32m      6\u001b[0m \u001b[0;32mfor\u001b[0m \u001b[0mi\u001b[0m \u001b[0;32min\u001b[0m \u001b[0mrange\u001b[0m\u001b[0;34m(\u001b[0m\u001b[0mn_restart\u001b[0m\u001b[0;34m)\u001b[0m\u001b[0;34m:\u001b[0m\u001b[0;34m\u001b[0m\u001b[0m\n\u001b[1;32m      7\u001b[0m     \u001b[0mVI_instance\u001b[0m\u001b[0;34m.\u001b[0m\u001b[0mre_init\u001b[0m\u001b[0;34m(\u001b[0m\u001b[0;34m)\u001b[0m \u001b[0;31m# re initialize\u001b[0m\u001b[0;34m\u001b[0m\u001b[0m\n\u001b[0;32m----> 8\u001b[0;31m     \u001b[0;34m[\u001b[0m\u001b[0mtau_tmp\u001b[0m\u001b[0;34m,\u001b[0m \u001b[0mnu_tmp\u001b[0m\u001b[0;34m,\u001b[0m \u001b[0mphi_mu_tmp\u001b[0m\u001b[0;34m,\u001b[0m \u001b[0mphi_var_tmp\u001b[0m\u001b[0;34m,\u001b[0m \u001b[0melbo\u001b[0m\u001b[0;34m]\u001b[0m         \u001b[0;34m=\u001b[0m \u001b[0mVI_instance\u001b[0m\u001b[0;34m.\u001b[0m\u001b[0mrun_cavi_anneal\u001b[0m\u001b[0;34m(\u001b[0m\u001b[0mmax_iter\u001b[0m\u001b[0;34m=\u001b[0m\u001b[0;36m500\u001b[0m\u001b[0;34m,\u001b[0m \u001b[0mtol\u001b[0m\u001b[0;34m=\u001b[0m\u001b[0;36m1e-6\u001b[0m\u001b[0;34m,\u001b[0m \u001b[0mverbose\u001b[0m \u001b[0;34m=\u001b[0m \u001b[0;32mFalse\u001b[0m\u001b[0;34m)\u001b[0m \u001b[0;31m# run cavi + annealing\u001b[0m\u001b[0;34m\u001b[0m\u001b[0m\n\u001b[0m\u001b[1;32m      9\u001b[0m \u001b[0;34m\u001b[0m\u001b[0m\n\u001b[1;32m     10\u001b[0m     \u001b[0melbo_end\u001b[0m \u001b[0;34m=\u001b[0m \u001b[0mnp\u001b[0m\u001b[0;34m.\u001b[0m\u001b[0mappend\u001b[0m\u001b[0;34m(\u001b[0m\u001b[0melbo_end\u001b[0m\u001b[0;34m,\u001b[0m \u001b[0melbo\u001b[0m\u001b[0;34m[\u001b[0m\u001b[0;34m-\u001b[0m\u001b[0;36m1\u001b[0m\u001b[0;34m]\u001b[0m\u001b[0;34m)\u001b[0m\u001b[0;34m\u001b[0m\u001b[0m\n",
      "\u001b[0;32m/home/runjing_liu/Documents/BNP/Variational_BNP_robustness/finite_approx/VI_algorithms_lib.py\u001b[0m in \u001b[0;36mrun_cavi_anneal\u001b[0;34m(self, rho, max_iter, tol, verbose)\u001b[0m\n\u001b[1;32m    227\u001b[0m \u001b[0;34m\u001b[0m\u001b[0m\n\u001b[1;32m    228\u001b[0m             cavi_anneal_update(self.tau, self.nu, self.phi_mu, self.phi_var, \\\n\u001b[0;32m--> 229\u001b[0;31m                 self.x, self.alpha, self.sigmas, anneal_temp, step_size)\n\u001b[0m\u001b[1;32m    230\u001b[0m \u001b[0;34m\u001b[0m\u001b[0m\n\u001b[1;32m    231\u001b[0m             elbo = np.append(elbo, vi.compute_elbo(\\\n",
      "\u001b[0;32m/home/runjing_liu/Documents/BNP/Variational_BNP_robustness/finite_approx/VI_algorithms_lib.py\u001b[0m in \u001b[0;36mcavi_anneal_update\u001b[0;34m(tau, nu, phi_mu, phi_var, X, alpha, sigmas, anneal_temp, step_size, stochastic, random_seed)\u001b[0m\n\u001b[1;32m     29\u001b[0m             \u001b[0;32mfor\u001b[0m \u001b[0mk\u001b[0m \u001b[0;32min\u001b[0m \u001b[0mrange\u001b[0m\u001b[0;34m(\u001b[0m\u001b[0mK\u001b[0m\u001b[0;34m)\u001b[0m\u001b[0;34m:\u001b[0m\u001b[0;34m\u001b[0m\u001b[0m\n\u001b[1;32m     30\u001b[0m                 vi.nu_updates(tau, nu, phi_mu, phi_var, X, sigmas, n, k, \\\n\u001b[0;32m---> 31\u001b[0;31m                     digamma_tau, anneal_temp = anneal_temp)\n\u001b[0m\u001b[1;32m     32\u001b[0m \u001b[0;34m\u001b[0m\u001b[0m\n\u001b[1;32m     33\u001b[0m         \u001b[0;32mfor\u001b[0m \u001b[0mk\u001b[0m \u001b[0;32min\u001b[0m \u001b[0mrange\u001b[0m\u001b[0;34m(\u001b[0m\u001b[0mK\u001b[0m\u001b[0;34m)\u001b[0m\u001b[0;34m:\u001b[0m\u001b[0;34m\u001b[0m\u001b[0m\n",
      "\u001b[0;31mTypeError\u001b[0m: nu_updates() got an unexpected keyword argument 'anneal_temp'"
     ]
    }
   ],
   "source": [
    "VI_instance = VI_algorithms_lib.VI_algorithms(X, K_approx, alpha, sigma_eps, sigma_A)\n",
    "\n",
    "n_restart = 20\n",
    "elbo_end = np.array([])\n",
    "\n",
    "for i in range(n_restart): \n",
    "    VI_instance.re_init() # re initialize\n",
    "    [tau_tmp, nu_tmp, phi_mu_tmp, phi_var_tmp, elbo] \\\n",
    "        = VI_instance.run_cavi_anneal(max_iter=500, tol=1e-6, verbose = False) # run cavi + annealing\n",
    "        \n",
    "    elbo_end = np.append(elbo_end, elbo[-1])\n",
    "    \n",
    "    # see if posterior predictive is better than all previous ones\n",
    "    if (i == 0) or np.all(elbo_end[i] > elbo_end[:i]): \n",
    "        tau = deepcopy(tau_tmp)\n",
    "        nu = deepcopy(nu_tmp)\n",
    "        phi_mu = deepcopy(phi_mu_tmp)\n",
    "        phi_var = deepcopy(phi_var_tmp)\n",
    "    \n",
    "    \n",
    "print('max elbo: ', np.max(elbo_end))\n",
    "print('average elbo', np.mean(elbo_end))\n",
    "\n",
    "valez_finite_VI_lib.display_results(elbo, tau, nu, phi_mu, phi_var, X, Pi, Z, A)"
   ]
  },
  {
   "cell_type": "code",
   "execution_count": null,
   "metadata": {
    "collapsed": false
   },
   "outputs": [],
   "source": [
    "# compare results\n",
    "VI_pred_X = np.dot(nu, phi_mu.T)\n",
    "Gibbs_pred_X = np.dot(Z_Gibbs, mean_A)\n",
    "\n",
    "for col in range(D):\n",
    "    plt.clf()\n",
    "    plt.plot(VI_pred_X[:, col], Gibbs_pred_X[:, col], 'ko')\n",
    "    diag = np.linspace(np.min(VI_pred_X[:,col]),np.max(VI_pred_X[:,col]))\n",
    "    plt.plot(diag,diag)\n",
    "    \n",
    "    plt.title('Posterior predictive, VB vs Gibbs, column' + str(col))\n",
    "    plt.xlabel('VI_pred_X')\n",
    "    plt.ylabel('Gibbs_pred_X')\n",
    "    plt.show()\n"
   ]
  },
  {
   "cell_type": "code",
   "execution_count": null,
   "metadata": {
    "collapsed": true
   },
   "outputs": [],
   "source": [
    "def test_fun(x): \n",
    "    x[0] = x[0]+1 \n",
    "    y = x ** 2\n",
    "    return(y)"
   ]
  },
  {
   "cell_type": "code",
   "execution_count": null,
   "metadata": {
    "collapsed": false
   },
   "outputs": [],
   "source": [
    "x = np.array([2,3])\n",
    "test_fun(x)\n",
    "print(x)"
   ]
  },
  {
   "cell_type": "code",
   "execution_count": null,
   "metadata": {
    "collapsed": true
   },
   "outputs": [],
   "source": [
    "# posterior covariances of mu\n",
    "# compare against truth\n",
    "# rank 1 updates\n",
    "# bigger data\n",
    "# beta parameter type"
   ]
  }
 ],
 "metadata": {
  "kernelspec": {
   "display_name": "Python 3",
   "language": "python",
   "name": "python3"
  },
  "language_info": {
   "codemirror_mode": {
    "name": "ipython",
    "version": 3
   },
   "file_extension": ".py",
   "mimetype": "text/x-python",
   "name": "python",
   "nbconvert_exporter": "python",
   "pygments_lexer": "ipython3",
   "version": "3.6.0"
  }
 },
 "nbformat": 4,
 "nbformat_minor": 2
}
